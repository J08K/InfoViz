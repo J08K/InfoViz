{
 "cells": [
  {
   "cell_type": "markdown",
   "metadata": {},
   "source": "# Autocratische Bestuursvormen Verminderen de Persvrijheid"
  },
  {
   "metadata": {
    "ExecuteTime": {
     "end_time": "2024-06-27T12:50:46.534265Z",
     "start_time": "2024-06-27T12:50:45.977767Z"
    }
   },
   "cell_type": "code",
   "source": [
    "import pandas as pd\n",
    "\n",
    "import plotly.graph_objects as go\n",
    "from plotly.offline import init_notebook_mode\n",
    "import plotly.express as px\n",
    "\n",
    "init_notebook_mode(connected=True)\n",
    "\n",
    "# Laad de dataset\n",
    "eind_df = pd.read_pickle('./data/dataset.pkl')"
   ],
   "outputs": [
    {
     "data": {
      "text/html": [
       "        <script type=\"text/javascript\">\n",
       "        window.PlotlyConfig = {MathJaxConfig: 'local'};\n",
       "        if (window.MathJax && window.MathJax.Hub && window.MathJax.Hub.Config) {window.MathJax.Hub.Config({SVG: {font: \"STIX-Web\"}});}\n",
       "        if (typeof require !== 'undefined') {\n",
       "        require.undef(\"plotly\");\n",
       "        requirejs.config({\n",
       "            paths: {\n",
       "                'plotly': ['https://cdn.plot.ly/plotly-2.32.0.min']\n",
       "            }\n",
       "        });\n",
       "        require(['plotly'], function(Plotly) {\n",
       "            window._Plotly = Plotly;\n",
       "        });\n",
       "        }\n",
       "        </script>\n",
       "        "
      ]
     },
     "metadata": {},
     "output_type": "display_data"
    }
   ],
   "execution_count": 1
  },
  {
   "cell_type": "markdown",
   "metadata": {},
   "source": [
    "## Argument 1\n",
    "\n",
    "**Landen met een meer autocratische bestuursvorm hebben een lagere persvrijheid.**\n",
    "\n",
    "Het verschil tussen democratische en autocratische bestuursvormen benadrukken is essentieel voor het begrijpen van de impact op persvrijheid. Democratische systemen kenmerken zich door politieke pluraliteit, burgerlijke vrijheden en transparantie, waarbij de pers een cruciale rol speelt in controle en openbaar debat. Autocratische regimes daarentegen concentreren de macht, beperken politieke vrijheden en onderdrukken oppositie en vrije media. Deze regimes gebruiken censuur, arrestaties van journalisten en controle over mediakanalen om kritiek te onderdrukken en de informatiestroom en publieke opinie te manipuleren.\n",
    "\n",
    "In figuur 4 wordt een pie chart gepresenteerd die de verandering in de democratie rangschikking tussen 2019 en 2023 weergeeft. Hieruit blijkt dat 51.1% van de landen (groen) een verbetering in rang heeft ervaren, wat betekent dat ze democratischer zijn geworden. Daarentegen is 10.1% van de landen (blauw) gelijk gebleven, terwijl 38.8% van de landen (rood) een verslechtering heeft ondergaan, wat wijst op toenemende autocratische ontwikkelingen."
   ]
  },
  {
   "cell_type": "code",
   "metadata": {
    "ExecuteTime": {
     "end_time": "2024-06-27T12:50:46.565266Z",
     "start_time": "2024-06-27T12:50:46.536266Z"
    }
   },
   "source": [
    "# Creëer een pie chart van de verandering van de democratie rangen\n",
    "\n",
    "status_counts = pd.Series(['Verslechterd' if x < 0 else 'Verbeterd' if x > 0 else 'Gelijk gebleven' for x in eind_df['democratie_verandering']]).value_counts()\n",
    "\n",
    "\n",
    "fig_status = go.Figure(data=[go.Pie(\n",
    "    labels=status_counts.index,\n",
    "    values=status_counts.values,\n",
    "    marker=dict(colors=['green', 'red', 'blue'])\n",
    ")])\n",
    "\n",
    "fig_status.update_layout(\n",
    "    title='Verandering in Democratie rangschikking sinds 2019 per 2023',\n",
    "    legend_title='Status'\n",
    ")\n",
    "\n",
    "fig_status.show()\n",
    "\n",
    "print('Figuur 4')"
   ],
   "outputs": [
    {
     "data": {
      "application/vnd.plotly.v1+json": {
       "data": [
        {
         "labels": [
          "Verbeterd",
          "Verslechterd",
          "Gelijk gebleven"
         ],
         "marker": {
          "colors": [
           "green",
           "red",
           "blue"
          ]
         },
         "values": [
          71,
          54,
          14
         ],
         "type": "pie"
        }
       ],
       "layout": {
        "template": {
         "data": {
          "histogram2dcontour": [
           {
            "type": "histogram2dcontour",
            "colorbar": {
             "outlinewidth": 0,
             "ticks": ""
            },
            "colorscale": [
             [
              0.0,
              "#0d0887"
             ],
             [
              0.1111111111111111,
              "#46039f"
             ],
             [
              0.2222222222222222,
              "#7201a8"
             ],
             [
              0.3333333333333333,
              "#9c179e"
             ],
             [
              0.4444444444444444,
              "#bd3786"
             ],
             [
              0.5555555555555556,
              "#d8576b"
             ],
             [
              0.6666666666666666,
              "#ed7953"
             ],
             [
              0.7777777777777778,
              "#fb9f3a"
             ],
             [
              0.8888888888888888,
              "#fdca26"
             ],
             [
              1.0,
              "#f0f921"
             ]
            ]
           }
          ],
          "choropleth": [
           {
            "type": "choropleth",
            "colorbar": {
             "outlinewidth": 0,
             "ticks": ""
            }
           }
          ],
          "histogram2d": [
           {
            "type": "histogram2d",
            "colorbar": {
             "outlinewidth": 0,
             "ticks": ""
            },
            "colorscale": [
             [
              0.0,
              "#0d0887"
             ],
             [
              0.1111111111111111,
              "#46039f"
             ],
             [
              0.2222222222222222,
              "#7201a8"
             ],
             [
              0.3333333333333333,
              "#9c179e"
             ],
             [
              0.4444444444444444,
              "#bd3786"
             ],
             [
              0.5555555555555556,
              "#d8576b"
             ],
             [
              0.6666666666666666,
              "#ed7953"
             ],
             [
              0.7777777777777778,
              "#fb9f3a"
             ],
             [
              0.8888888888888888,
              "#fdca26"
             ],
             [
              1.0,
              "#f0f921"
             ]
            ]
           }
          ],
          "heatmap": [
           {
            "type": "heatmap",
            "colorbar": {
             "outlinewidth": 0,
             "ticks": ""
            },
            "colorscale": [
             [
              0.0,
              "#0d0887"
             ],
             [
              0.1111111111111111,
              "#46039f"
             ],
             [
              0.2222222222222222,
              "#7201a8"
             ],
             [
              0.3333333333333333,
              "#9c179e"
             ],
             [
              0.4444444444444444,
              "#bd3786"
             ],
             [
              0.5555555555555556,
              "#d8576b"
             ],
             [
              0.6666666666666666,
              "#ed7953"
             ],
             [
              0.7777777777777778,
              "#fb9f3a"
             ],
             [
              0.8888888888888888,
              "#fdca26"
             ],
             [
              1.0,
              "#f0f921"
             ]
            ]
           }
          ],
          "heatmapgl": [
           {
            "type": "heatmapgl",
            "colorbar": {
             "outlinewidth": 0,
             "ticks": ""
            },
            "colorscale": [
             [
              0.0,
              "#0d0887"
             ],
             [
              0.1111111111111111,
              "#46039f"
             ],
             [
              0.2222222222222222,
              "#7201a8"
             ],
             [
              0.3333333333333333,
              "#9c179e"
             ],
             [
              0.4444444444444444,
              "#bd3786"
             ],
             [
              0.5555555555555556,
              "#d8576b"
             ],
             [
              0.6666666666666666,
              "#ed7953"
             ],
             [
              0.7777777777777778,
              "#fb9f3a"
             ],
             [
              0.8888888888888888,
              "#fdca26"
             ],
             [
              1.0,
              "#f0f921"
             ]
            ]
           }
          ],
          "contourcarpet": [
           {
            "type": "contourcarpet",
            "colorbar": {
             "outlinewidth": 0,
             "ticks": ""
            }
           }
          ],
          "contour": [
           {
            "type": "contour",
            "colorbar": {
             "outlinewidth": 0,
             "ticks": ""
            },
            "colorscale": [
             [
              0.0,
              "#0d0887"
             ],
             [
              0.1111111111111111,
              "#46039f"
             ],
             [
              0.2222222222222222,
              "#7201a8"
             ],
             [
              0.3333333333333333,
              "#9c179e"
             ],
             [
              0.4444444444444444,
              "#bd3786"
             ],
             [
              0.5555555555555556,
              "#d8576b"
             ],
             [
              0.6666666666666666,
              "#ed7953"
             ],
             [
              0.7777777777777778,
              "#fb9f3a"
             ],
             [
              0.8888888888888888,
              "#fdca26"
             ],
             [
              1.0,
              "#f0f921"
             ]
            ]
           }
          ],
          "surface": [
           {
            "type": "surface",
            "colorbar": {
             "outlinewidth": 0,
             "ticks": ""
            },
            "colorscale": [
             [
              0.0,
              "#0d0887"
             ],
             [
              0.1111111111111111,
              "#46039f"
             ],
             [
              0.2222222222222222,
              "#7201a8"
             ],
             [
              0.3333333333333333,
              "#9c179e"
             ],
             [
              0.4444444444444444,
              "#bd3786"
             ],
             [
              0.5555555555555556,
              "#d8576b"
             ],
             [
              0.6666666666666666,
              "#ed7953"
             ],
             [
              0.7777777777777778,
              "#fb9f3a"
             ],
             [
              0.8888888888888888,
              "#fdca26"
             ],
             [
              1.0,
              "#f0f921"
             ]
            ]
           }
          ],
          "mesh3d": [
           {
            "type": "mesh3d",
            "colorbar": {
             "outlinewidth": 0,
             "ticks": ""
            }
           }
          ],
          "scatter": [
           {
            "marker": {
             "line": {
              "color": "#283442"
             }
            },
            "type": "scatter"
           }
          ],
          "parcoords": [
           {
            "type": "parcoords",
            "line": {
             "colorbar": {
              "outlinewidth": 0,
              "ticks": ""
             }
            }
           }
          ],
          "scatterpolargl": [
           {
            "type": "scatterpolargl",
            "marker": {
             "colorbar": {
              "outlinewidth": 0,
              "ticks": ""
             }
            }
           }
          ],
          "bar": [
           {
            "error_x": {
             "color": "#f2f5fa"
            },
            "error_y": {
             "color": "#f2f5fa"
            },
            "marker": {
             "line": {
              "color": "rgb(17,17,17)",
              "width": 0.5
             },
             "pattern": {
              "fillmode": "overlay",
              "size": 10,
              "solidity": 0.2
             }
            },
            "type": "bar"
           }
          ],
          "scattergeo": [
           {
            "type": "scattergeo",
            "marker": {
             "colorbar": {
              "outlinewidth": 0,
              "ticks": ""
             }
            }
           }
          ],
          "scatterpolar": [
           {
            "type": "scatterpolar",
            "marker": {
             "colorbar": {
              "outlinewidth": 0,
              "ticks": ""
             }
            }
           }
          ],
          "histogram": [
           {
            "marker": {
             "pattern": {
              "fillmode": "overlay",
              "size": 10,
              "solidity": 0.2
             }
            },
            "type": "histogram"
           }
          ],
          "scattergl": [
           {
            "marker": {
             "line": {
              "color": "#283442"
             }
            },
            "type": "scattergl"
           }
          ],
          "scatter3d": [
           {
            "type": "scatter3d",
            "line": {
             "colorbar": {
              "outlinewidth": 0,
              "ticks": ""
             }
            },
            "marker": {
             "colorbar": {
              "outlinewidth": 0,
              "ticks": ""
             }
            }
           }
          ],
          "scattermapbox": [
           {
            "type": "scattermapbox",
            "marker": {
             "colorbar": {
              "outlinewidth": 0,
              "ticks": ""
             }
            }
           }
          ],
          "scatterternary": [
           {
            "type": "scatterternary",
            "marker": {
             "colorbar": {
              "outlinewidth": 0,
              "ticks": ""
             }
            }
           }
          ],
          "scattercarpet": [
           {
            "type": "scattercarpet",
            "marker": {
             "colorbar": {
              "outlinewidth": 0,
              "ticks": ""
             }
            }
           }
          ],
          "carpet": [
           {
            "aaxis": {
             "endlinecolor": "#A2B1C6",
             "gridcolor": "#506784",
             "linecolor": "#506784",
             "minorgridcolor": "#506784",
             "startlinecolor": "#A2B1C6"
            },
            "baxis": {
             "endlinecolor": "#A2B1C6",
             "gridcolor": "#506784",
             "linecolor": "#506784",
             "minorgridcolor": "#506784",
             "startlinecolor": "#A2B1C6"
            },
            "type": "carpet"
           }
          ],
          "table": [
           {
            "cells": {
             "fill": {
              "color": "#506784"
             },
             "line": {
              "color": "rgb(17,17,17)"
             }
            },
            "header": {
             "fill": {
              "color": "#2a3f5f"
             },
             "line": {
              "color": "rgb(17,17,17)"
             }
            },
            "type": "table"
           }
          ],
          "barpolar": [
           {
            "marker": {
             "line": {
              "color": "rgb(17,17,17)",
              "width": 0.5
             },
             "pattern": {
              "fillmode": "overlay",
              "size": 10,
              "solidity": 0.2
             }
            },
            "type": "barpolar"
           }
          ],
          "pie": [
           {
            "automargin": true,
            "type": "pie"
           }
          ]
         },
         "layout": {
          "autotypenumbers": "strict",
          "colorway": [
           "#636efa",
           "#EF553B",
           "#00cc96",
           "#ab63fa",
           "#FFA15A",
           "#19d3f3",
           "#FF6692",
           "#B6E880",
           "#FF97FF",
           "#FECB52"
          ],
          "font": {
           "color": "#f2f5fa"
          },
          "hovermode": "closest",
          "hoverlabel": {
           "align": "left"
          },
          "paper_bgcolor": "rgb(17,17,17)",
          "plot_bgcolor": "rgb(17,17,17)",
          "polar": {
           "bgcolor": "rgb(17,17,17)",
           "angularaxis": {
            "gridcolor": "#506784",
            "linecolor": "#506784",
            "ticks": ""
           },
           "radialaxis": {
            "gridcolor": "#506784",
            "linecolor": "#506784",
            "ticks": ""
           }
          },
          "ternary": {
           "bgcolor": "rgb(17,17,17)",
           "aaxis": {
            "gridcolor": "#506784",
            "linecolor": "#506784",
            "ticks": ""
           },
           "baxis": {
            "gridcolor": "#506784",
            "linecolor": "#506784",
            "ticks": ""
           },
           "caxis": {
            "gridcolor": "#506784",
            "linecolor": "#506784",
            "ticks": ""
           }
          },
          "coloraxis": {
           "colorbar": {
            "outlinewidth": 0,
            "ticks": ""
           }
          },
          "colorscale": {
           "sequential": [
            [
             0.0,
             "#0d0887"
            ],
            [
             0.1111111111111111,
             "#46039f"
            ],
            [
             0.2222222222222222,
             "#7201a8"
            ],
            [
             0.3333333333333333,
             "#9c179e"
            ],
            [
             0.4444444444444444,
             "#bd3786"
            ],
            [
             0.5555555555555556,
             "#d8576b"
            ],
            [
             0.6666666666666666,
             "#ed7953"
            ],
            [
             0.7777777777777778,
             "#fb9f3a"
            ],
            [
             0.8888888888888888,
             "#fdca26"
            ],
            [
             1.0,
             "#f0f921"
            ]
           ],
           "sequentialminus": [
            [
             0.0,
             "#0d0887"
            ],
            [
             0.1111111111111111,
             "#46039f"
            ],
            [
             0.2222222222222222,
             "#7201a8"
            ],
            [
             0.3333333333333333,
             "#9c179e"
            ],
            [
             0.4444444444444444,
             "#bd3786"
            ],
            [
             0.5555555555555556,
             "#d8576b"
            ],
            [
             0.6666666666666666,
             "#ed7953"
            ],
            [
             0.7777777777777778,
             "#fb9f3a"
            ],
            [
             0.8888888888888888,
             "#fdca26"
            ],
            [
             1.0,
             "#f0f921"
            ]
           ],
           "diverging": [
            [
             0,
             "#8e0152"
            ],
            [
             0.1,
             "#c51b7d"
            ],
            [
             0.2,
             "#de77ae"
            ],
            [
             0.3,
             "#f1b6da"
            ],
            [
             0.4,
             "#fde0ef"
            ],
            [
             0.5,
             "#f7f7f7"
            ],
            [
             0.6,
             "#e6f5d0"
            ],
            [
             0.7,
             "#b8e186"
            ],
            [
             0.8,
             "#7fbc41"
            ],
            [
             0.9,
             "#4d9221"
            ],
            [
             1,
             "#276419"
            ]
           ]
          },
          "xaxis": {
           "gridcolor": "#283442",
           "linecolor": "#506784",
           "ticks": "",
           "title": {
            "standoff": 15
           },
           "zerolinecolor": "#283442",
           "automargin": true,
           "zerolinewidth": 2
          },
          "yaxis": {
           "gridcolor": "#283442",
           "linecolor": "#506784",
           "ticks": "",
           "title": {
            "standoff": 15
           },
           "zerolinecolor": "#283442",
           "automargin": true,
           "zerolinewidth": 2
          },
          "scene": {
           "xaxis": {
            "backgroundcolor": "rgb(17,17,17)",
            "gridcolor": "#506784",
            "linecolor": "#506784",
            "showbackground": true,
            "ticks": "",
            "zerolinecolor": "#C8D4E3",
            "gridwidth": 2
           },
           "yaxis": {
            "backgroundcolor": "rgb(17,17,17)",
            "gridcolor": "#506784",
            "linecolor": "#506784",
            "showbackground": true,
            "ticks": "",
            "zerolinecolor": "#C8D4E3",
            "gridwidth": 2
           },
           "zaxis": {
            "backgroundcolor": "rgb(17,17,17)",
            "gridcolor": "#506784",
            "linecolor": "#506784",
            "showbackground": true,
            "ticks": "",
            "zerolinecolor": "#C8D4E3",
            "gridwidth": 2
           }
          },
          "shapedefaults": {
           "line": {
            "color": "#f2f5fa"
           }
          },
          "annotationdefaults": {
           "arrowcolor": "#f2f5fa",
           "arrowhead": 0,
           "arrowwidth": 1
          },
          "geo": {
           "bgcolor": "rgb(17,17,17)",
           "landcolor": "rgb(17,17,17)",
           "subunitcolor": "#506784",
           "showland": true,
           "showlakes": true,
           "lakecolor": "rgb(17,17,17)"
          },
          "title": {
           "x": 0.05
          },
          "updatemenudefaults": {
           "bgcolor": "#506784",
           "borderwidth": 0
          },
          "sliderdefaults": {
           "bgcolor": "#C8D4E3",
           "borderwidth": 1,
           "bordercolor": "rgb(17,17,17)",
           "tickwidth": 0
          },
          "mapbox": {
           "style": "dark"
          }
         }
        },
        "title": {
         "text": "Verandering in Democratie rangschikking sinds 2019 per 2023"
        },
        "legend": {
         "title": {
          "text": "Status"
         }
        }
       },
       "config": {
        "plotlyServerURL": "https://plot.ly"
       }
      },
      "text/html": [
       "<div>                            <div id=\"c319902c-6e37-4a79-b2bb-6f24b0837f94\" class=\"plotly-graph-div\" style=\"height:525px; width:100%;\"></div>            <script type=\"text/javascript\">                require([\"plotly\"], function(Plotly) {                    window.PLOTLYENV=window.PLOTLYENV || {};                                    if (document.getElementById(\"c319902c-6e37-4a79-b2bb-6f24b0837f94\")) {                    Plotly.newPlot(                        \"c319902c-6e37-4a79-b2bb-6f24b0837f94\",                        [{\"labels\":[\"Verbeterd\",\"Verslechterd\",\"Gelijk gebleven\"],\"marker\":{\"colors\":[\"green\",\"red\",\"blue\"]},\"values\":[71,54,14],\"type\":\"pie\"}],                        {\"template\":{\"data\":{\"histogram2dcontour\":[{\"type\":\"histogram2dcontour\",\"colorbar\":{\"outlinewidth\":0,\"ticks\":\"\"},\"colorscale\":[[0.0,\"#0d0887\"],[0.1111111111111111,\"#46039f\"],[0.2222222222222222,\"#7201a8\"],[0.3333333333333333,\"#9c179e\"],[0.4444444444444444,\"#bd3786\"],[0.5555555555555556,\"#d8576b\"],[0.6666666666666666,\"#ed7953\"],[0.7777777777777778,\"#fb9f3a\"],[0.8888888888888888,\"#fdca26\"],[1.0,\"#f0f921\"]]}],\"choropleth\":[{\"type\":\"choropleth\",\"colorbar\":{\"outlinewidth\":0,\"ticks\":\"\"}}],\"histogram2d\":[{\"type\":\"histogram2d\",\"colorbar\":{\"outlinewidth\":0,\"ticks\":\"\"},\"colorscale\":[[0.0,\"#0d0887\"],[0.1111111111111111,\"#46039f\"],[0.2222222222222222,\"#7201a8\"],[0.3333333333333333,\"#9c179e\"],[0.4444444444444444,\"#bd3786\"],[0.5555555555555556,\"#d8576b\"],[0.6666666666666666,\"#ed7953\"],[0.7777777777777778,\"#fb9f3a\"],[0.8888888888888888,\"#fdca26\"],[1.0,\"#f0f921\"]]}],\"heatmap\":[{\"type\":\"heatmap\",\"colorbar\":{\"outlinewidth\":0,\"ticks\":\"\"},\"colorscale\":[[0.0,\"#0d0887\"],[0.1111111111111111,\"#46039f\"],[0.2222222222222222,\"#7201a8\"],[0.3333333333333333,\"#9c179e\"],[0.4444444444444444,\"#bd3786\"],[0.5555555555555556,\"#d8576b\"],[0.6666666666666666,\"#ed7953\"],[0.7777777777777778,\"#fb9f3a\"],[0.8888888888888888,\"#fdca26\"],[1.0,\"#f0f921\"]]}],\"heatmapgl\":[{\"type\":\"heatmapgl\",\"colorbar\":{\"outlinewidth\":0,\"ticks\":\"\"},\"colorscale\":[[0.0,\"#0d0887\"],[0.1111111111111111,\"#46039f\"],[0.2222222222222222,\"#7201a8\"],[0.3333333333333333,\"#9c179e\"],[0.4444444444444444,\"#bd3786\"],[0.5555555555555556,\"#d8576b\"],[0.6666666666666666,\"#ed7953\"],[0.7777777777777778,\"#fb9f3a\"],[0.8888888888888888,\"#fdca26\"],[1.0,\"#f0f921\"]]}],\"contourcarpet\":[{\"type\":\"contourcarpet\",\"colorbar\":{\"outlinewidth\":0,\"ticks\":\"\"}}],\"contour\":[{\"type\":\"contour\",\"colorbar\":{\"outlinewidth\":0,\"ticks\":\"\"},\"colorscale\":[[0.0,\"#0d0887\"],[0.1111111111111111,\"#46039f\"],[0.2222222222222222,\"#7201a8\"],[0.3333333333333333,\"#9c179e\"],[0.4444444444444444,\"#bd3786\"],[0.5555555555555556,\"#d8576b\"],[0.6666666666666666,\"#ed7953\"],[0.7777777777777778,\"#fb9f3a\"],[0.8888888888888888,\"#fdca26\"],[1.0,\"#f0f921\"]]}],\"surface\":[{\"type\":\"surface\",\"colorbar\":{\"outlinewidth\":0,\"ticks\":\"\"},\"colorscale\":[[0.0,\"#0d0887\"],[0.1111111111111111,\"#46039f\"],[0.2222222222222222,\"#7201a8\"],[0.3333333333333333,\"#9c179e\"],[0.4444444444444444,\"#bd3786\"],[0.5555555555555556,\"#d8576b\"],[0.6666666666666666,\"#ed7953\"],[0.7777777777777778,\"#fb9f3a\"],[0.8888888888888888,\"#fdca26\"],[1.0,\"#f0f921\"]]}],\"mesh3d\":[{\"type\":\"mesh3d\",\"colorbar\":{\"outlinewidth\":0,\"ticks\":\"\"}}],\"scatter\":[{\"marker\":{\"line\":{\"color\":\"#283442\"}},\"type\":\"scatter\"}],\"parcoords\":[{\"type\":\"parcoords\",\"line\":{\"colorbar\":{\"outlinewidth\":0,\"ticks\":\"\"}}}],\"scatterpolargl\":[{\"type\":\"scatterpolargl\",\"marker\":{\"colorbar\":{\"outlinewidth\":0,\"ticks\":\"\"}}}],\"bar\":[{\"error_x\":{\"color\":\"#f2f5fa\"},\"error_y\":{\"color\":\"#f2f5fa\"},\"marker\":{\"line\":{\"color\":\"rgb(17,17,17)\",\"width\":0.5},\"pattern\":{\"fillmode\":\"overlay\",\"size\":10,\"solidity\":0.2}},\"type\":\"bar\"}],\"scattergeo\":[{\"type\":\"scattergeo\",\"marker\":{\"colorbar\":{\"outlinewidth\":0,\"ticks\":\"\"}}}],\"scatterpolar\":[{\"type\":\"scatterpolar\",\"marker\":{\"colorbar\":{\"outlinewidth\":0,\"ticks\":\"\"}}}],\"histogram\":[{\"marker\":{\"pattern\":{\"fillmode\":\"overlay\",\"size\":10,\"solidity\":0.2}},\"type\":\"histogram\"}],\"scattergl\":[{\"marker\":{\"line\":{\"color\":\"#283442\"}},\"type\":\"scattergl\"}],\"scatter3d\":[{\"type\":\"scatter3d\",\"line\":{\"colorbar\":{\"outlinewidth\":0,\"ticks\":\"\"}},\"marker\":{\"colorbar\":{\"outlinewidth\":0,\"ticks\":\"\"}}}],\"scattermapbox\":[{\"type\":\"scattermapbox\",\"marker\":{\"colorbar\":{\"outlinewidth\":0,\"ticks\":\"\"}}}],\"scatterternary\":[{\"type\":\"scatterternary\",\"marker\":{\"colorbar\":{\"outlinewidth\":0,\"ticks\":\"\"}}}],\"scattercarpet\":[{\"type\":\"scattercarpet\",\"marker\":{\"colorbar\":{\"outlinewidth\":0,\"ticks\":\"\"}}}],\"carpet\":[{\"aaxis\":{\"endlinecolor\":\"#A2B1C6\",\"gridcolor\":\"#506784\",\"linecolor\":\"#506784\",\"minorgridcolor\":\"#506784\",\"startlinecolor\":\"#A2B1C6\"},\"baxis\":{\"endlinecolor\":\"#A2B1C6\",\"gridcolor\":\"#506784\",\"linecolor\":\"#506784\",\"minorgridcolor\":\"#506784\",\"startlinecolor\":\"#A2B1C6\"},\"type\":\"carpet\"}],\"table\":[{\"cells\":{\"fill\":{\"color\":\"#506784\"},\"line\":{\"color\":\"rgb(17,17,17)\"}},\"header\":{\"fill\":{\"color\":\"#2a3f5f\"},\"line\":{\"color\":\"rgb(17,17,17)\"}},\"type\":\"table\"}],\"barpolar\":[{\"marker\":{\"line\":{\"color\":\"rgb(17,17,17)\",\"width\":0.5},\"pattern\":{\"fillmode\":\"overlay\",\"size\":10,\"solidity\":0.2}},\"type\":\"barpolar\"}],\"pie\":[{\"automargin\":true,\"type\":\"pie\"}]},\"layout\":{\"autotypenumbers\":\"strict\",\"colorway\":[\"#636efa\",\"#EF553B\",\"#00cc96\",\"#ab63fa\",\"#FFA15A\",\"#19d3f3\",\"#FF6692\",\"#B6E880\",\"#FF97FF\",\"#FECB52\"],\"font\":{\"color\":\"#f2f5fa\"},\"hovermode\":\"closest\",\"hoverlabel\":{\"align\":\"left\"},\"paper_bgcolor\":\"rgb(17,17,17)\",\"plot_bgcolor\":\"rgb(17,17,17)\",\"polar\":{\"bgcolor\":\"rgb(17,17,17)\",\"angularaxis\":{\"gridcolor\":\"#506784\",\"linecolor\":\"#506784\",\"ticks\":\"\"},\"radialaxis\":{\"gridcolor\":\"#506784\",\"linecolor\":\"#506784\",\"ticks\":\"\"}},\"ternary\":{\"bgcolor\":\"rgb(17,17,17)\",\"aaxis\":{\"gridcolor\":\"#506784\",\"linecolor\":\"#506784\",\"ticks\":\"\"},\"baxis\":{\"gridcolor\":\"#506784\",\"linecolor\":\"#506784\",\"ticks\":\"\"},\"caxis\":{\"gridcolor\":\"#506784\",\"linecolor\":\"#506784\",\"ticks\":\"\"}},\"coloraxis\":{\"colorbar\":{\"outlinewidth\":0,\"ticks\":\"\"}},\"colorscale\":{\"sequential\":[[0.0,\"#0d0887\"],[0.1111111111111111,\"#46039f\"],[0.2222222222222222,\"#7201a8\"],[0.3333333333333333,\"#9c179e\"],[0.4444444444444444,\"#bd3786\"],[0.5555555555555556,\"#d8576b\"],[0.6666666666666666,\"#ed7953\"],[0.7777777777777778,\"#fb9f3a\"],[0.8888888888888888,\"#fdca26\"],[1.0,\"#f0f921\"]],\"sequentialminus\":[[0.0,\"#0d0887\"],[0.1111111111111111,\"#46039f\"],[0.2222222222222222,\"#7201a8\"],[0.3333333333333333,\"#9c179e\"],[0.4444444444444444,\"#bd3786\"],[0.5555555555555556,\"#d8576b\"],[0.6666666666666666,\"#ed7953\"],[0.7777777777777778,\"#fb9f3a\"],[0.8888888888888888,\"#fdca26\"],[1.0,\"#f0f921\"]],\"diverging\":[[0,\"#8e0152\"],[0.1,\"#c51b7d\"],[0.2,\"#de77ae\"],[0.3,\"#f1b6da\"],[0.4,\"#fde0ef\"],[0.5,\"#f7f7f7\"],[0.6,\"#e6f5d0\"],[0.7,\"#b8e186\"],[0.8,\"#7fbc41\"],[0.9,\"#4d9221\"],[1,\"#276419\"]]},\"xaxis\":{\"gridcolor\":\"#283442\",\"linecolor\":\"#506784\",\"ticks\":\"\",\"title\":{\"standoff\":15},\"zerolinecolor\":\"#283442\",\"automargin\":true,\"zerolinewidth\":2},\"yaxis\":{\"gridcolor\":\"#283442\",\"linecolor\":\"#506784\",\"ticks\":\"\",\"title\":{\"standoff\":15},\"zerolinecolor\":\"#283442\",\"automargin\":true,\"zerolinewidth\":2},\"scene\":{\"xaxis\":{\"backgroundcolor\":\"rgb(17,17,17)\",\"gridcolor\":\"#506784\",\"linecolor\":\"#506784\",\"showbackground\":true,\"ticks\":\"\",\"zerolinecolor\":\"#C8D4E3\",\"gridwidth\":2},\"yaxis\":{\"backgroundcolor\":\"rgb(17,17,17)\",\"gridcolor\":\"#506784\",\"linecolor\":\"#506784\",\"showbackground\":true,\"ticks\":\"\",\"zerolinecolor\":\"#C8D4E3\",\"gridwidth\":2},\"zaxis\":{\"backgroundcolor\":\"rgb(17,17,17)\",\"gridcolor\":\"#506784\",\"linecolor\":\"#506784\",\"showbackground\":true,\"ticks\":\"\",\"zerolinecolor\":\"#C8D4E3\",\"gridwidth\":2}},\"shapedefaults\":{\"line\":{\"color\":\"#f2f5fa\"}},\"annotationdefaults\":{\"arrowcolor\":\"#f2f5fa\",\"arrowhead\":0,\"arrowwidth\":1},\"geo\":{\"bgcolor\":\"rgb(17,17,17)\",\"landcolor\":\"rgb(17,17,17)\",\"subunitcolor\":\"#506784\",\"showland\":true,\"showlakes\":true,\"lakecolor\":\"rgb(17,17,17)\"},\"title\":{\"x\":0.05},\"updatemenudefaults\":{\"bgcolor\":\"#506784\",\"borderwidth\":0},\"sliderdefaults\":{\"bgcolor\":\"#C8D4E3\",\"borderwidth\":1,\"bordercolor\":\"rgb(17,17,17)\",\"tickwidth\":0},\"mapbox\":{\"style\":\"dark\"}}},\"title\":{\"text\":\"Verandering in Democratie rangschikking sinds 2019 per 2023\"},\"legend\":{\"title\":{\"text\":\"Status\"}}},                        {\"responsive\": true}                    ).then(function(){\n",
       "                            \n",
       "var gd = document.getElementById('c319902c-6e37-4a79-b2bb-6f24b0837f94');\n",
       "var x = new MutationObserver(function (mutations, observer) {{\n",
       "        var display = window.getComputedStyle(gd).display;\n",
       "        if (!display || display === 'none') {{\n",
       "            console.log([gd, 'removed!']);\n",
       "            Plotly.purge(gd);\n",
       "            observer.disconnect();\n",
       "        }}\n",
       "}});\n",
       "\n",
       "// Listen for the removal of the full notebook cells\n",
       "var notebookContainer = gd.closest('#notebook-container');\n",
       "if (notebookContainer) {{\n",
       "    x.observe(notebookContainer, {childList: true});\n",
       "}}\n",
       "\n",
       "// Listen for the clearing of the current output cell\n",
       "var outputEl = gd.closest('.output');\n",
       "if (outputEl) {{\n",
       "    x.observe(outputEl, {childList: true});\n",
       "}}\n",
       "\n",
       "                        })                };                });            </script>        </div>"
      ]
     },
     "metadata": {},
     "output_type": "display_data"
    },
    {
     "name": "stdout",
     "output_type": "stream",
     "text": [
      "Figuur 4\n"
     ]
    }
   ],
   "execution_count": 2
  },
  {
   "cell_type": "markdown",
   "metadata": {},
   "source": [
    "Figuur 5 toont een wereldkaart die de gecombineerde veranderingen in de democratie rang en persvrijheid rang tussen 2019 en 2023 weergeeft. De kaart maakt gebruik van verschillende kleuren om deze veranderingen te illustreren. Oranje gebieden geven aan waar de persvrijheid is verbeterd, terwijl de democratie rang is verslechterd. Gele gebieden duiden op een verslechtering van de persvrijheid en een verbetering van de democratie rang. Rode gebieden wijzen op een verslechtering van zowel persvrijheid als democratie. Groene gebieden geven een verbetering aan zowel persvrijheid als democratie. Blauwe gebieden zijn neutraal gebleven, zonder significante veranderingen in persvrijheid of democratie."
   ]
  },
  {
   "cell_type": "code",
   "metadata": {
    "ExecuteTime": {
     "end_time": "2024-06-27T12:50:46.611765Z",
     "start_time": "2024-06-27T12:50:46.567267Z"
    }
   },
   "source": [
    "# Creëer een wereldkaart om de verschillen tussen de veranderingen van persvrijheid en democratie te laten zien\n",
    "\n",
    "# Definieer kleuren op basis van categorieën\n",
    "def get_color(verandering_pers, verandering_dem):\n",
    "    if verandering_pers == 0 and verandering_dem == 0:\n",
    "        return 0  # Blauw: beide veranderingen zijn 0\n",
    "    elif (verandering_pers >= 0 and verandering_dem > 0) or (verandering_pers > 0 and verandering_dem >= 0):\n",
    "        return 1  # Groen: beide veranderingen zijn positief\n",
    "    elif verandering_pers < 0 and verandering_dem < 0:\n",
    "        return 2  # Rood: beide veranderingen zijn negatief\n",
    "    elif verandering_pers < 0 and verandering_dem >= 0:\n",
    "        return 3  # Geel: persvrijheid is negatief, democratie is positief\n",
    "    elif verandering_pers >= 0 and verandering_dem < 0:\n",
    "        return 4  # Oranje: persvrijheid is positief, democratie is negatief\n",
    "\n",
    "# Voeg kleur toe aan DataFrame\n",
    "eind_df['color'] = eind_df.apply(lambda row: get_color(row['persvrijheid_verandering'], row['democratie_verandering']), axis=1)\n",
    " \n",
    "# Maak een lijst met kleuren op basis van categorie\n",
    "colorscale = [\n",
    "    'blue',    # Blauw: beide veranderingen zijn 0\n",
    "    '#90ee90', # Groen: beide veranderingen zijn positief\n",
    "    'red',     # Rood: beide veranderingen zijn negatief\n",
    "    'yellow',  # Geel: persvrijheid is negatief, democratie is positief\n",
    "    'orange',  # Oranje: persvrijheid is positief, democratie is negatief\n",
    "]\n",
    " \n",
    "# Creëer de choropletenkaart\n",
    "data = go.Choropleth(\n",
    "    locations=eind_df['land'],\n",
    "    locationmode='country names',\n",
    "    z=eind_df['color'],  # Gebruik de 'color' kolom als numerieke waarde voor de kleuren\n",
    "    hoverinfo='location+text',  # Toon locatie, kleurwaarde en tekst bij hover    \n",
    "    text=eind_df.apply(lambda row: f'Persvrijheid: {row[\"persvrijheid_verandering\"]}<br>Democratie: {row[\"democratie_verandering\"]}', axis=1),\n",
    "    marker_line_color='gray',  # Voeg een rand toe aan de markeringen\n",
    "    colorscale=colorscale,\n",
    "    showscale=False,  # Zet showscale uit om geen kleurenschaal te tonen\n",
    ")\n",
    " \n",
    "# Creëer de opmaak\n",
    "layout = go.Layout(\n",
    "    width=900,\n",
    "    height=600,\n",
    "    title='Verandering in Persvrijheid en Democratische Rang (2019-2023)',\n",
    "    geo=dict(\n",
    "        showocean=True,\n",
    "        oceancolor='#a8d5f2',\n",
    "        showcountries=True,\n",
    "        countrycolor='white',\n",
    "        landcolor='white',\n",
    "        showland=True,\n",
    "        projection_type='mercator'\n",
    "    ),\n",
    "    margin={'t': 50, 'r': 90, 'b': 50, 'l': 40},\n",
    ")\n",
    " \n",
    "# Voeg de legenda handmatig toe als annotaties\n",
    "legend_items = {\n",
    "    'Pers en Demo neutraal': 0,\n",
    "    'Pers en Demo positief': 1,\n",
    "    'Pers en Demo negatief': 2,\n",
    "    'Pers negatief Demo positief': 3,\n",
    "    'Pers positief Demo negatief': 4,\n",
    "}\n",
    " \n",
    "annotations = []\n",
    "for label, color_index in legend_items.items():\n",
    "    annotations.append(dict(\n",
    "        x=0.93,\n",
    "        y=0.95 - (len(colorscale) - color_index - 1) * 0.05,\n",
    "        xref='paper',\n",
    "        yref='paper',\n",
    "        text=label,\n",
    "        showarrow=False,\n",
    "        font=dict(size=10),\n",
    "        align='left',\n",
    "        xanchor='left',\n",
    "    ))\n",
    "\n",
    "# Voeg de legenda bolletjes toe\n",
    "for color_index, color_value in enumerate(colorscale):\n",
    "    annotations.append(dict(\n",
    "        x=0.92,\n",
    "        y=0.95 - (len(colorscale) - color_index - 1) * 0.05,\n",
    "        xref='paper',\n",
    "        yref='paper',\n",
    "        text = '',\n",
    "        showarrow=False,\n",
    "        bgcolor=colorscale[color_index],\n",
    "        width=13,\n",
    "        height=13,\n",
    "        borderpad=0,\n",
    "    ))\n",
    "\n",
    "layout['annotations'] = annotations\n",
    " \n",
    "# Maak de figuur\n",
    "fig = go.Figure(data=[data], layout=layout)\n",
    " \n",
    "# Toon de figuur\n",
    "fig.show()\n",
    "\n",
    "print('Figuur 5')"
   ],
   "outputs": [
    {
     "data": {
      "application/vnd.plotly.v1+json": {
       "data": [
        {
         "colorscale": [
          [
           0.0,
           "blue"
          ],
          [
           0.25,
           "#90ee90"
          ],
          [
           0.5,
           "red"
          ],
          [
           0.75,
           "yellow"
          ],
          [
           1.0,
           "orange"
          ]
         ],
         "hoverinfo": "location+text",
         "locationmode": "country names",
         "locations": [
          "Norway",
          "Finland",
          "Sweden",
          "Netherlands",
          "Denmark",
          "Switzerland",
          "New Zealand",
          "Jamaica",
          "Belgium",
          "Costa Rica",
          "Estonia",
          "Portugal",
          "Germany",
          "Iceland",
          "Ireland",
          "Austria",
          "Luxembourg",
          "Canada",
          "Uruguay",
          "Suriname",
          "Australia",
          "Namibia",
          "Latvia",
          "Ghana",
          "Cyprus",
          "Spain",
          "Lithuania",
          "South Africa",
          "France",
          "United Kingdom",
          "Slovenia",
          "Slovakia",
          "Burkina Faso",
          "Papua New Guinea",
          "Trinidad and Tobago",
          "South Korea",
          "Taiwan",
          "Italy",
          "Botswana",
          "Chile",
          "Romania",
          "United States",
          "Senegal",
          "Guyana",
          "Fiji",
          "Madagascar",
          "Dominican Republic",
          "Comoros",
          "Argentina",
          "Mauritius",
          "Poland",
          "Georgia",
          "Armenia",
          "Haiti",
          "Croatia",
          "Greece",
          "Niger",
          "Japan",
          "Malawi",
          "Mongolia",
          "Tunisia",
          "Togo",
          "Malta",
          "Lesotho",
          "Panama",
          "Bhutan",
          "El Salvador",
          "Albania",
          "Kyrgyzstan",
          "East Timor",
          "Peru",
          "Sierra Leone",
          "Hungary",
          "Israel",
          "Guinea-Bissau",
          "Serbia",
          "Moldova",
          "Gambia",
          "Liberia",
          "Mauritania",
          "North Macedonia",
          "Benin",
          "Ecuador",
          "Paraguay",
          "Kenya",
          "Lebanon",
          "Ukraine",
          "Mozambique",
          "Montenegro",
          "Brazil",
          "Nepal",
          "Guinea",
          "Kuwait",
          "Angola",
          "Ethiopia",
          "Bulgaria",
          "Mali",
          "Bolivia",
          "Nicaragua",
          "Gabon",
          "Guatemala",
          "Tanzania",
          "Zambia",
          "Nigeria",
          "Malaysia",
          "Indonesia",
          "Uganda",
          "Sri Lanka",
          "Zimbabwe",
          "Qatar",
          "Colombia",
          "Jordan",
          "Cameroon",
          "Oman",
          "United Arab Emirates",
          "Philippines",
          "Thailand",
          "Palestine",
          "India",
          "Algeria",
          "Pakistan",
          "Cambodia",
          "Mexico",
          "Honduras",
          "Venezuela",
          "Russia",
          "Bangladesh",
          "Singapore",
          "Rwanda",
          "Iraq",
          "Kazakhstan",
          "Burundi",
          "Egypt",
          "Azerbaijan",
          "Bahrain",
          "Cuba",
          "Djibouti",
          "Vietnam",
          "China"
         ],
         "marker": {
          "line": {
           "color": "gray"
          }
         },
         "showscale": false,
         "text": [
          "Persvrijheid: 0<br>Democratie: 0",
          "Persvrijheid: -3<br>Democratie: 0",
          "Persvrijheid: -1<br>Democratie: -1",
          "Persvrijheid: -2<br>Democratie: 1",
          "Persvrijheid: 2<br>Democratie: 1",
          "Persvrijheid: -6<br>Democratie: 1",
          "Persvrijheid: -6<br>Democratie: 2",
          "Persvrijheid: -24<br>Democratie: 8",
          "Persvrijheid: -22<br>Democratie: 0",
          "Persvrijheid: -13<br>Democratie: 1",
          "Persvrijheid: 3<br>Democratie: 2",
          "Persvrijheid: 3<br>Democratie: -7",
          "Persvrijheid: -8<br>Democratie: 0",
          "Persvrijheid: -4<br>Democratie: -1",
          "Persvrijheid: 13<br>Democratie: -1",
          "Persvrijheid: -13<br>Democratie: -2",
          "Persvrijheid: -3<br>Democratie: 0",
          "Persvrijheid: 3<br>Democratie: -6",
          "Persvrijheid: -33<br>Democratie: 0",
          "Persvrijheid: -28<br>Democratie: 4",
          "Persvrijheid: -6<br>Democratie: -6",
          "Persvrijheid: 1<br>Democratie: 10",
          "Persvrijheid: 8<br>Democratie: 3",
          "Persvrijheid: -35<br>Democratie: -6",
          "Persvrijheid: -27<br>Democratie: 0",
          "Persvrijheid: -7<br>Democratie: -5",
          "Persvrijheid: 23<br>Democratie: 1",
          "Persvrijheid: 6<br>Democratie: -2",
          "Persvrijheid: 8<br>Democratie: -2",
          "Persvrijheid: 7<br>Democratie: -4",
          "Persvrijheid: -16<br>Democratie: 7",
          "Persvrijheid: 18<br>Democratie: 2",
          "Persvrijheid: -22<br>Democratie: -20",
          "Persvrijheid: -21<br>Democratie: 3",
          "Persvrijheid: 9<br>Democratie: 4",
          "Persvrijheid: -6<br>Democratie: 2",
          "Persvrijheid: 7<br>Democratie: 19",
          "Persvrijheid: 2<br>Democratie: 4",
          "Persvrijheid: -21<br>Democratie: -1",
          "Persvrijheid: -37<br>Democratie: -2",
          "Persvrijheid: -6<br>Democratie: 5",
          "Persvrijheid: 3<br>Democratie: -2",
          "Persvrijheid: -55<br>Democratie: 0",
          "Persvrijheid: -9<br>Democratie: 6",
          "Persvrijheid: -37<br>Democratie: 2",
          "Persvrijheid: -47<br>Democratie: -1",
          "Persvrijheid: 12<br>Democratie: 2",
          "Persvrijheid: -19<br>Democratie: 5",
          "Persvrijheid: 17<br>Democratie: -2",
          "Persvrijheid: -5<br>Democratie: -2",
          "Persvrijheid: 2<br>Democratie: 17",
          "Persvrijheid: -17<br>Democratie: 1",
          "Persvrijheid: 12<br>Democratie: 3",
          "Persvrijheid: -37<br>Democratie: -23",
          "Persvrijheid: 22<br>Democratie: 4",
          "Persvrijheid: -42<br>Democratie: 18",
          "Persvrijheid: 5<br>Democratie: -15",
          "Persvrijheid: -1<br>Democratie: 7",
          "Persvrijheid: -14<br>Democratie: 12",
          "Persvrijheid: -18<br>Democratie: 5",
          "Persvrijheid: -49<br>Democratie: -24",
          "Persvrijheid: 6<br>Democratie: -1",
          "Persvrijheid: -7<br>Democratie: 0",
          "Persvrijheid: 11<br>Democratie: -8",
          "Persvrijheid: 10<br>Democratie: 2",
          "Persvrijheid: -10<br>Democratie: 10",
          "Persvrijheid: -34<br>Democratie: -22",
          "Persvrijheid: -14<br>Democratie: 13",
          "Persvrijheid: -39<br>Democratie: -8",
          "Persvrijheid: 74<br>Democratie: 0",
          "Persvrijheid: -25<br>Democratie: -15",
          "Persvrijheid: 12<br>Democratie: -1",
          "Persvrijheid: 15<br>Democratie: 9",
          "Persvrijheid: -9<br>Democratie: 0",
          "Persvrijheid: 11<br>Democratie: 1",
          "Persvrijheid: -1<br>Democratie: 4",
          "Persvrijheid: 63<br>Democratie: 15",
          "Persvrijheid: 46<br>Democratie: 5",
          "Persvrijheid: 27<br>Democratie: 10",
          "Persvrijheid: 8<br>Democratie: 6",
          "Persvrijheid: 57<br>Democratie: 5",
          "Persvrijheid: -16<br>Democratie: 0",
          "Persvrijheid: 17<br>Democratie: -15",
          "Persvrijheid: -4<br>Democratie: -1",
          "Persvrijheid: -16<br>Democratie: 2",
          "Persvrijheid: -18<br>Democratie: -7",
          "Persvrijheid: 23<br>Democratie: -12",
          "Persvrijheid: 1<br>Democratie: 5",
          "Persvrijheid: 65<br>Democratie: 32",
          "Persvrijheid: 13<br>Democratie: 5",
          "Persvrijheid: 11<br>Democratie: -6",
          "Persvrijheid: 22<br>Democratie: -15",
          "Persvrijheid: -46<br>Democratie: -1",
          "Persvrijheid: -16<br>Democratie: 10",
          "Persvrijheid: -20<br>Democratie: 6",
          "Persvrijheid: 40<br>Democratie: -11",
          "Persvrijheid: -1<br>Democratie: -35",
          "Persvrijheid: -4<br>Democratie: -3",
          "Persvrijheid: -44<br>Democratie: -21",
          "Persvrijheid: 21<br>Democratie: -25",
          "Persvrijheid: -11<br>Democratie: -7",
          "Persvrijheid: -25<br>Democratie: 9",
          "Persvrijheid: 32<br>Democratie: 19",
          "Persvrijheid: -3<br>Democratie: 4",
          "Persvrijheid: 50<br>Democratie: 6",
          "Persvrijheid: 16<br>Democratie: 10",
          "Persvrijheid: -8<br>Democratie: -1",
          "Persvrijheid: -9<br>Democratie: 1",
          "Persvrijheid: 1<br>Democratie: 4",
          "Persvrijheid: 23<br>Democratie: 14",
          "Persvrijheid: -10<br>Democratie: -6",
          "Persvrijheid: -16<br>Democratie: -9",
          "Persvrijheid: -7<br>Democratie: -2",
          "Persvrijheid: -23<br>Democratie: 12",
          "Persvrijheid: -12<br>Democratie: 14",
          "Persvrijheid: 2<br>Democratie: 5",
          "Persvrijheid: 30<br>Democratie: 7",
          "Persvrijheid: -19<br>Democratie: 0",
          "Persvrijheid: -21<br>Democratie: 12",
          "Persvrijheid: 5<br>Democratie: 2",
          "Persvrijheid: -8<br>Democratie: -11",
          "Persvrijheid: -4<br>Democratie: 0",
          "Persvrijheid: 16<br>Democratie: -15",
          "Persvrijheid: -23<br>Democratie: -5",
          "Persvrijheid: -11<br>Democratie: -7",
          "Persvrijheid: -15<br>Democratie: -13",
          "Persvrijheid: -13<br>Democratie: 6",
          "Persvrijheid: 22<br>Democratie: 7",
          "Persvrijheid: 24<br>Democratie: 9",
          "Persvrijheid: -11<br>Democratie: -10",
          "Persvrijheid: 24<br>Democratie: 12",
          "Persvrijheid: 45<br>Democratie: -3",
          "Persvrijheid: -3<br>Democratie: 6",
          "Persvrijheid: 15<br>Democratie: 10",
          "Persvrijheid: -4<br>Democratie: 3",
          "Persvrijheid: -3<br>Democratie: 2",
          "Persvrijheid: 11<br>Democratie: 4",
          "Persvrijheid: -2<br>Democratie: -4",
          "Persvrijheid: -2<br>Democratie: -5"
         ],
         "z": [
          0,
          3,
          2,
          3,
          1,
          3,
          3,
          3,
          3,
          3,
          1,
          4,
          3,
          2,
          4,
          2,
          3,
          4,
          3,
          3,
          2,
          1,
          1,
          2,
          3,
          2,
          1,
          4,
          4,
          4,
          3,
          1,
          2,
          3,
          1,
          3,
          1,
          1,
          2,
          2,
          3,
          4,
          3,
          3,
          3,
          2,
          1,
          3,
          4,
          2,
          1,
          3,
          1,
          2,
          1,
          3,
          4,
          3,
          3,
          3,
          2,
          4,
          3,
          4,
          1,
          3,
          2,
          3,
          2,
          1,
          2,
          4,
          1,
          3,
          1,
          3,
          1,
          1,
          1,
          1,
          1,
          3,
          4,
          2,
          3,
          2,
          4,
          1,
          1,
          1,
          4,
          4,
          2,
          3,
          3,
          4,
          2,
          2,
          2,
          4,
          2,
          3,
          1,
          3,
          1,
          1,
          2,
          3,
          1,
          1,
          2,
          2,
          2,
          3,
          3,
          1,
          1,
          3,
          3,
          1,
          2,
          3,
          4,
          2,
          2,
          2,
          3,
          1,
          1,
          2,
          1,
          4,
          3,
          1,
          3,
          3,
          1,
          2,
          2
         ],
         "type": "choropleth"
        }
       ],
       "layout": {
        "annotations": [
         {
          "align": "left",
          "font": {
           "size": 10
          },
          "showarrow": false,
          "text": "Pers en Demo neutraal",
          "x": 0.93,
          "xanchor": "left",
          "xref": "paper",
          "y": 0.75,
          "yref": "paper"
         },
         {
          "align": "left",
          "font": {
           "size": 10
          },
          "showarrow": false,
          "text": "Pers en Demo positief",
          "x": 0.93,
          "xanchor": "left",
          "xref": "paper",
          "y": 0.7999999999999999,
          "yref": "paper"
         },
         {
          "align": "left",
          "font": {
           "size": 10
          },
          "showarrow": false,
          "text": "Pers en Demo negatief",
          "x": 0.93,
          "xanchor": "left",
          "xref": "paper",
          "y": 0.85,
          "yref": "paper"
         },
         {
          "align": "left",
          "font": {
           "size": 10
          },
          "showarrow": false,
          "text": "Pers negatief Demo positief",
          "x": 0.93,
          "xanchor": "left",
          "xref": "paper",
          "y": 0.8999999999999999,
          "yref": "paper"
         },
         {
          "align": "left",
          "font": {
           "size": 10
          },
          "showarrow": false,
          "text": "Pers positief Demo negatief",
          "x": 0.93,
          "xanchor": "left",
          "xref": "paper",
          "y": 0.95,
          "yref": "paper"
         },
         {
          "bgcolor": "blue",
          "borderpad": 0,
          "height": 13,
          "showarrow": false,
          "text": "",
          "width": 13,
          "x": 0.92,
          "xref": "paper",
          "y": 0.75,
          "yref": "paper"
         },
         {
          "bgcolor": "#90ee90",
          "borderpad": 0,
          "height": 13,
          "showarrow": false,
          "text": "",
          "width": 13,
          "x": 0.92,
          "xref": "paper",
          "y": 0.7999999999999999,
          "yref": "paper"
         },
         {
          "bgcolor": "red",
          "borderpad": 0,
          "height": 13,
          "showarrow": false,
          "text": "",
          "width": 13,
          "x": 0.92,
          "xref": "paper",
          "y": 0.85,
          "yref": "paper"
         },
         {
          "bgcolor": "yellow",
          "borderpad": 0,
          "height": 13,
          "showarrow": false,
          "text": "",
          "width": 13,
          "x": 0.92,
          "xref": "paper",
          "y": 0.8999999999999999,
          "yref": "paper"
         },
         {
          "bgcolor": "orange",
          "borderpad": 0,
          "height": 13,
          "showarrow": false,
          "text": "",
          "width": 13,
          "x": 0.92,
          "xref": "paper",
          "y": 0.95,
          "yref": "paper"
         }
        ],
        "geo": {
         "countrycolor": "white",
         "landcolor": "white",
         "oceancolor": "#a8d5f2",
         "projection": {
          "type": "mercator"
         },
         "showcountries": true,
         "showland": true,
         "showocean": true
        },
        "height": 600,
        "margin": {
         "b": 50,
         "l": 40,
         "r": 90,
         "t": 50
        },
        "title": {
         "text": "Verandering in Persvrijheid en Democratische Rang (2019-2023)"
        },
        "width": 900,
        "template": {
         "data": {
          "histogram2dcontour": [
           {
            "type": "histogram2dcontour",
            "colorbar": {
             "outlinewidth": 0,
             "ticks": ""
            },
            "colorscale": [
             [
              0.0,
              "#0d0887"
             ],
             [
              0.1111111111111111,
              "#46039f"
             ],
             [
              0.2222222222222222,
              "#7201a8"
             ],
             [
              0.3333333333333333,
              "#9c179e"
             ],
             [
              0.4444444444444444,
              "#bd3786"
             ],
             [
              0.5555555555555556,
              "#d8576b"
             ],
             [
              0.6666666666666666,
              "#ed7953"
             ],
             [
              0.7777777777777778,
              "#fb9f3a"
             ],
             [
              0.8888888888888888,
              "#fdca26"
             ],
             [
              1.0,
              "#f0f921"
             ]
            ]
           }
          ],
          "choropleth": [
           {
            "type": "choropleth",
            "colorbar": {
             "outlinewidth": 0,
             "ticks": ""
            }
           }
          ],
          "histogram2d": [
           {
            "type": "histogram2d",
            "colorbar": {
             "outlinewidth": 0,
             "ticks": ""
            },
            "colorscale": [
             [
              0.0,
              "#0d0887"
             ],
             [
              0.1111111111111111,
              "#46039f"
             ],
             [
              0.2222222222222222,
              "#7201a8"
             ],
             [
              0.3333333333333333,
              "#9c179e"
             ],
             [
              0.4444444444444444,
              "#bd3786"
             ],
             [
              0.5555555555555556,
              "#d8576b"
             ],
             [
              0.6666666666666666,
              "#ed7953"
             ],
             [
              0.7777777777777778,
              "#fb9f3a"
             ],
             [
              0.8888888888888888,
              "#fdca26"
             ],
             [
              1.0,
              "#f0f921"
             ]
            ]
           }
          ],
          "heatmap": [
           {
            "type": "heatmap",
            "colorbar": {
             "outlinewidth": 0,
             "ticks": ""
            },
            "colorscale": [
             [
              0.0,
              "#0d0887"
             ],
             [
              0.1111111111111111,
              "#46039f"
             ],
             [
              0.2222222222222222,
              "#7201a8"
             ],
             [
              0.3333333333333333,
              "#9c179e"
             ],
             [
              0.4444444444444444,
              "#bd3786"
             ],
             [
              0.5555555555555556,
              "#d8576b"
             ],
             [
              0.6666666666666666,
              "#ed7953"
             ],
             [
              0.7777777777777778,
              "#fb9f3a"
             ],
             [
              0.8888888888888888,
              "#fdca26"
             ],
             [
              1.0,
              "#f0f921"
             ]
            ]
           }
          ],
          "heatmapgl": [
           {
            "type": "heatmapgl",
            "colorbar": {
             "outlinewidth": 0,
             "ticks": ""
            },
            "colorscale": [
             [
              0.0,
              "#0d0887"
             ],
             [
              0.1111111111111111,
              "#46039f"
             ],
             [
              0.2222222222222222,
              "#7201a8"
             ],
             [
              0.3333333333333333,
              "#9c179e"
             ],
             [
              0.4444444444444444,
              "#bd3786"
             ],
             [
              0.5555555555555556,
              "#d8576b"
             ],
             [
              0.6666666666666666,
              "#ed7953"
             ],
             [
              0.7777777777777778,
              "#fb9f3a"
             ],
             [
              0.8888888888888888,
              "#fdca26"
             ],
             [
              1.0,
              "#f0f921"
             ]
            ]
           }
          ],
          "contourcarpet": [
           {
            "type": "contourcarpet",
            "colorbar": {
             "outlinewidth": 0,
             "ticks": ""
            }
           }
          ],
          "contour": [
           {
            "type": "contour",
            "colorbar": {
             "outlinewidth": 0,
             "ticks": ""
            },
            "colorscale": [
             [
              0.0,
              "#0d0887"
             ],
             [
              0.1111111111111111,
              "#46039f"
             ],
             [
              0.2222222222222222,
              "#7201a8"
             ],
             [
              0.3333333333333333,
              "#9c179e"
             ],
             [
              0.4444444444444444,
              "#bd3786"
             ],
             [
              0.5555555555555556,
              "#d8576b"
             ],
             [
              0.6666666666666666,
              "#ed7953"
             ],
             [
              0.7777777777777778,
              "#fb9f3a"
             ],
             [
              0.8888888888888888,
              "#fdca26"
             ],
             [
              1.0,
              "#f0f921"
             ]
            ]
           }
          ],
          "surface": [
           {
            "type": "surface",
            "colorbar": {
             "outlinewidth": 0,
             "ticks": ""
            },
            "colorscale": [
             [
              0.0,
              "#0d0887"
             ],
             [
              0.1111111111111111,
              "#46039f"
             ],
             [
              0.2222222222222222,
              "#7201a8"
             ],
             [
              0.3333333333333333,
              "#9c179e"
             ],
             [
              0.4444444444444444,
              "#bd3786"
             ],
             [
              0.5555555555555556,
              "#d8576b"
             ],
             [
              0.6666666666666666,
              "#ed7953"
             ],
             [
              0.7777777777777778,
              "#fb9f3a"
             ],
             [
              0.8888888888888888,
              "#fdca26"
             ],
             [
              1.0,
              "#f0f921"
             ]
            ]
           }
          ],
          "mesh3d": [
           {
            "type": "mesh3d",
            "colorbar": {
             "outlinewidth": 0,
             "ticks": ""
            }
           }
          ],
          "scatter": [
           {
            "marker": {
             "line": {
              "color": "#283442"
             }
            },
            "type": "scatter"
           }
          ],
          "parcoords": [
           {
            "type": "parcoords",
            "line": {
             "colorbar": {
              "outlinewidth": 0,
              "ticks": ""
             }
            }
           }
          ],
          "scatterpolargl": [
           {
            "type": "scatterpolargl",
            "marker": {
             "colorbar": {
              "outlinewidth": 0,
              "ticks": ""
             }
            }
           }
          ],
          "bar": [
           {
            "error_x": {
             "color": "#f2f5fa"
            },
            "error_y": {
             "color": "#f2f5fa"
            },
            "marker": {
             "line": {
              "color": "rgb(17,17,17)",
              "width": 0.5
             },
             "pattern": {
              "fillmode": "overlay",
              "size": 10,
              "solidity": 0.2
             }
            },
            "type": "bar"
           }
          ],
          "scattergeo": [
           {
            "type": "scattergeo",
            "marker": {
             "colorbar": {
              "outlinewidth": 0,
              "ticks": ""
             }
            }
           }
          ],
          "scatterpolar": [
           {
            "type": "scatterpolar",
            "marker": {
             "colorbar": {
              "outlinewidth": 0,
              "ticks": ""
             }
            }
           }
          ],
          "histogram": [
           {
            "marker": {
             "pattern": {
              "fillmode": "overlay",
              "size": 10,
              "solidity": 0.2
             }
            },
            "type": "histogram"
           }
          ],
          "scattergl": [
           {
            "marker": {
             "line": {
              "color": "#283442"
             }
            },
            "type": "scattergl"
           }
          ],
          "scatter3d": [
           {
            "type": "scatter3d",
            "line": {
             "colorbar": {
              "outlinewidth": 0,
              "ticks": ""
             }
            },
            "marker": {
             "colorbar": {
              "outlinewidth": 0,
              "ticks": ""
             }
            }
           }
          ],
          "scattermapbox": [
           {
            "type": "scattermapbox",
            "marker": {
             "colorbar": {
              "outlinewidth": 0,
              "ticks": ""
             }
            }
           }
          ],
          "scatterternary": [
           {
            "type": "scatterternary",
            "marker": {
             "colorbar": {
              "outlinewidth": 0,
              "ticks": ""
             }
            }
           }
          ],
          "scattercarpet": [
           {
            "type": "scattercarpet",
            "marker": {
             "colorbar": {
              "outlinewidth": 0,
              "ticks": ""
             }
            }
           }
          ],
          "carpet": [
           {
            "aaxis": {
             "endlinecolor": "#A2B1C6",
             "gridcolor": "#506784",
             "linecolor": "#506784",
             "minorgridcolor": "#506784",
             "startlinecolor": "#A2B1C6"
            },
            "baxis": {
             "endlinecolor": "#A2B1C6",
             "gridcolor": "#506784",
             "linecolor": "#506784",
             "minorgridcolor": "#506784",
             "startlinecolor": "#A2B1C6"
            },
            "type": "carpet"
           }
          ],
          "table": [
           {
            "cells": {
             "fill": {
              "color": "#506784"
             },
             "line": {
              "color": "rgb(17,17,17)"
             }
            },
            "header": {
             "fill": {
              "color": "#2a3f5f"
             },
             "line": {
              "color": "rgb(17,17,17)"
             }
            },
            "type": "table"
           }
          ],
          "barpolar": [
           {
            "marker": {
             "line": {
              "color": "rgb(17,17,17)",
              "width": 0.5
             },
             "pattern": {
              "fillmode": "overlay",
              "size": 10,
              "solidity": 0.2
             }
            },
            "type": "barpolar"
           }
          ],
          "pie": [
           {
            "automargin": true,
            "type": "pie"
           }
          ]
         },
         "layout": {
          "autotypenumbers": "strict",
          "colorway": [
           "#636efa",
           "#EF553B",
           "#00cc96",
           "#ab63fa",
           "#FFA15A",
           "#19d3f3",
           "#FF6692",
           "#B6E880",
           "#FF97FF",
           "#FECB52"
          ],
          "font": {
           "color": "#f2f5fa"
          },
          "hovermode": "closest",
          "hoverlabel": {
           "align": "left"
          },
          "paper_bgcolor": "rgb(17,17,17)",
          "plot_bgcolor": "rgb(17,17,17)",
          "polar": {
           "bgcolor": "rgb(17,17,17)",
           "angularaxis": {
            "gridcolor": "#506784",
            "linecolor": "#506784",
            "ticks": ""
           },
           "radialaxis": {
            "gridcolor": "#506784",
            "linecolor": "#506784",
            "ticks": ""
           }
          },
          "ternary": {
           "bgcolor": "rgb(17,17,17)",
           "aaxis": {
            "gridcolor": "#506784",
            "linecolor": "#506784",
            "ticks": ""
           },
           "baxis": {
            "gridcolor": "#506784",
            "linecolor": "#506784",
            "ticks": ""
           },
           "caxis": {
            "gridcolor": "#506784",
            "linecolor": "#506784",
            "ticks": ""
           }
          },
          "coloraxis": {
           "colorbar": {
            "outlinewidth": 0,
            "ticks": ""
           }
          },
          "colorscale": {
           "sequential": [
            [
             0.0,
             "#0d0887"
            ],
            [
             0.1111111111111111,
             "#46039f"
            ],
            [
             0.2222222222222222,
             "#7201a8"
            ],
            [
             0.3333333333333333,
             "#9c179e"
            ],
            [
             0.4444444444444444,
             "#bd3786"
            ],
            [
             0.5555555555555556,
             "#d8576b"
            ],
            [
             0.6666666666666666,
             "#ed7953"
            ],
            [
             0.7777777777777778,
             "#fb9f3a"
            ],
            [
             0.8888888888888888,
             "#fdca26"
            ],
            [
             1.0,
             "#f0f921"
            ]
           ],
           "sequentialminus": [
            [
             0.0,
             "#0d0887"
            ],
            [
             0.1111111111111111,
             "#46039f"
            ],
            [
             0.2222222222222222,
             "#7201a8"
            ],
            [
             0.3333333333333333,
             "#9c179e"
            ],
            [
             0.4444444444444444,
             "#bd3786"
            ],
            [
             0.5555555555555556,
             "#d8576b"
            ],
            [
             0.6666666666666666,
             "#ed7953"
            ],
            [
             0.7777777777777778,
             "#fb9f3a"
            ],
            [
             0.8888888888888888,
             "#fdca26"
            ],
            [
             1.0,
             "#f0f921"
            ]
           ],
           "diverging": [
            [
             0,
             "#8e0152"
            ],
            [
             0.1,
             "#c51b7d"
            ],
            [
             0.2,
             "#de77ae"
            ],
            [
             0.3,
             "#f1b6da"
            ],
            [
             0.4,
             "#fde0ef"
            ],
            [
             0.5,
             "#f7f7f7"
            ],
            [
             0.6,
             "#e6f5d0"
            ],
            [
             0.7,
             "#b8e186"
            ],
            [
             0.8,
             "#7fbc41"
            ],
            [
             0.9,
             "#4d9221"
            ],
            [
             1,
             "#276419"
            ]
           ]
          },
          "xaxis": {
           "gridcolor": "#283442",
           "linecolor": "#506784",
           "ticks": "",
           "title": {
            "standoff": 15
           },
           "zerolinecolor": "#283442",
           "automargin": true,
           "zerolinewidth": 2
          },
          "yaxis": {
           "gridcolor": "#283442",
           "linecolor": "#506784",
           "ticks": "",
           "title": {
            "standoff": 15
           },
           "zerolinecolor": "#283442",
           "automargin": true,
           "zerolinewidth": 2
          },
          "scene": {
           "xaxis": {
            "backgroundcolor": "rgb(17,17,17)",
            "gridcolor": "#506784",
            "linecolor": "#506784",
            "showbackground": true,
            "ticks": "",
            "zerolinecolor": "#C8D4E3",
            "gridwidth": 2
           },
           "yaxis": {
            "backgroundcolor": "rgb(17,17,17)",
            "gridcolor": "#506784",
            "linecolor": "#506784",
            "showbackground": true,
            "ticks": "",
            "zerolinecolor": "#C8D4E3",
            "gridwidth": 2
           },
           "zaxis": {
            "backgroundcolor": "rgb(17,17,17)",
            "gridcolor": "#506784",
            "linecolor": "#506784",
            "showbackground": true,
            "ticks": "",
            "zerolinecolor": "#C8D4E3",
            "gridwidth": 2
           }
          },
          "shapedefaults": {
           "line": {
            "color": "#f2f5fa"
           }
          },
          "annotationdefaults": {
           "arrowcolor": "#f2f5fa",
           "arrowhead": 0,
           "arrowwidth": 1
          },
          "geo": {
           "bgcolor": "rgb(17,17,17)",
           "landcolor": "rgb(17,17,17)",
           "subunitcolor": "#506784",
           "showland": true,
           "showlakes": true,
           "lakecolor": "rgb(17,17,17)"
          },
          "title": {
           "x": 0.05
          },
          "updatemenudefaults": {
           "bgcolor": "#506784",
           "borderwidth": 0
          },
          "sliderdefaults": {
           "bgcolor": "#C8D4E3",
           "borderwidth": 1,
           "bordercolor": "rgb(17,17,17)",
           "tickwidth": 0
          },
          "mapbox": {
           "style": "dark"
          }
         }
        }
       },
       "config": {
        "plotlyServerURL": "https://plot.ly"
       }
      },
      "text/html": [
       "<div>                            <div id=\"c140af38-296e-4564-b2cc-2e773da108dd\" class=\"plotly-graph-div\" style=\"height:600px; width:900px;\"></div>            <script type=\"text/javascript\">                require([\"plotly\"], function(Plotly) {                    window.PLOTLYENV=window.PLOTLYENV || {};                                    if (document.getElementById(\"c140af38-296e-4564-b2cc-2e773da108dd\")) {                    Plotly.newPlot(                        \"c140af38-296e-4564-b2cc-2e773da108dd\",                        [{\"colorscale\":[[0.0,\"blue\"],[0.25,\"#90ee90\"],[0.5,\"red\"],[0.75,\"yellow\"],[1.0,\"orange\"]],\"hoverinfo\":\"location+text\",\"locationmode\":\"country names\",\"locations\":[\"Norway\",\"Finland\",\"Sweden\",\"Netherlands\",\"Denmark\",\"Switzerland\",\"New Zealand\",\"Jamaica\",\"Belgium\",\"Costa Rica\",\"Estonia\",\"Portugal\",\"Germany\",\"Iceland\",\"Ireland\",\"Austria\",\"Luxembourg\",\"Canada\",\"Uruguay\",\"Suriname\",\"Australia\",\"Namibia\",\"Latvia\",\"Ghana\",\"Cyprus\",\"Spain\",\"Lithuania\",\"South Africa\",\"France\",\"United Kingdom\",\"Slovenia\",\"Slovakia\",\"Burkina Faso\",\"Papua New Guinea\",\"Trinidad and Tobago\",\"South Korea\",\"Taiwan\",\"Italy\",\"Botswana\",\"Chile\",\"Romania\",\"United States\",\"Senegal\",\"Guyana\",\"Fiji\",\"Madagascar\",\"Dominican Republic\",\"Comoros\",\"Argentina\",\"Mauritius\",\"Poland\",\"Georgia\",\"Armenia\",\"Haiti\",\"Croatia\",\"Greece\",\"Niger\",\"Japan\",\"Malawi\",\"Mongolia\",\"Tunisia\",\"Togo\",\"Malta\",\"Lesotho\",\"Panama\",\"Bhutan\",\"El Salvador\",\"Albania\",\"Kyrgyzstan\",\"East Timor\",\"Peru\",\"Sierra Leone\",\"Hungary\",\"Israel\",\"Guinea-Bissau\",\"Serbia\",\"Moldova\",\"Gambia\",\"Liberia\",\"Mauritania\",\"North Macedonia\",\"Benin\",\"Ecuador\",\"Paraguay\",\"Kenya\",\"Lebanon\",\"Ukraine\",\"Mozambique\",\"Montenegro\",\"Brazil\",\"Nepal\",\"Guinea\",\"Kuwait\",\"Angola\",\"Ethiopia\",\"Bulgaria\",\"Mali\",\"Bolivia\",\"Nicaragua\",\"Gabon\",\"Guatemala\",\"Tanzania\",\"Zambia\",\"Nigeria\",\"Malaysia\",\"Indonesia\",\"Uganda\",\"Sri Lanka\",\"Zimbabwe\",\"Qatar\",\"Colombia\",\"Jordan\",\"Cameroon\",\"Oman\",\"United Arab Emirates\",\"Philippines\",\"Thailand\",\"Palestine\",\"India\",\"Algeria\",\"Pakistan\",\"Cambodia\",\"Mexico\",\"Honduras\",\"Venezuela\",\"Russia\",\"Bangladesh\",\"Singapore\",\"Rwanda\",\"Iraq\",\"Kazakhstan\",\"Burundi\",\"Egypt\",\"Azerbaijan\",\"Bahrain\",\"Cuba\",\"Djibouti\",\"Vietnam\",\"China\"],\"marker\":{\"line\":{\"color\":\"gray\"}},\"showscale\":false,\"text\":[\"Persvrijheid: 0\\u003cbr\\u003eDemocratie: 0\",\"Persvrijheid: -3\\u003cbr\\u003eDemocratie: 0\",\"Persvrijheid: -1\\u003cbr\\u003eDemocratie: -1\",\"Persvrijheid: -2\\u003cbr\\u003eDemocratie: 1\",\"Persvrijheid: 2\\u003cbr\\u003eDemocratie: 1\",\"Persvrijheid: -6\\u003cbr\\u003eDemocratie: 1\",\"Persvrijheid: -6\\u003cbr\\u003eDemocratie: 2\",\"Persvrijheid: -24\\u003cbr\\u003eDemocratie: 8\",\"Persvrijheid: -22\\u003cbr\\u003eDemocratie: 0\",\"Persvrijheid: -13\\u003cbr\\u003eDemocratie: 1\",\"Persvrijheid: 3\\u003cbr\\u003eDemocratie: 2\",\"Persvrijheid: 3\\u003cbr\\u003eDemocratie: -7\",\"Persvrijheid: -8\\u003cbr\\u003eDemocratie: 0\",\"Persvrijheid: -4\\u003cbr\\u003eDemocratie: -1\",\"Persvrijheid: 13\\u003cbr\\u003eDemocratie: -1\",\"Persvrijheid: -13\\u003cbr\\u003eDemocratie: -2\",\"Persvrijheid: -3\\u003cbr\\u003eDemocratie: 0\",\"Persvrijheid: 3\\u003cbr\\u003eDemocratie: -6\",\"Persvrijheid: -33\\u003cbr\\u003eDemocratie: 0\",\"Persvrijheid: -28\\u003cbr\\u003eDemocratie: 4\",\"Persvrijheid: -6\\u003cbr\\u003eDemocratie: -6\",\"Persvrijheid: 1\\u003cbr\\u003eDemocratie: 10\",\"Persvrijheid: 8\\u003cbr\\u003eDemocratie: 3\",\"Persvrijheid: -35\\u003cbr\\u003eDemocratie: -6\",\"Persvrijheid: -27\\u003cbr\\u003eDemocratie: 0\",\"Persvrijheid: -7\\u003cbr\\u003eDemocratie: -5\",\"Persvrijheid: 23\\u003cbr\\u003eDemocratie: 1\",\"Persvrijheid: 6\\u003cbr\\u003eDemocratie: -2\",\"Persvrijheid: 8\\u003cbr\\u003eDemocratie: -2\",\"Persvrijheid: 7\\u003cbr\\u003eDemocratie: -4\",\"Persvrijheid: -16\\u003cbr\\u003eDemocratie: 7\",\"Persvrijheid: 18\\u003cbr\\u003eDemocratie: 2\",\"Persvrijheid: -22\\u003cbr\\u003eDemocratie: -20\",\"Persvrijheid: -21\\u003cbr\\u003eDemocratie: 3\",\"Persvrijheid: 9\\u003cbr\\u003eDemocratie: 4\",\"Persvrijheid: -6\\u003cbr\\u003eDemocratie: 2\",\"Persvrijheid: 7\\u003cbr\\u003eDemocratie: 19\",\"Persvrijheid: 2\\u003cbr\\u003eDemocratie: 4\",\"Persvrijheid: -21\\u003cbr\\u003eDemocratie: -1\",\"Persvrijheid: -37\\u003cbr\\u003eDemocratie: -2\",\"Persvrijheid: -6\\u003cbr\\u003eDemocratie: 5\",\"Persvrijheid: 3\\u003cbr\\u003eDemocratie: -2\",\"Persvrijheid: -55\\u003cbr\\u003eDemocratie: 0\",\"Persvrijheid: -9\\u003cbr\\u003eDemocratie: 6\",\"Persvrijheid: -37\\u003cbr\\u003eDemocratie: 2\",\"Persvrijheid: -47\\u003cbr\\u003eDemocratie: -1\",\"Persvrijheid: 12\\u003cbr\\u003eDemocratie: 2\",\"Persvrijheid: -19\\u003cbr\\u003eDemocratie: 5\",\"Persvrijheid: 17\\u003cbr\\u003eDemocratie: -2\",\"Persvrijheid: -5\\u003cbr\\u003eDemocratie: -2\",\"Persvrijheid: 2\\u003cbr\\u003eDemocratie: 17\",\"Persvrijheid: -17\\u003cbr\\u003eDemocratie: 1\",\"Persvrijheid: 12\\u003cbr\\u003eDemocratie: 3\",\"Persvrijheid: -37\\u003cbr\\u003eDemocratie: -23\",\"Persvrijheid: 22\\u003cbr\\u003eDemocratie: 4\",\"Persvrijheid: -42\\u003cbr\\u003eDemocratie: 18\",\"Persvrijheid: 5\\u003cbr\\u003eDemocratie: -15\",\"Persvrijheid: -1\\u003cbr\\u003eDemocratie: 7\",\"Persvrijheid: -14\\u003cbr\\u003eDemocratie: 12\",\"Persvrijheid: -18\\u003cbr\\u003eDemocratie: 5\",\"Persvrijheid: -49\\u003cbr\\u003eDemocratie: -24\",\"Persvrijheid: 6\\u003cbr\\u003eDemocratie: -1\",\"Persvrijheid: -7\\u003cbr\\u003eDemocratie: 0\",\"Persvrijheid: 11\\u003cbr\\u003eDemocratie: -8\",\"Persvrijheid: 10\\u003cbr\\u003eDemocratie: 2\",\"Persvrijheid: -10\\u003cbr\\u003eDemocratie: 10\",\"Persvrijheid: -34\\u003cbr\\u003eDemocratie: -22\",\"Persvrijheid: -14\\u003cbr\\u003eDemocratie: 13\",\"Persvrijheid: -39\\u003cbr\\u003eDemocratie: -8\",\"Persvrijheid: 74\\u003cbr\\u003eDemocratie: 0\",\"Persvrijheid: -25\\u003cbr\\u003eDemocratie: -15\",\"Persvrijheid: 12\\u003cbr\\u003eDemocratie: -1\",\"Persvrijheid: 15\\u003cbr\\u003eDemocratie: 9\",\"Persvrijheid: -9\\u003cbr\\u003eDemocratie: 0\",\"Persvrijheid: 11\\u003cbr\\u003eDemocratie: 1\",\"Persvrijheid: -1\\u003cbr\\u003eDemocratie: 4\",\"Persvrijheid: 63\\u003cbr\\u003eDemocratie: 15\",\"Persvrijheid: 46\\u003cbr\\u003eDemocratie: 5\",\"Persvrijheid: 27\\u003cbr\\u003eDemocratie: 10\",\"Persvrijheid: 8\\u003cbr\\u003eDemocratie: 6\",\"Persvrijheid: 57\\u003cbr\\u003eDemocratie: 5\",\"Persvrijheid: -16\\u003cbr\\u003eDemocratie: 0\",\"Persvrijheid: 17\\u003cbr\\u003eDemocratie: -15\",\"Persvrijheid: -4\\u003cbr\\u003eDemocratie: -1\",\"Persvrijheid: -16\\u003cbr\\u003eDemocratie: 2\",\"Persvrijheid: -18\\u003cbr\\u003eDemocratie: -7\",\"Persvrijheid: 23\\u003cbr\\u003eDemocratie: -12\",\"Persvrijheid: 1\\u003cbr\\u003eDemocratie: 5\",\"Persvrijheid: 65\\u003cbr\\u003eDemocratie: 32\",\"Persvrijheid: 13\\u003cbr\\u003eDemocratie: 5\",\"Persvrijheid: 11\\u003cbr\\u003eDemocratie: -6\",\"Persvrijheid: 22\\u003cbr\\u003eDemocratie: -15\",\"Persvrijheid: -46\\u003cbr\\u003eDemocratie: -1\",\"Persvrijheid: -16\\u003cbr\\u003eDemocratie: 10\",\"Persvrijheid: -20\\u003cbr\\u003eDemocratie: 6\",\"Persvrijheid: 40\\u003cbr\\u003eDemocratie: -11\",\"Persvrijheid: -1\\u003cbr\\u003eDemocratie: -35\",\"Persvrijheid: -4\\u003cbr\\u003eDemocratie: -3\",\"Persvrijheid: -44\\u003cbr\\u003eDemocratie: -21\",\"Persvrijheid: 21\\u003cbr\\u003eDemocratie: -25\",\"Persvrijheid: -11\\u003cbr\\u003eDemocratie: -7\",\"Persvrijheid: -25\\u003cbr\\u003eDemocratie: 9\",\"Persvrijheid: 32\\u003cbr\\u003eDemocratie: 19\",\"Persvrijheid: -3\\u003cbr\\u003eDemocratie: 4\",\"Persvrijheid: 50\\u003cbr\\u003eDemocratie: 6\",\"Persvrijheid: 16\\u003cbr\\u003eDemocratie: 10\",\"Persvrijheid: -8\\u003cbr\\u003eDemocratie: -1\",\"Persvrijheid: -9\\u003cbr\\u003eDemocratie: 1\",\"Persvrijheid: 1\\u003cbr\\u003eDemocratie: 4\",\"Persvrijheid: 23\\u003cbr\\u003eDemocratie: 14\",\"Persvrijheid: -10\\u003cbr\\u003eDemocratie: -6\",\"Persvrijheid: -16\\u003cbr\\u003eDemocratie: -9\",\"Persvrijheid: -7\\u003cbr\\u003eDemocratie: -2\",\"Persvrijheid: -23\\u003cbr\\u003eDemocratie: 12\",\"Persvrijheid: -12\\u003cbr\\u003eDemocratie: 14\",\"Persvrijheid: 2\\u003cbr\\u003eDemocratie: 5\",\"Persvrijheid: 30\\u003cbr\\u003eDemocratie: 7\",\"Persvrijheid: -19\\u003cbr\\u003eDemocratie: 0\",\"Persvrijheid: -21\\u003cbr\\u003eDemocratie: 12\",\"Persvrijheid: 5\\u003cbr\\u003eDemocratie: 2\",\"Persvrijheid: -8\\u003cbr\\u003eDemocratie: -11\",\"Persvrijheid: -4\\u003cbr\\u003eDemocratie: 0\",\"Persvrijheid: 16\\u003cbr\\u003eDemocratie: -15\",\"Persvrijheid: -23\\u003cbr\\u003eDemocratie: -5\",\"Persvrijheid: -11\\u003cbr\\u003eDemocratie: -7\",\"Persvrijheid: -15\\u003cbr\\u003eDemocratie: -13\",\"Persvrijheid: -13\\u003cbr\\u003eDemocratie: 6\",\"Persvrijheid: 22\\u003cbr\\u003eDemocratie: 7\",\"Persvrijheid: 24\\u003cbr\\u003eDemocratie: 9\",\"Persvrijheid: -11\\u003cbr\\u003eDemocratie: -10\",\"Persvrijheid: 24\\u003cbr\\u003eDemocratie: 12\",\"Persvrijheid: 45\\u003cbr\\u003eDemocratie: -3\",\"Persvrijheid: -3\\u003cbr\\u003eDemocratie: 6\",\"Persvrijheid: 15\\u003cbr\\u003eDemocratie: 10\",\"Persvrijheid: -4\\u003cbr\\u003eDemocratie: 3\",\"Persvrijheid: -3\\u003cbr\\u003eDemocratie: 2\",\"Persvrijheid: 11\\u003cbr\\u003eDemocratie: 4\",\"Persvrijheid: -2\\u003cbr\\u003eDemocratie: -4\",\"Persvrijheid: -2\\u003cbr\\u003eDemocratie: -5\"],\"z\":[0,3,2,3,1,3,3,3,3,3,1,4,3,2,4,2,3,4,3,3,2,1,1,2,3,2,1,4,4,4,3,1,2,3,1,3,1,1,2,2,3,4,3,3,3,2,1,3,4,2,1,3,1,2,1,3,4,3,3,3,2,4,3,4,1,3,2,3,2,1,2,4,1,3,1,3,1,1,1,1,1,3,4,2,3,2,4,1,1,1,4,4,2,3,3,4,2,2,2,4,2,3,1,3,1,1,2,3,1,1,2,2,2,3,3,1,1,3,3,1,2,3,4,2,2,2,3,1,1,2,1,4,3,1,3,3,1,2,2],\"type\":\"choropleth\"}],                        {\"annotations\":[{\"align\":\"left\",\"font\":{\"size\":10},\"showarrow\":false,\"text\":\"Pers en Demo neutraal\",\"x\":0.93,\"xanchor\":\"left\",\"xref\":\"paper\",\"y\":0.75,\"yref\":\"paper\"},{\"align\":\"left\",\"font\":{\"size\":10},\"showarrow\":false,\"text\":\"Pers en Demo positief\",\"x\":0.93,\"xanchor\":\"left\",\"xref\":\"paper\",\"y\":0.7999999999999999,\"yref\":\"paper\"},{\"align\":\"left\",\"font\":{\"size\":10},\"showarrow\":false,\"text\":\"Pers en Demo negatief\",\"x\":0.93,\"xanchor\":\"left\",\"xref\":\"paper\",\"y\":0.85,\"yref\":\"paper\"},{\"align\":\"left\",\"font\":{\"size\":10},\"showarrow\":false,\"text\":\"Pers negatief Demo positief\",\"x\":0.93,\"xanchor\":\"left\",\"xref\":\"paper\",\"y\":0.8999999999999999,\"yref\":\"paper\"},{\"align\":\"left\",\"font\":{\"size\":10},\"showarrow\":false,\"text\":\"Pers positief Demo negatief\",\"x\":0.93,\"xanchor\":\"left\",\"xref\":\"paper\",\"y\":0.95,\"yref\":\"paper\"},{\"bgcolor\":\"blue\",\"borderpad\":0,\"height\":13,\"showarrow\":false,\"text\":\"\",\"width\":13,\"x\":0.92,\"xref\":\"paper\",\"y\":0.75,\"yref\":\"paper\"},{\"bgcolor\":\"#90ee90\",\"borderpad\":0,\"height\":13,\"showarrow\":false,\"text\":\"\",\"width\":13,\"x\":0.92,\"xref\":\"paper\",\"y\":0.7999999999999999,\"yref\":\"paper\"},{\"bgcolor\":\"red\",\"borderpad\":0,\"height\":13,\"showarrow\":false,\"text\":\"\",\"width\":13,\"x\":0.92,\"xref\":\"paper\",\"y\":0.85,\"yref\":\"paper\"},{\"bgcolor\":\"yellow\",\"borderpad\":0,\"height\":13,\"showarrow\":false,\"text\":\"\",\"width\":13,\"x\":0.92,\"xref\":\"paper\",\"y\":0.8999999999999999,\"yref\":\"paper\"},{\"bgcolor\":\"orange\",\"borderpad\":0,\"height\":13,\"showarrow\":false,\"text\":\"\",\"width\":13,\"x\":0.92,\"xref\":\"paper\",\"y\":0.95,\"yref\":\"paper\"}],\"geo\":{\"countrycolor\":\"white\",\"landcolor\":\"white\",\"oceancolor\":\"#a8d5f2\",\"projection\":{\"type\":\"mercator\"},\"showcountries\":true,\"showland\":true,\"showocean\":true},\"height\":600,\"margin\":{\"b\":50,\"l\":40,\"r\":90,\"t\":50},\"title\":{\"text\":\"Verandering in Persvrijheid en Democratische Rang (2019-2023)\"},\"width\":900,\"template\":{\"data\":{\"histogram2dcontour\":[{\"type\":\"histogram2dcontour\",\"colorbar\":{\"outlinewidth\":0,\"ticks\":\"\"},\"colorscale\":[[0.0,\"#0d0887\"],[0.1111111111111111,\"#46039f\"],[0.2222222222222222,\"#7201a8\"],[0.3333333333333333,\"#9c179e\"],[0.4444444444444444,\"#bd3786\"],[0.5555555555555556,\"#d8576b\"],[0.6666666666666666,\"#ed7953\"],[0.7777777777777778,\"#fb9f3a\"],[0.8888888888888888,\"#fdca26\"],[1.0,\"#f0f921\"]]}],\"choropleth\":[{\"type\":\"choropleth\",\"colorbar\":{\"outlinewidth\":0,\"ticks\":\"\"}}],\"histogram2d\":[{\"type\":\"histogram2d\",\"colorbar\":{\"outlinewidth\":0,\"ticks\":\"\"},\"colorscale\":[[0.0,\"#0d0887\"],[0.1111111111111111,\"#46039f\"],[0.2222222222222222,\"#7201a8\"],[0.3333333333333333,\"#9c179e\"],[0.4444444444444444,\"#bd3786\"],[0.5555555555555556,\"#d8576b\"],[0.6666666666666666,\"#ed7953\"],[0.7777777777777778,\"#fb9f3a\"],[0.8888888888888888,\"#fdca26\"],[1.0,\"#f0f921\"]]}],\"heatmap\":[{\"type\":\"heatmap\",\"colorbar\":{\"outlinewidth\":0,\"ticks\":\"\"},\"colorscale\":[[0.0,\"#0d0887\"],[0.1111111111111111,\"#46039f\"],[0.2222222222222222,\"#7201a8\"],[0.3333333333333333,\"#9c179e\"],[0.4444444444444444,\"#bd3786\"],[0.5555555555555556,\"#d8576b\"],[0.6666666666666666,\"#ed7953\"],[0.7777777777777778,\"#fb9f3a\"],[0.8888888888888888,\"#fdca26\"],[1.0,\"#f0f921\"]]}],\"heatmapgl\":[{\"type\":\"heatmapgl\",\"colorbar\":{\"outlinewidth\":0,\"ticks\":\"\"},\"colorscale\":[[0.0,\"#0d0887\"],[0.1111111111111111,\"#46039f\"],[0.2222222222222222,\"#7201a8\"],[0.3333333333333333,\"#9c179e\"],[0.4444444444444444,\"#bd3786\"],[0.5555555555555556,\"#d8576b\"],[0.6666666666666666,\"#ed7953\"],[0.7777777777777778,\"#fb9f3a\"],[0.8888888888888888,\"#fdca26\"],[1.0,\"#f0f921\"]]}],\"contourcarpet\":[{\"type\":\"contourcarpet\",\"colorbar\":{\"outlinewidth\":0,\"ticks\":\"\"}}],\"contour\":[{\"type\":\"contour\",\"colorbar\":{\"outlinewidth\":0,\"ticks\":\"\"},\"colorscale\":[[0.0,\"#0d0887\"],[0.1111111111111111,\"#46039f\"],[0.2222222222222222,\"#7201a8\"],[0.3333333333333333,\"#9c179e\"],[0.4444444444444444,\"#bd3786\"],[0.5555555555555556,\"#d8576b\"],[0.6666666666666666,\"#ed7953\"],[0.7777777777777778,\"#fb9f3a\"],[0.8888888888888888,\"#fdca26\"],[1.0,\"#f0f921\"]]}],\"surface\":[{\"type\":\"surface\",\"colorbar\":{\"outlinewidth\":0,\"ticks\":\"\"},\"colorscale\":[[0.0,\"#0d0887\"],[0.1111111111111111,\"#46039f\"],[0.2222222222222222,\"#7201a8\"],[0.3333333333333333,\"#9c179e\"],[0.4444444444444444,\"#bd3786\"],[0.5555555555555556,\"#d8576b\"],[0.6666666666666666,\"#ed7953\"],[0.7777777777777778,\"#fb9f3a\"],[0.8888888888888888,\"#fdca26\"],[1.0,\"#f0f921\"]]}],\"mesh3d\":[{\"type\":\"mesh3d\",\"colorbar\":{\"outlinewidth\":0,\"ticks\":\"\"}}],\"scatter\":[{\"marker\":{\"line\":{\"color\":\"#283442\"}},\"type\":\"scatter\"}],\"parcoords\":[{\"type\":\"parcoords\",\"line\":{\"colorbar\":{\"outlinewidth\":0,\"ticks\":\"\"}}}],\"scatterpolargl\":[{\"type\":\"scatterpolargl\",\"marker\":{\"colorbar\":{\"outlinewidth\":0,\"ticks\":\"\"}}}],\"bar\":[{\"error_x\":{\"color\":\"#f2f5fa\"},\"error_y\":{\"color\":\"#f2f5fa\"},\"marker\":{\"line\":{\"color\":\"rgb(17,17,17)\",\"width\":0.5},\"pattern\":{\"fillmode\":\"overlay\",\"size\":10,\"solidity\":0.2}},\"type\":\"bar\"}],\"scattergeo\":[{\"type\":\"scattergeo\",\"marker\":{\"colorbar\":{\"outlinewidth\":0,\"ticks\":\"\"}}}],\"scatterpolar\":[{\"type\":\"scatterpolar\",\"marker\":{\"colorbar\":{\"outlinewidth\":0,\"ticks\":\"\"}}}],\"histogram\":[{\"marker\":{\"pattern\":{\"fillmode\":\"overlay\",\"size\":10,\"solidity\":0.2}},\"type\":\"histogram\"}],\"scattergl\":[{\"marker\":{\"line\":{\"color\":\"#283442\"}},\"type\":\"scattergl\"}],\"scatter3d\":[{\"type\":\"scatter3d\",\"line\":{\"colorbar\":{\"outlinewidth\":0,\"ticks\":\"\"}},\"marker\":{\"colorbar\":{\"outlinewidth\":0,\"ticks\":\"\"}}}],\"scattermapbox\":[{\"type\":\"scattermapbox\",\"marker\":{\"colorbar\":{\"outlinewidth\":0,\"ticks\":\"\"}}}],\"scatterternary\":[{\"type\":\"scatterternary\",\"marker\":{\"colorbar\":{\"outlinewidth\":0,\"ticks\":\"\"}}}],\"scattercarpet\":[{\"type\":\"scattercarpet\",\"marker\":{\"colorbar\":{\"outlinewidth\":0,\"ticks\":\"\"}}}],\"carpet\":[{\"aaxis\":{\"endlinecolor\":\"#A2B1C6\",\"gridcolor\":\"#506784\",\"linecolor\":\"#506784\",\"minorgridcolor\":\"#506784\",\"startlinecolor\":\"#A2B1C6\"},\"baxis\":{\"endlinecolor\":\"#A2B1C6\",\"gridcolor\":\"#506784\",\"linecolor\":\"#506784\",\"minorgridcolor\":\"#506784\",\"startlinecolor\":\"#A2B1C6\"},\"type\":\"carpet\"}],\"table\":[{\"cells\":{\"fill\":{\"color\":\"#506784\"},\"line\":{\"color\":\"rgb(17,17,17)\"}},\"header\":{\"fill\":{\"color\":\"#2a3f5f\"},\"line\":{\"color\":\"rgb(17,17,17)\"}},\"type\":\"table\"}],\"barpolar\":[{\"marker\":{\"line\":{\"color\":\"rgb(17,17,17)\",\"width\":0.5},\"pattern\":{\"fillmode\":\"overlay\",\"size\":10,\"solidity\":0.2}},\"type\":\"barpolar\"}],\"pie\":[{\"automargin\":true,\"type\":\"pie\"}]},\"layout\":{\"autotypenumbers\":\"strict\",\"colorway\":[\"#636efa\",\"#EF553B\",\"#00cc96\",\"#ab63fa\",\"#FFA15A\",\"#19d3f3\",\"#FF6692\",\"#B6E880\",\"#FF97FF\",\"#FECB52\"],\"font\":{\"color\":\"#f2f5fa\"},\"hovermode\":\"closest\",\"hoverlabel\":{\"align\":\"left\"},\"paper_bgcolor\":\"rgb(17,17,17)\",\"plot_bgcolor\":\"rgb(17,17,17)\",\"polar\":{\"bgcolor\":\"rgb(17,17,17)\",\"angularaxis\":{\"gridcolor\":\"#506784\",\"linecolor\":\"#506784\",\"ticks\":\"\"},\"radialaxis\":{\"gridcolor\":\"#506784\",\"linecolor\":\"#506784\",\"ticks\":\"\"}},\"ternary\":{\"bgcolor\":\"rgb(17,17,17)\",\"aaxis\":{\"gridcolor\":\"#506784\",\"linecolor\":\"#506784\",\"ticks\":\"\"},\"baxis\":{\"gridcolor\":\"#506784\",\"linecolor\":\"#506784\",\"ticks\":\"\"},\"caxis\":{\"gridcolor\":\"#506784\",\"linecolor\":\"#506784\",\"ticks\":\"\"}},\"coloraxis\":{\"colorbar\":{\"outlinewidth\":0,\"ticks\":\"\"}},\"colorscale\":{\"sequential\":[[0.0,\"#0d0887\"],[0.1111111111111111,\"#46039f\"],[0.2222222222222222,\"#7201a8\"],[0.3333333333333333,\"#9c179e\"],[0.4444444444444444,\"#bd3786\"],[0.5555555555555556,\"#d8576b\"],[0.6666666666666666,\"#ed7953\"],[0.7777777777777778,\"#fb9f3a\"],[0.8888888888888888,\"#fdca26\"],[1.0,\"#f0f921\"]],\"sequentialminus\":[[0.0,\"#0d0887\"],[0.1111111111111111,\"#46039f\"],[0.2222222222222222,\"#7201a8\"],[0.3333333333333333,\"#9c179e\"],[0.4444444444444444,\"#bd3786\"],[0.5555555555555556,\"#d8576b\"],[0.6666666666666666,\"#ed7953\"],[0.7777777777777778,\"#fb9f3a\"],[0.8888888888888888,\"#fdca26\"],[1.0,\"#f0f921\"]],\"diverging\":[[0,\"#8e0152\"],[0.1,\"#c51b7d\"],[0.2,\"#de77ae\"],[0.3,\"#f1b6da\"],[0.4,\"#fde0ef\"],[0.5,\"#f7f7f7\"],[0.6,\"#e6f5d0\"],[0.7,\"#b8e186\"],[0.8,\"#7fbc41\"],[0.9,\"#4d9221\"],[1,\"#276419\"]]},\"xaxis\":{\"gridcolor\":\"#283442\",\"linecolor\":\"#506784\",\"ticks\":\"\",\"title\":{\"standoff\":15},\"zerolinecolor\":\"#283442\",\"automargin\":true,\"zerolinewidth\":2},\"yaxis\":{\"gridcolor\":\"#283442\",\"linecolor\":\"#506784\",\"ticks\":\"\",\"title\":{\"standoff\":15},\"zerolinecolor\":\"#283442\",\"automargin\":true,\"zerolinewidth\":2},\"scene\":{\"xaxis\":{\"backgroundcolor\":\"rgb(17,17,17)\",\"gridcolor\":\"#506784\",\"linecolor\":\"#506784\",\"showbackground\":true,\"ticks\":\"\",\"zerolinecolor\":\"#C8D4E3\",\"gridwidth\":2},\"yaxis\":{\"backgroundcolor\":\"rgb(17,17,17)\",\"gridcolor\":\"#506784\",\"linecolor\":\"#506784\",\"showbackground\":true,\"ticks\":\"\",\"zerolinecolor\":\"#C8D4E3\",\"gridwidth\":2},\"zaxis\":{\"backgroundcolor\":\"rgb(17,17,17)\",\"gridcolor\":\"#506784\",\"linecolor\":\"#506784\",\"showbackground\":true,\"ticks\":\"\",\"zerolinecolor\":\"#C8D4E3\",\"gridwidth\":2}},\"shapedefaults\":{\"line\":{\"color\":\"#f2f5fa\"}},\"annotationdefaults\":{\"arrowcolor\":\"#f2f5fa\",\"arrowhead\":0,\"arrowwidth\":1},\"geo\":{\"bgcolor\":\"rgb(17,17,17)\",\"landcolor\":\"rgb(17,17,17)\",\"subunitcolor\":\"#506784\",\"showland\":true,\"showlakes\":true,\"lakecolor\":\"rgb(17,17,17)\"},\"title\":{\"x\":0.05},\"updatemenudefaults\":{\"bgcolor\":\"#506784\",\"borderwidth\":0},\"sliderdefaults\":{\"bgcolor\":\"#C8D4E3\",\"borderwidth\":1,\"bordercolor\":\"rgb(17,17,17)\",\"tickwidth\":0},\"mapbox\":{\"style\":\"dark\"}}}},                        {\"responsive\": true}                    ).then(function(){\n",
       "                            \n",
       "var gd = document.getElementById('c140af38-296e-4564-b2cc-2e773da108dd');\n",
       "var x = new MutationObserver(function (mutations, observer) {{\n",
       "        var display = window.getComputedStyle(gd).display;\n",
       "        if (!display || display === 'none') {{\n",
       "            console.log([gd, 'removed!']);\n",
       "            Plotly.purge(gd);\n",
       "            observer.disconnect();\n",
       "        }}\n",
       "}});\n",
       "\n",
       "// Listen for the removal of the full notebook cells\n",
       "var notebookContainer = gd.closest('#notebook-container');\n",
       "if (notebookContainer) {{\n",
       "    x.observe(notebookContainer, {childList: true});\n",
       "}}\n",
       "\n",
       "// Listen for the clearing of the current output cell\n",
       "var outputEl = gd.closest('.output');\n",
       "if (outputEl) {{\n",
       "    x.observe(outputEl, {childList: true});\n",
       "}}\n",
       "\n",
       "                        })                };                });            </script>        </div>"
      ]
     },
     "metadata": {},
     "output_type": "display_data"
    },
    {
     "name": "stdout",
     "output_type": "stream",
     "text": [
      "Figuur 5\n"
     ]
    }
   ],
   "execution_count": 3
  },
  {
   "cell_type": "markdown",
   "metadata": {},
   "source": [
    "In figuur 5 zijn veel kleuren te zien, maar we focussen ons vooral op de rode en oranje landen. Deze landen zijn van 2019 tot 2023 meer geneigd naar een autocratische bestuursvorm. Hoewel sommige van deze landen slechts een lage verschuiving hebben van -15 of minder in hun democratie rang, lijkt dit misschien niet significant. Het is echter logisch dat een land niet zomaar van democratisch naar autocratisch verschuift, waardoor een verplaatsing van bijvoorbeeld 100 rangen heel onwaarschijnlijk is.\n",
    "\n",
    "De rode landen hebben een duidelijke daling in persvrijheid meegemaakt, terwijl de oranje landen over het algemeen slechts kleine stijgingen in persvrijheid hebben laten zien. Deze wereldkaart toont een subtiele relatie tussen de afname van democratische normen en de verslechtering van persvrijheid, waarbij opvalt dat sommige autocratische landen (oranje) ondanks een meer autocratisch bestuur toch een kleine verbetering in persvrijheid laten zien.\n",
    "\n",
    "Figuur 6 is een scatterplot die de relatie toont tussen de democratie rangschikking 2023 en de persvrijheid rangschikking 2023. Deze grafiek biedt een visuele representatie van de dynamiek tussen bestuursvorm en persvrijheid. Een lagere score op de democratie rangschikking duidt op een meer democratische bestuursvorm, terwijl een hogere score wijst op een meer autocratische bestuursvorm. Voor de persvrijheids rangschikking geldt dat een lage score gelijk staat aan meer persvrijheid, terwijl een hoge score minder persvrijheid betekent."
   ]
  },
  {
   "cell_type": "code",
   "metadata": {
    "ExecuteTime": {
     "end_time": "2024-06-27T12:50:47.386763Z",
     "start_time": "2024-06-27T12:50:46.613767Z"
    }
   },
   "source": [
    "# creeer een scatterplot om de relatie tussen de democratie en persvrijheid aan te geven per land\n",
    "\n",
    "fig = px.scatter(\n",
    "    eind_df,\n",
    "    x='democratie_rang_2023',\n",
    "    y='persvrijheid_rang_2023',\n",
    "    title = 'Democracy vs Persvrijheid rangschikking 2023 ',\n",
    "    hover_data=['land'],\n",
    "    trendline=\"ols\")\n",
    "\n",
    "fig.update_layout(\n",
    "    xaxis_title=\"Democratie rangschikking 2023\",\n",
    "    yaxis_title=\"Persvrijheid rangschikking 2023\"\n",
    ")\n",
    "\n",
    "for trace in fig.data:\n",
    "    if trace.mode == \"lines\":\n",
    "        trace.line.color = \"black\"\n",
    "\n",
    "fig.show()\n",
    "\n",
    "print('Figuur 6')\n",
    "\n",
    "correlation = eind_df[\"democratie_rang_2023\"].corr(eind_df[\"persvrijheid_rang_2023\"])\n",
    "print(f\"Correlatie tussen de democratie rangschikking en de persvrijheid rangschikking: {correlation}\")"
   ],
   "outputs": [
    {
     "data": {
      "application/vnd.plotly.v1+json": {
       "data": [
        {
         "customdata": [
          [
           "Norway"
          ],
          [
           "Finland"
          ],
          [
           "Sweden"
          ],
          [
           "Netherlands"
          ],
          [
           "Denmark"
          ],
          [
           "Switzerland"
          ],
          [
           "New Zealand"
          ],
          [
           "Jamaica"
          ],
          [
           "Belgium"
          ],
          [
           "Costa Rica"
          ],
          [
           "Estonia"
          ],
          [
           "Portugal"
          ],
          [
           "Germany"
          ],
          [
           "Iceland"
          ],
          [
           "Ireland"
          ],
          [
           "Austria"
          ],
          [
           "Luxembourg"
          ],
          [
           "Canada"
          ],
          [
           "Uruguay"
          ],
          [
           "Suriname"
          ],
          [
           "Australia"
          ],
          [
           "Namibia"
          ],
          [
           "Latvia"
          ],
          [
           "Ghana"
          ],
          [
           "Cyprus"
          ],
          [
           "Spain"
          ],
          [
           "Lithuania"
          ],
          [
           "South Africa"
          ],
          [
           "France"
          ],
          [
           "United Kingdom"
          ],
          [
           "Slovenia"
          ],
          [
           "Slovakia"
          ],
          [
           "Burkina Faso"
          ],
          [
           "Papua New Guinea"
          ],
          [
           "Trinidad and Tobago"
          ],
          [
           "South Korea"
          ],
          [
           "Taiwan"
          ],
          [
           "Italy"
          ],
          [
           "Botswana"
          ],
          [
           "Chile"
          ],
          [
           "Romania"
          ],
          [
           "United States"
          ],
          [
           "Senegal"
          ],
          [
           "Guyana"
          ],
          [
           "Fiji"
          ],
          [
           "Madagascar"
          ],
          [
           "Dominican Republic"
          ],
          [
           "Comoros"
          ],
          [
           "Argentina"
          ],
          [
           "Mauritius"
          ],
          [
           "Poland"
          ],
          [
           "Georgia"
          ],
          [
           "Armenia"
          ],
          [
           "Haiti"
          ],
          [
           "Croatia"
          ],
          [
           "Greece"
          ],
          [
           "Niger"
          ],
          [
           "Japan"
          ],
          [
           "Malawi"
          ],
          [
           "Mongolia"
          ],
          [
           "Tunisia"
          ],
          [
           "Togo"
          ],
          [
           "Malta"
          ],
          [
           "Lesotho"
          ],
          [
           "Panama"
          ],
          [
           "Bhutan"
          ],
          [
           "El Salvador"
          ],
          [
           "Albania"
          ],
          [
           "Kyrgyzstan"
          ],
          [
           "East Timor"
          ],
          [
           "Peru"
          ],
          [
           "Sierra Leone"
          ],
          [
           "Hungary"
          ],
          [
           "Israel"
          ],
          [
           "Guinea-Bissau"
          ],
          [
           "Serbia"
          ],
          [
           "Moldova"
          ],
          [
           "Gambia"
          ],
          [
           "Liberia"
          ],
          [
           "Mauritania"
          ],
          [
           "North Macedonia"
          ],
          [
           "Benin"
          ],
          [
           "Ecuador"
          ],
          [
           "Paraguay"
          ],
          [
           "Kenya"
          ],
          [
           "Lebanon"
          ],
          [
           "Ukraine"
          ],
          [
           "Mozambique"
          ],
          [
           "Montenegro"
          ],
          [
           "Brazil"
          ],
          [
           "Nepal"
          ],
          [
           "Guinea"
          ],
          [
           "Kuwait"
          ],
          [
           "Angola"
          ],
          [
           "Ethiopia"
          ],
          [
           "Bulgaria"
          ],
          [
           "Mali"
          ],
          [
           "Bolivia"
          ],
          [
           "Nicaragua"
          ],
          [
           "Gabon"
          ],
          [
           "Guatemala"
          ],
          [
           "Tanzania"
          ],
          [
           "Zambia"
          ],
          [
           "Nigeria"
          ],
          [
           "Malaysia"
          ],
          [
           "Indonesia"
          ],
          [
           "Uganda"
          ],
          [
           "Sri Lanka"
          ],
          [
           "Zimbabwe"
          ],
          [
           "Qatar"
          ],
          [
           "Colombia"
          ],
          [
           "Jordan"
          ],
          [
           "Cameroon"
          ],
          [
           "Oman"
          ],
          [
           "United Arab Emirates"
          ],
          [
           "Philippines"
          ],
          [
           "Thailand"
          ],
          [
           "Palestine"
          ],
          [
           "India"
          ],
          [
           "Algeria"
          ],
          [
           "Pakistan"
          ],
          [
           "Cambodia"
          ],
          [
           "Mexico"
          ],
          [
           "Honduras"
          ],
          [
           "Venezuela"
          ],
          [
           "Russia"
          ],
          [
           "Bangladesh"
          ],
          [
           "Singapore"
          ],
          [
           "Rwanda"
          ],
          [
           "Iraq"
          ],
          [
           "Kazakhstan"
          ],
          [
           "Burundi"
          ],
          [
           "Egypt"
          ],
          [
           "Azerbaijan"
          ],
          [
           "Bahrain"
          ],
          [
           "Cuba"
          ],
          [
           "Djibouti"
          ],
          [
           "Vietnam"
          ],
          [
           "China"
          ]
         ],
         "hovertemplate": "democratie_rang_2023=%{x}<br>persvrijheid_rang_2023=%{y}<br>land=%{customdata[0]}<extra></extra>",
         "legendgroup": "",
         "marker": {
          "color": "#636efa",
          "symbol": "circle"
         },
         "mode": "markers",
         "name": "",
         "orientation": "v",
         "showlegend": false,
         "x": [
          1,
          5,
          4,
          9,
          6,
          8,
          2,
          38,
          31,
          16,
          23,
          27,
          12,
          3,
          7,
          17,
          11,
          13,
          14,
          41,
          14,
          49,
          32,
          57,
          32,
          20,
          33,
          39,
          20,
          17,
          27,
          37,
          121,
          64,
          36,
          19,
          10,
          29,
          28,
          21,
          52,
          25,
          74,
          59,
          71,
          78,
          53,
          112,
          46,
          18,
          35,
          80,
          75,
          117,
          50,
          18,
          129,
          15,
          67,
          51,
          73,
          114,
          24,
          63,
          40,
          72,
          87,
          58,
          99,
          38,
          68,
          93,
          42,
          26,
          128,
          56,
          60,
          91,
          70,
          98,
          64,
          88,
          76,
          65,
          83,
          102,
          82,
          103,
          44,
          43,
          89,
          133,
          104,
          97,
          106,
          54,
          125,
          96,
          131,
          134,
          91,
          77,
          69,
          94,
          34,
          48,
          90,
          62,
          112,
          101,
          47,
          112,
          126,
          109,
          113,
          45,
          55,
          105,
          35,
          100,
          108,
          111,
          81,
          86,
          130,
          132,
          66,
          61,
          107,
          116,
          110,
          135,
          115,
          118,
          127,
          123,
          122,
          124,
          136
         ],
         "xaxis": "x",
         "y": [
          1,
          5,
          4,
          6,
          3,
          12,
          13,
          32,
          31,
          23,
          8,
          9,
          21,
          18,
          2,
          29,
          20,
          15,
          52,
          48,
          27,
          22,
          16,
          62,
          55,
          36,
          7,
          25,
          24,
          26,
          50,
          17,
          58,
          59,
          30,
          47,
          35,
          41,
          65,
          83,
          53,
          45,
          104,
          60,
          89,
          101,
          43,
          75,
          40,
          63,
          57,
          77,
          49,
          99,
          42,
          107,
          61,
          68,
          82,
          88,
          121,
          70,
          84,
          67,
          69,
          90,
          115,
          96,
          122,
          10,
          110,
          74,
          72,
          97,
          78,
          91,
          28,
          46,
          66,
          86,
          38,
          112,
          80,
          103,
          116,
          119,
          79,
          102,
          39,
          92,
          95,
          85,
          154,
          125,
          130,
          71,
          113,
          117,
          158,
          94,
          127,
          143,
          87,
          123,
          73,
          108,
          133,
          135,
          126,
          105,
          139,
          146,
          138,
          155,
          145,
          132,
          106,
          156,
          161,
          136,
          150,
          147,
          128,
          169,
          159,
          164,
          163,
          129,
          131,
          167,
          134,
          114,
          166,
          151,
          171,
          172,
          162,
          178,
          179
         ],
         "yaxis": "y",
         "type": "scatter"
        },
        {
         "hovertemplate": "<b>OLS trendline</b><br>persvrijheid_rang_2023 = 0.947613 * democratie_rang_2023 + 21.3841<br>R<sup>2</sup>=0.568201<br><br>democratie_rang_2023=%{x}<br>persvrijheid_rang_2023=%{y} <b>(trend)</b><extra></extra>",
         "legendgroup": "",
         "marker": {
          "color": "#636efa",
          "symbol": "circle"
         },
         "mode": "lines",
         "name": "",
         "showlegend": false,
         "x": [
          1,
          2,
          3,
          4,
          5,
          6,
          7,
          8,
          9,
          10,
          11,
          12,
          13,
          14,
          14,
          15,
          16,
          17,
          17,
          18,
          18,
          19,
          20,
          20,
          21,
          23,
          24,
          25,
          26,
          27,
          27,
          28,
          29,
          31,
          32,
          32,
          33,
          34,
          35,
          35,
          36,
          37,
          38,
          38,
          39,
          40,
          41,
          42,
          43,
          44,
          45,
          46,
          47,
          48,
          49,
          50,
          51,
          52,
          53,
          54,
          55,
          56,
          57,
          58,
          59,
          60,
          61,
          62,
          63,
          64,
          64,
          65,
          66,
          67,
          68,
          69,
          70,
          71,
          72,
          73,
          74,
          75,
          76,
          77,
          78,
          80,
          81,
          82,
          83,
          86,
          87,
          88,
          89,
          90,
          91,
          91,
          93,
          94,
          96,
          97,
          98,
          99,
          100,
          101,
          102,
          103,
          104,
          105,
          106,
          107,
          108,
          109,
          110,
          111,
          112,
          112,
          112,
          113,
          114,
          115,
          116,
          117,
          118,
          121,
          122,
          123,
          124,
          125,
          126,
          127,
          128,
          129,
          130,
          131,
          132,
          133,
          134,
          135,
          136
         ],
         "xaxis": "x",
         "y": [
          22.331726186522836,
          23.27933886065342,
          24.226951534784007,
          25.174564208914596,
          26.12217688304518,
          27.069789557175767,
          28.017402231306352,
          28.965014905436938,
          29.912627579567527,
          30.860240253698112,
          31.807852927828698,
          32.75546560195929,
          33.70307827608987,
          34.65069095022046,
          34.65069095022046,
          35.59830362435105,
          36.54591629848163,
          37.49352897261221,
          37.49352897261221,
          38.4411416467428,
          38.4411416467428,
          39.38875432087339,
          40.33636699500397,
          40.33636699500397,
          41.28397966913456,
          43.17920501739573,
          44.12681769152631,
          45.07443036565691,
          46.02204303978749,
          46.96965571391807,
          46.96965571391807,
          47.91726838804866,
          48.86488106217925,
          50.76010641044042,
          51.70771908457101,
          51.70771908457101,
          52.65533175870159,
          53.602944432832174,
          54.55055710696277,
          54.55055710696277,
          55.49816978109335,
          56.445782455223934,
          57.39339512935453,
          57.39339512935453,
          58.34100780348511,
          59.288620477615694,
          60.236233151746276,
          61.18384582587687,
          62.131458500007454,
          63.079071174138036,
          64.02668384826863,
          64.97429652239921,
          65.9219091965298,
          66.86952187066038,
          67.81713454479097,
          68.76474721892156,
          69.71235989305214,
          70.65997256718273,
          71.60758524131332,
          72.5551979154439,
          73.5028105895745,
          74.45042326370508,
          75.39803593783566,
          76.34564861196624,
          77.29326128609684,
          78.24087396022742,
          79.188486634358,
          80.1360993084886,
          81.08371198261918,
          82.03132465674976,
          82.03132465674976,
          82.97893733088036,
          83.92655000501094,
          84.87416267914152,
          85.8217753532721,
          86.76938802740268,
          87.71700070153328,
          88.66461337566386,
          89.61222604979444,
          90.55983872392504,
          91.50745139805562,
          92.4550640721862,
          93.4026767463168,
          94.35028942044738,
          95.29790209457796,
          97.19312744283914,
          98.14074011696972,
          99.0883527911003,
          100.0359654652309,
          102.87880348762266,
          103.82641616175324,
          104.77402883588383,
          105.72164151001441,
          106.669254184145,
          107.61686685827559,
          107.61686685827559,
          109.51209220653676,
          110.45970488066735,
          112.35493022892851,
          113.3025429030591,
          114.25015557718969,
          115.19776825132027,
          116.14538092545087,
          117.09299359958145,
          118.04060627371203,
          118.98821894784263,
          119.93583162197321,
          120.88344429610379,
          121.83105697023437,
          122.77866964436497,
          123.72628231849555,
          124.67389499262613,
          125.62150766675673,
          126.56912034088731,
          127.51673301501789,
          127.51673301501789,
          127.51673301501789,
          128.4643456891485,
          129.41195836327907,
          130.35957103740967,
          131.30718371154023,
          132.25479638567083,
          133.20240905980143,
          136.04524708219319,
          136.99285975632375,
          137.94047243045435,
          138.88808510458495,
          139.8356977787155,
          140.7833104528461,
          141.7309231269767,
          142.67853580110727,
          143.62614847523787,
          144.57376114936847,
          145.52137382349903,
          146.46898649762963,
          147.4165991717602,
          148.3642118458908,
          149.3118245200214,
          150.25943719415196
         ],
         "yaxis": "y",
         "type": "scatter",
         "line": {
          "color": "black"
         }
        }
       ],
       "layout": {
        "template": {
         "data": {
          "histogram2dcontour": [
           {
            "type": "histogram2dcontour",
            "colorbar": {
             "outlinewidth": 0,
             "ticks": ""
            },
            "colorscale": [
             [
              0.0,
              "#0d0887"
             ],
             [
              0.1111111111111111,
              "#46039f"
             ],
             [
              0.2222222222222222,
              "#7201a8"
             ],
             [
              0.3333333333333333,
              "#9c179e"
             ],
             [
              0.4444444444444444,
              "#bd3786"
             ],
             [
              0.5555555555555556,
              "#d8576b"
             ],
             [
              0.6666666666666666,
              "#ed7953"
             ],
             [
              0.7777777777777778,
              "#fb9f3a"
             ],
             [
              0.8888888888888888,
              "#fdca26"
             ],
             [
              1.0,
              "#f0f921"
             ]
            ]
           }
          ],
          "choropleth": [
           {
            "type": "choropleth",
            "colorbar": {
             "outlinewidth": 0,
             "ticks": ""
            }
           }
          ],
          "histogram2d": [
           {
            "type": "histogram2d",
            "colorbar": {
             "outlinewidth": 0,
             "ticks": ""
            },
            "colorscale": [
             [
              0.0,
              "#0d0887"
             ],
             [
              0.1111111111111111,
              "#46039f"
             ],
             [
              0.2222222222222222,
              "#7201a8"
             ],
             [
              0.3333333333333333,
              "#9c179e"
             ],
             [
              0.4444444444444444,
              "#bd3786"
             ],
             [
              0.5555555555555556,
              "#d8576b"
             ],
             [
              0.6666666666666666,
              "#ed7953"
             ],
             [
              0.7777777777777778,
              "#fb9f3a"
             ],
             [
              0.8888888888888888,
              "#fdca26"
             ],
             [
              1.0,
              "#f0f921"
             ]
            ]
           }
          ],
          "heatmap": [
           {
            "type": "heatmap",
            "colorbar": {
             "outlinewidth": 0,
             "ticks": ""
            },
            "colorscale": [
             [
              0.0,
              "#0d0887"
             ],
             [
              0.1111111111111111,
              "#46039f"
             ],
             [
              0.2222222222222222,
              "#7201a8"
             ],
             [
              0.3333333333333333,
              "#9c179e"
             ],
             [
              0.4444444444444444,
              "#bd3786"
             ],
             [
              0.5555555555555556,
              "#d8576b"
             ],
             [
              0.6666666666666666,
              "#ed7953"
             ],
             [
              0.7777777777777778,
              "#fb9f3a"
             ],
             [
              0.8888888888888888,
              "#fdca26"
             ],
             [
              1.0,
              "#f0f921"
             ]
            ]
           }
          ],
          "heatmapgl": [
           {
            "type": "heatmapgl",
            "colorbar": {
             "outlinewidth": 0,
             "ticks": ""
            },
            "colorscale": [
             [
              0.0,
              "#0d0887"
             ],
             [
              0.1111111111111111,
              "#46039f"
             ],
             [
              0.2222222222222222,
              "#7201a8"
             ],
             [
              0.3333333333333333,
              "#9c179e"
             ],
             [
              0.4444444444444444,
              "#bd3786"
             ],
             [
              0.5555555555555556,
              "#d8576b"
             ],
             [
              0.6666666666666666,
              "#ed7953"
             ],
             [
              0.7777777777777778,
              "#fb9f3a"
             ],
             [
              0.8888888888888888,
              "#fdca26"
             ],
             [
              1.0,
              "#f0f921"
             ]
            ]
           }
          ],
          "contourcarpet": [
           {
            "type": "contourcarpet",
            "colorbar": {
             "outlinewidth": 0,
             "ticks": ""
            }
           }
          ],
          "contour": [
           {
            "type": "contour",
            "colorbar": {
             "outlinewidth": 0,
             "ticks": ""
            },
            "colorscale": [
             [
              0.0,
              "#0d0887"
             ],
             [
              0.1111111111111111,
              "#46039f"
             ],
             [
              0.2222222222222222,
              "#7201a8"
             ],
             [
              0.3333333333333333,
              "#9c179e"
             ],
             [
              0.4444444444444444,
              "#bd3786"
             ],
             [
              0.5555555555555556,
              "#d8576b"
             ],
             [
              0.6666666666666666,
              "#ed7953"
             ],
             [
              0.7777777777777778,
              "#fb9f3a"
             ],
             [
              0.8888888888888888,
              "#fdca26"
             ],
             [
              1.0,
              "#f0f921"
             ]
            ]
           }
          ],
          "surface": [
           {
            "type": "surface",
            "colorbar": {
             "outlinewidth": 0,
             "ticks": ""
            },
            "colorscale": [
             [
              0.0,
              "#0d0887"
             ],
             [
              0.1111111111111111,
              "#46039f"
             ],
             [
              0.2222222222222222,
              "#7201a8"
             ],
             [
              0.3333333333333333,
              "#9c179e"
             ],
             [
              0.4444444444444444,
              "#bd3786"
             ],
             [
              0.5555555555555556,
              "#d8576b"
             ],
             [
              0.6666666666666666,
              "#ed7953"
             ],
             [
              0.7777777777777778,
              "#fb9f3a"
             ],
             [
              0.8888888888888888,
              "#fdca26"
             ],
             [
              1.0,
              "#f0f921"
             ]
            ]
           }
          ],
          "mesh3d": [
           {
            "type": "mesh3d",
            "colorbar": {
             "outlinewidth": 0,
             "ticks": ""
            }
           }
          ],
          "scatter": [
           {
            "marker": {
             "line": {
              "color": "#283442"
             }
            },
            "type": "scatter"
           }
          ],
          "parcoords": [
           {
            "type": "parcoords",
            "line": {
             "colorbar": {
              "outlinewidth": 0,
              "ticks": ""
             }
            }
           }
          ],
          "scatterpolargl": [
           {
            "type": "scatterpolargl",
            "marker": {
             "colorbar": {
              "outlinewidth": 0,
              "ticks": ""
             }
            }
           }
          ],
          "bar": [
           {
            "error_x": {
             "color": "#f2f5fa"
            },
            "error_y": {
             "color": "#f2f5fa"
            },
            "marker": {
             "line": {
              "color": "rgb(17,17,17)",
              "width": 0.5
             },
             "pattern": {
              "fillmode": "overlay",
              "size": 10,
              "solidity": 0.2
             }
            },
            "type": "bar"
           }
          ],
          "scattergeo": [
           {
            "type": "scattergeo",
            "marker": {
             "colorbar": {
              "outlinewidth": 0,
              "ticks": ""
             }
            }
           }
          ],
          "scatterpolar": [
           {
            "type": "scatterpolar",
            "marker": {
             "colorbar": {
              "outlinewidth": 0,
              "ticks": ""
             }
            }
           }
          ],
          "histogram": [
           {
            "marker": {
             "pattern": {
              "fillmode": "overlay",
              "size": 10,
              "solidity": 0.2
             }
            },
            "type": "histogram"
           }
          ],
          "scattergl": [
           {
            "marker": {
             "line": {
              "color": "#283442"
             }
            },
            "type": "scattergl"
           }
          ],
          "scatter3d": [
           {
            "type": "scatter3d",
            "line": {
             "colorbar": {
              "outlinewidth": 0,
              "ticks": ""
             }
            },
            "marker": {
             "colorbar": {
              "outlinewidth": 0,
              "ticks": ""
             }
            }
           }
          ],
          "scattermapbox": [
           {
            "type": "scattermapbox",
            "marker": {
             "colorbar": {
              "outlinewidth": 0,
              "ticks": ""
             }
            }
           }
          ],
          "scatterternary": [
           {
            "type": "scatterternary",
            "marker": {
             "colorbar": {
              "outlinewidth": 0,
              "ticks": ""
             }
            }
           }
          ],
          "scattercarpet": [
           {
            "type": "scattercarpet",
            "marker": {
             "colorbar": {
              "outlinewidth": 0,
              "ticks": ""
             }
            }
           }
          ],
          "carpet": [
           {
            "aaxis": {
             "endlinecolor": "#A2B1C6",
             "gridcolor": "#506784",
             "linecolor": "#506784",
             "minorgridcolor": "#506784",
             "startlinecolor": "#A2B1C6"
            },
            "baxis": {
             "endlinecolor": "#A2B1C6",
             "gridcolor": "#506784",
             "linecolor": "#506784",
             "minorgridcolor": "#506784",
             "startlinecolor": "#A2B1C6"
            },
            "type": "carpet"
           }
          ],
          "table": [
           {
            "cells": {
             "fill": {
              "color": "#506784"
             },
             "line": {
              "color": "rgb(17,17,17)"
             }
            },
            "header": {
             "fill": {
              "color": "#2a3f5f"
             },
             "line": {
              "color": "rgb(17,17,17)"
             }
            },
            "type": "table"
           }
          ],
          "barpolar": [
           {
            "marker": {
             "line": {
              "color": "rgb(17,17,17)",
              "width": 0.5
             },
             "pattern": {
              "fillmode": "overlay",
              "size": 10,
              "solidity": 0.2
             }
            },
            "type": "barpolar"
           }
          ],
          "pie": [
           {
            "automargin": true,
            "type": "pie"
           }
          ]
         },
         "layout": {
          "autotypenumbers": "strict",
          "colorway": [
           "#636efa",
           "#EF553B",
           "#00cc96",
           "#ab63fa",
           "#FFA15A",
           "#19d3f3",
           "#FF6692",
           "#B6E880",
           "#FF97FF",
           "#FECB52"
          ],
          "font": {
           "color": "#f2f5fa"
          },
          "hovermode": "closest",
          "hoverlabel": {
           "align": "left"
          },
          "paper_bgcolor": "rgb(17,17,17)",
          "plot_bgcolor": "rgb(17,17,17)",
          "polar": {
           "bgcolor": "rgb(17,17,17)",
           "angularaxis": {
            "gridcolor": "#506784",
            "linecolor": "#506784",
            "ticks": ""
           },
           "radialaxis": {
            "gridcolor": "#506784",
            "linecolor": "#506784",
            "ticks": ""
           }
          },
          "ternary": {
           "bgcolor": "rgb(17,17,17)",
           "aaxis": {
            "gridcolor": "#506784",
            "linecolor": "#506784",
            "ticks": ""
           },
           "baxis": {
            "gridcolor": "#506784",
            "linecolor": "#506784",
            "ticks": ""
           },
           "caxis": {
            "gridcolor": "#506784",
            "linecolor": "#506784",
            "ticks": ""
           }
          },
          "coloraxis": {
           "colorbar": {
            "outlinewidth": 0,
            "ticks": ""
           }
          },
          "colorscale": {
           "sequential": [
            [
             0.0,
             "#0d0887"
            ],
            [
             0.1111111111111111,
             "#46039f"
            ],
            [
             0.2222222222222222,
             "#7201a8"
            ],
            [
             0.3333333333333333,
             "#9c179e"
            ],
            [
             0.4444444444444444,
             "#bd3786"
            ],
            [
             0.5555555555555556,
             "#d8576b"
            ],
            [
             0.6666666666666666,
             "#ed7953"
            ],
            [
             0.7777777777777778,
             "#fb9f3a"
            ],
            [
             0.8888888888888888,
             "#fdca26"
            ],
            [
             1.0,
             "#f0f921"
            ]
           ],
           "sequentialminus": [
            [
             0.0,
             "#0d0887"
            ],
            [
             0.1111111111111111,
             "#46039f"
            ],
            [
             0.2222222222222222,
             "#7201a8"
            ],
            [
             0.3333333333333333,
             "#9c179e"
            ],
            [
             0.4444444444444444,
             "#bd3786"
            ],
            [
             0.5555555555555556,
             "#d8576b"
            ],
            [
             0.6666666666666666,
             "#ed7953"
            ],
            [
             0.7777777777777778,
             "#fb9f3a"
            ],
            [
             0.8888888888888888,
             "#fdca26"
            ],
            [
             1.0,
             "#f0f921"
            ]
           ],
           "diverging": [
            [
             0,
             "#8e0152"
            ],
            [
             0.1,
             "#c51b7d"
            ],
            [
             0.2,
             "#de77ae"
            ],
            [
             0.3,
             "#f1b6da"
            ],
            [
             0.4,
             "#fde0ef"
            ],
            [
             0.5,
             "#f7f7f7"
            ],
            [
             0.6,
             "#e6f5d0"
            ],
            [
             0.7,
             "#b8e186"
            ],
            [
             0.8,
             "#7fbc41"
            ],
            [
             0.9,
             "#4d9221"
            ],
            [
             1,
             "#276419"
            ]
           ]
          },
          "xaxis": {
           "gridcolor": "#283442",
           "linecolor": "#506784",
           "ticks": "",
           "title": {
            "standoff": 15
           },
           "zerolinecolor": "#283442",
           "automargin": true,
           "zerolinewidth": 2
          },
          "yaxis": {
           "gridcolor": "#283442",
           "linecolor": "#506784",
           "ticks": "",
           "title": {
            "standoff": 15
           },
           "zerolinecolor": "#283442",
           "automargin": true,
           "zerolinewidth": 2
          },
          "scene": {
           "xaxis": {
            "backgroundcolor": "rgb(17,17,17)",
            "gridcolor": "#506784",
            "linecolor": "#506784",
            "showbackground": true,
            "ticks": "",
            "zerolinecolor": "#C8D4E3",
            "gridwidth": 2
           },
           "yaxis": {
            "backgroundcolor": "rgb(17,17,17)",
            "gridcolor": "#506784",
            "linecolor": "#506784",
            "showbackground": true,
            "ticks": "",
            "zerolinecolor": "#C8D4E3",
            "gridwidth": 2
           },
           "zaxis": {
            "backgroundcolor": "rgb(17,17,17)",
            "gridcolor": "#506784",
            "linecolor": "#506784",
            "showbackground": true,
            "ticks": "",
            "zerolinecolor": "#C8D4E3",
            "gridwidth": 2
           }
          },
          "shapedefaults": {
           "line": {
            "color": "#f2f5fa"
           }
          },
          "annotationdefaults": {
           "arrowcolor": "#f2f5fa",
           "arrowhead": 0,
           "arrowwidth": 1
          },
          "geo": {
           "bgcolor": "rgb(17,17,17)",
           "landcolor": "rgb(17,17,17)",
           "subunitcolor": "#506784",
           "showland": true,
           "showlakes": true,
           "lakecolor": "rgb(17,17,17)"
          },
          "title": {
           "x": 0.05
          },
          "updatemenudefaults": {
           "bgcolor": "#506784",
           "borderwidth": 0
          },
          "sliderdefaults": {
           "bgcolor": "#C8D4E3",
           "borderwidth": 1,
           "bordercolor": "rgb(17,17,17)",
           "tickwidth": 0
          },
          "mapbox": {
           "style": "dark"
          }
         }
        },
        "xaxis": {
         "anchor": "y",
         "domain": [
          0.0,
          1.0
         ],
         "title": {
          "text": "Democratie rangschikking 2023"
         }
        },
        "yaxis": {
         "anchor": "x",
         "domain": [
          0.0,
          1.0
         ],
         "title": {
          "text": "Persvrijheid rangschikking 2023"
         }
        },
        "legend": {
         "tracegroupgap": 0
        },
        "title": {
         "text": "Democracy vs Persvrijheid rangschikking 2023 "
        }
       },
       "config": {
        "plotlyServerURL": "https://plot.ly"
       }
      },
      "text/html": [
       "<div>                            <div id=\"68e3c98a-19ca-4992-ab31-f4e5d8d82ece\" class=\"plotly-graph-div\" style=\"height:525px; width:100%;\"></div>            <script type=\"text/javascript\">                require([\"plotly\"], function(Plotly) {                    window.PLOTLYENV=window.PLOTLYENV || {};                                    if (document.getElementById(\"68e3c98a-19ca-4992-ab31-f4e5d8d82ece\")) {                    Plotly.newPlot(                        \"68e3c98a-19ca-4992-ab31-f4e5d8d82ece\",                        [{\"customdata\":[[\"Norway\"],[\"Finland\"],[\"Sweden\"],[\"Netherlands\"],[\"Denmark\"],[\"Switzerland\"],[\"New Zealand\"],[\"Jamaica\"],[\"Belgium\"],[\"Costa Rica\"],[\"Estonia\"],[\"Portugal\"],[\"Germany\"],[\"Iceland\"],[\"Ireland\"],[\"Austria\"],[\"Luxembourg\"],[\"Canada\"],[\"Uruguay\"],[\"Suriname\"],[\"Australia\"],[\"Namibia\"],[\"Latvia\"],[\"Ghana\"],[\"Cyprus\"],[\"Spain\"],[\"Lithuania\"],[\"South Africa\"],[\"France\"],[\"United Kingdom\"],[\"Slovenia\"],[\"Slovakia\"],[\"Burkina Faso\"],[\"Papua New Guinea\"],[\"Trinidad and Tobago\"],[\"South Korea\"],[\"Taiwan\"],[\"Italy\"],[\"Botswana\"],[\"Chile\"],[\"Romania\"],[\"United States\"],[\"Senegal\"],[\"Guyana\"],[\"Fiji\"],[\"Madagascar\"],[\"Dominican Republic\"],[\"Comoros\"],[\"Argentina\"],[\"Mauritius\"],[\"Poland\"],[\"Georgia\"],[\"Armenia\"],[\"Haiti\"],[\"Croatia\"],[\"Greece\"],[\"Niger\"],[\"Japan\"],[\"Malawi\"],[\"Mongolia\"],[\"Tunisia\"],[\"Togo\"],[\"Malta\"],[\"Lesotho\"],[\"Panama\"],[\"Bhutan\"],[\"El Salvador\"],[\"Albania\"],[\"Kyrgyzstan\"],[\"East Timor\"],[\"Peru\"],[\"Sierra Leone\"],[\"Hungary\"],[\"Israel\"],[\"Guinea-Bissau\"],[\"Serbia\"],[\"Moldova\"],[\"Gambia\"],[\"Liberia\"],[\"Mauritania\"],[\"North Macedonia\"],[\"Benin\"],[\"Ecuador\"],[\"Paraguay\"],[\"Kenya\"],[\"Lebanon\"],[\"Ukraine\"],[\"Mozambique\"],[\"Montenegro\"],[\"Brazil\"],[\"Nepal\"],[\"Guinea\"],[\"Kuwait\"],[\"Angola\"],[\"Ethiopia\"],[\"Bulgaria\"],[\"Mali\"],[\"Bolivia\"],[\"Nicaragua\"],[\"Gabon\"],[\"Guatemala\"],[\"Tanzania\"],[\"Zambia\"],[\"Nigeria\"],[\"Malaysia\"],[\"Indonesia\"],[\"Uganda\"],[\"Sri Lanka\"],[\"Zimbabwe\"],[\"Qatar\"],[\"Colombia\"],[\"Jordan\"],[\"Cameroon\"],[\"Oman\"],[\"United Arab Emirates\"],[\"Philippines\"],[\"Thailand\"],[\"Palestine\"],[\"India\"],[\"Algeria\"],[\"Pakistan\"],[\"Cambodia\"],[\"Mexico\"],[\"Honduras\"],[\"Venezuela\"],[\"Russia\"],[\"Bangladesh\"],[\"Singapore\"],[\"Rwanda\"],[\"Iraq\"],[\"Kazakhstan\"],[\"Burundi\"],[\"Egypt\"],[\"Azerbaijan\"],[\"Bahrain\"],[\"Cuba\"],[\"Djibouti\"],[\"Vietnam\"],[\"China\"]],\"hovertemplate\":\"democratie_rang_2023=%{x}\\u003cbr\\u003epersvrijheid_rang_2023=%{y}\\u003cbr\\u003eland=%{customdata[0]}\\u003cextra\\u003e\\u003c\\u002fextra\\u003e\",\"legendgroup\":\"\",\"marker\":{\"color\":\"#636efa\",\"symbol\":\"circle\"},\"mode\":\"markers\",\"name\":\"\",\"orientation\":\"v\",\"showlegend\":false,\"x\":[1,5,4,9,6,8,2,38,31,16,23,27,12,3,7,17,11,13,14,41,14,49,32,57,32,20,33,39,20,17,27,37,121,64,36,19,10,29,28,21,52,25,74,59,71,78,53,112,46,18,35,80,75,117,50,18,129,15,67,51,73,114,24,63,40,72,87,58,99,38,68,93,42,26,128,56,60,91,70,98,64,88,76,65,83,102,82,103,44,43,89,133,104,97,106,54,125,96,131,134,91,77,69,94,34,48,90,62,112,101,47,112,126,109,113,45,55,105,35,100,108,111,81,86,130,132,66,61,107,116,110,135,115,118,127,123,122,124,136],\"xaxis\":\"x\",\"y\":[1,5,4,6,3,12,13,32,31,23,8,9,21,18,2,29,20,15,52,48,27,22,16,62,55,36,7,25,24,26,50,17,58,59,30,47,35,41,65,83,53,45,104,60,89,101,43,75,40,63,57,77,49,99,42,107,61,68,82,88,121,70,84,67,69,90,115,96,122,10,110,74,72,97,78,91,28,46,66,86,38,112,80,103,116,119,79,102,39,92,95,85,154,125,130,71,113,117,158,94,127,143,87,123,73,108,133,135,126,105,139,146,138,155,145,132,106,156,161,136,150,147,128,169,159,164,163,129,131,167,134,114,166,151,171,172,162,178,179],\"yaxis\":\"y\",\"type\":\"scatter\"},{\"hovertemplate\":\"\\u003cb\\u003eOLS trendline\\u003c\\u002fb\\u003e\\u003cbr\\u003epersvrijheid_rang_2023 = 0.947613 * democratie_rang_2023 + 21.3841\\u003cbr\\u003eR\\u003csup\\u003e2\\u003c\\u002fsup\\u003e=0.568201\\u003cbr\\u003e\\u003cbr\\u003edemocratie_rang_2023=%{x}\\u003cbr\\u003epersvrijheid_rang_2023=%{y} \\u003cb\\u003e(trend)\\u003c\\u002fb\\u003e\\u003cextra\\u003e\\u003c\\u002fextra\\u003e\",\"legendgroup\":\"\",\"marker\":{\"color\":\"#636efa\",\"symbol\":\"circle\"},\"mode\":\"lines\",\"name\":\"\",\"showlegend\":false,\"x\":[1,2,3,4,5,6,7,8,9,10,11,12,13,14,14,15,16,17,17,18,18,19,20,20,21,23,24,25,26,27,27,28,29,31,32,32,33,34,35,35,36,37,38,38,39,40,41,42,43,44,45,46,47,48,49,50,51,52,53,54,55,56,57,58,59,60,61,62,63,64,64,65,66,67,68,69,70,71,72,73,74,75,76,77,78,80,81,82,83,86,87,88,89,90,91,91,93,94,96,97,98,99,100,101,102,103,104,105,106,107,108,109,110,111,112,112,112,113,114,115,116,117,118,121,122,123,124,125,126,127,128,129,130,131,132,133,134,135,136],\"xaxis\":\"x\",\"y\":[22.331726186522836,23.27933886065342,24.226951534784007,25.174564208914596,26.12217688304518,27.069789557175767,28.017402231306352,28.965014905436938,29.912627579567527,30.860240253698112,31.807852927828698,32.75546560195929,33.70307827608987,34.65069095022046,34.65069095022046,35.59830362435105,36.54591629848163,37.49352897261221,37.49352897261221,38.4411416467428,38.4411416467428,39.38875432087339,40.33636699500397,40.33636699500397,41.28397966913456,43.17920501739573,44.12681769152631,45.07443036565691,46.02204303978749,46.96965571391807,46.96965571391807,47.91726838804866,48.86488106217925,50.76010641044042,51.70771908457101,51.70771908457101,52.65533175870159,53.602944432832174,54.55055710696277,54.55055710696277,55.49816978109335,56.445782455223934,57.39339512935453,57.39339512935453,58.34100780348511,59.288620477615694,60.236233151746276,61.18384582587687,62.131458500007454,63.079071174138036,64.02668384826863,64.97429652239921,65.9219091965298,66.86952187066038,67.81713454479097,68.76474721892156,69.71235989305214,70.65997256718273,71.60758524131332,72.5551979154439,73.5028105895745,74.45042326370508,75.39803593783566,76.34564861196624,77.29326128609684,78.24087396022742,79.188486634358,80.1360993084886,81.08371198261918,82.03132465674976,82.03132465674976,82.97893733088036,83.92655000501094,84.87416267914152,85.8217753532721,86.76938802740268,87.71700070153328,88.66461337566386,89.61222604979444,90.55983872392504,91.50745139805562,92.4550640721862,93.4026767463168,94.35028942044738,95.29790209457796,97.19312744283914,98.14074011696972,99.0883527911003,100.0359654652309,102.87880348762266,103.82641616175324,104.77402883588383,105.72164151001441,106.669254184145,107.61686685827559,107.61686685827559,109.51209220653676,110.45970488066735,112.35493022892851,113.3025429030591,114.25015557718969,115.19776825132027,116.14538092545087,117.09299359958145,118.04060627371203,118.98821894784263,119.93583162197321,120.88344429610379,121.83105697023437,122.77866964436497,123.72628231849555,124.67389499262613,125.62150766675673,126.56912034088731,127.51673301501789,127.51673301501789,127.51673301501789,128.4643456891485,129.41195836327907,130.35957103740967,131.30718371154023,132.25479638567083,133.20240905980143,136.04524708219319,136.99285975632375,137.94047243045435,138.88808510458495,139.8356977787155,140.7833104528461,141.7309231269767,142.67853580110727,143.62614847523787,144.57376114936847,145.52137382349903,146.46898649762963,147.4165991717602,148.3642118458908,149.3118245200214,150.25943719415196],\"yaxis\":\"y\",\"type\":\"scatter\",\"line\":{\"color\":\"black\"}}],                        {\"template\":{\"data\":{\"histogram2dcontour\":[{\"type\":\"histogram2dcontour\",\"colorbar\":{\"outlinewidth\":0,\"ticks\":\"\"},\"colorscale\":[[0.0,\"#0d0887\"],[0.1111111111111111,\"#46039f\"],[0.2222222222222222,\"#7201a8\"],[0.3333333333333333,\"#9c179e\"],[0.4444444444444444,\"#bd3786\"],[0.5555555555555556,\"#d8576b\"],[0.6666666666666666,\"#ed7953\"],[0.7777777777777778,\"#fb9f3a\"],[0.8888888888888888,\"#fdca26\"],[1.0,\"#f0f921\"]]}],\"choropleth\":[{\"type\":\"choropleth\",\"colorbar\":{\"outlinewidth\":0,\"ticks\":\"\"}}],\"histogram2d\":[{\"type\":\"histogram2d\",\"colorbar\":{\"outlinewidth\":0,\"ticks\":\"\"},\"colorscale\":[[0.0,\"#0d0887\"],[0.1111111111111111,\"#46039f\"],[0.2222222222222222,\"#7201a8\"],[0.3333333333333333,\"#9c179e\"],[0.4444444444444444,\"#bd3786\"],[0.5555555555555556,\"#d8576b\"],[0.6666666666666666,\"#ed7953\"],[0.7777777777777778,\"#fb9f3a\"],[0.8888888888888888,\"#fdca26\"],[1.0,\"#f0f921\"]]}],\"heatmap\":[{\"type\":\"heatmap\",\"colorbar\":{\"outlinewidth\":0,\"ticks\":\"\"},\"colorscale\":[[0.0,\"#0d0887\"],[0.1111111111111111,\"#46039f\"],[0.2222222222222222,\"#7201a8\"],[0.3333333333333333,\"#9c179e\"],[0.4444444444444444,\"#bd3786\"],[0.5555555555555556,\"#d8576b\"],[0.6666666666666666,\"#ed7953\"],[0.7777777777777778,\"#fb9f3a\"],[0.8888888888888888,\"#fdca26\"],[1.0,\"#f0f921\"]]}],\"heatmapgl\":[{\"type\":\"heatmapgl\",\"colorbar\":{\"outlinewidth\":0,\"ticks\":\"\"},\"colorscale\":[[0.0,\"#0d0887\"],[0.1111111111111111,\"#46039f\"],[0.2222222222222222,\"#7201a8\"],[0.3333333333333333,\"#9c179e\"],[0.4444444444444444,\"#bd3786\"],[0.5555555555555556,\"#d8576b\"],[0.6666666666666666,\"#ed7953\"],[0.7777777777777778,\"#fb9f3a\"],[0.8888888888888888,\"#fdca26\"],[1.0,\"#f0f921\"]]}],\"contourcarpet\":[{\"type\":\"contourcarpet\",\"colorbar\":{\"outlinewidth\":0,\"ticks\":\"\"}}],\"contour\":[{\"type\":\"contour\",\"colorbar\":{\"outlinewidth\":0,\"ticks\":\"\"},\"colorscale\":[[0.0,\"#0d0887\"],[0.1111111111111111,\"#46039f\"],[0.2222222222222222,\"#7201a8\"],[0.3333333333333333,\"#9c179e\"],[0.4444444444444444,\"#bd3786\"],[0.5555555555555556,\"#d8576b\"],[0.6666666666666666,\"#ed7953\"],[0.7777777777777778,\"#fb9f3a\"],[0.8888888888888888,\"#fdca26\"],[1.0,\"#f0f921\"]]}],\"surface\":[{\"type\":\"surface\",\"colorbar\":{\"outlinewidth\":0,\"ticks\":\"\"},\"colorscale\":[[0.0,\"#0d0887\"],[0.1111111111111111,\"#46039f\"],[0.2222222222222222,\"#7201a8\"],[0.3333333333333333,\"#9c179e\"],[0.4444444444444444,\"#bd3786\"],[0.5555555555555556,\"#d8576b\"],[0.6666666666666666,\"#ed7953\"],[0.7777777777777778,\"#fb9f3a\"],[0.8888888888888888,\"#fdca26\"],[1.0,\"#f0f921\"]]}],\"mesh3d\":[{\"type\":\"mesh3d\",\"colorbar\":{\"outlinewidth\":0,\"ticks\":\"\"}}],\"scatter\":[{\"marker\":{\"line\":{\"color\":\"#283442\"}},\"type\":\"scatter\"}],\"parcoords\":[{\"type\":\"parcoords\",\"line\":{\"colorbar\":{\"outlinewidth\":0,\"ticks\":\"\"}}}],\"scatterpolargl\":[{\"type\":\"scatterpolargl\",\"marker\":{\"colorbar\":{\"outlinewidth\":0,\"ticks\":\"\"}}}],\"bar\":[{\"error_x\":{\"color\":\"#f2f5fa\"},\"error_y\":{\"color\":\"#f2f5fa\"},\"marker\":{\"line\":{\"color\":\"rgb(17,17,17)\",\"width\":0.5},\"pattern\":{\"fillmode\":\"overlay\",\"size\":10,\"solidity\":0.2}},\"type\":\"bar\"}],\"scattergeo\":[{\"type\":\"scattergeo\",\"marker\":{\"colorbar\":{\"outlinewidth\":0,\"ticks\":\"\"}}}],\"scatterpolar\":[{\"type\":\"scatterpolar\",\"marker\":{\"colorbar\":{\"outlinewidth\":0,\"ticks\":\"\"}}}],\"histogram\":[{\"marker\":{\"pattern\":{\"fillmode\":\"overlay\",\"size\":10,\"solidity\":0.2}},\"type\":\"histogram\"}],\"scattergl\":[{\"marker\":{\"line\":{\"color\":\"#283442\"}},\"type\":\"scattergl\"}],\"scatter3d\":[{\"type\":\"scatter3d\",\"line\":{\"colorbar\":{\"outlinewidth\":0,\"ticks\":\"\"}},\"marker\":{\"colorbar\":{\"outlinewidth\":0,\"ticks\":\"\"}}}],\"scattermapbox\":[{\"type\":\"scattermapbox\",\"marker\":{\"colorbar\":{\"outlinewidth\":0,\"ticks\":\"\"}}}],\"scatterternary\":[{\"type\":\"scatterternary\",\"marker\":{\"colorbar\":{\"outlinewidth\":0,\"ticks\":\"\"}}}],\"scattercarpet\":[{\"type\":\"scattercarpet\",\"marker\":{\"colorbar\":{\"outlinewidth\":0,\"ticks\":\"\"}}}],\"carpet\":[{\"aaxis\":{\"endlinecolor\":\"#A2B1C6\",\"gridcolor\":\"#506784\",\"linecolor\":\"#506784\",\"minorgridcolor\":\"#506784\",\"startlinecolor\":\"#A2B1C6\"},\"baxis\":{\"endlinecolor\":\"#A2B1C6\",\"gridcolor\":\"#506784\",\"linecolor\":\"#506784\",\"minorgridcolor\":\"#506784\",\"startlinecolor\":\"#A2B1C6\"},\"type\":\"carpet\"}],\"table\":[{\"cells\":{\"fill\":{\"color\":\"#506784\"},\"line\":{\"color\":\"rgb(17,17,17)\"}},\"header\":{\"fill\":{\"color\":\"#2a3f5f\"},\"line\":{\"color\":\"rgb(17,17,17)\"}},\"type\":\"table\"}],\"barpolar\":[{\"marker\":{\"line\":{\"color\":\"rgb(17,17,17)\",\"width\":0.5},\"pattern\":{\"fillmode\":\"overlay\",\"size\":10,\"solidity\":0.2}},\"type\":\"barpolar\"}],\"pie\":[{\"automargin\":true,\"type\":\"pie\"}]},\"layout\":{\"autotypenumbers\":\"strict\",\"colorway\":[\"#636efa\",\"#EF553B\",\"#00cc96\",\"#ab63fa\",\"#FFA15A\",\"#19d3f3\",\"#FF6692\",\"#B6E880\",\"#FF97FF\",\"#FECB52\"],\"font\":{\"color\":\"#f2f5fa\"},\"hovermode\":\"closest\",\"hoverlabel\":{\"align\":\"left\"},\"paper_bgcolor\":\"rgb(17,17,17)\",\"plot_bgcolor\":\"rgb(17,17,17)\",\"polar\":{\"bgcolor\":\"rgb(17,17,17)\",\"angularaxis\":{\"gridcolor\":\"#506784\",\"linecolor\":\"#506784\",\"ticks\":\"\"},\"radialaxis\":{\"gridcolor\":\"#506784\",\"linecolor\":\"#506784\",\"ticks\":\"\"}},\"ternary\":{\"bgcolor\":\"rgb(17,17,17)\",\"aaxis\":{\"gridcolor\":\"#506784\",\"linecolor\":\"#506784\",\"ticks\":\"\"},\"baxis\":{\"gridcolor\":\"#506784\",\"linecolor\":\"#506784\",\"ticks\":\"\"},\"caxis\":{\"gridcolor\":\"#506784\",\"linecolor\":\"#506784\",\"ticks\":\"\"}},\"coloraxis\":{\"colorbar\":{\"outlinewidth\":0,\"ticks\":\"\"}},\"colorscale\":{\"sequential\":[[0.0,\"#0d0887\"],[0.1111111111111111,\"#46039f\"],[0.2222222222222222,\"#7201a8\"],[0.3333333333333333,\"#9c179e\"],[0.4444444444444444,\"#bd3786\"],[0.5555555555555556,\"#d8576b\"],[0.6666666666666666,\"#ed7953\"],[0.7777777777777778,\"#fb9f3a\"],[0.8888888888888888,\"#fdca26\"],[1.0,\"#f0f921\"]],\"sequentialminus\":[[0.0,\"#0d0887\"],[0.1111111111111111,\"#46039f\"],[0.2222222222222222,\"#7201a8\"],[0.3333333333333333,\"#9c179e\"],[0.4444444444444444,\"#bd3786\"],[0.5555555555555556,\"#d8576b\"],[0.6666666666666666,\"#ed7953\"],[0.7777777777777778,\"#fb9f3a\"],[0.8888888888888888,\"#fdca26\"],[1.0,\"#f0f921\"]],\"diverging\":[[0,\"#8e0152\"],[0.1,\"#c51b7d\"],[0.2,\"#de77ae\"],[0.3,\"#f1b6da\"],[0.4,\"#fde0ef\"],[0.5,\"#f7f7f7\"],[0.6,\"#e6f5d0\"],[0.7,\"#b8e186\"],[0.8,\"#7fbc41\"],[0.9,\"#4d9221\"],[1,\"#276419\"]]},\"xaxis\":{\"gridcolor\":\"#283442\",\"linecolor\":\"#506784\",\"ticks\":\"\",\"title\":{\"standoff\":15},\"zerolinecolor\":\"#283442\",\"automargin\":true,\"zerolinewidth\":2},\"yaxis\":{\"gridcolor\":\"#283442\",\"linecolor\":\"#506784\",\"ticks\":\"\",\"title\":{\"standoff\":15},\"zerolinecolor\":\"#283442\",\"automargin\":true,\"zerolinewidth\":2},\"scene\":{\"xaxis\":{\"backgroundcolor\":\"rgb(17,17,17)\",\"gridcolor\":\"#506784\",\"linecolor\":\"#506784\",\"showbackground\":true,\"ticks\":\"\",\"zerolinecolor\":\"#C8D4E3\",\"gridwidth\":2},\"yaxis\":{\"backgroundcolor\":\"rgb(17,17,17)\",\"gridcolor\":\"#506784\",\"linecolor\":\"#506784\",\"showbackground\":true,\"ticks\":\"\",\"zerolinecolor\":\"#C8D4E3\",\"gridwidth\":2},\"zaxis\":{\"backgroundcolor\":\"rgb(17,17,17)\",\"gridcolor\":\"#506784\",\"linecolor\":\"#506784\",\"showbackground\":true,\"ticks\":\"\",\"zerolinecolor\":\"#C8D4E3\",\"gridwidth\":2}},\"shapedefaults\":{\"line\":{\"color\":\"#f2f5fa\"}},\"annotationdefaults\":{\"arrowcolor\":\"#f2f5fa\",\"arrowhead\":0,\"arrowwidth\":1},\"geo\":{\"bgcolor\":\"rgb(17,17,17)\",\"landcolor\":\"rgb(17,17,17)\",\"subunitcolor\":\"#506784\",\"showland\":true,\"showlakes\":true,\"lakecolor\":\"rgb(17,17,17)\"},\"title\":{\"x\":0.05},\"updatemenudefaults\":{\"bgcolor\":\"#506784\",\"borderwidth\":0},\"sliderdefaults\":{\"bgcolor\":\"#C8D4E3\",\"borderwidth\":1,\"bordercolor\":\"rgb(17,17,17)\",\"tickwidth\":0},\"mapbox\":{\"style\":\"dark\"}}},\"xaxis\":{\"anchor\":\"y\",\"domain\":[0.0,1.0],\"title\":{\"text\":\"Democratie rangschikking 2023\"}},\"yaxis\":{\"anchor\":\"x\",\"domain\":[0.0,1.0],\"title\":{\"text\":\"Persvrijheid rangschikking 2023\"}},\"legend\":{\"tracegroupgap\":0},\"title\":{\"text\":\"Democracy vs Persvrijheid rangschikking 2023 \"}},                        {\"responsive\": true}                    ).then(function(){\n",
       "                            \n",
       "var gd = document.getElementById('68e3c98a-19ca-4992-ab31-f4e5d8d82ece');\n",
       "var x = new MutationObserver(function (mutations, observer) {{\n",
       "        var display = window.getComputedStyle(gd).display;\n",
       "        if (!display || display === 'none') {{\n",
       "            console.log([gd, 'removed!']);\n",
       "            Plotly.purge(gd);\n",
       "            observer.disconnect();\n",
       "        }}\n",
       "}});\n",
       "\n",
       "// Listen for the removal of the full notebook cells\n",
       "var notebookContainer = gd.closest('#notebook-container');\n",
       "if (notebookContainer) {{\n",
       "    x.observe(notebookContainer, {childList: true});\n",
       "}}\n",
       "\n",
       "// Listen for the clearing of the current output cell\n",
       "var outputEl = gd.closest('.output');\n",
       "if (outputEl) {{\n",
       "    x.observe(outputEl, {childList: true});\n",
       "}}\n",
       "\n",
       "                        })                };                });            </script>        </div>"
      ]
     },
     "metadata": {},
     "output_type": "display_data"
    },
    {
     "name": "stdout",
     "output_type": "stream",
     "text": [
      "Figuur 6\n",
      "Correlatie tussen de democratie rangschikking en de persvrijheid rangschikking: 0.7537908881085531\n"
     ]
    }
   ],
   "execution_count": 4
  },
  {
   "cell_type": "markdown",
   "metadata": {},
   "source": [
    "In figuur 6 te zien dat naarmate de democratische normen afnemen en een land autocratischer wordt, de persvrijheids rangschikking stijgt, wat neerkomt op minder persvrijheid. Deze scatterplot toont een sterke correlatie van ongeveer 0.75, wat een duidelijk verband aantoont tussen de bestuursvorm en de persvrijheid."
   ]
  },
  {
   "cell_type": "markdown",
   "metadata": {},
   "source": [
    "## Argument 2\n",
    "\n",
    "**Landen met een meer autocratische bestuursvorm hebben vaker conflicten.**\n",
    "\n",
    "Autocratische bestuursvormen concentreren de macht in handen van een enkele leider of een kleine groep, met beperkte politieke vrijheden en burgerrechten. In deze systemen worden dissidente stemmen vaak onderdrukt en media gecontroleerd. Intern kunnen autocratische regimes geweld en repressie gebruiken om oppositie te onderdrukken, wat kan leiden tot opstanden en burgeroorlogen. Daarnaast kunnen ze militaire agressie inzetten om hun macht te versterken en territoriale ambities na te streven. Deze focus op controle en macht maakt autocratische regimes vaak geneigd om conflicten te escaleren, wat zowel nationaal als internationaal verstrekkende gevolgen heeft. Begrip van deze dynamiek is essentieel voor het bevorderen van vrede en stabiliteit.\n",
    "\n",
    "Figuur 7 toont een scatterplot van de democratie rangschikking versus de conflict rangschikking in 2023. In deze grafiek zien we een lichte correlatie tussen de mate van democratie en het aantal conflicten in een land. Een hogere democratie rang betekent een meer autocratische bestuursvorm. Bij de conflict rangschikking betekent een hogere rang minder conflicten en een lagere rang dus meer conflicten.\n"
   ]
  },
  {
   "cell_type": "code",
   "metadata": {
    "ExecuteTime": {
     "end_time": "2024-06-27T12:50:47.433263Z",
     "start_time": "2024-06-27T12:50:47.388264Z"
    }
   },
   "source": [
    "# creeer een scatterplot om de relatie tussen de democratie en conflict aan te geven per land\n",
    "\n",
    "fig = px.scatter(\n",
    "    eind_df,\n",
    "    x='democratie_rang_2023',\n",
    "    y='conflict_rang_2023',\n",
    "    title = 'Democratie rangschikking vs Conflict rangschikking 2023',\n",
    "    hover_data=['land'],\n",
    "    trendline=\"ols\",\n",
    ")\n",
    "\n",
    "fig.update_layout(\n",
    "    xaxis_title=\"Democratie rangschikking 2023\",\n",
    "    yaxis_title=\"Conflict rangschikking 2023\"\n",
    ")\n",
    "\n",
    "for trace in fig.data:\n",
    "    if trace.mode == \"lines\":\n",
    "        trace.line.color = \"black\"\n",
    "\n",
    "\n",
    "fig.show()\n",
    "\n",
    "print('Figuur 7')\n",
    "\n",
    "correlation = eind_df[\"democratie_rang_2023\"].corr(eind_df[\"conflict_rang_2023\"])\n",
    "print(f\"Correlatie tussen de democratie rangschikking en de conflict rangschikking: {correlation}\")"
   ],
   "outputs": [
    {
     "data": {
      "application/vnd.plotly.v1+json": {
       "data": [
        {
         "customdata": [
          [
           "Norway"
          ],
          [
           "Finland"
          ],
          [
           "Sweden"
          ],
          [
           "Netherlands"
          ],
          [
           "Denmark"
          ],
          [
           "Switzerland"
          ],
          [
           "New Zealand"
          ],
          [
           "Jamaica"
          ],
          [
           "Belgium"
          ],
          [
           "Costa Rica"
          ],
          [
           "Estonia"
          ],
          [
           "Portugal"
          ],
          [
           "Germany"
          ],
          [
           "Iceland"
          ],
          [
           "Ireland"
          ],
          [
           "Austria"
          ],
          [
           "Luxembourg"
          ],
          [
           "Canada"
          ],
          [
           "Uruguay"
          ],
          [
           "Suriname"
          ],
          [
           "Australia"
          ],
          [
           "Namibia"
          ],
          [
           "Latvia"
          ],
          [
           "Ghana"
          ],
          [
           "Cyprus"
          ],
          [
           "Spain"
          ],
          [
           "Lithuania"
          ],
          [
           "South Africa"
          ],
          [
           "France"
          ],
          [
           "United Kingdom"
          ],
          [
           "Slovenia"
          ],
          [
           "Slovakia"
          ],
          [
           "Burkina Faso"
          ],
          [
           "Papua New Guinea"
          ],
          [
           "Trinidad and Tobago"
          ],
          [
           "South Korea"
          ],
          [
           "Taiwan"
          ],
          [
           "Italy"
          ],
          [
           "Botswana"
          ],
          [
           "Chile"
          ],
          [
           "Romania"
          ],
          [
           "United States"
          ],
          [
           "Senegal"
          ],
          [
           "Guyana"
          ],
          [
           "Fiji"
          ],
          [
           "Madagascar"
          ],
          [
           "Dominican Republic"
          ],
          [
           "Comoros"
          ],
          [
           "Argentina"
          ],
          [
           "Mauritius"
          ],
          [
           "Poland"
          ],
          [
           "Georgia"
          ],
          [
           "Armenia"
          ],
          [
           "Haiti"
          ],
          [
           "Croatia"
          ],
          [
           "Greece"
          ],
          [
           "Niger"
          ],
          [
           "Japan"
          ],
          [
           "Malawi"
          ],
          [
           "Mongolia"
          ],
          [
           "Tunisia"
          ],
          [
           "Togo"
          ],
          [
           "Malta"
          ],
          [
           "Lesotho"
          ],
          [
           "Panama"
          ],
          [
           "Bhutan"
          ],
          [
           "El Salvador"
          ],
          [
           "Albania"
          ],
          [
           "Kyrgyzstan"
          ],
          [
           "East Timor"
          ],
          [
           "Peru"
          ],
          [
           "Sierra Leone"
          ],
          [
           "Hungary"
          ],
          [
           "Israel"
          ],
          [
           "Guinea-Bissau"
          ],
          [
           "Serbia"
          ],
          [
           "Moldova"
          ],
          [
           "Gambia"
          ],
          [
           "Liberia"
          ],
          [
           "Mauritania"
          ],
          [
           "North Macedonia"
          ],
          [
           "Benin"
          ],
          [
           "Ecuador"
          ],
          [
           "Paraguay"
          ],
          [
           "Kenya"
          ],
          [
           "Lebanon"
          ],
          [
           "Ukraine"
          ],
          [
           "Mozambique"
          ],
          [
           "Montenegro"
          ],
          [
           "Brazil"
          ],
          [
           "Nepal"
          ],
          [
           "Guinea"
          ],
          [
           "Kuwait"
          ],
          [
           "Angola"
          ],
          [
           "Ethiopia"
          ],
          [
           "Bulgaria"
          ],
          [
           "Mali"
          ],
          [
           "Bolivia"
          ],
          [
           "Nicaragua"
          ],
          [
           "Gabon"
          ],
          [
           "Guatemala"
          ],
          [
           "Tanzania"
          ],
          [
           "Zambia"
          ],
          [
           "Nigeria"
          ],
          [
           "Malaysia"
          ],
          [
           "Indonesia"
          ],
          [
           "Uganda"
          ],
          [
           "Sri Lanka"
          ],
          [
           "Zimbabwe"
          ],
          [
           "Qatar"
          ],
          [
           "Colombia"
          ],
          [
           "Jordan"
          ],
          [
           "Cameroon"
          ],
          [
           "Oman"
          ],
          [
           "United Arab Emirates"
          ],
          [
           "Philippines"
          ],
          [
           "Thailand"
          ],
          [
           "Palestine"
          ],
          [
           "India"
          ],
          [
           "Algeria"
          ],
          [
           "Pakistan"
          ],
          [
           "Cambodia"
          ],
          [
           "Mexico"
          ],
          [
           "Honduras"
          ],
          [
           "Venezuela"
          ],
          [
           "Russia"
          ],
          [
           "Bangladesh"
          ],
          [
           "Singapore"
          ],
          [
           "Rwanda"
          ],
          [
           "Iraq"
          ],
          [
           "Kazakhstan"
          ],
          [
           "Burundi"
          ],
          [
           "Egypt"
          ],
          [
           "Azerbaijan"
          ],
          [
           "Bahrain"
          ],
          [
           "Cuba"
          ],
          [
           "Djibouti"
          ],
          [
           "Vietnam"
          ],
          [
           "China"
          ]
         ],
         "hovertemplate": "democratie_rang_2023=%{x}<br>conflict_rang_2023=%{y}<br>land=%{customdata[0]}<extra></extra>",
         "legendgroup": "",
         "marker": {
          "color": "#636efa",
          "symbol": "circle"
         },
         "mode": "markers",
         "name": "",
         "orientation": "v",
         "showlegend": false,
         "x": [
          1,
          5,
          4,
          9,
          6,
          8,
          2,
          38,
          31,
          16,
          23,
          27,
          12,
          3,
          7,
          17,
          11,
          13,
          14,
          41,
          14,
          49,
          32,
          57,
          32,
          20,
          33,
          39,
          20,
          17,
          27,
          37,
          121,
          64,
          36,
          19,
          10,
          29,
          28,
          21,
          52,
          25,
          74,
          59,
          71,
          78,
          53,
          112,
          46,
          18,
          35,
          80,
          75,
          117,
          50,
          18,
          129,
          15,
          67,
          51,
          73,
          114,
          24,
          63,
          40,
          72,
          87,
          58,
          99,
          38,
          68,
          93,
          42,
          26,
          128,
          56,
          60,
          91,
          70,
          98,
          64,
          88,
          76,
          65,
          83,
          102,
          82,
          103,
          44,
          43,
          89,
          133,
          104,
          97,
          106,
          54,
          125,
          96,
          131,
          134,
          91,
          77,
          69,
          94,
          34,
          48,
          90,
          62,
          112,
          101,
          47,
          112,
          126,
          109,
          113,
          45,
          55,
          105,
          35,
          100,
          108,
          111,
          81,
          86,
          130,
          132,
          66,
          61,
          107,
          116,
          110,
          135,
          115,
          118,
          127,
          123,
          122,
          124,
          136
         ],
         "xaxis": "x",
         "y": [
          18,
          18,
          24,
          39,
          1,
          1,
          1,
          143,
          60,
          44,
          1,
          1,
          85,
          18,
          24,
          32,
          1,
          47,
          29,
          42,
          1,
          38,
          1,
          111,
          78,
          47,
          18,
          131,
          103,
          51,
          21,
          18,
          147,
          114,
          134,
          1,
          1,
          68,
          58,
          107,
          52,
          113,
          95,
          56,
          1,
          126,
          80,
          55,
          90,
          49,
          62,
          61,
          85,
          156,
          1,
          105,
          130,
          18,
          102,
          1,
          63,
          87,
          21,
          57,
          68,
          1,
          106,
          47,
          74,
          18,
          111,
          94,
          64,
          142,
          76,
          44,
          70,
          48,
          86,
          81,
          33,
          121,
          124,
          94,
          145,
          133,
          151,
          119,
          29,
          158,
          108,
          99,
          1,
          100,
          142,
          1,
          149,
          92,
          75,
          59,
          140,
          96,
          91,
          159,
          18,
          120,
          122,
          88,
          116,
          1,
          157,
          42,
          139,
          18,
          1,
          137,
          89,
          161,
          149,
          83,
          150,
          18,
          160,
          144,
          137,
          128,
          147,
          1,
          69,
          152,
          80,
          132,
          82,
          109,
          32,
          77,
          37,
          53,
          98
         ],
         "yaxis": "y",
         "type": "scatter"
        },
        {
         "hovertemplate": "<b>OLS trendline</b><br>conflict_rang_2023 = 0.53063 * democratie_rang_2023 + 39.375<br>R<sup>2</sup>=0.178117<br><br>democratie_rang_2023=%{x}<br>conflict_rang_2023=%{y} <b>(trend)</b><extra></extra>",
         "legendgroup": "",
         "marker": {
          "color": "#636efa",
          "symbol": "circle"
         },
         "mode": "lines",
         "name": "",
         "showlegend": false,
         "x": [
          1,
          2,
          3,
          4,
          5,
          6,
          7,
          8,
          9,
          10,
          11,
          12,
          13,
          14,
          14,
          15,
          16,
          17,
          17,
          18,
          18,
          19,
          20,
          20,
          21,
          23,
          24,
          25,
          26,
          27,
          27,
          28,
          29,
          31,
          32,
          32,
          33,
          34,
          35,
          35,
          36,
          37,
          38,
          38,
          39,
          40,
          41,
          42,
          43,
          44,
          45,
          46,
          47,
          48,
          49,
          50,
          51,
          52,
          53,
          54,
          55,
          56,
          57,
          58,
          59,
          60,
          61,
          62,
          63,
          64,
          64,
          65,
          66,
          67,
          68,
          69,
          70,
          71,
          72,
          73,
          74,
          75,
          76,
          77,
          78,
          80,
          81,
          82,
          83,
          86,
          87,
          88,
          89,
          90,
          91,
          91,
          93,
          94,
          96,
          97,
          98,
          99,
          100,
          101,
          102,
          103,
          104,
          105,
          106,
          107,
          108,
          109,
          110,
          111,
          112,
          112,
          112,
          113,
          114,
          115,
          116,
          117,
          118,
          121,
          122,
          123,
          124,
          125,
          126,
          127,
          128,
          129,
          130,
          131,
          132,
          133,
          134,
          135,
          136
         ],
         "xaxis": "x",
         "y": [
          39.905589832639514,
          40.436220218340225,
          40.96685060404093,
          41.49748098974164,
          42.02811137544235,
          42.55874176114306,
          43.08937214684377,
          43.62000253254448,
          44.15063291824519,
          44.6812633039459,
          45.21189368964661,
          45.74252407534732,
          46.27315446104803,
          46.80378484674874,
          46.80378484674874,
          47.334415232449444,
          47.865045618150155,
          48.395676003850866,
          48.395676003850866,
          48.92630638955158,
          48.92630638955158,
          49.45693677525229,
          49.98756716095299,
          49.98756716095299,
          50.51819754665371,
          51.579458318055124,
          52.110088703755835,
          52.640719089456546,
          53.17134947515726,
          53.70197986085796,
          53.70197986085796,
          54.23261024655867,
          54.76324063225938,
          55.824501403660804,
          56.35513178936151,
          56.35513178936151,
          56.885762175062226,
          57.41639256076293,
          57.94702294646364,
          57.94702294646364,
          58.47765333216435,
          59.008283717865055,
          59.53891410356577,
          59.53891410356577,
          60.06954448926648,
          60.60017487496719,
          61.1308052606679,
          61.66143564636861,
          62.19206603206932,
          62.722696417770024,
          63.25332680347074,
          63.783957189171446,
          64.31458757487215,
          64.84521796057287,
          65.37584834627357,
          65.90647873197429,
          66.43710911767499,
          66.9677395033757,
          67.49836988907641,
          68.02900027477712,
          68.55963066047784,
          69.09026104617854,
          69.62089143187924,
          70.15152181757996,
          70.68215220328068,
          71.21278258898138,
          71.74341297468209,
          72.27404336038279,
          72.80467374608351,
          73.33530413178423,
          73.33530413178423,
          73.86593451748493,
          74.39656490318563,
          74.92719528888634,
          75.45782567458706,
          75.98845606028777,
          76.51908644598848,
          77.04971683168918,
          77.5803472173899,
          78.1109776030906,
          78.64160798879132,
          79.17223837449203,
          79.70286876019273,
          80.23349914589345,
          80.76412953159416,
          81.82539030299557,
          82.35602068869628,
          82.886651074397,
          83.41728146009771,
          85.00917261719982,
          85.53980300290054,
          86.07043338860126,
          86.60106377430196,
          87.13169416000267,
          87.66232454570337,
          87.66232454570337,
          88.7235853171048,
          89.25421570280551,
          90.31547647420693,
          90.84610685990764,
          91.37673724560835,
          91.90736763130906,
          92.43799801700976,
          92.96862840271048,
          93.49925878841118,
          94.0298891741119,
          94.5605195598126,
          95.09114994551331,
          95.62178033121403,
          96.15241071691474,
          96.68304110261545,
          97.21367148831615,
          97.74430187401686,
          98.27493225971757,
          98.80556264541829,
          98.80556264541829,
          98.80556264541829,
          99.336193031119,
          99.8668234168197,
          100.3974538025204,
          100.92808418822112,
          101.45871457392184,
          101.98934495962254,
          103.58123611672467,
          104.11186650242539,
          104.64249688812609,
          105.1731272738268,
          105.70375765952751,
          106.23438804522821,
          106.76501843092893,
          107.29564881662964,
          107.82627920233034,
          108.35690958803106,
          108.88753997373176,
          109.41817035943248,
          109.94880074513318,
          110.47943113083389,
          111.0100615165346,
          111.54069190223531
         ],
         "yaxis": "y",
         "type": "scatter",
         "line": {
          "color": "black"
         }
        }
       ],
       "layout": {
        "template": {
         "data": {
          "histogram2dcontour": [
           {
            "type": "histogram2dcontour",
            "colorbar": {
             "outlinewidth": 0,
             "ticks": ""
            },
            "colorscale": [
             [
              0.0,
              "#0d0887"
             ],
             [
              0.1111111111111111,
              "#46039f"
             ],
             [
              0.2222222222222222,
              "#7201a8"
             ],
             [
              0.3333333333333333,
              "#9c179e"
             ],
             [
              0.4444444444444444,
              "#bd3786"
             ],
             [
              0.5555555555555556,
              "#d8576b"
             ],
             [
              0.6666666666666666,
              "#ed7953"
             ],
             [
              0.7777777777777778,
              "#fb9f3a"
             ],
             [
              0.8888888888888888,
              "#fdca26"
             ],
             [
              1.0,
              "#f0f921"
             ]
            ]
           }
          ],
          "choropleth": [
           {
            "type": "choropleth",
            "colorbar": {
             "outlinewidth": 0,
             "ticks": ""
            }
           }
          ],
          "histogram2d": [
           {
            "type": "histogram2d",
            "colorbar": {
             "outlinewidth": 0,
             "ticks": ""
            },
            "colorscale": [
             [
              0.0,
              "#0d0887"
             ],
             [
              0.1111111111111111,
              "#46039f"
             ],
             [
              0.2222222222222222,
              "#7201a8"
             ],
             [
              0.3333333333333333,
              "#9c179e"
             ],
             [
              0.4444444444444444,
              "#bd3786"
             ],
             [
              0.5555555555555556,
              "#d8576b"
             ],
             [
              0.6666666666666666,
              "#ed7953"
             ],
             [
              0.7777777777777778,
              "#fb9f3a"
             ],
             [
              0.8888888888888888,
              "#fdca26"
             ],
             [
              1.0,
              "#f0f921"
             ]
            ]
           }
          ],
          "heatmap": [
           {
            "type": "heatmap",
            "colorbar": {
             "outlinewidth": 0,
             "ticks": ""
            },
            "colorscale": [
             [
              0.0,
              "#0d0887"
             ],
             [
              0.1111111111111111,
              "#46039f"
             ],
             [
              0.2222222222222222,
              "#7201a8"
             ],
             [
              0.3333333333333333,
              "#9c179e"
             ],
             [
              0.4444444444444444,
              "#bd3786"
             ],
             [
              0.5555555555555556,
              "#d8576b"
             ],
             [
              0.6666666666666666,
              "#ed7953"
             ],
             [
              0.7777777777777778,
              "#fb9f3a"
             ],
             [
              0.8888888888888888,
              "#fdca26"
             ],
             [
              1.0,
              "#f0f921"
             ]
            ]
           }
          ],
          "heatmapgl": [
           {
            "type": "heatmapgl",
            "colorbar": {
             "outlinewidth": 0,
             "ticks": ""
            },
            "colorscale": [
             [
              0.0,
              "#0d0887"
             ],
             [
              0.1111111111111111,
              "#46039f"
             ],
             [
              0.2222222222222222,
              "#7201a8"
             ],
             [
              0.3333333333333333,
              "#9c179e"
             ],
             [
              0.4444444444444444,
              "#bd3786"
             ],
             [
              0.5555555555555556,
              "#d8576b"
             ],
             [
              0.6666666666666666,
              "#ed7953"
             ],
             [
              0.7777777777777778,
              "#fb9f3a"
             ],
             [
              0.8888888888888888,
              "#fdca26"
             ],
             [
              1.0,
              "#f0f921"
             ]
            ]
           }
          ],
          "contourcarpet": [
           {
            "type": "contourcarpet",
            "colorbar": {
             "outlinewidth": 0,
             "ticks": ""
            }
           }
          ],
          "contour": [
           {
            "type": "contour",
            "colorbar": {
             "outlinewidth": 0,
             "ticks": ""
            },
            "colorscale": [
             [
              0.0,
              "#0d0887"
             ],
             [
              0.1111111111111111,
              "#46039f"
             ],
             [
              0.2222222222222222,
              "#7201a8"
             ],
             [
              0.3333333333333333,
              "#9c179e"
             ],
             [
              0.4444444444444444,
              "#bd3786"
             ],
             [
              0.5555555555555556,
              "#d8576b"
             ],
             [
              0.6666666666666666,
              "#ed7953"
             ],
             [
              0.7777777777777778,
              "#fb9f3a"
             ],
             [
              0.8888888888888888,
              "#fdca26"
             ],
             [
              1.0,
              "#f0f921"
             ]
            ]
           }
          ],
          "surface": [
           {
            "type": "surface",
            "colorbar": {
             "outlinewidth": 0,
             "ticks": ""
            },
            "colorscale": [
             [
              0.0,
              "#0d0887"
             ],
             [
              0.1111111111111111,
              "#46039f"
             ],
             [
              0.2222222222222222,
              "#7201a8"
             ],
             [
              0.3333333333333333,
              "#9c179e"
             ],
             [
              0.4444444444444444,
              "#bd3786"
             ],
             [
              0.5555555555555556,
              "#d8576b"
             ],
             [
              0.6666666666666666,
              "#ed7953"
             ],
             [
              0.7777777777777778,
              "#fb9f3a"
             ],
             [
              0.8888888888888888,
              "#fdca26"
             ],
             [
              1.0,
              "#f0f921"
             ]
            ]
           }
          ],
          "mesh3d": [
           {
            "type": "mesh3d",
            "colorbar": {
             "outlinewidth": 0,
             "ticks": ""
            }
           }
          ],
          "scatter": [
           {
            "marker": {
             "line": {
              "color": "#283442"
             }
            },
            "type": "scatter"
           }
          ],
          "parcoords": [
           {
            "type": "parcoords",
            "line": {
             "colorbar": {
              "outlinewidth": 0,
              "ticks": ""
             }
            }
           }
          ],
          "scatterpolargl": [
           {
            "type": "scatterpolargl",
            "marker": {
             "colorbar": {
              "outlinewidth": 0,
              "ticks": ""
             }
            }
           }
          ],
          "bar": [
           {
            "error_x": {
             "color": "#f2f5fa"
            },
            "error_y": {
             "color": "#f2f5fa"
            },
            "marker": {
             "line": {
              "color": "rgb(17,17,17)",
              "width": 0.5
             },
             "pattern": {
              "fillmode": "overlay",
              "size": 10,
              "solidity": 0.2
             }
            },
            "type": "bar"
           }
          ],
          "scattergeo": [
           {
            "type": "scattergeo",
            "marker": {
             "colorbar": {
              "outlinewidth": 0,
              "ticks": ""
             }
            }
           }
          ],
          "scatterpolar": [
           {
            "type": "scatterpolar",
            "marker": {
             "colorbar": {
              "outlinewidth": 0,
              "ticks": ""
             }
            }
           }
          ],
          "histogram": [
           {
            "marker": {
             "pattern": {
              "fillmode": "overlay",
              "size": 10,
              "solidity": 0.2
             }
            },
            "type": "histogram"
           }
          ],
          "scattergl": [
           {
            "marker": {
             "line": {
              "color": "#283442"
             }
            },
            "type": "scattergl"
           }
          ],
          "scatter3d": [
           {
            "type": "scatter3d",
            "line": {
             "colorbar": {
              "outlinewidth": 0,
              "ticks": ""
             }
            },
            "marker": {
             "colorbar": {
              "outlinewidth": 0,
              "ticks": ""
             }
            }
           }
          ],
          "scattermapbox": [
           {
            "type": "scattermapbox",
            "marker": {
             "colorbar": {
              "outlinewidth": 0,
              "ticks": ""
             }
            }
           }
          ],
          "scatterternary": [
           {
            "type": "scatterternary",
            "marker": {
             "colorbar": {
              "outlinewidth": 0,
              "ticks": ""
             }
            }
           }
          ],
          "scattercarpet": [
           {
            "type": "scattercarpet",
            "marker": {
             "colorbar": {
              "outlinewidth": 0,
              "ticks": ""
             }
            }
           }
          ],
          "carpet": [
           {
            "aaxis": {
             "endlinecolor": "#A2B1C6",
             "gridcolor": "#506784",
             "linecolor": "#506784",
             "minorgridcolor": "#506784",
             "startlinecolor": "#A2B1C6"
            },
            "baxis": {
             "endlinecolor": "#A2B1C6",
             "gridcolor": "#506784",
             "linecolor": "#506784",
             "minorgridcolor": "#506784",
             "startlinecolor": "#A2B1C6"
            },
            "type": "carpet"
           }
          ],
          "table": [
           {
            "cells": {
             "fill": {
              "color": "#506784"
             },
             "line": {
              "color": "rgb(17,17,17)"
             }
            },
            "header": {
             "fill": {
              "color": "#2a3f5f"
             },
             "line": {
              "color": "rgb(17,17,17)"
             }
            },
            "type": "table"
           }
          ],
          "barpolar": [
           {
            "marker": {
             "line": {
              "color": "rgb(17,17,17)",
              "width": 0.5
             },
             "pattern": {
              "fillmode": "overlay",
              "size": 10,
              "solidity": 0.2
             }
            },
            "type": "barpolar"
           }
          ],
          "pie": [
           {
            "automargin": true,
            "type": "pie"
           }
          ]
         },
         "layout": {
          "autotypenumbers": "strict",
          "colorway": [
           "#636efa",
           "#EF553B",
           "#00cc96",
           "#ab63fa",
           "#FFA15A",
           "#19d3f3",
           "#FF6692",
           "#B6E880",
           "#FF97FF",
           "#FECB52"
          ],
          "font": {
           "color": "#f2f5fa"
          },
          "hovermode": "closest",
          "hoverlabel": {
           "align": "left"
          },
          "paper_bgcolor": "rgb(17,17,17)",
          "plot_bgcolor": "rgb(17,17,17)",
          "polar": {
           "bgcolor": "rgb(17,17,17)",
           "angularaxis": {
            "gridcolor": "#506784",
            "linecolor": "#506784",
            "ticks": ""
           },
           "radialaxis": {
            "gridcolor": "#506784",
            "linecolor": "#506784",
            "ticks": ""
           }
          },
          "ternary": {
           "bgcolor": "rgb(17,17,17)",
           "aaxis": {
            "gridcolor": "#506784",
            "linecolor": "#506784",
            "ticks": ""
           },
           "baxis": {
            "gridcolor": "#506784",
            "linecolor": "#506784",
            "ticks": ""
           },
           "caxis": {
            "gridcolor": "#506784",
            "linecolor": "#506784",
            "ticks": ""
           }
          },
          "coloraxis": {
           "colorbar": {
            "outlinewidth": 0,
            "ticks": ""
           }
          },
          "colorscale": {
           "sequential": [
            [
             0.0,
             "#0d0887"
            ],
            [
             0.1111111111111111,
             "#46039f"
            ],
            [
             0.2222222222222222,
             "#7201a8"
            ],
            [
             0.3333333333333333,
             "#9c179e"
            ],
            [
             0.4444444444444444,
             "#bd3786"
            ],
            [
             0.5555555555555556,
             "#d8576b"
            ],
            [
             0.6666666666666666,
             "#ed7953"
            ],
            [
             0.7777777777777778,
             "#fb9f3a"
            ],
            [
             0.8888888888888888,
             "#fdca26"
            ],
            [
             1.0,
             "#f0f921"
            ]
           ],
           "sequentialminus": [
            [
             0.0,
             "#0d0887"
            ],
            [
             0.1111111111111111,
             "#46039f"
            ],
            [
             0.2222222222222222,
             "#7201a8"
            ],
            [
             0.3333333333333333,
             "#9c179e"
            ],
            [
             0.4444444444444444,
             "#bd3786"
            ],
            [
             0.5555555555555556,
             "#d8576b"
            ],
            [
             0.6666666666666666,
             "#ed7953"
            ],
            [
             0.7777777777777778,
             "#fb9f3a"
            ],
            [
             0.8888888888888888,
             "#fdca26"
            ],
            [
             1.0,
             "#f0f921"
            ]
           ],
           "diverging": [
            [
             0,
             "#8e0152"
            ],
            [
             0.1,
             "#c51b7d"
            ],
            [
             0.2,
             "#de77ae"
            ],
            [
             0.3,
             "#f1b6da"
            ],
            [
             0.4,
             "#fde0ef"
            ],
            [
             0.5,
             "#f7f7f7"
            ],
            [
             0.6,
             "#e6f5d0"
            ],
            [
             0.7,
             "#b8e186"
            ],
            [
             0.8,
             "#7fbc41"
            ],
            [
             0.9,
             "#4d9221"
            ],
            [
             1,
             "#276419"
            ]
           ]
          },
          "xaxis": {
           "gridcolor": "#283442",
           "linecolor": "#506784",
           "ticks": "",
           "title": {
            "standoff": 15
           },
           "zerolinecolor": "#283442",
           "automargin": true,
           "zerolinewidth": 2
          },
          "yaxis": {
           "gridcolor": "#283442",
           "linecolor": "#506784",
           "ticks": "",
           "title": {
            "standoff": 15
           },
           "zerolinecolor": "#283442",
           "automargin": true,
           "zerolinewidth": 2
          },
          "scene": {
           "xaxis": {
            "backgroundcolor": "rgb(17,17,17)",
            "gridcolor": "#506784",
            "linecolor": "#506784",
            "showbackground": true,
            "ticks": "",
            "zerolinecolor": "#C8D4E3",
            "gridwidth": 2
           },
           "yaxis": {
            "backgroundcolor": "rgb(17,17,17)",
            "gridcolor": "#506784",
            "linecolor": "#506784",
            "showbackground": true,
            "ticks": "",
            "zerolinecolor": "#C8D4E3",
            "gridwidth": 2
           },
           "zaxis": {
            "backgroundcolor": "rgb(17,17,17)",
            "gridcolor": "#506784",
            "linecolor": "#506784",
            "showbackground": true,
            "ticks": "",
            "zerolinecolor": "#C8D4E3",
            "gridwidth": 2
           }
          },
          "shapedefaults": {
           "line": {
            "color": "#f2f5fa"
           }
          },
          "annotationdefaults": {
           "arrowcolor": "#f2f5fa",
           "arrowhead": 0,
           "arrowwidth": 1
          },
          "geo": {
           "bgcolor": "rgb(17,17,17)",
           "landcolor": "rgb(17,17,17)",
           "subunitcolor": "#506784",
           "showland": true,
           "showlakes": true,
           "lakecolor": "rgb(17,17,17)"
          },
          "title": {
           "x": 0.05
          },
          "updatemenudefaults": {
           "bgcolor": "#506784",
           "borderwidth": 0
          },
          "sliderdefaults": {
           "bgcolor": "#C8D4E3",
           "borderwidth": 1,
           "bordercolor": "rgb(17,17,17)",
           "tickwidth": 0
          },
          "mapbox": {
           "style": "dark"
          }
         }
        },
        "xaxis": {
         "anchor": "y",
         "domain": [
          0.0,
          1.0
         ],
         "title": {
          "text": "Democratie rangschikking 2023"
         }
        },
        "yaxis": {
         "anchor": "x",
         "domain": [
          0.0,
          1.0
         ],
         "title": {
          "text": "Conflict rangschikking 2023"
         }
        },
        "legend": {
         "tracegroupgap": 0
        },
        "title": {
         "text": "Democratie rangschikking vs Conflict rangschikking 2023"
        }
       },
       "config": {
        "plotlyServerURL": "https://plot.ly"
       }
      },
      "text/html": [
       "<div>                            <div id=\"02fcf342-f6ad-437b-961e-c43bd2213848\" class=\"plotly-graph-div\" style=\"height:525px; width:100%;\"></div>            <script type=\"text/javascript\">                require([\"plotly\"], function(Plotly) {                    window.PLOTLYENV=window.PLOTLYENV || {};                                    if (document.getElementById(\"02fcf342-f6ad-437b-961e-c43bd2213848\")) {                    Plotly.newPlot(                        \"02fcf342-f6ad-437b-961e-c43bd2213848\",                        [{\"customdata\":[[\"Norway\"],[\"Finland\"],[\"Sweden\"],[\"Netherlands\"],[\"Denmark\"],[\"Switzerland\"],[\"New Zealand\"],[\"Jamaica\"],[\"Belgium\"],[\"Costa Rica\"],[\"Estonia\"],[\"Portugal\"],[\"Germany\"],[\"Iceland\"],[\"Ireland\"],[\"Austria\"],[\"Luxembourg\"],[\"Canada\"],[\"Uruguay\"],[\"Suriname\"],[\"Australia\"],[\"Namibia\"],[\"Latvia\"],[\"Ghana\"],[\"Cyprus\"],[\"Spain\"],[\"Lithuania\"],[\"South Africa\"],[\"France\"],[\"United Kingdom\"],[\"Slovenia\"],[\"Slovakia\"],[\"Burkina Faso\"],[\"Papua New Guinea\"],[\"Trinidad and Tobago\"],[\"South Korea\"],[\"Taiwan\"],[\"Italy\"],[\"Botswana\"],[\"Chile\"],[\"Romania\"],[\"United States\"],[\"Senegal\"],[\"Guyana\"],[\"Fiji\"],[\"Madagascar\"],[\"Dominican Republic\"],[\"Comoros\"],[\"Argentina\"],[\"Mauritius\"],[\"Poland\"],[\"Georgia\"],[\"Armenia\"],[\"Haiti\"],[\"Croatia\"],[\"Greece\"],[\"Niger\"],[\"Japan\"],[\"Malawi\"],[\"Mongolia\"],[\"Tunisia\"],[\"Togo\"],[\"Malta\"],[\"Lesotho\"],[\"Panama\"],[\"Bhutan\"],[\"El Salvador\"],[\"Albania\"],[\"Kyrgyzstan\"],[\"East Timor\"],[\"Peru\"],[\"Sierra Leone\"],[\"Hungary\"],[\"Israel\"],[\"Guinea-Bissau\"],[\"Serbia\"],[\"Moldova\"],[\"Gambia\"],[\"Liberia\"],[\"Mauritania\"],[\"North Macedonia\"],[\"Benin\"],[\"Ecuador\"],[\"Paraguay\"],[\"Kenya\"],[\"Lebanon\"],[\"Ukraine\"],[\"Mozambique\"],[\"Montenegro\"],[\"Brazil\"],[\"Nepal\"],[\"Guinea\"],[\"Kuwait\"],[\"Angola\"],[\"Ethiopia\"],[\"Bulgaria\"],[\"Mali\"],[\"Bolivia\"],[\"Nicaragua\"],[\"Gabon\"],[\"Guatemala\"],[\"Tanzania\"],[\"Zambia\"],[\"Nigeria\"],[\"Malaysia\"],[\"Indonesia\"],[\"Uganda\"],[\"Sri Lanka\"],[\"Zimbabwe\"],[\"Qatar\"],[\"Colombia\"],[\"Jordan\"],[\"Cameroon\"],[\"Oman\"],[\"United Arab Emirates\"],[\"Philippines\"],[\"Thailand\"],[\"Palestine\"],[\"India\"],[\"Algeria\"],[\"Pakistan\"],[\"Cambodia\"],[\"Mexico\"],[\"Honduras\"],[\"Venezuela\"],[\"Russia\"],[\"Bangladesh\"],[\"Singapore\"],[\"Rwanda\"],[\"Iraq\"],[\"Kazakhstan\"],[\"Burundi\"],[\"Egypt\"],[\"Azerbaijan\"],[\"Bahrain\"],[\"Cuba\"],[\"Djibouti\"],[\"Vietnam\"],[\"China\"]],\"hovertemplate\":\"democratie_rang_2023=%{x}\\u003cbr\\u003econflict_rang_2023=%{y}\\u003cbr\\u003eland=%{customdata[0]}\\u003cextra\\u003e\\u003c\\u002fextra\\u003e\",\"legendgroup\":\"\",\"marker\":{\"color\":\"#636efa\",\"symbol\":\"circle\"},\"mode\":\"markers\",\"name\":\"\",\"orientation\":\"v\",\"showlegend\":false,\"x\":[1,5,4,9,6,8,2,38,31,16,23,27,12,3,7,17,11,13,14,41,14,49,32,57,32,20,33,39,20,17,27,37,121,64,36,19,10,29,28,21,52,25,74,59,71,78,53,112,46,18,35,80,75,117,50,18,129,15,67,51,73,114,24,63,40,72,87,58,99,38,68,93,42,26,128,56,60,91,70,98,64,88,76,65,83,102,82,103,44,43,89,133,104,97,106,54,125,96,131,134,91,77,69,94,34,48,90,62,112,101,47,112,126,109,113,45,55,105,35,100,108,111,81,86,130,132,66,61,107,116,110,135,115,118,127,123,122,124,136],\"xaxis\":\"x\",\"y\":[18,18,24,39,1,1,1,143,60,44,1,1,85,18,24,32,1,47,29,42,1,38,1,111,78,47,18,131,103,51,21,18,147,114,134,1,1,68,58,107,52,113,95,56,1,126,80,55,90,49,62,61,85,156,1,105,130,18,102,1,63,87,21,57,68,1,106,47,74,18,111,94,64,142,76,44,70,48,86,81,33,121,124,94,145,133,151,119,29,158,108,99,1,100,142,1,149,92,75,59,140,96,91,159,18,120,122,88,116,1,157,42,139,18,1,137,89,161,149,83,150,18,160,144,137,128,147,1,69,152,80,132,82,109,32,77,37,53,98],\"yaxis\":\"y\",\"type\":\"scatter\"},{\"hovertemplate\":\"\\u003cb\\u003eOLS trendline\\u003c\\u002fb\\u003e\\u003cbr\\u003econflict_rang_2023 = 0.53063 * democratie_rang_2023 + 39.375\\u003cbr\\u003eR\\u003csup\\u003e2\\u003c\\u002fsup\\u003e=0.178117\\u003cbr\\u003e\\u003cbr\\u003edemocratie_rang_2023=%{x}\\u003cbr\\u003econflict_rang_2023=%{y} \\u003cb\\u003e(trend)\\u003c\\u002fb\\u003e\\u003cextra\\u003e\\u003c\\u002fextra\\u003e\",\"legendgroup\":\"\",\"marker\":{\"color\":\"#636efa\",\"symbol\":\"circle\"},\"mode\":\"lines\",\"name\":\"\",\"showlegend\":false,\"x\":[1,2,3,4,5,6,7,8,9,10,11,12,13,14,14,15,16,17,17,18,18,19,20,20,21,23,24,25,26,27,27,28,29,31,32,32,33,34,35,35,36,37,38,38,39,40,41,42,43,44,45,46,47,48,49,50,51,52,53,54,55,56,57,58,59,60,61,62,63,64,64,65,66,67,68,69,70,71,72,73,74,75,76,77,78,80,81,82,83,86,87,88,89,90,91,91,93,94,96,97,98,99,100,101,102,103,104,105,106,107,108,109,110,111,112,112,112,113,114,115,116,117,118,121,122,123,124,125,126,127,128,129,130,131,132,133,134,135,136],\"xaxis\":\"x\",\"y\":[39.905589832639514,40.436220218340225,40.96685060404093,41.49748098974164,42.02811137544235,42.55874176114306,43.08937214684377,43.62000253254448,44.15063291824519,44.6812633039459,45.21189368964661,45.74252407534732,46.27315446104803,46.80378484674874,46.80378484674874,47.334415232449444,47.865045618150155,48.395676003850866,48.395676003850866,48.92630638955158,48.92630638955158,49.45693677525229,49.98756716095299,49.98756716095299,50.51819754665371,51.579458318055124,52.110088703755835,52.640719089456546,53.17134947515726,53.70197986085796,53.70197986085796,54.23261024655867,54.76324063225938,55.824501403660804,56.35513178936151,56.35513178936151,56.885762175062226,57.41639256076293,57.94702294646364,57.94702294646364,58.47765333216435,59.008283717865055,59.53891410356577,59.53891410356577,60.06954448926648,60.60017487496719,61.1308052606679,61.66143564636861,62.19206603206932,62.722696417770024,63.25332680347074,63.783957189171446,64.31458757487215,64.84521796057287,65.37584834627357,65.90647873197429,66.43710911767499,66.9677395033757,67.49836988907641,68.02900027477712,68.55963066047784,69.09026104617854,69.62089143187924,70.15152181757996,70.68215220328068,71.21278258898138,71.74341297468209,72.27404336038279,72.80467374608351,73.33530413178423,73.33530413178423,73.86593451748493,74.39656490318563,74.92719528888634,75.45782567458706,75.98845606028777,76.51908644598848,77.04971683168918,77.5803472173899,78.1109776030906,78.64160798879132,79.17223837449203,79.70286876019273,80.23349914589345,80.76412953159416,81.82539030299557,82.35602068869628,82.886651074397,83.41728146009771,85.00917261719982,85.53980300290054,86.07043338860126,86.60106377430196,87.13169416000267,87.66232454570337,87.66232454570337,88.7235853171048,89.25421570280551,90.31547647420693,90.84610685990764,91.37673724560835,91.90736763130906,92.43799801700976,92.96862840271048,93.49925878841118,94.0298891741119,94.5605195598126,95.09114994551331,95.62178033121403,96.15241071691474,96.68304110261545,97.21367148831615,97.74430187401686,98.27493225971757,98.80556264541829,98.80556264541829,98.80556264541829,99.336193031119,99.8668234168197,100.3974538025204,100.92808418822112,101.45871457392184,101.98934495962254,103.58123611672467,104.11186650242539,104.64249688812609,105.1731272738268,105.70375765952751,106.23438804522821,106.76501843092893,107.29564881662964,107.82627920233034,108.35690958803106,108.88753997373176,109.41817035943248,109.94880074513318,110.47943113083389,111.0100615165346,111.54069190223531],\"yaxis\":\"y\",\"type\":\"scatter\",\"line\":{\"color\":\"black\"}}],                        {\"template\":{\"data\":{\"histogram2dcontour\":[{\"type\":\"histogram2dcontour\",\"colorbar\":{\"outlinewidth\":0,\"ticks\":\"\"},\"colorscale\":[[0.0,\"#0d0887\"],[0.1111111111111111,\"#46039f\"],[0.2222222222222222,\"#7201a8\"],[0.3333333333333333,\"#9c179e\"],[0.4444444444444444,\"#bd3786\"],[0.5555555555555556,\"#d8576b\"],[0.6666666666666666,\"#ed7953\"],[0.7777777777777778,\"#fb9f3a\"],[0.8888888888888888,\"#fdca26\"],[1.0,\"#f0f921\"]]}],\"choropleth\":[{\"type\":\"choropleth\",\"colorbar\":{\"outlinewidth\":0,\"ticks\":\"\"}}],\"histogram2d\":[{\"type\":\"histogram2d\",\"colorbar\":{\"outlinewidth\":0,\"ticks\":\"\"},\"colorscale\":[[0.0,\"#0d0887\"],[0.1111111111111111,\"#46039f\"],[0.2222222222222222,\"#7201a8\"],[0.3333333333333333,\"#9c179e\"],[0.4444444444444444,\"#bd3786\"],[0.5555555555555556,\"#d8576b\"],[0.6666666666666666,\"#ed7953\"],[0.7777777777777778,\"#fb9f3a\"],[0.8888888888888888,\"#fdca26\"],[1.0,\"#f0f921\"]]}],\"heatmap\":[{\"type\":\"heatmap\",\"colorbar\":{\"outlinewidth\":0,\"ticks\":\"\"},\"colorscale\":[[0.0,\"#0d0887\"],[0.1111111111111111,\"#46039f\"],[0.2222222222222222,\"#7201a8\"],[0.3333333333333333,\"#9c179e\"],[0.4444444444444444,\"#bd3786\"],[0.5555555555555556,\"#d8576b\"],[0.6666666666666666,\"#ed7953\"],[0.7777777777777778,\"#fb9f3a\"],[0.8888888888888888,\"#fdca26\"],[1.0,\"#f0f921\"]]}],\"heatmapgl\":[{\"type\":\"heatmapgl\",\"colorbar\":{\"outlinewidth\":0,\"ticks\":\"\"},\"colorscale\":[[0.0,\"#0d0887\"],[0.1111111111111111,\"#46039f\"],[0.2222222222222222,\"#7201a8\"],[0.3333333333333333,\"#9c179e\"],[0.4444444444444444,\"#bd3786\"],[0.5555555555555556,\"#d8576b\"],[0.6666666666666666,\"#ed7953\"],[0.7777777777777778,\"#fb9f3a\"],[0.8888888888888888,\"#fdca26\"],[1.0,\"#f0f921\"]]}],\"contourcarpet\":[{\"type\":\"contourcarpet\",\"colorbar\":{\"outlinewidth\":0,\"ticks\":\"\"}}],\"contour\":[{\"type\":\"contour\",\"colorbar\":{\"outlinewidth\":0,\"ticks\":\"\"},\"colorscale\":[[0.0,\"#0d0887\"],[0.1111111111111111,\"#46039f\"],[0.2222222222222222,\"#7201a8\"],[0.3333333333333333,\"#9c179e\"],[0.4444444444444444,\"#bd3786\"],[0.5555555555555556,\"#d8576b\"],[0.6666666666666666,\"#ed7953\"],[0.7777777777777778,\"#fb9f3a\"],[0.8888888888888888,\"#fdca26\"],[1.0,\"#f0f921\"]]}],\"surface\":[{\"type\":\"surface\",\"colorbar\":{\"outlinewidth\":0,\"ticks\":\"\"},\"colorscale\":[[0.0,\"#0d0887\"],[0.1111111111111111,\"#46039f\"],[0.2222222222222222,\"#7201a8\"],[0.3333333333333333,\"#9c179e\"],[0.4444444444444444,\"#bd3786\"],[0.5555555555555556,\"#d8576b\"],[0.6666666666666666,\"#ed7953\"],[0.7777777777777778,\"#fb9f3a\"],[0.8888888888888888,\"#fdca26\"],[1.0,\"#f0f921\"]]}],\"mesh3d\":[{\"type\":\"mesh3d\",\"colorbar\":{\"outlinewidth\":0,\"ticks\":\"\"}}],\"scatter\":[{\"marker\":{\"line\":{\"color\":\"#283442\"}},\"type\":\"scatter\"}],\"parcoords\":[{\"type\":\"parcoords\",\"line\":{\"colorbar\":{\"outlinewidth\":0,\"ticks\":\"\"}}}],\"scatterpolargl\":[{\"type\":\"scatterpolargl\",\"marker\":{\"colorbar\":{\"outlinewidth\":0,\"ticks\":\"\"}}}],\"bar\":[{\"error_x\":{\"color\":\"#f2f5fa\"},\"error_y\":{\"color\":\"#f2f5fa\"},\"marker\":{\"line\":{\"color\":\"rgb(17,17,17)\",\"width\":0.5},\"pattern\":{\"fillmode\":\"overlay\",\"size\":10,\"solidity\":0.2}},\"type\":\"bar\"}],\"scattergeo\":[{\"type\":\"scattergeo\",\"marker\":{\"colorbar\":{\"outlinewidth\":0,\"ticks\":\"\"}}}],\"scatterpolar\":[{\"type\":\"scatterpolar\",\"marker\":{\"colorbar\":{\"outlinewidth\":0,\"ticks\":\"\"}}}],\"histogram\":[{\"marker\":{\"pattern\":{\"fillmode\":\"overlay\",\"size\":10,\"solidity\":0.2}},\"type\":\"histogram\"}],\"scattergl\":[{\"marker\":{\"line\":{\"color\":\"#283442\"}},\"type\":\"scattergl\"}],\"scatter3d\":[{\"type\":\"scatter3d\",\"line\":{\"colorbar\":{\"outlinewidth\":0,\"ticks\":\"\"}},\"marker\":{\"colorbar\":{\"outlinewidth\":0,\"ticks\":\"\"}}}],\"scattermapbox\":[{\"type\":\"scattermapbox\",\"marker\":{\"colorbar\":{\"outlinewidth\":0,\"ticks\":\"\"}}}],\"scatterternary\":[{\"type\":\"scatterternary\",\"marker\":{\"colorbar\":{\"outlinewidth\":0,\"ticks\":\"\"}}}],\"scattercarpet\":[{\"type\":\"scattercarpet\",\"marker\":{\"colorbar\":{\"outlinewidth\":0,\"ticks\":\"\"}}}],\"carpet\":[{\"aaxis\":{\"endlinecolor\":\"#A2B1C6\",\"gridcolor\":\"#506784\",\"linecolor\":\"#506784\",\"minorgridcolor\":\"#506784\",\"startlinecolor\":\"#A2B1C6\"},\"baxis\":{\"endlinecolor\":\"#A2B1C6\",\"gridcolor\":\"#506784\",\"linecolor\":\"#506784\",\"minorgridcolor\":\"#506784\",\"startlinecolor\":\"#A2B1C6\"},\"type\":\"carpet\"}],\"table\":[{\"cells\":{\"fill\":{\"color\":\"#506784\"},\"line\":{\"color\":\"rgb(17,17,17)\"}},\"header\":{\"fill\":{\"color\":\"#2a3f5f\"},\"line\":{\"color\":\"rgb(17,17,17)\"}},\"type\":\"table\"}],\"barpolar\":[{\"marker\":{\"line\":{\"color\":\"rgb(17,17,17)\",\"width\":0.5},\"pattern\":{\"fillmode\":\"overlay\",\"size\":10,\"solidity\":0.2}},\"type\":\"barpolar\"}],\"pie\":[{\"automargin\":true,\"type\":\"pie\"}]},\"layout\":{\"autotypenumbers\":\"strict\",\"colorway\":[\"#636efa\",\"#EF553B\",\"#00cc96\",\"#ab63fa\",\"#FFA15A\",\"#19d3f3\",\"#FF6692\",\"#B6E880\",\"#FF97FF\",\"#FECB52\"],\"font\":{\"color\":\"#f2f5fa\"},\"hovermode\":\"closest\",\"hoverlabel\":{\"align\":\"left\"},\"paper_bgcolor\":\"rgb(17,17,17)\",\"plot_bgcolor\":\"rgb(17,17,17)\",\"polar\":{\"bgcolor\":\"rgb(17,17,17)\",\"angularaxis\":{\"gridcolor\":\"#506784\",\"linecolor\":\"#506784\",\"ticks\":\"\"},\"radialaxis\":{\"gridcolor\":\"#506784\",\"linecolor\":\"#506784\",\"ticks\":\"\"}},\"ternary\":{\"bgcolor\":\"rgb(17,17,17)\",\"aaxis\":{\"gridcolor\":\"#506784\",\"linecolor\":\"#506784\",\"ticks\":\"\"},\"baxis\":{\"gridcolor\":\"#506784\",\"linecolor\":\"#506784\",\"ticks\":\"\"},\"caxis\":{\"gridcolor\":\"#506784\",\"linecolor\":\"#506784\",\"ticks\":\"\"}},\"coloraxis\":{\"colorbar\":{\"outlinewidth\":0,\"ticks\":\"\"}},\"colorscale\":{\"sequential\":[[0.0,\"#0d0887\"],[0.1111111111111111,\"#46039f\"],[0.2222222222222222,\"#7201a8\"],[0.3333333333333333,\"#9c179e\"],[0.4444444444444444,\"#bd3786\"],[0.5555555555555556,\"#d8576b\"],[0.6666666666666666,\"#ed7953\"],[0.7777777777777778,\"#fb9f3a\"],[0.8888888888888888,\"#fdca26\"],[1.0,\"#f0f921\"]],\"sequentialminus\":[[0.0,\"#0d0887\"],[0.1111111111111111,\"#46039f\"],[0.2222222222222222,\"#7201a8\"],[0.3333333333333333,\"#9c179e\"],[0.4444444444444444,\"#bd3786\"],[0.5555555555555556,\"#d8576b\"],[0.6666666666666666,\"#ed7953\"],[0.7777777777777778,\"#fb9f3a\"],[0.8888888888888888,\"#fdca26\"],[1.0,\"#f0f921\"]],\"diverging\":[[0,\"#8e0152\"],[0.1,\"#c51b7d\"],[0.2,\"#de77ae\"],[0.3,\"#f1b6da\"],[0.4,\"#fde0ef\"],[0.5,\"#f7f7f7\"],[0.6,\"#e6f5d0\"],[0.7,\"#b8e186\"],[0.8,\"#7fbc41\"],[0.9,\"#4d9221\"],[1,\"#276419\"]]},\"xaxis\":{\"gridcolor\":\"#283442\",\"linecolor\":\"#506784\",\"ticks\":\"\",\"title\":{\"standoff\":15},\"zerolinecolor\":\"#283442\",\"automargin\":true,\"zerolinewidth\":2},\"yaxis\":{\"gridcolor\":\"#283442\",\"linecolor\":\"#506784\",\"ticks\":\"\",\"title\":{\"standoff\":15},\"zerolinecolor\":\"#283442\",\"automargin\":true,\"zerolinewidth\":2},\"scene\":{\"xaxis\":{\"backgroundcolor\":\"rgb(17,17,17)\",\"gridcolor\":\"#506784\",\"linecolor\":\"#506784\",\"showbackground\":true,\"ticks\":\"\",\"zerolinecolor\":\"#C8D4E3\",\"gridwidth\":2},\"yaxis\":{\"backgroundcolor\":\"rgb(17,17,17)\",\"gridcolor\":\"#506784\",\"linecolor\":\"#506784\",\"showbackground\":true,\"ticks\":\"\",\"zerolinecolor\":\"#C8D4E3\",\"gridwidth\":2},\"zaxis\":{\"backgroundcolor\":\"rgb(17,17,17)\",\"gridcolor\":\"#506784\",\"linecolor\":\"#506784\",\"showbackground\":true,\"ticks\":\"\",\"zerolinecolor\":\"#C8D4E3\",\"gridwidth\":2}},\"shapedefaults\":{\"line\":{\"color\":\"#f2f5fa\"}},\"annotationdefaults\":{\"arrowcolor\":\"#f2f5fa\",\"arrowhead\":0,\"arrowwidth\":1},\"geo\":{\"bgcolor\":\"rgb(17,17,17)\",\"landcolor\":\"rgb(17,17,17)\",\"subunitcolor\":\"#506784\",\"showland\":true,\"showlakes\":true,\"lakecolor\":\"rgb(17,17,17)\"},\"title\":{\"x\":0.05},\"updatemenudefaults\":{\"bgcolor\":\"#506784\",\"borderwidth\":0},\"sliderdefaults\":{\"bgcolor\":\"#C8D4E3\",\"borderwidth\":1,\"bordercolor\":\"rgb(17,17,17)\",\"tickwidth\":0},\"mapbox\":{\"style\":\"dark\"}}},\"xaxis\":{\"anchor\":\"y\",\"domain\":[0.0,1.0],\"title\":{\"text\":\"Democratie rangschikking 2023\"}},\"yaxis\":{\"anchor\":\"x\",\"domain\":[0.0,1.0],\"title\":{\"text\":\"Conflict rangschikking 2023\"}},\"legend\":{\"tracegroupgap\":0},\"title\":{\"text\":\"Democratie rangschikking vs Conflict rangschikking 2023\"}},                        {\"responsive\": true}                    ).then(function(){\n",
       "                            \n",
       "var gd = document.getElementById('02fcf342-f6ad-437b-961e-c43bd2213848');\n",
       "var x = new MutationObserver(function (mutations, observer) {{\n",
       "        var display = window.getComputedStyle(gd).display;\n",
       "        if (!display || display === 'none') {{\n",
       "            console.log([gd, 'removed!']);\n",
       "            Plotly.purge(gd);\n",
       "            observer.disconnect();\n",
       "        }}\n",
       "}});\n",
       "\n",
       "// Listen for the removal of the full notebook cells\n",
       "var notebookContainer = gd.closest('#notebook-container');\n",
       "if (notebookContainer) {{\n",
       "    x.observe(notebookContainer, {childList: true});\n",
       "}}\n",
       "\n",
       "// Listen for the clearing of the current output cell\n",
       "var outputEl = gd.closest('.output');\n",
       "if (outputEl) {{\n",
       "    x.observe(outputEl, {childList: true});\n",
       "}}\n",
       "\n",
       "                        })                };                });            </script>        </div>"
      ]
     },
     "metadata": {},
     "output_type": "display_data"
    },
    {
     "name": "stdout",
     "output_type": "stream",
     "text": [
      "Figuur 7\n",
      "Correlatie tussen de democratie rangschikking en de conflict rangschikking: 0.42203916592217416\n"
     ]
    }
   ],
   "execution_count": 5
  },
  {
   "cell_type": "markdown",
   "metadata": {},
   "source": [
    "De scatterplot laat zien dat autocratische landen zich vaak lager op de conflict rangschikking bevinden, wat betekent dat deze landen doorgaans meer conflicten ervaren. Dit patroon suggereert dat autocratische regimes mogelijk een grotere neiging hebben tot interne en externe conflicten, waarschijnlijk door hun repressieve en ondoorzichtige bestuur.\n",
    "\n",
    "Hoewel de correlatie niet extreem sterk is, biedt deze scatterplot toch waardevolle inzichten in hoe de bestuursvorm van een land kan samenhangen met zijn neiging tot conflicten. Autocratische regimes lijken vaker betrokken te zijn bij conflicten, wat mogelijk te wijten is aan factoren zoals gebrek aan politieke participatie, onderdrukking van oppositie en beperkingen op burgerlijke vrijheden."
   ]
  }
 ],
 "metadata": {
  "kernelspec": {
   "display_name": "Python 3 (ipykernel)",
   "language": "python",
   "name": "python3"
  },
  "language_info": {
   "codemirror_mode": {
    "name": "ipython",
    "version": 3
   },
   "file_extension": ".py",
   "mimetype": "text/x-python",
   "name": "python",
   "nbconvert_exporter": "python",
   "pygments_lexer": "ipython3",
   "version": "3.10.11"
  },
  "widgets": {
   "application/vnd.jupyter.widget-state+json": {
    "state": {},
    "version_major": 2,
    "version_minor": 0
   }
  }
 },
 "nbformat": 4,
 "nbformat_minor": 4
}
