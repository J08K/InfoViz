{
 "cells": [
  {
   "cell_type": "markdown",
   "metadata": {},
   "source": [
    "# Journalistieke Vrijheid in Beeld: Invloed van Politieke Regimes en Conflicten\n",
    "Groep: *D1 - Walvisualisatie*\n",
    "\n",
    "Anne Beks - 15237621, \n",
    "\n",
    "Glenn de Graaff - 15149013, \n",
    "\n",
    "Noor Koevoet - 15054039, \n",
    "\n",
    "Job Kolhorn - 15217140\n",
    "\n",
    "\n",
    "## Introductie\n",
    "Persvrijheid is een principe dat stelt dat de pers vrij is om te schrijven, zeggen en publiceren wat zij willen. De overheid is in beginsel verboden om censuur toe te passen en mag niet vooraf controleren wat wel of niet gezegd mag worden. In Nederland is persvrijheid, samen met het recht op meningsuiting, vastgelegd in artikel 7 van de Grondwet (Ministerie van Justitie en Veiligheid, 2022). Ook in andere landen en binnen Europees verband zijn er wetten die persvrijheid en vrijheid van meningsuiting beschermen.\n",
    "\n",
    "Om te verzekeren dat journalisten hun werk veilig kunnen doen, hebben zij een beschermde status van het Europese Hof voor de Rechten van de Mens (EHRM). Journalisten brengen informatie naar buiten over algemeen belangrijke zaken en zijn daarom van cruciaal belang voor de democratie. Hoewel er vrijheid is om te publiceren wat men wil, betekent dit niet dat dit onbestraft kan gebeuren. Wanneer publicaties discriminerend zijn of aanzetten tot opruiing, kan iemand aangeklaagd en veroordeeld worden. Dit gebeurt echter pas achteraf; vóór publicatie is censuur niet toegestaan.\n",
    "\n",
    "In veel landen is persvrijheid echter niet gegarandeerd. In landen met een autocratisch regime is de vrijheid van meningsuiting vaak beperkt of volledig afwezig. Ook in landen waar conflicten gaande zijn, zijn er mogelijk meerdere machten aan de leiding, of lijkt er niemand aan de macht te zijn. In zulke situaties is het moeilijk om te waarborgen dat de wet wordt nageleefd.\n",
    "\n",
    "Deze data-analyse zal onderzoeken of de mate van persvrijheid wordt beïnvloed door conflicten of de mate van democratie. Door gebruik te maken van data van Reporters Without Borders (RSF), The Armed Conflict Location & Event Data Project (ACLED) en Our World in Data, zullen we scores en ranglijsten analyseren rondom persvrijheid, democratie en conflicten wereldwijd.\n",
    "\n",
    "Er zijn verschillende factoren die de mate van persvrijheid in een land kunnen beïnvloeden. Een belangrijk aspect is de aanwezigheid van conflicten. Conflicten kunnen de veiligheid van journalisten bedreigen, leiden tot verhoogde censuur en beperkingen opleggen aan de informatievoorziening. Hierbij zijn we bij het eerste perspectief gekomen: conflicten verminderen de persvrijheid. Daarnaast speelt het type bestuursvorm een cruciale rol. Autocratische regimes hebben vaak strenge controlemechanismen om kritiek en onafhankelijke berichtgeving te onderdrukken, waardoor de persvrijheid ernstig kan worden beperkt. Hieruit volgt het tweede perspectief: autocratische bestuursvormen verminderen de persvrijheid.\n"
   ]
  },
  {
   "cell_type": "markdown",
   "metadata": {},
   "source": [
    "## Dataset en benodigde modules importeren"
   ]
  },
  {
   "cell_type": "code",
   "execution_count": 266,
   "metadata": {
    "ExecuteTime": {
     "end_time": "2024-06-19T13:02:05.998036Z",
     "start_time": "2024-06-19T13:02:05.985534Z"
    }
   },
   "outputs": [
    {
     "data": {
      "text/html": [
       "        <script type=\"text/javascript\">\n",
       "        window.PlotlyConfig = {MathJaxConfig: 'local'};\n",
       "        if (window.MathJax && window.MathJax.Hub && window.MathJax.Hub.Config) {window.MathJax.Hub.Config({SVG: {font: \"STIX-Web\"}});}\n",
       "        if (typeof require !== 'undefined') {\n",
       "        require.undef(\"plotly\");\n",
       "        requirejs.config({\n",
       "            paths: {\n",
       "                'plotly': ['https://cdn.plot.ly/plotly-2.32.0.min']\n",
       "            }\n",
       "        });\n",
       "        require(['plotly'], function(Plotly) {\n",
       "            window._Plotly = Plotly;\n",
       "        });\n",
       "        }\n",
       "        </script>\n",
       "        "
      ]
     },
     "metadata": {},
     "output_type": "display_data"
    }
   ],
   "source": [
    "import pandas as pd\n",
    "\n",
    "import plotly.graph_objects as go\n",
    "from plotly.subplots import make_subplots\n",
    "from plotly.offline import init_notebook_mode\n",
    "import plotly.express as px\n",
    "\n",
    "import ipywidgets as widgets\n",
    "from ipywidgets import interact\n",
    "\n",
    "import numpy as np\n",
    "\n",
    "from IPython.display import display\n",
    "\n",
    "init_notebook_mode(connected=True)"
   ]
  },
  {
   "cell_type": "code",
   "execution_count": null,
   "metadata": {},
   "outputs": [],
   "source": [
    "# Laad de dataset\n",
    "eind_df = pd.read_pickle('./data/dataset.pkl')"
   ]
  },
  {
   "cell_type": "markdown",
   "metadata": {},
   "source": [
    "## Conflicten Verminderen de Persvrijheid"
   ]
  },
  {
   "cell_type": "markdown",
   "metadata": {},
   "source": [
    "### Argument 1\n",
    "\n",
    "**Landen die in conflict zijn hebben op dat moment een lage persvrijheid.**\n",
    "\n",
    "Het is algemeen bekend dat conflicten een negatieve impact hebben op verschillende aspecten van de samenleving, en persvrijheid vormt hierop geen uitzondering. Tijdens conflicten wordt de veiligheid van journalisten vaak in gevaar gebracht, waardoor ze hun werk niet vrij kunnen uitvoeren. De dreiging van geweld en intimidatie zorgt ervoor dat journalisten zichzelf censureren of stoppen met rapporteren over gevoelige onderwerpen. Dit heeft verstrekkende gevolgen voor de informatievoorziening en de kwaliteit van het nieuws dat het publiek bereikt. In conflictgebieden worden vaak strikte controlemaatregelen en censuur opgelegd om de verspreiding van informatie te beheersen, en worden journalisten vaak geconfronteerd met arrestaties, aanvallen en zelfs moord, wat leidt tot een omgeving waarin onafhankelijke berichtgeving vrijwel onmogelijk is.\n",
    "\n",
    "De onderstaande pie chart (figuur 1) biedt een helder inzicht in de verdeling van conflictniveaus wereldwijd. De verdeling is weergegeven in vier kleuren voor de conflictstatus: blauw staat voor laag/inactief, oranje voor hoog, geel voor turbulent en rood voor extreem. Uit het diagram blijkt dat 71,4% van de landen momenteel een lage of inactieve conflictstatus heeft. In tegenstelling hiermee bevindt de overige 28,6% van de landen zich in een hogere conflictstatus. Dit kan betekenen dat bijna een derde van de journalisten in deze landen te maken heeft met aanzienlijke uitdagingen en belemmeringen bij hun werk door de situatie in hun land.\n"
   ]
  },
  {
   "cell_type": "code",
   "execution_count": null,
   "metadata": {
    "ExecuteTime": {
     "end_time": "2024-06-19T13:02:07.206901Z",
     "start_time": "2024-06-19T13:02:07.192904Z"
    }
   },
   "outputs": [
    {
     "data": {
      "application/vnd.plotly.v1+json": {
       "config": {
        "plotlyServerURL": "https://plot.ly"
       },
       "data": [
        {
         "labels": [
          "Laag/Inactief",
          "Hoog",
          "Turbulent",
          "Extreem"
         ],
         "marker": {
          "colors": [
           "blue",
           "orange",
           "yellow",
           "red"
          ]
         },
         "type": "pie",
         "values": [
          121,
          19,
          18,
          10
         ]
        }
       ],
       "layout": {
        "legend": {
         "title": {
          "text": "Index level"
         }
        },
        "template": {
         "data": {
          "bar": [
           {
            "error_x": {
             "color": "#f2f5fa"
            },
            "error_y": {
             "color": "#f2f5fa"
            },
            "marker": {
             "line": {
              "color": "rgb(17,17,17)",
              "width": 0.5
             },
             "pattern": {
              "fillmode": "overlay",
              "size": 10,
              "solidity": 0.2
             }
            },
            "type": "bar"
           }
          ],
          "barpolar": [
           {
            "marker": {
             "line": {
              "color": "rgb(17,17,17)",
              "width": 0.5
             },
             "pattern": {
              "fillmode": "overlay",
              "size": 10,
              "solidity": 0.2
             }
            },
            "type": "barpolar"
           }
          ],
          "carpet": [
           {
            "aaxis": {
             "endlinecolor": "#A2B1C6",
             "gridcolor": "#506784",
             "linecolor": "#506784",
             "minorgridcolor": "#506784",
             "startlinecolor": "#A2B1C6"
            },
            "baxis": {
             "endlinecolor": "#A2B1C6",
             "gridcolor": "#506784",
             "linecolor": "#506784",
             "minorgridcolor": "#506784",
             "startlinecolor": "#A2B1C6"
            },
            "type": "carpet"
           }
          ],
          "choropleth": [
           {
            "colorbar": {
             "outlinewidth": 0,
             "ticks": ""
            },
            "type": "choropleth"
           }
          ],
          "contour": [
           {
            "colorbar": {
             "outlinewidth": 0,
             "ticks": ""
            },
            "colorscale": [
             [
              0,
              "#0d0887"
             ],
             [
              0.1111111111111111,
              "#46039f"
             ],
             [
              0.2222222222222222,
              "#7201a8"
             ],
             [
              0.3333333333333333,
              "#9c179e"
             ],
             [
              0.4444444444444444,
              "#bd3786"
             ],
             [
              0.5555555555555556,
              "#d8576b"
             ],
             [
              0.6666666666666666,
              "#ed7953"
             ],
             [
              0.7777777777777778,
              "#fb9f3a"
             ],
             [
              0.8888888888888888,
              "#fdca26"
             ],
             [
              1,
              "#f0f921"
             ]
            ],
            "type": "contour"
           }
          ],
          "contourcarpet": [
           {
            "colorbar": {
             "outlinewidth": 0,
             "ticks": ""
            },
            "type": "contourcarpet"
           }
          ],
          "heatmap": [
           {
            "colorbar": {
             "outlinewidth": 0,
             "ticks": ""
            },
            "colorscale": [
             [
              0,
              "#0d0887"
             ],
             [
              0.1111111111111111,
              "#46039f"
             ],
             [
              0.2222222222222222,
              "#7201a8"
             ],
             [
              0.3333333333333333,
              "#9c179e"
             ],
             [
              0.4444444444444444,
              "#bd3786"
             ],
             [
              0.5555555555555556,
              "#d8576b"
             ],
             [
              0.6666666666666666,
              "#ed7953"
             ],
             [
              0.7777777777777778,
              "#fb9f3a"
             ],
             [
              0.8888888888888888,
              "#fdca26"
             ],
             [
              1,
              "#f0f921"
             ]
            ],
            "type": "heatmap"
           }
          ],
          "heatmapgl": [
           {
            "colorbar": {
             "outlinewidth": 0,
             "ticks": ""
            },
            "colorscale": [
             [
              0,
              "#0d0887"
             ],
             [
              0.1111111111111111,
              "#46039f"
             ],
             [
              0.2222222222222222,
              "#7201a8"
             ],
             [
              0.3333333333333333,
              "#9c179e"
             ],
             [
              0.4444444444444444,
              "#bd3786"
             ],
             [
              0.5555555555555556,
              "#d8576b"
             ],
             [
              0.6666666666666666,
              "#ed7953"
             ],
             [
              0.7777777777777778,
              "#fb9f3a"
             ],
             [
              0.8888888888888888,
              "#fdca26"
             ],
             [
              1,
              "#f0f921"
             ]
            ],
            "type": "heatmapgl"
           }
          ],
          "histogram": [
           {
            "marker": {
             "pattern": {
              "fillmode": "overlay",
              "size": 10,
              "solidity": 0.2
             }
            },
            "type": "histogram"
           }
          ],
          "histogram2d": [
           {
            "colorbar": {
             "outlinewidth": 0,
             "ticks": ""
            },
            "colorscale": [
             [
              0,
              "#0d0887"
             ],
             [
              0.1111111111111111,
              "#46039f"
             ],
             [
              0.2222222222222222,
              "#7201a8"
             ],
             [
              0.3333333333333333,
              "#9c179e"
             ],
             [
              0.4444444444444444,
              "#bd3786"
             ],
             [
              0.5555555555555556,
              "#d8576b"
             ],
             [
              0.6666666666666666,
              "#ed7953"
             ],
             [
              0.7777777777777778,
              "#fb9f3a"
             ],
             [
              0.8888888888888888,
              "#fdca26"
             ],
             [
              1,
              "#f0f921"
             ]
            ],
            "type": "histogram2d"
           }
          ],
          "histogram2dcontour": [
           {
            "colorbar": {
             "outlinewidth": 0,
             "ticks": ""
            },
            "colorscale": [
             [
              0,
              "#0d0887"
             ],
             [
              0.1111111111111111,
              "#46039f"
             ],
             [
              0.2222222222222222,
              "#7201a8"
             ],
             [
              0.3333333333333333,
              "#9c179e"
             ],
             [
              0.4444444444444444,
              "#bd3786"
             ],
             [
              0.5555555555555556,
              "#d8576b"
             ],
             [
              0.6666666666666666,
              "#ed7953"
             ],
             [
              0.7777777777777778,
              "#fb9f3a"
             ],
             [
              0.8888888888888888,
              "#fdca26"
             ],
             [
              1,
              "#f0f921"
             ]
            ],
            "type": "histogram2dcontour"
           }
          ],
          "mesh3d": [
           {
            "colorbar": {
             "outlinewidth": 0,
             "ticks": ""
            },
            "type": "mesh3d"
           }
          ],
          "parcoords": [
           {
            "line": {
             "colorbar": {
              "outlinewidth": 0,
              "ticks": ""
             }
            },
            "type": "parcoords"
           }
          ],
          "pie": [
           {
            "automargin": true,
            "type": "pie"
           }
          ],
          "scatter": [
           {
            "marker": {
             "line": {
              "color": "#283442"
             }
            },
            "type": "scatter"
           }
          ],
          "scatter3d": [
           {
            "line": {
             "colorbar": {
              "outlinewidth": 0,
              "ticks": ""
             }
            },
            "marker": {
             "colorbar": {
              "outlinewidth": 0,
              "ticks": ""
             }
            },
            "type": "scatter3d"
           }
          ],
          "scattercarpet": [
           {
            "marker": {
             "colorbar": {
              "outlinewidth": 0,
              "ticks": ""
             }
            },
            "type": "scattercarpet"
           }
          ],
          "scattergeo": [
           {
            "marker": {
             "colorbar": {
              "outlinewidth": 0,
              "ticks": ""
             }
            },
            "type": "scattergeo"
           }
          ],
          "scattergl": [
           {
            "marker": {
             "line": {
              "color": "#283442"
             }
            },
            "type": "scattergl"
           }
          ],
          "scattermapbox": [
           {
            "marker": {
             "colorbar": {
              "outlinewidth": 0,
              "ticks": ""
             }
            },
            "type": "scattermapbox"
           }
          ],
          "scatterpolar": [
           {
            "marker": {
             "colorbar": {
              "outlinewidth": 0,
              "ticks": ""
             }
            },
            "type": "scatterpolar"
           }
          ],
          "scatterpolargl": [
           {
            "marker": {
             "colorbar": {
              "outlinewidth": 0,
              "ticks": ""
             }
            },
            "type": "scatterpolargl"
           }
          ],
          "scatterternary": [
           {
            "marker": {
             "colorbar": {
              "outlinewidth": 0,
              "ticks": ""
             }
            },
            "type": "scatterternary"
           }
          ],
          "surface": [
           {
            "colorbar": {
             "outlinewidth": 0,
             "ticks": ""
            },
            "colorscale": [
             [
              0,
              "#0d0887"
             ],
             [
              0.1111111111111111,
              "#46039f"
             ],
             [
              0.2222222222222222,
              "#7201a8"
             ],
             [
              0.3333333333333333,
              "#9c179e"
             ],
             [
              0.4444444444444444,
              "#bd3786"
             ],
             [
              0.5555555555555556,
              "#d8576b"
             ],
             [
              0.6666666666666666,
              "#ed7953"
             ],
             [
              0.7777777777777778,
              "#fb9f3a"
             ],
             [
              0.8888888888888888,
              "#fdca26"
             ],
             [
              1,
              "#f0f921"
             ]
            ],
            "type": "surface"
           }
          ],
          "table": [
           {
            "cells": {
             "fill": {
              "color": "#506784"
             },
             "line": {
              "color": "rgb(17,17,17)"
             }
            },
            "header": {
             "fill": {
              "color": "#2a3f5f"
             },
             "line": {
              "color": "rgb(17,17,17)"
             }
            },
            "type": "table"
           }
          ]
         },
         "layout": {
          "annotationdefaults": {
           "arrowcolor": "#f2f5fa",
           "arrowhead": 0,
           "arrowwidth": 1
          },
          "autotypenumbers": "strict",
          "coloraxis": {
           "colorbar": {
            "outlinewidth": 0,
            "ticks": ""
           }
          },
          "colorscale": {
           "diverging": [
            [
             0,
             "#8e0152"
            ],
            [
             0.1,
             "#c51b7d"
            ],
            [
             0.2,
             "#de77ae"
            ],
            [
             0.3,
             "#f1b6da"
            ],
            [
             0.4,
             "#fde0ef"
            ],
            [
             0.5,
             "#f7f7f7"
            ],
            [
             0.6,
             "#e6f5d0"
            ],
            [
             0.7,
             "#b8e186"
            ],
            [
             0.8,
             "#7fbc41"
            ],
            [
             0.9,
             "#4d9221"
            ],
            [
             1,
             "#276419"
            ]
           ],
           "sequential": [
            [
             0,
             "#0d0887"
            ],
            [
             0.1111111111111111,
             "#46039f"
            ],
            [
             0.2222222222222222,
             "#7201a8"
            ],
            [
             0.3333333333333333,
             "#9c179e"
            ],
            [
             0.4444444444444444,
             "#bd3786"
            ],
            [
             0.5555555555555556,
             "#d8576b"
            ],
            [
             0.6666666666666666,
             "#ed7953"
            ],
            [
             0.7777777777777778,
             "#fb9f3a"
            ],
            [
             0.8888888888888888,
             "#fdca26"
            ],
            [
             1,
             "#f0f921"
            ]
           ],
           "sequentialminus": [
            [
             0,
             "#0d0887"
            ],
            [
             0.1111111111111111,
             "#46039f"
            ],
            [
             0.2222222222222222,
             "#7201a8"
            ],
            [
             0.3333333333333333,
             "#9c179e"
            ],
            [
             0.4444444444444444,
             "#bd3786"
            ],
            [
             0.5555555555555556,
             "#d8576b"
            ],
            [
             0.6666666666666666,
             "#ed7953"
            ],
            [
             0.7777777777777778,
             "#fb9f3a"
            ],
            [
             0.8888888888888888,
             "#fdca26"
            ],
            [
             1,
             "#f0f921"
            ]
           ]
          },
          "colorway": [
           "#636efa",
           "#EF553B",
           "#00cc96",
           "#ab63fa",
           "#FFA15A",
           "#19d3f3",
           "#FF6692",
           "#B6E880",
           "#FF97FF",
           "#FECB52"
          ],
          "font": {
           "color": "#f2f5fa"
          },
          "geo": {
           "bgcolor": "rgb(17,17,17)",
           "lakecolor": "rgb(17,17,17)",
           "landcolor": "rgb(17,17,17)",
           "showlakes": true,
           "showland": true,
           "subunitcolor": "#506784"
          },
          "hoverlabel": {
           "align": "left"
          },
          "hovermode": "closest",
          "mapbox": {
           "style": "dark"
          },
          "paper_bgcolor": "rgb(17,17,17)",
          "plot_bgcolor": "rgb(17,17,17)",
          "polar": {
           "angularaxis": {
            "gridcolor": "#506784",
            "linecolor": "#506784",
            "ticks": ""
           },
           "bgcolor": "rgb(17,17,17)",
           "radialaxis": {
            "gridcolor": "#506784",
            "linecolor": "#506784",
            "ticks": ""
           }
          },
          "scene": {
           "xaxis": {
            "backgroundcolor": "rgb(17,17,17)",
            "gridcolor": "#506784",
            "gridwidth": 2,
            "linecolor": "#506784",
            "showbackground": true,
            "ticks": "",
            "zerolinecolor": "#C8D4E3"
           },
           "yaxis": {
            "backgroundcolor": "rgb(17,17,17)",
            "gridcolor": "#506784",
            "gridwidth": 2,
            "linecolor": "#506784",
            "showbackground": true,
            "ticks": "",
            "zerolinecolor": "#C8D4E3"
           },
           "zaxis": {
            "backgroundcolor": "rgb(17,17,17)",
            "gridcolor": "#506784",
            "gridwidth": 2,
            "linecolor": "#506784",
            "showbackground": true,
            "ticks": "",
            "zerolinecolor": "#C8D4E3"
           }
          },
          "shapedefaults": {
           "line": {
            "color": "#f2f5fa"
           }
          },
          "sliderdefaults": {
           "bgcolor": "#C8D4E3",
           "bordercolor": "rgb(17,17,17)",
           "borderwidth": 1,
           "tickwidth": 0
          },
          "ternary": {
           "aaxis": {
            "gridcolor": "#506784",
            "linecolor": "#506784",
            "ticks": ""
           },
           "baxis": {
            "gridcolor": "#506784",
            "linecolor": "#506784",
            "ticks": ""
           },
           "bgcolor": "rgb(17,17,17)",
           "caxis": {
            "gridcolor": "#506784",
            "linecolor": "#506784",
            "ticks": ""
           }
          },
          "title": {
           "x": 0.05
          },
          "updatemenudefaults": {
           "bgcolor": "#506784",
           "borderwidth": 0
          },
          "xaxis": {
           "automargin": true,
           "gridcolor": "#283442",
           "linecolor": "#506784",
           "ticks": "",
           "title": {
            "standoff": 15
           },
           "zerolinecolor": "#283442",
           "zerolinewidth": 2
          },
          "yaxis": {
           "automargin": true,
           "gridcolor": "#283442",
           "linecolor": "#506784",
           "ticks": "",
           "title": {
            "standoff": 15
           },
           "zerolinecolor": "#283442",
           "zerolinewidth": 2
          }
         }
        },
        "title": {
         "text": "Aantal landen met bepaalde conflict status (index level) "
        }
       }
      },
      "text/html": [
       "<div>                            <div id=\"a98cd4d6-6d9a-4688-a4ed-02cfc9357a23\" class=\"plotly-graph-div\" style=\"height:525px; width:100%;\"></div>            <script type=\"text/javascript\">                require([\"plotly\"], function(Plotly) {                    window.PLOTLYENV=window.PLOTLYENV || {};                                    if (document.getElementById(\"a98cd4d6-6d9a-4688-a4ed-02cfc9357a23\")) {                    Plotly.newPlot(                        \"a98cd4d6-6d9a-4688-a4ed-02cfc9357a23\",                        [{\"labels\":[\"Laag\\u002fInactief\",\"Hoog\",\"Turbulent\",\"Extreem\"],\"marker\":{\"colors\":[\"blue\",\"orange\",\"yellow\",\"red\"]},\"values\":[121,19,18,10],\"type\":\"pie\"}],                        {\"template\":{\"data\":{\"histogram2dcontour\":[{\"type\":\"histogram2dcontour\",\"colorbar\":{\"outlinewidth\":0,\"ticks\":\"\"},\"colorscale\":[[0.0,\"#0d0887\"],[0.1111111111111111,\"#46039f\"],[0.2222222222222222,\"#7201a8\"],[0.3333333333333333,\"#9c179e\"],[0.4444444444444444,\"#bd3786\"],[0.5555555555555556,\"#d8576b\"],[0.6666666666666666,\"#ed7953\"],[0.7777777777777778,\"#fb9f3a\"],[0.8888888888888888,\"#fdca26\"],[1.0,\"#f0f921\"]]}],\"choropleth\":[{\"type\":\"choropleth\",\"colorbar\":{\"outlinewidth\":0,\"ticks\":\"\"}}],\"histogram2d\":[{\"type\":\"histogram2d\",\"colorbar\":{\"outlinewidth\":0,\"ticks\":\"\"},\"colorscale\":[[0.0,\"#0d0887\"],[0.1111111111111111,\"#46039f\"],[0.2222222222222222,\"#7201a8\"],[0.3333333333333333,\"#9c179e\"],[0.4444444444444444,\"#bd3786\"],[0.5555555555555556,\"#d8576b\"],[0.6666666666666666,\"#ed7953\"],[0.7777777777777778,\"#fb9f3a\"],[0.8888888888888888,\"#fdca26\"],[1.0,\"#f0f921\"]]}],\"heatmap\":[{\"type\":\"heatmap\",\"colorbar\":{\"outlinewidth\":0,\"ticks\":\"\"},\"colorscale\":[[0.0,\"#0d0887\"],[0.1111111111111111,\"#46039f\"],[0.2222222222222222,\"#7201a8\"],[0.3333333333333333,\"#9c179e\"],[0.4444444444444444,\"#bd3786\"],[0.5555555555555556,\"#d8576b\"],[0.6666666666666666,\"#ed7953\"],[0.7777777777777778,\"#fb9f3a\"],[0.8888888888888888,\"#fdca26\"],[1.0,\"#f0f921\"]]}],\"heatmapgl\":[{\"type\":\"heatmapgl\",\"colorbar\":{\"outlinewidth\":0,\"ticks\":\"\"},\"colorscale\":[[0.0,\"#0d0887\"],[0.1111111111111111,\"#46039f\"],[0.2222222222222222,\"#7201a8\"],[0.3333333333333333,\"#9c179e\"],[0.4444444444444444,\"#bd3786\"],[0.5555555555555556,\"#d8576b\"],[0.6666666666666666,\"#ed7953\"],[0.7777777777777778,\"#fb9f3a\"],[0.8888888888888888,\"#fdca26\"],[1.0,\"#f0f921\"]]}],\"contourcarpet\":[{\"type\":\"contourcarpet\",\"colorbar\":{\"outlinewidth\":0,\"ticks\":\"\"}}],\"contour\":[{\"type\":\"contour\",\"colorbar\":{\"outlinewidth\":0,\"ticks\":\"\"},\"colorscale\":[[0.0,\"#0d0887\"],[0.1111111111111111,\"#46039f\"],[0.2222222222222222,\"#7201a8\"],[0.3333333333333333,\"#9c179e\"],[0.4444444444444444,\"#bd3786\"],[0.5555555555555556,\"#d8576b\"],[0.6666666666666666,\"#ed7953\"],[0.7777777777777778,\"#fb9f3a\"],[0.8888888888888888,\"#fdca26\"],[1.0,\"#f0f921\"]]}],\"surface\":[{\"type\":\"surface\",\"colorbar\":{\"outlinewidth\":0,\"ticks\":\"\"},\"colorscale\":[[0.0,\"#0d0887\"],[0.1111111111111111,\"#46039f\"],[0.2222222222222222,\"#7201a8\"],[0.3333333333333333,\"#9c179e\"],[0.4444444444444444,\"#bd3786\"],[0.5555555555555556,\"#d8576b\"],[0.6666666666666666,\"#ed7953\"],[0.7777777777777778,\"#fb9f3a\"],[0.8888888888888888,\"#fdca26\"],[1.0,\"#f0f921\"]]}],\"mesh3d\":[{\"type\":\"mesh3d\",\"colorbar\":{\"outlinewidth\":0,\"ticks\":\"\"}}],\"scatter\":[{\"marker\":{\"line\":{\"color\":\"#283442\"}},\"type\":\"scatter\"}],\"parcoords\":[{\"type\":\"parcoords\",\"line\":{\"colorbar\":{\"outlinewidth\":0,\"ticks\":\"\"}}}],\"scatterpolargl\":[{\"type\":\"scatterpolargl\",\"marker\":{\"colorbar\":{\"outlinewidth\":0,\"ticks\":\"\"}}}],\"bar\":[{\"error_x\":{\"color\":\"#f2f5fa\"},\"error_y\":{\"color\":\"#f2f5fa\"},\"marker\":{\"line\":{\"color\":\"rgb(17,17,17)\",\"width\":0.5},\"pattern\":{\"fillmode\":\"overlay\",\"size\":10,\"solidity\":0.2}},\"type\":\"bar\"}],\"scattergeo\":[{\"type\":\"scattergeo\",\"marker\":{\"colorbar\":{\"outlinewidth\":0,\"ticks\":\"\"}}}],\"scatterpolar\":[{\"type\":\"scatterpolar\",\"marker\":{\"colorbar\":{\"outlinewidth\":0,\"ticks\":\"\"}}}],\"histogram\":[{\"marker\":{\"pattern\":{\"fillmode\":\"overlay\",\"size\":10,\"solidity\":0.2}},\"type\":\"histogram\"}],\"scattergl\":[{\"marker\":{\"line\":{\"color\":\"#283442\"}},\"type\":\"scattergl\"}],\"scatter3d\":[{\"type\":\"scatter3d\",\"line\":{\"colorbar\":{\"outlinewidth\":0,\"ticks\":\"\"}},\"marker\":{\"colorbar\":{\"outlinewidth\":0,\"ticks\":\"\"}}}],\"scattermapbox\":[{\"type\":\"scattermapbox\",\"marker\":{\"colorbar\":{\"outlinewidth\":0,\"ticks\":\"\"}}}],\"scatterternary\":[{\"type\":\"scatterternary\",\"marker\":{\"colorbar\":{\"outlinewidth\":0,\"ticks\":\"\"}}}],\"scattercarpet\":[{\"type\":\"scattercarpet\",\"marker\":{\"colorbar\":{\"outlinewidth\":0,\"ticks\":\"\"}}}],\"carpet\":[{\"aaxis\":{\"endlinecolor\":\"#A2B1C6\",\"gridcolor\":\"#506784\",\"linecolor\":\"#506784\",\"minorgridcolor\":\"#506784\",\"startlinecolor\":\"#A2B1C6\"},\"baxis\":{\"endlinecolor\":\"#A2B1C6\",\"gridcolor\":\"#506784\",\"linecolor\":\"#506784\",\"minorgridcolor\":\"#506784\",\"startlinecolor\":\"#A2B1C6\"},\"type\":\"carpet\"}],\"table\":[{\"cells\":{\"fill\":{\"color\":\"#506784\"},\"line\":{\"color\":\"rgb(17,17,17)\"}},\"header\":{\"fill\":{\"color\":\"#2a3f5f\"},\"line\":{\"color\":\"rgb(17,17,17)\"}},\"type\":\"table\"}],\"barpolar\":[{\"marker\":{\"line\":{\"color\":\"rgb(17,17,17)\",\"width\":0.5},\"pattern\":{\"fillmode\":\"overlay\",\"size\":10,\"solidity\":0.2}},\"type\":\"barpolar\"}],\"pie\":[{\"automargin\":true,\"type\":\"pie\"}]},\"layout\":{\"autotypenumbers\":\"strict\",\"colorway\":[\"#636efa\",\"#EF553B\",\"#00cc96\",\"#ab63fa\",\"#FFA15A\",\"#19d3f3\",\"#FF6692\",\"#B6E880\",\"#FF97FF\",\"#FECB52\"],\"font\":{\"color\":\"#f2f5fa\"},\"hovermode\":\"closest\",\"hoverlabel\":{\"align\":\"left\"},\"paper_bgcolor\":\"rgb(17,17,17)\",\"plot_bgcolor\":\"rgb(17,17,17)\",\"polar\":{\"bgcolor\":\"rgb(17,17,17)\",\"angularaxis\":{\"gridcolor\":\"#506784\",\"linecolor\":\"#506784\",\"ticks\":\"\"},\"radialaxis\":{\"gridcolor\":\"#506784\",\"linecolor\":\"#506784\",\"ticks\":\"\"}},\"ternary\":{\"bgcolor\":\"rgb(17,17,17)\",\"aaxis\":{\"gridcolor\":\"#506784\",\"linecolor\":\"#506784\",\"ticks\":\"\"},\"baxis\":{\"gridcolor\":\"#506784\",\"linecolor\":\"#506784\",\"ticks\":\"\"},\"caxis\":{\"gridcolor\":\"#506784\",\"linecolor\":\"#506784\",\"ticks\":\"\"}},\"coloraxis\":{\"colorbar\":{\"outlinewidth\":0,\"ticks\":\"\"}},\"colorscale\":{\"sequential\":[[0.0,\"#0d0887\"],[0.1111111111111111,\"#46039f\"],[0.2222222222222222,\"#7201a8\"],[0.3333333333333333,\"#9c179e\"],[0.4444444444444444,\"#bd3786\"],[0.5555555555555556,\"#d8576b\"],[0.6666666666666666,\"#ed7953\"],[0.7777777777777778,\"#fb9f3a\"],[0.8888888888888888,\"#fdca26\"],[1.0,\"#f0f921\"]],\"sequentialminus\":[[0.0,\"#0d0887\"],[0.1111111111111111,\"#46039f\"],[0.2222222222222222,\"#7201a8\"],[0.3333333333333333,\"#9c179e\"],[0.4444444444444444,\"#bd3786\"],[0.5555555555555556,\"#d8576b\"],[0.6666666666666666,\"#ed7953\"],[0.7777777777777778,\"#fb9f3a\"],[0.8888888888888888,\"#fdca26\"],[1.0,\"#f0f921\"]],\"diverging\":[[0,\"#8e0152\"],[0.1,\"#c51b7d\"],[0.2,\"#de77ae\"],[0.3,\"#f1b6da\"],[0.4,\"#fde0ef\"],[0.5,\"#f7f7f7\"],[0.6,\"#e6f5d0\"],[0.7,\"#b8e186\"],[0.8,\"#7fbc41\"],[0.9,\"#4d9221\"],[1,\"#276419\"]]},\"xaxis\":{\"gridcolor\":\"#283442\",\"linecolor\":\"#506784\",\"ticks\":\"\",\"title\":{\"standoff\":15},\"zerolinecolor\":\"#283442\",\"automargin\":true,\"zerolinewidth\":2},\"yaxis\":{\"gridcolor\":\"#283442\",\"linecolor\":\"#506784\",\"ticks\":\"\",\"title\":{\"standoff\":15},\"zerolinecolor\":\"#283442\",\"automargin\":true,\"zerolinewidth\":2},\"scene\":{\"xaxis\":{\"backgroundcolor\":\"rgb(17,17,17)\",\"gridcolor\":\"#506784\",\"linecolor\":\"#506784\",\"showbackground\":true,\"ticks\":\"\",\"zerolinecolor\":\"#C8D4E3\",\"gridwidth\":2},\"yaxis\":{\"backgroundcolor\":\"rgb(17,17,17)\",\"gridcolor\":\"#506784\",\"linecolor\":\"#506784\",\"showbackground\":true,\"ticks\":\"\",\"zerolinecolor\":\"#C8D4E3\",\"gridwidth\":2},\"zaxis\":{\"backgroundcolor\":\"rgb(17,17,17)\",\"gridcolor\":\"#506784\",\"linecolor\":\"#506784\",\"showbackground\":true,\"ticks\":\"\",\"zerolinecolor\":\"#C8D4E3\",\"gridwidth\":2}},\"shapedefaults\":{\"line\":{\"color\":\"#f2f5fa\"}},\"annotationdefaults\":{\"arrowcolor\":\"#f2f5fa\",\"arrowhead\":0,\"arrowwidth\":1},\"geo\":{\"bgcolor\":\"rgb(17,17,17)\",\"landcolor\":\"rgb(17,17,17)\",\"subunitcolor\":\"#506784\",\"showland\":true,\"showlakes\":true,\"lakecolor\":\"rgb(17,17,17)\"},\"title\":{\"x\":0.05},\"updatemenudefaults\":{\"bgcolor\":\"#506784\",\"borderwidth\":0},\"sliderdefaults\":{\"bgcolor\":\"#C8D4E3\",\"borderwidth\":1,\"bordercolor\":\"rgb(17,17,17)\",\"tickwidth\":0},\"mapbox\":{\"style\":\"dark\"}}},\"title\":{\"text\":\"Aantal landen met bepaalde conflict status (index level) \"},\"legend\":{\"title\":{\"text\":\"Index level\"}}},                        {\"responsive\": true}                    ).then(function(){\n",
       "                            \n",
       "var gd = document.getElementById('a98cd4d6-6d9a-4688-a4ed-02cfc9357a23');\n",
       "var x = new MutationObserver(function (mutations, observer) {{\n",
       "        var display = window.getComputedStyle(gd).display;\n",
       "        if (!display || display === 'none') {{\n",
       "            console.log([gd, 'removed!']);\n",
       "            Plotly.purge(gd);\n",
       "            observer.disconnect();\n",
       "        }}\n",
       "}});\n",
       "\n",
       "// Listen for the removal of the full notebook cells\n",
       "var notebookContainer = gd.closest('#notebook-container');\n",
       "if (notebookContainer) {{\n",
       "    x.observe(notebookContainer, {childList: true});\n",
       "}}\n",
       "\n",
       "// Listen for the clearing of the current output cell\n",
       "var outputEl = gd.closest('.output');\n",
       "if (outputEl) {{\n",
       "    x.observe(outputEl, {childList: true});\n",
       "}}\n",
       "\n",
       "                        })                };                });            </script>        </div>"
      ]
     },
     "metadata": {},
     "output_type": "display_data"
    }
   ],
   "source": [
    "# Creëer een pie chart van de verschillende conflict statussen\n",
    "\n",
    "color_counts = eind_df['conflict_categorie_2023'].value_counts()\n",
    "\n",
    "color_discrete_map = {\n",
    "    \"Low/Inactive\": \"blue\",\n",
    "    \"High\": \"orange\",\n",
    "    \"Turbulent\": \"yellow\",\n",
    "    \"Extreme\": \"red\",\n",
    "}\n",
    "\n",
    "fig = px.pie(eind_df, \n",
    "             values = color_counts.values,\n",
    "             names = [color for color in color_counts.index],\n",
    "             color=[color for color in color_counts.index], \n",
    "             color_discrete_map=color_discrete_map)\n",
    "\n",
    "\n",
    "fig.update_traces(\n",
    "    textposition='inside', \n",
    "    textinfo='percent',\n",
    "    hovertemplate='<b>%{label}</b><br>Aantal landen: %{value}<extra></extra>')\n",
    "\n",
    "fig.update_layout(\n",
    "    title = 'Aantal landen met bepaalde conflict status (index level) ',\n",
    "    legend_title = 'Index level'\n",
    ")\n",
    "\n",
    "fig.show()\n",
    "\n",
    "print('Figuur 1')"
   ]
  },
  {
   "cell_type": "markdown",
   "metadata": {},
   "source": [
    "De scatterplot hieronder (figuur 2) toont een significante negatieve correlatie tussen de conflict rangschikking en de persvrijheid rangschikking voor het jaar 2023. De visualisatie laat een correlatie van -0.43 zien tussen deze twee indexen. Dit betekent dat landen met een lage of inactieve conflictstatus (blauw) doorgaans lager scoren op de persvrijheid rangschikking, wat aangeeft dat er veel persvrijheid is. De scatterplot laat ook zien dat de 28,6% van de landen die zich in een turbulente, hoge of extreme conflictstatus bevinden, een hoge score hebben op de persvrijheid rangschikking, wat betekent dat er weinig persvrijheid is in deze landen."
   ]
  },
  {
   "cell_type": "code",
   "execution_count": 282,
   "metadata": {
    "ExecuteTime": {
     "end_time": "2024-06-19T13:02:07.237903Z",
     "start_time": "2024-06-19T13:02:07.208901Z"
    }
   },
   "outputs": [
    {
     "data": {
      "application/vnd.plotly.v1+json": {
       "config": {
        "plotlyServerURL": "https://plot.ly"
       },
       "data": [
        {
         "marker": {
          "color": [
           "blue",
           "blue",
           "blue",
           "blue",
           "blue",
           "blue",
           "blue",
           "blue",
           "blue",
           "blue",
           "blue",
           "blue",
           "blue",
           "blue",
           "blue",
           "blue",
           "blue",
           "blue",
           "blue",
           "blue",
           "blue",
           "blue",
           "blue",
           "yellow",
           "blue",
           "blue",
           "blue",
           "blue",
           "orange",
           "blue",
           "orange",
           "blue",
           "blue",
           "blue",
           "blue",
           "blue",
           "blue",
           "blue",
           "blue",
           "blue",
           "blue",
           "blue",
           "blue",
           "blue",
           "blue",
           "blue",
           "blue",
           "blue",
           "yellow",
           "blue",
           "blue",
           "blue",
           "blue",
           "blue",
           "orange",
           "yellow",
           "blue",
           "yellow",
           "blue",
           "blue",
           "blue",
           "blue",
           "blue",
           "blue",
           "blue",
           "blue",
           "blue",
           "blue",
           "blue",
           "blue",
           "blue",
           "blue",
           "blue",
           "orange",
           "yellow",
           "blue",
           "blue",
           "blue",
           "blue",
           "blue",
           "blue",
           "blue",
           "blue",
           "blue",
           "blue",
           "red",
           "blue",
           "blue",
           "blue",
           "orange",
           "yellow",
           "red",
           "blue",
           "yellow",
           "yellow",
           "blue",
           "blue",
           "blue",
           "blue",
           "blue",
           "yellow",
           "yellow",
           "blue",
           "yellow",
           "orange",
           "yellow",
           "blue",
           "orange",
           "blue",
           "yellow",
           "yellow",
           "blue",
           "blue",
           "blue",
           "red",
           "blue",
           "yellow",
           "orange",
           "red",
           "blue",
           "orange",
           "blue",
           "orange",
           "yellow",
           "blue",
           "blue",
           "blue",
           "blue",
           "orange",
           "red",
           "orange",
           "blue",
           "blue",
           "blue",
           "blue",
           "blue",
           "red",
           "blue",
           "orange",
           "blue",
           "orange",
           "blue",
           "blue",
           "blue",
           "red",
           "blue",
           "blue",
           "orange",
           "blue",
           "orange",
           "blue",
           "orange",
           "yellow",
           "blue",
           "orange",
           "red",
           "orange",
           "blue",
           "blue",
           "blue",
           "red",
           "blue",
           "red",
           "blue",
           "yellow",
           "blue",
           "blue",
           "blue"
          ],
          "size": 10
         },
         "mode": "markers",
         "name": "Land",
         "showlegend": false,
         "text": [
          "Norway",
          "Ireland",
          "Denmark",
          "Sweden",
          "Finland",
          "Netherlands",
          "Lithuania",
          "Estonia",
          "Portugal",
          "East Timor",
          "Liechtenstein",
          "Switzerland",
          "New Zealand",
          "Canada",
          "Latvia",
          "Slovakia",
          "Iceland",
          "Samoa",
          "Luxembourg",
          "Germany",
          "Namibia",
          "Costa Rica",
          "France",
          "South Africa",
          "United Kingdom",
          "Australia",
          "Moldova",
          "Austria",
          "Trinidad and Tobago",
          "Belgium",
          "Jamaica",
          "Seychelles",
          "Taiwan",
          "Spain",
          "Andorra",
          "North Macedonia",
          "Montenegro",
          "Argentina",
          "Italy",
          "Croatia",
          "Dominican Republic",
          "Tonga",
          "United States",
          "Gambia",
          "South Korea",
          "Suriname",
          "Armenia",
          "Slovenia",
          "Belize",
          "Uruguay",
          "Romania",
          "Cyprus",
          "Kosovo",
          "Poland",
          "Burkina Faso",
          "Papua New Guinea",
          "Guyana",
          "Niger",
          "Ghana",
          "Mauritius",
          "Botswana",
          "Liberia",
          "Lesotho",
          "Japan",
          "Panama",
          "Togo",
          "Bulgaria",
          "Hungary",
          "Malaysia",
          "Sierra Leone",
          "Comoros",
          "Georgia",
          "Guinea-Bissau",
          "Ukraine",
          "Ecuador",
          "Malawi",
          "Chile",
          "Malta",
          "Guinea",
          "Mauritania",
          "Zambia",
          "Mongolia",
          "Fiji",
          "Bhutan",
          "Serbia",
          "Brazil",
          "Gabon",
          "Nepal",
          "Albania",
          "Israel",
          "Central African Republic",
          "Haiti",
          "Maldives",
          "Madagascar",
          "Mozambique",
          "Paraguay",
          "Senegal",
          "Qatar",
          "Thailand",
          "Greece",
          "Indonesia",
          "Chad",
          "Peru",
          "Benin",
          "Mali",
          "Burundi",
          "El Salvador",
          "Kenya",
          "Bolivia",
          "South Sudan",
          "Lebanon",
          "Equatorial Guinea",
          "Tunisia",
          "Kyrgyzstan",
          "Nigeria",
          "Angola",
          "Zimbabwe",
          "Guatemala",
          "Mexico",
          "Singapore",
          "Ethiopia",
          "Rwanda",
          "Philippines",
          "Uganda",
          "Kazakhstan",
          "Sri Lanka",
          "Algeria",
          "Uzbekistan",
          "Cameroon",
          "Colombia",
          "Somalia",
          "Brunei",
          "Tanzania",
          "United Arab Emirates",
          "Jordan",
          "Cambodia",
          "Sudan",
          "Libya",
          "Pakistan",
          "Azerbaijan",
          "Afghanistan",
          "Tajikistan",
          "Kuwait",
          "Oman",
          "Palestine",
          "Belarus",
          "Nicaragua",
          "Venezuela",
          "Laos",
          "India",
          "Djibouti",
          "Bangladesh",
          "Russia",
          "Egypt",
          "Iraq",
          "Yemen",
          "Honduras",
          "Saudi Arabia",
          "Bahrain",
          "Cuba",
          "Myanmar",
          "Eritrea",
          "Syria",
          "Turkmenistan",
          "Iran",
          "Vietnam",
          "China",
          "North Korea"
         ],
         "type": "scatter",
         "x": [
          146,
          140,
          163,
          140,
          146,
          125,
          146,
          163,
          163,
          146,
          163,
          163,
          163,
          117,
          163,
          146,
          146,
          146,
          163,
          79,
          126,
          120,
          61,
          33,
          113,
          163,
          94,
          132,
          30,
          104,
          21,
          163,
          163,
          117,
          163,
          131,
          135,
          74,
          96,
          163,
          84,
          163,
          51,
          116,
          163,
          122,
          79,
          143,
          47,
          135,
          112,
          86,
          92,
          102,
          17,
          50,
          108,
          34,
          53,
          115,
          106,
          78,
          107,
          146,
          96,
          77,
          163,
          100,
          146,
          70,
          109,
          103,
          88,
          13,
          40,
          62,
          57,
          143,
          65,
          83,
          73,
          163,
          163,
          163,
          120,
          6,
          105,
          56,
          117,
          22,
          34,
          8,
          130,
          38,
          45,
          70,
          69,
          163,
          75,
          59,
          44,
          49,
          53,
          43,
          15,
          32,
          58,
          19,
          72,
          37,
          31,
          163,
          101,
          90,
          5,
          64,
          48,
          24,
          4,
          163,
          22,
          95,
          27,
          42,
          84,
          76,
          81,
          90,
          25,
          7,
          27,
          163,
          68,
          163,
          122,
          146,
          10,
          52,
          14,
          55,
          25,
          113,
          163,
          146,
          3,
          99,
          89,
          27,
          143,
          15,
          127,
          17,
          36,
          82,
          12,
          9,
          20,
          93,
          132,
          87,
          1,
          162,
          2,
          163,
          46,
          111,
          66,
          109
         ],
         "y": [
          1,
          2,
          3,
          4,
          5,
          6,
          7,
          8,
          9,
          10,
          11,
          12,
          13,
          15,
          16,
          17,
          18,
          19,
          20,
          21,
          22,
          23,
          24,
          25,
          26,
          27,
          28,
          29,
          30,
          31,
          32,
          34,
          35,
          36,
          37,
          38,
          39,
          40,
          41,
          42,
          43,
          44,
          45,
          46,
          47,
          48,
          49,
          50,
          51,
          52,
          53,
          55,
          56,
          57,
          58,
          59,
          60,
          61,
          62,
          63,
          65,
          66,
          67,
          68,
          69,
          70,
          71,
          72,
          73,
          74,
          75,
          77,
          78,
          79,
          80,
          82,
          83,
          84,
          85,
          86,
          87,
          88,
          89,
          90,
          91,
          92,
          94,
          95,
          96,
          97,
          98,
          99,
          100,
          101,
          102,
          103,
          104,
          105,
          106,
          107,
          108,
          109,
          110,
          112,
          113,
          114,
          115,
          116,
          117,
          118,
          119,
          120,
          121,
          122,
          123,
          125,
          126,
          127,
          128,
          129,
          130,
          131,
          132,
          133,
          134,
          135,
          136,
          137,
          138,
          139,
          141,
          142,
          143,
          145,
          146,
          147,
          148,
          149,
          150,
          151,
          152,
          153,
          154,
          155,
          156,
          157,
          158,
          159,
          160,
          161,
          162,
          163,
          164,
          166,
          167,
          168,
          169,
          170,
          171,
          172,
          173,
          174,
          175,
          176,
          177,
          178,
          179,
          180
         ]
        },
        {
         "legendgroup": "group1",
         "marker": {
          "color": "red",
          "size": 10
         },
         "mode": "markers",
         "name": "Extreem (Top 10)",
         "showlegend": true,
         "type": "scatter",
         "x": [
          null
         ],
         "y": [
          null
         ]
        },
        {
         "legendgroup": "group2",
         "marker": {
          "color": "orange",
          "size": 10
         },
         "mode": "markers",
         "name": "Hoog (11-30)",
         "showlegend": true,
         "type": "scatter",
         "x": [
          null
         ],
         "y": [
          null
         ]
        },
        {
         "legendgroup": "group3",
         "marker": {
          "color": "yellow",
          "size": 10
         },
         "mode": "markers",
         "name": "Turbulent (31-50)",
         "showlegend": true,
         "type": "scatter",
         "x": [
          null
         ],
         "y": [
          null
         ]
        },
        {
         "legendgroup": "group4",
         "marker": {
          "color": "blue",
          "size": 10
         },
         "mode": "markers",
         "name": "Laag/inactief (>50)",
         "showlegend": true,
         "type": "scatter",
         "x": [
          null
         ],
         "y": [
          null
         ]
        },
        {
         "line": {
          "color": "black"
         },
         "mode": "lines",
         "name": "Trend lijn",
         "type": "scatter",
         "x": [
          1,
          163
         ],
         "y": [
          180,
          1
         ]
        }
       ],
       "layout": {
        "height": 700,
        "showlegend": true,
        "template": {
         "data": {
          "bar": [
           {
            "error_x": {
             "color": "#f2f5fa"
            },
            "error_y": {
             "color": "#f2f5fa"
            },
            "marker": {
             "line": {
              "color": "rgb(17,17,17)",
              "width": 0.5
             },
             "pattern": {
              "fillmode": "overlay",
              "size": 10,
              "solidity": 0.2
             }
            },
            "type": "bar"
           }
          ],
          "barpolar": [
           {
            "marker": {
             "line": {
              "color": "rgb(17,17,17)",
              "width": 0.5
             },
             "pattern": {
              "fillmode": "overlay",
              "size": 10,
              "solidity": 0.2
             }
            },
            "type": "barpolar"
           }
          ],
          "carpet": [
           {
            "aaxis": {
             "endlinecolor": "#A2B1C6",
             "gridcolor": "#506784",
             "linecolor": "#506784",
             "minorgridcolor": "#506784",
             "startlinecolor": "#A2B1C6"
            },
            "baxis": {
             "endlinecolor": "#A2B1C6",
             "gridcolor": "#506784",
             "linecolor": "#506784",
             "minorgridcolor": "#506784",
             "startlinecolor": "#A2B1C6"
            },
            "type": "carpet"
           }
          ],
          "choropleth": [
           {
            "colorbar": {
             "outlinewidth": 0,
             "ticks": ""
            },
            "type": "choropleth"
           }
          ],
          "contour": [
           {
            "colorbar": {
             "outlinewidth": 0,
             "ticks": ""
            },
            "colorscale": [
             [
              0,
              "#0d0887"
             ],
             [
              0.1111111111111111,
              "#46039f"
             ],
             [
              0.2222222222222222,
              "#7201a8"
             ],
             [
              0.3333333333333333,
              "#9c179e"
             ],
             [
              0.4444444444444444,
              "#bd3786"
             ],
             [
              0.5555555555555556,
              "#d8576b"
             ],
             [
              0.6666666666666666,
              "#ed7953"
             ],
             [
              0.7777777777777778,
              "#fb9f3a"
             ],
             [
              0.8888888888888888,
              "#fdca26"
             ],
             [
              1,
              "#f0f921"
             ]
            ],
            "type": "contour"
           }
          ],
          "contourcarpet": [
           {
            "colorbar": {
             "outlinewidth": 0,
             "ticks": ""
            },
            "type": "contourcarpet"
           }
          ],
          "heatmap": [
           {
            "colorbar": {
             "outlinewidth": 0,
             "ticks": ""
            },
            "colorscale": [
             [
              0,
              "#0d0887"
             ],
             [
              0.1111111111111111,
              "#46039f"
             ],
             [
              0.2222222222222222,
              "#7201a8"
             ],
             [
              0.3333333333333333,
              "#9c179e"
             ],
             [
              0.4444444444444444,
              "#bd3786"
             ],
             [
              0.5555555555555556,
              "#d8576b"
             ],
             [
              0.6666666666666666,
              "#ed7953"
             ],
             [
              0.7777777777777778,
              "#fb9f3a"
             ],
             [
              0.8888888888888888,
              "#fdca26"
             ],
             [
              1,
              "#f0f921"
             ]
            ],
            "type": "heatmap"
           }
          ],
          "heatmapgl": [
           {
            "colorbar": {
             "outlinewidth": 0,
             "ticks": ""
            },
            "colorscale": [
             [
              0,
              "#0d0887"
             ],
             [
              0.1111111111111111,
              "#46039f"
             ],
             [
              0.2222222222222222,
              "#7201a8"
             ],
             [
              0.3333333333333333,
              "#9c179e"
             ],
             [
              0.4444444444444444,
              "#bd3786"
             ],
             [
              0.5555555555555556,
              "#d8576b"
             ],
             [
              0.6666666666666666,
              "#ed7953"
             ],
             [
              0.7777777777777778,
              "#fb9f3a"
             ],
             [
              0.8888888888888888,
              "#fdca26"
             ],
             [
              1,
              "#f0f921"
             ]
            ],
            "type": "heatmapgl"
           }
          ],
          "histogram": [
           {
            "marker": {
             "pattern": {
              "fillmode": "overlay",
              "size": 10,
              "solidity": 0.2
             }
            },
            "type": "histogram"
           }
          ],
          "histogram2d": [
           {
            "colorbar": {
             "outlinewidth": 0,
             "ticks": ""
            },
            "colorscale": [
             [
              0,
              "#0d0887"
             ],
             [
              0.1111111111111111,
              "#46039f"
             ],
             [
              0.2222222222222222,
              "#7201a8"
             ],
             [
              0.3333333333333333,
              "#9c179e"
             ],
             [
              0.4444444444444444,
              "#bd3786"
             ],
             [
              0.5555555555555556,
              "#d8576b"
             ],
             [
              0.6666666666666666,
              "#ed7953"
             ],
             [
              0.7777777777777778,
              "#fb9f3a"
             ],
             [
              0.8888888888888888,
              "#fdca26"
             ],
             [
              1,
              "#f0f921"
             ]
            ],
            "type": "histogram2d"
           }
          ],
          "histogram2dcontour": [
           {
            "colorbar": {
             "outlinewidth": 0,
             "ticks": ""
            },
            "colorscale": [
             [
              0,
              "#0d0887"
             ],
             [
              0.1111111111111111,
              "#46039f"
             ],
             [
              0.2222222222222222,
              "#7201a8"
             ],
             [
              0.3333333333333333,
              "#9c179e"
             ],
             [
              0.4444444444444444,
              "#bd3786"
             ],
             [
              0.5555555555555556,
              "#d8576b"
             ],
             [
              0.6666666666666666,
              "#ed7953"
             ],
             [
              0.7777777777777778,
              "#fb9f3a"
             ],
             [
              0.8888888888888888,
              "#fdca26"
             ],
             [
              1,
              "#f0f921"
             ]
            ],
            "type": "histogram2dcontour"
           }
          ],
          "mesh3d": [
           {
            "colorbar": {
             "outlinewidth": 0,
             "ticks": ""
            },
            "type": "mesh3d"
           }
          ],
          "parcoords": [
           {
            "line": {
             "colorbar": {
              "outlinewidth": 0,
              "ticks": ""
             }
            },
            "type": "parcoords"
           }
          ],
          "pie": [
           {
            "automargin": true,
            "type": "pie"
           }
          ],
          "scatter": [
           {
            "marker": {
             "line": {
              "color": "#283442"
             }
            },
            "type": "scatter"
           }
          ],
          "scatter3d": [
           {
            "line": {
             "colorbar": {
              "outlinewidth": 0,
              "ticks": ""
             }
            },
            "marker": {
             "colorbar": {
              "outlinewidth": 0,
              "ticks": ""
             }
            },
            "type": "scatter3d"
           }
          ],
          "scattercarpet": [
           {
            "marker": {
             "colorbar": {
              "outlinewidth": 0,
              "ticks": ""
             }
            },
            "type": "scattercarpet"
           }
          ],
          "scattergeo": [
           {
            "marker": {
             "colorbar": {
              "outlinewidth": 0,
              "ticks": ""
             }
            },
            "type": "scattergeo"
           }
          ],
          "scattergl": [
           {
            "marker": {
             "line": {
              "color": "#283442"
             }
            },
            "type": "scattergl"
           }
          ],
          "scattermapbox": [
           {
            "marker": {
             "colorbar": {
              "outlinewidth": 0,
              "ticks": ""
             }
            },
            "type": "scattermapbox"
           }
          ],
          "scatterpolar": [
           {
            "marker": {
             "colorbar": {
              "outlinewidth": 0,
              "ticks": ""
             }
            },
            "type": "scatterpolar"
           }
          ],
          "scatterpolargl": [
           {
            "marker": {
             "colorbar": {
              "outlinewidth": 0,
              "ticks": ""
             }
            },
            "type": "scatterpolargl"
           }
          ],
          "scatterternary": [
           {
            "marker": {
             "colorbar": {
              "outlinewidth": 0,
              "ticks": ""
             }
            },
            "type": "scatterternary"
           }
          ],
          "surface": [
           {
            "colorbar": {
             "outlinewidth": 0,
             "ticks": ""
            },
            "colorscale": [
             [
              0,
              "#0d0887"
             ],
             [
              0.1111111111111111,
              "#46039f"
             ],
             [
              0.2222222222222222,
              "#7201a8"
             ],
             [
              0.3333333333333333,
              "#9c179e"
             ],
             [
              0.4444444444444444,
              "#bd3786"
             ],
             [
              0.5555555555555556,
              "#d8576b"
             ],
             [
              0.6666666666666666,
              "#ed7953"
             ],
             [
              0.7777777777777778,
              "#fb9f3a"
             ],
             [
              0.8888888888888888,
              "#fdca26"
             ],
             [
              1,
              "#f0f921"
             ]
            ],
            "type": "surface"
           }
          ],
          "table": [
           {
            "cells": {
             "fill": {
              "color": "#506784"
             },
             "line": {
              "color": "rgb(17,17,17)"
             }
            },
            "header": {
             "fill": {
              "color": "#2a3f5f"
             },
             "line": {
              "color": "rgb(17,17,17)"
             }
            },
            "type": "table"
           }
          ]
         },
         "layout": {
          "annotationdefaults": {
           "arrowcolor": "#f2f5fa",
           "arrowhead": 0,
           "arrowwidth": 1
          },
          "autotypenumbers": "strict",
          "coloraxis": {
           "colorbar": {
            "outlinewidth": 0,
            "ticks": ""
           }
          },
          "colorscale": {
           "diverging": [
            [
             0,
             "#8e0152"
            ],
            [
             0.1,
             "#c51b7d"
            ],
            [
             0.2,
             "#de77ae"
            ],
            [
             0.3,
             "#f1b6da"
            ],
            [
             0.4,
             "#fde0ef"
            ],
            [
             0.5,
             "#f7f7f7"
            ],
            [
             0.6,
             "#e6f5d0"
            ],
            [
             0.7,
             "#b8e186"
            ],
            [
             0.8,
             "#7fbc41"
            ],
            [
             0.9,
             "#4d9221"
            ],
            [
             1,
             "#276419"
            ]
           ],
           "sequential": [
            [
             0,
             "#0d0887"
            ],
            [
             0.1111111111111111,
             "#46039f"
            ],
            [
             0.2222222222222222,
             "#7201a8"
            ],
            [
             0.3333333333333333,
             "#9c179e"
            ],
            [
             0.4444444444444444,
             "#bd3786"
            ],
            [
             0.5555555555555556,
             "#d8576b"
            ],
            [
             0.6666666666666666,
             "#ed7953"
            ],
            [
             0.7777777777777778,
             "#fb9f3a"
            ],
            [
             0.8888888888888888,
             "#fdca26"
            ],
            [
             1,
             "#f0f921"
            ]
           ],
           "sequentialminus": [
            [
             0,
             "#0d0887"
            ],
            [
             0.1111111111111111,
             "#46039f"
            ],
            [
             0.2222222222222222,
             "#7201a8"
            ],
            [
             0.3333333333333333,
             "#9c179e"
            ],
            [
             0.4444444444444444,
             "#bd3786"
            ],
            [
             0.5555555555555556,
             "#d8576b"
            ],
            [
             0.6666666666666666,
             "#ed7953"
            ],
            [
             0.7777777777777778,
             "#fb9f3a"
            ],
            [
             0.8888888888888888,
             "#fdca26"
            ],
            [
             1,
             "#f0f921"
            ]
           ]
          },
          "colorway": [
           "#636efa",
           "#EF553B",
           "#00cc96",
           "#ab63fa",
           "#FFA15A",
           "#19d3f3",
           "#FF6692",
           "#B6E880",
           "#FF97FF",
           "#FECB52"
          ],
          "font": {
           "color": "#f2f5fa"
          },
          "geo": {
           "bgcolor": "rgb(17,17,17)",
           "lakecolor": "rgb(17,17,17)",
           "landcolor": "rgb(17,17,17)",
           "showlakes": true,
           "showland": true,
           "subunitcolor": "#506784"
          },
          "hoverlabel": {
           "align": "left"
          },
          "hovermode": "closest",
          "mapbox": {
           "style": "dark"
          },
          "paper_bgcolor": "rgb(17,17,17)",
          "plot_bgcolor": "rgb(17,17,17)",
          "polar": {
           "angularaxis": {
            "gridcolor": "#506784",
            "linecolor": "#506784",
            "ticks": ""
           },
           "bgcolor": "rgb(17,17,17)",
           "radialaxis": {
            "gridcolor": "#506784",
            "linecolor": "#506784",
            "ticks": ""
           }
          },
          "scene": {
           "xaxis": {
            "backgroundcolor": "rgb(17,17,17)",
            "gridcolor": "#506784",
            "gridwidth": 2,
            "linecolor": "#506784",
            "showbackground": true,
            "ticks": "",
            "zerolinecolor": "#C8D4E3"
           },
           "yaxis": {
            "backgroundcolor": "rgb(17,17,17)",
            "gridcolor": "#506784",
            "gridwidth": 2,
            "linecolor": "#506784",
            "showbackground": true,
            "ticks": "",
            "zerolinecolor": "#C8D4E3"
           },
           "zaxis": {
            "backgroundcolor": "rgb(17,17,17)",
            "gridcolor": "#506784",
            "gridwidth": 2,
            "linecolor": "#506784",
            "showbackground": true,
            "ticks": "",
            "zerolinecolor": "#C8D4E3"
           }
          },
          "shapedefaults": {
           "line": {
            "color": "#f2f5fa"
           }
          },
          "sliderdefaults": {
           "bgcolor": "#C8D4E3",
           "bordercolor": "rgb(17,17,17)",
           "borderwidth": 1,
           "tickwidth": 0
          },
          "ternary": {
           "aaxis": {
            "gridcolor": "#506784",
            "linecolor": "#506784",
            "ticks": ""
           },
           "baxis": {
            "gridcolor": "#506784",
            "linecolor": "#506784",
            "ticks": ""
           },
           "bgcolor": "rgb(17,17,17)",
           "caxis": {
            "gridcolor": "#506784",
            "linecolor": "#506784",
            "ticks": ""
           }
          },
          "title": {
           "x": 0.05
          },
          "updatemenudefaults": {
           "bgcolor": "#506784",
           "borderwidth": 0
          },
          "xaxis": {
           "automargin": true,
           "gridcolor": "#283442",
           "linecolor": "#506784",
           "ticks": "",
           "title": {
            "standoff": 15
           },
           "zerolinecolor": "#283442",
           "zerolinewidth": 2
          },
          "yaxis": {
           "automargin": true,
           "gridcolor": "#283442",
           "linecolor": "#506784",
           "ticks": "",
           "title": {
            "standoff": 15
           },
           "zerolinecolor": "#283442",
           "zerolinewidth": 2
          }
         }
        },
        "title": {
         "text": "Press Freedom Index Ranking vs Conflict Index Ranking (2023)"
        },
        "xaxis": {
         "title": {
          "text": "Conflict Index Ranking (Index Ranking 2023)"
         }
        },
        "yaxis": {
         "title": {
          "text": "Press Freedom Index Ranking (Rank)"
         }
        }
       }
      },
      "text/html": [
       "<div>                            <div id=\"901c3c86-5e2b-4610-9430-9d147e43e2df\" class=\"plotly-graph-div\" style=\"height:700px; width:100%;\"></div>            <script type=\"text/javascript\">                require([\"plotly\"], function(Plotly) {                    window.PLOTLYENV=window.PLOTLYENV || {};                                    if (document.getElementById(\"901c3c86-5e2b-4610-9430-9d147e43e2df\")) {                    Plotly.newPlot(                        \"901c3c86-5e2b-4610-9430-9d147e43e2df\",                        [{\"marker\":{\"color\":[\"blue\",\"blue\",\"blue\",\"blue\",\"blue\",\"blue\",\"blue\",\"blue\",\"blue\",\"blue\",\"blue\",\"blue\",\"blue\",\"blue\",\"blue\",\"blue\",\"blue\",\"blue\",\"blue\",\"blue\",\"blue\",\"blue\",\"blue\",\"yellow\",\"blue\",\"blue\",\"blue\",\"blue\",\"orange\",\"blue\",\"orange\",\"blue\",\"blue\",\"blue\",\"blue\",\"blue\",\"blue\",\"blue\",\"blue\",\"blue\",\"blue\",\"blue\",\"blue\",\"blue\",\"blue\",\"blue\",\"blue\",\"blue\",\"yellow\",\"blue\",\"blue\",\"blue\",\"blue\",\"blue\",\"orange\",\"yellow\",\"blue\",\"yellow\",\"blue\",\"blue\",\"blue\",\"blue\",\"blue\",\"blue\",\"blue\",\"blue\",\"blue\",\"blue\",\"blue\",\"blue\",\"blue\",\"blue\",\"blue\",\"orange\",\"yellow\",\"blue\",\"blue\",\"blue\",\"blue\",\"blue\",\"blue\",\"blue\",\"blue\",\"blue\",\"blue\",\"red\",\"blue\",\"blue\",\"blue\",\"orange\",\"yellow\",\"red\",\"blue\",\"yellow\",\"yellow\",\"blue\",\"blue\",\"blue\",\"blue\",\"blue\",\"yellow\",\"yellow\",\"blue\",\"yellow\",\"orange\",\"yellow\",\"blue\",\"orange\",\"blue\",\"yellow\",\"yellow\",\"blue\",\"blue\",\"blue\",\"red\",\"blue\",\"yellow\",\"orange\",\"red\",\"blue\",\"orange\",\"blue\",\"orange\",\"yellow\",\"blue\",\"blue\",\"blue\",\"blue\",\"orange\",\"red\",\"orange\",\"blue\",\"blue\",\"blue\",\"blue\",\"blue\",\"red\",\"blue\",\"orange\",\"blue\",\"orange\",\"blue\",\"blue\",\"blue\",\"red\",\"blue\",\"blue\",\"orange\",\"blue\",\"orange\",\"blue\",\"orange\",\"yellow\",\"blue\",\"orange\",\"red\",\"orange\",\"blue\",\"blue\",\"blue\",\"red\",\"blue\",\"red\",\"blue\",\"yellow\",\"blue\",\"blue\",\"blue\"],\"size\":10},\"mode\":\"markers\",\"name\":\"Land\",\"showlegend\":false,\"text\":[\"Norway\",\"Ireland\",\"Denmark\",\"Sweden\",\"Finland\",\"Netherlands\",\"Lithuania\",\"Estonia\",\"Portugal\",\"East Timor\",\"Liechtenstein\",\"Switzerland\",\"New Zealand\",\"Canada\",\"Latvia\",\"Slovakia\",\"Iceland\",\"Samoa\",\"Luxembourg\",\"Germany\",\"Namibia\",\"Costa Rica\",\"France\",\"South Africa\",\"United Kingdom\",\"Australia\",\"Moldova\",\"Austria\",\"Trinidad and Tobago\",\"Belgium\",\"Jamaica\",\"Seychelles\",\"Taiwan\",\"Spain\",\"Andorra\",\"North Macedonia\",\"Montenegro\",\"Argentina\",\"Italy\",\"Croatia\",\"Dominican Republic\",\"Tonga\",\"United States\",\"Gambia\",\"South Korea\",\"Suriname\",\"Armenia\",\"Slovenia\",\"Belize\",\"Uruguay\",\"Romania\",\"Cyprus\",\"Kosovo\",\"Poland\",\"Burkina Faso\",\"Papua New Guinea\",\"Guyana\",\"Niger\",\"Ghana\",\"Mauritius\",\"Botswana\",\"Liberia\",\"Lesotho\",\"Japan\",\"Panama\",\"Togo\",\"Bulgaria\",\"Hungary\",\"Malaysia\",\"Sierra Leone\",\"Comoros\",\"Georgia\",\"Guinea-Bissau\",\"Ukraine\",\"Ecuador\",\"Malawi\",\"Chile\",\"Malta\",\"Guinea\",\"Mauritania\",\"Zambia\",\"Mongolia\",\"Fiji\",\"Bhutan\",\"Serbia\",\"Brazil\",\"Gabon\",\"Nepal\",\"Albania\",\"Israel\",\"Central African Republic\",\"Haiti\",\"Maldives\",\"Madagascar\",\"Mozambique\",\"Paraguay\",\"Senegal\",\"Qatar\",\"Thailand\",\"Greece\",\"Indonesia\",\"Chad\",\"Peru\",\"Benin\",\"Mali\",\"Burundi\",\"El Salvador\",\"Kenya\",\"Bolivia\",\"South Sudan\",\"Lebanon\",\"Equatorial Guinea\",\"Tunisia\",\"Kyrgyzstan\",\"Nigeria\",\"Angola\",\"Zimbabwe\",\"Guatemala\",\"Mexico\",\"Singapore\",\"Ethiopia\",\"Rwanda\",\"Philippines\",\"Uganda\",\"Kazakhstan\",\"Sri Lanka\",\"Algeria\",\"Uzbekistan\",\"Cameroon\",\"Colombia\",\"Somalia\",\"Brunei\",\"Tanzania\",\"United Arab Emirates\",\"Jordan\",\"Cambodia\",\"Sudan\",\"Libya\",\"Pakistan\",\"Azerbaijan\",\"Afghanistan\",\"Tajikistan\",\"Kuwait\",\"Oman\",\"Palestine\",\"Belarus\",\"Nicaragua\",\"Venezuela\",\"Laos\",\"India\",\"Djibouti\",\"Bangladesh\",\"Russia\",\"Egypt\",\"Iraq\",\"Yemen\",\"Honduras\",\"Saudi Arabia\",\"Bahrain\",\"Cuba\",\"Myanmar\",\"Eritrea\",\"Syria\",\"Turkmenistan\",\"Iran\",\"Vietnam\",\"China\",\"North Korea\"],\"x\":[146,140,163,140,146,125,146,163,163,146,163,163,163,117,163,146,146,146,163,79,126,120,61,33,113,163,94,132,30,104,21,163,163,117,163,131,135,74,96,163,84,163,51,116,163,122,79,143,47,135,112,86,92,102,17,50,108,34,53,115,106,78,107,146,96,77,163,100,146,70,109,103,88,13,40,62,57,143,65,83,73,163,163,163,120,6,105,56,117,22,34,8,130,38,45,70,69,163,75,59,44,49,53,43,15,32,58,19,72,37,31,163,101,90,5,64,48,24,4,163,22,95,27,42,84,76,81,90,25,7,27,163,68,163,122,146,10,52,14,55,25,113,163,146,3,99,89,27,143,15,127,17,36,82,12,9,20,93,132,87,1,162,2,163,46,111,66,109],\"y\":[1,2,3,4,5,6,7,8,9,10,11,12,13,15,16,17,18,19,20,21,22,23,24,25,26,27,28,29,30,31,32,34,35,36,37,38,39,40,41,42,43,44,45,46,47,48,49,50,51,52,53,55,56,57,58,59,60,61,62,63,65,66,67,68,69,70,71,72,73,74,75,77,78,79,80,82,83,84,85,86,87,88,89,90,91,92,94,95,96,97,98,99,100,101,102,103,104,105,106,107,108,109,110,112,113,114,115,116,117,118,119,120,121,122,123,125,126,127,128,129,130,131,132,133,134,135,136,137,138,139,141,142,143,145,146,147,148,149,150,151,152,153,154,155,156,157,158,159,160,161,162,163,164,166,167,168,169,170,171,172,173,174,175,176,177,178,179,180],\"type\":\"scatter\"},{\"legendgroup\":\"group1\",\"marker\":{\"color\":\"red\",\"size\":10},\"mode\":\"markers\",\"name\":\"Extreem (Top 10)\",\"showlegend\":true,\"x\":[null],\"y\":[null],\"type\":\"scatter\"},{\"legendgroup\":\"group2\",\"marker\":{\"color\":\"orange\",\"size\":10},\"mode\":\"markers\",\"name\":\"Hoog (11-30)\",\"showlegend\":true,\"x\":[null],\"y\":[null],\"type\":\"scatter\"},{\"legendgroup\":\"group3\",\"marker\":{\"color\":\"yellow\",\"size\":10},\"mode\":\"markers\",\"name\":\"Turbulent (31-50)\",\"showlegend\":true,\"x\":[null],\"y\":[null],\"type\":\"scatter\"},{\"legendgroup\":\"group4\",\"marker\":{\"color\":\"blue\",\"size\":10},\"mode\":\"markers\",\"name\":\"Laag\\u002finactief (\\u003e50)\",\"showlegend\":true,\"x\":[null],\"y\":[null],\"type\":\"scatter\"},{\"line\":{\"color\":\"black\"},\"mode\":\"lines\",\"name\":\"Trend lijn\",\"x\":[1,163],\"y\":[180,1],\"type\":\"scatter\"}],                        {\"template\":{\"data\":{\"histogram2dcontour\":[{\"type\":\"histogram2dcontour\",\"colorbar\":{\"outlinewidth\":0,\"ticks\":\"\"},\"colorscale\":[[0.0,\"#0d0887\"],[0.1111111111111111,\"#46039f\"],[0.2222222222222222,\"#7201a8\"],[0.3333333333333333,\"#9c179e\"],[0.4444444444444444,\"#bd3786\"],[0.5555555555555556,\"#d8576b\"],[0.6666666666666666,\"#ed7953\"],[0.7777777777777778,\"#fb9f3a\"],[0.8888888888888888,\"#fdca26\"],[1.0,\"#f0f921\"]]}],\"choropleth\":[{\"type\":\"choropleth\",\"colorbar\":{\"outlinewidth\":0,\"ticks\":\"\"}}],\"histogram2d\":[{\"type\":\"histogram2d\",\"colorbar\":{\"outlinewidth\":0,\"ticks\":\"\"},\"colorscale\":[[0.0,\"#0d0887\"],[0.1111111111111111,\"#46039f\"],[0.2222222222222222,\"#7201a8\"],[0.3333333333333333,\"#9c179e\"],[0.4444444444444444,\"#bd3786\"],[0.5555555555555556,\"#d8576b\"],[0.6666666666666666,\"#ed7953\"],[0.7777777777777778,\"#fb9f3a\"],[0.8888888888888888,\"#fdca26\"],[1.0,\"#f0f921\"]]}],\"heatmap\":[{\"type\":\"heatmap\",\"colorbar\":{\"outlinewidth\":0,\"ticks\":\"\"},\"colorscale\":[[0.0,\"#0d0887\"],[0.1111111111111111,\"#46039f\"],[0.2222222222222222,\"#7201a8\"],[0.3333333333333333,\"#9c179e\"],[0.4444444444444444,\"#bd3786\"],[0.5555555555555556,\"#d8576b\"],[0.6666666666666666,\"#ed7953\"],[0.7777777777777778,\"#fb9f3a\"],[0.8888888888888888,\"#fdca26\"],[1.0,\"#f0f921\"]]}],\"heatmapgl\":[{\"type\":\"heatmapgl\",\"colorbar\":{\"outlinewidth\":0,\"ticks\":\"\"},\"colorscale\":[[0.0,\"#0d0887\"],[0.1111111111111111,\"#46039f\"],[0.2222222222222222,\"#7201a8\"],[0.3333333333333333,\"#9c179e\"],[0.4444444444444444,\"#bd3786\"],[0.5555555555555556,\"#d8576b\"],[0.6666666666666666,\"#ed7953\"],[0.7777777777777778,\"#fb9f3a\"],[0.8888888888888888,\"#fdca26\"],[1.0,\"#f0f921\"]]}],\"contourcarpet\":[{\"type\":\"contourcarpet\",\"colorbar\":{\"outlinewidth\":0,\"ticks\":\"\"}}],\"contour\":[{\"type\":\"contour\",\"colorbar\":{\"outlinewidth\":0,\"ticks\":\"\"},\"colorscale\":[[0.0,\"#0d0887\"],[0.1111111111111111,\"#46039f\"],[0.2222222222222222,\"#7201a8\"],[0.3333333333333333,\"#9c179e\"],[0.4444444444444444,\"#bd3786\"],[0.5555555555555556,\"#d8576b\"],[0.6666666666666666,\"#ed7953\"],[0.7777777777777778,\"#fb9f3a\"],[0.8888888888888888,\"#fdca26\"],[1.0,\"#f0f921\"]]}],\"surface\":[{\"type\":\"surface\",\"colorbar\":{\"outlinewidth\":0,\"ticks\":\"\"},\"colorscale\":[[0.0,\"#0d0887\"],[0.1111111111111111,\"#46039f\"],[0.2222222222222222,\"#7201a8\"],[0.3333333333333333,\"#9c179e\"],[0.4444444444444444,\"#bd3786\"],[0.5555555555555556,\"#d8576b\"],[0.6666666666666666,\"#ed7953\"],[0.7777777777777778,\"#fb9f3a\"],[0.8888888888888888,\"#fdca26\"],[1.0,\"#f0f921\"]]}],\"mesh3d\":[{\"type\":\"mesh3d\",\"colorbar\":{\"outlinewidth\":0,\"ticks\":\"\"}}],\"scatter\":[{\"marker\":{\"line\":{\"color\":\"#283442\"}},\"type\":\"scatter\"}],\"parcoords\":[{\"type\":\"parcoords\",\"line\":{\"colorbar\":{\"outlinewidth\":0,\"ticks\":\"\"}}}],\"scatterpolargl\":[{\"type\":\"scatterpolargl\",\"marker\":{\"colorbar\":{\"outlinewidth\":0,\"ticks\":\"\"}}}],\"bar\":[{\"error_x\":{\"color\":\"#f2f5fa\"},\"error_y\":{\"color\":\"#f2f5fa\"},\"marker\":{\"line\":{\"color\":\"rgb(17,17,17)\",\"width\":0.5},\"pattern\":{\"fillmode\":\"overlay\",\"size\":10,\"solidity\":0.2}},\"type\":\"bar\"}],\"scattergeo\":[{\"type\":\"scattergeo\",\"marker\":{\"colorbar\":{\"outlinewidth\":0,\"ticks\":\"\"}}}],\"scatterpolar\":[{\"type\":\"scatterpolar\",\"marker\":{\"colorbar\":{\"outlinewidth\":0,\"ticks\":\"\"}}}],\"histogram\":[{\"marker\":{\"pattern\":{\"fillmode\":\"overlay\",\"size\":10,\"solidity\":0.2}},\"type\":\"histogram\"}],\"scattergl\":[{\"marker\":{\"line\":{\"color\":\"#283442\"}},\"type\":\"scattergl\"}],\"scatter3d\":[{\"type\":\"scatter3d\",\"line\":{\"colorbar\":{\"outlinewidth\":0,\"ticks\":\"\"}},\"marker\":{\"colorbar\":{\"outlinewidth\":0,\"ticks\":\"\"}}}],\"scattermapbox\":[{\"type\":\"scattermapbox\",\"marker\":{\"colorbar\":{\"outlinewidth\":0,\"ticks\":\"\"}}}],\"scatterternary\":[{\"type\":\"scatterternary\",\"marker\":{\"colorbar\":{\"outlinewidth\":0,\"ticks\":\"\"}}}],\"scattercarpet\":[{\"type\":\"scattercarpet\",\"marker\":{\"colorbar\":{\"outlinewidth\":0,\"ticks\":\"\"}}}],\"carpet\":[{\"aaxis\":{\"endlinecolor\":\"#A2B1C6\",\"gridcolor\":\"#506784\",\"linecolor\":\"#506784\",\"minorgridcolor\":\"#506784\",\"startlinecolor\":\"#A2B1C6\"},\"baxis\":{\"endlinecolor\":\"#A2B1C6\",\"gridcolor\":\"#506784\",\"linecolor\":\"#506784\",\"minorgridcolor\":\"#506784\",\"startlinecolor\":\"#A2B1C6\"},\"type\":\"carpet\"}],\"table\":[{\"cells\":{\"fill\":{\"color\":\"#506784\"},\"line\":{\"color\":\"rgb(17,17,17)\"}},\"header\":{\"fill\":{\"color\":\"#2a3f5f\"},\"line\":{\"color\":\"rgb(17,17,17)\"}},\"type\":\"table\"}],\"barpolar\":[{\"marker\":{\"line\":{\"color\":\"rgb(17,17,17)\",\"width\":0.5},\"pattern\":{\"fillmode\":\"overlay\",\"size\":10,\"solidity\":0.2}},\"type\":\"barpolar\"}],\"pie\":[{\"automargin\":true,\"type\":\"pie\"}]},\"layout\":{\"autotypenumbers\":\"strict\",\"colorway\":[\"#636efa\",\"#EF553B\",\"#00cc96\",\"#ab63fa\",\"#FFA15A\",\"#19d3f3\",\"#FF6692\",\"#B6E880\",\"#FF97FF\",\"#FECB52\"],\"font\":{\"color\":\"#f2f5fa\"},\"hovermode\":\"closest\",\"hoverlabel\":{\"align\":\"left\"},\"paper_bgcolor\":\"rgb(17,17,17)\",\"plot_bgcolor\":\"rgb(17,17,17)\",\"polar\":{\"bgcolor\":\"rgb(17,17,17)\",\"angularaxis\":{\"gridcolor\":\"#506784\",\"linecolor\":\"#506784\",\"ticks\":\"\"},\"radialaxis\":{\"gridcolor\":\"#506784\",\"linecolor\":\"#506784\",\"ticks\":\"\"}},\"ternary\":{\"bgcolor\":\"rgb(17,17,17)\",\"aaxis\":{\"gridcolor\":\"#506784\",\"linecolor\":\"#506784\",\"ticks\":\"\"},\"baxis\":{\"gridcolor\":\"#506784\",\"linecolor\":\"#506784\",\"ticks\":\"\"},\"caxis\":{\"gridcolor\":\"#506784\",\"linecolor\":\"#506784\",\"ticks\":\"\"}},\"coloraxis\":{\"colorbar\":{\"outlinewidth\":0,\"ticks\":\"\"}},\"colorscale\":{\"sequential\":[[0.0,\"#0d0887\"],[0.1111111111111111,\"#46039f\"],[0.2222222222222222,\"#7201a8\"],[0.3333333333333333,\"#9c179e\"],[0.4444444444444444,\"#bd3786\"],[0.5555555555555556,\"#d8576b\"],[0.6666666666666666,\"#ed7953\"],[0.7777777777777778,\"#fb9f3a\"],[0.8888888888888888,\"#fdca26\"],[1.0,\"#f0f921\"]],\"sequentialminus\":[[0.0,\"#0d0887\"],[0.1111111111111111,\"#46039f\"],[0.2222222222222222,\"#7201a8\"],[0.3333333333333333,\"#9c179e\"],[0.4444444444444444,\"#bd3786\"],[0.5555555555555556,\"#d8576b\"],[0.6666666666666666,\"#ed7953\"],[0.7777777777777778,\"#fb9f3a\"],[0.8888888888888888,\"#fdca26\"],[1.0,\"#f0f921\"]],\"diverging\":[[0,\"#8e0152\"],[0.1,\"#c51b7d\"],[0.2,\"#de77ae\"],[0.3,\"#f1b6da\"],[0.4,\"#fde0ef\"],[0.5,\"#f7f7f7\"],[0.6,\"#e6f5d0\"],[0.7,\"#b8e186\"],[0.8,\"#7fbc41\"],[0.9,\"#4d9221\"],[1,\"#276419\"]]},\"xaxis\":{\"gridcolor\":\"#283442\",\"linecolor\":\"#506784\",\"ticks\":\"\",\"title\":{\"standoff\":15},\"zerolinecolor\":\"#283442\",\"automargin\":true,\"zerolinewidth\":2},\"yaxis\":{\"gridcolor\":\"#283442\",\"linecolor\":\"#506784\",\"ticks\":\"\",\"title\":{\"standoff\":15},\"zerolinecolor\":\"#283442\",\"automargin\":true,\"zerolinewidth\":2},\"scene\":{\"xaxis\":{\"backgroundcolor\":\"rgb(17,17,17)\",\"gridcolor\":\"#506784\",\"linecolor\":\"#506784\",\"showbackground\":true,\"ticks\":\"\",\"zerolinecolor\":\"#C8D4E3\",\"gridwidth\":2},\"yaxis\":{\"backgroundcolor\":\"rgb(17,17,17)\",\"gridcolor\":\"#506784\",\"linecolor\":\"#506784\",\"showbackground\":true,\"ticks\":\"\",\"zerolinecolor\":\"#C8D4E3\",\"gridwidth\":2},\"zaxis\":{\"backgroundcolor\":\"rgb(17,17,17)\",\"gridcolor\":\"#506784\",\"linecolor\":\"#506784\",\"showbackground\":true,\"ticks\":\"\",\"zerolinecolor\":\"#C8D4E3\",\"gridwidth\":2}},\"shapedefaults\":{\"line\":{\"color\":\"#f2f5fa\"}},\"annotationdefaults\":{\"arrowcolor\":\"#f2f5fa\",\"arrowhead\":0,\"arrowwidth\":1},\"geo\":{\"bgcolor\":\"rgb(17,17,17)\",\"landcolor\":\"rgb(17,17,17)\",\"subunitcolor\":\"#506784\",\"showland\":true,\"showlakes\":true,\"lakecolor\":\"rgb(17,17,17)\"},\"title\":{\"x\":0.05},\"updatemenudefaults\":{\"bgcolor\":\"#506784\",\"borderwidth\":0},\"sliderdefaults\":{\"bgcolor\":\"#C8D4E3\",\"borderwidth\":1,\"bordercolor\":\"rgb(17,17,17)\",\"tickwidth\":0},\"mapbox\":{\"style\":\"dark\"}}},\"title\":{\"text\":\"Press Freedom Index Ranking vs Conflict Index Ranking (2023)\"},\"xaxis\":{\"title\":{\"text\":\"Conflict Index Ranking (Index Ranking 2023)\"}},\"yaxis\":{\"title\":{\"text\":\"Press Freedom Index Ranking (Rank)\"}},\"showlegend\":true,\"height\":700},                        {\"responsive\": true}                    ).then(function(){\n",
       "                            \n",
       "var gd = document.getElementById('901c3c86-5e2b-4610-9430-9d147e43e2df');\n",
       "var x = new MutationObserver(function (mutations, observer) {{\n",
       "        var display = window.getComputedStyle(gd).display;\n",
       "        if (!display || display === 'none') {{\n",
       "            console.log([gd, 'removed!']);\n",
       "            Plotly.purge(gd);\n",
       "            observer.disconnect();\n",
       "        }}\n",
       "}});\n",
       "\n",
       "// Listen for the removal of the full notebook cells\n",
       "var notebookContainer = gd.closest('#notebook-container');\n",
       "if (notebookContainer) {{\n",
       "    x.observe(notebookContainer, {childList: true});\n",
       "}}\n",
       "\n",
       "// Listen for the clearing of the current output cell\n",
       "var outputEl = gd.closest('.output');\n",
       "if (outputEl) {{\n",
       "    x.observe(outputEl, {childList: true});\n",
       "}}\n",
       "\n",
       "                        })                };                });            </script>        </div>"
      ]
     },
     "metadata": {},
     "output_type": "display_data"
    },
    {
     "name": "stdout",
     "output_type": "stream",
     "text": [
      "Correlatie tussen de conflict index ranking en de persvrijheid index ranking: -0.42573893484944786\n"
     ]
    }
   ],
   "source": [
    "# Maak een scatterplot van de conflict en persvrijheid rangen\n",
    "\n",
    "# Definieer de kleuren voor elke categorie\n",
    "color_discrete_map = {\n",
    "    \"Low/Inactive\": \"blue\",\n",
    "    \"High\": \"orange\",\n",
    "    \"Turbulent\": \"yellow\",\n",
    "    \"Extreme\": \"red\"\n",
    "}\n",
    "\n",
    "# Maak de scatterplot\n",
    "fig = px.scatter(\n",
    "    eind_df,\n",
    "    x=\"conflict_rang_2023\",  # Pas dit aan naar de gewenste x-as\n",
    "    y=\"persvrijheid_rang_2023\",  # Pas dit aan naar de gewenste y-as\n",
    "    color=\"conflict_categorie_2023\",\n",
    "#     size=10,\n",
    "    color_discrete_map=color_discrete_map,\n",
    "    hover_name=\"land\",\n",
    "    title=\"Scatterplot van Conflict Rangschikking vs Persvrijheid Rangschikking\"\n",
    ")\n",
    "\n",
    "fig.update_layout(legend_title_text='Intensiteit van conflicten')\n",
    "\n",
    "\n",
    "# Update de opmaak\n",
    "fig.update_layout(\n",
    "    xaxis_title=\"Conflict Score 2023\",\n",
    "    yaxis_title=\"Persvrijheid Score 2023\"\n",
    ")\n",
    "\n",
    "fig.show()\n",
    "\n",
    "print('Figuur 2')\n",
    "\n",
    "correlation = eind_df[\"conflict_rang_2023\"].corr(eind_df[\"persvrijheid_rang_2023\"])\n",
    "print(f\"Correlatie tussen de conflict rangschikking en de persvrijheid rangschikking: {correlation}\")"
   ]
  },
  {
   "cell_type": "markdown",
   "metadata": {},
   "source": [
    "Samenvattend kunnen we stellen dat de aanwezigheid van conflicten een relatief sterk verband heeft met de vermindering van persvrijheid. Conflicten creëren een vijandige en gevaarlijke omgeving voor journalisten, wat leidt tot zelfcensuur, verhoogde censuur door de autoriteiten en uiteindelijk een vermindering van de beschikbaarheid van vrije, onafhankelijke en dus betrouwbare informatie. In een gezonde democratie is het cruciaal dat burgers toegang hebben tot onbevooroordeelde informatie om weloverwogen beslissingen te kunnen nemen en om machthebbers ter verantwoording te roepen. De gegevens en visualisaties ondersteunen het perspectief dat conflicten de persvrijheid verminderen."
   ]
  },
  {
   "cell_type": "markdown",
   "metadata": {},
   "source": [
    "### Argument 2\n",
    "\n",
    "**Naarmate een conflict escaleert, verslechtert de persvrijheid nog meer.**\n",
    "\n",
    "Naarmate conflicten escaleren, wordt de persvrijheid steeds meer onder druk gezet. Hoe meer het conflict escaleert, hoe groter het risico voor journalisten, wier leven steeds meer wordt bedreigd. Deze toenemende dreiging leidt tot zelfcensuur en het vermijden van gevoelige onderwerpen. Autoriteiten kunnen de escalerende situatie benutten om striktere censuur op te leggen, waardoor vrije en objectieve berichtgeving verder wordt beperkt. Deze escalatie maakt de situatie voor de persvrijheid erger en ondermijnt democratische processen door de toegang tot betrouwbare informatie te beperken.\n",
    "\n",
    "De wereldkaart in figuur 3 illustreert de veranderingen in de rangorde van conflicten tussen 2019 en 2023 en de verandering in de rangorde van persvrijheid rang tussen 2019 en 2023. Groen betekent dat zowel persvrijheid als conflict zijn verbeterd, rood dat beide verslechterd zijn, oranje dat persvrijheid is verbeterd terwijl het conflict is verminderd, en geel dat persvrijheid is verslechterd terwijl het conflict is verbeterd. Deze kaart biedt een samenvattend overzicht van de dynamiek tussen conflict en persvrijheid wereldwijd. Enkele voorbeelden van landen waar de conflictrang is gedaald zijn Palestina, Israël en Papoea-Nieuw-Guinea. Israël is bijvoorbeeld 58 rangen gedaald, Palestina 50 en Papoea-Nieuw-Guinea 113. Ondanks dat Papoea-Nieuw-Guinea meer is gedaald in conflictrang, heeft Israël bijvoorbeeld toch een lagere rang op de conflict index ranking (wat betekent dat Israël dus meer conflict heeft). Als we kijken naar dezelfde drie landen, zien we dat de persvrijheid van Israël met 9 is gedaald, Palestina met 19 en Papoea-Nieuw-Guinea met 21. Ook hier is belangrijk om op te merken dat een grotere daling niet noodzakelijk betekent dat dit land het land is met de minste persvrijheid.\n"
   ]
  },
  {
   "cell_type": "code",
   "execution_count": null,
   "metadata": {},
   "outputs": [],
   "source": [
    "# Creëer een wereldkaart om de verschillen tussen de veranderingen van persvrijheid en conflicten te laten zien\n",
    "\n",
    "# Definieer kleuren op basis van categorieën\n",
    "def get_color(verandering_pers, verandering_conf):\n",
    "    if verandering_pers == 0 and verandering_conf == 0:\n",
    "        return 'Pers en Conf neutraal'  # Blauw: beide veranderingen zijn 0\n",
    "    elif (verandering_pers >= 0 and verandering_conf > 0) or (verandering_pers > 0 and verandering_conf >= 0):\n",
    "        return 'Pers en Conf positief'  # Groen: beide veranderingen zijn positief\n",
    "    elif verandering_pers < 0 and verandering_conf < 0:\n",
    "        return 'Pers en Conf negatief'  # Rood: beide veranderingen zijn negatief\n",
    "    elif verandering_pers < 0 and verandering_conf >= 0:\n",
    "        return 'Pers negatief Conf positief'  # Geel: persvrijheid is negatief, conflict is positief\n",
    "    elif verandering_pers >= 0 and verandering_conf < 0:\n",
    "        return 'Pers positief Conf negatief'  # Oranje: persvrijheid is positief, conflict is negatief\n",
    "\n",
    "# Voeg kleur toe aan DataFrame\n",
    "eind_df['color'] = eind_df.apply(lambda row: get_color(row['persvrijheid_verandering'], row['conflict_verandering']), axis=1)\n",
    "\n",
    "# Maak een lijst met kleuren op basis van categorie\n",
    "color_discrete_map = {\n",
    "    'Pers en Conf neutraal': 'blue',    \n",
    "    'Pers en Conf positief': '#90ee90',\n",
    "    'Pers en Conf negatief': 'red',     \n",
    "    'Pers negatief Conf positief': 'yellow',\n",
    "    'Pers positief Conf negatief': 'orange'\n",
    "}\n",
    "\n",
    "# Maak de choropletenkaart met Plotly Express\n",
    "fig = px.choropleth(\n",
    "    eind_df,\n",
    "    locations=\"land\",\n",
    "    locationmode=\"country names\",\n",
    "    color=\"color\",\n",
    "    hover_name=\"land\",\n",
    "    hover_data={\n",
    "        \"color\": False,\n",
    "        \"persvrijheid_verandering\": True,\n",
    "        \"conflict_verandering\": True\n",
    "    },\n",
    "    color_discrete_map=color_discrete_map,\n",
    "    title=\"Verandering in Persvrijheid en Conflict Rang (2019-2023)\"\n",
    ")\n",
    "\n",
    "# Aanpassen van de opmaak van de figuur\n",
    "fig.update_geos(\n",
    "    showocean=True,\n",
    "    oceancolor='#a8d5f2',\n",
    "    showcountries=True,\n",
    "    countrycolor='white',\n",
    "    landcolor='white',\n",
    "    showland=True,\n",
    "    projection_type='mercator'\n",
    ")\n",
    "\n",
    "fig.update_layout(\n",
    "    width=900,\n",
    "    height=600,\n",
    "    margin={'t': 80, 'r': 80, 'b': 50, 'l': 80},\n",
    "    title={\n",
    "        'text': \"Verandering in Persvrijheid en Conflict Rang (2019-2023)\",\n",
    "        'y':0.9,\n",
    "        'x':0.5,\n",
    "        'xanchor': 'center',\n",
    "        'yanchor': 'top'}\n",
    ")\n",
    "\n",
    "# Toon de figuur\n",
    "fig.show()\n",
    "\n",
    "print('Figuur 3')"
   ]
  },
  {
   "cell_type": "markdown",
   "metadata": {},
   "source": [
    "In figuur 3 is duidelijk te zien dat de wereldkaart voornamelijk verdeeld is in rood en oranje. Deze kleuren kunnen echter een vertekend beeld geven, zoals blijkt uit specifieke voorbeelden. Er zijn weinig landen die tussen 2019 en 2023 zowel een verbetering hebben meegemaakt in de conflictrang als in de persvrijheidsrang (groen). Ook zijn er weinig landen te vinden waarbij de conflictrang is gestegen en de persvrijheid is gedaald (geel). Australië en Mongolië zijn beide geel, maar hebben geen verandering in hun conflictstatus meegemaakt, alleen in persvrijheid. \n",
    "\n",
    "Een opvallend voorbeeld is Amerika, waar de conflict rangschikking met 112 punten is gedaald, terwijl de persvrijheid rangschikking slechts met 3 punten is verbeterd. Frankrijk toont een vergelijkbare trend met een afname van 102 punten op de  conflict rangschikking en een verbetering van 8 punten de persvrijheid rangschikking. In contrast hiermee zijn Israël, Palestina en Papoea-Nieuw-Guinea allemaal roodgekleurd, wat duidt op een aanzienlijke verslechtering van zowel de conflicten als de persvrijheid in deze gebieden.\n",
    "\n",
    "Deze gegevens versterken het argument dat naarmate het conflict escaleert, de persvrijheid nog meer verslechtert. Ondanks mogelijke verbeteringen in persvrijheid in sommige landen met een verslechterd conflict (zoals in Amerika en Frankrijk), blijft de algemene trend aangeven dat escalatie van conflicten vaak gepaard gaat met beperkingen op de journalistieke vrijheid.\n"
   ]
  },
  {
   "cell_type": "markdown",
   "metadata": {},
   "source": [
    "## Autocratische Bestuursvormen Verminderen de Persvrijheid"
   ]
  },
  {
   "cell_type": "markdown",
   "metadata": {},
   "source": [
    "### Argument 1\n",
    "\n",
    "**Landen met een meer autocratische bestuursvorm hebben een lagere persvrijheid.**\n",
    "\n",
    "Het verschil tussen democratische en autocratische bestuursvormen benadrukken is essentieel voor het begrijpen van de impact op persvrijheid. Democratische systemen kenmerken zich door politieke pluraliteit, burgerlijke vrijheden en transparantie, waarbij de pers een cruciale rol speelt in controle en openbaar debat. Autocratische regimes daarentegen concentreren de macht, beperken politieke vrijheden en onderdrukken oppositie en vrije media. Deze regimes gebruiken censuur, arrestaties van journalisten en controle over mediakanalen om kritiek te onderdrukken en de informatiestroom en publieke opinie te manipuleren.\n",
    "\n",
    "In figuur 4 wordt een pie chart gepresenteerd die de verandering in de democratie rangschikking tussen 2019 en 2023 weergeeft. Hieruit blijkt dat 51.1% van de landen (groen) een verbetering in rang heeft ervaren, wat betekent dat ze democratischer zijn geworden. Daarentegen is 10.1% van de landen (blauw) gelijk gebleven, terwijl 38.8% van de landen (rood) een verslechtering heeft ondergaan, wat wijst op toenemende autocratische ontwikkelingen."
   ]
  },
  {
   "cell_type": "code",
   "execution_count": null,
   "metadata": {},
   "outputs": [],
   "source": [
    "# Creëer een pie chart van de verandering van de democratie rangen\n",
    "\n",
    "status_counts = pd.Series(['Verslechterd' if x < 0 else 'Verbeterd' if x > 0 else 'Gelijk gebleven' for x in eind_df['democratie_verandering']]).value_counts()\n",
    "\n",
    "\n",
    "fig_status = go.Figure(data=[go.Pie(\n",
    "    labels=status_counts.index,\n",
    "    values=status_counts.values,\n",
    "    marker=dict(colors=['green', 'red', 'blue'])\n",
    ")])\n",
    "\n",
    "fig_status.update_layout(\n",
    "    title='Verandering in Democratie rangschikking sinds 2019 per 2023',\n",
    "    legend_title='Status'\n",
    ")\n",
    "\n",
    "fig_status.show()\n",
    "\n",
    "print('Figuur 4')"
   ]
  },
  {
   "cell_type": "markdown",
   "metadata": {},
   "source": [
    "Figuur 5 toont een wereldkaart die de gecombineerde veranderingen in de democratie rang en persvrijheid rang tussen 2019 en 2023 weergeeft. De kaart maakt gebruik van verschillende kleuren om deze veranderingen te illustreren. Oranje gebieden geven aan waar de persvrijheid is verbeterd, terwijl de democratie rang is verslechterd. Gele gebieden duiden op een verslechtering van de persvrijheid en een verbetering van de democratie rang. Rode gebieden wijzen op een verslechtering van zowel persvrijheid als democratie. Groene gebieden geven een verbetering aan zowel persvrijheid als democratie. Blauwe gebieden zijn neutraal gebleven, zonder significante veranderingen in persvrijheid of democratie."
   ]
  },
  {
   "cell_type": "code",
   "execution_count": null,
   "metadata": {},
   "outputs": [],
   "source": [
    "# Creëer een wereldkaart om de verschillen tussen de veranderingen van persvrijheid en democratie te laten zien\n",
    "\n",
    "# Definieer kleuren op basis van categorieën\n",
    "def get_color(verandering_pers, verandering_dem):\n",
    "    if verandering_pers == 0 and verandering_dem == 0:\n",
    "        return 0  # Blauw: beide veranderingen zijn 0\n",
    "    elif (verandering_pers >= 0 and verandering_dem > 0) or (verandering_pers > 0 and verandering_dem >= 0):\n",
    "        return 1  # Groen: beide veranderingen zijn positief\n",
    "    elif verandering_pers < 0 and verandering_dem < 0:\n",
    "        return 2  # Rood: beide veranderingen zijn negatief\n",
    "    elif verandering_pers < 0 and verandering_dem >= 0:\n",
    "        return 3  # Geel: persvrijheid is negatief, democratie is positief\n",
    "    elif verandering_pers >= 0 and verandering_dem < 0:\n",
    "        return 4  # Oranje: persvrijheid is positief, democratie is negatief\n",
    "\n",
    "# Voeg kleur toe aan DataFrame\n",
    "eind_df['color'] = eind_df.apply(lambda row: get_color(row['persvrijheid_verandering'], row['democratie_verandering']), axis=1)\n",
    " \n",
    "# Maak een lijst met kleuren op basis van categorie\n",
    "colorscale = [\n",
    "    'blue',    # Blauw: beide veranderingen zijn 0\n",
    "    '#90ee90', # Groen: beide veranderingen zijn positief\n",
    "    'red',     # Rood: beide veranderingen zijn negatief\n",
    "    'yellow',  # Geel: persvrijheid is negatief, democratie is positief\n",
    "    'orange',  # Oranje: persvrijheid is positief, democratie is negatief\n",
    "]\n",
    " \n",
    "# Creëer de choropletenkaart\n",
    "data = go.Choropleth(\n",
    "    locations=eind_df['land'],\n",
    "    locationmode='country names',\n",
    "    z=eind_df['color'],  # Gebruik de 'color' kolom als numerieke waarde voor de kleuren\n",
    "    hoverinfo='location+text',  # Toon locatie, kleurwaarde en tekst bij hover    \n",
    "    text=eind_df.apply(lambda row: f'Persvrijheid: {row[\"persvrijheid_verandering\"]}<br>Democratie: {row[\"democratie_verandering\"]}', axis=1),\n",
    "    marker_line_color='gray',  # Voeg een rand toe aan de markeringen\n",
    "    colorscale=colorscale,\n",
    "    showscale=False,  # Zet showscale uit om geen kleurenschaal te tonen\n",
    ")\n",
    " \n",
    "# Creëer de opmaak\n",
    "layout = go.Layout(\n",
    "    width=900,\n",
    "    height=600,\n",
    "    title='Verandering in Persvrijheid en Democratische Rang (2019-2023)',\n",
    "    geo=dict(\n",
    "        showocean=True,\n",
    "        oceancolor='#a8d5f2',\n",
    "        showcountries=True,\n",
    "        countrycolor='white',\n",
    "        landcolor='white',\n",
    "        showland=True,\n",
    "        projection_type='mercator'\n",
    "    ),\n",
    "    margin={'t': 50, 'r': 90, 'b': 50, 'l': 40},\n",
    ")\n",
    " \n",
    "# Voeg de legenda handmatig toe als annotaties\n",
    "legend_items = {\n",
    "    'Pers en Demo neutraal': 0,\n",
    "    'Pers en Demo positief': 1,\n",
    "    'Pers en Demo negatief': 2,\n",
    "    'Pers negatief Demo positief': 3,\n",
    "    'Pers positief Demo negatief': 4,\n",
    "}\n",
    " \n",
    "annotations = []\n",
    "for label, color_index in legend_items.items():\n",
    "    annotations.append(dict(\n",
    "        x=0.93,\n",
    "        y=0.95 - (len(colorscale) - color_index - 1) * 0.05,\n",
    "        xref='paper',\n",
    "        yref='paper',\n",
    "        text=label,\n",
    "        showarrow=False,\n",
    "        font=dict(size=10),\n",
    "        align='left',\n",
    "        xanchor='left',\n",
    "    ))\n",
    "\n",
    "# Voeg de legenda bolletjes toe\n",
    "for color_index, color_value in enumerate(colorscale):\n",
    "    annotations.append(dict(\n",
    "        x=0.92,\n",
    "        y=0.95 - (len(colorscale) - color_index - 1) * 0.05,\n",
    "        xref='paper',\n",
    "        yref='paper',\n",
    "        text = '',\n",
    "        showarrow=False,\n",
    "        bgcolor=colorscale[color_index],\n",
    "        width=13,\n",
    "        height=13,\n",
    "        borderpad=0,\n",
    "    ))\n",
    "\n",
    "layout['annotations'] = annotations\n",
    " \n",
    "# Maak de figuur\n",
    "fig = go.Figure(data=[data], layout=layout)\n",
    " \n",
    "# Toon de figuur\n",
    "fig.show()\n",
    "\n",
    "print('Figuur 5')"
   ]
  },
  {
   "cell_type": "markdown",
   "metadata": {},
   "source": [
    "In figuur 5 zijn veel kleuren te zien, maar we focussen ons vooral op de rode en oranje landen. Deze landen zijn van 2019 tot 2023 meer geneigd naar een autocratische bestuursvorm. Hoewel sommige van deze landen slechts een lage verschuiving hebben van -15 of minder in hun democratie rang, lijkt dit misschien niet significant. Het is echter logisch dat een land niet zomaar van democratisch naar autocratisch verschuift, waardoor een verplaatsing van bijvoorbeeld 100 rangen heel onwaarschijnlijk is.\n",
    "\n",
    "De rode landen hebben een duidelijke daling in persvrijheid meegemaakt, terwijl de oranje landen over het algemeen slechts kleine stijgingen in persvrijheid hebben laten zien. Deze wereldkaart toont een subtiele relatie tussen de afname van democratische normen en de verslechtering van persvrijheid, waarbij opvalt dat sommige autocratische landen (oranje) ondanks een meer autocratisch bestuur toch een kleine verbetering in persvrijheid laten zien.\n",
    "\n",
    "Figuur 6 is een scatterplot die de relatie toont tussen de democratie rangschikking 2023 en de persvrijheid rangschikking 2023. Deze grafiek biedt een visuele representatie van de dynamiek tussen bestuursvorm en persvrijheid. Een lagere score op de democratie rangschikking duidt op een meer democratische bestuursvorm, terwijl een hogere score wijst op een meer autocratische bestuursvorm. Voor de persvrijheids rangschikking geldt dat een lage score gelijk staat aan meer persvrijheid, terwijl een hoge score minder persvrijheid betekent."
   ]
  },
  {
   "cell_type": "code",
   "execution_count": 284,
   "metadata": {
    "ExecuteTime": {
     "end_time": "2024-06-19T13:02:07.392911Z",
     "start_time": "2024-06-19T13:02:07.348409Z"
    }
   },
   "outputs": [
    {
     "data": {
      "application/vnd.plotly.v1+json": {
       "config": {
        "plotlyServerURL": "https://plot.ly"
       },
       "data": [
        {
         "customdata": [
          [
           "Norway"
          ],
          [
           "New Zealand"
          ],
          [
           "Iceland"
          ],
          [
           "Sweden"
          ],
          [
           "Finland"
          ],
          [
           "Denmark"
          ],
          [
           "Ireland"
          ],
          [
           "Switzerland"
          ],
          [
           "Netherlands"
          ],
          [
           "Taiwan"
          ],
          [
           "Luxembourg"
          ],
          [
           "Germany"
          ],
          [
           "Canada"
          ],
          [
           "Australia"
          ],
          [
           "Uruguay"
          ],
          [
           "Japan"
          ],
          [
           "Costa Rica"
          ],
          [
           "Austria"
          ],
          [
           "United Kingdom"
          ],
          [
           "Greece"
          ],
          [
           "Mauritius"
          ],
          [
           "South Korea"
          ],
          [
           "France"
          ],
          [
           "Spain"
          ],
          [
           "Chile"
          ],
          [
           "Czechia"
          ],
          [
           "Estonia"
          ],
          [
           "Malta"
          ],
          [
           "United States"
          ],
          [
           "Israel"
          ],
          [
           "Portugal"
          ],
          [
           "Slovenia"
          ],
          [
           "Botswana"
          ],
          [
           "Italy"
          ],
          [
           "Cape Verde"
          ],
          [
           "Belgium"
          ],
          [
           "Cyprus"
          ],
          [
           "Latvia"
          ],
          [
           "Lithuania"
          ],
          [
           "Malaysia"
          ],
          [
           "India"
          ],
          [
           "Poland"
          ],
          [
           "Trinidad and Tobago"
          ],
          [
           "Slovakia"
          ],
          [
           "East Timor"
          ],
          [
           "Jamaica"
          ],
          [
           "South Africa"
          ],
          [
           "Panama"
          ],
          [
           "Suriname"
          ],
          [
           "Hungary"
          ],
          [
           "Brazil"
          ],
          [
           "Montenegro"
          ],
          [
           "Philippines"
          ],
          [
           "Argentina"
          ],
          [
           "Colombia"
          ],
          [
           "Indonesia"
          ],
          [
           "Namibia"
          ],
          [
           "Croatia"
          ],
          [
           "Mongolia"
          ],
          [
           "Romania"
          ],
          [
           "Dominican Republic"
          ],
          [
           "Bulgaria"
          ],
          [
           "Thailand"
          ],
          [
           "Serbia"
          ],
          [
           "Ghana"
          ],
          [
           "Albania"
          ],
          [
           "Guyana"
          ],
          [
           "Moldova"
          ],
          [
           "Singapore"
          ],
          [
           "Sri Lanka"
          ],
          [
           "Lesotho"
          ],
          [
           "North Macedonia"
          ],
          [
           "Papua New Guinea"
          ],
          [
           "Paraguay"
          ],
          [
           "Bangladesh"
          ],
          [
           "Malawi"
          ],
          [
           "Peru"
          ],
          [
           "Zambia"
          ],
          [
           "Liberia"
          ],
          [
           "Fiji"
          ],
          [
           "Bhutan"
          ],
          [
           "Tunisia"
          ],
          [
           "Senegal"
          ],
          [
           "Armenia"
          ],
          [
           "Ecuador"
          ],
          [
           "Tanzania"
          ],
          [
           "Madagascar"
          ],
          [
           "Hong Kong"
          ],
          [
           "Georgia"
          ],
          [
           "Mexico"
          ],
          [
           "Ukraine"
          ],
          [
           "Kenya"
          ],
          [
           "Morocco"
          ],
          [
           "Bosnia and Herzegovina"
          ],
          [
           "Honduras"
          ],
          [
           "El Salvador"
          ],
          [
           "Benin"
          ],
          [
           "Nepal"
          ],
          [
           "Uganda"
          ],
          [
           "Gambia"
          ],
          [
           "Guatemala"
          ],
          [
           "Turkey"
          ],
          [
           "Sierra Leone"
          ],
          [
           "Nigeria"
          ],
          [
           "Cote d'Ivoire"
          ],
          [
           "Bolivia"
          ],
          [
           "Angola"
          ],
          [
           "Mauritania"
          ],
          [
           "Kyrgyzstan"
          ],
          [
           "Algeria"
          ],
          [
           "Qatar"
          ],
          [
           "Lebanon"
          ],
          [
           "Mozambique"
          ],
          [
           "Kuwait"
          ],
          [
           "Palestine"
          ],
          [
           "Ethiopia"
          ],
          [
           "Rwanda"
          ],
          [
           "Pakistan"
          ],
          [
           "Oman"
          ],
          [
           "Kazakhstan"
          ],
          [
           "Cambodia"
          ],
          [
           "Comoros"
          ],
          [
           "Jordan"
          ],
          [
           "Zimbabwe"
          ],
          [
           "United Arab Emirates"
          ],
          [
           "Togo"
          ],
          [
           "Egypt"
          ],
          [
           "Iraq"
          ],
          [
           "Haiti"
          ],
          [
           "Azerbaijan"
          ],
          [
           "Congo"
          ],
          [
           "Eswatini"
          ],
          [
           "Burkina Faso"
          ],
          [
           "Djibouti"
          ],
          [
           "Cuba"
          ],
          [
           "Vietnam"
          ],
          [
           "Mali"
          ],
          [
           "Cameroon"
          ],
          [
           "Bahrain"
          ],
          [
           "Guinea-Bissau"
          ],
          [
           "Niger"
          ],
          [
           "Venezuela"
          ],
          [
           "Nicaragua"
          ],
          [
           "Russia"
          ],
          [
           "Guinea"
          ],
          [
           "Gabon"
          ],
          [
           "Burundi"
          ],
          [
           "China"
          ]
         ],
         "hovertemplate": "democracy_ranking=%{x}<br>press_freedom_ranking=%{y}<br>country=%{customdata[0]}<extra></extra>",
         "legendgroup": "",
         "marker": {
          "color": "#636efa",
          "symbol": "circle"
         },
         "mode": "markers",
         "name": "",
         "orientation": "v",
         "showlegend": false,
         "type": "scatter",
         "x": [
          1,
          2,
          3,
          4,
          5,
          6,
          7,
          8,
          9,
          10,
          11,
          12,
          13,
          14,
          14,
          15,
          16,
          17,
          17,
          18,
          18,
          19,
          20,
          20,
          21,
          22,
          23,
          24,
          25,
          26,
          27,
          27,
          28,
          29,
          30,
          31,
          34,
          34,
          35,
          36,
          37,
          37,
          38,
          39,
          40,
          40,
          41,
          42,
          43,
          44,
          45,
          46,
          47,
          48,
          49,
          50,
          51,
          52,
          53,
          54,
          55,
          56,
          57,
          58,
          59,
          60,
          61,
          62,
          63,
          64,
          66,
          67,
          67,
          68,
          69,
          70,
          71,
          72,
          75,
          76,
          77,
          78,
          79,
          80,
          81,
          82,
          83,
          84,
          85,
          86,
          87,
          88,
          89,
          90,
          91,
          93,
          94,
          95,
          96,
          97,
          97,
          99,
          100,
          101,
          102,
          103,
          104,
          105,
          106,
          107,
          108,
          109,
          110,
          111,
          112,
          113,
          114,
          115,
          116,
          117,
          118,
          119,
          119,
          119,
          120,
          121,
          122,
          123,
          124,
          125,
          126,
          127,
          128,
          129,
          130,
          131,
          132,
          133,
          134,
          135,
          136,
          137,
          138,
          139,
          140,
          141,
          142,
          143
         ],
         "xaxis": "x",
         "y": [
          1,
          13,
          18,
          4,
          5,
          3,
          2,
          12,
          6,
          35,
          20,
          21,
          15,
          27,
          52,
          68,
          23,
          29,
          26,
          107,
          63,
          47,
          24,
          36,
          83,
          14,
          8,
          84,
          45,
          97,
          9,
          50,
          65,
          41,
          33,
          31,
          55,
          16,
          7,
          73,
          161,
          57,
          30,
          17,
          10,
          32,
          25,
          69,
          48,
          72,
          92,
          39,
          132,
          40,
          139,
          108,
          22,
          42,
          88,
          53,
          43,
          71,
          106,
          91,
          62,
          96,
          60,
          28,
          129,
          135,
          67,
          38,
          59,
          103,
          163,
          82,
          110,
          87,
          66,
          89,
          90,
          121,
          104,
          49,
          80,
          143,
          101,
          140,
          77,
          128,
          79,
          116,
          144,
          64,
          169,
          115,
          112,
          95,
          133,
          46,
          127,
          165,
          74,
          123,
          54,
          117,
          125,
          86,
          122,
          136,
          105,
          119,
          102,
          154,
          156,
          130,
          131,
          150,
          155,
          134,
          147,
          75,
          146,
          126,
          145,
          70,
          166,
          167,
          99,
          151,
          81,
          111,
          58,
          162,
          172,
          178,
          113,
          138,
          171,
          78,
          61,
          159,
          158,
          164,
          85,
          94,
          114,
          179
         ],
         "yaxis": "y"
        },
        {
         "hovertemplate": "<b>OLS trendline</b><br>press_freedom_ranking = 0.879147 * democracy_ranking + 22.2396<br>R<sup>2</sup>=0.551165<br><br>democracy_ranking=%{x}<br>press_freedom_ranking=%{y} <b>(trend)</b><extra></extra>",
         "legendgroup": "",
         "line": {
          "color": "black"
         },
         "marker": {
          "color": "#636efa",
          "symbol": "circle"
         },
         "mode": "lines",
         "name": "",
         "showlegend": false,
         "type": "scatter",
         "x": [
          1,
          2,
          3,
          4,
          5,
          6,
          7,
          8,
          9,
          10,
          11,
          12,
          13,
          14,
          14,
          15,
          16,
          17,
          17,
          18,
          18,
          19,
          20,
          20,
          21,
          22,
          23,
          24,
          25,
          26,
          27,
          27,
          28,
          29,
          30,
          31,
          34,
          34,
          35,
          36,
          37,
          37,
          38,
          39,
          40,
          40,
          41,
          42,
          43,
          44,
          45,
          46,
          47,
          48,
          49,
          50,
          51,
          52,
          53,
          54,
          55,
          56,
          57,
          58,
          59,
          60,
          61,
          62,
          63,
          64,
          66,
          67,
          67,
          68,
          69,
          70,
          71,
          72,
          75,
          76,
          77,
          78,
          79,
          80,
          81,
          82,
          83,
          84,
          85,
          86,
          87,
          88,
          89,
          90,
          91,
          93,
          94,
          95,
          96,
          97,
          97,
          99,
          100,
          101,
          102,
          103,
          104,
          105,
          106,
          107,
          108,
          109,
          110,
          111,
          112,
          113,
          114,
          115,
          116,
          117,
          118,
          119,
          119,
          119,
          120,
          121,
          122,
          123,
          124,
          125,
          126,
          127,
          128,
          129,
          130,
          131,
          132,
          133,
          134,
          135,
          136,
          137,
          138,
          139,
          140,
          141,
          142,
          143
         ],
         "xaxis": "x",
         "y": [
          23.11878764856252,
          23.99793433738786,
          24.8770810262132,
          25.75622771503854,
          26.635374403863878,
          27.51452109268922,
          28.39366778151456,
          29.2728144703399,
          30.15196115916524,
          31.03110784799058,
          31.91025453681592,
          32.78940122564126,
          33.6685479144666,
          34.54769460329194,
          34.54769460329194,
          35.426841292117274,
          36.30598798094262,
          37.18513466976796,
          37.18513466976796,
          38.0642813585933,
          38.0642813585933,
          38.943428047418635,
          39.82257473624398,
          39.82257473624398,
          40.701721425069316,
          41.58086811389465,
          42.460014802719996,
          43.33916149154534,
          44.21830818037068,
          45.097454869196014,
          45.97660155802136,
          45.97660155802136,
          46.855748246846694,
          47.73489493567203,
          48.614041624497375,
          49.49318831332272,
          52.130628379798736,
          52.130628379798736,
          53.00977506862408,
          53.88892175744942,
          54.768068446274754,
          54.768068446274754,
          55.6472151351001,
          56.526361823925434,
          57.40550851275078,
          57.40550851275078,
          58.284655201576115,
          59.16380189040145,
          60.042948579226795,
          60.92209526805213,
          61.801241956877476,
          62.68038864570281,
          63.55953533452816,
          64.4386820233535,
          65.31782871217882,
          66.19697540100418,
          67.07612208982951,
          67.95526877865485,
          68.8344154674802,
          69.71356215630553,
          70.59270884513087,
          71.47185553395622,
          72.35100222278155,
          73.23014891160689,
          74.10929560043223,
          74.98844228925756,
          75.86758897808292,
          76.74673566690825,
          77.6258823557336,
          78.50502904455894,
          80.26332242220961,
          81.14246911103496,
          81.14246911103496,
          82.02161579986029,
          82.90076248868563,
          83.77990917751097,
          84.6590558663363,
          85.53820255516166,
          88.17564262163768,
          89.05478931046301,
          89.93393599928834,
          90.8130826881137,
          91.69222937693903,
          92.57137606576438,
          93.45052275458971,
          94.32966944341504,
          95.2088161322404,
          96.08796282106573,
          96.96710950989106,
          97.84625619871642,
          98.72540288754175,
          99.60454957636708,
          100.48369626519244,
          101.36284295401776,
          102.2419896428431,
          104.00028302049378,
          104.87942970931914,
          105.75857639814447,
          106.6377230869698,
          107.51686977579516,
          107.51686977579516,
          109.27516315344582,
          110.15430984227118,
          111.0334565310965,
          111.91260321992183,
          112.79174990874719,
          113.67089659757252,
          114.55004328639785,
          115.42918997522321,
          116.30833666404854,
          117.1874833528739,
          118.06663004169923,
          118.94577673052456,
          119.82492341934991,
          120.70407010817524,
          121.58321679700057,
          122.46236348582593,
          123.34151017465126,
          124.22065686347659,
          125.09980355230195,
          125.97895024112728,
          126.85809692995264,
          126.85809692995264,
          126.85809692995264,
          127.73724361877797,
          128.6163903076033,
          129.49553699642865,
          130.37468368525398,
          131.2538303740793,
          132.13297706290467,
          133.01212375173,
          133.89127044055533,
          134.7704171293807,
          135.64956381820602,
          136.52871050703135,
          137.4078571958567,
          138.28700388468204,
          139.1661505735074,
          140.04529726233272,
          140.92444395115805,
          141.8035906399834,
          142.68273732880874,
          143.56188401763407,
          144.44103070645943,
          145.32017739528476,
          146.1993240841101,
          147.07847077293545,
          147.95761746176078
         ],
         "yaxis": "y"
        }
       ],
       "layout": {
        "legend": {
         "tracegroupgap": 0
        },
        "template": {
         "data": {
          "bar": [
           {
            "error_x": {
             "color": "#f2f5fa"
            },
            "error_y": {
             "color": "#f2f5fa"
            },
            "marker": {
             "line": {
              "color": "rgb(17,17,17)",
              "width": 0.5
             },
             "pattern": {
              "fillmode": "overlay",
              "size": 10,
              "solidity": 0.2
             }
            },
            "type": "bar"
           }
          ],
          "barpolar": [
           {
            "marker": {
             "line": {
              "color": "rgb(17,17,17)",
              "width": 0.5
             },
             "pattern": {
              "fillmode": "overlay",
              "size": 10,
              "solidity": 0.2
             }
            },
            "type": "barpolar"
           }
          ],
          "carpet": [
           {
            "aaxis": {
             "endlinecolor": "#A2B1C6",
             "gridcolor": "#506784",
             "linecolor": "#506784",
             "minorgridcolor": "#506784",
             "startlinecolor": "#A2B1C6"
            },
            "baxis": {
             "endlinecolor": "#A2B1C6",
             "gridcolor": "#506784",
             "linecolor": "#506784",
             "minorgridcolor": "#506784",
             "startlinecolor": "#A2B1C6"
            },
            "type": "carpet"
           }
          ],
          "choropleth": [
           {
            "colorbar": {
             "outlinewidth": 0,
             "ticks": ""
            },
            "type": "choropleth"
           }
          ],
          "contour": [
           {
            "colorbar": {
             "outlinewidth": 0,
             "ticks": ""
            },
            "colorscale": [
             [
              0,
              "#0d0887"
             ],
             [
              0.1111111111111111,
              "#46039f"
             ],
             [
              0.2222222222222222,
              "#7201a8"
             ],
             [
              0.3333333333333333,
              "#9c179e"
             ],
             [
              0.4444444444444444,
              "#bd3786"
             ],
             [
              0.5555555555555556,
              "#d8576b"
             ],
             [
              0.6666666666666666,
              "#ed7953"
             ],
             [
              0.7777777777777778,
              "#fb9f3a"
             ],
             [
              0.8888888888888888,
              "#fdca26"
             ],
             [
              1,
              "#f0f921"
             ]
            ],
            "type": "contour"
           }
          ],
          "contourcarpet": [
           {
            "colorbar": {
             "outlinewidth": 0,
             "ticks": ""
            },
            "type": "contourcarpet"
           }
          ],
          "heatmap": [
           {
            "colorbar": {
             "outlinewidth": 0,
             "ticks": ""
            },
            "colorscale": [
             [
              0,
              "#0d0887"
             ],
             [
              0.1111111111111111,
              "#46039f"
             ],
             [
              0.2222222222222222,
              "#7201a8"
             ],
             [
              0.3333333333333333,
              "#9c179e"
             ],
             [
              0.4444444444444444,
              "#bd3786"
             ],
             [
              0.5555555555555556,
              "#d8576b"
             ],
             [
              0.6666666666666666,
              "#ed7953"
             ],
             [
              0.7777777777777778,
              "#fb9f3a"
             ],
             [
              0.8888888888888888,
              "#fdca26"
             ],
             [
              1,
              "#f0f921"
             ]
            ],
            "type": "heatmap"
           }
          ],
          "heatmapgl": [
           {
            "colorbar": {
             "outlinewidth": 0,
             "ticks": ""
            },
            "colorscale": [
             [
              0,
              "#0d0887"
             ],
             [
              0.1111111111111111,
              "#46039f"
             ],
             [
              0.2222222222222222,
              "#7201a8"
             ],
             [
              0.3333333333333333,
              "#9c179e"
             ],
             [
              0.4444444444444444,
              "#bd3786"
             ],
             [
              0.5555555555555556,
              "#d8576b"
             ],
             [
              0.6666666666666666,
              "#ed7953"
             ],
             [
              0.7777777777777778,
              "#fb9f3a"
             ],
             [
              0.8888888888888888,
              "#fdca26"
             ],
             [
              1,
              "#f0f921"
             ]
            ],
            "type": "heatmapgl"
           }
          ],
          "histogram": [
           {
            "marker": {
             "pattern": {
              "fillmode": "overlay",
              "size": 10,
              "solidity": 0.2
             }
            },
            "type": "histogram"
           }
          ],
          "histogram2d": [
           {
            "colorbar": {
             "outlinewidth": 0,
             "ticks": ""
            },
            "colorscale": [
             [
              0,
              "#0d0887"
             ],
             [
              0.1111111111111111,
              "#46039f"
             ],
             [
              0.2222222222222222,
              "#7201a8"
             ],
             [
              0.3333333333333333,
              "#9c179e"
             ],
             [
              0.4444444444444444,
              "#bd3786"
             ],
             [
              0.5555555555555556,
              "#d8576b"
             ],
             [
              0.6666666666666666,
              "#ed7953"
             ],
             [
              0.7777777777777778,
              "#fb9f3a"
             ],
             [
              0.8888888888888888,
              "#fdca26"
             ],
             [
              1,
              "#f0f921"
             ]
            ],
            "type": "histogram2d"
           }
          ],
          "histogram2dcontour": [
           {
            "colorbar": {
             "outlinewidth": 0,
             "ticks": ""
            },
            "colorscale": [
             [
              0,
              "#0d0887"
             ],
             [
              0.1111111111111111,
              "#46039f"
             ],
             [
              0.2222222222222222,
              "#7201a8"
             ],
             [
              0.3333333333333333,
              "#9c179e"
             ],
             [
              0.4444444444444444,
              "#bd3786"
             ],
             [
              0.5555555555555556,
              "#d8576b"
             ],
             [
              0.6666666666666666,
              "#ed7953"
             ],
             [
              0.7777777777777778,
              "#fb9f3a"
             ],
             [
              0.8888888888888888,
              "#fdca26"
             ],
             [
              1,
              "#f0f921"
             ]
            ],
            "type": "histogram2dcontour"
           }
          ],
          "mesh3d": [
           {
            "colorbar": {
             "outlinewidth": 0,
             "ticks": ""
            },
            "type": "mesh3d"
           }
          ],
          "parcoords": [
           {
            "line": {
             "colorbar": {
              "outlinewidth": 0,
              "ticks": ""
             }
            },
            "type": "parcoords"
           }
          ],
          "pie": [
           {
            "automargin": true,
            "type": "pie"
           }
          ],
          "scatter": [
           {
            "marker": {
             "line": {
              "color": "#283442"
             }
            },
            "type": "scatter"
           }
          ],
          "scatter3d": [
           {
            "line": {
             "colorbar": {
              "outlinewidth": 0,
              "ticks": ""
             }
            },
            "marker": {
             "colorbar": {
              "outlinewidth": 0,
              "ticks": ""
             }
            },
            "type": "scatter3d"
           }
          ],
          "scattercarpet": [
           {
            "marker": {
             "colorbar": {
              "outlinewidth": 0,
              "ticks": ""
             }
            },
            "type": "scattercarpet"
           }
          ],
          "scattergeo": [
           {
            "marker": {
             "colorbar": {
              "outlinewidth": 0,
              "ticks": ""
             }
            },
            "type": "scattergeo"
           }
          ],
          "scattergl": [
           {
            "marker": {
             "line": {
              "color": "#283442"
             }
            },
            "type": "scattergl"
           }
          ],
          "scattermapbox": [
           {
            "marker": {
             "colorbar": {
              "outlinewidth": 0,
              "ticks": ""
             }
            },
            "type": "scattermapbox"
           }
          ],
          "scatterpolar": [
           {
            "marker": {
             "colorbar": {
              "outlinewidth": 0,
              "ticks": ""
             }
            },
            "type": "scatterpolar"
           }
          ],
          "scatterpolargl": [
           {
            "marker": {
             "colorbar": {
              "outlinewidth": 0,
              "ticks": ""
             }
            },
            "type": "scatterpolargl"
           }
          ],
          "scatterternary": [
           {
            "marker": {
             "colorbar": {
              "outlinewidth": 0,
              "ticks": ""
             }
            },
            "type": "scatterternary"
           }
          ],
          "surface": [
           {
            "colorbar": {
             "outlinewidth": 0,
             "ticks": ""
            },
            "colorscale": [
             [
              0,
              "#0d0887"
             ],
             [
              0.1111111111111111,
              "#46039f"
             ],
             [
              0.2222222222222222,
              "#7201a8"
             ],
             [
              0.3333333333333333,
              "#9c179e"
             ],
             [
              0.4444444444444444,
              "#bd3786"
             ],
             [
              0.5555555555555556,
              "#d8576b"
             ],
             [
              0.6666666666666666,
              "#ed7953"
             ],
             [
              0.7777777777777778,
              "#fb9f3a"
             ],
             [
              0.8888888888888888,
              "#fdca26"
             ],
             [
              1,
              "#f0f921"
             ]
            ],
            "type": "surface"
           }
          ],
          "table": [
           {
            "cells": {
             "fill": {
              "color": "#506784"
             },
             "line": {
              "color": "rgb(17,17,17)"
             }
            },
            "header": {
             "fill": {
              "color": "#2a3f5f"
             },
             "line": {
              "color": "rgb(17,17,17)"
             }
            },
            "type": "table"
           }
          ]
         },
         "layout": {
          "annotationdefaults": {
           "arrowcolor": "#f2f5fa",
           "arrowhead": 0,
           "arrowwidth": 1
          },
          "autotypenumbers": "strict",
          "coloraxis": {
           "colorbar": {
            "outlinewidth": 0,
            "ticks": ""
           }
          },
          "colorscale": {
           "diverging": [
            [
             0,
             "#8e0152"
            ],
            [
             0.1,
             "#c51b7d"
            ],
            [
             0.2,
             "#de77ae"
            ],
            [
             0.3,
             "#f1b6da"
            ],
            [
             0.4,
             "#fde0ef"
            ],
            [
             0.5,
             "#f7f7f7"
            ],
            [
             0.6,
             "#e6f5d0"
            ],
            [
             0.7,
             "#b8e186"
            ],
            [
             0.8,
             "#7fbc41"
            ],
            [
             0.9,
             "#4d9221"
            ],
            [
             1,
             "#276419"
            ]
           ],
           "sequential": [
            [
             0,
             "#0d0887"
            ],
            [
             0.1111111111111111,
             "#46039f"
            ],
            [
             0.2222222222222222,
             "#7201a8"
            ],
            [
             0.3333333333333333,
             "#9c179e"
            ],
            [
             0.4444444444444444,
             "#bd3786"
            ],
            [
             0.5555555555555556,
             "#d8576b"
            ],
            [
             0.6666666666666666,
             "#ed7953"
            ],
            [
             0.7777777777777778,
             "#fb9f3a"
            ],
            [
             0.8888888888888888,
             "#fdca26"
            ],
            [
             1,
             "#f0f921"
            ]
           ],
           "sequentialminus": [
            [
             0,
             "#0d0887"
            ],
            [
             0.1111111111111111,
             "#46039f"
            ],
            [
             0.2222222222222222,
             "#7201a8"
            ],
            [
             0.3333333333333333,
             "#9c179e"
            ],
            [
             0.4444444444444444,
             "#bd3786"
            ],
            [
             0.5555555555555556,
             "#d8576b"
            ],
            [
             0.6666666666666666,
             "#ed7953"
            ],
            [
             0.7777777777777778,
             "#fb9f3a"
            ],
            [
             0.8888888888888888,
             "#fdca26"
            ],
            [
             1,
             "#f0f921"
            ]
           ]
          },
          "colorway": [
           "#636efa",
           "#EF553B",
           "#00cc96",
           "#ab63fa",
           "#FFA15A",
           "#19d3f3",
           "#FF6692",
           "#B6E880",
           "#FF97FF",
           "#FECB52"
          ],
          "font": {
           "color": "#f2f5fa"
          },
          "geo": {
           "bgcolor": "rgb(17,17,17)",
           "lakecolor": "rgb(17,17,17)",
           "landcolor": "rgb(17,17,17)",
           "showlakes": true,
           "showland": true,
           "subunitcolor": "#506784"
          },
          "hoverlabel": {
           "align": "left"
          },
          "hovermode": "closest",
          "mapbox": {
           "style": "dark"
          },
          "paper_bgcolor": "rgb(17,17,17)",
          "plot_bgcolor": "rgb(17,17,17)",
          "polar": {
           "angularaxis": {
            "gridcolor": "#506784",
            "linecolor": "#506784",
            "ticks": ""
           },
           "bgcolor": "rgb(17,17,17)",
           "radialaxis": {
            "gridcolor": "#506784",
            "linecolor": "#506784",
            "ticks": ""
           }
          },
          "scene": {
           "xaxis": {
            "backgroundcolor": "rgb(17,17,17)",
            "gridcolor": "#506784",
            "gridwidth": 2,
            "linecolor": "#506784",
            "showbackground": true,
            "ticks": "",
            "zerolinecolor": "#C8D4E3"
           },
           "yaxis": {
            "backgroundcolor": "rgb(17,17,17)",
            "gridcolor": "#506784",
            "gridwidth": 2,
            "linecolor": "#506784",
            "showbackground": true,
            "ticks": "",
            "zerolinecolor": "#C8D4E3"
           },
           "zaxis": {
            "backgroundcolor": "rgb(17,17,17)",
            "gridcolor": "#506784",
            "gridwidth": 2,
            "linecolor": "#506784",
            "showbackground": true,
            "ticks": "",
            "zerolinecolor": "#C8D4E3"
           }
          },
          "shapedefaults": {
           "line": {
            "color": "#f2f5fa"
           }
          },
          "sliderdefaults": {
           "bgcolor": "#C8D4E3",
           "bordercolor": "rgb(17,17,17)",
           "borderwidth": 1,
           "tickwidth": 0
          },
          "ternary": {
           "aaxis": {
            "gridcolor": "#506784",
            "linecolor": "#506784",
            "ticks": ""
           },
           "baxis": {
            "gridcolor": "#506784",
            "linecolor": "#506784",
            "ticks": ""
           },
           "bgcolor": "rgb(17,17,17)",
           "caxis": {
            "gridcolor": "#506784",
            "linecolor": "#506784",
            "ticks": ""
           }
          },
          "title": {
           "x": 0.05
          },
          "updatemenudefaults": {
           "bgcolor": "#506784",
           "borderwidth": 0
          },
          "xaxis": {
           "automargin": true,
           "gridcolor": "#283442",
           "linecolor": "#506784",
           "ticks": "",
           "title": {
            "standoff": 15
           },
           "zerolinecolor": "#283442",
           "zerolinewidth": 2
          },
          "yaxis": {
           "automargin": true,
           "gridcolor": "#283442",
           "linecolor": "#506784",
           "ticks": "",
           "title": {
            "standoff": 15
           },
           "zerolinecolor": "#283442",
           "zerolinewidth": 2
          }
         }
        },
        "title": {
         "text": "Democracy index ranking vs Press freedom index ranking 2023 "
        },
        "xaxis": {
         "anchor": "y",
         "domain": [
          0,
          1
         ],
         "title": {
          "text": "Democracy index ranking 2023"
         }
        },
        "yaxis": {
         "anchor": "x",
         "domain": [
          0,
          1
         ],
         "title": {
          "text": "Press freedom index ranking 2023"
         }
        }
       }
      },
      "text/html": [
       "<div>                            <div id=\"083cc2a5-13a2-4abb-9093-8e2a6ed2afe0\" class=\"plotly-graph-div\" style=\"height:525px; width:100%;\"></div>            <script type=\"text/javascript\">                require([\"plotly\"], function(Plotly) {                    window.PLOTLYENV=window.PLOTLYENV || {};                                    if (document.getElementById(\"083cc2a5-13a2-4abb-9093-8e2a6ed2afe0\")) {                    Plotly.newPlot(                        \"083cc2a5-13a2-4abb-9093-8e2a6ed2afe0\",                        [{\"customdata\":[[\"Norway\"],[\"New Zealand\"],[\"Iceland\"],[\"Sweden\"],[\"Finland\"],[\"Denmark\"],[\"Ireland\"],[\"Switzerland\"],[\"Netherlands\"],[\"Taiwan\"],[\"Luxembourg\"],[\"Germany\"],[\"Canada\"],[\"Australia\"],[\"Uruguay\"],[\"Japan\"],[\"Costa Rica\"],[\"Austria\"],[\"United Kingdom\"],[\"Greece\"],[\"Mauritius\"],[\"South Korea\"],[\"France\"],[\"Spain\"],[\"Chile\"],[\"Czechia\"],[\"Estonia\"],[\"Malta\"],[\"United States\"],[\"Israel\"],[\"Portugal\"],[\"Slovenia\"],[\"Botswana\"],[\"Italy\"],[\"Cape Verde\"],[\"Belgium\"],[\"Cyprus\"],[\"Latvia\"],[\"Lithuania\"],[\"Malaysia\"],[\"India\"],[\"Poland\"],[\"Trinidad and Tobago\"],[\"Slovakia\"],[\"East Timor\"],[\"Jamaica\"],[\"South Africa\"],[\"Panama\"],[\"Suriname\"],[\"Hungary\"],[\"Brazil\"],[\"Montenegro\"],[\"Philippines\"],[\"Argentina\"],[\"Colombia\"],[\"Indonesia\"],[\"Namibia\"],[\"Croatia\"],[\"Mongolia\"],[\"Romania\"],[\"Dominican Republic\"],[\"Bulgaria\"],[\"Thailand\"],[\"Serbia\"],[\"Ghana\"],[\"Albania\"],[\"Guyana\"],[\"Moldova\"],[\"Singapore\"],[\"Sri Lanka\"],[\"Lesotho\"],[\"North Macedonia\"],[\"Papua New Guinea\"],[\"Paraguay\"],[\"Bangladesh\"],[\"Malawi\"],[\"Peru\"],[\"Zambia\"],[\"Liberia\"],[\"Fiji\"],[\"Bhutan\"],[\"Tunisia\"],[\"Senegal\"],[\"Armenia\"],[\"Ecuador\"],[\"Tanzania\"],[\"Madagascar\"],[\"Hong Kong\"],[\"Georgia\"],[\"Mexico\"],[\"Ukraine\"],[\"Kenya\"],[\"Morocco\"],[\"Bosnia and Herzegovina\"],[\"Honduras\"],[\"El Salvador\"],[\"Benin\"],[\"Nepal\"],[\"Uganda\"],[\"Gambia\"],[\"Guatemala\"],[\"Turkey\"],[\"Sierra Leone\"],[\"Nigeria\"],[\"Cote d'Ivoire\"],[\"Bolivia\"],[\"Angola\"],[\"Mauritania\"],[\"Kyrgyzstan\"],[\"Algeria\"],[\"Qatar\"],[\"Lebanon\"],[\"Mozambique\"],[\"Kuwait\"],[\"Palestine\"],[\"Ethiopia\"],[\"Rwanda\"],[\"Pakistan\"],[\"Oman\"],[\"Kazakhstan\"],[\"Cambodia\"],[\"Comoros\"],[\"Jordan\"],[\"Zimbabwe\"],[\"United Arab Emirates\"],[\"Togo\"],[\"Egypt\"],[\"Iraq\"],[\"Haiti\"],[\"Azerbaijan\"],[\"Congo\"],[\"Eswatini\"],[\"Burkina Faso\"],[\"Djibouti\"],[\"Cuba\"],[\"Vietnam\"],[\"Mali\"],[\"Cameroon\"],[\"Bahrain\"],[\"Guinea-Bissau\"],[\"Niger\"],[\"Venezuela\"],[\"Nicaragua\"],[\"Russia\"],[\"Guinea\"],[\"Gabon\"],[\"Burundi\"],[\"China\"]],\"hovertemplate\":\"democracy_ranking=%{x}\\u003cbr\\u003epress_freedom_ranking=%{y}\\u003cbr\\u003ecountry=%{customdata[0]}\\u003cextra\\u003e\\u003c\\u002fextra\\u003e\",\"legendgroup\":\"\",\"marker\":{\"color\":\"#636efa\",\"symbol\":\"circle\"},\"mode\":\"markers\",\"name\":\"\",\"orientation\":\"v\",\"showlegend\":false,\"x\":[1,2,3,4,5,6,7,8,9,10,11,12,13,14,14,15,16,17,17,18,18,19,20,20,21,22,23,24,25,26,27,27,28,29,30,31,34,34,35,36,37,37,38,39,40,40,41,42,43,44,45,46,47,48,49,50,51,52,53,54,55,56,57,58,59,60,61,62,63,64,66,67,67,68,69,70,71,72,75,76,77,78,79,80,81,82,83,84,85,86,87,88,89,90,91,93,94,95,96,97,97,99,100,101,102,103,104,105,106,107,108,109,110,111,112,113,114,115,116,117,118,119,119,119,120,121,122,123,124,125,126,127,128,129,130,131,132,133,134,135,136,137,138,139,140,141,142,143],\"xaxis\":\"x\",\"y\":[1,13,18,4,5,3,2,12,6,35,20,21,15,27,52,68,23,29,26,107,63,47,24,36,83,14,8,84,45,97,9,50,65,41,33,31,55,16,7,73,161,57,30,17,10,32,25,69,48,72,92,39,132,40,139,108,22,42,88,53,43,71,106,91,62,96,60,28,129,135,67,38,59,103,163,82,110,87,66,89,90,121,104,49,80,143,101,140,77,128,79,116,144,64,169,115,112,95,133,46,127,165,74,123,54,117,125,86,122,136,105,119,102,154,156,130,131,150,155,134,147,75,146,126,145,70,166,167,99,151,81,111,58,162,172,178,113,138,171,78,61,159,158,164,85,94,114,179],\"yaxis\":\"y\",\"type\":\"scatter\"},{\"hovertemplate\":\"\\u003cb\\u003eOLS trendline\\u003c\\u002fb\\u003e\\u003cbr\\u003epress_freedom_ranking = 0.879147 * democracy_ranking + 22.2396\\u003cbr\\u003eR\\u003csup\\u003e2\\u003c\\u002fsup\\u003e=0.551165\\u003cbr\\u003e\\u003cbr\\u003edemocracy_ranking=%{x}\\u003cbr\\u003epress_freedom_ranking=%{y} \\u003cb\\u003e(trend)\\u003c\\u002fb\\u003e\\u003cextra\\u003e\\u003c\\u002fextra\\u003e\",\"legendgroup\":\"\",\"marker\":{\"color\":\"#636efa\",\"symbol\":\"circle\"},\"mode\":\"lines\",\"name\":\"\",\"showlegend\":false,\"x\":[1,2,3,4,5,6,7,8,9,10,11,12,13,14,14,15,16,17,17,18,18,19,20,20,21,22,23,24,25,26,27,27,28,29,30,31,34,34,35,36,37,37,38,39,40,40,41,42,43,44,45,46,47,48,49,50,51,52,53,54,55,56,57,58,59,60,61,62,63,64,66,67,67,68,69,70,71,72,75,76,77,78,79,80,81,82,83,84,85,86,87,88,89,90,91,93,94,95,96,97,97,99,100,101,102,103,104,105,106,107,108,109,110,111,112,113,114,115,116,117,118,119,119,119,120,121,122,123,124,125,126,127,128,129,130,131,132,133,134,135,136,137,138,139,140,141,142,143],\"xaxis\":\"x\",\"y\":[23.11878764856252,23.99793433738786,24.8770810262132,25.75622771503854,26.635374403863878,27.51452109268922,28.39366778151456,29.2728144703399,30.15196115916524,31.03110784799058,31.91025453681592,32.78940122564126,33.6685479144666,34.54769460329194,34.54769460329194,35.426841292117274,36.30598798094262,37.18513466976796,37.18513466976796,38.0642813585933,38.0642813585933,38.943428047418635,39.82257473624398,39.82257473624398,40.701721425069316,41.58086811389465,42.460014802719996,43.33916149154534,44.21830818037068,45.097454869196014,45.97660155802136,45.97660155802136,46.855748246846694,47.73489493567203,48.614041624497375,49.49318831332272,52.130628379798736,52.130628379798736,53.00977506862408,53.88892175744942,54.768068446274754,54.768068446274754,55.6472151351001,56.526361823925434,57.40550851275078,57.40550851275078,58.284655201576115,59.16380189040145,60.042948579226795,60.92209526805213,61.801241956877476,62.68038864570281,63.55953533452816,64.4386820233535,65.31782871217882,66.19697540100418,67.07612208982951,67.95526877865485,68.8344154674802,69.71356215630553,70.59270884513087,71.47185553395622,72.35100222278155,73.23014891160689,74.10929560043223,74.98844228925756,75.86758897808292,76.74673566690825,77.6258823557336,78.50502904455894,80.26332242220961,81.14246911103496,81.14246911103496,82.02161579986029,82.90076248868563,83.77990917751097,84.6590558663363,85.53820255516166,88.17564262163768,89.05478931046301,89.93393599928834,90.8130826881137,91.69222937693903,92.57137606576438,93.45052275458971,94.32966944341504,95.2088161322404,96.08796282106573,96.96710950989106,97.84625619871642,98.72540288754175,99.60454957636708,100.48369626519244,101.36284295401776,102.2419896428431,104.00028302049378,104.87942970931914,105.75857639814447,106.6377230869698,107.51686977579516,107.51686977579516,109.27516315344582,110.15430984227118,111.0334565310965,111.91260321992183,112.79174990874719,113.67089659757252,114.55004328639785,115.42918997522321,116.30833666404854,117.1874833528739,118.06663004169923,118.94577673052456,119.82492341934991,120.70407010817524,121.58321679700057,122.46236348582593,123.34151017465126,124.22065686347659,125.09980355230195,125.97895024112728,126.85809692995264,126.85809692995264,126.85809692995264,127.73724361877797,128.6163903076033,129.49553699642865,130.37468368525398,131.2538303740793,132.13297706290467,133.01212375173,133.89127044055533,134.7704171293807,135.64956381820602,136.52871050703135,137.4078571958567,138.28700388468204,139.1661505735074,140.04529726233272,140.92444395115805,141.8035906399834,142.68273732880874,143.56188401763407,144.44103070645943,145.32017739528476,146.1993240841101,147.07847077293545,147.95761746176078],\"yaxis\":\"y\",\"type\":\"scatter\",\"line\":{\"color\":\"black\"}}],                        {\"template\":{\"data\":{\"histogram2dcontour\":[{\"type\":\"histogram2dcontour\",\"colorbar\":{\"outlinewidth\":0,\"ticks\":\"\"},\"colorscale\":[[0.0,\"#0d0887\"],[0.1111111111111111,\"#46039f\"],[0.2222222222222222,\"#7201a8\"],[0.3333333333333333,\"#9c179e\"],[0.4444444444444444,\"#bd3786\"],[0.5555555555555556,\"#d8576b\"],[0.6666666666666666,\"#ed7953\"],[0.7777777777777778,\"#fb9f3a\"],[0.8888888888888888,\"#fdca26\"],[1.0,\"#f0f921\"]]}],\"choropleth\":[{\"type\":\"choropleth\",\"colorbar\":{\"outlinewidth\":0,\"ticks\":\"\"}}],\"histogram2d\":[{\"type\":\"histogram2d\",\"colorbar\":{\"outlinewidth\":0,\"ticks\":\"\"},\"colorscale\":[[0.0,\"#0d0887\"],[0.1111111111111111,\"#46039f\"],[0.2222222222222222,\"#7201a8\"],[0.3333333333333333,\"#9c179e\"],[0.4444444444444444,\"#bd3786\"],[0.5555555555555556,\"#d8576b\"],[0.6666666666666666,\"#ed7953\"],[0.7777777777777778,\"#fb9f3a\"],[0.8888888888888888,\"#fdca26\"],[1.0,\"#f0f921\"]]}],\"heatmap\":[{\"type\":\"heatmap\",\"colorbar\":{\"outlinewidth\":0,\"ticks\":\"\"},\"colorscale\":[[0.0,\"#0d0887\"],[0.1111111111111111,\"#46039f\"],[0.2222222222222222,\"#7201a8\"],[0.3333333333333333,\"#9c179e\"],[0.4444444444444444,\"#bd3786\"],[0.5555555555555556,\"#d8576b\"],[0.6666666666666666,\"#ed7953\"],[0.7777777777777778,\"#fb9f3a\"],[0.8888888888888888,\"#fdca26\"],[1.0,\"#f0f921\"]]}],\"heatmapgl\":[{\"type\":\"heatmapgl\",\"colorbar\":{\"outlinewidth\":0,\"ticks\":\"\"},\"colorscale\":[[0.0,\"#0d0887\"],[0.1111111111111111,\"#46039f\"],[0.2222222222222222,\"#7201a8\"],[0.3333333333333333,\"#9c179e\"],[0.4444444444444444,\"#bd3786\"],[0.5555555555555556,\"#d8576b\"],[0.6666666666666666,\"#ed7953\"],[0.7777777777777778,\"#fb9f3a\"],[0.8888888888888888,\"#fdca26\"],[1.0,\"#f0f921\"]]}],\"contourcarpet\":[{\"type\":\"contourcarpet\",\"colorbar\":{\"outlinewidth\":0,\"ticks\":\"\"}}],\"contour\":[{\"type\":\"contour\",\"colorbar\":{\"outlinewidth\":0,\"ticks\":\"\"},\"colorscale\":[[0.0,\"#0d0887\"],[0.1111111111111111,\"#46039f\"],[0.2222222222222222,\"#7201a8\"],[0.3333333333333333,\"#9c179e\"],[0.4444444444444444,\"#bd3786\"],[0.5555555555555556,\"#d8576b\"],[0.6666666666666666,\"#ed7953\"],[0.7777777777777778,\"#fb9f3a\"],[0.8888888888888888,\"#fdca26\"],[1.0,\"#f0f921\"]]}],\"surface\":[{\"type\":\"surface\",\"colorbar\":{\"outlinewidth\":0,\"ticks\":\"\"},\"colorscale\":[[0.0,\"#0d0887\"],[0.1111111111111111,\"#46039f\"],[0.2222222222222222,\"#7201a8\"],[0.3333333333333333,\"#9c179e\"],[0.4444444444444444,\"#bd3786\"],[0.5555555555555556,\"#d8576b\"],[0.6666666666666666,\"#ed7953\"],[0.7777777777777778,\"#fb9f3a\"],[0.8888888888888888,\"#fdca26\"],[1.0,\"#f0f921\"]]}],\"mesh3d\":[{\"type\":\"mesh3d\",\"colorbar\":{\"outlinewidth\":0,\"ticks\":\"\"}}],\"scatter\":[{\"marker\":{\"line\":{\"color\":\"#283442\"}},\"type\":\"scatter\"}],\"parcoords\":[{\"type\":\"parcoords\",\"line\":{\"colorbar\":{\"outlinewidth\":0,\"ticks\":\"\"}}}],\"scatterpolargl\":[{\"type\":\"scatterpolargl\",\"marker\":{\"colorbar\":{\"outlinewidth\":0,\"ticks\":\"\"}}}],\"bar\":[{\"error_x\":{\"color\":\"#f2f5fa\"},\"error_y\":{\"color\":\"#f2f5fa\"},\"marker\":{\"line\":{\"color\":\"rgb(17,17,17)\",\"width\":0.5},\"pattern\":{\"fillmode\":\"overlay\",\"size\":10,\"solidity\":0.2}},\"type\":\"bar\"}],\"scattergeo\":[{\"type\":\"scattergeo\",\"marker\":{\"colorbar\":{\"outlinewidth\":0,\"ticks\":\"\"}}}],\"scatterpolar\":[{\"type\":\"scatterpolar\",\"marker\":{\"colorbar\":{\"outlinewidth\":0,\"ticks\":\"\"}}}],\"histogram\":[{\"marker\":{\"pattern\":{\"fillmode\":\"overlay\",\"size\":10,\"solidity\":0.2}},\"type\":\"histogram\"}],\"scattergl\":[{\"marker\":{\"line\":{\"color\":\"#283442\"}},\"type\":\"scattergl\"}],\"scatter3d\":[{\"type\":\"scatter3d\",\"line\":{\"colorbar\":{\"outlinewidth\":0,\"ticks\":\"\"}},\"marker\":{\"colorbar\":{\"outlinewidth\":0,\"ticks\":\"\"}}}],\"scattermapbox\":[{\"type\":\"scattermapbox\",\"marker\":{\"colorbar\":{\"outlinewidth\":0,\"ticks\":\"\"}}}],\"scatterternary\":[{\"type\":\"scatterternary\",\"marker\":{\"colorbar\":{\"outlinewidth\":0,\"ticks\":\"\"}}}],\"scattercarpet\":[{\"type\":\"scattercarpet\",\"marker\":{\"colorbar\":{\"outlinewidth\":0,\"ticks\":\"\"}}}],\"carpet\":[{\"aaxis\":{\"endlinecolor\":\"#A2B1C6\",\"gridcolor\":\"#506784\",\"linecolor\":\"#506784\",\"minorgridcolor\":\"#506784\",\"startlinecolor\":\"#A2B1C6\"},\"baxis\":{\"endlinecolor\":\"#A2B1C6\",\"gridcolor\":\"#506784\",\"linecolor\":\"#506784\",\"minorgridcolor\":\"#506784\",\"startlinecolor\":\"#A2B1C6\"},\"type\":\"carpet\"}],\"table\":[{\"cells\":{\"fill\":{\"color\":\"#506784\"},\"line\":{\"color\":\"rgb(17,17,17)\"}},\"header\":{\"fill\":{\"color\":\"#2a3f5f\"},\"line\":{\"color\":\"rgb(17,17,17)\"}},\"type\":\"table\"}],\"barpolar\":[{\"marker\":{\"line\":{\"color\":\"rgb(17,17,17)\",\"width\":0.5},\"pattern\":{\"fillmode\":\"overlay\",\"size\":10,\"solidity\":0.2}},\"type\":\"barpolar\"}],\"pie\":[{\"automargin\":true,\"type\":\"pie\"}]},\"layout\":{\"autotypenumbers\":\"strict\",\"colorway\":[\"#636efa\",\"#EF553B\",\"#00cc96\",\"#ab63fa\",\"#FFA15A\",\"#19d3f3\",\"#FF6692\",\"#B6E880\",\"#FF97FF\",\"#FECB52\"],\"font\":{\"color\":\"#f2f5fa\"},\"hovermode\":\"closest\",\"hoverlabel\":{\"align\":\"left\"},\"paper_bgcolor\":\"rgb(17,17,17)\",\"plot_bgcolor\":\"rgb(17,17,17)\",\"polar\":{\"bgcolor\":\"rgb(17,17,17)\",\"angularaxis\":{\"gridcolor\":\"#506784\",\"linecolor\":\"#506784\",\"ticks\":\"\"},\"radialaxis\":{\"gridcolor\":\"#506784\",\"linecolor\":\"#506784\",\"ticks\":\"\"}},\"ternary\":{\"bgcolor\":\"rgb(17,17,17)\",\"aaxis\":{\"gridcolor\":\"#506784\",\"linecolor\":\"#506784\",\"ticks\":\"\"},\"baxis\":{\"gridcolor\":\"#506784\",\"linecolor\":\"#506784\",\"ticks\":\"\"},\"caxis\":{\"gridcolor\":\"#506784\",\"linecolor\":\"#506784\",\"ticks\":\"\"}},\"coloraxis\":{\"colorbar\":{\"outlinewidth\":0,\"ticks\":\"\"}},\"colorscale\":{\"sequential\":[[0.0,\"#0d0887\"],[0.1111111111111111,\"#46039f\"],[0.2222222222222222,\"#7201a8\"],[0.3333333333333333,\"#9c179e\"],[0.4444444444444444,\"#bd3786\"],[0.5555555555555556,\"#d8576b\"],[0.6666666666666666,\"#ed7953\"],[0.7777777777777778,\"#fb9f3a\"],[0.8888888888888888,\"#fdca26\"],[1.0,\"#f0f921\"]],\"sequentialminus\":[[0.0,\"#0d0887\"],[0.1111111111111111,\"#46039f\"],[0.2222222222222222,\"#7201a8\"],[0.3333333333333333,\"#9c179e\"],[0.4444444444444444,\"#bd3786\"],[0.5555555555555556,\"#d8576b\"],[0.6666666666666666,\"#ed7953\"],[0.7777777777777778,\"#fb9f3a\"],[0.8888888888888888,\"#fdca26\"],[1.0,\"#f0f921\"]],\"diverging\":[[0,\"#8e0152\"],[0.1,\"#c51b7d\"],[0.2,\"#de77ae\"],[0.3,\"#f1b6da\"],[0.4,\"#fde0ef\"],[0.5,\"#f7f7f7\"],[0.6,\"#e6f5d0\"],[0.7,\"#b8e186\"],[0.8,\"#7fbc41\"],[0.9,\"#4d9221\"],[1,\"#276419\"]]},\"xaxis\":{\"gridcolor\":\"#283442\",\"linecolor\":\"#506784\",\"ticks\":\"\",\"title\":{\"standoff\":15},\"zerolinecolor\":\"#283442\",\"automargin\":true,\"zerolinewidth\":2},\"yaxis\":{\"gridcolor\":\"#283442\",\"linecolor\":\"#506784\",\"ticks\":\"\",\"title\":{\"standoff\":15},\"zerolinecolor\":\"#283442\",\"automargin\":true,\"zerolinewidth\":2},\"scene\":{\"xaxis\":{\"backgroundcolor\":\"rgb(17,17,17)\",\"gridcolor\":\"#506784\",\"linecolor\":\"#506784\",\"showbackground\":true,\"ticks\":\"\",\"zerolinecolor\":\"#C8D4E3\",\"gridwidth\":2},\"yaxis\":{\"backgroundcolor\":\"rgb(17,17,17)\",\"gridcolor\":\"#506784\",\"linecolor\":\"#506784\",\"showbackground\":true,\"ticks\":\"\",\"zerolinecolor\":\"#C8D4E3\",\"gridwidth\":2},\"zaxis\":{\"backgroundcolor\":\"rgb(17,17,17)\",\"gridcolor\":\"#506784\",\"linecolor\":\"#506784\",\"showbackground\":true,\"ticks\":\"\",\"zerolinecolor\":\"#C8D4E3\",\"gridwidth\":2}},\"shapedefaults\":{\"line\":{\"color\":\"#f2f5fa\"}},\"annotationdefaults\":{\"arrowcolor\":\"#f2f5fa\",\"arrowhead\":0,\"arrowwidth\":1},\"geo\":{\"bgcolor\":\"rgb(17,17,17)\",\"landcolor\":\"rgb(17,17,17)\",\"subunitcolor\":\"#506784\",\"showland\":true,\"showlakes\":true,\"lakecolor\":\"rgb(17,17,17)\"},\"title\":{\"x\":0.05},\"updatemenudefaults\":{\"bgcolor\":\"#506784\",\"borderwidth\":0},\"sliderdefaults\":{\"bgcolor\":\"#C8D4E3\",\"borderwidth\":1,\"bordercolor\":\"rgb(17,17,17)\",\"tickwidth\":0},\"mapbox\":{\"style\":\"dark\"}}},\"xaxis\":{\"anchor\":\"y\",\"domain\":[0.0,1.0],\"title\":{\"text\":\"Democracy index ranking 2023\"}},\"yaxis\":{\"anchor\":\"x\",\"domain\":[0.0,1.0],\"title\":{\"text\":\"Press freedom index ranking 2023\"}},\"legend\":{\"tracegroupgap\":0},\"title\":{\"text\":\"Democracy index ranking vs Press freedom index ranking 2023 \"}},                        {\"responsive\": true}                    ).then(function(){\n",
       "                            \n",
       "var gd = document.getElementById('083cc2a5-13a2-4abb-9093-8e2a6ed2afe0');\n",
       "var x = new MutationObserver(function (mutations, observer) {{\n",
       "        var display = window.getComputedStyle(gd).display;\n",
       "        if (!display || display === 'none') {{\n",
       "            console.log([gd, 'removed!']);\n",
       "            Plotly.purge(gd);\n",
       "            observer.disconnect();\n",
       "        }}\n",
       "}});\n",
       "\n",
       "// Listen for the removal of the full notebook cells\n",
       "var notebookContainer = gd.closest('#notebook-container');\n",
       "if (notebookContainer) {{\n",
       "    x.observe(notebookContainer, {childList: true});\n",
       "}}\n",
       "\n",
       "// Listen for the clearing of the current output cell\n",
       "var outputEl = gd.closest('.output');\n",
       "if (outputEl) {{\n",
       "    x.observe(outputEl, {childList: true});\n",
       "}}\n",
       "\n",
       "                        })                };                });            </script>        </div>"
      ]
     },
     "metadata": {},
     "output_type": "display_data"
    }
   ],
   "source": [
    "# creeer een scatterplot om de relatie tussen de democratie en persvrijheid aan te geven per land\n",
    "\n",
    "fig = px.scatter(\n",
    "    eind_df,\n",
    "    x='democratie_rang_2023',\n",
    "    y='persvrijheid_rang_2023',\n",
    "    title = 'Democracy vs Persvrijheid rangschikking 2023 ',\n",
    "    hover_data=['land'],\n",
    "    trendline=\"ols\")\n",
    "\n",
    "fig.update_layout(\n",
    "    xaxis_title=\"Democratie rangschikking 2023\",\n",
    "    yaxis_title=\"Persvrijheid rangschikking 2023\"\n",
    ")\n",
    "\n",
    "for trace in fig.data:\n",
    "    if trace.mode == \"lines\":\n",
    "        trace.line.color = \"black\"\n",
    "\n",
    "fig.show()\n",
    "\n",
    "print('Figuur 6')\n",
    "\n",
    "correlation = eind_df[\"democratie_rang_2023\"].corr(eind_df[\"persvrijheid_rang_2023\"])\n",
    "print(f\"Correlatie tussen de democratie rangschikking en de persvrijheid rangschikking: {correlation}\")"
   ]
  },
  {
   "cell_type": "markdown",
   "metadata": {},
   "source": [
    "In figuur 6 te zien dat naarmate de democratische normen afnemen en een land autocratischer wordt, de persvrijheids rangschikking stijgt, wat neerkomt op minder persvrijheid. Deze scatterplot toont een sterke correlatie van ongeveer 0.75, wat een duidelijk verband aantoont tussen de bestuursvorm en de persvrijheid."
   ]
  },
  {
   "cell_type": "markdown",
   "metadata": {},
   "source": [
    "### Argument 2\n",
    "\n",
    "**Landen met een meer autocratische bestuursvorm hebben vaker conflicten.**\n",
    "\n",
    "Autocratische bestuursvormen concentreren de macht in handen van een enkele leider of een kleine groep, met beperkte politieke vrijheden en burgerrechten. In deze systemen worden dissidente stemmen vaak onderdrukt en media gecontroleerd. Intern kunnen autocratische regimes geweld en repressie gebruiken om oppositie te onderdrukken, wat kan leiden tot opstanden en burgeroorlogen. Daarnaast kunnen ze militaire agressie inzetten om hun macht te versterken en territoriale ambities na te streven. Deze focus op controle en macht maakt autocratische regimes vaak geneigd om conflicten te escaleren, wat zowel nationaal als internationaal verstrekkende gevolgen heeft. Begrip van deze dynamiek is essentieel voor het bevorderen van vrede en stabiliteit.\n",
    "\n",
    "Figuur 7 toont een scatterplot van de democratie rangschikking versus de conflict rangschikking in 2023. In deze grafiek zien we een lichte correlatie tussen de mate van democratie en het aantal conflicten in een land. Een hogere democratie rang betekent een meer autocratische bestuursvorm. Bij de conflict rangschikking betekent een hogere rang minder conflicten en een lagere rang dus meer conflicten.\n"
   ]
  },
  {
   "cell_type": "code",
   "execution_count": null,
   "metadata": {},
   "outputs": [],
   "source": [
    "# creeer een scatterplot om de relatie tussen de democratie en conflict aan te geven per land\n",
    "\n",
    "fig = px.scatter(\n",
    "    eind_df,\n",
    "    x='democratie_rang_2023',\n",
    "    y='conflict_rang_2023',\n",
    "    title = 'Democratie rangschikking vs Conflict rangschikking 2023',\n",
    "    hover_data=['land'],\n",
    "    trendline=\"ols\",\n",
    ")\n",
    "\n",
    "fig.update_layout(\n",
    "    xaxis_title=\"Democratie rangschikking 2023\",\n",
    "    yaxis_title=\"Conflict rangschikking 2023\"\n",
    ")\n",
    "\n",
    "for trace in fig.data:\n",
    "    if trace.mode == \"lines\":\n",
    "        trace.line.color = \"black\"\n",
    "\n",
    "\n",
    "fig.show()\n",
    "\n",
    "print('Figuur 7')\n",
    "\n",
    "correlation = eind_df[\"democratie_rang_2023\"].corr(eind_df[\"conflict_rang_2023\"])\n",
    "print(f\"Correlatie tussen de democratie rangschikking en de conflict rangschikking: {correlation}\")"
   ]
  },
  {
   "cell_type": "markdown",
   "metadata": {},
   "source": [
    "De scatterplot laat zien dat autocratische landen zich vaak lager op de conflict rangschikking bevinden, wat betekent dat deze landen doorgaans meer conflicten ervaren. Dit patroon suggereert dat autocratische regimes mogelijk een grotere neiging hebben tot interne en externe conflicten, waarschijnlijk door hun repressieve en ondoorzichtige bestuur.\n",
    "\n",
    "Hoewel de correlatie niet extreem sterk is, biedt deze scatterplot toch waardevolle inzichten in hoe de bestuursvorm van een land kan samenhangen met zijn neiging tot conflicten. Autocratische regimes lijken vaker betrokken te zijn bij conflicten, wat mogelijk te wijten is aan factoren zoals gebrek aan politieke participatie, onderdrukking van oppositie en beperkingen op burgerlijke vrijheden."
   ]
  },
  {
   "cell_type": "markdown",
   "metadata": {},
   "source": [
    "## Reflectie\n",
    "\n",
    "Op donderdag 20 juni hebben wij tijdens het college onze draft gepresenteerd. Daarna ontvingen we zowel feedback van onze TA als peer feedback van groep B1.Een belangrijk punt dat zowel door de tutor als het andere groepje werd opgemerkt, was dat de ranking van de verschillende indexen onduidelijk was. In de conflictindex stond een index van 1 voor veel conflicten, wat negatief is, terwijl in de democratie- en persvrijheidsindex een ranking van 1 juist positief was.\n",
    "\n",
    "Een aantal visualisaties werkten niet in Jupyter Book omdat het een statische omgeving is en de visualisaties dynamisch waren. Daarom hebben we besloten om nieuwe visualisaties met wereldkaarten te maken. Tijdens de feedbacksessie hebben we dit nieuwe idee voorgelegd aan de TA, en we hebben besloten dit uit te voeren. Later hebben wij ook een e-mail ontvangen met alle feedbackpunten op een rijtje. Deze hebben wij tijdens het werken aan het project steeds bijgehouden en afgestreept wat we gedaan hadden.\n",
    "\n",
    "**Zelf reflectie**\n",
    "\n",
    "Een belangrijk leermoment voor ons was de toepassing van de Pearson correlatiecoëfficiënt, zoals besproken tijdens het college. Deze correlatie hielp ons om de relatie tussen verschillende variabelen in onze dataset beter te begrijpen, met name in de scatterplots die we hebben gemaakt. Bijvoorbeeld, in onze analyse van persvrijheid versus conflicten, identificeerden we een matige correlatie die eerder niet expliciet was benoemd. Door deze inzichten toe te passen, konden we onze conclusies en aanbevelingen versterken.\n",
    "\n",
    "Tot slot hebben we geleerd dat het belangrijk is om kritisch te blijven over onze datavisualisaties en analyses, vooral in termen van duidelijkheid, interpretatie van indexen en de keuze van correlatiemethoden. Deze kritische benadering heeft ons geholpen om onze data story te versterken en een beter inzicht te bieden in de complexe dynamiek tussen persvrijheid, conflicten en bestuursvormen wereldwijd.\n"
   ]
  },
  {
   "cell_type": "markdown",
   "metadata": {},
   "source": [
    "## Werkverdeling\n",
    "\n",
    "Communicatie over het project vond plaats tijdens de werkcolleges, via berichten of door te bellen. Hier hebben wij afgesproken wie wat doet en konden wij overleggen over onduidelijkheden. Het onderwerp hebben wij gezamenlijk uitgekozen en het zoeken en verwerken van datasets voor de proposal hebben wij samen gedaan.\n",
    "\n",
    "**Anne** -\n",
    "Anne heeft gewerkt aan het maken van visualisaties. De grafieken rondom persvrijheid en democratie komen van haar. Ook heeft zij samen met Noor gewerkt aan de wereldkaarten. De code laten aansluiten op de gemaakte dataset is ook door Anne gedaan. Verder was zij ook aanwezig bij de presentatie.\n",
    "\n",
    "**Glenn** -\n",
    "Het verwoorden van de argumenten en perspectieven is door Glenn gedaan. Ook heeft hij de grafieken omschreven en ervoor gezorgd dat alle stukken tekst op elkaar aansluiten. Glenn was ook aanwezig bij de presentatie.\n",
    "\n",
    "**Job** -\n",
    "Het schoonmaken en samenvoegen van de datasets is door Job gedaan. Ook heeft hij de omschrijving van de variabelen geschreven. Verder heeft hij ervoor gezorgd dat het Jupyter Book op orde was.\n",
    "\n",
    "**Noor** -\n",
    "Noor heeft gewerkt aan de visualisaties rondom persvrijheid en conflicten. Ook heeft zij samen met Anne aan de wereldkaarten gewerkt. Ook was zij aanwezig bij de presentatie.\n"
   ]
  },
  {
   "cell_type": "markdown",
   "metadata": {},
   "source": [
    "## Referenties\n",
    "\n",
    "1. ACLED. (2024, 13 februari). <em>ACLED Conflict Index - ACLED.</em> https://acleddata.com/conflict-index/#downloads \n",
    "2. <em>Democracy index.</em> (2022, 10 februari). Our World in Data. https://ourworldindata.org/grapher/democracy-index-eiu?tab=table&time=earliest..2023 \n",
    "3. <em>Index.</em> (z.d.). RSF. https://rsf.org/en/index \n",
    "4. Ministerie van Justitie en Veiligheid. (2022, July 6). <em>Vrijheid van meningsuiting.</em> Thema’s | College Voor De Rechten Van De Mens. https://www.mensenrechten.nl/themas/vrijheid-van-meningsuiting \n",
    "\n",
    "## Externe links\n",
    "\n",
    " - [GitHub repository](https://github.com/J08K/InfoViz) \n",
    "\n"
   ]
  },
  {
   "cell_type": "markdown",
   "metadata": {},
   "source": [
    "## Alles wat hier onder staat kan weg denk ik??"
   ]
  },
  {
   "cell_type": "markdown",
   "metadata": {},
   "source": [
    "## Ter verduidelijking:\n",
    "\n",
    "\n",
    "-----\n",
    "- 'Conflict index':\n",
    "\n",
    "Een hogere rang (bijv. 1) geeft aan dat er in een land veel/grote conflicten zijn\n",
    "Een lagere rang (bijv. 150) geeft aan dat er in een land weinig/kleine conflicten zijn\n",
    "\n",
    "--------\n",
    "- 'Democratie index':\n",
    "\n",
    "Een hogere rang (bijv. 1) geeft aan dat er in een land een heersende democratie is\n",
    "Een lagere rang (bijv. 150) geeft aan dat er in een land geen democratie is\n",
    "\n",
    "---------\n",
    "- 'Persvrijheid  index':\n",
    "\n",
    "Een hogere rang (bijv. 1) geeft aan dat de pers in een land veel vrijheid heeft\n",
    "Een lagere rang (bijv. 150) geeft aan dat de pers in een land weinig vrijheid heeft."
   ]
  },
  {
   "cell_type": "markdown",
   "metadata": {},
   "source": [
    "## Wereldkaart. Glennnnnnnn kijk hier naar :)"
   ]
  },
  {
   "cell_type": "code",
   "execution_count": null,
   "metadata": {
    "vscode": {
     "languageId": "plaintext"
    }
   },
   "outputs": [],
   "source": [
    "# Creëer een wereldkaart om de verandering van rang wat betreft democratie te laten zien per land (2019-2023)\n",
    "\n",
    "# Maak een kleurenschaal\n",
    "colorscale = [\n",
    "    [0, '#9b0000'],          # Donker rood\n",
    "    [34/(32+35), '#FF7377'], # Licht rood\n",
    "    [35/(32+35), '#0000ff'], # Blauw voor 0\n",
    "    [36/(32+35), '#90ee90'], # Licht groen\n",
    "    [1, '#006400']           # Donker groen\n",
    "]\n",
    " \n",
    "# Maak de choropletenkaart\n",
    "trace = go.Choropleth(\n",
    "    locations=eind_df['land'],\n",
    "    locationmode='country names',\n",
    "    z=eind_df['democratie_verandering'],\n",
    "    colorscale=colorscale,\n",
    "    hovertemplate='<b>%{location}</b><br>Verandering in democratie rang: %{z}<extra></extra>',\n",
    "    colorbar=go.choropleth.ColorBar(\n",
    "        x=0.5,\n",
    "        y=0.92,\n",
    "        xanchor='center',\n",
    "        yanchor='bottom',\n",
    "        orientation='h',\n",
    "        len=0.5,\n",
    "        thickness=10,\n",
    "        tickmode='array',\n",
    "        title='',\n",
    "        tickvals=[eind_df['democratie_verandering'].min(), 0, eind_df['democratie_verandering'].max()],\n",
    "        ticktext=['Autocratisch', 'Geen verandering', 'Democratisch']\n",
    "    ),\n",
    "    zmin=eind_df['democratie_verandering'].min(),\n",
    "    zmax=eind_df['democratie_verandering'].max(),\n",
    ")\n",
    " \n",
    "# Maak de figuur\n",
    "fig = go.Figure(\n",
    "    data=[trace],\n",
    "    layout=go.Layout(\n",
    "        width=790,\n",
    "        height=640,\n",
    "        title='Verandering in Democratie Rang (2019-2023)',\n",
    "        geo={'showocean': True, 'oceancolor': '#a8d5f2', 'landcolor': '#ffffff'},\n",
    "        margin={'t': 80, 'r': 20, 'b': 80, 'l': 20},\n",
    "    )\n",
    ")\n",
    " \n",
    "fig.update_geos(showcountries=True, showcoastlines=False)\n",
    " \n",
    "fig.show()"
   ]
  },
  {
   "cell_type": "markdown",
   "metadata": {},
   "source": [
    "**Pie chart van democratie verandering**"
   ]
  },
  {
   "cell_type": "code",
   "execution_count": null,
   "metadata": {
    "vscode": {
     "languageId": "plaintext"
    }
   },
   "outputs": [],
   "source": [
    "# Creëer een wereldkaart om de verandering van rang wat betreft conflict te laten zien per land (2019-2023)\n",
    "\n",
    "\n",
    "# Maak een kleurenschaal\n",
    "colorscale = [\n",
    "    [0, '#9b0000'],            # Donker rood\n",
    "    [112/(48+113), '#FF7377'], # Licht rood\n",
    "    [113/(48+113), '#0000ff'], # Blauw\n",
    "    [114/(48+113), '#90ee90'], # Licht groen\n",
    "    [1, '#006400']             # Donker groen\n",
    "]\n",
    " \n",
    "# Maak de choropletenkaart\n",
    "trace = go.Choropleth(\n",
    "    locations=eind_df['land'],\n",
    "    locationmode='country names',\n",
    "    z=eind_df['conflict_verandering'],\n",
    "    colorscale=colorscale,\n",
    "    hovertemplate='<b>%{location}</b><br>Verandering in conflict rang: %{z}<extra></extra>',\n",
    "    colorbar=go.choropleth.ColorBar(\n",
    "        x=0.5,\n",
    "        y=0.89,\n",
    "        xanchor='center',\n",
    "        yanchor='bottom',\n",
    "        orientation='h',\n",
    "        len=0.5,\n",
    "        thickness=10,\n",
    "        tickmode='array',\n",
    "        title='',\n",
    "        tickvals=[eind_df['conflict_verandering'].min(), 0, eind_df['conflict_verandering'].max()],\n",
    "        ticktext=['Meer conflicten', 'Geen verandering', 'Minder conflicten']\n",
    "    ),\n",
    "    zmin=eind_df['conflict_verandering'].min(),\n",
    "    zmax=eind_df['conflict_verandering'].max(),\n",
    ")\n",
    " \n",
    "# Maak de figuur\n",
    "fig = go.Figure(\n",
    "    data=[trace],\n",
    "    layout=go.Layout(\n",
    "        width=790,\n",
    "        height=640,\n",
    "        title='Verandering in Conflict Rang (2019-2023)',\n",
    "        geo={'showocean': True, 'oceancolor': '#a8d5f2', 'landcolor': '#ffffff'},\n",
    "        margin={'t': 80, 'r': 20, 'b': 80, 'l': 20},\n",
    "    )\n",
    ")\n",
    " \n",
    "fig.update_geos(showcountries=True, showcoastlines=False)\n",
    " \n",
    "fig.show()\n",
    "\n",
    "print('Figuur 3')"
   ]
  },
  {
   "cell_type": "code",
   "execution_count": null,
   "metadata": {
    "vscode": {
     "languageId": "plaintext"
    }
   },
   "outputs": [],
   "source": [
    "# Creëer een wereldkaart om de verandering van rang wat betreft persvrijheid te laten zien per land (2019-2023)\n",
    "\n",
    "# Maak een kleurenschaal\n",
    "colorscale = [\n",
    "    [0, '#9b0000'],          # Donker rood\n",
    "    [54/(74+55), '#FF7377'], # Licht rood\n",
    "    [55/(74+55), '#0000ff'], # Blauw\n",
    "    [56/(74+55), '#90ee90'], # Licht groen\n",
    "    [1, '#006400']           # Donker groen\n",
    "]\n",
    " \n",
    "# Maak de choropletenkaart \n",
    "trace = go.Choropleth(\n",
    "    locations=eind_df['land'],\n",
    "    locationmode='country names',\n",
    "    z=eind_df['persvrijheid_verandering'],\n",
    "    colorscale=colorscale,\n",
    "    hovertemplate='<b>%{location}</b><br>Verandering in persvrijheid rang: %{z}<extra></extra>',\n",
    "    colorbar=go.choropleth.ColorBar(\n",
    "        x=0.5,\n",
    "        y=0.89,\n",
    "        xanchor='center',\n",
    "        yanchor='bottom',\n",
    "        orientation='h',\n",
    "        len=0.5,\n",
    "        thickness=10,\n",
    "        tickmode='array',\n",
    "        title='',\n",
    "        tickvals=[eind_df['persvrijheid_verandering'].min(), 0, eind_df['persvrijheid_verandering'].max()],\n",
    "        ticktext=['Meer persvrijheid', 'Geen verandering', 'Minder persvrijheid']\n",
    "    ),\n",
    "    zmin=eind_df['persvrijheid_verandering'].min(),\n",
    "    zmax=eind_df['persvrijheid_verandering'].max(),\n",
    ")\n",
    " \n",
    "# Maak de figuur\n",
    "fig = go.Figure(\n",
    "    data=[trace],\n",
    "    layout=go.Layout(\n",
    "        width=790,\n",
    "        height=640,\n",
    "        title='Verandering in Persvrijheid Rang (2019-2023)',\n",
    "        geo={'showocean': True, 'oceancolor': '#a8d5f2', 'landcolor': '#ffffff'},\n",
    "        margin={'t': 80, 'r': 20, 'b': 80, 'l': 20},\n",
    "    )\n",
    ")\n",
    " \n",
    "\n",
    "fig.update_geos(showcountries=True, showcoastlines=False)\n",
    " \n",
    "fig.show()\n",
    "\n",
    "print('Figuur 4')"
   ]
  },
  {
   "cell_type": "code",
   "execution_count": null,
   "metadata": {
    "vscode": {
     "languageId": "plaintext"
    }
   },
   "outputs": [],
   "source": [
    "# Creëer een pie chart van de verandering van de conflict rangen\n",
    "\n",
    "status_counts = pd.Series(['Verslechterd' if x < 0 else 'Verbeterd' if x > 0 else 'Gelijk gebleven' for x in eind_df['conflict_verandering']]).value_counts()\n",
    "\n",
    "\n",
    "fig_status = go.Figure(data=[go.Pie(\n",
    "    labels=status_counts.index,\n",
    "    values=status_counts.values,\n",
    "    marker=dict(colors=['red', 'green', 'blue'])\n",
    ")])\n",
    "\n",
    "fig_status.update_layout(\n",
    "    title='Verandering in conflict rangschikking sinds 2019 per 2023',\n",
    "    legend_title='Status'\n",
    ")\n",
    "\n",
    "fig_status.show()"
   ]
  },
  {
   "cell_type": "code",
   "execution_count": null,
   "metadata": {
    "vscode": {
     "languageId": "plaintext"
    }
   },
   "outputs": [],
   "source": [
    "# Creëer een pie chart van de verandering van de persvrijheid rangen\n",
    "\n",
    "status_counts = pd.Series(['Verslechterd' if x < 0 else 'Verbeterd' if x > 0 else 'Gelijk gebleven' for x in eind_df['persvrijheid_verandering']]).value_counts()\n",
    "\n",
    "\n",
    "fig_status = go.Figure(data=[go.Pie(\n",
    "    labels=status_counts.index,\n",
    "    values=status_counts.values,\n",
    "    marker=dict(colors=['red', 'green', 'blue'])\n",
    ")])\n",
    "\n",
    "fig_status.update_layout(\n",
    "    title='Verandering in Persvrijheid rangschikking sinds 2019 per 2023',\n",
    "    legend_title='Status'\n",
    ")\n",
    "\n",
    "fig_status.show()"
   ]
  }
 ],
 "metadata": {
  "kernelspec": {
   "display_name": "Python 3 (ipykernel)",
   "language": "python",
   "name": "python3"
  },
  "language_info": {
   "codemirror_mode": {
    "name": "ipython",
    "version": 3
   },
   "file_extension": ".py",
   "mimetype": "text/x-python",
   "name": "python",
   "nbconvert_exporter": "python",
   "pygments_lexer": "ipython3",
   "version": "3.10.11"
  },
  "widgets": {
   "application/vnd.jupyter.widget-state+json": {
    "state": {},
    "version_major": 2,
    "version_minor": 0
   }
  }
 },
 "nbformat": 4,
 "nbformat_minor": 4
}
