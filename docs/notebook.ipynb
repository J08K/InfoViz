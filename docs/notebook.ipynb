{
 "cells": [
  {
   "cell_type": "markdown",
   "metadata": {},
   "source": [
    "# D1 - Walvisualisatie\n",
    "Noor Koevoet, Glenn de Graaff, Anne Beks, Job Kolhorn\n",
    "\n",
    "D1\n",
    "\n",
    "## Introductie\n",
    "Persvrijheid is een principe dat stelt dat de pers vrij is om te schrijven, zeggen en publiceren wat zij willen. De overheid is in beginsel verboden om censuur toe te passen en mag niet vooraf controleren wat wel of niet gezegd mag worden. In Nederland is persvrijheid, samen met het recht op meningsuiting, vastgelegd in artikel 7 van de Grondwet. Ook in andere landen en binnen Europees verband zijn er wetten die persvrijheid en vrijheid van meningsuiting beschermen.\n",
    "\n",
    "Om te verzekeren dat journalisten hun werk veilig kunnen doen, hebben zij een beschermde status van het Europese Hof voor de Rechten van de Mens (EHRM). Journalisten brengen informatie naar buiten over algemeen belangrijke zaken en zijn daarom van cruciaal belang voor de democratie. Hoewel er vrijheid is om te publiceren wat men wil, betekent dit niet dat dit onbestraft kan gebeuren. Wanneer publicaties discriminerend zijn of aanzetten tot opruiing, kan iemand aangeklaagd en veroordeeld worden. Dit gebeurt echter pas achteraf; vóór publicatie is censuur niet toegestaan.\n",
    "\n",
    "In veel landen is persvrijheid echter niet gegarandeerd. In landen met een autocratisch regime is de vrijheid van meningsuiting vaak beperkt of volledig afwezig. Ook in landen waar conflicten gaande zijn, zijn er mogelijk meerdere machten aan de leiding, of lijkt er niemand aan de macht te zijn. In zulke situaties is het moeilijk om te waarborgen dat de wet wordt nageleefd.\n",
    "\n",
    "Deze data-analyse zal onderzoeken of de mate van persvrijheid wordt beïnvloed door conflicten of de mate van democratie. Door gebruik te maken van data van Reporters Without Borders (RSF), The Armed Conflict Location & Event Data Project (ACLED) en Our World in Data, zullen we scores en ranglijsten analyseren rondom persvrijheid, democratie en conflicten wereldwijd. Het perspectief dat conflicten de persvrijheid verminderen en het perspectief dat autocratische bestuursvormen de persvrijheid verminderen, worden hier onderzocht.\n",
    "\n",
    "[Mensenrechten.nl](https://www.mensenrechten.nl/themas/vrijheid-van-meningsuiting)\n"
   ]
  },
  {
   "cell_type": "markdown",
   "metadata": {},
   "source": [
    "## Dataset and Preprocessing\n",
    "\n",
    "Tekst"
   ]
  },
  {
   "cell_type": "code",
   "execution_count": 266,
   "metadata": {
    "ExecuteTime": {
     "end_time": "2024-06-19T13:02:05.998036Z",
     "start_time": "2024-06-19T13:02:05.985534Z"
    }
   },
   "outputs": [
    {
     "data": {
      "text/html": [
       "        <script type=\"text/javascript\">\n",
       "        window.PlotlyConfig = {MathJaxConfig: 'local'};\n",
       "        if (window.MathJax && window.MathJax.Hub && window.MathJax.Hub.Config) {window.MathJax.Hub.Config({SVG: {font: \"STIX-Web\"}});}\n",
       "        if (typeof require !== 'undefined') {\n",
       "        require.undef(\"plotly\");\n",
       "        requirejs.config({\n",
       "            paths: {\n",
       "                'plotly': ['https://cdn.plot.ly/plotly-2.32.0.min']\n",
       "            }\n",
       "        });\n",
       "        require(['plotly'], function(Plotly) {\n",
       "            window._Plotly = Plotly;\n",
       "        });\n",
       "        }\n",
       "        </script>\n",
       "        "
      ]
     },
     "metadata": {},
     "output_type": "display_data"
    }
   ],
   "source": [
    "import pandas as pd\n",
    "\n",
    "import plotly.graph_objects as go\n",
    "from plotly.subplots import make_subplots\n",
    "from plotly.offline import init_notebook_mode\n",
    "import plotly.express as px\n",
    "\n",
    "import ipywidgets as widgets\n",
    "from ipywidgets import interact\n",
    "\n",
    "import numpy as np\n",
    "\n",
    "from IPython.display import display\n",
    "\n",
    "init_notebook_mode(connected=True)"
   ]
  },
  {
   "cell_type": "markdown",
   "metadata": {},
   "source": [
    "### Persvrijheid dataset\n",
    "\n",
    "Voor de persvrijheid data maken we gebruik van de datasets van Reporters Without Borders (RSF). Deze datasets bevatten informatie over de persvrijheid in verschillende landen, waaronder de persvrijheidsscore en de ranglijst van elk land. De datasets die wij gebruiken zijn van de jaren 2019 tot en met 2024.\n",
    "\n",
    "Bron: [RSF.org](https://rsf.org/en/index)\n",
    "\n",
    "Deze datasets worden eerst ingeladen en daarna waar nodig een aantal kolommen hernoemd. Kolommen zoals de de namen van landen in verschillende landen worden verwijder, omdat wij in deze opdracht alleen de Engelse namen van landen gebruiken. Uiteindelijk worden alle datasets samengevoegd tot een dataframe, deze dataframe wordt gebruikt voor de rest van de analyses bij persvrijheid."
   ]
  },
  {
   "cell_type": "markdown",
   "metadata": {},
   "source": [
    "#### Datasets samenvoegen\n",
    "\n",
    "De datasets van 2022 tot en met 2024 hebben meer data dan de datasets van 2019 tot en met 2021. Eerst worden de oude datasets gecombineerd en de nieuwe datasets gecombineerd."
   ]
  },
  {
   "cell_type": "markdown",
   "metadata": {},
   "source": [
    "##### Oude datasets"
   ]
  },
  {
   "cell_type": "code",
   "execution_count": 267,
   "metadata": {
    "ExecuteTime": {
     "end_time": "2024-06-19T13:02:06.246047Z",
     "start_time": "2024-06-19T13:02:06.216546Z"
    }
   },
   "outputs": [
    {
     "data": {
      "text/html": [
       "<div>\n",
       "<style scoped>\n",
       "    .dataframe tbody tr th:only-of-type {\n",
       "        vertical-align: middle;\n",
       "    }\n",
       "\n",
       "    .dataframe tbody tr th {\n",
       "        vertical-align: top;\n",
       "    }\n",
       "\n",
       "    .dataframe thead th {\n",
       "        text-align: right;\n",
       "    }\n",
       "</style>\n",
       "<table border=\"1\" class=\"dataframe\">\n",
       "  <thead>\n",
       "    <tr style=\"text-align: right;\">\n",
       "      <th></th>\n",
       "      <th>year</th>\n",
       "      <th>iso</th>\n",
       "      <th>rank</th>\n",
       "      <th>score</th>\n",
       "      <th>country</th>\n",
       "    </tr>\n",
       "  </thead>\n",
       "  <tbody>\n",
       "    <tr>\n",
       "      <th>0</th>\n",
       "      <td>2019</td>\n",
       "      <td>NOR</td>\n",
       "      <td>1</td>\n",
       "      <td>92,18</td>\n",
       "      <td>Norway</td>\n",
       "    </tr>\n",
       "    <tr>\n",
       "      <th>1</th>\n",
       "      <td>2019</td>\n",
       "      <td>FIN</td>\n",
       "      <td>2</td>\n",
       "      <td>92,1</td>\n",
       "      <td>Finland</td>\n",
       "    </tr>\n",
       "    <tr>\n",
       "      <th>2</th>\n",
       "      <td>2019</td>\n",
       "      <td>SWE</td>\n",
       "      <td>3</td>\n",
       "      <td>91,69</td>\n",
       "      <td>Sweden</td>\n",
       "    </tr>\n",
       "    <tr>\n",
       "      <th>3</th>\n",
       "      <td>2019</td>\n",
       "      <td>NLD</td>\n",
       "      <td>4</td>\n",
       "      <td>91,37</td>\n",
       "      <td>Netherlands</td>\n",
       "    </tr>\n",
       "    <tr>\n",
       "      <th>4</th>\n",
       "      <td>2019</td>\n",
       "      <td>DNK</td>\n",
       "      <td>5</td>\n",
       "      <td>90,13</td>\n",
       "      <td>Denmark</td>\n",
       "    </tr>\n",
       "  </tbody>\n",
       "</table>\n",
       "</div>"
      ],
      "text/plain": [
       "   year  iso  rank  score      country\n",
       "0  2019  NOR     1  92,18       Norway\n",
       "1  2019  FIN     2   92,1      Finland\n",
       "2  2019  SWE     3  91,69       Sweden\n",
       "3  2019  NLD     4  91,37  Netherlands\n",
       "4  2019  DNK     5  90,13      Denmark"
      ]
     },
     "metadata": {},
     "output_type": "display_data"
    }
   ],
   "source": [
    "press_freedom_old = pd.concat([\n",
    "    pd.read_csv('./data/persvrijheid/2019.csv', sep=';'),\n",
    "    pd.read_csv('./data/persvrijheid/2020.csv', sep=';'),\n",
    "    pd.read_csv('./data/persvrijheid/2021.csv', sep=';'),\n",
    "])\n",
    "\n",
    "# Rename columns so they're easier to use.\n",
    "press_freedom_old = press_freedom_old.rename(\n",
    "    columns={\n",
    "        \"Year (N)\": \"year\",\n",
    "        \"ISO\": \"iso\",\n",
    "        \"EN_country\": \"country\",\n",
    "        \"Rank N\": \"rank\",\n",
    "        \"Score N\": \"score\",\n",
    "    })\n",
    "\n",
    "# Remove columns that are not needed.\n",
    "press_freedom_old = press_freedom_old.drop(columns=[\n",
    "    \"Score N without the exactions\",\n",
    "    \"Score N with the exactions\",\n",
    "    \"Rank N-1\",\n",
    "    \"Rank evolution\",\n",
    "    \"Score exactions\",\n",
    "    \"Score N-1\",\n",
    "    \"Zone\", # Need to drop this, since data in this column from 2022 is different than everywhere else.\n",
    "])\n",
    "\n",
    "# Remove all other country names except 'country'.\n",
    "press_freedom_old = press_freedom_old.drop(columns=[\n",
    "    col\n",
    "    for col in press_freedom_old.columns\n",
    "    if \"country\" in col.lower() and col != \"country\"\n",
    "])\n",
    "\n",
    "display(press_freedom_old.head())\n"
   ]
  },
  {
   "cell_type": "markdown",
   "metadata": {},
   "source": [
    "##### Nieuwe datasets"
   ]
  },
  {
   "cell_type": "code",
   "execution_count": 268,
   "metadata": {
    "ExecuteTime": {
     "end_time": "2024-06-19T13:02:06.277049Z",
     "start_time": "2024-06-19T13:02:06.251547Z"
    }
   },
   "outputs": [
    {
     "data": {
      "text/html": [
       "<div>\n",
       "<style scoped>\n",
       "    .dataframe tbody tr th:only-of-type {\n",
       "        vertical-align: middle;\n",
       "    }\n",
       "\n",
       "    .dataframe tbody tr th {\n",
       "        vertical-align: top;\n",
       "    }\n",
       "\n",
       "    .dataframe thead th {\n",
       "        text-align: right;\n",
       "    }\n",
       "</style>\n",
       "<table border=\"1\" class=\"dataframe\">\n",
       "  <thead>\n",
       "    <tr style=\"text-align: right;\">\n",
       "      <th></th>\n",
       "      <th>iso</th>\n",
       "      <th>score</th>\n",
       "      <th>rank</th>\n",
       "      <th>country</th>\n",
       "      <th>year</th>\n",
       "    </tr>\n",
       "  </thead>\n",
       "  <tbody>\n",
       "    <tr>\n",
       "      <th>0</th>\n",
       "      <td>NOR</td>\n",
       "      <td>92,65</td>\n",
       "      <td>1</td>\n",
       "      <td>Norway</td>\n",
       "      <td>2022</td>\n",
       "    </tr>\n",
       "    <tr>\n",
       "      <th>1</th>\n",
       "      <td>DNK</td>\n",
       "      <td>90,27</td>\n",
       "      <td>2</td>\n",
       "      <td>Denmark</td>\n",
       "      <td>2022</td>\n",
       "    </tr>\n",
       "    <tr>\n",
       "      <th>2</th>\n",
       "      <td>SWE</td>\n",
       "      <td>88,84</td>\n",
       "      <td>3</td>\n",
       "      <td>Sweden</td>\n",
       "      <td>2022</td>\n",
       "    </tr>\n",
       "    <tr>\n",
       "      <th>3</th>\n",
       "      <td>EST</td>\n",
       "      <td>88,83</td>\n",
       "      <td>4</td>\n",
       "      <td>Estonia</td>\n",
       "      <td>2022</td>\n",
       "    </tr>\n",
       "    <tr>\n",
       "      <th>4</th>\n",
       "      <td>FIN</td>\n",
       "      <td>88,42</td>\n",
       "      <td>5</td>\n",
       "      <td>Finland</td>\n",
       "      <td>2022</td>\n",
       "    </tr>\n",
       "  </tbody>\n",
       "</table>\n",
       "</div>"
      ],
      "text/plain": [
       "   iso  score  rank  country  year\n",
       "0  NOR  92,65     1   Norway  2022\n",
       "1  DNK  90,27     2  Denmark  2022\n",
       "2  SWE  88,84     3   Sweden  2022\n",
       "3  EST  88,83     4  Estonia  2022\n",
       "4  FIN  88,42     5  Finland  2022"
      ]
     },
     "metadata": {},
     "output_type": "display_data"
    }
   ],
   "source": [
    "press_freedom_new = pd.concat([\n",
    "    pd.read_csv('./data/persvrijheid/2022.csv', sep=';'),\n",
    "    pd.read_csv('./data/persvrijheid/2023.csv', sep=';'),\n",
    "    pd.read_csv('./data/persvrijheid/2024.csv', sep=';'),\n",
    "])\n",
    "\n",
    "# Rename columns so they're easier to use.\n",
    "press_freedom_new = press_freedom_new.rename(\n",
    "    columns={\n",
    "        \"Year (N)\": \"year\",\n",
    "        \"ISO\": \"iso\",\n",
    "        \"Country_EN\": \"country\",\n",
    "        \"Rank\": \"rank\",\n",
    "        \"Score\": \"score\",\n",
    "    })\n",
    "\n",
    "# Remove columns that are not needed.\n",
    "press_freedom_new = press_freedom_new.drop(columns=[\n",
    "    \"Political Context\", \"Rank_Pol\",\n",
    "    \"Economic Context\", \"Rank_Eco\",\n",
    "    \"Legal Context\", \"Rank_Leg\",\n",
    "    \"Social Context\", \"Rank_Soc\",\n",
    "    \"Safety\", \"Rank_Saf\",\n",
    "    \"Rank N-1\",\n",
    "    \"Rank evolution\",\n",
    "    \"Score N-1\",\n",
    "    \"Score evolution\",\n",
    "    \"Situation\",\n",
    "    \"Zone\", # Need to drop this, since data in this column from 2022 is different than everywhere else.\n",
    "])\n",
    "\n",
    "# Remove all other country names except 'country'.\n",
    "press_freedom_new = press_freedom_new.drop(columns=[\n",
    "    col\n",
    "    for col in press_freedom_new.columns\n",
    "    if \"country\" in col.lower() and col != \"country\"\n",
    "])\n",
    "\n",
    "display(press_freedom_new.head())"
   ]
  },
  {
   "cell_type": "markdown",
   "metadata": {},
   "source": [
    "##### Datasets combineren"
   ]
  },
  {
   "cell_type": "code",
   "execution_count": 269,
   "metadata": {
    "ExecuteTime": {
     "end_time": "2024-06-19T13:02:06.354554Z",
     "start_time": "2024-06-19T13:02:06.335051Z"
    }
   },
   "outputs": [
    {
     "data": {
      "text/html": [
       "<div>\n",
       "<style scoped>\n",
       "    .dataframe tbody tr th:only-of-type {\n",
       "        vertical-align: middle;\n",
       "    }\n",
       "\n",
       "    .dataframe tbody tr th {\n",
       "        vertical-align: top;\n",
       "    }\n",
       "\n",
       "    .dataframe thead th {\n",
       "        text-align: right;\n",
       "    }\n",
       "</style>\n",
       "<table border=\"1\" class=\"dataframe\">\n",
       "  <thead>\n",
       "    <tr style=\"text-align: right;\">\n",
       "      <th></th>\n",
       "      <th>year</th>\n",
       "      <th>iso</th>\n",
       "      <th>rank</th>\n",
       "      <th>score</th>\n",
       "      <th>country</th>\n",
       "    </tr>\n",
       "  </thead>\n",
       "  <tbody>\n",
       "    <tr>\n",
       "      <th>0</th>\n",
       "      <td>2019</td>\n",
       "      <td>NOR</td>\n",
       "      <td>1</td>\n",
       "      <td>92,18</td>\n",
       "      <td>Norway</td>\n",
       "    </tr>\n",
       "    <tr>\n",
       "      <th>1</th>\n",
       "      <td>2019</td>\n",
       "      <td>FIN</td>\n",
       "      <td>2</td>\n",
       "      <td>92,1</td>\n",
       "      <td>Finland</td>\n",
       "    </tr>\n",
       "    <tr>\n",
       "      <th>2</th>\n",
       "      <td>2019</td>\n",
       "      <td>SWE</td>\n",
       "      <td>3</td>\n",
       "      <td>91,69</td>\n",
       "      <td>Sweden</td>\n",
       "    </tr>\n",
       "    <tr>\n",
       "      <th>3</th>\n",
       "      <td>2019</td>\n",
       "      <td>NLD</td>\n",
       "      <td>4</td>\n",
       "      <td>91,37</td>\n",
       "      <td>Netherlands</td>\n",
       "    </tr>\n",
       "    <tr>\n",
       "      <th>4</th>\n",
       "      <td>2019</td>\n",
       "      <td>DNK</td>\n",
       "      <td>5</td>\n",
       "      <td>90,13</td>\n",
       "      <td>Denmark</td>\n",
       "    </tr>\n",
       "    <tr>\n",
       "      <th>...</th>\n",
       "      <td>...</td>\n",
       "      <td>...</td>\n",
       "      <td>...</td>\n",
       "      <td>...</td>\n",
       "      <td>...</td>\n",
       "    </tr>\n",
       "    <tr>\n",
       "      <th>175</th>\n",
       "      <td>2024</td>\n",
       "      <td>IRN</td>\n",
       "      <td>176</td>\n",
       "      <td>21,3</td>\n",
       "      <td>Iran</td>\n",
       "    </tr>\n",
       "    <tr>\n",
       "      <th>176</th>\n",
       "      <td>2024</td>\n",
       "      <td>PRK</td>\n",
       "      <td>177</td>\n",
       "      <td>20,66</td>\n",
       "      <td>North Korea</td>\n",
       "    </tr>\n",
       "    <tr>\n",
       "      <th>177</th>\n",
       "      <td>2024</td>\n",
       "      <td>AFG</td>\n",
       "      <td>178</td>\n",
       "      <td>19,09</td>\n",
       "      <td>Afghanistan</td>\n",
       "    </tr>\n",
       "    <tr>\n",
       "      <th>178</th>\n",
       "      <td>2024</td>\n",
       "      <td>SYR</td>\n",
       "      <td>179</td>\n",
       "      <td>17,41</td>\n",
       "      <td>Syria</td>\n",
       "    </tr>\n",
       "    <tr>\n",
       "      <th>179</th>\n",
       "      <td>2024</td>\n",
       "      <td>ERI</td>\n",
       "      <td>180</td>\n",
       "      <td>16,64</td>\n",
       "      <td>Eritrea</td>\n",
       "    </tr>\n",
       "  </tbody>\n",
       "</table>\n",
       "<p>1080 rows × 5 columns</p>\n",
       "</div>"
      ],
      "text/plain": [
       "     year  iso  rank  score      country\n",
       "0    2019  NOR     1  92,18       Norway\n",
       "1    2019  FIN     2   92,1      Finland\n",
       "2    2019  SWE     3  91,69       Sweden\n",
       "3    2019  NLD     4  91,37  Netherlands\n",
       "4    2019  DNK     5  90,13      Denmark\n",
       "..    ...  ...   ...    ...          ...\n",
       "175  2024  IRN   176   21,3         Iran\n",
       "176  2024  PRK   177  20,66  North Korea\n",
       "177  2024  AFG   178  19,09  Afghanistan\n",
       "178  2024  SYR   179  17,41        Syria\n",
       "179  2024  ERI   180  16,64      Eritrea\n",
       "\n",
       "[1080 rows x 5 columns]"
      ]
     },
     "metadata": {},
     "output_type": "display_data"
    }
   ],
   "source": [
    "press_freedom_df = pd.concat([press_freedom_old, press_freedom_new])\n",
    "\n",
    "display(press_freedom_df)"
   ]
  },
  {
   "cell_type": "markdown",
   "metadata": {},
   "source": [
    "### Democratie dataset\n",
    "\n",
    "Voor de democratie data maken we gebruik van de datasets van Our World in Data. Deze datasets bevatten informatie over de democratie in verschillende landen, waaronder de democratie score en de ranglijst van elk land. De datasets die wij gebruiken heeft data vanaf het jaar 2019 tot en met 2023.\n",
    "\n",
    "Bron: [OurWorldInData.org](https://ourworldindata.org/grapher/democracy-index-eiu?tab=table&time=earliest..2023)\n",
    "\n",
    "Deze datasets worden eerst ingeladen en daarna waar nodig een aantal kolommen hernoemd. Uiteindelijk worden alle datasets samengevoegd tot een dataframe, deze dataframe wordt gebruikt voor de rest van de analyses bij democratie."
   ]
  },
  {
   "cell_type": "code",
   "execution_count": 271,
   "metadata": {
    "ExecuteTime": {
     "end_time": "2024-06-19T13:02:06.447558Z",
     "start_time": "2024-06-19T13:02:06.437059Z"
    }
   },
   "outputs": [],
   "source": [
    "democracy_df = pd.read_csv('./data/democracy.csv')\n",
    "\n",
    "# Rename columns so they're easier to use.\n",
    "democracy_df = democracy_df.rename(\n",
    "    columns={\n",
    "        \"Entity\": \"country\",\n",
    "        \"Code\": \"iso\",\n",
    "        \"Year\": \"year\",\n",
    "        \"Democracy score\": \"score\",\n",
    "    })\n",
    "\n",
    "# Remove data from years previous to 2019.\n",
    "democracy_df = democracy_df[democracy_df[\"year\"] >= 2019]"
   ]
  },
  {
   "cell_type": "markdown",
   "metadata": {},
   "source": [
    "#### Democratie ranken\n",
    "\n",
    "Ieder land krijgt een ranking gebaseerd op de democratie score. Landen met een hogere score krijgen een lagere ranking. Landen met dezelfde score krijgen dezelfde ranking. Per jaar wordt de ranking van de landen opnieuw berekend."
   ]
  },
  {
   "cell_type": "code",
   "execution_count": 272,
   "metadata": {
    "ExecuteTime": {
     "end_time": "2024-06-19T13:02:06.525060Z",
     "start_time": "2024-06-19T13:02:06.507560Z"
    }
   },
   "outputs": [],
   "source": [
    "def rank_countries_per_year(data: pd.DataFrame) -> pd.DataFrame:\n",
    "    new_data = data.copy()\n",
    "    \n",
    "    # Get a sorted list of unique scores for each year.\n",
    "    unique_scores = {\n",
    "        year: sorted(\n",
    "            list(new_data[new_data[\"year\"] == year][\"score\"].unique()),\n",
    "            reverse=True,\n",
    "        )\n",
    "        for year in new_data[\"year\"].unique()\n",
    "    }\n",
    "\n",
    "    # Calculate the ranking for each country based on the unique scores from that year.\n",
    "    new_data[\"ranking\"] = new_data.apply(\n",
    "        lambda x: unique_scores[x[\"year\"]].index(x[\"score\"]) + 1,\n",
    "        axis=1,\n",
    "    )\n",
    "    \n",
    "    return new_data\n",
    "\n",
    "democracy_df = rank_countries_per_year(democracy_df)\n",
    "democracy_df = democracy_df.sort_values(\n",
    "    by=[\"year\", \"score\"],\n",
    "    ascending=False\n",
    ").reset_index().drop(columns=[\"index\"])"
   ]
  },
  {
   "cell_type": "markdown",
   "metadata": {},
   "source": [
    "#### Persvrijheid en Democratie data combineren\n",
    "\n",
    "De data van de democratie en persvrijheid worden samengevoegd tot één dataframe. Deze dataframe wordt gebruikt voor de rest van de analyses."
   ]
  },
  {
   "cell_type": "code",
   "execution_count": 273,
   "metadata": {
    "ExecuteTime": {
     "end_time": "2024-06-19T13:02:06.618066Z",
     "start_time": "2024-06-19T13:02:06.591564Z"
    }
   },
   "outputs": [
    {
     "data": {
      "text/html": [
       "<div>\n",
       "<style scoped>\n",
       "    .dataframe tbody tr th:only-of-type {\n",
       "        vertical-align: middle;\n",
       "    }\n",
       "\n",
       "    .dataframe tbody tr th {\n",
       "        vertical-align: top;\n",
       "    }\n",
       "\n",
       "    .dataframe thead th {\n",
       "        text-align: right;\n",
       "    }\n",
       "</style>\n",
       "<table border=\"1\" class=\"dataframe\">\n",
       "  <thead>\n",
       "    <tr style=\"text-align: right;\">\n",
       "      <th></th>\n",
       "      <th>country</th>\n",
       "      <th>iso</th>\n",
       "      <th>year</th>\n",
       "      <th>democracy_score</th>\n",
       "      <th>democracy_ranking</th>\n",
       "      <th>press_freedom_ranking</th>\n",
       "      <th>press_freedom_score</th>\n",
       "    </tr>\n",
       "  </thead>\n",
       "  <tbody>\n",
       "    <tr>\n",
       "      <th>0</th>\n",
       "      <td>Norway</td>\n",
       "      <td>NOR</td>\n",
       "      <td>2023</td>\n",
       "      <td>9.81</td>\n",
       "      <td>1</td>\n",
       "      <td>1</td>\n",
       "      <td>95,18</td>\n",
       "    </tr>\n",
       "    <tr>\n",
       "      <th>1</th>\n",
       "      <td>New Zealand</td>\n",
       "      <td>NZL</td>\n",
       "      <td>2023</td>\n",
       "      <td>9.61</td>\n",
       "      <td>2</td>\n",
       "      <td>13</td>\n",
       "      <td>84,23</td>\n",
       "    </tr>\n",
       "    <tr>\n",
       "      <th>2</th>\n",
       "      <td>Iceland</td>\n",
       "      <td>ISL</td>\n",
       "      <td>2023</td>\n",
       "      <td>9.45</td>\n",
       "      <td>3</td>\n",
       "      <td>18</td>\n",
       "      <td>83,19</td>\n",
       "    </tr>\n",
       "    <tr>\n",
       "      <th>3</th>\n",
       "      <td>Sweden</td>\n",
       "      <td>SWE</td>\n",
       "      <td>2023</td>\n",
       "      <td>9.39</td>\n",
       "      <td>4</td>\n",
       "      <td>4</td>\n",
       "      <td>88,15</td>\n",
       "    </tr>\n",
       "    <tr>\n",
       "      <th>4</th>\n",
       "      <td>Finland</td>\n",
       "      <td>FIN</td>\n",
       "      <td>2023</td>\n",
       "      <td>9.30</td>\n",
       "      <td>5</td>\n",
       "      <td>5</td>\n",
       "      <td>87,94</td>\n",
       "    </tr>\n",
       "    <tr>\n",
       "      <th>...</th>\n",
       "      <td>...</td>\n",
       "      <td>...</td>\n",
       "      <td>...</td>\n",
       "      <td>...</td>\n",
       "      <td>...</td>\n",
       "      <td>...</td>\n",
       "      <td>...</td>\n",
       "    </tr>\n",
       "    <tr>\n",
       "      <th>811</th>\n",
       "      <td>Chad</td>\n",
       "      <td>TCD</td>\n",
       "      <td>2019</td>\n",
       "      <td>1.61</td>\n",
       "      <td>151</td>\n",
       "      <td>122</td>\n",
       "      <td>63,29</td>\n",
       "    </tr>\n",
       "    <tr>\n",
       "      <th>812</th>\n",
       "      <td>Syria</td>\n",
       "      <td>SYR</td>\n",
       "      <td>2019</td>\n",
       "      <td>1.43</td>\n",
       "      <td>152</td>\n",
       "      <td>174</td>\n",
       "      <td>28,22</td>\n",
       "    </tr>\n",
       "    <tr>\n",
       "      <th>813</th>\n",
       "      <td>Central African Republic</td>\n",
       "      <td>CAF</td>\n",
       "      <td>2019</td>\n",
       "      <td>1.32</td>\n",
       "      <td>153</td>\n",
       "      <td>145</td>\n",
       "      <td>52,73</td>\n",
       "    </tr>\n",
       "    <tr>\n",
       "      <th>814</th>\n",
       "      <td>Democratic Republic of Congo</td>\n",
       "      <td>COD</td>\n",
       "      <td>2019</td>\n",
       "      <td>1.13</td>\n",
       "      <td>154</td>\n",
       "      <td>154</td>\n",
       "      <td>48,29</td>\n",
       "    </tr>\n",
       "    <tr>\n",
       "      <th>815</th>\n",
       "      <td>North Korea</td>\n",
       "      <td>PRK</td>\n",
       "      <td>2019</td>\n",
       "      <td>1.08</td>\n",
       "      <td>155</td>\n",
       "      <td>179</td>\n",
       "      <td>16,6</td>\n",
       "    </tr>\n",
       "  </tbody>\n",
       "</table>\n",
       "<p>816 rows × 7 columns</p>\n",
       "</div>"
      ],
      "text/plain": [
       "                          country  iso  year  democracy_score  \\\n",
       "0                          Norway  NOR  2023             9.81   \n",
       "1                     New Zealand  NZL  2023             9.61   \n",
       "2                         Iceland  ISL  2023             9.45   \n",
       "3                          Sweden  SWE  2023             9.39   \n",
       "4                         Finland  FIN  2023             9.30   \n",
       "..                            ...  ...   ...              ...   \n",
       "811                          Chad  TCD  2019             1.61   \n",
       "812                         Syria  SYR  2019             1.43   \n",
       "813      Central African Republic  CAF  2019             1.32   \n",
       "814  Democratic Republic of Congo  COD  2019             1.13   \n",
       "815                   North Korea  PRK  2019             1.08   \n",
       "\n",
       "     democracy_ranking  press_freedom_ranking press_freedom_score  \n",
       "0                    1                      1               95,18  \n",
       "1                    2                     13               84,23  \n",
       "2                    3                     18               83,19  \n",
       "3                    4                      4               88,15  \n",
       "4                    5                      5               87,94  \n",
       "..                 ...                    ...                 ...  \n",
       "811                151                    122               63,29  \n",
       "812                152                    174               28,22  \n",
       "813                153                    145               52,73  \n",
       "814                154                    154               48,29  \n",
       "815                155                    179                16,6  \n",
       "\n",
       "[816 rows x 7 columns]"
      ]
     },
     "metadata": {},
     "output_type": "display_data"
    }
   ],
   "source": [
    "dem_press_df = pd.merge(\n",
    "    democracy_df,\n",
    "    press_freedom_df,\n",
    "    on=['iso', \"year\"],\n",
    "    how='inner',\n",
    "    suffixes=(\"_dem\", \"_press\")\n",
    ")\n",
    "\n",
    "dem_press_df = dem_press_df.drop(columns=[\n",
    "    \"country_press\",\n",
    "])\n",
    "\n",
    "dem_press_df = dem_press_df.rename(columns={\n",
    "    \"country_dem\": \"country\",\n",
    "    \"score_dem\": \"democracy_score\",\n",
    "    \"score_press\": \"press_freedom_score\",\n",
    "    \"ranking\": \"democracy_ranking\",\n",
    "    \"rank\": \"press_freedom_ranking\",\n",
    "})\n",
    "\n",
    "display(dem_press_df)"
   ]
  },
  {
   "cell_type": "markdown",
   "metadata": {},
   "source": []
  },
  {
   "cell_type": "markdown",
   "metadata": {},
   "source": [
    "### Conflict dataset\n",
    "\n",
    "Voor de conflict data maken we gebruik van de datasets van The Armed Conflict Location & Event Data Project (ACLED). Deze datasets bevatten informatie over conflicten in verschillende landen, waaronder de conflict index ranking van elk land. De dataset die wij gebruiken heeft data vanaf het jaar 2023, en vergelijkt de data van een land met de data van het land uit 2019.\n",
    "\n",
    "Bron: [ACLEDdata.com](https://acleddata.com/conflict-index/#download)\n",
    "\n",
    "Deze dataset wordt eerst ingeladen en daarna waar nodig een aantal kolommen hernoemd. Uiteindelijk wordt de dataset gebruikt voor de rest van de analyses bij conflicten."
   ]
  },
  {
   "cell_type": "code",
   "execution_count": 324,
   "metadata": {
    "ExecuteTime": {
     "end_time": "2024-06-19T14:24:56.168610Z",
     "start_time": "2024-06-19T14:24:56.140610Z"
    }
   },
   "outputs": [
    {
     "data": {
      "text/plain": [
       "Index(['country', 'conflict_ranking', 'conflict_category',\n",
       "       'conflict_ranking_change', 'conflict_ranking_2019'],\n",
       "      dtype='object')"
      ]
     },
     "metadata": {},
     "output_type": "display_data"
    },
    {
     "data": {
      "text/html": [
       "<div>\n",
       "<style scoped>\n",
       "    .dataframe tbody tr th:only-of-type {\n",
       "        vertical-align: middle;\n",
       "    }\n",
       "\n",
       "    .dataframe tbody tr th {\n",
       "        vertical-align: top;\n",
       "    }\n",
       "\n",
       "    .dataframe thead th {\n",
       "        text-align: right;\n",
       "    }\n",
       "</style>\n",
       "<table border=\"1\" class=\"dataframe\">\n",
       "  <thead>\n",
       "    <tr style=\"text-align: right;\">\n",
       "      <th></th>\n",
       "      <th>country</th>\n",
       "      <th>conflict_ranking</th>\n",
       "      <th>conflict_category</th>\n",
       "      <th>conflict_ranking_change</th>\n",
       "      <th>conflict_ranking_2019</th>\n",
       "    </tr>\n",
       "  </thead>\n",
       "  <tbody>\n",
       "    <tr>\n",
       "      <th>0</th>\n",
       "      <td>Myanmar</td>\n",
       "      <td>1</td>\n",
       "      <td>Extreme</td>\n",
       "      <td>17</td>\n",
       "      <td>18</td>\n",
       "    </tr>\n",
       "    <tr>\n",
       "      <th>1</th>\n",
       "      <td>Syria</td>\n",
       "      <td>2</td>\n",
       "      <td>Extreme</td>\n",
       "      <td>-1</td>\n",
       "      <td>1</td>\n",
       "    </tr>\n",
       "    <tr>\n",
       "      <th>2</th>\n",
       "      <td>Palestine</td>\n",
       "      <td>3</td>\n",
       "      <td>Extreme</td>\n",
       "      <td>20</td>\n",
       "      <td>23</td>\n",
       "    </tr>\n",
       "    <tr>\n",
       "      <th>3</th>\n",
       "      <td>Mexico</td>\n",
       "      <td>4</td>\n",
       "      <td>Extreme</td>\n",
       "      <td>-1</td>\n",
       "      <td>3</td>\n",
       "    </tr>\n",
       "    <tr>\n",
       "      <th>4</th>\n",
       "      <td>Nigeria</td>\n",
       "      <td>5</td>\n",
       "      <td>Extreme</td>\n",
       "      <td>6</td>\n",
       "      <td>11</td>\n",
       "    </tr>\n",
       "  </tbody>\n",
       "</table>\n",
       "</div>"
      ],
      "text/plain": [
       "     country  conflict_ranking conflict_category  conflict_ranking_change  \\\n",
       "0    Myanmar                 1           Extreme                       17   \n",
       "1      Syria                 2           Extreme                       -1   \n",
       "2  Palestine                 3           Extreme                       20   \n",
       "3     Mexico                 4           Extreme                       -1   \n",
       "4    Nigeria                 5           Extreme                        6   \n",
       "\n",
       "   conflict_ranking_2019  \n",
       "0                     18  \n",
       "1                      1  \n",
       "2                     23  \n",
       "3                      3  \n",
       "4                     11  "
      ]
     },
     "metadata": {},
     "output_type": "display_data"
    }
   ],
   "source": [
    "conflict_df = pd.read_csv('./data/conflict.csv')\n",
    "\n",
    "# Rename columns so they're easier to use.\n",
    "conflict_df = conflict_df.rename(columns={\n",
    "    \"Index Ranking 2023\": \"conflict_ranking\",\n",
    "    \"Index Category 2023\": \"conflict_category\",\n",
    "    \"Change in ranking since 2019\": \"conflict_ranking_change\",\n",
    "})\n",
    "\n",
    "conflict_df = conflict_df[[\n",
    "    'country',\n",
    "    'conflict_ranking',\n",
    "    \"conflict_category\",\n",
    "    \"conflict_ranking_change\",\n",
    "]]\n",
    "\n",
    "conflict_df[\"conflict_ranking_2019\"] = conflict_df[\"conflict_ranking\"] + conflict_df[\"conflict_ranking_change\"]\n",
    "\n",
    "display(conflict_df.columns)\n",
    "display(conflict_df.head())"
   ]
  },
  {
   "cell_type": "code",
   "execution_count": 335,
   "metadata": {
    "ExecuteTime": {
     "end_time": "2024-06-19T14:41:55.606971Z",
     "start_time": "2024-06-19T14:41:55.591970Z"
    }
   },
   "outputs": [
    {
     "data": {
      "text/html": [
       "<div>\n",
       "<style scoped>\n",
       "    .dataframe tbody tr th:only-of-type {\n",
       "        vertical-align: middle;\n",
       "    }\n",
       "\n",
       "    .dataframe tbody tr th {\n",
       "        vertical-align: top;\n",
       "    }\n",
       "\n",
       "    .dataframe thead th {\n",
       "        text-align: right;\n",
       "    }\n",
       "</style>\n",
       "<table border=\"1\" class=\"dataframe\">\n",
       "  <thead>\n",
       "    <tr style=\"text-align: right;\">\n",
       "      <th></th>\n",
       "      <th>country</th>\n",
       "      <th>conflict_ranking</th>\n",
       "      <th>conflict_category</th>\n",
       "      <th>conflict_ranking_change</th>\n",
       "      <th>conflict_ranking_2019</th>\n",
       "      <th>color</th>\n",
       "    </tr>\n",
       "  </thead>\n",
       "  <tbody>\n",
       "    <tr>\n",
       "      <th>0</th>\n",
       "      <td>Myanmar</td>\n",
       "      <td>1</td>\n",
       "      <td>Extreme</td>\n",
       "      <td>17</td>\n",
       "      <td>18</td>\n",
       "      <td>red</td>\n",
       "    </tr>\n",
       "    <tr>\n",
       "      <th>1</th>\n",
       "      <td>Syria</td>\n",
       "      <td>2</td>\n",
       "      <td>Extreme</td>\n",
       "      <td>-1</td>\n",
       "      <td>1</td>\n",
       "      <td>red</td>\n",
       "    </tr>\n",
       "    <tr>\n",
       "      <th>2</th>\n",
       "      <td>Palestine</td>\n",
       "      <td>3</td>\n",
       "      <td>Extreme</td>\n",
       "      <td>20</td>\n",
       "      <td>23</td>\n",
       "      <td>red</td>\n",
       "    </tr>\n",
       "    <tr>\n",
       "      <th>3</th>\n",
       "      <td>Mexico</td>\n",
       "      <td>4</td>\n",
       "      <td>Extreme</td>\n",
       "      <td>-1</td>\n",
       "      <td>3</td>\n",
       "      <td>red</td>\n",
       "    </tr>\n",
       "    <tr>\n",
       "      <th>4</th>\n",
       "      <td>Nigeria</td>\n",
       "      <td>5</td>\n",
       "      <td>Extreme</td>\n",
       "      <td>6</td>\n",
       "      <td>11</td>\n",
       "      <td>red</td>\n",
       "    </tr>\n",
       "  </tbody>\n",
       "</table>\n",
       "</div>"
      ],
      "text/plain": [
       "     country  conflict_ranking conflict_category  conflict_ranking_change  \\\n",
       "0    Myanmar                 1           Extreme                       17   \n",
       "1      Syria                 2           Extreme                       -1   \n",
       "2  Palestine                 3           Extreme                       20   \n",
       "3     Mexico                 4           Extreme                       -1   \n",
       "4    Nigeria                 5           Extreme                        6   \n",
       "\n",
       "   conflict_ranking_2019 color  \n",
       "0                     18   red  \n",
       "1                      1   red  \n",
       "2                     23   red  \n",
       "3                      3   red  \n",
       "4                     11   red  "
      ]
     },
     "metadata": {},
     "output_type": "display_data"
    }
   ],
   "source": [
    "# Give the countries a color based on their conflict ranking\n",
    "def determine_color(conflict_rank: int):\n",
    "    if conflict_rank <= 10:\n",
    "        return 'red'\n",
    "    elif conflict_rank <= 30:\n",
    "        return 'orange'\n",
    "    elif conflict_rank <= 50:\n",
    "        return 'yellow'\n",
    "    else:\n",
    "        return 'blue'\n",
    "\n",
    "conflict_df['color'] = conflict_df['conflict_ranking'].apply(determine_color)\n",
    "\n",
    "display(conflict_df.head())"
   ]
  },
  {
   "cell_type": "markdown",
   "metadata": {},
   "source": [
    "#### Persvrijheid en Conflict data combineren"
   ]
  },
  {
   "cell_type": "code",
   "execution_count": 336,
   "metadata": {
    "ExecuteTime": {
     "end_time": "2024-06-19T14:41:59.816014Z",
     "start_time": "2024-06-19T14:41:59.791036Z"
    }
   },
   "outputs": [
    {
     "data": {
      "text/html": [
       "<div>\n",
       "<style scoped>\n",
       "    .dataframe tbody tr th:only-of-type {\n",
       "        vertical-align: middle;\n",
       "    }\n",
       "\n",
       "    .dataframe tbody tr th {\n",
       "        vertical-align: top;\n",
       "    }\n",
       "\n",
       "    .dataframe thead th {\n",
       "        text-align: right;\n",
       "    }\n",
       "</style>\n",
       "<table border=\"1\" class=\"dataframe\">\n",
       "  <thead>\n",
       "    <tr style=\"text-align: right;\">\n",
       "      <th></th>\n",
       "      <th>year</th>\n",
       "      <th>iso</th>\n",
       "      <th>press_freedom_ranking</th>\n",
       "      <th>press_freedom_score</th>\n",
       "      <th>country</th>\n",
       "      <th>conflict_ranking</th>\n",
       "      <th>conflict_category</th>\n",
       "      <th>conflict_ranking_change</th>\n",
       "      <th>conflict_ranking_2019</th>\n",
       "      <th>conflict_color</th>\n",
       "    </tr>\n",
       "  </thead>\n",
       "  <tbody>\n",
       "    <tr>\n",
       "      <th>0</th>\n",
       "      <td>2023</td>\n",
       "      <td>NOR</td>\n",
       "      <td>1</td>\n",
       "      <td>95,18</td>\n",
       "      <td>Norway</td>\n",
       "      <td>146</td>\n",
       "      <td>Low/Inactive</td>\n",
       "      <td>-13</td>\n",
       "      <td>133</td>\n",
       "      <td>blue</td>\n",
       "    </tr>\n",
       "    <tr>\n",
       "      <th>1</th>\n",
       "      <td>2023</td>\n",
       "      <td>IRL</td>\n",
       "      <td>2</td>\n",
       "      <td>89,91</td>\n",
       "      <td>Ireland</td>\n",
       "      <td>140</td>\n",
       "      <td>Low/Inactive</td>\n",
       "      <td>-7</td>\n",
       "      <td>133</td>\n",
       "      <td>blue</td>\n",
       "    </tr>\n",
       "    <tr>\n",
       "      <th>2</th>\n",
       "      <td>2023</td>\n",
       "      <td>DNK</td>\n",
       "      <td>3</td>\n",
       "      <td>89,48</td>\n",
       "      <td>Denmark</td>\n",
       "      <td>163</td>\n",
       "      <td>Low/Inactive</td>\n",
       "      <td>-30</td>\n",
       "      <td>133</td>\n",
       "      <td>blue</td>\n",
       "    </tr>\n",
       "    <tr>\n",
       "      <th>3</th>\n",
       "      <td>2023</td>\n",
       "      <td>SWE</td>\n",
       "      <td>4</td>\n",
       "      <td>88,15</td>\n",
       "      <td>Sweden</td>\n",
       "      <td>140</td>\n",
       "      <td>Low/Inactive</td>\n",
       "      <td>-7</td>\n",
       "      <td>133</td>\n",
       "      <td>blue</td>\n",
       "    </tr>\n",
       "    <tr>\n",
       "      <th>4</th>\n",
       "      <td>2023</td>\n",
       "      <td>FIN</td>\n",
       "      <td>5</td>\n",
       "      <td>87,94</td>\n",
       "      <td>Finland</td>\n",
       "      <td>146</td>\n",
       "      <td>Low/Inactive</td>\n",
       "      <td>-13</td>\n",
       "      <td>133</td>\n",
       "      <td>blue</td>\n",
       "    </tr>\n",
       "    <tr>\n",
       "      <th>...</th>\n",
       "      <td>...</td>\n",
       "      <td>...</td>\n",
       "      <td>...</td>\n",
       "      <td>...</td>\n",
       "      <td>...</td>\n",
       "      <td>...</td>\n",
       "      <td>...</td>\n",
       "      <td>...</td>\n",
       "      <td>...</td>\n",
       "      <td>...</td>\n",
       "    </tr>\n",
       "    <tr>\n",
       "      <th>163</th>\n",
       "      <td>2023</td>\n",
       "      <td>TKM</td>\n",
       "      <td>176</td>\n",
       "      <td>25,82</td>\n",
       "      <td>Turkmenistan</td>\n",
       "      <td>163</td>\n",
       "      <td>Low/Inactive</td>\n",
       "      <td>-69</td>\n",
       "      <td>94</td>\n",
       "      <td>blue</td>\n",
       "    </tr>\n",
       "    <tr>\n",
       "      <th>164</th>\n",
       "      <td>2023</td>\n",
       "      <td>IRN</td>\n",
       "      <td>177</td>\n",
       "      <td>24,81</td>\n",
       "      <td>Iran</td>\n",
       "      <td>46</td>\n",
       "      <td>Turbulent</td>\n",
       "      <td>9</td>\n",
       "      <td>55</td>\n",
       "      <td>yellow</td>\n",
       "    </tr>\n",
       "    <tr>\n",
       "      <th>165</th>\n",
       "      <td>2023</td>\n",
       "      <td>VNM</td>\n",
       "      <td>178</td>\n",
       "      <td>24,58</td>\n",
       "      <td>Vietnam</td>\n",
       "      <td>111</td>\n",
       "      <td>Low/Inactive</td>\n",
       "      <td>-4</td>\n",
       "      <td>107</td>\n",
       "      <td>blue</td>\n",
       "    </tr>\n",
       "    <tr>\n",
       "      <th>166</th>\n",
       "      <td>2023</td>\n",
       "      <td>CHN</td>\n",
       "      <td>179</td>\n",
       "      <td>22,97</td>\n",
       "      <td>China</td>\n",
       "      <td>66</td>\n",
       "      <td>Low/Inactive</td>\n",
       "      <td>-20</td>\n",
       "      <td>46</td>\n",
       "      <td>blue</td>\n",
       "    </tr>\n",
       "    <tr>\n",
       "      <th>167</th>\n",
       "      <td>2023</td>\n",
       "      <td>PRK</td>\n",
       "      <td>180</td>\n",
       "      <td>21,72</td>\n",
       "      <td>North Korea</td>\n",
       "      <td>109</td>\n",
       "      <td>Low/Inactive</td>\n",
       "      <td>0</td>\n",
       "      <td>109</td>\n",
       "      <td>blue</td>\n",
       "    </tr>\n",
       "  </tbody>\n",
       "</table>\n",
       "<p>168 rows × 10 columns</p>\n",
       "</div>"
      ],
      "text/plain": [
       "     year  iso  press_freedom_ranking press_freedom_score       country  \\\n",
       "0    2023  NOR                      1               95,18        Norway   \n",
       "1    2023  IRL                      2               89,91       Ireland   \n",
       "2    2023  DNK                      3               89,48       Denmark   \n",
       "3    2023  SWE                      4               88,15        Sweden   \n",
       "4    2023  FIN                      5               87,94       Finland   \n",
       "..    ...  ...                    ...                 ...           ...   \n",
       "163  2023  TKM                    176               25,82  Turkmenistan   \n",
       "164  2023  IRN                    177               24,81          Iran   \n",
       "165  2023  VNM                    178               24,58       Vietnam   \n",
       "166  2023  CHN                    179               22,97         China   \n",
       "167  2023  PRK                    180               21,72   North Korea   \n",
       "\n",
       "     conflict_ranking conflict_category  conflict_ranking_change  \\\n",
       "0                 146      Low/Inactive                      -13   \n",
       "1                 140      Low/Inactive                       -7   \n",
       "2                 163      Low/Inactive                      -30   \n",
       "3                 140      Low/Inactive                       -7   \n",
       "4                 146      Low/Inactive                      -13   \n",
       "..                ...               ...                      ...   \n",
       "163               163      Low/Inactive                      -69   \n",
       "164                46         Turbulent                        9   \n",
       "165               111      Low/Inactive                       -4   \n",
       "166                66      Low/Inactive                      -20   \n",
       "167               109      Low/Inactive                        0   \n",
       "\n",
       "     conflict_ranking_2019 conflict_color  \n",
       "0                      133           blue  \n",
       "1                      133           blue  \n",
       "2                      133           blue  \n",
       "3                      133           blue  \n",
       "4                      133           blue  \n",
       "..                     ...            ...  \n",
       "163                     94           blue  \n",
       "164                     55         yellow  \n",
       "165                    107           blue  \n",
       "166                     46           blue  \n",
       "167                    109           blue  \n",
       "\n",
       "[168 rows x 10 columns]"
      ]
     },
     "metadata": {},
     "output_type": "display_data"
    }
   ],
   "source": [
    "press_conflict_df = pd.merge(\n",
    "    press_freedom_df[press_freedom_df[\"year\"] == 2023],\n",
    "    conflict_df,\n",
    "    on=['country'],\n",
    "    how='inner',\n",
    "    suffixes=(\"_press\", \"_conflict\")\n",
    ")\n",
    "\n",
    "press_conflict_df = press_conflict_df.rename(columns={\n",
    "    \"score\": \"press_freedom_score\",\n",
    "    \"rank\": \"press_freedom_ranking\",\n",
    "    \"color\": \"conflict_color\",\n",
    "})\n",
    "\n",
    "press_conflict_df.drop(columns=[\n",
    "    \"year\",\n",
    "])\n",
    "\n",
    "display(press_conflict_df)"
   ]
  },
  {
   "cell_type": "markdown",
   "metadata": {},
   "source": [
    "#### Democratie en Conflict data combineren"
   ]
  },
  {
   "cell_type": "code",
   "execution_count": 337,
   "metadata": {
    "ExecuteTime": {
     "end_time": "2024-06-19T14:42:02.846394Z",
     "start_time": "2024-06-19T14:42:02.823894Z"
    }
   },
   "outputs": [
    {
     "data": {
      "text/html": [
       "<div>\n",
       "<style scoped>\n",
       "    .dataframe tbody tr th:only-of-type {\n",
       "        vertical-align: middle;\n",
       "    }\n",
       "\n",
       "    .dataframe tbody tr th {\n",
       "        vertical-align: top;\n",
       "    }\n",
       "\n",
       "    .dataframe thead th {\n",
       "        text-align: right;\n",
       "    }\n",
       "</style>\n",
       "<table border=\"1\" class=\"dataframe\">\n",
       "  <thead>\n",
       "    <tr style=\"text-align: right;\">\n",
       "      <th></th>\n",
       "      <th>country</th>\n",
       "      <th>iso</th>\n",
       "      <th>year</th>\n",
       "      <th>democracy_score</th>\n",
       "      <th>democracy_ranking</th>\n",
       "      <th>conflict_ranking</th>\n",
       "      <th>conflict_category</th>\n",
       "      <th>conflict_ranking_change</th>\n",
       "      <th>conflict_ranking_2019</th>\n",
       "      <th>conflict_color</th>\n",
       "    </tr>\n",
       "  </thead>\n",
       "  <tbody>\n",
       "    <tr>\n",
       "      <th>0</th>\n",
       "      <td>Norway</td>\n",
       "      <td>NOR</td>\n",
       "      <td>2023</td>\n",
       "      <td>9.81</td>\n",
       "      <td>1</td>\n",
       "      <td>146</td>\n",
       "      <td>Low/Inactive</td>\n",
       "      <td>-13</td>\n",
       "      <td>133</td>\n",
       "      <td>blue</td>\n",
       "    </tr>\n",
       "    <tr>\n",
       "      <th>1</th>\n",
       "      <td>New Zealand</td>\n",
       "      <td>NZL</td>\n",
       "      <td>2023</td>\n",
       "      <td>9.61</td>\n",
       "      <td>2</td>\n",
       "      <td>163</td>\n",
       "      <td>Low/Inactive</td>\n",
       "      <td>-30</td>\n",
       "      <td>133</td>\n",
       "      <td>blue</td>\n",
       "    </tr>\n",
       "    <tr>\n",
       "      <th>2</th>\n",
       "      <td>Iceland</td>\n",
       "      <td>ISL</td>\n",
       "      <td>2023</td>\n",
       "      <td>9.45</td>\n",
       "      <td>3</td>\n",
       "      <td>146</td>\n",
       "      <td>Low/Inactive</td>\n",
       "      <td>-13</td>\n",
       "      <td>133</td>\n",
       "      <td>blue</td>\n",
       "    </tr>\n",
       "    <tr>\n",
       "      <th>3</th>\n",
       "      <td>Sweden</td>\n",
       "      <td>SWE</td>\n",
       "      <td>2023</td>\n",
       "      <td>9.39</td>\n",
       "      <td>4</td>\n",
       "      <td>140</td>\n",
       "      <td>Low/Inactive</td>\n",
       "      <td>-7</td>\n",
       "      <td>133</td>\n",
       "      <td>blue</td>\n",
       "    </tr>\n",
       "    <tr>\n",
       "      <th>4</th>\n",
       "      <td>Finland</td>\n",
       "      <td>FIN</td>\n",
       "      <td>2023</td>\n",
       "      <td>9.30</td>\n",
       "      <td>5</td>\n",
       "      <td>146</td>\n",
       "      <td>Low/Inactive</td>\n",
       "      <td>-13</td>\n",
       "      <td>133</td>\n",
       "      <td>blue</td>\n",
       "    </tr>\n",
       "    <tr>\n",
       "      <th>...</th>\n",
       "      <td>...</td>\n",
       "      <td>...</td>\n",
       "      <td>...</td>\n",
       "      <td>...</td>\n",
       "      <td>...</td>\n",
       "      <td>...</td>\n",
       "      <td>...</td>\n",
       "      <td>...</td>\n",
       "      <td>...</td>\n",
       "      <td>...</td>\n",
       "    </tr>\n",
       "    <tr>\n",
       "      <th>138</th>\n",
       "      <td>Russia</td>\n",
       "      <td>RUS</td>\n",
       "      <td>2023</td>\n",
       "      <td>2.22</td>\n",
       "      <td>139</td>\n",
       "      <td>36</td>\n",
       "      <td>Turbulent</td>\n",
       "      <td>19</td>\n",
       "      <td>55</td>\n",
       "      <td>yellow</td>\n",
       "    </tr>\n",
       "    <tr>\n",
       "      <th>139</th>\n",
       "      <td>Guinea</td>\n",
       "      <td>GIN</td>\n",
       "      <td>2023</td>\n",
       "      <td>2.21</td>\n",
       "      <td>140</td>\n",
       "      <td>65</td>\n",
       "      <td>Low/Inactive</td>\n",
       "      <td>-1</td>\n",
       "      <td>64</td>\n",
       "      <td>blue</td>\n",
       "    </tr>\n",
       "    <tr>\n",
       "      <th>140</th>\n",
       "      <td>Gabon</td>\n",
       "      <td>GAB</td>\n",
       "      <td>2023</td>\n",
       "      <td>2.18</td>\n",
       "      <td>141</td>\n",
       "      <td>105</td>\n",
       "      <td>Low/Inactive</td>\n",
       "      <td>12</td>\n",
       "      <td>117</td>\n",
       "      <td>blue</td>\n",
       "    </tr>\n",
       "    <tr>\n",
       "      <th>141</th>\n",
       "      <td>Burundi</td>\n",
       "      <td>BDI</td>\n",
       "      <td>2023</td>\n",
       "      <td>2.13</td>\n",
       "      <td>142</td>\n",
       "      <td>32</td>\n",
       "      <td>Turbulent</td>\n",
       "      <td>-12</td>\n",
       "      <td>20</td>\n",
       "      <td>yellow</td>\n",
       "    </tr>\n",
       "    <tr>\n",
       "      <th>142</th>\n",
       "      <td>China</td>\n",
       "      <td>CHN</td>\n",
       "      <td>2023</td>\n",
       "      <td>2.12</td>\n",
       "      <td>143</td>\n",
       "      <td>66</td>\n",
       "      <td>Low/Inactive</td>\n",
       "      <td>-20</td>\n",
       "      <td>46</td>\n",
       "      <td>blue</td>\n",
       "    </tr>\n",
       "  </tbody>\n",
       "</table>\n",
       "<p>143 rows × 10 columns</p>\n",
       "</div>"
      ],
      "text/plain": [
       "         country  iso  year  democracy_score  democracy_ranking  \\\n",
       "0         Norway  NOR  2023             9.81                  1   \n",
       "1    New Zealand  NZL  2023             9.61                  2   \n",
       "2        Iceland  ISL  2023             9.45                  3   \n",
       "3         Sweden  SWE  2023             9.39                  4   \n",
       "4        Finland  FIN  2023             9.30                  5   \n",
       "..           ...  ...   ...              ...                ...   \n",
       "138       Russia  RUS  2023             2.22                139   \n",
       "139       Guinea  GIN  2023             2.21                140   \n",
       "140        Gabon  GAB  2023             2.18                141   \n",
       "141      Burundi  BDI  2023             2.13                142   \n",
       "142        China  CHN  2023             2.12                143   \n",
       "\n",
       "     conflict_ranking conflict_category  conflict_ranking_change  \\\n",
       "0                 146      Low/Inactive                      -13   \n",
       "1                 163      Low/Inactive                      -30   \n",
       "2                 146      Low/Inactive                      -13   \n",
       "3                 140      Low/Inactive                       -7   \n",
       "4                 146      Low/Inactive                      -13   \n",
       "..                ...               ...                      ...   \n",
       "138                36         Turbulent                       19   \n",
       "139                65      Low/Inactive                       -1   \n",
       "140               105      Low/Inactive                       12   \n",
       "141                32         Turbulent                      -12   \n",
       "142                66      Low/Inactive                      -20   \n",
       "\n",
       "     conflict_ranking_2019 conflict_color  \n",
       "0                      133           blue  \n",
       "1                      133           blue  \n",
       "2                      133           blue  \n",
       "3                      133           blue  \n",
       "4                      133           blue  \n",
       "..                     ...            ...  \n",
       "138                     55         yellow  \n",
       "139                     64           blue  \n",
       "140                    117           blue  \n",
       "141                     20         yellow  \n",
       "142                     46           blue  \n",
       "\n",
       "[143 rows x 10 columns]"
      ]
     },
     "metadata": {},
     "output_type": "display_data"
    }
   ],
   "source": [
    "dem_conflict_df = pd.merge(\n",
    "    democracy_df[democracy_df[\"year\"] == 2023],\n",
    "    conflict_df,\n",
    "    on=['country'],\n",
    "    how='inner',\n",
    "    suffixes=(\"_dem\", \"_conflict\")\n",
    ")\n",
    "\n",
    "dem_conflict_df = dem_conflict_df.rename(columns={\n",
    "    \"score\": \"democracy_score\",\n",
    "    \"ranking\": \"democracy_ranking\",\n",
    "    \"color\": \"conflict_color\",\n",
    "})\n",
    "\n",
    "display(dem_conflict_df)"
   ]
  },
  {
   "cell_type": "markdown",
   "metadata": {},
   "source": [
    "## Conflicten Verminderen de Persvrijheid"
   ]
  },
  {
   "cell_type": "markdown",
   "metadata": {},
   "source": [
    "### Argument 1\n",
    "\n",
    "**Landen die in conflict zijn hebben op dat moment een lage persvrijheid.**\n",
    "\n",
    "Het is algemeen bekend dat conflicten een negatieve impact hebben op verschillende aspecten van de samenleving, hier is persvrijheid ook een deel van. Tijdens conflicten wordt de veiligheid van journalisten vaak in gevaar gebracht, waardoor ze hun werk niet vrij kunnen uitvoeren. De dreiging van geweld en intimidatie zorgt ervoor dat journalisten zichzelf censureren of stoppen met rapporteren over gevoelige onderwerpen. De pie chart hieronder biedt een helder inzicht in de verdeling van conflictniveaus wereldwijd. Uit het diagram blijkt dat 71,4% van de landen momenteel een lage of inactieve conflictstatus heeft. Deze landen ervaren doorgaans minder ernstige beperkingen op persvrijheid. In tegenstelling hiermee bevindt de overige 28,6% van de landen zich in een hoge conflictstatus, waar persvrijheid mogelijk wordt ingeperkt. Dit betekent dat bijna een derde van de journalisten in deze landen te maken heeft met aanzienlijke uitdagingen en belemmeringen bij hun werk."
   ]
  },
  {
   "cell_type": "code",
   "execution_count": 281,
   "metadata": {
    "ExecuteTime": {
     "end_time": "2024-06-19T13:02:07.206901Z",
     "start_time": "2024-06-19T13:02:07.192904Z"
    }
   },
   "outputs": [
    {
     "data": {
      "application/vnd.plotly.v1+json": {
       "config": {
        "plotlyServerURL": "https://plot.ly"
       },
       "data": [
        {
         "labels": [
          "Laag/Inactief",
          "Hoog",
          "Turbulent",
          "Extreem"
         ],
         "marker": {
          "colors": [
           "blue",
           "orange",
           "yellow",
           "red"
          ]
         },
         "type": "pie",
         "values": [
          121,
          19,
          18,
          10
         ]
        }
       ],
       "layout": {
        "legend": {
         "title": {
          "text": "Index level"
         }
        },
        "template": {
         "data": {
          "bar": [
           {
            "error_x": {
             "color": "#f2f5fa"
            },
            "error_y": {
             "color": "#f2f5fa"
            },
            "marker": {
             "line": {
              "color": "rgb(17,17,17)",
              "width": 0.5
             },
             "pattern": {
              "fillmode": "overlay",
              "size": 10,
              "solidity": 0.2
             }
            },
            "type": "bar"
           }
          ],
          "barpolar": [
           {
            "marker": {
             "line": {
              "color": "rgb(17,17,17)",
              "width": 0.5
             },
             "pattern": {
              "fillmode": "overlay",
              "size": 10,
              "solidity": 0.2
             }
            },
            "type": "barpolar"
           }
          ],
          "carpet": [
           {
            "aaxis": {
             "endlinecolor": "#A2B1C6",
             "gridcolor": "#506784",
             "linecolor": "#506784",
             "minorgridcolor": "#506784",
             "startlinecolor": "#A2B1C6"
            },
            "baxis": {
             "endlinecolor": "#A2B1C6",
             "gridcolor": "#506784",
             "linecolor": "#506784",
             "minorgridcolor": "#506784",
             "startlinecolor": "#A2B1C6"
            },
            "type": "carpet"
           }
          ],
          "choropleth": [
           {
            "colorbar": {
             "outlinewidth": 0,
             "ticks": ""
            },
            "type": "choropleth"
           }
          ],
          "contour": [
           {
            "colorbar": {
             "outlinewidth": 0,
             "ticks": ""
            },
            "colorscale": [
             [
              0,
              "#0d0887"
             ],
             [
              0.1111111111111111,
              "#46039f"
             ],
             [
              0.2222222222222222,
              "#7201a8"
             ],
             [
              0.3333333333333333,
              "#9c179e"
             ],
             [
              0.4444444444444444,
              "#bd3786"
             ],
             [
              0.5555555555555556,
              "#d8576b"
             ],
             [
              0.6666666666666666,
              "#ed7953"
             ],
             [
              0.7777777777777778,
              "#fb9f3a"
             ],
             [
              0.8888888888888888,
              "#fdca26"
             ],
             [
              1,
              "#f0f921"
             ]
            ],
            "type": "contour"
           }
          ],
          "contourcarpet": [
           {
            "colorbar": {
             "outlinewidth": 0,
             "ticks": ""
            },
            "type": "contourcarpet"
           }
          ],
          "heatmap": [
           {
            "colorbar": {
             "outlinewidth": 0,
             "ticks": ""
            },
            "colorscale": [
             [
              0,
              "#0d0887"
             ],
             [
              0.1111111111111111,
              "#46039f"
             ],
             [
              0.2222222222222222,
              "#7201a8"
             ],
             [
              0.3333333333333333,
              "#9c179e"
             ],
             [
              0.4444444444444444,
              "#bd3786"
             ],
             [
              0.5555555555555556,
              "#d8576b"
             ],
             [
              0.6666666666666666,
              "#ed7953"
             ],
             [
              0.7777777777777778,
              "#fb9f3a"
             ],
             [
              0.8888888888888888,
              "#fdca26"
             ],
             [
              1,
              "#f0f921"
             ]
            ],
            "type": "heatmap"
           }
          ],
          "heatmapgl": [
           {
            "colorbar": {
             "outlinewidth": 0,
             "ticks": ""
            },
            "colorscale": [
             [
              0,
              "#0d0887"
             ],
             [
              0.1111111111111111,
              "#46039f"
             ],
             [
              0.2222222222222222,
              "#7201a8"
             ],
             [
              0.3333333333333333,
              "#9c179e"
             ],
             [
              0.4444444444444444,
              "#bd3786"
             ],
             [
              0.5555555555555556,
              "#d8576b"
             ],
             [
              0.6666666666666666,
              "#ed7953"
             ],
             [
              0.7777777777777778,
              "#fb9f3a"
             ],
             [
              0.8888888888888888,
              "#fdca26"
             ],
             [
              1,
              "#f0f921"
             ]
            ],
            "type": "heatmapgl"
           }
          ],
          "histogram": [
           {
            "marker": {
             "pattern": {
              "fillmode": "overlay",
              "size": 10,
              "solidity": 0.2
             }
            },
            "type": "histogram"
           }
          ],
          "histogram2d": [
           {
            "colorbar": {
             "outlinewidth": 0,
             "ticks": ""
            },
            "colorscale": [
             [
              0,
              "#0d0887"
             ],
             [
              0.1111111111111111,
              "#46039f"
             ],
             [
              0.2222222222222222,
              "#7201a8"
             ],
             [
              0.3333333333333333,
              "#9c179e"
             ],
             [
              0.4444444444444444,
              "#bd3786"
             ],
             [
              0.5555555555555556,
              "#d8576b"
             ],
             [
              0.6666666666666666,
              "#ed7953"
             ],
             [
              0.7777777777777778,
              "#fb9f3a"
             ],
             [
              0.8888888888888888,
              "#fdca26"
             ],
             [
              1,
              "#f0f921"
             ]
            ],
            "type": "histogram2d"
           }
          ],
          "histogram2dcontour": [
           {
            "colorbar": {
             "outlinewidth": 0,
             "ticks": ""
            },
            "colorscale": [
             [
              0,
              "#0d0887"
             ],
             [
              0.1111111111111111,
              "#46039f"
             ],
             [
              0.2222222222222222,
              "#7201a8"
             ],
             [
              0.3333333333333333,
              "#9c179e"
             ],
             [
              0.4444444444444444,
              "#bd3786"
             ],
             [
              0.5555555555555556,
              "#d8576b"
             ],
             [
              0.6666666666666666,
              "#ed7953"
             ],
             [
              0.7777777777777778,
              "#fb9f3a"
             ],
             [
              0.8888888888888888,
              "#fdca26"
             ],
             [
              1,
              "#f0f921"
             ]
            ],
            "type": "histogram2dcontour"
           }
          ],
          "mesh3d": [
           {
            "colorbar": {
             "outlinewidth": 0,
             "ticks": ""
            },
            "type": "mesh3d"
           }
          ],
          "parcoords": [
           {
            "line": {
             "colorbar": {
              "outlinewidth": 0,
              "ticks": ""
             }
            },
            "type": "parcoords"
           }
          ],
          "pie": [
           {
            "automargin": true,
            "type": "pie"
           }
          ],
          "scatter": [
           {
            "marker": {
             "line": {
              "color": "#283442"
             }
            },
            "type": "scatter"
           }
          ],
          "scatter3d": [
           {
            "line": {
             "colorbar": {
              "outlinewidth": 0,
              "ticks": ""
             }
            },
            "marker": {
             "colorbar": {
              "outlinewidth": 0,
              "ticks": ""
             }
            },
            "type": "scatter3d"
           }
          ],
          "scattercarpet": [
           {
            "marker": {
             "colorbar": {
              "outlinewidth": 0,
              "ticks": ""
             }
            },
            "type": "scattercarpet"
           }
          ],
          "scattergeo": [
           {
            "marker": {
             "colorbar": {
              "outlinewidth": 0,
              "ticks": ""
             }
            },
            "type": "scattergeo"
           }
          ],
          "scattergl": [
           {
            "marker": {
             "line": {
              "color": "#283442"
             }
            },
            "type": "scattergl"
           }
          ],
          "scattermapbox": [
           {
            "marker": {
             "colorbar": {
              "outlinewidth": 0,
              "ticks": ""
             }
            },
            "type": "scattermapbox"
           }
          ],
          "scatterpolar": [
           {
            "marker": {
             "colorbar": {
              "outlinewidth": 0,
              "ticks": ""
             }
            },
            "type": "scatterpolar"
           }
          ],
          "scatterpolargl": [
           {
            "marker": {
             "colorbar": {
              "outlinewidth": 0,
              "ticks": ""
             }
            },
            "type": "scatterpolargl"
           }
          ],
          "scatterternary": [
           {
            "marker": {
             "colorbar": {
              "outlinewidth": 0,
              "ticks": ""
             }
            },
            "type": "scatterternary"
           }
          ],
          "surface": [
           {
            "colorbar": {
             "outlinewidth": 0,
             "ticks": ""
            },
            "colorscale": [
             [
              0,
              "#0d0887"
             ],
             [
              0.1111111111111111,
              "#46039f"
             ],
             [
              0.2222222222222222,
              "#7201a8"
             ],
             [
              0.3333333333333333,
              "#9c179e"
             ],
             [
              0.4444444444444444,
              "#bd3786"
             ],
             [
              0.5555555555555556,
              "#d8576b"
             ],
             [
              0.6666666666666666,
              "#ed7953"
             ],
             [
              0.7777777777777778,
              "#fb9f3a"
             ],
             [
              0.8888888888888888,
              "#fdca26"
             ],
             [
              1,
              "#f0f921"
             ]
            ],
            "type": "surface"
           }
          ],
          "table": [
           {
            "cells": {
             "fill": {
              "color": "#506784"
             },
             "line": {
              "color": "rgb(17,17,17)"
             }
            },
            "header": {
             "fill": {
              "color": "#2a3f5f"
             },
             "line": {
              "color": "rgb(17,17,17)"
             }
            },
            "type": "table"
           }
          ]
         },
         "layout": {
          "annotationdefaults": {
           "arrowcolor": "#f2f5fa",
           "arrowhead": 0,
           "arrowwidth": 1
          },
          "autotypenumbers": "strict",
          "coloraxis": {
           "colorbar": {
            "outlinewidth": 0,
            "ticks": ""
           }
          },
          "colorscale": {
           "diverging": [
            [
             0,
             "#8e0152"
            ],
            [
             0.1,
             "#c51b7d"
            ],
            [
             0.2,
             "#de77ae"
            ],
            [
             0.3,
             "#f1b6da"
            ],
            [
             0.4,
             "#fde0ef"
            ],
            [
             0.5,
             "#f7f7f7"
            ],
            [
             0.6,
             "#e6f5d0"
            ],
            [
             0.7,
             "#b8e186"
            ],
            [
             0.8,
             "#7fbc41"
            ],
            [
             0.9,
             "#4d9221"
            ],
            [
             1,
             "#276419"
            ]
           ],
           "sequential": [
            [
             0,
             "#0d0887"
            ],
            [
             0.1111111111111111,
             "#46039f"
            ],
            [
             0.2222222222222222,
             "#7201a8"
            ],
            [
             0.3333333333333333,
             "#9c179e"
            ],
            [
             0.4444444444444444,
             "#bd3786"
            ],
            [
             0.5555555555555556,
             "#d8576b"
            ],
            [
             0.6666666666666666,
             "#ed7953"
            ],
            [
             0.7777777777777778,
             "#fb9f3a"
            ],
            [
             0.8888888888888888,
             "#fdca26"
            ],
            [
             1,
             "#f0f921"
            ]
           ],
           "sequentialminus": [
            [
             0,
             "#0d0887"
            ],
            [
             0.1111111111111111,
             "#46039f"
            ],
            [
             0.2222222222222222,
             "#7201a8"
            ],
            [
             0.3333333333333333,
             "#9c179e"
            ],
            [
             0.4444444444444444,
             "#bd3786"
            ],
            [
             0.5555555555555556,
             "#d8576b"
            ],
            [
             0.6666666666666666,
             "#ed7953"
            ],
            [
             0.7777777777777778,
             "#fb9f3a"
            ],
            [
             0.8888888888888888,
             "#fdca26"
            ],
            [
             1,
             "#f0f921"
            ]
           ]
          },
          "colorway": [
           "#636efa",
           "#EF553B",
           "#00cc96",
           "#ab63fa",
           "#FFA15A",
           "#19d3f3",
           "#FF6692",
           "#B6E880",
           "#FF97FF",
           "#FECB52"
          ],
          "font": {
           "color": "#f2f5fa"
          },
          "geo": {
           "bgcolor": "rgb(17,17,17)",
           "lakecolor": "rgb(17,17,17)",
           "landcolor": "rgb(17,17,17)",
           "showlakes": true,
           "showland": true,
           "subunitcolor": "#506784"
          },
          "hoverlabel": {
           "align": "left"
          },
          "hovermode": "closest",
          "mapbox": {
           "style": "dark"
          },
          "paper_bgcolor": "rgb(17,17,17)",
          "plot_bgcolor": "rgb(17,17,17)",
          "polar": {
           "angularaxis": {
            "gridcolor": "#506784",
            "linecolor": "#506784",
            "ticks": ""
           },
           "bgcolor": "rgb(17,17,17)",
           "radialaxis": {
            "gridcolor": "#506784",
            "linecolor": "#506784",
            "ticks": ""
           }
          },
          "scene": {
           "xaxis": {
            "backgroundcolor": "rgb(17,17,17)",
            "gridcolor": "#506784",
            "gridwidth": 2,
            "linecolor": "#506784",
            "showbackground": true,
            "ticks": "",
            "zerolinecolor": "#C8D4E3"
           },
           "yaxis": {
            "backgroundcolor": "rgb(17,17,17)",
            "gridcolor": "#506784",
            "gridwidth": 2,
            "linecolor": "#506784",
            "showbackground": true,
            "ticks": "",
            "zerolinecolor": "#C8D4E3"
           },
           "zaxis": {
            "backgroundcolor": "rgb(17,17,17)",
            "gridcolor": "#506784",
            "gridwidth": 2,
            "linecolor": "#506784",
            "showbackground": true,
            "ticks": "",
            "zerolinecolor": "#C8D4E3"
           }
          },
          "shapedefaults": {
           "line": {
            "color": "#f2f5fa"
           }
          },
          "sliderdefaults": {
           "bgcolor": "#C8D4E3",
           "bordercolor": "rgb(17,17,17)",
           "borderwidth": 1,
           "tickwidth": 0
          },
          "ternary": {
           "aaxis": {
            "gridcolor": "#506784",
            "linecolor": "#506784",
            "ticks": ""
           },
           "baxis": {
            "gridcolor": "#506784",
            "linecolor": "#506784",
            "ticks": ""
           },
           "bgcolor": "rgb(17,17,17)",
           "caxis": {
            "gridcolor": "#506784",
            "linecolor": "#506784",
            "ticks": ""
           }
          },
          "title": {
           "x": 0.05
          },
          "updatemenudefaults": {
           "bgcolor": "#506784",
           "borderwidth": 0
          },
          "xaxis": {
           "automargin": true,
           "gridcolor": "#283442",
           "linecolor": "#506784",
           "ticks": "",
           "title": {
            "standoff": 15
           },
           "zerolinecolor": "#283442",
           "zerolinewidth": 2
          },
          "yaxis": {
           "automargin": true,
           "gridcolor": "#283442",
           "linecolor": "#506784",
           "ticks": "",
           "title": {
            "standoff": 15
           },
           "zerolinecolor": "#283442",
           "zerolinewidth": 2
          }
         }
        },
        "title": {
         "text": "Aantal landen met bepaalde conflict status (index level) "
        }
       }
      },
      "text/html": [
       "<div>                            <div id=\"a98cd4d6-6d9a-4688-a4ed-02cfc9357a23\" class=\"plotly-graph-div\" style=\"height:525px; width:100%;\"></div>            <script type=\"text/javascript\">                require([\"plotly\"], function(Plotly) {                    window.PLOTLYENV=window.PLOTLYENV || {};                                    if (document.getElementById(\"a98cd4d6-6d9a-4688-a4ed-02cfc9357a23\")) {                    Plotly.newPlot(                        \"a98cd4d6-6d9a-4688-a4ed-02cfc9357a23\",                        [{\"labels\":[\"Laag\\u002fInactief\",\"Hoog\",\"Turbulent\",\"Extreem\"],\"marker\":{\"colors\":[\"blue\",\"orange\",\"yellow\",\"red\"]},\"values\":[121,19,18,10],\"type\":\"pie\"}],                        {\"template\":{\"data\":{\"histogram2dcontour\":[{\"type\":\"histogram2dcontour\",\"colorbar\":{\"outlinewidth\":0,\"ticks\":\"\"},\"colorscale\":[[0.0,\"#0d0887\"],[0.1111111111111111,\"#46039f\"],[0.2222222222222222,\"#7201a8\"],[0.3333333333333333,\"#9c179e\"],[0.4444444444444444,\"#bd3786\"],[0.5555555555555556,\"#d8576b\"],[0.6666666666666666,\"#ed7953\"],[0.7777777777777778,\"#fb9f3a\"],[0.8888888888888888,\"#fdca26\"],[1.0,\"#f0f921\"]]}],\"choropleth\":[{\"type\":\"choropleth\",\"colorbar\":{\"outlinewidth\":0,\"ticks\":\"\"}}],\"histogram2d\":[{\"type\":\"histogram2d\",\"colorbar\":{\"outlinewidth\":0,\"ticks\":\"\"},\"colorscale\":[[0.0,\"#0d0887\"],[0.1111111111111111,\"#46039f\"],[0.2222222222222222,\"#7201a8\"],[0.3333333333333333,\"#9c179e\"],[0.4444444444444444,\"#bd3786\"],[0.5555555555555556,\"#d8576b\"],[0.6666666666666666,\"#ed7953\"],[0.7777777777777778,\"#fb9f3a\"],[0.8888888888888888,\"#fdca26\"],[1.0,\"#f0f921\"]]}],\"heatmap\":[{\"type\":\"heatmap\",\"colorbar\":{\"outlinewidth\":0,\"ticks\":\"\"},\"colorscale\":[[0.0,\"#0d0887\"],[0.1111111111111111,\"#46039f\"],[0.2222222222222222,\"#7201a8\"],[0.3333333333333333,\"#9c179e\"],[0.4444444444444444,\"#bd3786\"],[0.5555555555555556,\"#d8576b\"],[0.6666666666666666,\"#ed7953\"],[0.7777777777777778,\"#fb9f3a\"],[0.8888888888888888,\"#fdca26\"],[1.0,\"#f0f921\"]]}],\"heatmapgl\":[{\"type\":\"heatmapgl\",\"colorbar\":{\"outlinewidth\":0,\"ticks\":\"\"},\"colorscale\":[[0.0,\"#0d0887\"],[0.1111111111111111,\"#46039f\"],[0.2222222222222222,\"#7201a8\"],[0.3333333333333333,\"#9c179e\"],[0.4444444444444444,\"#bd3786\"],[0.5555555555555556,\"#d8576b\"],[0.6666666666666666,\"#ed7953\"],[0.7777777777777778,\"#fb9f3a\"],[0.8888888888888888,\"#fdca26\"],[1.0,\"#f0f921\"]]}],\"contourcarpet\":[{\"type\":\"contourcarpet\",\"colorbar\":{\"outlinewidth\":0,\"ticks\":\"\"}}],\"contour\":[{\"type\":\"contour\",\"colorbar\":{\"outlinewidth\":0,\"ticks\":\"\"},\"colorscale\":[[0.0,\"#0d0887\"],[0.1111111111111111,\"#46039f\"],[0.2222222222222222,\"#7201a8\"],[0.3333333333333333,\"#9c179e\"],[0.4444444444444444,\"#bd3786\"],[0.5555555555555556,\"#d8576b\"],[0.6666666666666666,\"#ed7953\"],[0.7777777777777778,\"#fb9f3a\"],[0.8888888888888888,\"#fdca26\"],[1.0,\"#f0f921\"]]}],\"surface\":[{\"type\":\"surface\",\"colorbar\":{\"outlinewidth\":0,\"ticks\":\"\"},\"colorscale\":[[0.0,\"#0d0887\"],[0.1111111111111111,\"#46039f\"],[0.2222222222222222,\"#7201a8\"],[0.3333333333333333,\"#9c179e\"],[0.4444444444444444,\"#bd3786\"],[0.5555555555555556,\"#d8576b\"],[0.6666666666666666,\"#ed7953\"],[0.7777777777777778,\"#fb9f3a\"],[0.8888888888888888,\"#fdca26\"],[1.0,\"#f0f921\"]]}],\"mesh3d\":[{\"type\":\"mesh3d\",\"colorbar\":{\"outlinewidth\":0,\"ticks\":\"\"}}],\"scatter\":[{\"marker\":{\"line\":{\"color\":\"#283442\"}},\"type\":\"scatter\"}],\"parcoords\":[{\"type\":\"parcoords\",\"line\":{\"colorbar\":{\"outlinewidth\":0,\"ticks\":\"\"}}}],\"scatterpolargl\":[{\"type\":\"scatterpolargl\",\"marker\":{\"colorbar\":{\"outlinewidth\":0,\"ticks\":\"\"}}}],\"bar\":[{\"error_x\":{\"color\":\"#f2f5fa\"},\"error_y\":{\"color\":\"#f2f5fa\"},\"marker\":{\"line\":{\"color\":\"rgb(17,17,17)\",\"width\":0.5},\"pattern\":{\"fillmode\":\"overlay\",\"size\":10,\"solidity\":0.2}},\"type\":\"bar\"}],\"scattergeo\":[{\"type\":\"scattergeo\",\"marker\":{\"colorbar\":{\"outlinewidth\":0,\"ticks\":\"\"}}}],\"scatterpolar\":[{\"type\":\"scatterpolar\",\"marker\":{\"colorbar\":{\"outlinewidth\":0,\"ticks\":\"\"}}}],\"histogram\":[{\"marker\":{\"pattern\":{\"fillmode\":\"overlay\",\"size\":10,\"solidity\":0.2}},\"type\":\"histogram\"}],\"scattergl\":[{\"marker\":{\"line\":{\"color\":\"#283442\"}},\"type\":\"scattergl\"}],\"scatter3d\":[{\"type\":\"scatter3d\",\"line\":{\"colorbar\":{\"outlinewidth\":0,\"ticks\":\"\"}},\"marker\":{\"colorbar\":{\"outlinewidth\":0,\"ticks\":\"\"}}}],\"scattermapbox\":[{\"type\":\"scattermapbox\",\"marker\":{\"colorbar\":{\"outlinewidth\":0,\"ticks\":\"\"}}}],\"scatterternary\":[{\"type\":\"scatterternary\",\"marker\":{\"colorbar\":{\"outlinewidth\":0,\"ticks\":\"\"}}}],\"scattercarpet\":[{\"type\":\"scattercarpet\",\"marker\":{\"colorbar\":{\"outlinewidth\":0,\"ticks\":\"\"}}}],\"carpet\":[{\"aaxis\":{\"endlinecolor\":\"#A2B1C6\",\"gridcolor\":\"#506784\",\"linecolor\":\"#506784\",\"minorgridcolor\":\"#506784\",\"startlinecolor\":\"#A2B1C6\"},\"baxis\":{\"endlinecolor\":\"#A2B1C6\",\"gridcolor\":\"#506784\",\"linecolor\":\"#506784\",\"minorgridcolor\":\"#506784\",\"startlinecolor\":\"#A2B1C6\"},\"type\":\"carpet\"}],\"table\":[{\"cells\":{\"fill\":{\"color\":\"#506784\"},\"line\":{\"color\":\"rgb(17,17,17)\"}},\"header\":{\"fill\":{\"color\":\"#2a3f5f\"},\"line\":{\"color\":\"rgb(17,17,17)\"}},\"type\":\"table\"}],\"barpolar\":[{\"marker\":{\"line\":{\"color\":\"rgb(17,17,17)\",\"width\":0.5},\"pattern\":{\"fillmode\":\"overlay\",\"size\":10,\"solidity\":0.2}},\"type\":\"barpolar\"}],\"pie\":[{\"automargin\":true,\"type\":\"pie\"}]},\"layout\":{\"autotypenumbers\":\"strict\",\"colorway\":[\"#636efa\",\"#EF553B\",\"#00cc96\",\"#ab63fa\",\"#FFA15A\",\"#19d3f3\",\"#FF6692\",\"#B6E880\",\"#FF97FF\",\"#FECB52\"],\"font\":{\"color\":\"#f2f5fa\"},\"hovermode\":\"closest\",\"hoverlabel\":{\"align\":\"left\"},\"paper_bgcolor\":\"rgb(17,17,17)\",\"plot_bgcolor\":\"rgb(17,17,17)\",\"polar\":{\"bgcolor\":\"rgb(17,17,17)\",\"angularaxis\":{\"gridcolor\":\"#506784\",\"linecolor\":\"#506784\",\"ticks\":\"\"},\"radialaxis\":{\"gridcolor\":\"#506784\",\"linecolor\":\"#506784\",\"ticks\":\"\"}},\"ternary\":{\"bgcolor\":\"rgb(17,17,17)\",\"aaxis\":{\"gridcolor\":\"#506784\",\"linecolor\":\"#506784\",\"ticks\":\"\"},\"baxis\":{\"gridcolor\":\"#506784\",\"linecolor\":\"#506784\",\"ticks\":\"\"},\"caxis\":{\"gridcolor\":\"#506784\",\"linecolor\":\"#506784\",\"ticks\":\"\"}},\"coloraxis\":{\"colorbar\":{\"outlinewidth\":0,\"ticks\":\"\"}},\"colorscale\":{\"sequential\":[[0.0,\"#0d0887\"],[0.1111111111111111,\"#46039f\"],[0.2222222222222222,\"#7201a8\"],[0.3333333333333333,\"#9c179e\"],[0.4444444444444444,\"#bd3786\"],[0.5555555555555556,\"#d8576b\"],[0.6666666666666666,\"#ed7953\"],[0.7777777777777778,\"#fb9f3a\"],[0.8888888888888888,\"#fdca26\"],[1.0,\"#f0f921\"]],\"sequentialminus\":[[0.0,\"#0d0887\"],[0.1111111111111111,\"#46039f\"],[0.2222222222222222,\"#7201a8\"],[0.3333333333333333,\"#9c179e\"],[0.4444444444444444,\"#bd3786\"],[0.5555555555555556,\"#d8576b\"],[0.6666666666666666,\"#ed7953\"],[0.7777777777777778,\"#fb9f3a\"],[0.8888888888888888,\"#fdca26\"],[1.0,\"#f0f921\"]],\"diverging\":[[0,\"#8e0152\"],[0.1,\"#c51b7d\"],[0.2,\"#de77ae\"],[0.3,\"#f1b6da\"],[0.4,\"#fde0ef\"],[0.5,\"#f7f7f7\"],[0.6,\"#e6f5d0\"],[0.7,\"#b8e186\"],[0.8,\"#7fbc41\"],[0.9,\"#4d9221\"],[1,\"#276419\"]]},\"xaxis\":{\"gridcolor\":\"#283442\",\"linecolor\":\"#506784\",\"ticks\":\"\",\"title\":{\"standoff\":15},\"zerolinecolor\":\"#283442\",\"automargin\":true,\"zerolinewidth\":2},\"yaxis\":{\"gridcolor\":\"#283442\",\"linecolor\":\"#506784\",\"ticks\":\"\",\"title\":{\"standoff\":15},\"zerolinecolor\":\"#283442\",\"automargin\":true,\"zerolinewidth\":2},\"scene\":{\"xaxis\":{\"backgroundcolor\":\"rgb(17,17,17)\",\"gridcolor\":\"#506784\",\"linecolor\":\"#506784\",\"showbackground\":true,\"ticks\":\"\",\"zerolinecolor\":\"#C8D4E3\",\"gridwidth\":2},\"yaxis\":{\"backgroundcolor\":\"rgb(17,17,17)\",\"gridcolor\":\"#506784\",\"linecolor\":\"#506784\",\"showbackground\":true,\"ticks\":\"\",\"zerolinecolor\":\"#C8D4E3\",\"gridwidth\":2},\"zaxis\":{\"backgroundcolor\":\"rgb(17,17,17)\",\"gridcolor\":\"#506784\",\"linecolor\":\"#506784\",\"showbackground\":true,\"ticks\":\"\",\"zerolinecolor\":\"#C8D4E3\",\"gridwidth\":2}},\"shapedefaults\":{\"line\":{\"color\":\"#f2f5fa\"}},\"annotationdefaults\":{\"arrowcolor\":\"#f2f5fa\",\"arrowhead\":0,\"arrowwidth\":1},\"geo\":{\"bgcolor\":\"rgb(17,17,17)\",\"landcolor\":\"rgb(17,17,17)\",\"subunitcolor\":\"#506784\",\"showland\":true,\"showlakes\":true,\"lakecolor\":\"rgb(17,17,17)\"},\"title\":{\"x\":0.05},\"updatemenudefaults\":{\"bgcolor\":\"#506784\",\"borderwidth\":0},\"sliderdefaults\":{\"bgcolor\":\"#C8D4E3\",\"borderwidth\":1,\"bordercolor\":\"rgb(17,17,17)\",\"tickwidth\":0},\"mapbox\":{\"style\":\"dark\"}}},\"title\":{\"text\":\"Aantal landen met bepaalde conflict status (index level) \"},\"legend\":{\"title\":{\"text\":\"Index level\"}}},                        {\"responsive\": true}                    ).then(function(){\n",
       "                            \n",
       "var gd = document.getElementById('a98cd4d6-6d9a-4688-a4ed-02cfc9357a23');\n",
       "var x = new MutationObserver(function (mutations, observer) {{\n",
       "        var display = window.getComputedStyle(gd).display;\n",
       "        if (!display || display === 'none') {{\n",
       "            console.log([gd, 'removed!']);\n",
       "            Plotly.purge(gd);\n",
       "            observer.disconnect();\n",
       "        }}\n",
       "}});\n",
       "\n",
       "// Listen for the removal of the full notebook cells\n",
       "var notebookContainer = gd.closest('#notebook-container');\n",
       "if (notebookContainer) {{\n",
       "    x.observe(notebookContainer, {childList: true});\n",
       "}}\n",
       "\n",
       "// Listen for the clearing of the current output cell\n",
       "var outputEl = gd.closest('.output');\n",
       "if (outputEl) {{\n",
       "    x.observe(outputEl, {childList: true});\n",
       "}}\n",
       "\n",
       "                        })                };                });            </script>        </div>"
      ]
     },
     "metadata": {},
     "output_type": "display_data"
    }
   ],
   "source": [
    "color_counts = press_conflict_df['conflict_color'].value_counts()\n",
    "\n",
    "color_labels = {\n",
    "    'red': 'Extreem',\n",
    "    'orange': 'Hoog',\n",
    "    'yellow': 'Turbulent',\n",
    "    'blue': 'Laag/Inactief'\n",
    "}\n",
    "\n",
    "\n",
    "labels = [color_labels[color] for color in color_counts.index]\n",
    "\n",
    "\n",
    "fig = go.Figure(data=[go.Pie(\n",
    "    labels = labels,\n",
    "    values = color_counts.values,\n",
    "    marker = dict(colors = color_counts.index)\n",
    ")])\n",
    "\n",
    "fig.update_layout(\n",
    "    title = 'Aantal landen met bepaalde conflict status (index level) ',\n",
    "    legend_title = 'Index level'\n",
    ")\n",
    "\n",
    "fig.show()"
   ]
  },
  {
   "cell_type": "code",
   "execution_count": 282,
   "metadata": {
    "ExecuteTime": {
     "end_time": "2024-06-19T13:02:07.237903Z",
     "start_time": "2024-06-19T13:02:07.208901Z"
    }
   },
   "outputs": [
    {
     "data": {
      "application/vnd.plotly.v1+json": {
       "config": {
        "plotlyServerURL": "https://plot.ly"
       },
       "data": [
        {
         "marker": {
          "color": [
           "blue",
           "blue",
           "blue",
           "blue",
           "blue",
           "blue",
           "blue",
           "blue",
           "blue",
           "blue",
           "blue",
           "blue",
           "blue",
           "blue",
           "blue",
           "blue",
           "blue",
           "blue",
           "blue",
           "blue",
           "blue",
           "blue",
           "blue",
           "yellow",
           "blue",
           "blue",
           "blue",
           "blue",
           "orange",
           "blue",
           "orange",
           "blue",
           "blue",
           "blue",
           "blue",
           "blue",
           "blue",
           "blue",
           "blue",
           "blue",
           "blue",
           "blue",
           "blue",
           "blue",
           "blue",
           "blue",
           "blue",
           "blue",
           "yellow",
           "blue",
           "blue",
           "blue",
           "blue",
           "blue",
           "orange",
           "yellow",
           "blue",
           "yellow",
           "blue",
           "blue",
           "blue",
           "blue",
           "blue",
           "blue",
           "blue",
           "blue",
           "blue",
           "blue",
           "blue",
           "blue",
           "blue",
           "blue",
           "blue",
           "orange",
           "yellow",
           "blue",
           "blue",
           "blue",
           "blue",
           "blue",
           "blue",
           "blue",
           "blue",
           "blue",
           "blue",
           "red",
           "blue",
           "blue",
           "blue",
           "orange",
           "yellow",
           "red",
           "blue",
           "yellow",
           "yellow",
           "blue",
           "blue",
           "blue",
           "blue",
           "blue",
           "yellow",
           "yellow",
           "blue",
           "yellow",
           "orange",
           "yellow",
           "blue",
           "orange",
           "blue",
           "yellow",
           "yellow",
           "blue",
           "blue",
           "blue",
           "red",
           "blue",
           "yellow",
           "orange",
           "red",
           "blue",
           "orange",
           "blue",
           "orange",
           "yellow",
           "blue",
           "blue",
           "blue",
           "blue",
           "orange",
           "red",
           "orange",
           "blue",
           "blue",
           "blue",
           "blue",
           "blue",
           "red",
           "blue",
           "orange",
           "blue",
           "orange",
           "blue",
           "blue",
           "blue",
           "red",
           "blue",
           "blue",
           "orange",
           "blue",
           "orange",
           "blue",
           "orange",
           "yellow",
           "blue",
           "orange",
           "red",
           "orange",
           "blue",
           "blue",
           "blue",
           "red",
           "blue",
           "red",
           "blue",
           "yellow",
           "blue",
           "blue",
           "blue"
          ],
          "size": 10
         },
         "mode": "markers",
         "name": "Land",
         "showlegend": false,
         "text": [
          "Norway",
          "Ireland",
          "Denmark",
          "Sweden",
          "Finland",
          "Netherlands",
          "Lithuania",
          "Estonia",
          "Portugal",
          "East Timor",
          "Liechtenstein",
          "Switzerland",
          "New Zealand",
          "Canada",
          "Latvia",
          "Slovakia",
          "Iceland",
          "Samoa",
          "Luxembourg",
          "Germany",
          "Namibia",
          "Costa Rica",
          "France",
          "South Africa",
          "United Kingdom",
          "Australia",
          "Moldova",
          "Austria",
          "Trinidad and Tobago",
          "Belgium",
          "Jamaica",
          "Seychelles",
          "Taiwan",
          "Spain",
          "Andorra",
          "North Macedonia",
          "Montenegro",
          "Argentina",
          "Italy",
          "Croatia",
          "Dominican Republic",
          "Tonga",
          "United States",
          "Gambia",
          "South Korea",
          "Suriname",
          "Armenia",
          "Slovenia",
          "Belize",
          "Uruguay",
          "Romania",
          "Cyprus",
          "Kosovo",
          "Poland",
          "Burkina Faso",
          "Papua New Guinea",
          "Guyana",
          "Niger",
          "Ghana",
          "Mauritius",
          "Botswana",
          "Liberia",
          "Lesotho",
          "Japan",
          "Panama",
          "Togo",
          "Bulgaria",
          "Hungary",
          "Malaysia",
          "Sierra Leone",
          "Comoros",
          "Georgia",
          "Guinea-Bissau",
          "Ukraine",
          "Ecuador",
          "Malawi",
          "Chile",
          "Malta",
          "Guinea",
          "Mauritania",
          "Zambia",
          "Mongolia",
          "Fiji",
          "Bhutan",
          "Serbia",
          "Brazil",
          "Gabon",
          "Nepal",
          "Albania",
          "Israel",
          "Central African Republic",
          "Haiti",
          "Maldives",
          "Madagascar",
          "Mozambique",
          "Paraguay",
          "Senegal",
          "Qatar",
          "Thailand",
          "Greece",
          "Indonesia",
          "Chad",
          "Peru",
          "Benin",
          "Mali",
          "Burundi",
          "El Salvador",
          "Kenya",
          "Bolivia",
          "South Sudan",
          "Lebanon",
          "Equatorial Guinea",
          "Tunisia",
          "Kyrgyzstan",
          "Nigeria",
          "Angola",
          "Zimbabwe",
          "Guatemala",
          "Mexico",
          "Singapore",
          "Ethiopia",
          "Rwanda",
          "Philippines",
          "Uganda",
          "Kazakhstan",
          "Sri Lanka",
          "Algeria",
          "Uzbekistan",
          "Cameroon",
          "Colombia",
          "Somalia",
          "Brunei",
          "Tanzania",
          "United Arab Emirates",
          "Jordan",
          "Cambodia",
          "Sudan",
          "Libya",
          "Pakistan",
          "Azerbaijan",
          "Afghanistan",
          "Tajikistan",
          "Kuwait",
          "Oman",
          "Palestine",
          "Belarus",
          "Nicaragua",
          "Venezuela",
          "Laos",
          "India",
          "Djibouti",
          "Bangladesh",
          "Russia",
          "Egypt",
          "Iraq",
          "Yemen",
          "Honduras",
          "Saudi Arabia",
          "Bahrain",
          "Cuba",
          "Myanmar",
          "Eritrea",
          "Syria",
          "Turkmenistan",
          "Iran",
          "Vietnam",
          "China",
          "North Korea"
         ],
         "type": "scatter",
         "x": [
          146,
          140,
          163,
          140,
          146,
          125,
          146,
          163,
          163,
          146,
          163,
          163,
          163,
          117,
          163,
          146,
          146,
          146,
          163,
          79,
          126,
          120,
          61,
          33,
          113,
          163,
          94,
          132,
          30,
          104,
          21,
          163,
          163,
          117,
          163,
          131,
          135,
          74,
          96,
          163,
          84,
          163,
          51,
          116,
          163,
          122,
          79,
          143,
          47,
          135,
          112,
          86,
          92,
          102,
          17,
          50,
          108,
          34,
          53,
          115,
          106,
          78,
          107,
          146,
          96,
          77,
          163,
          100,
          146,
          70,
          109,
          103,
          88,
          13,
          40,
          62,
          57,
          143,
          65,
          83,
          73,
          163,
          163,
          163,
          120,
          6,
          105,
          56,
          117,
          22,
          34,
          8,
          130,
          38,
          45,
          70,
          69,
          163,
          75,
          59,
          44,
          49,
          53,
          43,
          15,
          32,
          58,
          19,
          72,
          37,
          31,
          163,
          101,
          90,
          5,
          64,
          48,
          24,
          4,
          163,
          22,
          95,
          27,
          42,
          84,
          76,
          81,
          90,
          25,
          7,
          27,
          163,
          68,
          163,
          122,
          146,
          10,
          52,
          14,
          55,
          25,
          113,
          163,
          146,
          3,
          99,
          89,
          27,
          143,
          15,
          127,
          17,
          36,
          82,
          12,
          9,
          20,
          93,
          132,
          87,
          1,
          162,
          2,
          163,
          46,
          111,
          66,
          109
         ],
         "y": [
          1,
          2,
          3,
          4,
          5,
          6,
          7,
          8,
          9,
          10,
          11,
          12,
          13,
          15,
          16,
          17,
          18,
          19,
          20,
          21,
          22,
          23,
          24,
          25,
          26,
          27,
          28,
          29,
          30,
          31,
          32,
          34,
          35,
          36,
          37,
          38,
          39,
          40,
          41,
          42,
          43,
          44,
          45,
          46,
          47,
          48,
          49,
          50,
          51,
          52,
          53,
          55,
          56,
          57,
          58,
          59,
          60,
          61,
          62,
          63,
          65,
          66,
          67,
          68,
          69,
          70,
          71,
          72,
          73,
          74,
          75,
          77,
          78,
          79,
          80,
          82,
          83,
          84,
          85,
          86,
          87,
          88,
          89,
          90,
          91,
          92,
          94,
          95,
          96,
          97,
          98,
          99,
          100,
          101,
          102,
          103,
          104,
          105,
          106,
          107,
          108,
          109,
          110,
          112,
          113,
          114,
          115,
          116,
          117,
          118,
          119,
          120,
          121,
          122,
          123,
          125,
          126,
          127,
          128,
          129,
          130,
          131,
          132,
          133,
          134,
          135,
          136,
          137,
          138,
          139,
          141,
          142,
          143,
          145,
          146,
          147,
          148,
          149,
          150,
          151,
          152,
          153,
          154,
          155,
          156,
          157,
          158,
          159,
          160,
          161,
          162,
          163,
          164,
          166,
          167,
          168,
          169,
          170,
          171,
          172,
          173,
          174,
          175,
          176,
          177,
          178,
          179,
          180
         ]
        },
        {
         "legendgroup": "group1",
         "marker": {
          "color": "red",
          "size": 10
         },
         "mode": "markers",
         "name": "Extreem (Top 10)",
         "showlegend": true,
         "type": "scatter",
         "x": [
          null
         ],
         "y": [
          null
         ]
        },
        {
         "legendgroup": "group2",
         "marker": {
          "color": "orange",
          "size": 10
         },
         "mode": "markers",
         "name": "Hoog (11-30)",
         "showlegend": true,
         "type": "scatter",
         "x": [
          null
         ],
         "y": [
          null
         ]
        },
        {
         "legendgroup": "group3",
         "marker": {
          "color": "yellow",
          "size": 10
         },
         "mode": "markers",
         "name": "Turbulent (31-50)",
         "showlegend": true,
         "type": "scatter",
         "x": [
          null
         ],
         "y": [
          null
         ]
        },
        {
         "legendgroup": "group4",
         "marker": {
          "color": "blue",
          "size": 10
         },
         "mode": "markers",
         "name": "Laag/inactief (>50)",
         "showlegend": true,
         "type": "scatter",
         "x": [
          null
         ],
         "y": [
          null
         ]
        },
        {
         "line": {
          "color": "black"
         },
         "mode": "lines",
         "name": "Trend lijn",
         "type": "scatter",
         "x": [
          1,
          163
         ],
         "y": [
          180,
          1
         ]
        }
       ],
       "layout": {
        "height": 700,
        "showlegend": true,
        "template": {
         "data": {
          "bar": [
           {
            "error_x": {
             "color": "#f2f5fa"
            },
            "error_y": {
             "color": "#f2f5fa"
            },
            "marker": {
             "line": {
              "color": "rgb(17,17,17)",
              "width": 0.5
             },
             "pattern": {
              "fillmode": "overlay",
              "size": 10,
              "solidity": 0.2
             }
            },
            "type": "bar"
           }
          ],
          "barpolar": [
           {
            "marker": {
             "line": {
              "color": "rgb(17,17,17)",
              "width": 0.5
             },
             "pattern": {
              "fillmode": "overlay",
              "size": 10,
              "solidity": 0.2
             }
            },
            "type": "barpolar"
           }
          ],
          "carpet": [
           {
            "aaxis": {
             "endlinecolor": "#A2B1C6",
             "gridcolor": "#506784",
             "linecolor": "#506784",
             "minorgridcolor": "#506784",
             "startlinecolor": "#A2B1C6"
            },
            "baxis": {
             "endlinecolor": "#A2B1C6",
             "gridcolor": "#506784",
             "linecolor": "#506784",
             "minorgridcolor": "#506784",
             "startlinecolor": "#A2B1C6"
            },
            "type": "carpet"
           }
          ],
          "choropleth": [
           {
            "colorbar": {
             "outlinewidth": 0,
             "ticks": ""
            },
            "type": "choropleth"
           }
          ],
          "contour": [
           {
            "colorbar": {
             "outlinewidth": 0,
             "ticks": ""
            },
            "colorscale": [
             [
              0,
              "#0d0887"
             ],
             [
              0.1111111111111111,
              "#46039f"
             ],
             [
              0.2222222222222222,
              "#7201a8"
             ],
             [
              0.3333333333333333,
              "#9c179e"
             ],
             [
              0.4444444444444444,
              "#bd3786"
             ],
             [
              0.5555555555555556,
              "#d8576b"
             ],
             [
              0.6666666666666666,
              "#ed7953"
             ],
             [
              0.7777777777777778,
              "#fb9f3a"
             ],
             [
              0.8888888888888888,
              "#fdca26"
             ],
             [
              1,
              "#f0f921"
             ]
            ],
            "type": "contour"
           }
          ],
          "contourcarpet": [
           {
            "colorbar": {
             "outlinewidth": 0,
             "ticks": ""
            },
            "type": "contourcarpet"
           }
          ],
          "heatmap": [
           {
            "colorbar": {
             "outlinewidth": 0,
             "ticks": ""
            },
            "colorscale": [
             [
              0,
              "#0d0887"
             ],
             [
              0.1111111111111111,
              "#46039f"
             ],
             [
              0.2222222222222222,
              "#7201a8"
             ],
             [
              0.3333333333333333,
              "#9c179e"
             ],
             [
              0.4444444444444444,
              "#bd3786"
             ],
             [
              0.5555555555555556,
              "#d8576b"
             ],
             [
              0.6666666666666666,
              "#ed7953"
             ],
             [
              0.7777777777777778,
              "#fb9f3a"
             ],
             [
              0.8888888888888888,
              "#fdca26"
             ],
             [
              1,
              "#f0f921"
             ]
            ],
            "type": "heatmap"
           }
          ],
          "heatmapgl": [
           {
            "colorbar": {
             "outlinewidth": 0,
             "ticks": ""
            },
            "colorscale": [
             [
              0,
              "#0d0887"
             ],
             [
              0.1111111111111111,
              "#46039f"
             ],
             [
              0.2222222222222222,
              "#7201a8"
             ],
             [
              0.3333333333333333,
              "#9c179e"
             ],
             [
              0.4444444444444444,
              "#bd3786"
             ],
             [
              0.5555555555555556,
              "#d8576b"
             ],
             [
              0.6666666666666666,
              "#ed7953"
             ],
             [
              0.7777777777777778,
              "#fb9f3a"
             ],
             [
              0.8888888888888888,
              "#fdca26"
             ],
             [
              1,
              "#f0f921"
             ]
            ],
            "type": "heatmapgl"
           }
          ],
          "histogram": [
           {
            "marker": {
             "pattern": {
              "fillmode": "overlay",
              "size": 10,
              "solidity": 0.2
             }
            },
            "type": "histogram"
           }
          ],
          "histogram2d": [
           {
            "colorbar": {
             "outlinewidth": 0,
             "ticks": ""
            },
            "colorscale": [
             [
              0,
              "#0d0887"
             ],
             [
              0.1111111111111111,
              "#46039f"
             ],
             [
              0.2222222222222222,
              "#7201a8"
             ],
             [
              0.3333333333333333,
              "#9c179e"
             ],
             [
              0.4444444444444444,
              "#bd3786"
             ],
             [
              0.5555555555555556,
              "#d8576b"
             ],
             [
              0.6666666666666666,
              "#ed7953"
             ],
             [
              0.7777777777777778,
              "#fb9f3a"
             ],
             [
              0.8888888888888888,
              "#fdca26"
             ],
             [
              1,
              "#f0f921"
             ]
            ],
            "type": "histogram2d"
           }
          ],
          "histogram2dcontour": [
           {
            "colorbar": {
             "outlinewidth": 0,
             "ticks": ""
            },
            "colorscale": [
             [
              0,
              "#0d0887"
             ],
             [
              0.1111111111111111,
              "#46039f"
             ],
             [
              0.2222222222222222,
              "#7201a8"
             ],
             [
              0.3333333333333333,
              "#9c179e"
             ],
             [
              0.4444444444444444,
              "#bd3786"
             ],
             [
              0.5555555555555556,
              "#d8576b"
             ],
             [
              0.6666666666666666,
              "#ed7953"
             ],
             [
              0.7777777777777778,
              "#fb9f3a"
             ],
             [
              0.8888888888888888,
              "#fdca26"
             ],
             [
              1,
              "#f0f921"
             ]
            ],
            "type": "histogram2dcontour"
           }
          ],
          "mesh3d": [
           {
            "colorbar": {
             "outlinewidth": 0,
             "ticks": ""
            },
            "type": "mesh3d"
           }
          ],
          "parcoords": [
           {
            "line": {
             "colorbar": {
              "outlinewidth": 0,
              "ticks": ""
             }
            },
            "type": "parcoords"
           }
          ],
          "pie": [
           {
            "automargin": true,
            "type": "pie"
           }
          ],
          "scatter": [
           {
            "marker": {
             "line": {
              "color": "#283442"
             }
            },
            "type": "scatter"
           }
          ],
          "scatter3d": [
           {
            "line": {
             "colorbar": {
              "outlinewidth": 0,
              "ticks": ""
             }
            },
            "marker": {
             "colorbar": {
              "outlinewidth": 0,
              "ticks": ""
             }
            },
            "type": "scatter3d"
           }
          ],
          "scattercarpet": [
           {
            "marker": {
             "colorbar": {
              "outlinewidth": 0,
              "ticks": ""
             }
            },
            "type": "scattercarpet"
           }
          ],
          "scattergeo": [
           {
            "marker": {
             "colorbar": {
              "outlinewidth": 0,
              "ticks": ""
             }
            },
            "type": "scattergeo"
           }
          ],
          "scattergl": [
           {
            "marker": {
             "line": {
              "color": "#283442"
             }
            },
            "type": "scattergl"
           }
          ],
          "scattermapbox": [
           {
            "marker": {
             "colorbar": {
              "outlinewidth": 0,
              "ticks": ""
             }
            },
            "type": "scattermapbox"
           }
          ],
          "scatterpolar": [
           {
            "marker": {
             "colorbar": {
              "outlinewidth": 0,
              "ticks": ""
             }
            },
            "type": "scatterpolar"
           }
          ],
          "scatterpolargl": [
           {
            "marker": {
             "colorbar": {
              "outlinewidth": 0,
              "ticks": ""
             }
            },
            "type": "scatterpolargl"
           }
          ],
          "scatterternary": [
           {
            "marker": {
             "colorbar": {
              "outlinewidth": 0,
              "ticks": ""
             }
            },
            "type": "scatterternary"
           }
          ],
          "surface": [
           {
            "colorbar": {
             "outlinewidth": 0,
             "ticks": ""
            },
            "colorscale": [
             [
              0,
              "#0d0887"
             ],
             [
              0.1111111111111111,
              "#46039f"
             ],
             [
              0.2222222222222222,
              "#7201a8"
             ],
             [
              0.3333333333333333,
              "#9c179e"
             ],
             [
              0.4444444444444444,
              "#bd3786"
             ],
             [
              0.5555555555555556,
              "#d8576b"
             ],
             [
              0.6666666666666666,
              "#ed7953"
             ],
             [
              0.7777777777777778,
              "#fb9f3a"
             ],
             [
              0.8888888888888888,
              "#fdca26"
             ],
             [
              1,
              "#f0f921"
             ]
            ],
            "type": "surface"
           }
          ],
          "table": [
           {
            "cells": {
             "fill": {
              "color": "#506784"
             },
             "line": {
              "color": "rgb(17,17,17)"
             }
            },
            "header": {
             "fill": {
              "color": "#2a3f5f"
             },
             "line": {
              "color": "rgb(17,17,17)"
             }
            },
            "type": "table"
           }
          ]
         },
         "layout": {
          "annotationdefaults": {
           "arrowcolor": "#f2f5fa",
           "arrowhead": 0,
           "arrowwidth": 1
          },
          "autotypenumbers": "strict",
          "coloraxis": {
           "colorbar": {
            "outlinewidth": 0,
            "ticks": ""
           }
          },
          "colorscale": {
           "diverging": [
            [
             0,
             "#8e0152"
            ],
            [
             0.1,
             "#c51b7d"
            ],
            [
             0.2,
             "#de77ae"
            ],
            [
             0.3,
             "#f1b6da"
            ],
            [
             0.4,
             "#fde0ef"
            ],
            [
             0.5,
             "#f7f7f7"
            ],
            [
             0.6,
             "#e6f5d0"
            ],
            [
             0.7,
             "#b8e186"
            ],
            [
             0.8,
             "#7fbc41"
            ],
            [
             0.9,
             "#4d9221"
            ],
            [
             1,
             "#276419"
            ]
           ],
           "sequential": [
            [
             0,
             "#0d0887"
            ],
            [
             0.1111111111111111,
             "#46039f"
            ],
            [
             0.2222222222222222,
             "#7201a8"
            ],
            [
             0.3333333333333333,
             "#9c179e"
            ],
            [
             0.4444444444444444,
             "#bd3786"
            ],
            [
             0.5555555555555556,
             "#d8576b"
            ],
            [
             0.6666666666666666,
             "#ed7953"
            ],
            [
             0.7777777777777778,
             "#fb9f3a"
            ],
            [
             0.8888888888888888,
             "#fdca26"
            ],
            [
             1,
             "#f0f921"
            ]
           ],
           "sequentialminus": [
            [
             0,
             "#0d0887"
            ],
            [
             0.1111111111111111,
             "#46039f"
            ],
            [
             0.2222222222222222,
             "#7201a8"
            ],
            [
             0.3333333333333333,
             "#9c179e"
            ],
            [
             0.4444444444444444,
             "#bd3786"
            ],
            [
             0.5555555555555556,
             "#d8576b"
            ],
            [
             0.6666666666666666,
             "#ed7953"
            ],
            [
             0.7777777777777778,
             "#fb9f3a"
            ],
            [
             0.8888888888888888,
             "#fdca26"
            ],
            [
             1,
             "#f0f921"
            ]
           ]
          },
          "colorway": [
           "#636efa",
           "#EF553B",
           "#00cc96",
           "#ab63fa",
           "#FFA15A",
           "#19d3f3",
           "#FF6692",
           "#B6E880",
           "#FF97FF",
           "#FECB52"
          ],
          "font": {
           "color": "#f2f5fa"
          },
          "geo": {
           "bgcolor": "rgb(17,17,17)",
           "lakecolor": "rgb(17,17,17)",
           "landcolor": "rgb(17,17,17)",
           "showlakes": true,
           "showland": true,
           "subunitcolor": "#506784"
          },
          "hoverlabel": {
           "align": "left"
          },
          "hovermode": "closest",
          "mapbox": {
           "style": "dark"
          },
          "paper_bgcolor": "rgb(17,17,17)",
          "plot_bgcolor": "rgb(17,17,17)",
          "polar": {
           "angularaxis": {
            "gridcolor": "#506784",
            "linecolor": "#506784",
            "ticks": ""
           },
           "bgcolor": "rgb(17,17,17)",
           "radialaxis": {
            "gridcolor": "#506784",
            "linecolor": "#506784",
            "ticks": ""
           }
          },
          "scene": {
           "xaxis": {
            "backgroundcolor": "rgb(17,17,17)",
            "gridcolor": "#506784",
            "gridwidth": 2,
            "linecolor": "#506784",
            "showbackground": true,
            "ticks": "",
            "zerolinecolor": "#C8D4E3"
           },
           "yaxis": {
            "backgroundcolor": "rgb(17,17,17)",
            "gridcolor": "#506784",
            "gridwidth": 2,
            "linecolor": "#506784",
            "showbackground": true,
            "ticks": "",
            "zerolinecolor": "#C8D4E3"
           },
           "zaxis": {
            "backgroundcolor": "rgb(17,17,17)",
            "gridcolor": "#506784",
            "gridwidth": 2,
            "linecolor": "#506784",
            "showbackground": true,
            "ticks": "",
            "zerolinecolor": "#C8D4E3"
           }
          },
          "shapedefaults": {
           "line": {
            "color": "#f2f5fa"
           }
          },
          "sliderdefaults": {
           "bgcolor": "#C8D4E3",
           "bordercolor": "rgb(17,17,17)",
           "borderwidth": 1,
           "tickwidth": 0
          },
          "ternary": {
           "aaxis": {
            "gridcolor": "#506784",
            "linecolor": "#506784",
            "ticks": ""
           },
           "baxis": {
            "gridcolor": "#506784",
            "linecolor": "#506784",
            "ticks": ""
           },
           "bgcolor": "rgb(17,17,17)",
           "caxis": {
            "gridcolor": "#506784",
            "linecolor": "#506784",
            "ticks": ""
           }
          },
          "title": {
           "x": 0.05
          },
          "updatemenudefaults": {
           "bgcolor": "#506784",
           "borderwidth": 0
          },
          "xaxis": {
           "automargin": true,
           "gridcolor": "#283442",
           "linecolor": "#506784",
           "ticks": "",
           "title": {
            "standoff": 15
           },
           "zerolinecolor": "#283442",
           "zerolinewidth": 2
          },
          "yaxis": {
           "automargin": true,
           "gridcolor": "#283442",
           "linecolor": "#506784",
           "ticks": "",
           "title": {
            "standoff": 15
           },
           "zerolinecolor": "#283442",
           "zerolinewidth": 2
          }
         }
        },
        "title": {
         "text": "Press Freedom Index Ranking vs Conflict Index Ranking (2023)"
        },
        "xaxis": {
         "title": {
          "text": "Conflict Index Ranking (Index Ranking 2023)"
         }
        },
        "yaxis": {
         "title": {
          "text": "Press Freedom Index Ranking (Rank)"
         }
        }
       }
      },
      "text/html": [
       "<div>                            <div id=\"901c3c86-5e2b-4610-9430-9d147e43e2df\" class=\"plotly-graph-div\" style=\"height:700px; width:100%;\"></div>            <script type=\"text/javascript\">                require([\"plotly\"], function(Plotly) {                    window.PLOTLYENV=window.PLOTLYENV || {};                                    if (document.getElementById(\"901c3c86-5e2b-4610-9430-9d147e43e2df\")) {                    Plotly.newPlot(                        \"901c3c86-5e2b-4610-9430-9d147e43e2df\",                        [{\"marker\":{\"color\":[\"blue\",\"blue\",\"blue\",\"blue\",\"blue\",\"blue\",\"blue\",\"blue\",\"blue\",\"blue\",\"blue\",\"blue\",\"blue\",\"blue\",\"blue\",\"blue\",\"blue\",\"blue\",\"blue\",\"blue\",\"blue\",\"blue\",\"blue\",\"yellow\",\"blue\",\"blue\",\"blue\",\"blue\",\"orange\",\"blue\",\"orange\",\"blue\",\"blue\",\"blue\",\"blue\",\"blue\",\"blue\",\"blue\",\"blue\",\"blue\",\"blue\",\"blue\",\"blue\",\"blue\",\"blue\",\"blue\",\"blue\",\"blue\",\"yellow\",\"blue\",\"blue\",\"blue\",\"blue\",\"blue\",\"orange\",\"yellow\",\"blue\",\"yellow\",\"blue\",\"blue\",\"blue\",\"blue\",\"blue\",\"blue\",\"blue\",\"blue\",\"blue\",\"blue\",\"blue\",\"blue\",\"blue\",\"blue\",\"blue\",\"orange\",\"yellow\",\"blue\",\"blue\",\"blue\",\"blue\",\"blue\",\"blue\",\"blue\",\"blue\",\"blue\",\"blue\",\"red\",\"blue\",\"blue\",\"blue\",\"orange\",\"yellow\",\"red\",\"blue\",\"yellow\",\"yellow\",\"blue\",\"blue\",\"blue\",\"blue\",\"blue\",\"yellow\",\"yellow\",\"blue\",\"yellow\",\"orange\",\"yellow\",\"blue\",\"orange\",\"blue\",\"yellow\",\"yellow\",\"blue\",\"blue\",\"blue\",\"red\",\"blue\",\"yellow\",\"orange\",\"red\",\"blue\",\"orange\",\"blue\",\"orange\",\"yellow\",\"blue\",\"blue\",\"blue\",\"blue\",\"orange\",\"red\",\"orange\",\"blue\",\"blue\",\"blue\",\"blue\",\"blue\",\"red\",\"blue\",\"orange\",\"blue\",\"orange\",\"blue\",\"blue\",\"blue\",\"red\",\"blue\",\"blue\",\"orange\",\"blue\",\"orange\",\"blue\",\"orange\",\"yellow\",\"blue\",\"orange\",\"red\",\"orange\",\"blue\",\"blue\",\"blue\",\"red\",\"blue\",\"red\",\"blue\",\"yellow\",\"blue\",\"blue\",\"blue\"],\"size\":10},\"mode\":\"markers\",\"name\":\"Land\",\"showlegend\":false,\"text\":[\"Norway\",\"Ireland\",\"Denmark\",\"Sweden\",\"Finland\",\"Netherlands\",\"Lithuania\",\"Estonia\",\"Portugal\",\"East Timor\",\"Liechtenstein\",\"Switzerland\",\"New Zealand\",\"Canada\",\"Latvia\",\"Slovakia\",\"Iceland\",\"Samoa\",\"Luxembourg\",\"Germany\",\"Namibia\",\"Costa Rica\",\"France\",\"South Africa\",\"United Kingdom\",\"Australia\",\"Moldova\",\"Austria\",\"Trinidad and Tobago\",\"Belgium\",\"Jamaica\",\"Seychelles\",\"Taiwan\",\"Spain\",\"Andorra\",\"North Macedonia\",\"Montenegro\",\"Argentina\",\"Italy\",\"Croatia\",\"Dominican Republic\",\"Tonga\",\"United States\",\"Gambia\",\"South Korea\",\"Suriname\",\"Armenia\",\"Slovenia\",\"Belize\",\"Uruguay\",\"Romania\",\"Cyprus\",\"Kosovo\",\"Poland\",\"Burkina Faso\",\"Papua New Guinea\",\"Guyana\",\"Niger\",\"Ghana\",\"Mauritius\",\"Botswana\",\"Liberia\",\"Lesotho\",\"Japan\",\"Panama\",\"Togo\",\"Bulgaria\",\"Hungary\",\"Malaysia\",\"Sierra Leone\",\"Comoros\",\"Georgia\",\"Guinea-Bissau\",\"Ukraine\",\"Ecuador\",\"Malawi\",\"Chile\",\"Malta\",\"Guinea\",\"Mauritania\",\"Zambia\",\"Mongolia\",\"Fiji\",\"Bhutan\",\"Serbia\",\"Brazil\",\"Gabon\",\"Nepal\",\"Albania\",\"Israel\",\"Central African Republic\",\"Haiti\",\"Maldives\",\"Madagascar\",\"Mozambique\",\"Paraguay\",\"Senegal\",\"Qatar\",\"Thailand\",\"Greece\",\"Indonesia\",\"Chad\",\"Peru\",\"Benin\",\"Mali\",\"Burundi\",\"El Salvador\",\"Kenya\",\"Bolivia\",\"South Sudan\",\"Lebanon\",\"Equatorial Guinea\",\"Tunisia\",\"Kyrgyzstan\",\"Nigeria\",\"Angola\",\"Zimbabwe\",\"Guatemala\",\"Mexico\",\"Singapore\",\"Ethiopia\",\"Rwanda\",\"Philippines\",\"Uganda\",\"Kazakhstan\",\"Sri Lanka\",\"Algeria\",\"Uzbekistan\",\"Cameroon\",\"Colombia\",\"Somalia\",\"Brunei\",\"Tanzania\",\"United Arab Emirates\",\"Jordan\",\"Cambodia\",\"Sudan\",\"Libya\",\"Pakistan\",\"Azerbaijan\",\"Afghanistan\",\"Tajikistan\",\"Kuwait\",\"Oman\",\"Palestine\",\"Belarus\",\"Nicaragua\",\"Venezuela\",\"Laos\",\"India\",\"Djibouti\",\"Bangladesh\",\"Russia\",\"Egypt\",\"Iraq\",\"Yemen\",\"Honduras\",\"Saudi Arabia\",\"Bahrain\",\"Cuba\",\"Myanmar\",\"Eritrea\",\"Syria\",\"Turkmenistan\",\"Iran\",\"Vietnam\",\"China\",\"North Korea\"],\"x\":[146,140,163,140,146,125,146,163,163,146,163,163,163,117,163,146,146,146,163,79,126,120,61,33,113,163,94,132,30,104,21,163,163,117,163,131,135,74,96,163,84,163,51,116,163,122,79,143,47,135,112,86,92,102,17,50,108,34,53,115,106,78,107,146,96,77,163,100,146,70,109,103,88,13,40,62,57,143,65,83,73,163,163,163,120,6,105,56,117,22,34,8,130,38,45,70,69,163,75,59,44,49,53,43,15,32,58,19,72,37,31,163,101,90,5,64,48,24,4,163,22,95,27,42,84,76,81,90,25,7,27,163,68,163,122,146,10,52,14,55,25,113,163,146,3,99,89,27,143,15,127,17,36,82,12,9,20,93,132,87,1,162,2,163,46,111,66,109],\"y\":[1,2,3,4,5,6,7,8,9,10,11,12,13,15,16,17,18,19,20,21,22,23,24,25,26,27,28,29,30,31,32,34,35,36,37,38,39,40,41,42,43,44,45,46,47,48,49,50,51,52,53,55,56,57,58,59,60,61,62,63,65,66,67,68,69,70,71,72,73,74,75,77,78,79,80,82,83,84,85,86,87,88,89,90,91,92,94,95,96,97,98,99,100,101,102,103,104,105,106,107,108,109,110,112,113,114,115,116,117,118,119,120,121,122,123,125,126,127,128,129,130,131,132,133,134,135,136,137,138,139,141,142,143,145,146,147,148,149,150,151,152,153,154,155,156,157,158,159,160,161,162,163,164,166,167,168,169,170,171,172,173,174,175,176,177,178,179,180],\"type\":\"scatter\"},{\"legendgroup\":\"group1\",\"marker\":{\"color\":\"red\",\"size\":10},\"mode\":\"markers\",\"name\":\"Extreem (Top 10)\",\"showlegend\":true,\"x\":[null],\"y\":[null],\"type\":\"scatter\"},{\"legendgroup\":\"group2\",\"marker\":{\"color\":\"orange\",\"size\":10},\"mode\":\"markers\",\"name\":\"Hoog (11-30)\",\"showlegend\":true,\"x\":[null],\"y\":[null],\"type\":\"scatter\"},{\"legendgroup\":\"group3\",\"marker\":{\"color\":\"yellow\",\"size\":10},\"mode\":\"markers\",\"name\":\"Turbulent (31-50)\",\"showlegend\":true,\"x\":[null],\"y\":[null],\"type\":\"scatter\"},{\"legendgroup\":\"group4\",\"marker\":{\"color\":\"blue\",\"size\":10},\"mode\":\"markers\",\"name\":\"Laag\\u002finactief (\\u003e50)\",\"showlegend\":true,\"x\":[null],\"y\":[null],\"type\":\"scatter\"},{\"line\":{\"color\":\"black\"},\"mode\":\"lines\",\"name\":\"Trend lijn\",\"x\":[1,163],\"y\":[180,1],\"type\":\"scatter\"}],                        {\"template\":{\"data\":{\"histogram2dcontour\":[{\"type\":\"histogram2dcontour\",\"colorbar\":{\"outlinewidth\":0,\"ticks\":\"\"},\"colorscale\":[[0.0,\"#0d0887\"],[0.1111111111111111,\"#46039f\"],[0.2222222222222222,\"#7201a8\"],[0.3333333333333333,\"#9c179e\"],[0.4444444444444444,\"#bd3786\"],[0.5555555555555556,\"#d8576b\"],[0.6666666666666666,\"#ed7953\"],[0.7777777777777778,\"#fb9f3a\"],[0.8888888888888888,\"#fdca26\"],[1.0,\"#f0f921\"]]}],\"choropleth\":[{\"type\":\"choropleth\",\"colorbar\":{\"outlinewidth\":0,\"ticks\":\"\"}}],\"histogram2d\":[{\"type\":\"histogram2d\",\"colorbar\":{\"outlinewidth\":0,\"ticks\":\"\"},\"colorscale\":[[0.0,\"#0d0887\"],[0.1111111111111111,\"#46039f\"],[0.2222222222222222,\"#7201a8\"],[0.3333333333333333,\"#9c179e\"],[0.4444444444444444,\"#bd3786\"],[0.5555555555555556,\"#d8576b\"],[0.6666666666666666,\"#ed7953\"],[0.7777777777777778,\"#fb9f3a\"],[0.8888888888888888,\"#fdca26\"],[1.0,\"#f0f921\"]]}],\"heatmap\":[{\"type\":\"heatmap\",\"colorbar\":{\"outlinewidth\":0,\"ticks\":\"\"},\"colorscale\":[[0.0,\"#0d0887\"],[0.1111111111111111,\"#46039f\"],[0.2222222222222222,\"#7201a8\"],[0.3333333333333333,\"#9c179e\"],[0.4444444444444444,\"#bd3786\"],[0.5555555555555556,\"#d8576b\"],[0.6666666666666666,\"#ed7953\"],[0.7777777777777778,\"#fb9f3a\"],[0.8888888888888888,\"#fdca26\"],[1.0,\"#f0f921\"]]}],\"heatmapgl\":[{\"type\":\"heatmapgl\",\"colorbar\":{\"outlinewidth\":0,\"ticks\":\"\"},\"colorscale\":[[0.0,\"#0d0887\"],[0.1111111111111111,\"#46039f\"],[0.2222222222222222,\"#7201a8\"],[0.3333333333333333,\"#9c179e\"],[0.4444444444444444,\"#bd3786\"],[0.5555555555555556,\"#d8576b\"],[0.6666666666666666,\"#ed7953\"],[0.7777777777777778,\"#fb9f3a\"],[0.8888888888888888,\"#fdca26\"],[1.0,\"#f0f921\"]]}],\"contourcarpet\":[{\"type\":\"contourcarpet\",\"colorbar\":{\"outlinewidth\":0,\"ticks\":\"\"}}],\"contour\":[{\"type\":\"contour\",\"colorbar\":{\"outlinewidth\":0,\"ticks\":\"\"},\"colorscale\":[[0.0,\"#0d0887\"],[0.1111111111111111,\"#46039f\"],[0.2222222222222222,\"#7201a8\"],[0.3333333333333333,\"#9c179e\"],[0.4444444444444444,\"#bd3786\"],[0.5555555555555556,\"#d8576b\"],[0.6666666666666666,\"#ed7953\"],[0.7777777777777778,\"#fb9f3a\"],[0.8888888888888888,\"#fdca26\"],[1.0,\"#f0f921\"]]}],\"surface\":[{\"type\":\"surface\",\"colorbar\":{\"outlinewidth\":0,\"ticks\":\"\"},\"colorscale\":[[0.0,\"#0d0887\"],[0.1111111111111111,\"#46039f\"],[0.2222222222222222,\"#7201a8\"],[0.3333333333333333,\"#9c179e\"],[0.4444444444444444,\"#bd3786\"],[0.5555555555555556,\"#d8576b\"],[0.6666666666666666,\"#ed7953\"],[0.7777777777777778,\"#fb9f3a\"],[0.8888888888888888,\"#fdca26\"],[1.0,\"#f0f921\"]]}],\"mesh3d\":[{\"type\":\"mesh3d\",\"colorbar\":{\"outlinewidth\":0,\"ticks\":\"\"}}],\"scatter\":[{\"marker\":{\"line\":{\"color\":\"#283442\"}},\"type\":\"scatter\"}],\"parcoords\":[{\"type\":\"parcoords\",\"line\":{\"colorbar\":{\"outlinewidth\":0,\"ticks\":\"\"}}}],\"scatterpolargl\":[{\"type\":\"scatterpolargl\",\"marker\":{\"colorbar\":{\"outlinewidth\":0,\"ticks\":\"\"}}}],\"bar\":[{\"error_x\":{\"color\":\"#f2f5fa\"},\"error_y\":{\"color\":\"#f2f5fa\"},\"marker\":{\"line\":{\"color\":\"rgb(17,17,17)\",\"width\":0.5},\"pattern\":{\"fillmode\":\"overlay\",\"size\":10,\"solidity\":0.2}},\"type\":\"bar\"}],\"scattergeo\":[{\"type\":\"scattergeo\",\"marker\":{\"colorbar\":{\"outlinewidth\":0,\"ticks\":\"\"}}}],\"scatterpolar\":[{\"type\":\"scatterpolar\",\"marker\":{\"colorbar\":{\"outlinewidth\":0,\"ticks\":\"\"}}}],\"histogram\":[{\"marker\":{\"pattern\":{\"fillmode\":\"overlay\",\"size\":10,\"solidity\":0.2}},\"type\":\"histogram\"}],\"scattergl\":[{\"marker\":{\"line\":{\"color\":\"#283442\"}},\"type\":\"scattergl\"}],\"scatter3d\":[{\"type\":\"scatter3d\",\"line\":{\"colorbar\":{\"outlinewidth\":0,\"ticks\":\"\"}},\"marker\":{\"colorbar\":{\"outlinewidth\":0,\"ticks\":\"\"}}}],\"scattermapbox\":[{\"type\":\"scattermapbox\",\"marker\":{\"colorbar\":{\"outlinewidth\":0,\"ticks\":\"\"}}}],\"scatterternary\":[{\"type\":\"scatterternary\",\"marker\":{\"colorbar\":{\"outlinewidth\":0,\"ticks\":\"\"}}}],\"scattercarpet\":[{\"type\":\"scattercarpet\",\"marker\":{\"colorbar\":{\"outlinewidth\":0,\"ticks\":\"\"}}}],\"carpet\":[{\"aaxis\":{\"endlinecolor\":\"#A2B1C6\",\"gridcolor\":\"#506784\",\"linecolor\":\"#506784\",\"minorgridcolor\":\"#506784\",\"startlinecolor\":\"#A2B1C6\"},\"baxis\":{\"endlinecolor\":\"#A2B1C6\",\"gridcolor\":\"#506784\",\"linecolor\":\"#506784\",\"minorgridcolor\":\"#506784\",\"startlinecolor\":\"#A2B1C6\"},\"type\":\"carpet\"}],\"table\":[{\"cells\":{\"fill\":{\"color\":\"#506784\"},\"line\":{\"color\":\"rgb(17,17,17)\"}},\"header\":{\"fill\":{\"color\":\"#2a3f5f\"},\"line\":{\"color\":\"rgb(17,17,17)\"}},\"type\":\"table\"}],\"barpolar\":[{\"marker\":{\"line\":{\"color\":\"rgb(17,17,17)\",\"width\":0.5},\"pattern\":{\"fillmode\":\"overlay\",\"size\":10,\"solidity\":0.2}},\"type\":\"barpolar\"}],\"pie\":[{\"automargin\":true,\"type\":\"pie\"}]},\"layout\":{\"autotypenumbers\":\"strict\",\"colorway\":[\"#636efa\",\"#EF553B\",\"#00cc96\",\"#ab63fa\",\"#FFA15A\",\"#19d3f3\",\"#FF6692\",\"#B6E880\",\"#FF97FF\",\"#FECB52\"],\"font\":{\"color\":\"#f2f5fa\"},\"hovermode\":\"closest\",\"hoverlabel\":{\"align\":\"left\"},\"paper_bgcolor\":\"rgb(17,17,17)\",\"plot_bgcolor\":\"rgb(17,17,17)\",\"polar\":{\"bgcolor\":\"rgb(17,17,17)\",\"angularaxis\":{\"gridcolor\":\"#506784\",\"linecolor\":\"#506784\",\"ticks\":\"\"},\"radialaxis\":{\"gridcolor\":\"#506784\",\"linecolor\":\"#506784\",\"ticks\":\"\"}},\"ternary\":{\"bgcolor\":\"rgb(17,17,17)\",\"aaxis\":{\"gridcolor\":\"#506784\",\"linecolor\":\"#506784\",\"ticks\":\"\"},\"baxis\":{\"gridcolor\":\"#506784\",\"linecolor\":\"#506784\",\"ticks\":\"\"},\"caxis\":{\"gridcolor\":\"#506784\",\"linecolor\":\"#506784\",\"ticks\":\"\"}},\"coloraxis\":{\"colorbar\":{\"outlinewidth\":0,\"ticks\":\"\"}},\"colorscale\":{\"sequential\":[[0.0,\"#0d0887\"],[0.1111111111111111,\"#46039f\"],[0.2222222222222222,\"#7201a8\"],[0.3333333333333333,\"#9c179e\"],[0.4444444444444444,\"#bd3786\"],[0.5555555555555556,\"#d8576b\"],[0.6666666666666666,\"#ed7953\"],[0.7777777777777778,\"#fb9f3a\"],[0.8888888888888888,\"#fdca26\"],[1.0,\"#f0f921\"]],\"sequentialminus\":[[0.0,\"#0d0887\"],[0.1111111111111111,\"#46039f\"],[0.2222222222222222,\"#7201a8\"],[0.3333333333333333,\"#9c179e\"],[0.4444444444444444,\"#bd3786\"],[0.5555555555555556,\"#d8576b\"],[0.6666666666666666,\"#ed7953\"],[0.7777777777777778,\"#fb9f3a\"],[0.8888888888888888,\"#fdca26\"],[1.0,\"#f0f921\"]],\"diverging\":[[0,\"#8e0152\"],[0.1,\"#c51b7d\"],[0.2,\"#de77ae\"],[0.3,\"#f1b6da\"],[0.4,\"#fde0ef\"],[0.5,\"#f7f7f7\"],[0.6,\"#e6f5d0\"],[0.7,\"#b8e186\"],[0.8,\"#7fbc41\"],[0.9,\"#4d9221\"],[1,\"#276419\"]]},\"xaxis\":{\"gridcolor\":\"#283442\",\"linecolor\":\"#506784\",\"ticks\":\"\",\"title\":{\"standoff\":15},\"zerolinecolor\":\"#283442\",\"automargin\":true,\"zerolinewidth\":2},\"yaxis\":{\"gridcolor\":\"#283442\",\"linecolor\":\"#506784\",\"ticks\":\"\",\"title\":{\"standoff\":15},\"zerolinecolor\":\"#283442\",\"automargin\":true,\"zerolinewidth\":2},\"scene\":{\"xaxis\":{\"backgroundcolor\":\"rgb(17,17,17)\",\"gridcolor\":\"#506784\",\"linecolor\":\"#506784\",\"showbackground\":true,\"ticks\":\"\",\"zerolinecolor\":\"#C8D4E3\",\"gridwidth\":2},\"yaxis\":{\"backgroundcolor\":\"rgb(17,17,17)\",\"gridcolor\":\"#506784\",\"linecolor\":\"#506784\",\"showbackground\":true,\"ticks\":\"\",\"zerolinecolor\":\"#C8D4E3\",\"gridwidth\":2},\"zaxis\":{\"backgroundcolor\":\"rgb(17,17,17)\",\"gridcolor\":\"#506784\",\"linecolor\":\"#506784\",\"showbackground\":true,\"ticks\":\"\",\"zerolinecolor\":\"#C8D4E3\",\"gridwidth\":2}},\"shapedefaults\":{\"line\":{\"color\":\"#f2f5fa\"}},\"annotationdefaults\":{\"arrowcolor\":\"#f2f5fa\",\"arrowhead\":0,\"arrowwidth\":1},\"geo\":{\"bgcolor\":\"rgb(17,17,17)\",\"landcolor\":\"rgb(17,17,17)\",\"subunitcolor\":\"#506784\",\"showland\":true,\"showlakes\":true,\"lakecolor\":\"rgb(17,17,17)\"},\"title\":{\"x\":0.05},\"updatemenudefaults\":{\"bgcolor\":\"#506784\",\"borderwidth\":0},\"sliderdefaults\":{\"bgcolor\":\"#C8D4E3\",\"borderwidth\":1,\"bordercolor\":\"rgb(17,17,17)\",\"tickwidth\":0},\"mapbox\":{\"style\":\"dark\"}}},\"title\":{\"text\":\"Press Freedom Index Ranking vs Conflict Index Ranking (2023)\"},\"xaxis\":{\"title\":{\"text\":\"Conflict Index Ranking (Index Ranking 2023)\"}},\"yaxis\":{\"title\":{\"text\":\"Press Freedom Index Ranking (Rank)\"}},\"showlegend\":true,\"height\":700},                        {\"responsive\": true}                    ).then(function(){\n",
       "                            \n",
       "var gd = document.getElementById('901c3c86-5e2b-4610-9430-9d147e43e2df');\n",
       "var x = new MutationObserver(function (mutations, observer) {{\n",
       "        var display = window.getComputedStyle(gd).display;\n",
       "        if (!display || display === 'none') {{\n",
       "            console.log([gd, 'removed!']);\n",
       "            Plotly.purge(gd);\n",
       "            observer.disconnect();\n",
       "        }}\n",
       "}});\n",
       "\n",
       "// Listen for the removal of the full notebook cells\n",
       "var notebookContainer = gd.closest('#notebook-container');\n",
       "if (notebookContainer) {{\n",
       "    x.observe(notebookContainer, {childList: true});\n",
       "}}\n",
       "\n",
       "// Listen for the clearing of the current output cell\n",
       "var outputEl = gd.closest('.output');\n",
       "if (outputEl) {{\n",
       "    x.observe(outputEl, {childList: true});\n",
       "}}\n",
       "\n",
       "                        })                };                });            </script>        </div>"
      ]
     },
     "metadata": {},
     "output_type": "display_data"
    },
    {
     "name": "stdout",
     "output_type": "stream",
     "text": [
      "Correlatie tussen de conflict index ranking en de persvrijheid index ranking: -0.42573893484944786\n"
     ]
    }
   ],
   "source": [
    "fig = go.Figure()\n",
    "\n",
    "fig.add_trace(go.Scatter(\n",
    "    x=press_conflict_df['conflict_ranking'],\n",
    "    y=press_conflict_df['press_freedom_ranking'],\n",
    "    mode='markers',\n",
    "    text=press_conflict_df['country'],\n",
    "    marker=dict(\n",
    "        color=press_conflict_df['conflict_color'],\n",
    "        size=10\n",
    "    ),\n",
    "    name='Land',\n",
    "    showlegend=False\n",
    "))\n",
    "\n",
    "fig.add_trace(go.Scatter(\n",
    "    x=[None], y=[None],\n",
    "    mode='markers',\n",
    "    marker=dict(color='red', size=10),\n",
    "    legendgroup='group1',\n",
    "    showlegend=True,\n",
    "    name='Extreem (Top 10)'\n",
    "))\n",
    "fig.add_trace(go.Scatter(\n",
    "    x=[None], y=[None],\n",
    "    mode='markers',\n",
    "    marker=dict(color='orange', size=10),\n",
    "    legendgroup='group2',\n",
    "    showlegend=True,\n",
    "    name='Hoog (11-30)'\n",
    "))\n",
    "fig.add_trace(go.Scatter(\n",
    "    x=[None], y=[None],\n",
    "    mode='markers',\n",
    "    marker=dict(color='yellow', size=10),\n",
    "    legendgroup='group3',\n",
    "    showlegend=True,\n",
    "    name='Turbulent (31-50)'\n",
    "))\n",
    "fig.add_trace(go.Scatter(\n",
    "    x=[None], y=[None],\n",
    "    mode='markers',\n",
    "    marker=dict(color='blue', size=10),\n",
    "    legendgroup='group4',\n",
    "    showlegend=True,\n",
    "    name='Laag/inactief (>50)'\n",
    "))\n",
    "\n",
    "fig.add_trace(go.Scatter(\n",
    "    x=[min(press_conflict_df['conflict_ranking']), max(press_conflict_df['conflict_ranking'])],\n",
    "    y=[max(press_conflict_df['press_freedom_ranking']), min(press_conflict_df['press_freedom_ranking'])],\n",
    "    mode='lines',\n",
    "    line=dict(color='black'),\n",
    "    name='Trend lijn'\n",
    "))\n",
    "\n",
    "fig.update_layout(\n",
    "    title='Press Freedom Index Ranking vs Conflict Index Ranking (2023)',\n",
    "    xaxis_title='Conflict Index Ranking (Index Ranking 2023)',\n",
    "    yaxis_title='Press Freedom Index Ranking (Rank)',\n",
    "    showlegend=True,\n",
    "    height=700\n",
    ")\n",
    "\n",
    "fig.show()\n",
    "\n",
    "correlation = press_conflict_df[\"conflict_ranking\"].corr(press_conflict_df[\"press_freedom_ranking\"])\n",
    "\n",
    "print(f\"Correlatie tussen de conflict index ranking en de persvrijheid index ranking: {correlation}\")"
   ]
  },
  {
   "cell_type": "markdown",
   "metadata": {},
   "source": [
    "De analyse van de dataset suggereert dat conflicten een negatieve impact hebben op de persvrijheid. We hebben een significante negatieve correlatie gevonden tussen de Conflict Index Ranking en de Press Freedom Index Ranking voor het jaar 2023. Specifiek toont de visualisatie een correlatie van `-0.43` tussen deze twee indexen. Dit betekent dat naarmate een land hoger scoort op de Conflict Index Ranking (wat wijst op een lagere mate van conflict), het doorgaans lager scoort op de Press Freedom Index Ranking (wat wijst op meer persvrijheid).\n"
   ]
  },
  {
   "cell_type": "markdown",
   "metadata": {},
   "source": [
    "### Argument 2\n",
    "\n",
    "**Naarmate een conflict escaleert, verslechtert de persvrijheid nog meer.**\n",
    "\n",
    "De relatie tussen conflicten en persvrijheid is complex en vertoont vaak zorgwekkende trends. Wanneer conflicten escaleren, lijkt de persvrijheid in samenlevingen significant te verslechteren. Dit fenomeen wordt goed geïllustreerd in gebieden zoals Palestina en Syrië. Gedurende de periode van 2019 tot 2023 is de Conflict Index Ranking voor Syrië relatief stabiel gebleven, in contrast hiermee heeft Palestina een opmerkelijke stijging in de Conflict Index Ranking doorgemaakt, van de 23e plaats in 2019 naar de 3e plaats in 2023, wat duidt op een aanzienlijke escalatie van het conflict in dat gebied.\n"
   ]
  },
  {
   "cell_type": "code",
   "execution_count": 334,
   "metadata": {
    "ExecuteTime": {
     "end_time": "2024-06-19T14:40:20.662490Z",
     "start_time": "2024-06-19T14:40:20.545486Z"
    }
   },
   "outputs": [
    {
     "data": {
      "application/vnd.jupyter.widget-view+json": {
       "model_id": "eb0591112c9f4156bf6fab677ee88a46",
       "version_major": 2,
       "version_minor": 0
      },
      "text/plain": [
       "Dropdown(description='Dataset:', options=('Conflict', 'Press Freedom'), value='Conflict')"
      ]
     },
     "metadata": {},
     "output_type": "display_data"
    },
    {
     "data": {
      "application/vnd.jupyter.widget-view+json": {
       "model_id": "2e9fb96ae84b46028b8888cf91db51e6",
       "version_major": 2,
       "version_minor": 0
      },
      "text/plain": [
       "Text(value='', description='Zoeken:', placeholder='Zoek landen')"
      ]
     },
     "metadata": {},
     "output_type": "display_data"
    },
    {
     "data": {
      "application/vnd.jupyter.widget-view+json": {
       "model_id": "1e38b385c0644d54a40bf6e865fe80ae",
       "version_major": 2,
       "version_minor": 0
      },
      "text/plain": [
       "interactive(children=(SelectMultiple(description='Landen:', layout=Layout(height='200px', width='400px'), opti…"
      ]
     },
     "metadata": {},
     "output_type": "display_data"
    },
    {
     "data": {
      "text/plain": [
       "<function __main__.plot_countries_ranking(countries)>"
      ]
     },
     "execution_count": 334,
     "metadata": {},
     "output_type": "execute_result"
    }
   ],
   "source": [
    "data_conflict = pd.read_excel('./data/01-2024-conflic-index.xlsx')\n",
    "\n",
    "data_conflict.rename(columns={'Country': 'country', 'Index Ranking 2023': 'Conflict_Rank_2023', 'Change in ranking since 2019': 'Change_Conflict'}, inplace=True)\n",
    "\n",
    "# Merge the datasets for the press freedom index for 2019 and 2023\n",
    "press_19_23_df = pd.merge(\n",
    "    press_freedom_df[press_freedom_df['year'] == 2019][[\"country\", \"rank\"]],\n",
    "    press_freedom_df[press_freedom_df['year'] == 2023][[\"country\", \"rank\"]],\n",
    "    on='country',\n",
    "    how='inner',\n",
    "    suffixes=(\"_2019\", \"_2023\")\n",
    ")\n",
    "\n",
    "# Calculate the change in ranking for the press freedom index between 2019 and 2023\n",
    "press_19_23_df[\"change\"] = press_19_23_df[\"rank_2023\"] - press_19_23_df[\"rank_2019\"]\n",
    "\n",
    "data_conflict['Conflict_Rank_2019'] = data_conflict['Conflict_Rank_2023'] + data_conflict['Change_Conflict']\n",
    "\n",
    "def filter_countries(text, dataset):\n",
    "    if dataset == 'Conflict':\n",
    "        return [\n",
    "            country\n",
    "            for country in conflict_df[\"country\"]\n",
    "            if text.lower() in country.lower()\n",
    "        ]\n",
    "    else:\n",
    "        return [\n",
    "            country\n",
    "            for country in press_19_23_df[\"country\"]\n",
    "            if text.lower() in country.lower()\n",
    "        ]\n",
    "\n",
    "\n",
    "def plot_countries_ranking(countries):\n",
    "    if not countries:\n",
    "        print(\"Selecteer minstens een land\")\n",
    "        return\n",
    "    \n",
    "    fig = make_subplots(rows=2, cols=1, shared_xaxes=True, subplot_titles=('Conflict Index', 'Press Freedom Index'))\n",
    "    \n",
    "    for country in countries:\n",
    "\n",
    "        selected_data_conflict = data_conflict[data_conflict['country'] == country]\n",
    "        \n",
    "        if len(selected_data_conflict) > 0:\n",
    "            ranking_2019 = selected_data_conflict['Conflict_Rank_2019'].values[0]\n",
    "            ranking_2023 = selected_data_conflict['Conflict_Rank_2023'].values[0]\n",
    "            change = ranking_2023 - ranking_2019\n",
    "            \n",
    "            color = \"Red\" # Default color\n",
    "            if change == 0:\n",
    "                color = \"blue\"\n",
    "            elif change > 0:\n",
    "                color = \"green\"\n",
    "            \n",
    "            fig.add_trace(go.Scatter(\n",
    "                x = ['2019', '2023'],\n",
    "                y = [ranking_2019, ranking_2023],\n",
    "                mode = 'lines+markers',\n",
    "                marker = dict(color=color),\n",
    "                line = dict(color=color),\n",
    "                name = f'{country} Conflict ({ranking_2019} -> {ranking_2023})'\n",
    "            ), row=1, col=1)\n",
    "        \n",
    "        selected_press_df = press_19_23_df[press_19_23_df[\"country\"] == country]\n",
    "        \n",
    "        if len(selected_press_df) > 0:\n",
    "            ranking_2019 = selected_press_df[\"rank_2019\"].values[0]\n",
    "            ranking_2023 = selected_press_df[\"rank_2023\"].values[0]\n",
    "            change = selected_press_df[\"change\"].values[0]\n",
    "            \n",
    "            color = \"green\" # Default color\n",
    "            if change == 0:\n",
    "                color = \"blue\"\n",
    "            elif change > 0:\n",
    "                color = \"red\"\n",
    "            \n",
    "            fig.add_trace(go.Scatter(\n",
    "                x = ['2019', '2023'],\n",
    "                y = [ranking_2019, ranking_2023],\n",
    "                mode = 'lines+markers',\n",
    "                marker = dict(color=color),\n",
    "                line = dict(color=color),\n",
    "                name = f'{country} Press Freedom ({ranking_2019} -> {ranking_2023})'\n",
    "            ), row=2, col=1)\n",
    "        \n",
    "    if len(countries) == 1:\n",
    "        title = f'Verandering in Ranking voor {countries[0]}'\n",
    "    elif len(countries) == 2:\n",
    "        title = f'Verandering in Ranking voor {\" en \".join(countries)}'\n",
    "    elif len(countries) > 5:\n",
    "        title = f'Verandering in Ranking voor {len(countries)} landen'\n",
    "    else:\n",
    "        title = f'Verandering in Ranking voor {\", \".join(countries)}'\n",
    "        \n",
    "    fig.update_layout(\n",
    "        height=800,\n",
    "        title_text=title,\n",
    "        showlegend=True,\n",
    "    )\n",
    "    \n",
    "    fig.update_xaxes(title_text='Jaar', row=1, col=1)\n",
    "    fig.update_xaxes(title_text='Jaar', row=2, col=1)\n",
    "    fig.update_yaxes(title_text='Conflict Index Ranking', row=1, col=1)\n",
    "    fig.update_yaxes(title_text='Press Freedom Index Ranking', row=2, col=1)\n",
    "    \n",
    "    fig.show()\n",
    "\n",
    "dataset_dropdown = widgets.Dropdown(\n",
    "    options=['Conflict', 'Press Freedom'],\n",
    "    value='Conflict',\n",
    "    description='Dataset:'\n",
    ")\n",
    "\n",
    "country_dropdown = widgets.SelectMultiple(\n",
    "    options = data_conflict['country'].unique().tolist() if dataset_dropdown.value == 'Conflict' else press_19_23_df[\"country\"].unique().tolist(),\n",
    "    description = 'Landen:',\n",
    "    disabled = False,\n",
    "    layout = widgets.Layout(height='200px', width='400px'),\n",
    ")\n",
    "\n",
    "search_text = widgets.Text(\n",
    "    value = '',\n",
    "    placeholder = 'Zoek landen',\n",
    "    description = 'Zoeken:',\n",
    "    disabled = False\n",
    ")\n",
    "\n",
    "def handle_search(change):\n",
    "    search_results = filter_countries(change.new, dataset_dropdown.value)\n",
    "    \n",
    "    selected_countries = list(country_dropdown.value)\n",
    "    country_dropdown.options = search_results\n",
    "    \n",
    "    country_dropdown.value = [\n",
    "        country\n",
    "        for country in selected_countries\n",
    "        if country in search_results\n",
    "    ]\n",
    "\n",
    "def update_country_dropdown(change):\n",
    "    search_results = filter_countries(search_text.value, change.new)\n",
    "    country_dropdown.options = search_results\n",
    "    country_dropdown.value = []\n",
    "\n",
    "search_text.observe(handle_search, names='value')\n",
    "dataset_dropdown.observe(update_country_dropdown, names='value')\n",
    "\n",
    "display(dataset_dropdown)\n",
    "display(search_text)\n",
    "\n",
    "interact(plot_countries_ranking, countries=country_dropdown)"
   ]
  },
  {
   "cell_type": "markdown",
   "metadata": {},
   "source": [
    "**DIT WERKT NOG NIET IN JUPYTER BOOK**\n",
    "\n",
    "Hier is een foto van hoe het eruit moet zien:\n",
    "\n",
    "![Visualisatie 1](./images/viz.png)"
   ]
  },
  {
   "cell_type": "markdown",
   "metadata": {},
   "source": [
    "De visualisatie toont deze trends duidelijk. Het beeld schetst de mogelijke negatieve correlatie tussen de Conflict Index en de Press Freedom Index, waarbij landen met hogere conflictniveaus vaak lagere persvrijheidsscores vertonen. Dit suggereert dat journalisten in deze regio's te maken hebben met verhoogde risico's zoals geweld, intimidatie en censuur, wat hun mogelijkheid om vrij te rapporteren beperkt.\n",
    "\n",
    "De data wijst erop dat tijdens conflicten vaak noodmaatregelen en censuur worden ingevoerd om de berichtgeving te controleren en de publieke opinie te beïnvloeden, wat verdere inperkingen van de persvrijheid met zich meebrengt. Hoewel deze correlatie aangeeft hoe conflicten de persvrijheid kunnen beïnvloeden, moeten we erkennen dat andere factoren zoals autoritaire regimes en economische instabiliteit ook een rol kunnen spelen. Desalniettemin benadrukt deze analyse het cruciale belang van het beschermen van journalisten en het handhaven van vrije media, vooral in tijden van crisis.\n"
   ]
  },
  {
   "cell_type": "markdown",
   "metadata": {},
   "source": [
    "## Autocratische Bestuursvormen Verminderen de Persvrijheid"
   ]
  },
  {
   "cell_type": "markdown",
   "metadata": {},
   "source": [
    "### Argument 1\n",
    "\n",
    "**Landen met een meer autocratische bestuursvorm hebben een lagere persvrijheid.**\n",
    "\n",
    "Het verband tussen bestuursvormen en persvrijheid is cruciaal binnen de context van democratie en mensenrechten. Autocratische regimes, die worden gekenmerkt door een sterke concentratie van macht en beperkte politieke vrijheden, vertonen vaak tendensen van onderdrukking van vrije media. Deze onderdrukking dient niet alleen om de macht te versterken, maar ook om elke vorm van oppositie streng te controleren en te beperken. Het resultaat hiervan is vaak censuur, arrestaties van journalisten en een strikte controle over mediakanalen, wat kan leiden tot lagere persvrijheidsscores in deze landen."
   ]
  },
  {
   "cell_type": "code",
   "execution_count": 284,
   "metadata": {
    "ExecuteTime": {
     "end_time": "2024-06-19T13:02:07.392911Z",
     "start_time": "2024-06-19T13:02:07.348409Z"
    }
   },
   "outputs": [
    {
     "data": {
      "application/vnd.plotly.v1+json": {
       "config": {
        "plotlyServerURL": "https://plot.ly"
       },
       "data": [
        {
         "customdata": [
          [
           "Norway"
          ],
          [
           "New Zealand"
          ],
          [
           "Iceland"
          ],
          [
           "Sweden"
          ],
          [
           "Finland"
          ],
          [
           "Denmark"
          ],
          [
           "Ireland"
          ],
          [
           "Switzerland"
          ],
          [
           "Netherlands"
          ],
          [
           "Taiwan"
          ],
          [
           "Luxembourg"
          ],
          [
           "Germany"
          ],
          [
           "Canada"
          ],
          [
           "Australia"
          ],
          [
           "Uruguay"
          ],
          [
           "Japan"
          ],
          [
           "Costa Rica"
          ],
          [
           "Austria"
          ],
          [
           "United Kingdom"
          ],
          [
           "Greece"
          ],
          [
           "Mauritius"
          ],
          [
           "South Korea"
          ],
          [
           "France"
          ],
          [
           "Spain"
          ],
          [
           "Chile"
          ],
          [
           "Czechia"
          ],
          [
           "Estonia"
          ],
          [
           "Malta"
          ],
          [
           "United States"
          ],
          [
           "Israel"
          ],
          [
           "Portugal"
          ],
          [
           "Slovenia"
          ],
          [
           "Botswana"
          ],
          [
           "Italy"
          ],
          [
           "Cape Verde"
          ],
          [
           "Belgium"
          ],
          [
           "Cyprus"
          ],
          [
           "Latvia"
          ],
          [
           "Lithuania"
          ],
          [
           "Malaysia"
          ],
          [
           "India"
          ],
          [
           "Poland"
          ],
          [
           "Trinidad and Tobago"
          ],
          [
           "Slovakia"
          ],
          [
           "East Timor"
          ],
          [
           "Jamaica"
          ],
          [
           "South Africa"
          ],
          [
           "Panama"
          ],
          [
           "Suriname"
          ],
          [
           "Hungary"
          ],
          [
           "Brazil"
          ],
          [
           "Montenegro"
          ],
          [
           "Philippines"
          ],
          [
           "Argentina"
          ],
          [
           "Colombia"
          ],
          [
           "Indonesia"
          ],
          [
           "Namibia"
          ],
          [
           "Croatia"
          ],
          [
           "Mongolia"
          ],
          [
           "Romania"
          ],
          [
           "Dominican Republic"
          ],
          [
           "Bulgaria"
          ],
          [
           "Thailand"
          ],
          [
           "Serbia"
          ],
          [
           "Ghana"
          ],
          [
           "Albania"
          ],
          [
           "Guyana"
          ],
          [
           "Moldova"
          ],
          [
           "Singapore"
          ],
          [
           "Sri Lanka"
          ],
          [
           "Lesotho"
          ],
          [
           "North Macedonia"
          ],
          [
           "Papua New Guinea"
          ],
          [
           "Paraguay"
          ],
          [
           "Bangladesh"
          ],
          [
           "Malawi"
          ],
          [
           "Peru"
          ],
          [
           "Zambia"
          ],
          [
           "Liberia"
          ],
          [
           "Fiji"
          ],
          [
           "Bhutan"
          ],
          [
           "Tunisia"
          ],
          [
           "Senegal"
          ],
          [
           "Armenia"
          ],
          [
           "Ecuador"
          ],
          [
           "Tanzania"
          ],
          [
           "Madagascar"
          ],
          [
           "Hong Kong"
          ],
          [
           "Georgia"
          ],
          [
           "Mexico"
          ],
          [
           "Ukraine"
          ],
          [
           "Kenya"
          ],
          [
           "Morocco"
          ],
          [
           "Bosnia and Herzegovina"
          ],
          [
           "Honduras"
          ],
          [
           "El Salvador"
          ],
          [
           "Benin"
          ],
          [
           "Nepal"
          ],
          [
           "Uganda"
          ],
          [
           "Gambia"
          ],
          [
           "Guatemala"
          ],
          [
           "Turkey"
          ],
          [
           "Sierra Leone"
          ],
          [
           "Nigeria"
          ],
          [
           "Cote d'Ivoire"
          ],
          [
           "Bolivia"
          ],
          [
           "Angola"
          ],
          [
           "Mauritania"
          ],
          [
           "Kyrgyzstan"
          ],
          [
           "Algeria"
          ],
          [
           "Qatar"
          ],
          [
           "Lebanon"
          ],
          [
           "Mozambique"
          ],
          [
           "Kuwait"
          ],
          [
           "Palestine"
          ],
          [
           "Ethiopia"
          ],
          [
           "Rwanda"
          ],
          [
           "Pakistan"
          ],
          [
           "Oman"
          ],
          [
           "Kazakhstan"
          ],
          [
           "Cambodia"
          ],
          [
           "Comoros"
          ],
          [
           "Jordan"
          ],
          [
           "Zimbabwe"
          ],
          [
           "United Arab Emirates"
          ],
          [
           "Togo"
          ],
          [
           "Egypt"
          ],
          [
           "Iraq"
          ],
          [
           "Haiti"
          ],
          [
           "Azerbaijan"
          ],
          [
           "Congo"
          ],
          [
           "Eswatini"
          ],
          [
           "Burkina Faso"
          ],
          [
           "Djibouti"
          ],
          [
           "Cuba"
          ],
          [
           "Vietnam"
          ],
          [
           "Mali"
          ],
          [
           "Cameroon"
          ],
          [
           "Bahrain"
          ],
          [
           "Guinea-Bissau"
          ],
          [
           "Niger"
          ],
          [
           "Venezuela"
          ],
          [
           "Nicaragua"
          ],
          [
           "Russia"
          ],
          [
           "Guinea"
          ],
          [
           "Gabon"
          ],
          [
           "Burundi"
          ],
          [
           "China"
          ]
         ],
         "hovertemplate": "democracy_ranking=%{x}<br>press_freedom_ranking=%{y}<br>country=%{customdata[0]}<extra></extra>",
         "legendgroup": "",
         "marker": {
          "color": "#636efa",
          "symbol": "circle"
         },
         "mode": "markers",
         "name": "",
         "orientation": "v",
         "showlegend": false,
         "type": "scatter",
         "x": [
          1,
          2,
          3,
          4,
          5,
          6,
          7,
          8,
          9,
          10,
          11,
          12,
          13,
          14,
          14,
          15,
          16,
          17,
          17,
          18,
          18,
          19,
          20,
          20,
          21,
          22,
          23,
          24,
          25,
          26,
          27,
          27,
          28,
          29,
          30,
          31,
          34,
          34,
          35,
          36,
          37,
          37,
          38,
          39,
          40,
          40,
          41,
          42,
          43,
          44,
          45,
          46,
          47,
          48,
          49,
          50,
          51,
          52,
          53,
          54,
          55,
          56,
          57,
          58,
          59,
          60,
          61,
          62,
          63,
          64,
          66,
          67,
          67,
          68,
          69,
          70,
          71,
          72,
          75,
          76,
          77,
          78,
          79,
          80,
          81,
          82,
          83,
          84,
          85,
          86,
          87,
          88,
          89,
          90,
          91,
          93,
          94,
          95,
          96,
          97,
          97,
          99,
          100,
          101,
          102,
          103,
          104,
          105,
          106,
          107,
          108,
          109,
          110,
          111,
          112,
          113,
          114,
          115,
          116,
          117,
          118,
          119,
          119,
          119,
          120,
          121,
          122,
          123,
          124,
          125,
          126,
          127,
          128,
          129,
          130,
          131,
          132,
          133,
          134,
          135,
          136,
          137,
          138,
          139,
          140,
          141,
          142,
          143
         ],
         "xaxis": "x",
         "y": [
          1,
          13,
          18,
          4,
          5,
          3,
          2,
          12,
          6,
          35,
          20,
          21,
          15,
          27,
          52,
          68,
          23,
          29,
          26,
          107,
          63,
          47,
          24,
          36,
          83,
          14,
          8,
          84,
          45,
          97,
          9,
          50,
          65,
          41,
          33,
          31,
          55,
          16,
          7,
          73,
          161,
          57,
          30,
          17,
          10,
          32,
          25,
          69,
          48,
          72,
          92,
          39,
          132,
          40,
          139,
          108,
          22,
          42,
          88,
          53,
          43,
          71,
          106,
          91,
          62,
          96,
          60,
          28,
          129,
          135,
          67,
          38,
          59,
          103,
          163,
          82,
          110,
          87,
          66,
          89,
          90,
          121,
          104,
          49,
          80,
          143,
          101,
          140,
          77,
          128,
          79,
          116,
          144,
          64,
          169,
          115,
          112,
          95,
          133,
          46,
          127,
          165,
          74,
          123,
          54,
          117,
          125,
          86,
          122,
          136,
          105,
          119,
          102,
          154,
          156,
          130,
          131,
          150,
          155,
          134,
          147,
          75,
          146,
          126,
          145,
          70,
          166,
          167,
          99,
          151,
          81,
          111,
          58,
          162,
          172,
          178,
          113,
          138,
          171,
          78,
          61,
          159,
          158,
          164,
          85,
          94,
          114,
          179
         ],
         "yaxis": "y"
        },
        {
         "hovertemplate": "<b>OLS trendline</b><br>press_freedom_ranking = 0.879147 * democracy_ranking + 22.2396<br>R<sup>2</sup>=0.551165<br><br>democracy_ranking=%{x}<br>press_freedom_ranking=%{y} <b>(trend)</b><extra></extra>",
         "legendgroup": "",
         "line": {
          "color": "black"
         },
         "marker": {
          "color": "#636efa",
          "symbol": "circle"
         },
         "mode": "lines",
         "name": "",
         "showlegend": false,
         "type": "scatter",
         "x": [
          1,
          2,
          3,
          4,
          5,
          6,
          7,
          8,
          9,
          10,
          11,
          12,
          13,
          14,
          14,
          15,
          16,
          17,
          17,
          18,
          18,
          19,
          20,
          20,
          21,
          22,
          23,
          24,
          25,
          26,
          27,
          27,
          28,
          29,
          30,
          31,
          34,
          34,
          35,
          36,
          37,
          37,
          38,
          39,
          40,
          40,
          41,
          42,
          43,
          44,
          45,
          46,
          47,
          48,
          49,
          50,
          51,
          52,
          53,
          54,
          55,
          56,
          57,
          58,
          59,
          60,
          61,
          62,
          63,
          64,
          66,
          67,
          67,
          68,
          69,
          70,
          71,
          72,
          75,
          76,
          77,
          78,
          79,
          80,
          81,
          82,
          83,
          84,
          85,
          86,
          87,
          88,
          89,
          90,
          91,
          93,
          94,
          95,
          96,
          97,
          97,
          99,
          100,
          101,
          102,
          103,
          104,
          105,
          106,
          107,
          108,
          109,
          110,
          111,
          112,
          113,
          114,
          115,
          116,
          117,
          118,
          119,
          119,
          119,
          120,
          121,
          122,
          123,
          124,
          125,
          126,
          127,
          128,
          129,
          130,
          131,
          132,
          133,
          134,
          135,
          136,
          137,
          138,
          139,
          140,
          141,
          142,
          143
         ],
         "xaxis": "x",
         "y": [
          23.11878764856252,
          23.99793433738786,
          24.8770810262132,
          25.75622771503854,
          26.635374403863878,
          27.51452109268922,
          28.39366778151456,
          29.2728144703399,
          30.15196115916524,
          31.03110784799058,
          31.91025453681592,
          32.78940122564126,
          33.6685479144666,
          34.54769460329194,
          34.54769460329194,
          35.426841292117274,
          36.30598798094262,
          37.18513466976796,
          37.18513466976796,
          38.0642813585933,
          38.0642813585933,
          38.943428047418635,
          39.82257473624398,
          39.82257473624398,
          40.701721425069316,
          41.58086811389465,
          42.460014802719996,
          43.33916149154534,
          44.21830818037068,
          45.097454869196014,
          45.97660155802136,
          45.97660155802136,
          46.855748246846694,
          47.73489493567203,
          48.614041624497375,
          49.49318831332272,
          52.130628379798736,
          52.130628379798736,
          53.00977506862408,
          53.88892175744942,
          54.768068446274754,
          54.768068446274754,
          55.6472151351001,
          56.526361823925434,
          57.40550851275078,
          57.40550851275078,
          58.284655201576115,
          59.16380189040145,
          60.042948579226795,
          60.92209526805213,
          61.801241956877476,
          62.68038864570281,
          63.55953533452816,
          64.4386820233535,
          65.31782871217882,
          66.19697540100418,
          67.07612208982951,
          67.95526877865485,
          68.8344154674802,
          69.71356215630553,
          70.59270884513087,
          71.47185553395622,
          72.35100222278155,
          73.23014891160689,
          74.10929560043223,
          74.98844228925756,
          75.86758897808292,
          76.74673566690825,
          77.6258823557336,
          78.50502904455894,
          80.26332242220961,
          81.14246911103496,
          81.14246911103496,
          82.02161579986029,
          82.90076248868563,
          83.77990917751097,
          84.6590558663363,
          85.53820255516166,
          88.17564262163768,
          89.05478931046301,
          89.93393599928834,
          90.8130826881137,
          91.69222937693903,
          92.57137606576438,
          93.45052275458971,
          94.32966944341504,
          95.2088161322404,
          96.08796282106573,
          96.96710950989106,
          97.84625619871642,
          98.72540288754175,
          99.60454957636708,
          100.48369626519244,
          101.36284295401776,
          102.2419896428431,
          104.00028302049378,
          104.87942970931914,
          105.75857639814447,
          106.6377230869698,
          107.51686977579516,
          107.51686977579516,
          109.27516315344582,
          110.15430984227118,
          111.0334565310965,
          111.91260321992183,
          112.79174990874719,
          113.67089659757252,
          114.55004328639785,
          115.42918997522321,
          116.30833666404854,
          117.1874833528739,
          118.06663004169923,
          118.94577673052456,
          119.82492341934991,
          120.70407010817524,
          121.58321679700057,
          122.46236348582593,
          123.34151017465126,
          124.22065686347659,
          125.09980355230195,
          125.97895024112728,
          126.85809692995264,
          126.85809692995264,
          126.85809692995264,
          127.73724361877797,
          128.6163903076033,
          129.49553699642865,
          130.37468368525398,
          131.2538303740793,
          132.13297706290467,
          133.01212375173,
          133.89127044055533,
          134.7704171293807,
          135.64956381820602,
          136.52871050703135,
          137.4078571958567,
          138.28700388468204,
          139.1661505735074,
          140.04529726233272,
          140.92444395115805,
          141.8035906399834,
          142.68273732880874,
          143.56188401763407,
          144.44103070645943,
          145.32017739528476,
          146.1993240841101,
          147.07847077293545,
          147.95761746176078
         ],
         "yaxis": "y"
        }
       ],
       "layout": {
        "legend": {
         "tracegroupgap": 0
        },
        "template": {
         "data": {
          "bar": [
           {
            "error_x": {
             "color": "#f2f5fa"
            },
            "error_y": {
             "color": "#f2f5fa"
            },
            "marker": {
             "line": {
              "color": "rgb(17,17,17)",
              "width": 0.5
             },
             "pattern": {
              "fillmode": "overlay",
              "size": 10,
              "solidity": 0.2
             }
            },
            "type": "bar"
           }
          ],
          "barpolar": [
           {
            "marker": {
             "line": {
              "color": "rgb(17,17,17)",
              "width": 0.5
             },
             "pattern": {
              "fillmode": "overlay",
              "size": 10,
              "solidity": 0.2
             }
            },
            "type": "barpolar"
           }
          ],
          "carpet": [
           {
            "aaxis": {
             "endlinecolor": "#A2B1C6",
             "gridcolor": "#506784",
             "linecolor": "#506784",
             "minorgridcolor": "#506784",
             "startlinecolor": "#A2B1C6"
            },
            "baxis": {
             "endlinecolor": "#A2B1C6",
             "gridcolor": "#506784",
             "linecolor": "#506784",
             "minorgridcolor": "#506784",
             "startlinecolor": "#A2B1C6"
            },
            "type": "carpet"
           }
          ],
          "choropleth": [
           {
            "colorbar": {
             "outlinewidth": 0,
             "ticks": ""
            },
            "type": "choropleth"
           }
          ],
          "contour": [
           {
            "colorbar": {
             "outlinewidth": 0,
             "ticks": ""
            },
            "colorscale": [
             [
              0,
              "#0d0887"
             ],
             [
              0.1111111111111111,
              "#46039f"
             ],
             [
              0.2222222222222222,
              "#7201a8"
             ],
             [
              0.3333333333333333,
              "#9c179e"
             ],
             [
              0.4444444444444444,
              "#bd3786"
             ],
             [
              0.5555555555555556,
              "#d8576b"
             ],
             [
              0.6666666666666666,
              "#ed7953"
             ],
             [
              0.7777777777777778,
              "#fb9f3a"
             ],
             [
              0.8888888888888888,
              "#fdca26"
             ],
             [
              1,
              "#f0f921"
             ]
            ],
            "type": "contour"
           }
          ],
          "contourcarpet": [
           {
            "colorbar": {
             "outlinewidth": 0,
             "ticks": ""
            },
            "type": "contourcarpet"
           }
          ],
          "heatmap": [
           {
            "colorbar": {
             "outlinewidth": 0,
             "ticks": ""
            },
            "colorscale": [
             [
              0,
              "#0d0887"
             ],
             [
              0.1111111111111111,
              "#46039f"
             ],
             [
              0.2222222222222222,
              "#7201a8"
             ],
             [
              0.3333333333333333,
              "#9c179e"
             ],
             [
              0.4444444444444444,
              "#bd3786"
             ],
             [
              0.5555555555555556,
              "#d8576b"
             ],
             [
              0.6666666666666666,
              "#ed7953"
             ],
             [
              0.7777777777777778,
              "#fb9f3a"
             ],
             [
              0.8888888888888888,
              "#fdca26"
             ],
             [
              1,
              "#f0f921"
             ]
            ],
            "type": "heatmap"
           }
          ],
          "heatmapgl": [
           {
            "colorbar": {
             "outlinewidth": 0,
             "ticks": ""
            },
            "colorscale": [
             [
              0,
              "#0d0887"
             ],
             [
              0.1111111111111111,
              "#46039f"
             ],
             [
              0.2222222222222222,
              "#7201a8"
             ],
             [
              0.3333333333333333,
              "#9c179e"
             ],
             [
              0.4444444444444444,
              "#bd3786"
             ],
             [
              0.5555555555555556,
              "#d8576b"
             ],
             [
              0.6666666666666666,
              "#ed7953"
             ],
             [
              0.7777777777777778,
              "#fb9f3a"
             ],
             [
              0.8888888888888888,
              "#fdca26"
             ],
             [
              1,
              "#f0f921"
             ]
            ],
            "type": "heatmapgl"
           }
          ],
          "histogram": [
           {
            "marker": {
             "pattern": {
              "fillmode": "overlay",
              "size": 10,
              "solidity": 0.2
             }
            },
            "type": "histogram"
           }
          ],
          "histogram2d": [
           {
            "colorbar": {
             "outlinewidth": 0,
             "ticks": ""
            },
            "colorscale": [
             [
              0,
              "#0d0887"
             ],
             [
              0.1111111111111111,
              "#46039f"
             ],
             [
              0.2222222222222222,
              "#7201a8"
             ],
             [
              0.3333333333333333,
              "#9c179e"
             ],
             [
              0.4444444444444444,
              "#bd3786"
             ],
             [
              0.5555555555555556,
              "#d8576b"
             ],
             [
              0.6666666666666666,
              "#ed7953"
             ],
             [
              0.7777777777777778,
              "#fb9f3a"
             ],
             [
              0.8888888888888888,
              "#fdca26"
             ],
             [
              1,
              "#f0f921"
             ]
            ],
            "type": "histogram2d"
           }
          ],
          "histogram2dcontour": [
           {
            "colorbar": {
             "outlinewidth": 0,
             "ticks": ""
            },
            "colorscale": [
             [
              0,
              "#0d0887"
             ],
             [
              0.1111111111111111,
              "#46039f"
             ],
             [
              0.2222222222222222,
              "#7201a8"
             ],
             [
              0.3333333333333333,
              "#9c179e"
             ],
             [
              0.4444444444444444,
              "#bd3786"
             ],
             [
              0.5555555555555556,
              "#d8576b"
             ],
             [
              0.6666666666666666,
              "#ed7953"
             ],
             [
              0.7777777777777778,
              "#fb9f3a"
             ],
             [
              0.8888888888888888,
              "#fdca26"
             ],
             [
              1,
              "#f0f921"
             ]
            ],
            "type": "histogram2dcontour"
           }
          ],
          "mesh3d": [
           {
            "colorbar": {
             "outlinewidth": 0,
             "ticks": ""
            },
            "type": "mesh3d"
           }
          ],
          "parcoords": [
           {
            "line": {
             "colorbar": {
              "outlinewidth": 0,
              "ticks": ""
             }
            },
            "type": "parcoords"
           }
          ],
          "pie": [
           {
            "automargin": true,
            "type": "pie"
           }
          ],
          "scatter": [
           {
            "marker": {
             "line": {
              "color": "#283442"
             }
            },
            "type": "scatter"
           }
          ],
          "scatter3d": [
           {
            "line": {
             "colorbar": {
              "outlinewidth": 0,
              "ticks": ""
             }
            },
            "marker": {
             "colorbar": {
              "outlinewidth": 0,
              "ticks": ""
             }
            },
            "type": "scatter3d"
           }
          ],
          "scattercarpet": [
           {
            "marker": {
             "colorbar": {
              "outlinewidth": 0,
              "ticks": ""
             }
            },
            "type": "scattercarpet"
           }
          ],
          "scattergeo": [
           {
            "marker": {
             "colorbar": {
              "outlinewidth": 0,
              "ticks": ""
             }
            },
            "type": "scattergeo"
           }
          ],
          "scattergl": [
           {
            "marker": {
             "line": {
              "color": "#283442"
             }
            },
            "type": "scattergl"
           }
          ],
          "scattermapbox": [
           {
            "marker": {
             "colorbar": {
              "outlinewidth": 0,
              "ticks": ""
             }
            },
            "type": "scattermapbox"
           }
          ],
          "scatterpolar": [
           {
            "marker": {
             "colorbar": {
              "outlinewidth": 0,
              "ticks": ""
             }
            },
            "type": "scatterpolar"
           }
          ],
          "scatterpolargl": [
           {
            "marker": {
             "colorbar": {
              "outlinewidth": 0,
              "ticks": ""
             }
            },
            "type": "scatterpolargl"
           }
          ],
          "scatterternary": [
           {
            "marker": {
             "colorbar": {
              "outlinewidth": 0,
              "ticks": ""
             }
            },
            "type": "scatterternary"
           }
          ],
          "surface": [
           {
            "colorbar": {
             "outlinewidth": 0,
             "ticks": ""
            },
            "colorscale": [
             [
              0,
              "#0d0887"
             ],
             [
              0.1111111111111111,
              "#46039f"
             ],
             [
              0.2222222222222222,
              "#7201a8"
             ],
             [
              0.3333333333333333,
              "#9c179e"
             ],
             [
              0.4444444444444444,
              "#bd3786"
             ],
             [
              0.5555555555555556,
              "#d8576b"
             ],
             [
              0.6666666666666666,
              "#ed7953"
             ],
             [
              0.7777777777777778,
              "#fb9f3a"
             ],
             [
              0.8888888888888888,
              "#fdca26"
             ],
             [
              1,
              "#f0f921"
             ]
            ],
            "type": "surface"
           }
          ],
          "table": [
           {
            "cells": {
             "fill": {
              "color": "#506784"
             },
             "line": {
              "color": "rgb(17,17,17)"
             }
            },
            "header": {
             "fill": {
              "color": "#2a3f5f"
             },
             "line": {
              "color": "rgb(17,17,17)"
             }
            },
            "type": "table"
           }
          ]
         },
         "layout": {
          "annotationdefaults": {
           "arrowcolor": "#f2f5fa",
           "arrowhead": 0,
           "arrowwidth": 1
          },
          "autotypenumbers": "strict",
          "coloraxis": {
           "colorbar": {
            "outlinewidth": 0,
            "ticks": ""
           }
          },
          "colorscale": {
           "diverging": [
            [
             0,
             "#8e0152"
            ],
            [
             0.1,
             "#c51b7d"
            ],
            [
             0.2,
             "#de77ae"
            ],
            [
             0.3,
             "#f1b6da"
            ],
            [
             0.4,
             "#fde0ef"
            ],
            [
             0.5,
             "#f7f7f7"
            ],
            [
             0.6,
             "#e6f5d0"
            ],
            [
             0.7,
             "#b8e186"
            ],
            [
             0.8,
             "#7fbc41"
            ],
            [
             0.9,
             "#4d9221"
            ],
            [
             1,
             "#276419"
            ]
           ],
           "sequential": [
            [
             0,
             "#0d0887"
            ],
            [
             0.1111111111111111,
             "#46039f"
            ],
            [
             0.2222222222222222,
             "#7201a8"
            ],
            [
             0.3333333333333333,
             "#9c179e"
            ],
            [
             0.4444444444444444,
             "#bd3786"
            ],
            [
             0.5555555555555556,
             "#d8576b"
            ],
            [
             0.6666666666666666,
             "#ed7953"
            ],
            [
             0.7777777777777778,
             "#fb9f3a"
            ],
            [
             0.8888888888888888,
             "#fdca26"
            ],
            [
             1,
             "#f0f921"
            ]
           ],
           "sequentialminus": [
            [
             0,
             "#0d0887"
            ],
            [
             0.1111111111111111,
             "#46039f"
            ],
            [
             0.2222222222222222,
             "#7201a8"
            ],
            [
             0.3333333333333333,
             "#9c179e"
            ],
            [
             0.4444444444444444,
             "#bd3786"
            ],
            [
             0.5555555555555556,
             "#d8576b"
            ],
            [
             0.6666666666666666,
             "#ed7953"
            ],
            [
             0.7777777777777778,
             "#fb9f3a"
            ],
            [
             0.8888888888888888,
             "#fdca26"
            ],
            [
             1,
             "#f0f921"
            ]
           ]
          },
          "colorway": [
           "#636efa",
           "#EF553B",
           "#00cc96",
           "#ab63fa",
           "#FFA15A",
           "#19d3f3",
           "#FF6692",
           "#B6E880",
           "#FF97FF",
           "#FECB52"
          ],
          "font": {
           "color": "#f2f5fa"
          },
          "geo": {
           "bgcolor": "rgb(17,17,17)",
           "lakecolor": "rgb(17,17,17)",
           "landcolor": "rgb(17,17,17)",
           "showlakes": true,
           "showland": true,
           "subunitcolor": "#506784"
          },
          "hoverlabel": {
           "align": "left"
          },
          "hovermode": "closest",
          "mapbox": {
           "style": "dark"
          },
          "paper_bgcolor": "rgb(17,17,17)",
          "plot_bgcolor": "rgb(17,17,17)",
          "polar": {
           "angularaxis": {
            "gridcolor": "#506784",
            "linecolor": "#506784",
            "ticks": ""
           },
           "bgcolor": "rgb(17,17,17)",
           "radialaxis": {
            "gridcolor": "#506784",
            "linecolor": "#506784",
            "ticks": ""
           }
          },
          "scene": {
           "xaxis": {
            "backgroundcolor": "rgb(17,17,17)",
            "gridcolor": "#506784",
            "gridwidth": 2,
            "linecolor": "#506784",
            "showbackground": true,
            "ticks": "",
            "zerolinecolor": "#C8D4E3"
           },
           "yaxis": {
            "backgroundcolor": "rgb(17,17,17)",
            "gridcolor": "#506784",
            "gridwidth": 2,
            "linecolor": "#506784",
            "showbackground": true,
            "ticks": "",
            "zerolinecolor": "#C8D4E3"
           },
           "zaxis": {
            "backgroundcolor": "rgb(17,17,17)",
            "gridcolor": "#506784",
            "gridwidth": 2,
            "linecolor": "#506784",
            "showbackground": true,
            "ticks": "",
            "zerolinecolor": "#C8D4E3"
           }
          },
          "shapedefaults": {
           "line": {
            "color": "#f2f5fa"
           }
          },
          "sliderdefaults": {
           "bgcolor": "#C8D4E3",
           "bordercolor": "rgb(17,17,17)",
           "borderwidth": 1,
           "tickwidth": 0
          },
          "ternary": {
           "aaxis": {
            "gridcolor": "#506784",
            "linecolor": "#506784",
            "ticks": ""
           },
           "baxis": {
            "gridcolor": "#506784",
            "linecolor": "#506784",
            "ticks": ""
           },
           "bgcolor": "rgb(17,17,17)",
           "caxis": {
            "gridcolor": "#506784",
            "linecolor": "#506784",
            "ticks": ""
           }
          },
          "title": {
           "x": 0.05
          },
          "updatemenudefaults": {
           "bgcolor": "#506784",
           "borderwidth": 0
          },
          "xaxis": {
           "automargin": true,
           "gridcolor": "#283442",
           "linecolor": "#506784",
           "ticks": "",
           "title": {
            "standoff": 15
           },
           "zerolinecolor": "#283442",
           "zerolinewidth": 2
          },
          "yaxis": {
           "automargin": true,
           "gridcolor": "#283442",
           "linecolor": "#506784",
           "ticks": "",
           "title": {
            "standoff": 15
           },
           "zerolinecolor": "#283442",
           "zerolinewidth": 2
          }
         }
        },
        "title": {
         "text": "Democracy index ranking vs Press freedom index ranking 2023 "
        },
        "xaxis": {
         "anchor": "y",
         "domain": [
          0,
          1
         ],
         "title": {
          "text": "Democracy index ranking 2023"
         }
        },
        "yaxis": {
         "anchor": "x",
         "domain": [
          0,
          1
         ],
         "title": {
          "text": "Press freedom index ranking 2023"
         }
        }
       }
      },
      "text/html": [
       "<div>                            <div id=\"083cc2a5-13a2-4abb-9093-8e2a6ed2afe0\" class=\"plotly-graph-div\" style=\"height:525px; width:100%;\"></div>            <script type=\"text/javascript\">                require([\"plotly\"], function(Plotly) {                    window.PLOTLYENV=window.PLOTLYENV || {};                                    if (document.getElementById(\"083cc2a5-13a2-4abb-9093-8e2a6ed2afe0\")) {                    Plotly.newPlot(                        \"083cc2a5-13a2-4abb-9093-8e2a6ed2afe0\",                        [{\"customdata\":[[\"Norway\"],[\"New Zealand\"],[\"Iceland\"],[\"Sweden\"],[\"Finland\"],[\"Denmark\"],[\"Ireland\"],[\"Switzerland\"],[\"Netherlands\"],[\"Taiwan\"],[\"Luxembourg\"],[\"Germany\"],[\"Canada\"],[\"Australia\"],[\"Uruguay\"],[\"Japan\"],[\"Costa Rica\"],[\"Austria\"],[\"United Kingdom\"],[\"Greece\"],[\"Mauritius\"],[\"South Korea\"],[\"France\"],[\"Spain\"],[\"Chile\"],[\"Czechia\"],[\"Estonia\"],[\"Malta\"],[\"United States\"],[\"Israel\"],[\"Portugal\"],[\"Slovenia\"],[\"Botswana\"],[\"Italy\"],[\"Cape Verde\"],[\"Belgium\"],[\"Cyprus\"],[\"Latvia\"],[\"Lithuania\"],[\"Malaysia\"],[\"India\"],[\"Poland\"],[\"Trinidad and Tobago\"],[\"Slovakia\"],[\"East Timor\"],[\"Jamaica\"],[\"South Africa\"],[\"Panama\"],[\"Suriname\"],[\"Hungary\"],[\"Brazil\"],[\"Montenegro\"],[\"Philippines\"],[\"Argentina\"],[\"Colombia\"],[\"Indonesia\"],[\"Namibia\"],[\"Croatia\"],[\"Mongolia\"],[\"Romania\"],[\"Dominican Republic\"],[\"Bulgaria\"],[\"Thailand\"],[\"Serbia\"],[\"Ghana\"],[\"Albania\"],[\"Guyana\"],[\"Moldova\"],[\"Singapore\"],[\"Sri Lanka\"],[\"Lesotho\"],[\"North Macedonia\"],[\"Papua New Guinea\"],[\"Paraguay\"],[\"Bangladesh\"],[\"Malawi\"],[\"Peru\"],[\"Zambia\"],[\"Liberia\"],[\"Fiji\"],[\"Bhutan\"],[\"Tunisia\"],[\"Senegal\"],[\"Armenia\"],[\"Ecuador\"],[\"Tanzania\"],[\"Madagascar\"],[\"Hong Kong\"],[\"Georgia\"],[\"Mexico\"],[\"Ukraine\"],[\"Kenya\"],[\"Morocco\"],[\"Bosnia and Herzegovina\"],[\"Honduras\"],[\"El Salvador\"],[\"Benin\"],[\"Nepal\"],[\"Uganda\"],[\"Gambia\"],[\"Guatemala\"],[\"Turkey\"],[\"Sierra Leone\"],[\"Nigeria\"],[\"Cote d'Ivoire\"],[\"Bolivia\"],[\"Angola\"],[\"Mauritania\"],[\"Kyrgyzstan\"],[\"Algeria\"],[\"Qatar\"],[\"Lebanon\"],[\"Mozambique\"],[\"Kuwait\"],[\"Palestine\"],[\"Ethiopia\"],[\"Rwanda\"],[\"Pakistan\"],[\"Oman\"],[\"Kazakhstan\"],[\"Cambodia\"],[\"Comoros\"],[\"Jordan\"],[\"Zimbabwe\"],[\"United Arab Emirates\"],[\"Togo\"],[\"Egypt\"],[\"Iraq\"],[\"Haiti\"],[\"Azerbaijan\"],[\"Congo\"],[\"Eswatini\"],[\"Burkina Faso\"],[\"Djibouti\"],[\"Cuba\"],[\"Vietnam\"],[\"Mali\"],[\"Cameroon\"],[\"Bahrain\"],[\"Guinea-Bissau\"],[\"Niger\"],[\"Venezuela\"],[\"Nicaragua\"],[\"Russia\"],[\"Guinea\"],[\"Gabon\"],[\"Burundi\"],[\"China\"]],\"hovertemplate\":\"democracy_ranking=%{x}\\u003cbr\\u003epress_freedom_ranking=%{y}\\u003cbr\\u003ecountry=%{customdata[0]}\\u003cextra\\u003e\\u003c\\u002fextra\\u003e\",\"legendgroup\":\"\",\"marker\":{\"color\":\"#636efa\",\"symbol\":\"circle\"},\"mode\":\"markers\",\"name\":\"\",\"orientation\":\"v\",\"showlegend\":false,\"x\":[1,2,3,4,5,6,7,8,9,10,11,12,13,14,14,15,16,17,17,18,18,19,20,20,21,22,23,24,25,26,27,27,28,29,30,31,34,34,35,36,37,37,38,39,40,40,41,42,43,44,45,46,47,48,49,50,51,52,53,54,55,56,57,58,59,60,61,62,63,64,66,67,67,68,69,70,71,72,75,76,77,78,79,80,81,82,83,84,85,86,87,88,89,90,91,93,94,95,96,97,97,99,100,101,102,103,104,105,106,107,108,109,110,111,112,113,114,115,116,117,118,119,119,119,120,121,122,123,124,125,126,127,128,129,130,131,132,133,134,135,136,137,138,139,140,141,142,143],\"xaxis\":\"x\",\"y\":[1,13,18,4,5,3,2,12,6,35,20,21,15,27,52,68,23,29,26,107,63,47,24,36,83,14,8,84,45,97,9,50,65,41,33,31,55,16,7,73,161,57,30,17,10,32,25,69,48,72,92,39,132,40,139,108,22,42,88,53,43,71,106,91,62,96,60,28,129,135,67,38,59,103,163,82,110,87,66,89,90,121,104,49,80,143,101,140,77,128,79,116,144,64,169,115,112,95,133,46,127,165,74,123,54,117,125,86,122,136,105,119,102,154,156,130,131,150,155,134,147,75,146,126,145,70,166,167,99,151,81,111,58,162,172,178,113,138,171,78,61,159,158,164,85,94,114,179],\"yaxis\":\"y\",\"type\":\"scatter\"},{\"hovertemplate\":\"\\u003cb\\u003eOLS trendline\\u003c\\u002fb\\u003e\\u003cbr\\u003epress_freedom_ranking = 0.879147 * democracy_ranking + 22.2396\\u003cbr\\u003eR\\u003csup\\u003e2\\u003c\\u002fsup\\u003e=0.551165\\u003cbr\\u003e\\u003cbr\\u003edemocracy_ranking=%{x}\\u003cbr\\u003epress_freedom_ranking=%{y} \\u003cb\\u003e(trend)\\u003c\\u002fb\\u003e\\u003cextra\\u003e\\u003c\\u002fextra\\u003e\",\"legendgroup\":\"\",\"marker\":{\"color\":\"#636efa\",\"symbol\":\"circle\"},\"mode\":\"lines\",\"name\":\"\",\"showlegend\":false,\"x\":[1,2,3,4,5,6,7,8,9,10,11,12,13,14,14,15,16,17,17,18,18,19,20,20,21,22,23,24,25,26,27,27,28,29,30,31,34,34,35,36,37,37,38,39,40,40,41,42,43,44,45,46,47,48,49,50,51,52,53,54,55,56,57,58,59,60,61,62,63,64,66,67,67,68,69,70,71,72,75,76,77,78,79,80,81,82,83,84,85,86,87,88,89,90,91,93,94,95,96,97,97,99,100,101,102,103,104,105,106,107,108,109,110,111,112,113,114,115,116,117,118,119,119,119,120,121,122,123,124,125,126,127,128,129,130,131,132,133,134,135,136,137,138,139,140,141,142,143],\"xaxis\":\"x\",\"y\":[23.11878764856252,23.99793433738786,24.8770810262132,25.75622771503854,26.635374403863878,27.51452109268922,28.39366778151456,29.2728144703399,30.15196115916524,31.03110784799058,31.91025453681592,32.78940122564126,33.6685479144666,34.54769460329194,34.54769460329194,35.426841292117274,36.30598798094262,37.18513466976796,37.18513466976796,38.0642813585933,38.0642813585933,38.943428047418635,39.82257473624398,39.82257473624398,40.701721425069316,41.58086811389465,42.460014802719996,43.33916149154534,44.21830818037068,45.097454869196014,45.97660155802136,45.97660155802136,46.855748246846694,47.73489493567203,48.614041624497375,49.49318831332272,52.130628379798736,52.130628379798736,53.00977506862408,53.88892175744942,54.768068446274754,54.768068446274754,55.6472151351001,56.526361823925434,57.40550851275078,57.40550851275078,58.284655201576115,59.16380189040145,60.042948579226795,60.92209526805213,61.801241956877476,62.68038864570281,63.55953533452816,64.4386820233535,65.31782871217882,66.19697540100418,67.07612208982951,67.95526877865485,68.8344154674802,69.71356215630553,70.59270884513087,71.47185553395622,72.35100222278155,73.23014891160689,74.10929560043223,74.98844228925756,75.86758897808292,76.74673566690825,77.6258823557336,78.50502904455894,80.26332242220961,81.14246911103496,81.14246911103496,82.02161579986029,82.90076248868563,83.77990917751097,84.6590558663363,85.53820255516166,88.17564262163768,89.05478931046301,89.93393599928834,90.8130826881137,91.69222937693903,92.57137606576438,93.45052275458971,94.32966944341504,95.2088161322404,96.08796282106573,96.96710950989106,97.84625619871642,98.72540288754175,99.60454957636708,100.48369626519244,101.36284295401776,102.2419896428431,104.00028302049378,104.87942970931914,105.75857639814447,106.6377230869698,107.51686977579516,107.51686977579516,109.27516315344582,110.15430984227118,111.0334565310965,111.91260321992183,112.79174990874719,113.67089659757252,114.55004328639785,115.42918997522321,116.30833666404854,117.1874833528739,118.06663004169923,118.94577673052456,119.82492341934991,120.70407010817524,121.58321679700057,122.46236348582593,123.34151017465126,124.22065686347659,125.09980355230195,125.97895024112728,126.85809692995264,126.85809692995264,126.85809692995264,127.73724361877797,128.6163903076033,129.49553699642865,130.37468368525398,131.2538303740793,132.13297706290467,133.01212375173,133.89127044055533,134.7704171293807,135.64956381820602,136.52871050703135,137.4078571958567,138.28700388468204,139.1661505735074,140.04529726233272,140.92444395115805,141.8035906399834,142.68273732880874,143.56188401763407,144.44103070645943,145.32017739528476,146.1993240841101,147.07847077293545,147.95761746176078],\"yaxis\":\"y\",\"type\":\"scatter\",\"line\":{\"color\":\"black\"}}],                        {\"template\":{\"data\":{\"histogram2dcontour\":[{\"type\":\"histogram2dcontour\",\"colorbar\":{\"outlinewidth\":0,\"ticks\":\"\"},\"colorscale\":[[0.0,\"#0d0887\"],[0.1111111111111111,\"#46039f\"],[0.2222222222222222,\"#7201a8\"],[0.3333333333333333,\"#9c179e\"],[0.4444444444444444,\"#bd3786\"],[0.5555555555555556,\"#d8576b\"],[0.6666666666666666,\"#ed7953\"],[0.7777777777777778,\"#fb9f3a\"],[0.8888888888888888,\"#fdca26\"],[1.0,\"#f0f921\"]]}],\"choropleth\":[{\"type\":\"choropleth\",\"colorbar\":{\"outlinewidth\":0,\"ticks\":\"\"}}],\"histogram2d\":[{\"type\":\"histogram2d\",\"colorbar\":{\"outlinewidth\":0,\"ticks\":\"\"},\"colorscale\":[[0.0,\"#0d0887\"],[0.1111111111111111,\"#46039f\"],[0.2222222222222222,\"#7201a8\"],[0.3333333333333333,\"#9c179e\"],[0.4444444444444444,\"#bd3786\"],[0.5555555555555556,\"#d8576b\"],[0.6666666666666666,\"#ed7953\"],[0.7777777777777778,\"#fb9f3a\"],[0.8888888888888888,\"#fdca26\"],[1.0,\"#f0f921\"]]}],\"heatmap\":[{\"type\":\"heatmap\",\"colorbar\":{\"outlinewidth\":0,\"ticks\":\"\"},\"colorscale\":[[0.0,\"#0d0887\"],[0.1111111111111111,\"#46039f\"],[0.2222222222222222,\"#7201a8\"],[0.3333333333333333,\"#9c179e\"],[0.4444444444444444,\"#bd3786\"],[0.5555555555555556,\"#d8576b\"],[0.6666666666666666,\"#ed7953\"],[0.7777777777777778,\"#fb9f3a\"],[0.8888888888888888,\"#fdca26\"],[1.0,\"#f0f921\"]]}],\"heatmapgl\":[{\"type\":\"heatmapgl\",\"colorbar\":{\"outlinewidth\":0,\"ticks\":\"\"},\"colorscale\":[[0.0,\"#0d0887\"],[0.1111111111111111,\"#46039f\"],[0.2222222222222222,\"#7201a8\"],[0.3333333333333333,\"#9c179e\"],[0.4444444444444444,\"#bd3786\"],[0.5555555555555556,\"#d8576b\"],[0.6666666666666666,\"#ed7953\"],[0.7777777777777778,\"#fb9f3a\"],[0.8888888888888888,\"#fdca26\"],[1.0,\"#f0f921\"]]}],\"contourcarpet\":[{\"type\":\"contourcarpet\",\"colorbar\":{\"outlinewidth\":0,\"ticks\":\"\"}}],\"contour\":[{\"type\":\"contour\",\"colorbar\":{\"outlinewidth\":0,\"ticks\":\"\"},\"colorscale\":[[0.0,\"#0d0887\"],[0.1111111111111111,\"#46039f\"],[0.2222222222222222,\"#7201a8\"],[0.3333333333333333,\"#9c179e\"],[0.4444444444444444,\"#bd3786\"],[0.5555555555555556,\"#d8576b\"],[0.6666666666666666,\"#ed7953\"],[0.7777777777777778,\"#fb9f3a\"],[0.8888888888888888,\"#fdca26\"],[1.0,\"#f0f921\"]]}],\"surface\":[{\"type\":\"surface\",\"colorbar\":{\"outlinewidth\":0,\"ticks\":\"\"},\"colorscale\":[[0.0,\"#0d0887\"],[0.1111111111111111,\"#46039f\"],[0.2222222222222222,\"#7201a8\"],[0.3333333333333333,\"#9c179e\"],[0.4444444444444444,\"#bd3786\"],[0.5555555555555556,\"#d8576b\"],[0.6666666666666666,\"#ed7953\"],[0.7777777777777778,\"#fb9f3a\"],[0.8888888888888888,\"#fdca26\"],[1.0,\"#f0f921\"]]}],\"mesh3d\":[{\"type\":\"mesh3d\",\"colorbar\":{\"outlinewidth\":0,\"ticks\":\"\"}}],\"scatter\":[{\"marker\":{\"line\":{\"color\":\"#283442\"}},\"type\":\"scatter\"}],\"parcoords\":[{\"type\":\"parcoords\",\"line\":{\"colorbar\":{\"outlinewidth\":0,\"ticks\":\"\"}}}],\"scatterpolargl\":[{\"type\":\"scatterpolargl\",\"marker\":{\"colorbar\":{\"outlinewidth\":0,\"ticks\":\"\"}}}],\"bar\":[{\"error_x\":{\"color\":\"#f2f5fa\"},\"error_y\":{\"color\":\"#f2f5fa\"},\"marker\":{\"line\":{\"color\":\"rgb(17,17,17)\",\"width\":0.5},\"pattern\":{\"fillmode\":\"overlay\",\"size\":10,\"solidity\":0.2}},\"type\":\"bar\"}],\"scattergeo\":[{\"type\":\"scattergeo\",\"marker\":{\"colorbar\":{\"outlinewidth\":0,\"ticks\":\"\"}}}],\"scatterpolar\":[{\"type\":\"scatterpolar\",\"marker\":{\"colorbar\":{\"outlinewidth\":0,\"ticks\":\"\"}}}],\"histogram\":[{\"marker\":{\"pattern\":{\"fillmode\":\"overlay\",\"size\":10,\"solidity\":0.2}},\"type\":\"histogram\"}],\"scattergl\":[{\"marker\":{\"line\":{\"color\":\"#283442\"}},\"type\":\"scattergl\"}],\"scatter3d\":[{\"type\":\"scatter3d\",\"line\":{\"colorbar\":{\"outlinewidth\":0,\"ticks\":\"\"}},\"marker\":{\"colorbar\":{\"outlinewidth\":0,\"ticks\":\"\"}}}],\"scattermapbox\":[{\"type\":\"scattermapbox\",\"marker\":{\"colorbar\":{\"outlinewidth\":0,\"ticks\":\"\"}}}],\"scatterternary\":[{\"type\":\"scatterternary\",\"marker\":{\"colorbar\":{\"outlinewidth\":0,\"ticks\":\"\"}}}],\"scattercarpet\":[{\"type\":\"scattercarpet\",\"marker\":{\"colorbar\":{\"outlinewidth\":0,\"ticks\":\"\"}}}],\"carpet\":[{\"aaxis\":{\"endlinecolor\":\"#A2B1C6\",\"gridcolor\":\"#506784\",\"linecolor\":\"#506784\",\"minorgridcolor\":\"#506784\",\"startlinecolor\":\"#A2B1C6\"},\"baxis\":{\"endlinecolor\":\"#A2B1C6\",\"gridcolor\":\"#506784\",\"linecolor\":\"#506784\",\"minorgridcolor\":\"#506784\",\"startlinecolor\":\"#A2B1C6\"},\"type\":\"carpet\"}],\"table\":[{\"cells\":{\"fill\":{\"color\":\"#506784\"},\"line\":{\"color\":\"rgb(17,17,17)\"}},\"header\":{\"fill\":{\"color\":\"#2a3f5f\"},\"line\":{\"color\":\"rgb(17,17,17)\"}},\"type\":\"table\"}],\"barpolar\":[{\"marker\":{\"line\":{\"color\":\"rgb(17,17,17)\",\"width\":0.5},\"pattern\":{\"fillmode\":\"overlay\",\"size\":10,\"solidity\":0.2}},\"type\":\"barpolar\"}],\"pie\":[{\"automargin\":true,\"type\":\"pie\"}]},\"layout\":{\"autotypenumbers\":\"strict\",\"colorway\":[\"#636efa\",\"#EF553B\",\"#00cc96\",\"#ab63fa\",\"#FFA15A\",\"#19d3f3\",\"#FF6692\",\"#B6E880\",\"#FF97FF\",\"#FECB52\"],\"font\":{\"color\":\"#f2f5fa\"},\"hovermode\":\"closest\",\"hoverlabel\":{\"align\":\"left\"},\"paper_bgcolor\":\"rgb(17,17,17)\",\"plot_bgcolor\":\"rgb(17,17,17)\",\"polar\":{\"bgcolor\":\"rgb(17,17,17)\",\"angularaxis\":{\"gridcolor\":\"#506784\",\"linecolor\":\"#506784\",\"ticks\":\"\"},\"radialaxis\":{\"gridcolor\":\"#506784\",\"linecolor\":\"#506784\",\"ticks\":\"\"}},\"ternary\":{\"bgcolor\":\"rgb(17,17,17)\",\"aaxis\":{\"gridcolor\":\"#506784\",\"linecolor\":\"#506784\",\"ticks\":\"\"},\"baxis\":{\"gridcolor\":\"#506784\",\"linecolor\":\"#506784\",\"ticks\":\"\"},\"caxis\":{\"gridcolor\":\"#506784\",\"linecolor\":\"#506784\",\"ticks\":\"\"}},\"coloraxis\":{\"colorbar\":{\"outlinewidth\":0,\"ticks\":\"\"}},\"colorscale\":{\"sequential\":[[0.0,\"#0d0887\"],[0.1111111111111111,\"#46039f\"],[0.2222222222222222,\"#7201a8\"],[0.3333333333333333,\"#9c179e\"],[0.4444444444444444,\"#bd3786\"],[0.5555555555555556,\"#d8576b\"],[0.6666666666666666,\"#ed7953\"],[0.7777777777777778,\"#fb9f3a\"],[0.8888888888888888,\"#fdca26\"],[1.0,\"#f0f921\"]],\"sequentialminus\":[[0.0,\"#0d0887\"],[0.1111111111111111,\"#46039f\"],[0.2222222222222222,\"#7201a8\"],[0.3333333333333333,\"#9c179e\"],[0.4444444444444444,\"#bd3786\"],[0.5555555555555556,\"#d8576b\"],[0.6666666666666666,\"#ed7953\"],[0.7777777777777778,\"#fb9f3a\"],[0.8888888888888888,\"#fdca26\"],[1.0,\"#f0f921\"]],\"diverging\":[[0,\"#8e0152\"],[0.1,\"#c51b7d\"],[0.2,\"#de77ae\"],[0.3,\"#f1b6da\"],[0.4,\"#fde0ef\"],[0.5,\"#f7f7f7\"],[0.6,\"#e6f5d0\"],[0.7,\"#b8e186\"],[0.8,\"#7fbc41\"],[0.9,\"#4d9221\"],[1,\"#276419\"]]},\"xaxis\":{\"gridcolor\":\"#283442\",\"linecolor\":\"#506784\",\"ticks\":\"\",\"title\":{\"standoff\":15},\"zerolinecolor\":\"#283442\",\"automargin\":true,\"zerolinewidth\":2},\"yaxis\":{\"gridcolor\":\"#283442\",\"linecolor\":\"#506784\",\"ticks\":\"\",\"title\":{\"standoff\":15},\"zerolinecolor\":\"#283442\",\"automargin\":true,\"zerolinewidth\":2},\"scene\":{\"xaxis\":{\"backgroundcolor\":\"rgb(17,17,17)\",\"gridcolor\":\"#506784\",\"linecolor\":\"#506784\",\"showbackground\":true,\"ticks\":\"\",\"zerolinecolor\":\"#C8D4E3\",\"gridwidth\":2},\"yaxis\":{\"backgroundcolor\":\"rgb(17,17,17)\",\"gridcolor\":\"#506784\",\"linecolor\":\"#506784\",\"showbackground\":true,\"ticks\":\"\",\"zerolinecolor\":\"#C8D4E3\",\"gridwidth\":2},\"zaxis\":{\"backgroundcolor\":\"rgb(17,17,17)\",\"gridcolor\":\"#506784\",\"linecolor\":\"#506784\",\"showbackground\":true,\"ticks\":\"\",\"zerolinecolor\":\"#C8D4E3\",\"gridwidth\":2}},\"shapedefaults\":{\"line\":{\"color\":\"#f2f5fa\"}},\"annotationdefaults\":{\"arrowcolor\":\"#f2f5fa\",\"arrowhead\":0,\"arrowwidth\":1},\"geo\":{\"bgcolor\":\"rgb(17,17,17)\",\"landcolor\":\"rgb(17,17,17)\",\"subunitcolor\":\"#506784\",\"showland\":true,\"showlakes\":true,\"lakecolor\":\"rgb(17,17,17)\"},\"title\":{\"x\":0.05},\"updatemenudefaults\":{\"bgcolor\":\"#506784\",\"borderwidth\":0},\"sliderdefaults\":{\"bgcolor\":\"#C8D4E3\",\"borderwidth\":1,\"bordercolor\":\"rgb(17,17,17)\",\"tickwidth\":0},\"mapbox\":{\"style\":\"dark\"}}},\"xaxis\":{\"anchor\":\"y\",\"domain\":[0.0,1.0],\"title\":{\"text\":\"Democracy index ranking 2023\"}},\"yaxis\":{\"anchor\":\"x\",\"domain\":[0.0,1.0],\"title\":{\"text\":\"Press freedom index ranking 2023\"}},\"legend\":{\"tracegroupgap\":0},\"title\":{\"text\":\"Democracy index ranking vs Press freedom index ranking 2023 \"}},                        {\"responsive\": true}                    ).then(function(){\n",
       "                            \n",
       "var gd = document.getElementById('083cc2a5-13a2-4abb-9093-8e2a6ed2afe0');\n",
       "var x = new MutationObserver(function (mutations, observer) {{\n",
       "        var display = window.getComputedStyle(gd).display;\n",
       "        if (!display || display === 'none') {{\n",
       "            console.log([gd, 'removed!']);\n",
       "            Plotly.purge(gd);\n",
       "            observer.disconnect();\n",
       "        }}\n",
       "}});\n",
       "\n",
       "// Listen for the removal of the full notebook cells\n",
       "var notebookContainer = gd.closest('#notebook-container');\n",
       "if (notebookContainer) {{\n",
       "    x.observe(notebookContainer, {childList: true});\n",
       "}}\n",
       "\n",
       "// Listen for the clearing of the current output cell\n",
       "var outputEl = gd.closest('.output');\n",
       "if (outputEl) {{\n",
       "    x.observe(outputEl, {childList: true});\n",
       "}}\n",
       "\n",
       "                        })                };                });            </script>        </div>"
      ]
     },
     "metadata": {},
     "output_type": "display_data"
    }
   ],
   "source": [
    "# creeer een scatterplot om de relatie tussen de democratie en persvrijheid aan te geven per land\n",
    "\n",
    "fig = px.scatter(\n",
    "    dem_press_df[dem_press_df[\"year\"] == 2023],\n",
    "    x='democracy_ranking',\n",
    "    y='press_freedom_ranking',\n",
    "    title = 'Democracy index ranking vs Press freedom index ranking 2023 ',\n",
    "    hover_data=['country'],\n",
    "    trendline=\"ols\")\n",
    "\n",
    "fig.update_layout(\n",
    "    xaxis_title=\"Democracy index ranking 2023\",\n",
    "    yaxis_title=\"Press freedom index ranking 2023\"\n",
    ")\n",
    "\n",
    "for trace in fig.data:\n",
    "    if trace.mode == \"lines\":\n",
    "        trace.line.color = \"black\"\n",
    "\n",
    "fig.show()"
   ]
  },
  {
   "cell_type": "markdown",
   "metadata": {},
   "source": [
    "De visualisatie bestaat uit scatterplots die de relatie tussen de Democracy Index en de Press Freedom Index per land weergeven. Deze grafiek biedt een visuele representatie van de dynamiek tussen bestuursvorm en persvrijheid. Over het algemeen tonen landen met hogere scores op de Democracy Index, wat duidt op meer autocratische bestuursvormen, ook hogere scores op de Press Freedom Index, wat duidt op minder persvrijheid. Deze scatter plots demonstreren hoe de mate van democratie in een land samenhangt met de mate van persvrijheid die journalisten en mediaorganisaties daar ervaren."
   ]
  },
  {
   "cell_type": "markdown",
   "metadata": {},
   "source": [
    "### Argument 2\n",
    "\n",
    "**Landen met een meer autocratische bestuursvorm hebben vaker conflicten.**\n",
    "\n",
    "De twee pie charts hieronder bieden inzicht in de veranderingen van de Conflict Index Rankings van 2019 tot 2023. Uit de eerste pie chart blijkt dat `28%` van de landen hun Conflict Index Ranking heeft zien verslechteren gedurende deze periode. Tegelijkertijd toont de tweede pie chart dat in dezelfde periode `46.7%` van de landen een verslechtering heeft ervaren. Deze overlappende groep van landen, waarin zowel de Conflict Index Rankings als de persvrijheid mogelijk zijn verslechterd, wijst op een zorgwekkende trend van toenemende conflicten en mogelijke beperkingen van persvrijheid."
   ]
  },
  {
   "cell_type": "code",
   "execution_count": 297,
   "metadata": {
    "ExecuteTime": {
     "end_time": "2024-06-19T13:22:43.610716Z",
     "start_time": "2024-06-19T13:22:43.582213Z"
    }
   },
   "outputs": [
    {
     "data": {
      "application/vnd.plotly.v1+json": {
       "config": {
        "plotlyServerURL": "https://plot.ly"
       },
       "data": [
        {
         "labels": [
          "Verbeterd",
          "Verslechterd",
          "Gelijk gebleven"
         ],
         "marker": {
          "colors": [
           "green",
           "red",
           "blue"
          ]
         },
         "type": "pie",
         "values": [
          171,
          68,
          4
         ]
        }
       ],
       "layout": {
        "legend": {
         "title": {
          "text": "Status"
         }
        },
        "template": {
         "data": {
          "bar": [
           {
            "error_x": {
             "color": "#f2f5fa"
            },
            "error_y": {
             "color": "#f2f5fa"
            },
            "marker": {
             "line": {
              "color": "rgb(17,17,17)",
              "width": 0.5
             },
             "pattern": {
              "fillmode": "overlay",
              "size": 10,
              "solidity": 0.2
             }
            },
            "type": "bar"
           }
          ],
          "barpolar": [
           {
            "marker": {
             "line": {
              "color": "rgb(17,17,17)",
              "width": 0.5
             },
             "pattern": {
              "fillmode": "overlay",
              "size": 10,
              "solidity": 0.2
             }
            },
            "type": "barpolar"
           }
          ],
          "carpet": [
           {
            "aaxis": {
             "endlinecolor": "#A2B1C6",
             "gridcolor": "#506784",
             "linecolor": "#506784",
             "minorgridcolor": "#506784",
             "startlinecolor": "#A2B1C6"
            },
            "baxis": {
             "endlinecolor": "#A2B1C6",
             "gridcolor": "#506784",
             "linecolor": "#506784",
             "minorgridcolor": "#506784",
             "startlinecolor": "#A2B1C6"
            },
            "type": "carpet"
           }
          ],
          "choropleth": [
           {
            "colorbar": {
             "outlinewidth": 0,
             "ticks": ""
            },
            "type": "choropleth"
           }
          ],
          "contour": [
           {
            "colorbar": {
             "outlinewidth": 0,
             "ticks": ""
            },
            "colorscale": [
             [
              0,
              "#0d0887"
             ],
             [
              0.1111111111111111,
              "#46039f"
             ],
             [
              0.2222222222222222,
              "#7201a8"
             ],
             [
              0.3333333333333333,
              "#9c179e"
             ],
             [
              0.4444444444444444,
              "#bd3786"
             ],
             [
              0.5555555555555556,
              "#d8576b"
             ],
             [
              0.6666666666666666,
              "#ed7953"
             ],
             [
              0.7777777777777778,
              "#fb9f3a"
             ],
             [
              0.8888888888888888,
              "#fdca26"
             ],
             [
              1,
              "#f0f921"
             ]
            ],
            "type": "contour"
           }
          ],
          "contourcarpet": [
           {
            "colorbar": {
             "outlinewidth": 0,
             "ticks": ""
            },
            "type": "contourcarpet"
           }
          ],
          "heatmap": [
           {
            "colorbar": {
             "outlinewidth": 0,
             "ticks": ""
            },
            "colorscale": [
             [
              0,
              "#0d0887"
             ],
             [
              0.1111111111111111,
              "#46039f"
             ],
             [
              0.2222222222222222,
              "#7201a8"
             ],
             [
              0.3333333333333333,
              "#9c179e"
             ],
             [
              0.4444444444444444,
              "#bd3786"
             ],
             [
              0.5555555555555556,
              "#d8576b"
             ],
             [
              0.6666666666666666,
              "#ed7953"
             ],
             [
              0.7777777777777778,
              "#fb9f3a"
             ],
             [
              0.8888888888888888,
              "#fdca26"
             ],
             [
              1,
              "#f0f921"
             ]
            ],
            "type": "heatmap"
           }
          ],
          "heatmapgl": [
           {
            "colorbar": {
             "outlinewidth": 0,
             "ticks": ""
            },
            "colorscale": [
             [
              0,
              "#0d0887"
             ],
             [
              0.1111111111111111,
              "#46039f"
             ],
             [
              0.2222222222222222,
              "#7201a8"
             ],
             [
              0.3333333333333333,
              "#9c179e"
             ],
             [
              0.4444444444444444,
              "#bd3786"
             ],
             [
              0.5555555555555556,
              "#d8576b"
             ],
             [
              0.6666666666666666,
              "#ed7953"
             ],
             [
              0.7777777777777778,
              "#fb9f3a"
             ],
             [
              0.8888888888888888,
              "#fdca26"
             ],
             [
              1,
              "#f0f921"
             ]
            ],
            "type": "heatmapgl"
           }
          ],
          "histogram": [
           {
            "marker": {
             "pattern": {
              "fillmode": "overlay",
              "size": 10,
              "solidity": 0.2
             }
            },
            "type": "histogram"
           }
          ],
          "histogram2d": [
           {
            "colorbar": {
             "outlinewidth": 0,
             "ticks": ""
            },
            "colorscale": [
             [
              0,
              "#0d0887"
             ],
             [
              0.1111111111111111,
              "#46039f"
             ],
             [
              0.2222222222222222,
              "#7201a8"
             ],
             [
              0.3333333333333333,
              "#9c179e"
             ],
             [
              0.4444444444444444,
              "#bd3786"
             ],
             [
              0.5555555555555556,
              "#d8576b"
             ],
             [
              0.6666666666666666,
              "#ed7953"
             ],
             [
              0.7777777777777778,
              "#fb9f3a"
             ],
             [
              0.8888888888888888,
              "#fdca26"
             ],
             [
              1,
              "#f0f921"
             ]
            ],
            "type": "histogram2d"
           }
          ],
          "histogram2dcontour": [
           {
            "colorbar": {
             "outlinewidth": 0,
             "ticks": ""
            },
            "colorscale": [
             [
              0,
              "#0d0887"
             ],
             [
              0.1111111111111111,
              "#46039f"
             ],
             [
              0.2222222222222222,
              "#7201a8"
             ],
             [
              0.3333333333333333,
              "#9c179e"
             ],
             [
              0.4444444444444444,
              "#bd3786"
             ],
             [
              0.5555555555555556,
              "#d8576b"
             ],
             [
              0.6666666666666666,
              "#ed7953"
             ],
             [
              0.7777777777777778,
              "#fb9f3a"
             ],
             [
              0.8888888888888888,
              "#fdca26"
             ],
             [
              1,
              "#f0f921"
             ]
            ],
            "type": "histogram2dcontour"
           }
          ],
          "mesh3d": [
           {
            "colorbar": {
             "outlinewidth": 0,
             "ticks": ""
            },
            "type": "mesh3d"
           }
          ],
          "parcoords": [
           {
            "line": {
             "colorbar": {
              "outlinewidth": 0,
              "ticks": ""
             }
            },
            "type": "parcoords"
           }
          ],
          "pie": [
           {
            "automargin": true,
            "type": "pie"
           }
          ],
          "scatter": [
           {
            "marker": {
             "line": {
              "color": "#283442"
             }
            },
            "type": "scatter"
           }
          ],
          "scatter3d": [
           {
            "line": {
             "colorbar": {
              "outlinewidth": 0,
              "ticks": ""
             }
            },
            "marker": {
             "colorbar": {
              "outlinewidth": 0,
              "ticks": ""
             }
            },
            "type": "scatter3d"
           }
          ],
          "scattercarpet": [
           {
            "marker": {
             "colorbar": {
              "outlinewidth": 0,
              "ticks": ""
             }
            },
            "type": "scattercarpet"
           }
          ],
          "scattergeo": [
           {
            "marker": {
             "colorbar": {
              "outlinewidth": 0,
              "ticks": ""
             }
            },
            "type": "scattergeo"
           }
          ],
          "scattergl": [
           {
            "marker": {
             "line": {
              "color": "#283442"
             }
            },
            "type": "scattergl"
           }
          ],
          "scattermapbox": [
           {
            "marker": {
             "colorbar": {
              "outlinewidth": 0,
              "ticks": ""
             }
            },
            "type": "scattermapbox"
           }
          ],
          "scatterpolar": [
           {
            "marker": {
             "colorbar": {
              "outlinewidth": 0,
              "ticks": ""
             }
            },
            "type": "scatterpolar"
           }
          ],
          "scatterpolargl": [
           {
            "marker": {
             "colorbar": {
              "outlinewidth": 0,
              "ticks": ""
             }
            },
            "type": "scatterpolargl"
           }
          ],
          "scatterternary": [
           {
            "marker": {
             "colorbar": {
              "outlinewidth": 0,
              "ticks": ""
             }
            },
            "type": "scatterternary"
           }
          ],
          "surface": [
           {
            "colorbar": {
             "outlinewidth": 0,
             "ticks": ""
            },
            "colorscale": [
             [
              0,
              "#0d0887"
             ],
             [
              0.1111111111111111,
              "#46039f"
             ],
             [
              0.2222222222222222,
              "#7201a8"
             ],
             [
              0.3333333333333333,
              "#9c179e"
             ],
             [
              0.4444444444444444,
              "#bd3786"
             ],
             [
              0.5555555555555556,
              "#d8576b"
             ],
             [
              0.6666666666666666,
              "#ed7953"
             ],
             [
              0.7777777777777778,
              "#fb9f3a"
             ],
             [
              0.8888888888888888,
              "#fdca26"
             ],
             [
              1,
              "#f0f921"
             ]
            ],
            "type": "surface"
           }
          ],
          "table": [
           {
            "cells": {
             "fill": {
              "color": "#506784"
             },
             "line": {
              "color": "rgb(17,17,17)"
             }
            },
            "header": {
             "fill": {
              "color": "#2a3f5f"
             },
             "line": {
              "color": "rgb(17,17,17)"
             }
            },
            "type": "table"
           }
          ]
         },
         "layout": {
          "annotationdefaults": {
           "arrowcolor": "#f2f5fa",
           "arrowhead": 0,
           "arrowwidth": 1
          },
          "autotypenumbers": "strict",
          "coloraxis": {
           "colorbar": {
            "outlinewidth": 0,
            "ticks": ""
           }
          },
          "colorscale": {
           "diverging": [
            [
             0,
             "#8e0152"
            ],
            [
             0.1,
             "#c51b7d"
            ],
            [
             0.2,
             "#de77ae"
            ],
            [
             0.3,
             "#f1b6da"
            ],
            [
             0.4,
             "#fde0ef"
            ],
            [
             0.5,
             "#f7f7f7"
            ],
            [
             0.6,
             "#e6f5d0"
            ],
            [
             0.7,
             "#b8e186"
            ],
            [
             0.8,
             "#7fbc41"
            ],
            [
             0.9,
             "#4d9221"
            ],
            [
             1,
             "#276419"
            ]
           ],
           "sequential": [
            [
             0,
             "#0d0887"
            ],
            [
             0.1111111111111111,
             "#46039f"
            ],
            [
             0.2222222222222222,
             "#7201a8"
            ],
            [
             0.3333333333333333,
             "#9c179e"
            ],
            [
             0.4444444444444444,
             "#bd3786"
            ],
            [
             0.5555555555555556,
             "#d8576b"
            ],
            [
             0.6666666666666666,
             "#ed7953"
            ],
            [
             0.7777777777777778,
             "#fb9f3a"
            ],
            [
             0.8888888888888888,
             "#fdca26"
            ],
            [
             1,
             "#f0f921"
            ]
           ],
           "sequentialminus": [
            [
             0,
             "#0d0887"
            ],
            [
             0.1111111111111111,
             "#46039f"
            ],
            [
             0.2222222222222222,
             "#7201a8"
            ],
            [
             0.3333333333333333,
             "#9c179e"
            ],
            [
             0.4444444444444444,
             "#bd3786"
            ],
            [
             0.5555555555555556,
             "#d8576b"
            ],
            [
             0.6666666666666666,
             "#ed7953"
            ],
            [
             0.7777777777777778,
             "#fb9f3a"
            ],
            [
             0.8888888888888888,
             "#fdca26"
            ],
            [
             1,
             "#f0f921"
            ]
           ]
          },
          "colorway": [
           "#636efa",
           "#EF553B",
           "#00cc96",
           "#ab63fa",
           "#FFA15A",
           "#19d3f3",
           "#FF6692",
           "#B6E880",
           "#FF97FF",
           "#FECB52"
          ],
          "font": {
           "color": "#f2f5fa"
          },
          "geo": {
           "bgcolor": "rgb(17,17,17)",
           "lakecolor": "rgb(17,17,17)",
           "landcolor": "rgb(17,17,17)",
           "showlakes": true,
           "showland": true,
           "subunitcolor": "#506784"
          },
          "hoverlabel": {
           "align": "left"
          },
          "hovermode": "closest",
          "mapbox": {
           "style": "dark"
          },
          "paper_bgcolor": "rgb(17,17,17)",
          "plot_bgcolor": "rgb(17,17,17)",
          "polar": {
           "angularaxis": {
            "gridcolor": "#506784",
            "linecolor": "#506784",
            "ticks": ""
           },
           "bgcolor": "rgb(17,17,17)",
           "radialaxis": {
            "gridcolor": "#506784",
            "linecolor": "#506784",
            "ticks": ""
           }
          },
          "scene": {
           "xaxis": {
            "backgroundcolor": "rgb(17,17,17)",
            "gridcolor": "#506784",
            "gridwidth": 2,
            "linecolor": "#506784",
            "showbackground": true,
            "ticks": "",
            "zerolinecolor": "#C8D4E3"
           },
           "yaxis": {
            "backgroundcolor": "rgb(17,17,17)",
            "gridcolor": "#506784",
            "gridwidth": 2,
            "linecolor": "#506784",
            "showbackground": true,
            "ticks": "",
            "zerolinecolor": "#C8D4E3"
           },
           "zaxis": {
            "backgroundcolor": "rgb(17,17,17)",
            "gridcolor": "#506784",
            "gridwidth": 2,
            "linecolor": "#506784",
            "showbackground": true,
            "ticks": "",
            "zerolinecolor": "#C8D4E3"
           }
          },
          "shapedefaults": {
           "line": {
            "color": "#f2f5fa"
           }
          },
          "sliderdefaults": {
           "bgcolor": "#C8D4E3",
           "bordercolor": "rgb(17,17,17)",
           "borderwidth": 1,
           "tickwidth": 0
          },
          "ternary": {
           "aaxis": {
            "gridcolor": "#506784",
            "linecolor": "#506784",
            "ticks": ""
           },
           "baxis": {
            "gridcolor": "#506784",
            "linecolor": "#506784",
            "ticks": ""
           },
           "bgcolor": "rgb(17,17,17)",
           "caxis": {
            "gridcolor": "#506784",
            "linecolor": "#506784",
            "ticks": ""
           }
          },
          "title": {
           "x": 0.05
          },
          "updatemenudefaults": {
           "bgcolor": "#506784",
           "borderwidth": 0
          },
          "xaxis": {
           "automargin": true,
           "gridcolor": "#283442",
           "linecolor": "#506784",
           "ticks": "",
           "title": {
            "standoff": 15
           },
           "zerolinecolor": "#283442",
           "zerolinewidth": 2
          },
          "yaxis": {
           "automargin": true,
           "gridcolor": "#283442",
           "linecolor": "#506784",
           "ticks": "",
           "title": {
            "standoff": 15
           },
           "zerolinecolor": "#283442",
           "zerolinewidth": 2
          }
         }
        },
        "title": {
         "text": "Verandering in Conflict Index Rankings sinds 2019 per 2023"
        }
       }
      },
      "text/html": [
       "<div>                            <div id=\"aa4a5f16-f5fc-4d64-b2e1-a9104ce189f4\" class=\"plotly-graph-div\" style=\"height:525px; width:100%;\"></div>            <script type=\"text/javascript\">                require([\"plotly\"], function(Plotly) {                    window.PLOTLYENV=window.PLOTLYENV || {};                                    if (document.getElementById(\"aa4a5f16-f5fc-4d64-b2e1-a9104ce189f4\")) {                    Plotly.newPlot(                        \"aa4a5f16-f5fc-4d64-b2e1-a9104ce189f4\",                        [{\"labels\":[\"Verbeterd\",\"Verslechterd\",\"Gelijk gebleven\"],\"marker\":{\"colors\":[\"green\",\"red\",\"blue\"]},\"values\":[171,68,4],\"type\":\"pie\"}],                        {\"template\":{\"data\":{\"histogram2dcontour\":[{\"type\":\"histogram2dcontour\",\"colorbar\":{\"outlinewidth\":0,\"ticks\":\"\"},\"colorscale\":[[0.0,\"#0d0887\"],[0.1111111111111111,\"#46039f\"],[0.2222222222222222,\"#7201a8\"],[0.3333333333333333,\"#9c179e\"],[0.4444444444444444,\"#bd3786\"],[0.5555555555555556,\"#d8576b\"],[0.6666666666666666,\"#ed7953\"],[0.7777777777777778,\"#fb9f3a\"],[0.8888888888888888,\"#fdca26\"],[1.0,\"#f0f921\"]]}],\"choropleth\":[{\"type\":\"choropleth\",\"colorbar\":{\"outlinewidth\":0,\"ticks\":\"\"}}],\"histogram2d\":[{\"type\":\"histogram2d\",\"colorbar\":{\"outlinewidth\":0,\"ticks\":\"\"},\"colorscale\":[[0.0,\"#0d0887\"],[0.1111111111111111,\"#46039f\"],[0.2222222222222222,\"#7201a8\"],[0.3333333333333333,\"#9c179e\"],[0.4444444444444444,\"#bd3786\"],[0.5555555555555556,\"#d8576b\"],[0.6666666666666666,\"#ed7953\"],[0.7777777777777778,\"#fb9f3a\"],[0.8888888888888888,\"#fdca26\"],[1.0,\"#f0f921\"]]}],\"heatmap\":[{\"type\":\"heatmap\",\"colorbar\":{\"outlinewidth\":0,\"ticks\":\"\"},\"colorscale\":[[0.0,\"#0d0887\"],[0.1111111111111111,\"#46039f\"],[0.2222222222222222,\"#7201a8\"],[0.3333333333333333,\"#9c179e\"],[0.4444444444444444,\"#bd3786\"],[0.5555555555555556,\"#d8576b\"],[0.6666666666666666,\"#ed7953\"],[0.7777777777777778,\"#fb9f3a\"],[0.8888888888888888,\"#fdca26\"],[1.0,\"#f0f921\"]]}],\"heatmapgl\":[{\"type\":\"heatmapgl\",\"colorbar\":{\"outlinewidth\":0,\"ticks\":\"\"},\"colorscale\":[[0.0,\"#0d0887\"],[0.1111111111111111,\"#46039f\"],[0.2222222222222222,\"#7201a8\"],[0.3333333333333333,\"#9c179e\"],[0.4444444444444444,\"#bd3786\"],[0.5555555555555556,\"#d8576b\"],[0.6666666666666666,\"#ed7953\"],[0.7777777777777778,\"#fb9f3a\"],[0.8888888888888888,\"#fdca26\"],[1.0,\"#f0f921\"]]}],\"contourcarpet\":[{\"type\":\"contourcarpet\",\"colorbar\":{\"outlinewidth\":0,\"ticks\":\"\"}}],\"contour\":[{\"type\":\"contour\",\"colorbar\":{\"outlinewidth\":0,\"ticks\":\"\"},\"colorscale\":[[0.0,\"#0d0887\"],[0.1111111111111111,\"#46039f\"],[0.2222222222222222,\"#7201a8\"],[0.3333333333333333,\"#9c179e\"],[0.4444444444444444,\"#bd3786\"],[0.5555555555555556,\"#d8576b\"],[0.6666666666666666,\"#ed7953\"],[0.7777777777777778,\"#fb9f3a\"],[0.8888888888888888,\"#fdca26\"],[1.0,\"#f0f921\"]]}],\"surface\":[{\"type\":\"surface\",\"colorbar\":{\"outlinewidth\":0,\"ticks\":\"\"},\"colorscale\":[[0.0,\"#0d0887\"],[0.1111111111111111,\"#46039f\"],[0.2222222222222222,\"#7201a8\"],[0.3333333333333333,\"#9c179e\"],[0.4444444444444444,\"#bd3786\"],[0.5555555555555556,\"#d8576b\"],[0.6666666666666666,\"#ed7953\"],[0.7777777777777778,\"#fb9f3a\"],[0.8888888888888888,\"#fdca26\"],[1.0,\"#f0f921\"]]}],\"mesh3d\":[{\"type\":\"mesh3d\",\"colorbar\":{\"outlinewidth\":0,\"ticks\":\"\"}}],\"scatter\":[{\"marker\":{\"line\":{\"color\":\"#283442\"}},\"type\":\"scatter\"}],\"parcoords\":[{\"type\":\"parcoords\",\"line\":{\"colorbar\":{\"outlinewidth\":0,\"ticks\":\"\"}}}],\"scatterpolargl\":[{\"type\":\"scatterpolargl\",\"marker\":{\"colorbar\":{\"outlinewidth\":0,\"ticks\":\"\"}}}],\"bar\":[{\"error_x\":{\"color\":\"#f2f5fa\"},\"error_y\":{\"color\":\"#f2f5fa\"},\"marker\":{\"line\":{\"color\":\"rgb(17,17,17)\",\"width\":0.5},\"pattern\":{\"fillmode\":\"overlay\",\"size\":10,\"solidity\":0.2}},\"type\":\"bar\"}],\"scattergeo\":[{\"type\":\"scattergeo\",\"marker\":{\"colorbar\":{\"outlinewidth\":0,\"ticks\":\"\"}}}],\"scatterpolar\":[{\"type\":\"scatterpolar\",\"marker\":{\"colorbar\":{\"outlinewidth\":0,\"ticks\":\"\"}}}],\"histogram\":[{\"marker\":{\"pattern\":{\"fillmode\":\"overlay\",\"size\":10,\"solidity\":0.2}},\"type\":\"histogram\"}],\"scattergl\":[{\"marker\":{\"line\":{\"color\":\"#283442\"}},\"type\":\"scattergl\"}],\"scatter3d\":[{\"type\":\"scatter3d\",\"line\":{\"colorbar\":{\"outlinewidth\":0,\"ticks\":\"\"}},\"marker\":{\"colorbar\":{\"outlinewidth\":0,\"ticks\":\"\"}}}],\"scattermapbox\":[{\"type\":\"scattermapbox\",\"marker\":{\"colorbar\":{\"outlinewidth\":0,\"ticks\":\"\"}}}],\"scatterternary\":[{\"type\":\"scatterternary\",\"marker\":{\"colorbar\":{\"outlinewidth\":0,\"ticks\":\"\"}}}],\"scattercarpet\":[{\"type\":\"scattercarpet\",\"marker\":{\"colorbar\":{\"outlinewidth\":0,\"ticks\":\"\"}}}],\"carpet\":[{\"aaxis\":{\"endlinecolor\":\"#A2B1C6\",\"gridcolor\":\"#506784\",\"linecolor\":\"#506784\",\"minorgridcolor\":\"#506784\",\"startlinecolor\":\"#A2B1C6\"},\"baxis\":{\"endlinecolor\":\"#A2B1C6\",\"gridcolor\":\"#506784\",\"linecolor\":\"#506784\",\"minorgridcolor\":\"#506784\",\"startlinecolor\":\"#A2B1C6\"},\"type\":\"carpet\"}],\"table\":[{\"cells\":{\"fill\":{\"color\":\"#506784\"},\"line\":{\"color\":\"rgb(17,17,17)\"}},\"header\":{\"fill\":{\"color\":\"#2a3f5f\"},\"line\":{\"color\":\"rgb(17,17,17)\"}},\"type\":\"table\"}],\"barpolar\":[{\"marker\":{\"line\":{\"color\":\"rgb(17,17,17)\",\"width\":0.5},\"pattern\":{\"fillmode\":\"overlay\",\"size\":10,\"solidity\":0.2}},\"type\":\"barpolar\"}],\"pie\":[{\"automargin\":true,\"type\":\"pie\"}]},\"layout\":{\"autotypenumbers\":\"strict\",\"colorway\":[\"#636efa\",\"#EF553B\",\"#00cc96\",\"#ab63fa\",\"#FFA15A\",\"#19d3f3\",\"#FF6692\",\"#B6E880\",\"#FF97FF\",\"#FECB52\"],\"font\":{\"color\":\"#f2f5fa\"},\"hovermode\":\"closest\",\"hoverlabel\":{\"align\":\"left\"},\"paper_bgcolor\":\"rgb(17,17,17)\",\"plot_bgcolor\":\"rgb(17,17,17)\",\"polar\":{\"bgcolor\":\"rgb(17,17,17)\",\"angularaxis\":{\"gridcolor\":\"#506784\",\"linecolor\":\"#506784\",\"ticks\":\"\"},\"radialaxis\":{\"gridcolor\":\"#506784\",\"linecolor\":\"#506784\",\"ticks\":\"\"}},\"ternary\":{\"bgcolor\":\"rgb(17,17,17)\",\"aaxis\":{\"gridcolor\":\"#506784\",\"linecolor\":\"#506784\",\"ticks\":\"\"},\"baxis\":{\"gridcolor\":\"#506784\",\"linecolor\":\"#506784\",\"ticks\":\"\"},\"caxis\":{\"gridcolor\":\"#506784\",\"linecolor\":\"#506784\",\"ticks\":\"\"}},\"coloraxis\":{\"colorbar\":{\"outlinewidth\":0,\"ticks\":\"\"}},\"colorscale\":{\"sequential\":[[0.0,\"#0d0887\"],[0.1111111111111111,\"#46039f\"],[0.2222222222222222,\"#7201a8\"],[0.3333333333333333,\"#9c179e\"],[0.4444444444444444,\"#bd3786\"],[0.5555555555555556,\"#d8576b\"],[0.6666666666666666,\"#ed7953\"],[0.7777777777777778,\"#fb9f3a\"],[0.8888888888888888,\"#fdca26\"],[1.0,\"#f0f921\"]],\"sequentialminus\":[[0.0,\"#0d0887\"],[0.1111111111111111,\"#46039f\"],[0.2222222222222222,\"#7201a8\"],[0.3333333333333333,\"#9c179e\"],[0.4444444444444444,\"#bd3786\"],[0.5555555555555556,\"#d8576b\"],[0.6666666666666666,\"#ed7953\"],[0.7777777777777778,\"#fb9f3a\"],[0.8888888888888888,\"#fdca26\"],[1.0,\"#f0f921\"]],\"diverging\":[[0,\"#8e0152\"],[0.1,\"#c51b7d\"],[0.2,\"#de77ae\"],[0.3,\"#f1b6da\"],[0.4,\"#fde0ef\"],[0.5,\"#f7f7f7\"],[0.6,\"#e6f5d0\"],[0.7,\"#b8e186\"],[0.8,\"#7fbc41\"],[0.9,\"#4d9221\"],[1,\"#276419\"]]},\"xaxis\":{\"gridcolor\":\"#283442\",\"linecolor\":\"#506784\",\"ticks\":\"\",\"title\":{\"standoff\":15},\"zerolinecolor\":\"#283442\",\"automargin\":true,\"zerolinewidth\":2},\"yaxis\":{\"gridcolor\":\"#283442\",\"linecolor\":\"#506784\",\"ticks\":\"\",\"title\":{\"standoff\":15},\"zerolinecolor\":\"#283442\",\"automargin\":true,\"zerolinewidth\":2},\"scene\":{\"xaxis\":{\"backgroundcolor\":\"rgb(17,17,17)\",\"gridcolor\":\"#506784\",\"linecolor\":\"#506784\",\"showbackground\":true,\"ticks\":\"\",\"zerolinecolor\":\"#C8D4E3\",\"gridwidth\":2},\"yaxis\":{\"backgroundcolor\":\"rgb(17,17,17)\",\"gridcolor\":\"#506784\",\"linecolor\":\"#506784\",\"showbackground\":true,\"ticks\":\"\",\"zerolinecolor\":\"#C8D4E3\",\"gridwidth\":2},\"zaxis\":{\"backgroundcolor\":\"rgb(17,17,17)\",\"gridcolor\":\"#506784\",\"linecolor\":\"#506784\",\"showbackground\":true,\"ticks\":\"\",\"zerolinecolor\":\"#C8D4E3\",\"gridwidth\":2}},\"shapedefaults\":{\"line\":{\"color\":\"#f2f5fa\"}},\"annotationdefaults\":{\"arrowcolor\":\"#f2f5fa\",\"arrowhead\":0,\"arrowwidth\":1},\"geo\":{\"bgcolor\":\"rgb(17,17,17)\",\"landcolor\":\"rgb(17,17,17)\",\"subunitcolor\":\"#506784\",\"showland\":true,\"showlakes\":true,\"lakecolor\":\"rgb(17,17,17)\"},\"title\":{\"x\":0.05},\"updatemenudefaults\":{\"bgcolor\":\"#506784\",\"borderwidth\":0},\"sliderdefaults\":{\"bgcolor\":\"#C8D4E3\",\"borderwidth\":1,\"bordercolor\":\"rgb(17,17,17)\",\"tickwidth\":0},\"mapbox\":{\"style\":\"dark\"}}},\"title\":{\"text\":\"Verandering in Conflict Index Rankings sinds 2019 per 2023\"},\"legend\":{\"title\":{\"text\":\"Status\"}}},                        {\"responsive\": true}                    ).then(function(){\n",
       "                            \n",
       "var gd = document.getElementById('aa4a5f16-f5fc-4d64-b2e1-a9104ce189f4');\n",
       "var x = new MutationObserver(function (mutations, observer) {{\n",
       "        var display = window.getComputedStyle(gd).display;\n",
       "        if (!display || display === 'none') {{\n",
       "            console.log([gd, 'removed!']);\n",
       "            Plotly.purge(gd);\n",
       "            observer.disconnect();\n",
       "        }}\n",
       "}});\n",
       "\n",
       "// Listen for the removal of the full notebook cells\n",
       "var notebookContainer = gd.closest('#notebook-container');\n",
       "if (notebookContainer) {{\n",
       "    x.observe(notebookContainer, {childList: true});\n",
       "}}\n",
       "\n",
       "// Listen for the clearing of the current output cell\n",
       "var outputEl = gd.closest('.output');\n",
       "if (outputEl) {{\n",
       "    x.observe(outputEl, {childList: true});\n",
       "}}\n",
       "\n",
       "                        })                };                });            </script>        </div>"
      ]
     },
     "metadata": {},
     "output_type": "display_data"
    }
   ],
   "source": [
    "conditions = [\n",
    "    (conflict_df['conflict_ranking_change'] > 0),\n",
    "    (conflict_df['conflict_ranking_change'] < 0),\n",
    "    (conflict_df['conflict_ranking_change'] == 0)\n",
    "]\n",
    "choices = ['Verslechterd', 'Verbeterd', 'Gelijk gebleven']\n",
    "\n",
    "conflict_df['conflict_change_status'] = np.select(conditions, choices, default='Niet gedefinieerd')\n",
    "\n",
    "status_counts = conflict_df[\"conflict_change_status\"].value_counts()\n",
    "\n",
    "fig_status = go.Figure(data=[go.Pie(\n",
    "    labels=status_counts.index,\n",
    "    values=status_counts.values,\n",
    "    marker=dict(colors=['green', 'red', 'blue'])\n",
    ")])\n",
    "\n",
    "fig_status.update_layout(\n",
    "    title='Verandering in Conflict Index Rankings sinds 2019 per 2023',\n",
    "    legend_title='Status'\n",
    ")\n",
    "\n",
    "fig_status.show()"
   ]
  },
  {
   "cell_type": "code",
   "execution_count": 317,
   "metadata": {
    "ExecuteTime": {
     "end_time": "2024-06-19T14:16:34.830058Z",
     "start_time": "2024-06-19T14:16:34.807557Z"
    }
   },
   "outputs": [
    {
     "data": {
      "application/vnd.plotly.v1+json": {
       "config": {
        "plotlyServerURL": "https://plot.ly"
       },
       "data": [
        {
         "labels": [
          "Verbeterd",
          "Verslechterd",
          "Gelijk gebleven"
         ],
         "marker": {
          "colors": [
           "green",
           "red",
           "blue"
          ]
         },
         "type": "pie",
         "values": [
          85,
          77,
          3
         ]
        }
       ],
       "layout": {
        "legend": {
         "title": {
          "text": "Status"
         }
        },
        "template": {
         "data": {
          "bar": [
           {
            "error_x": {
             "color": "#f2f5fa"
            },
            "error_y": {
             "color": "#f2f5fa"
            },
            "marker": {
             "line": {
              "color": "rgb(17,17,17)",
              "width": 0.5
             },
             "pattern": {
              "fillmode": "overlay",
              "size": 10,
              "solidity": 0.2
             }
            },
            "type": "bar"
           }
          ],
          "barpolar": [
           {
            "marker": {
             "line": {
              "color": "rgb(17,17,17)",
              "width": 0.5
             },
             "pattern": {
              "fillmode": "overlay",
              "size": 10,
              "solidity": 0.2
             }
            },
            "type": "barpolar"
           }
          ],
          "carpet": [
           {
            "aaxis": {
             "endlinecolor": "#A2B1C6",
             "gridcolor": "#506784",
             "linecolor": "#506784",
             "minorgridcolor": "#506784",
             "startlinecolor": "#A2B1C6"
            },
            "baxis": {
             "endlinecolor": "#A2B1C6",
             "gridcolor": "#506784",
             "linecolor": "#506784",
             "minorgridcolor": "#506784",
             "startlinecolor": "#A2B1C6"
            },
            "type": "carpet"
           }
          ],
          "choropleth": [
           {
            "colorbar": {
             "outlinewidth": 0,
             "ticks": ""
            },
            "type": "choropleth"
           }
          ],
          "contour": [
           {
            "colorbar": {
             "outlinewidth": 0,
             "ticks": ""
            },
            "colorscale": [
             [
              0,
              "#0d0887"
             ],
             [
              0.1111111111111111,
              "#46039f"
             ],
             [
              0.2222222222222222,
              "#7201a8"
             ],
             [
              0.3333333333333333,
              "#9c179e"
             ],
             [
              0.4444444444444444,
              "#bd3786"
             ],
             [
              0.5555555555555556,
              "#d8576b"
             ],
             [
              0.6666666666666666,
              "#ed7953"
             ],
             [
              0.7777777777777778,
              "#fb9f3a"
             ],
             [
              0.8888888888888888,
              "#fdca26"
             ],
             [
              1,
              "#f0f921"
             ]
            ],
            "type": "contour"
           }
          ],
          "contourcarpet": [
           {
            "colorbar": {
             "outlinewidth": 0,
             "ticks": ""
            },
            "type": "contourcarpet"
           }
          ],
          "heatmap": [
           {
            "colorbar": {
             "outlinewidth": 0,
             "ticks": ""
            },
            "colorscale": [
             [
              0,
              "#0d0887"
             ],
             [
              0.1111111111111111,
              "#46039f"
             ],
             [
              0.2222222222222222,
              "#7201a8"
             ],
             [
              0.3333333333333333,
              "#9c179e"
             ],
             [
              0.4444444444444444,
              "#bd3786"
             ],
             [
              0.5555555555555556,
              "#d8576b"
             ],
             [
              0.6666666666666666,
              "#ed7953"
             ],
             [
              0.7777777777777778,
              "#fb9f3a"
             ],
             [
              0.8888888888888888,
              "#fdca26"
             ],
             [
              1,
              "#f0f921"
             ]
            ],
            "type": "heatmap"
           }
          ],
          "heatmapgl": [
           {
            "colorbar": {
             "outlinewidth": 0,
             "ticks": ""
            },
            "colorscale": [
             [
              0,
              "#0d0887"
             ],
             [
              0.1111111111111111,
              "#46039f"
             ],
             [
              0.2222222222222222,
              "#7201a8"
             ],
             [
              0.3333333333333333,
              "#9c179e"
             ],
             [
              0.4444444444444444,
              "#bd3786"
             ],
             [
              0.5555555555555556,
              "#d8576b"
             ],
             [
              0.6666666666666666,
              "#ed7953"
             ],
             [
              0.7777777777777778,
              "#fb9f3a"
             ],
             [
              0.8888888888888888,
              "#fdca26"
             ],
             [
              1,
              "#f0f921"
             ]
            ],
            "type": "heatmapgl"
           }
          ],
          "histogram": [
           {
            "marker": {
             "pattern": {
              "fillmode": "overlay",
              "size": 10,
              "solidity": 0.2
             }
            },
            "type": "histogram"
           }
          ],
          "histogram2d": [
           {
            "colorbar": {
             "outlinewidth": 0,
             "ticks": ""
            },
            "colorscale": [
             [
              0,
              "#0d0887"
             ],
             [
              0.1111111111111111,
              "#46039f"
             ],
             [
              0.2222222222222222,
              "#7201a8"
             ],
             [
              0.3333333333333333,
              "#9c179e"
             ],
             [
              0.4444444444444444,
              "#bd3786"
             ],
             [
              0.5555555555555556,
              "#d8576b"
             ],
             [
              0.6666666666666666,
              "#ed7953"
             ],
             [
              0.7777777777777778,
              "#fb9f3a"
             ],
             [
              0.8888888888888888,
              "#fdca26"
             ],
             [
              1,
              "#f0f921"
             ]
            ],
            "type": "histogram2d"
           }
          ],
          "histogram2dcontour": [
           {
            "colorbar": {
             "outlinewidth": 0,
             "ticks": ""
            },
            "colorscale": [
             [
              0,
              "#0d0887"
             ],
             [
              0.1111111111111111,
              "#46039f"
             ],
             [
              0.2222222222222222,
              "#7201a8"
             ],
             [
              0.3333333333333333,
              "#9c179e"
             ],
             [
              0.4444444444444444,
              "#bd3786"
             ],
             [
              0.5555555555555556,
              "#d8576b"
             ],
             [
              0.6666666666666666,
              "#ed7953"
             ],
             [
              0.7777777777777778,
              "#fb9f3a"
             ],
             [
              0.8888888888888888,
              "#fdca26"
             ],
             [
              1,
              "#f0f921"
             ]
            ],
            "type": "histogram2dcontour"
           }
          ],
          "mesh3d": [
           {
            "colorbar": {
             "outlinewidth": 0,
             "ticks": ""
            },
            "type": "mesh3d"
           }
          ],
          "parcoords": [
           {
            "line": {
             "colorbar": {
              "outlinewidth": 0,
              "ticks": ""
             }
            },
            "type": "parcoords"
           }
          ],
          "pie": [
           {
            "automargin": true,
            "type": "pie"
           }
          ],
          "scatter": [
           {
            "marker": {
             "line": {
              "color": "#283442"
             }
            },
            "type": "scatter"
           }
          ],
          "scatter3d": [
           {
            "line": {
             "colorbar": {
              "outlinewidth": 0,
              "ticks": ""
             }
            },
            "marker": {
             "colorbar": {
              "outlinewidth": 0,
              "ticks": ""
             }
            },
            "type": "scatter3d"
           }
          ],
          "scattercarpet": [
           {
            "marker": {
             "colorbar": {
              "outlinewidth": 0,
              "ticks": ""
             }
            },
            "type": "scattercarpet"
           }
          ],
          "scattergeo": [
           {
            "marker": {
             "colorbar": {
              "outlinewidth": 0,
              "ticks": ""
             }
            },
            "type": "scattergeo"
           }
          ],
          "scattergl": [
           {
            "marker": {
             "line": {
              "color": "#283442"
             }
            },
            "type": "scattergl"
           }
          ],
          "scattermapbox": [
           {
            "marker": {
             "colorbar": {
              "outlinewidth": 0,
              "ticks": ""
             }
            },
            "type": "scattermapbox"
           }
          ],
          "scatterpolar": [
           {
            "marker": {
             "colorbar": {
              "outlinewidth": 0,
              "ticks": ""
             }
            },
            "type": "scatterpolar"
           }
          ],
          "scatterpolargl": [
           {
            "marker": {
             "colorbar": {
              "outlinewidth": 0,
              "ticks": ""
             }
            },
            "type": "scatterpolargl"
           }
          ],
          "scatterternary": [
           {
            "marker": {
             "colorbar": {
              "outlinewidth": 0,
              "ticks": ""
             }
            },
            "type": "scatterternary"
           }
          ],
          "surface": [
           {
            "colorbar": {
             "outlinewidth": 0,
             "ticks": ""
            },
            "colorscale": [
             [
              0,
              "#0d0887"
             ],
             [
              0.1111111111111111,
              "#46039f"
             ],
             [
              0.2222222222222222,
              "#7201a8"
             ],
             [
              0.3333333333333333,
              "#9c179e"
             ],
             [
              0.4444444444444444,
              "#bd3786"
             ],
             [
              0.5555555555555556,
              "#d8576b"
             ],
             [
              0.6666666666666666,
              "#ed7953"
             ],
             [
              0.7777777777777778,
              "#fb9f3a"
             ],
             [
              0.8888888888888888,
              "#fdca26"
             ],
             [
              1,
              "#f0f921"
             ]
            ],
            "type": "surface"
           }
          ],
          "table": [
           {
            "cells": {
             "fill": {
              "color": "#506784"
             },
             "line": {
              "color": "rgb(17,17,17)"
             }
            },
            "header": {
             "fill": {
              "color": "#2a3f5f"
             },
             "line": {
              "color": "rgb(17,17,17)"
             }
            },
            "type": "table"
           }
          ]
         },
         "layout": {
          "annotationdefaults": {
           "arrowcolor": "#f2f5fa",
           "arrowhead": 0,
           "arrowwidth": 1
          },
          "autotypenumbers": "strict",
          "coloraxis": {
           "colorbar": {
            "outlinewidth": 0,
            "ticks": ""
           }
          },
          "colorscale": {
           "diverging": [
            [
             0,
             "#8e0152"
            ],
            [
             0.1,
             "#c51b7d"
            ],
            [
             0.2,
             "#de77ae"
            ],
            [
             0.3,
             "#f1b6da"
            ],
            [
             0.4,
             "#fde0ef"
            ],
            [
             0.5,
             "#f7f7f7"
            ],
            [
             0.6,
             "#e6f5d0"
            ],
            [
             0.7,
             "#b8e186"
            ],
            [
             0.8,
             "#7fbc41"
            ],
            [
             0.9,
             "#4d9221"
            ],
            [
             1,
             "#276419"
            ]
           ],
           "sequential": [
            [
             0,
             "#0d0887"
            ],
            [
             0.1111111111111111,
             "#46039f"
            ],
            [
             0.2222222222222222,
             "#7201a8"
            ],
            [
             0.3333333333333333,
             "#9c179e"
            ],
            [
             0.4444444444444444,
             "#bd3786"
            ],
            [
             0.5555555555555556,
             "#d8576b"
            ],
            [
             0.6666666666666666,
             "#ed7953"
            ],
            [
             0.7777777777777778,
             "#fb9f3a"
            ],
            [
             0.8888888888888888,
             "#fdca26"
            ],
            [
             1,
             "#f0f921"
            ]
           ],
           "sequentialminus": [
            [
             0,
             "#0d0887"
            ],
            [
             0.1111111111111111,
             "#46039f"
            ],
            [
             0.2222222222222222,
             "#7201a8"
            ],
            [
             0.3333333333333333,
             "#9c179e"
            ],
            [
             0.4444444444444444,
             "#bd3786"
            ],
            [
             0.5555555555555556,
             "#d8576b"
            ],
            [
             0.6666666666666666,
             "#ed7953"
            ],
            [
             0.7777777777777778,
             "#fb9f3a"
            ],
            [
             0.8888888888888888,
             "#fdca26"
            ],
            [
             1,
             "#f0f921"
            ]
           ]
          },
          "colorway": [
           "#636efa",
           "#EF553B",
           "#00cc96",
           "#ab63fa",
           "#FFA15A",
           "#19d3f3",
           "#FF6692",
           "#B6E880",
           "#FF97FF",
           "#FECB52"
          ],
          "font": {
           "color": "#f2f5fa"
          },
          "geo": {
           "bgcolor": "rgb(17,17,17)",
           "lakecolor": "rgb(17,17,17)",
           "landcolor": "rgb(17,17,17)",
           "showlakes": true,
           "showland": true,
           "subunitcolor": "#506784"
          },
          "hoverlabel": {
           "align": "left"
          },
          "hovermode": "closest",
          "mapbox": {
           "style": "dark"
          },
          "paper_bgcolor": "rgb(17,17,17)",
          "plot_bgcolor": "rgb(17,17,17)",
          "polar": {
           "angularaxis": {
            "gridcolor": "#506784",
            "linecolor": "#506784",
            "ticks": ""
           },
           "bgcolor": "rgb(17,17,17)",
           "radialaxis": {
            "gridcolor": "#506784",
            "linecolor": "#506784",
            "ticks": ""
           }
          },
          "scene": {
           "xaxis": {
            "backgroundcolor": "rgb(17,17,17)",
            "gridcolor": "#506784",
            "gridwidth": 2,
            "linecolor": "#506784",
            "showbackground": true,
            "ticks": "",
            "zerolinecolor": "#C8D4E3"
           },
           "yaxis": {
            "backgroundcolor": "rgb(17,17,17)",
            "gridcolor": "#506784",
            "gridwidth": 2,
            "linecolor": "#506784",
            "showbackground": true,
            "ticks": "",
            "zerolinecolor": "#C8D4E3"
           },
           "zaxis": {
            "backgroundcolor": "rgb(17,17,17)",
            "gridcolor": "#506784",
            "gridwidth": 2,
            "linecolor": "#506784",
            "showbackground": true,
            "ticks": "",
            "zerolinecolor": "#C8D4E3"
           }
          },
          "shapedefaults": {
           "line": {
            "color": "#f2f5fa"
           }
          },
          "sliderdefaults": {
           "bgcolor": "#C8D4E3",
           "bordercolor": "rgb(17,17,17)",
           "borderwidth": 1,
           "tickwidth": 0
          },
          "ternary": {
           "aaxis": {
            "gridcolor": "#506784",
            "linecolor": "#506784",
            "ticks": ""
           },
           "baxis": {
            "gridcolor": "#506784",
            "linecolor": "#506784",
            "ticks": ""
           },
           "bgcolor": "rgb(17,17,17)",
           "caxis": {
            "gridcolor": "#506784",
            "linecolor": "#506784",
            "ticks": ""
           }
          },
          "title": {
           "x": 0.05
          },
          "updatemenudefaults": {
           "bgcolor": "#506784",
           "borderwidth": 0
          },
          "xaxis": {
           "automargin": true,
           "gridcolor": "#283442",
           "linecolor": "#506784",
           "ticks": "",
           "title": {
            "standoff": 15
           },
           "zerolinecolor": "#283442",
           "zerolinewidth": 2
          },
          "yaxis": {
           "automargin": true,
           "gridcolor": "#283442",
           "linecolor": "#506784",
           "ticks": "",
           "title": {
            "standoff": 15
           },
           "zerolinecolor": "#283442",
           "zerolinewidth": 2
          }
         }
        },
        "title": {
         "text": "Verandering in Persvrijheidsindex Rankings sinds 2019 per 2023"
        }
       }
      },
      "text/html": [
       "<div>                            <div id=\"1b2e1977-5f7a-41b2-9205-61179a1c01f1\" class=\"plotly-graph-div\" style=\"height:525px; width:100%;\"></div>            <script type=\"text/javascript\">                require([\"plotly\"], function(Plotly) {                    window.PLOTLYENV=window.PLOTLYENV || {};                                    if (document.getElementById(\"1b2e1977-5f7a-41b2-9205-61179a1c01f1\")) {                    Plotly.newPlot(                        \"1b2e1977-5f7a-41b2-9205-61179a1c01f1\",                        [{\"labels\":[\"Verbeterd\",\"Verslechterd\",\"Gelijk gebleven\"],\"marker\":{\"colors\":[\"green\",\"red\",\"blue\"]},\"values\":[85,77,3],\"type\":\"pie\"}],                        {\"template\":{\"data\":{\"histogram2dcontour\":[{\"type\":\"histogram2dcontour\",\"colorbar\":{\"outlinewidth\":0,\"ticks\":\"\"},\"colorscale\":[[0.0,\"#0d0887\"],[0.1111111111111111,\"#46039f\"],[0.2222222222222222,\"#7201a8\"],[0.3333333333333333,\"#9c179e\"],[0.4444444444444444,\"#bd3786\"],[0.5555555555555556,\"#d8576b\"],[0.6666666666666666,\"#ed7953\"],[0.7777777777777778,\"#fb9f3a\"],[0.8888888888888888,\"#fdca26\"],[1.0,\"#f0f921\"]]}],\"choropleth\":[{\"type\":\"choropleth\",\"colorbar\":{\"outlinewidth\":0,\"ticks\":\"\"}}],\"histogram2d\":[{\"type\":\"histogram2d\",\"colorbar\":{\"outlinewidth\":0,\"ticks\":\"\"},\"colorscale\":[[0.0,\"#0d0887\"],[0.1111111111111111,\"#46039f\"],[0.2222222222222222,\"#7201a8\"],[0.3333333333333333,\"#9c179e\"],[0.4444444444444444,\"#bd3786\"],[0.5555555555555556,\"#d8576b\"],[0.6666666666666666,\"#ed7953\"],[0.7777777777777778,\"#fb9f3a\"],[0.8888888888888888,\"#fdca26\"],[1.0,\"#f0f921\"]]}],\"heatmap\":[{\"type\":\"heatmap\",\"colorbar\":{\"outlinewidth\":0,\"ticks\":\"\"},\"colorscale\":[[0.0,\"#0d0887\"],[0.1111111111111111,\"#46039f\"],[0.2222222222222222,\"#7201a8\"],[0.3333333333333333,\"#9c179e\"],[0.4444444444444444,\"#bd3786\"],[0.5555555555555556,\"#d8576b\"],[0.6666666666666666,\"#ed7953\"],[0.7777777777777778,\"#fb9f3a\"],[0.8888888888888888,\"#fdca26\"],[1.0,\"#f0f921\"]]}],\"heatmapgl\":[{\"type\":\"heatmapgl\",\"colorbar\":{\"outlinewidth\":0,\"ticks\":\"\"},\"colorscale\":[[0.0,\"#0d0887\"],[0.1111111111111111,\"#46039f\"],[0.2222222222222222,\"#7201a8\"],[0.3333333333333333,\"#9c179e\"],[0.4444444444444444,\"#bd3786\"],[0.5555555555555556,\"#d8576b\"],[0.6666666666666666,\"#ed7953\"],[0.7777777777777778,\"#fb9f3a\"],[0.8888888888888888,\"#fdca26\"],[1.0,\"#f0f921\"]]}],\"contourcarpet\":[{\"type\":\"contourcarpet\",\"colorbar\":{\"outlinewidth\":0,\"ticks\":\"\"}}],\"contour\":[{\"type\":\"contour\",\"colorbar\":{\"outlinewidth\":0,\"ticks\":\"\"},\"colorscale\":[[0.0,\"#0d0887\"],[0.1111111111111111,\"#46039f\"],[0.2222222222222222,\"#7201a8\"],[0.3333333333333333,\"#9c179e\"],[0.4444444444444444,\"#bd3786\"],[0.5555555555555556,\"#d8576b\"],[0.6666666666666666,\"#ed7953\"],[0.7777777777777778,\"#fb9f3a\"],[0.8888888888888888,\"#fdca26\"],[1.0,\"#f0f921\"]]}],\"surface\":[{\"type\":\"surface\",\"colorbar\":{\"outlinewidth\":0,\"ticks\":\"\"},\"colorscale\":[[0.0,\"#0d0887\"],[0.1111111111111111,\"#46039f\"],[0.2222222222222222,\"#7201a8\"],[0.3333333333333333,\"#9c179e\"],[0.4444444444444444,\"#bd3786\"],[0.5555555555555556,\"#d8576b\"],[0.6666666666666666,\"#ed7953\"],[0.7777777777777778,\"#fb9f3a\"],[0.8888888888888888,\"#fdca26\"],[1.0,\"#f0f921\"]]}],\"mesh3d\":[{\"type\":\"mesh3d\",\"colorbar\":{\"outlinewidth\":0,\"ticks\":\"\"}}],\"scatter\":[{\"marker\":{\"line\":{\"color\":\"#283442\"}},\"type\":\"scatter\"}],\"parcoords\":[{\"type\":\"parcoords\",\"line\":{\"colorbar\":{\"outlinewidth\":0,\"ticks\":\"\"}}}],\"scatterpolargl\":[{\"type\":\"scatterpolargl\",\"marker\":{\"colorbar\":{\"outlinewidth\":0,\"ticks\":\"\"}}}],\"bar\":[{\"error_x\":{\"color\":\"#f2f5fa\"},\"error_y\":{\"color\":\"#f2f5fa\"},\"marker\":{\"line\":{\"color\":\"rgb(17,17,17)\",\"width\":0.5},\"pattern\":{\"fillmode\":\"overlay\",\"size\":10,\"solidity\":0.2}},\"type\":\"bar\"}],\"scattergeo\":[{\"type\":\"scattergeo\",\"marker\":{\"colorbar\":{\"outlinewidth\":0,\"ticks\":\"\"}}}],\"scatterpolar\":[{\"type\":\"scatterpolar\",\"marker\":{\"colorbar\":{\"outlinewidth\":0,\"ticks\":\"\"}}}],\"histogram\":[{\"marker\":{\"pattern\":{\"fillmode\":\"overlay\",\"size\":10,\"solidity\":0.2}},\"type\":\"histogram\"}],\"scattergl\":[{\"marker\":{\"line\":{\"color\":\"#283442\"}},\"type\":\"scattergl\"}],\"scatter3d\":[{\"type\":\"scatter3d\",\"line\":{\"colorbar\":{\"outlinewidth\":0,\"ticks\":\"\"}},\"marker\":{\"colorbar\":{\"outlinewidth\":0,\"ticks\":\"\"}}}],\"scattermapbox\":[{\"type\":\"scattermapbox\",\"marker\":{\"colorbar\":{\"outlinewidth\":0,\"ticks\":\"\"}}}],\"scatterternary\":[{\"type\":\"scatterternary\",\"marker\":{\"colorbar\":{\"outlinewidth\":0,\"ticks\":\"\"}}}],\"scattercarpet\":[{\"type\":\"scattercarpet\",\"marker\":{\"colorbar\":{\"outlinewidth\":0,\"ticks\":\"\"}}}],\"carpet\":[{\"aaxis\":{\"endlinecolor\":\"#A2B1C6\",\"gridcolor\":\"#506784\",\"linecolor\":\"#506784\",\"minorgridcolor\":\"#506784\",\"startlinecolor\":\"#A2B1C6\"},\"baxis\":{\"endlinecolor\":\"#A2B1C6\",\"gridcolor\":\"#506784\",\"linecolor\":\"#506784\",\"minorgridcolor\":\"#506784\",\"startlinecolor\":\"#A2B1C6\"},\"type\":\"carpet\"}],\"table\":[{\"cells\":{\"fill\":{\"color\":\"#506784\"},\"line\":{\"color\":\"rgb(17,17,17)\"}},\"header\":{\"fill\":{\"color\":\"#2a3f5f\"},\"line\":{\"color\":\"rgb(17,17,17)\"}},\"type\":\"table\"}],\"barpolar\":[{\"marker\":{\"line\":{\"color\":\"rgb(17,17,17)\",\"width\":0.5},\"pattern\":{\"fillmode\":\"overlay\",\"size\":10,\"solidity\":0.2}},\"type\":\"barpolar\"}],\"pie\":[{\"automargin\":true,\"type\":\"pie\"}]},\"layout\":{\"autotypenumbers\":\"strict\",\"colorway\":[\"#636efa\",\"#EF553B\",\"#00cc96\",\"#ab63fa\",\"#FFA15A\",\"#19d3f3\",\"#FF6692\",\"#B6E880\",\"#FF97FF\",\"#FECB52\"],\"font\":{\"color\":\"#f2f5fa\"},\"hovermode\":\"closest\",\"hoverlabel\":{\"align\":\"left\"},\"paper_bgcolor\":\"rgb(17,17,17)\",\"plot_bgcolor\":\"rgb(17,17,17)\",\"polar\":{\"bgcolor\":\"rgb(17,17,17)\",\"angularaxis\":{\"gridcolor\":\"#506784\",\"linecolor\":\"#506784\",\"ticks\":\"\"},\"radialaxis\":{\"gridcolor\":\"#506784\",\"linecolor\":\"#506784\",\"ticks\":\"\"}},\"ternary\":{\"bgcolor\":\"rgb(17,17,17)\",\"aaxis\":{\"gridcolor\":\"#506784\",\"linecolor\":\"#506784\",\"ticks\":\"\"},\"baxis\":{\"gridcolor\":\"#506784\",\"linecolor\":\"#506784\",\"ticks\":\"\"},\"caxis\":{\"gridcolor\":\"#506784\",\"linecolor\":\"#506784\",\"ticks\":\"\"}},\"coloraxis\":{\"colorbar\":{\"outlinewidth\":0,\"ticks\":\"\"}},\"colorscale\":{\"sequential\":[[0.0,\"#0d0887\"],[0.1111111111111111,\"#46039f\"],[0.2222222222222222,\"#7201a8\"],[0.3333333333333333,\"#9c179e\"],[0.4444444444444444,\"#bd3786\"],[0.5555555555555556,\"#d8576b\"],[0.6666666666666666,\"#ed7953\"],[0.7777777777777778,\"#fb9f3a\"],[0.8888888888888888,\"#fdca26\"],[1.0,\"#f0f921\"]],\"sequentialminus\":[[0.0,\"#0d0887\"],[0.1111111111111111,\"#46039f\"],[0.2222222222222222,\"#7201a8\"],[0.3333333333333333,\"#9c179e\"],[0.4444444444444444,\"#bd3786\"],[0.5555555555555556,\"#d8576b\"],[0.6666666666666666,\"#ed7953\"],[0.7777777777777778,\"#fb9f3a\"],[0.8888888888888888,\"#fdca26\"],[1.0,\"#f0f921\"]],\"diverging\":[[0,\"#8e0152\"],[0.1,\"#c51b7d\"],[0.2,\"#de77ae\"],[0.3,\"#f1b6da\"],[0.4,\"#fde0ef\"],[0.5,\"#f7f7f7\"],[0.6,\"#e6f5d0\"],[0.7,\"#b8e186\"],[0.8,\"#7fbc41\"],[0.9,\"#4d9221\"],[1,\"#276419\"]]},\"xaxis\":{\"gridcolor\":\"#283442\",\"linecolor\":\"#506784\",\"ticks\":\"\",\"title\":{\"standoff\":15},\"zerolinecolor\":\"#283442\",\"automargin\":true,\"zerolinewidth\":2},\"yaxis\":{\"gridcolor\":\"#283442\",\"linecolor\":\"#506784\",\"ticks\":\"\",\"title\":{\"standoff\":15},\"zerolinecolor\":\"#283442\",\"automargin\":true,\"zerolinewidth\":2},\"scene\":{\"xaxis\":{\"backgroundcolor\":\"rgb(17,17,17)\",\"gridcolor\":\"#506784\",\"linecolor\":\"#506784\",\"showbackground\":true,\"ticks\":\"\",\"zerolinecolor\":\"#C8D4E3\",\"gridwidth\":2},\"yaxis\":{\"backgroundcolor\":\"rgb(17,17,17)\",\"gridcolor\":\"#506784\",\"linecolor\":\"#506784\",\"showbackground\":true,\"ticks\":\"\",\"zerolinecolor\":\"#C8D4E3\",\"gridwidth\":2},\"zaxis\":{\"backgroundcolor\":\"rgb(17,17,17)\",\"gridcolor\":\"#506784\",\"linecolor\":\"#506784\",\"showbackground\":true,\"ticks\":\"\",\"zerolinecolor\":\"#C8D4E3\",\"gridwidth\":2}},\"shapedefaults\":{\"line\":{\"color\":\"#f2f5fa\"}},\"annotationdefaults\":{\"arrowcolor\":\"#f2f5fa\",\"arrowhead\":0,\"arrowwidth\":1},\"geo\":{\"bgcolor\":\"rgb(17,17,17)\",\"landcolor\":\"rgb(17,17,17)\",\"subunitcolor\":\"#506784\",\"showland\":true,\"showlakes\":true,\"lakecolor\":\"rgb(17,17,17)\"},\"title\":{\"x\":0.05},\"updatemenudefaults\":{\"bgcolor\":\"#506784\",\"borderwidth\":0},\"sliderdefaults\":{\"bgcolor\":\"#C8D4E3\",\"borderwidth\":1,\"bordercolor\":\"rgb(17,17,17)\",\"tickwidth\":0},\"mapbox\":{\"style\":\"dark\"}}},\"title\":{\"text\":\"Verandering in Persvrijheidsindex Rankings sinds 2019 per 2023\"},\"legend\":{\"title\":{\"text\":\"Status\"}}},                        {\"responsive\": true}                    ).then(function(){\n",
       "                            \n",
       "var gd = document.getElementById('1b2e1977-5f7a-41b2-9205-61179a1c01f1');\n",
       "var x = new MutationObserver(function (mutations, observer) {{\n",
       "        var display = window.getComputedStyle(gd).display;\n",
       "        if (!display || display === 'none') {{\n",
       "            console.log([gd, 'removed!']);\n",
       "            Plotly.purge(gd);\n",
       "            observer.disconnect();\n",
       "        }}\n",
       "}});\n",
       "\n",
       "// Listen for the removal of the full notebook cells\n",
       "var notebookContainer = gd.closest('#notebook-container');\n",
       "if (notebookContainer) {{\n",
       "    x.observe(notebookContainer, {childList: true});\n",
       "}}\n",
       "\n",
       "// Listen for the clearing of the current output cell\n",
       "var outputEl = gd.closest('.output');\n",
       "if (outputEl) {{\n",
       "    x.observe(outputEl, {childList: true});\n",
       "}}\n",
       "\n",
       "                        })                };                });            </script>        </div>"
      ]
     },
     "metadata": {},
     "output_type": "display_data"
    }
   ],
   "source": [
    "conditions = [\n",
    "    (press_19_23_df[\"change\"] > 0),\n",
    "    (press_19_23_df[\"change\"] < 0),\n",
    "    (press_19_23_df[\"change\"] == 0)\n",
    "]\n",
    "choices = ['Verbeterd', 'Verslechterd', 'Gelijk gebleven']\n",
    "press_19_23_df[\"status\"] = np.select(conditions, choices, default='Niet gedefinieerd')\n",
    "\n",
    "status_counts = press_19_23_df[\"status\"].value_counts()\n",
    "\n",
    "fig_status = go.Figure(data=[go.Pie(\n",
    "    labels=status_counts.index,\n",
    "    values=status_counts.values,\n",
    "    marker=dict(colors=['green', 'red', 'blue'])\n",
    ")])\n",
    "\n",
    "fig_status.update_layout(\n",
    "    title='Verandering in Persvrijheidsindex Rankings sinds 2019 per 2023',\n",
    "    legend_title='Status'\n",
    ")\n",
    "\n",
    "fig_status.show()"
   ]
  },
  {
   "cell_type": "markdown",
   "metadata": {},
   "source": [
    "De scatterplot illustreert verder dat landen met meer autocratische bestuursvormen, gekenmerkt door hogere scores op de Democracy Index Ranking, doorgaans lagere scores hebben op de Conflict Index Ranking. Dit betekent dat autocratische regimes vaak een grotere neiging hebben tot conflicten, mogelijk als gevolg van beperkte politieke participatie, onderdrukking van oppositie en machtsmisbruik. Deze correlatie benadrukt de uitdagingen waarmee autocratische samenlevingen worden geconfronteerd in termen van zowel interne stabiliteit als externe betrekkingen.\n"
   ]
  },
  {
   "cell_type": "markdown",
   "metadata": {},
   "source": [
    "## Andere Visualisaties"
   ]
  },
  {
   "cell_type": "markdown",
   "metadata": {},
   "source": [
    "### Visualisatie 2\n",
    "\n",
    "Creeer een line chart van de persvrijheid rankings per jaar. Gebruik ctrl+klik om meerdere landen te selecteren"
   ]
  },
  {
   "cell_type": "markdown",
   "metadata": {},
   "source": [
    "You can also plot the data using static visualizations, such as the [seaborn](https://seaborn.pydata.org/#) library."
   ]
  },
  {
   "cell_type": "code",
   "execution_count": 301,
   "metadata": {
    "ExecuteTime": {
     "end_time": "2024-06-19T14:02:46.308372Z",
     "start_time": "2024-06-19T14:02:46.247370Z"
    }
   },
   "outputs": [
    {
     "data": {
      "application/vnd.jupyter.widget-view+json": {
       "model_id": "75a4117bf8a04650ab4d3d411fdeffc5",
       "version_major": 2,
       "version_minor": 0
      },
      "text/plain": [
       "SelectMultiple(description='Country', index=(0,), options=('Norway', 'Finland', 'Sweden', 'Netherlands', 'Denm…"
      ]
     },
     "metadata": {},
     "output_type": "display_data"
    },
    {
     "data": {
      "application/vnd.jupyter.widget-view+json": {
       "model_id": "820562c8da104b0abf5d5d29db6ece8a",
       "version_major": 2,
       "version_minor": 0
      },
      "text/plain": [
       "Output()"
      ]
     },
     "metadata": {},
     "output_type": "display_data"
    }
   ],
   "source": [
    "# Persvrijheid scores -  ctrl + klik om meerdere landen te selecteren\n",
    "\n",
    "# Create a dropdown for country selection\n",
    "country_dropdown = widgets.SelectMultiple(\n",
    "    options= press_freedom_df[\"country\"].unique(),\n",
    "    value=[press_freedom_df[\"country\"].unique()[0]],\n",
    "    description='Country',\n",
    "    disabled=False\n",
    ")\n",
    "\n",
    "# Function to update the line chart based on selected countries\n",
    "def update_chart(selected_countries):\n",
    "    filtered_df = press_freedom_df[press_freedom_df[\"country\"].isin(selected_countries)]\n",
    "    fig = px.line(\n",
    "        filtered_df,\n",
    "        x=\"year\",\n",
    "        y=\"rank\",\n",
    "        color=\"country\", \n",
    "        labels={\"rank\": \"Press Freedom Rank\"},\n",
    "        title='Persvrijheid ranking per land',\n",
    "    )\n",
    "    \n",
    "    fig.update_layout(\n",
    "        xaxis_title=\"Year\",\n",
    "        yaxis_title=\"Persvrijheid rank\"\n",
    "    )\n",
    "    fig.show()\n",
    "\n",
    "# Create an interactive output\n",
    "output = widgets.interactive_output(update_chart, {'selected_countries': country_dropdown})\n",
    "\n",
    "# Display the dropdown and the output\n",
    "display(country_dropdown, output)\n"
   ]
  },
  {
   "cell_type": "markdown",
   "metadata": {},
   "source": [
    "### Visualisatie 3\n",
    "\n",
    "Creeer een line chart van de democratie rankings per jaar. Gebruik ctrl+klik om meerdere landen te selecteren."
   ]
  },
  {
   "cell_type": "code",
   "execution_count": 308,
   "metadata": {
    "ExecuteTime": {
     "end_time": "2024-06-19T14:07:31.402450Z",
     "start_time": "2024-06-19T14:07:31.354948Z"
    }
   },
   "outputs": [
    {
     "data": {
      "application/vnd.jupyter.widget-view+json": {
       "model_id": "0f0a7743d8fe41558a855b5083af5f5e",
       "version_major": 2,
       "version_minor": 0
      },
      "text/plain": [
       "SelectMultiple(description='Country', index=(0,), options=('Norway', 'New Zealand', 'Iceland', 'Sweden', 'Finl…"
      ]
     },
     "metadata": {},
     "output_type": "display_data"
    },
    {
     "data": {
      "application/vnd.jupyter.widget-view+json": {
       "model_id": "deb5ae728f244920aaf6d78964778d5d",
       "version_major": 2,
       "version_minor": 0
      },
      "text/plain": [
       "Output()"
      ]
     },
     "metadata": {},
     "output_type": "display_data"
    }
   ],
   "source": [
    "# democratie scores - ctrl + klik om meerdere landen te selecteren\n",
    "\n",
    "# Create a dropdown for country selection\n",
    "country_dropdown = widgets.SelectMultiple(\n",
    "    options= democracy_df[\"country\"].unique(),\n",
    "    value=[democracy_df[\"country\"].unique()[0]],\n",
    "    description='Country',\n",
    "    disabled=False\n",
    ")\n",
    "\n",
    "# Function to update the line chart based on selected countries\n",
    "def update_chart(selected_countries):\n",
    "    filtered_df = democracy_df[democracy_df[\"country\"].isin(selected_countries)]\n",
    "    \n",
    "    fig = px.line(\n",
    "        filtered_df,\n",
    "        x='year',\n",
    "        y='ranking',\n",
    "        color='country', \n",
    "        labels={'score': 'Democracy Score'},\n",
    "        title='Democratie ranking per land',\n",
    "    )\n",
    "\n",
    "    fig.update_layout(\n",
    "        xaxis_title=\"Year\",\n",
    "        yaxis_title=\"Democratie rank\"\n",
    "    )\n",
    "\n",
    "    fig.show()\n",
    "\n",
    "# Create an interactive output\n",
    "output = widgets.interactive_output(update_chart, {'selected_countries': country_dropdown})\n",
    "\n",
    "# Display the dropdown and the output\n",
    "display(country_dropdown, output)"
   ]
  },
  {
   "cell_type": "markdown",
   "metadata": {},
   "source": [
    "### Visualisatie 4"
   ]
  },
  {
   "cell_type": "code",
   "execution_count": 289,
   "metadata": {
    "ExecuteTime": {
     "end_time": "2024-06-19T13:02:08.260607Z",
     "start_time": "2024-06-19T13:02:08.202605Z"
    }
   },
   "outputs": [
    {
     "data": {
      "application/vnd.plotly.v1+json": {
       "config": {
        "plotlyServerURL": "https://plot.ly"
       },
       "data": [
        {
         "customdata": [
          [
           "Norway"
          ],
          [
           "New Zealand"
          ],
          [
           "Iceland"
          ],
          [
           "Sweden"
          ],
          [
           "Finland"
          ],
          [
           "Denmark"
          ],
          [
           "Ireland"
          ],
          [
           "Switzerland"
          ],
          [
           "Netherlands"
          ],
          [
           "Taiwan"
          ],
          [
           "Luxembourg"
          ],
          [
           "Germany"
          ],
          [
           "Canada"
          ],
          [
           "Australia"
          ],
          [
           "Uruguay"
          ],
          [
           "Japan"
          ],
          [
           "Costa Rica"
          ],
          [
           "Austria"
          ],
          [
           "United Kingdom"
          ],
          [
           "Greece"
          ],
          [
           "Mauritius"
          ],
          [
           "South Korea"
          ],
          [
           "France"
          ],
          [
           "Spain"
          ],
          [
           "Chile"
          ],
          [
           "Estonia"
          ],
          [
           "Malta"
          ],
          [
           "United States"
          ],
          [
           "Israel"
          ],
          [
           "Portugal"
          ],
          [
           "Slovenia"
          ],
          [
           "Botswana"
          ],
          [
           "Italy"
          ],
          [
           "Cape Verde"
          ],
          [
           "Belgium"
          ],
          [
           "Cyprus"
          ],
          [
           "Latvia"
          ],
          [
           "Lithuania"
          ],
          [
           "Malaysia"
          ],
          [
           "India"
          ],
          [
           "Poland"
          ],
          [
           "Trinidad and Tobago"
          ],
          [
           "Slovakia"
          ],
          [
           "East Timor"
          ],
          [
           "Jamaica"
          ],
          [
           "South Africa"
          ],
          [
           "Panama"
          ],
          [
           "Suriname"
          ],
          [
           "Hungary"
          ],
          [
           "Brazil"
          ],
          [
           "Montenegro"
          ],
          [
           "Philippines"
          ],
          [
           "Argentina"
          ],
          [
           "Colombia"
          ],
          [
           "Indonesia"
          ],
          [
           "Namibia"
          ],
          [
           "Croatia"
          ],
          [
           "Mongolia"
          ],
          [
           "Romania"
          ],
          [
           "Dominican Republic"
          ],
          [
           "Bulgaria"
          ],
          [
           "Thailand"
          ],
          [
           "Serbia"
          ],
          [
           "Ghana"
          ],
          [
           "Albania"
          ],
          [
           "Guyana"
          ],
          [
           "Moldova"
          ],
          [
           "Singapore"
          ],
          [
           "Sri Lanka"
          ],
          [
           "Lesotho"
          ],
          [
           "North Macedonia"
          ],
          [
           "Papua New Guinea"
          ],
          [
           "Paraguay"
          ],
          [
           "Bangladesh"
          ],
          [
           "Malawi"
          ],
          [
           "Peru"
          ],
          [
           "Zambia"
          ],
          [
           "Liberia"
          ],
          [
           "Fiji"
          ],
          [
           "Bhutan"
          ],
          [
           "Tunisia"
          ],
          [
           "Senegal"
          ],
          [
           "Armenia"
          ],
          [
           "Ecuador"
          ],
          [
           "Tanzania"
          ],
          [
           "Madagascar"
          ],
          [
           "Georgia"
          ],
          [
           "Mexico"
          ],
          [
           "Ukraine"
          ],
          [
           "Kenya"
          ],
          [
           "Morocco"
          ],
          [
           "Bosnia and Herzegovina"
          ],
          [
           "Honduras"
          ],
          [
           "El Salvador"
          ],
          [
           "Benin"
          ],
          [
           "Nepal"
          ],
          [
           "Uganda"
          ],
          [
           "Gambia"
          ],
          [
           "Guatemala"
          ],
          [
           "Turkey"
          ],
          [
           "Sierra Leone"
          ],
          [
           "Nigeria"
          ],
          [
           "Bolivia"
          ],
          [
           "Angola"
          ],
          [
           "Mauritania"
          ],
          [
           "Kyrgyzstan"
          ],
          [
           "Algeria"
          ],
          [
           "Qatar"
          ],
          [
           "Lebanon"
          ],
          [
           "Mozambique"
          ],
          [
           "Kuwait"
          ],
          [
           "Palestine"
          ],
          [
           "Ethiopia"
          ],
          [
           "Rwanda"
          ],
          [
           "Pakistan"
          ],
          [
           "Oman"
          ],
          [
           "Kazakhstan"
          ],
          [
           "Cambodia"
          ],
          [
           "Comoros"
          ],
          [
           "Jordan"
          ],
          [
           "Zimbabwe"
          ],
          [
           "United Arab Emirates"
          ],
          [
           "Togo"
          ],
          [
           "Egypt"
          ],
          [
           "Iraq"
          ],
          [
           "Haiti"
          ],
          [
           "Azerbaijan"
          ],
          [
           "Burkina Faso"
          ],
          [
           "Djibouti"
          ],
          [
           "Cuba"
          ],
          [
           "Vietnam"
          ],
          [
           "Mali"
          ],
          [
           "Cameroon"
          ],
          [
           "Bahrain"
          ],
          [
           "Guinea-Bissau"
          ],
          [
           "Niger"
          ],
          [
           "Venezuela"
          ],
          [
           "Nicaragua"
          ],
          [
           "Russia"
          ],
          [
           "Guinea"
          ],
          [
           "Gabon"
          ],
          [
           "Burundi"
          ],
          [
           "China"
          ]
         ],
         "hovertemplate": "democracy_ranking=%{x}<br>conflict_ranking=%{y}<br>country=%{customdata[0]}<extra></extra>",
         "legendgroup": "",
         "marker": {
          "color": "#636efa",
          "symbol": "circle"
         },
         "mode": "markers",
         "name": "",
         "orientation": "v",
         "showlegend": false,
         "type": "scatter",
         "x": [
          1,
          2,
          3,
          4,
          5,
          6,
          7,
          8,
          9,
          10,
          11,
          12,
          13,
          14,
          14,
          15,
          16,
          17,
          17,
          18,
          18,
          19,
          20,
          20,
          21,
          23,
          24,
          25,
          26,
          27,
          27,
          28,
          29,
          30,
          31,
          34,
          34,
          35,
          36,
          37,
          37,
          38,
          39,
          40,
          40,
          41,
          42,
          43,
          44,
          45,
          46,
          47,
          48,
          49,
          50,
          51,
          52,
          53,
          54,
          55,
          56,
          57,
          58,
          59,
          60,
          61,
          62,
          63,
          64,
          66,
          67,
          67,
          68,
          69,
          70,
          71,
          72,
          75,
          76,
          77,
          78,
          79,
          80,
          81,
          82,
          83,
          85,
          86,
          87,
          88,
          89,
          90,
          91,
          93,
          94,
          95,
          96,
          97,
          97,
          99,
          100,
          101,
          103,
          104,
          105,
          106,
          107,
          108,
          109,
          110,
          111,
          112,
          113,
          114,
          115,
          116,
          117,
          118,
          119,
          119,
          119,
          120,
          121,
          122,
          123,
          124,
          125,
          128,
          129,
          130,
          131,
          132,
          133,
          134,
          135,
          136,
          137,
          138,
          139,
          140,
          141,
          142,
          143
         ],
         "xaxis": "x",
         "y": [
          146,
          163,
          146,
          140,
          146,
          163,
          140,
          163,
          125,
          163,
          163,
          79,
          117,
          163,
          135,
          146,
          120,
          132,
          113,
          59,
          115,
          163,
          61,
          117,
          57,
          163,
          143,
          51,
          22,
          163,
          143,
          106,
          96,
          146,
          104,
          86,
          163,
          146,
          146,
          15,
          102,
          30,
          146,
          146,
          21,
          33,
          96,
          122,
          100,
          6,
          135,
          27,
          74,
          7,
          44,
          126,
          163,
          163,
          112,
          84,
          163,
          75,
          120,
          53,
          117,
          108,
          94,
          163,
          76,
          107,
          131,
          50,
          70,
          17,
          62,
          53,
          73,
          78,
          163,
          163,
          101,
          69,
          79,
          40,
          68,
          38,
          103,
          4,
          13,
          19,
          63,
          124,
          20,
          58,
          43,
          56,
          42,
          116,
          24,
          41,
          70,
          5,
          72,
          64,
          83,
          90,
          81,
          163,
          31,
          45,
          163,
          3,
          22,
          95,
          14,
          146,
          84,
          146,
          109,
          122,
          48,
          163,
          77,
          82,
          12,
          8,
          55,
          17,
          127,
          87,
          111,
          15,
          25,
          132,
          88,
          34,
          27,
          89,
          36,
          65,
          105,
          32,
          66
         ],
         "yaxis": "y"
        },
        {
         "hovertemplate": "<b>OLS trendline</b><br>conflict_ranking = -0.504108 * democracy_ranking + 124.899<br>R<sup>2</sup>=0.181969<br><br>democracy_ranking=%{x}<br>conflict_ranking=%{y} <b>(trend)</b><extra></extra>",
         "legendgroup": "",
         "line": {
          "color": "black"
         },
         "marker": {
          "color": "#636efa",
          "symbol": "circle"
         },
         "mode": "lines",
         "name": "",
         "showlegend": false,
         "type": "scatter",
         "x": [
          1,
          2,
          3,
          4,
          5,
          6,
          7,
          8,
          9,
          10,
          11,
          12,
          13,
          14,
          14,
          15,
          16,
          17,
          17,
          18,
          18,
          19,
          20,
          20,
          21,
          23,
          24,
          25,
          26,
          27,
          27,
          28,
          29,
          30,
          31,
          34,
          34,
          35,
          36,
          37,
          37,
          38,
          39,
          40,
          40,
          41,
          42,
          43,
          44,
          45,
          46,
          47,
          48,
          49,
          50,
          51,
          52,
          53,
          54,
          55,
          56,
          57,
          58,
          59,
          60,
          61,
          62,
          63,
          64,
          66,
          67,
          67,
          68,
          69,
          70,
          71,
          72,
          75,
          76,
          77,
          78,
          79,
          80,
          81,
          82,
          83,
          85,
          86,
          87,
          88,
          89,
          90,
          91,
          93,
          94,
          95,
          96,
          97,
          97,
          99,
          100,
          101,
          103,
          104,
          105,
          106,
          107,
          108,
          109,
          110,
          111,
          112,
          113,
          114,
          115,
          116,
          117,
          118,
          119,
          119,
          119,
          120,
          121,
          122,
          123,
          124,
          125,
          128,
          129,
          130,
          131,
          132,
          133,
          134,
          135,
          136,
          137,
          138,
          139,
          140,
          141,
          142,
          143
         ],
         "xaxis": "x",
         "y": [
          124.39439540281778,
          123.8902873549631,
          123.38617930710842,
          122.88207125925373,
          122.37796321139905,
          121.87385516354438,
          121.36974711568969,
          120.865639067835,
          120.36153101998032,
          119.85742297212565,
          119.35331492427096,
          118.84920687641628,
          118.34509882856159,
          117.84099078070692,
          117.84099078070692,
          117.33688273285223,
          116.83277468499755,
          116.32866663714286,
          116.32866663714286,
          115.82455858928819,
          115.82455858928819,
          115.3204505414335,
          114.81634249357882,
          114.81634249357882,
          114.31223444572413,
          113.30401835001477,
          112.79991030216009,
          112.29580225430541,
          111.79169420645073,
          111.28758615859604,
          111.28758615859604,
          110.78347811074136,
          110.27937006288667,
          109.775262015032,
          109.27115396717731,
          107.75882982361327,
          107.75882982361327,
          107.25472177575858,
          106.7506137279039,
          106.24650568004921,
          106.24650568004921,
          105.74239763219454,
          105.23828958433985,
          104.73418153648517,
          104.73418153648517,
          104.2300734886305,
          103.72596544077581,
          103.22185739292112,
          102.71774934506644,
          102.21364129721175,
          101.70953324935708,
          101.2054252015024,
          100.70131715364772,
          100.19720910579304,
          99.69310105793835,
          99.18899301008366,
          98.68488496222898,
          98.1807769143743,
          97.67666886651962,
          97.17256081866493,
          96.66845277081026,
          96.16434472295558,
          95.66023667510089,
          95.1561286272462,
          94.65202057939152,
          94.14791253153685,
          93.64380448368216,
          93.13969643582747,
          92.6355883879728,
          91.62737229226343,
          91.12326424440874,
          91.12326424440874,
          90.61915619655406,
          90.11504814869939,
          89.6109401008447,
          89.10683205299003,
          88.60272400513534,
          87.09039986157129,
          86.5862918137166,
          86.08218376586193,
          85.57807571800724,
          85.07396767015257,
          84.56985962229788,
          84.0657515744432,
          83.56164352658851,
          83.05753547873383,
          82.04931938302447,
          81.54521133516978,
          81.04110328731511,
          80.53699523946042,
          80.03288719160574,
          79.52877914375105,
          79.02467109589637,
          78.01645500018701,
          77.51234695233232,
          77.00823890447765,
          76.50413085662296,
          76.00002280876828,
          76.00002280876828,
          74.9918067130589,
          74.48769866520423,
          73.98359061734955,
          72.97537452164019,
          72.4712664737855,
          71.96715842593082,
          71.46305037807613,
          70.95894233022145,
          70.45483428236678,
          69.95072623451209,
          69.44661818665742,
          68.94251013880273,
          68.43840209094805,
          67.93429404309336,
          67.43018599523867,
          66.92607794738399,
          66.42196989952932,
          65.91786185167463,
          65.41375380381996,
          64.90964575596527,
          64.90964575596527,
          64.90964575596527,
          64.40553770811059,
          63.9014296602559,
          63.39732161240122,
          62.893213564546535,
          62.389105516691856,
          61.88499746883717,
          60.37267332527313,
          59.86856527741844,
          59.36445722956377,
          58.86034918170908,
          58.3562411338544,
          57.85213308599971,
          57.34802503814504,
          56.84391699029035,
          56.33980894243567,
          55.83570089458098,
          55.33159284672631,
          54.82748479887162,
          54.32337675101694,
          53.81926870316225,
          53.31516065530758,
          52.81105260745289
         ],
         "yaxis": "y"
        }
       ],
       "layout": {
        "legend": {
         "tracegroupgap": 0
        },
        "template": {
         "data": {
          "bar": [
           {
            "error_x": {
             "color": "#f2f5fa"
            },
            "error_y": {
             "color": "#f2f5fa"
            },
            "marker": {
             "line": {
              "color": "rgb(17,17,17)",
              "width": 0.5
             },
             "pattern": {
              "fillmode": "overlay",
              "size": 10,
              "solidity": 0.2
             }
            },
            "type": "bar"
           }
          ],
          "barpolar": [
           {
            "marker": {
             "line": {
              "color": "rgb(17,17,17)",
              "width": 0.5
             },
             "pattern": {
              "fillmode": "overlay",
              "size": 10,
              "solidity": 0.2
             }
            },
            "type": "barpolar"
           }
          ],
          "carpet": [
           {
            "aaxis": {
             "endlinecolor": "#A2B1C6",
             "gridcolor": "#506784",
             "linecolor": "#506784",
             "minorgridcolor": "#506784",
             "startlinecolor": "#A2B1C6"
            },
            "baxis": {
             "endlinecolor": "#A2B1C6",
             "gridcolor": "#506784",
             "linecolor": "#506784",
             "minorgridcolor": "#506784",
             "startlinecolor": "#A2B1C6"
            },
            "type": "carpet"
           }
          ],
          "choropleth": [
           {
            "colorbar": {
             "outlinewidth": 0,
             "ticks": ""
            },
            "type": "choropleth"
           }
          ],
          "contour": [
           {
            "colorbar": {
             "outlinewidth": 0,
             "ticks": ""
            },
            "colorscale": [
             [
              0,
              "#0d0887"
             ],
             [
              0.1111111111111111,
              "#46039f"
             ],
             [
              0.2222222222222222,
              "#7201a8"
             ],
             [
              0.3333333333333333,
              "#9c179e"
             ],
             [
              0.4444444444444444,
              "#bd3786"
             ],
             [
              0.5555555555555556,
              "#d8576b"
             ],
             [
              0.6666666666666666,
              "#ed7953"
             ],
             [
              0.7777777777777778,
              "#fb9f3a"
             ],
             [
              0.8888888888888888,
              "#fdca26"
             ],
             [
              1,
              "#f0f921"
             ]
            ],
            "type": "contour"
           }
          ],
          "contourcarpet": [
           {
            "colorbar": {
             "outlinewidth": 0,
             "ticks": ""
            },
            "type": "contourcarpet"
           }
          ],
          "heatmap": [
           {
            "colorbar": {
             "outlinewidth": 0,
             "ticks": ""
            },
            "colorscale": [
             [
              0,
              "#0d0887"
             ],
             [
              0.1111111111111111,
              "#46039f"
             ],
             [
              0.2222222222222222,
              "#7201a8"
             ],
             [
              0.3333333333333333,
              "#9c179e"
             ],
             [
              0.4444444444444444,
              "#bd3786"
             ],
             [
              0.5555555555555556,
              "#d8576b"
             ],
             [
              0.6666666666666666,
              "#ed7953"
             ],
             [
              0.7777777777777778,
              "#fb9f3a"
             ],
             [
              0.8888888888888888,
              "#fdca26"
             ],
             [
              1,
              "#f0f921"
             ]
            ],
            "type": "heatmap"
           }
          ],
          "heatmapgl": [
           {
            "colorbar": {
             "outlinewidth": 0,
             "ticks": ""
            },
            "colorscale": [
             [
              0,
              "#0d0887"
             ],
             [
              0.1111111111111111,
              "#46039f"
             ],
             [
              0.2222222222222222,
              "#7201a8"
             ],
             [
              0.3333333333333333,
              "#9c179e"
             ],
             [
              0.4444444444444444,
              "#bd3786"
             ],
             [
              0.5555555555555556,
              "#d8576b"
             ],
             [
              0.6666666666666666,
              "#ed7953"
             ],
             [
              0.7777777777777778,
              "#fb9f3a"
             ],
             [
              0.8888888888888888,
              "#fdca26"
             ],
             [
              1,
              "#f0f921"
             ]
            ],
            "type": "heatmapgl"
           }
          ],
          "histogram": [
           {
            "marker": {
             "pattern": {
              "fillmode": "overlay",
              "size": 10,
              "solidity": 0.2
             }
            },
            "type": "histogram"
           }
          ],
          "histogram2d": [
           {
            "colorbar": {
             "outlinewidth": 0,
             "ticks": ""
            },
            "colorscale": [
             [
              0,
              "#0d0887"
             ],
             [
              0.1111111111111111,
              "#46039f"
             ],
             [
              0.2222222222222222,
              "#7201a8"
             ],
             [
              0.3333333333333333,
              "#9c179e"
             ],
             [
              0.4444444444444444,
              "#bd3786"
             ],
             [
              0.5555555555555556,
              "#d8576b"
             ],
             [
              0.6666666666666666,
              "#ed7953"
             ],
             [
              0.7777777777777778,
              "#fb9f3a"
             ],
             [
              0.8888888888888888,
              "#fdca26"
             ],
             [
              1,
              "#f0f921"
             ]
            ],
            "type": "histogram2d"
           }
          ],
          "histogram2dcontour": [
           {
            "colorbar": {
             "outlinewidth": 0,
             "ticks": ""
            },
            "colorscale": [
             [
              0,
              "#0d0887"
             ],
             [
              0.1111111111111111,
              "#46039f"
             ],
             [
              0.2222222222222222,
              "#7201a8"
             ],
             [
              0.3333333333333333,
              "#9c179e"
             ],
             [
              0.4444444444444444,
              "#bd3786"
             ],
             [
              0.5555555555555556,
              "#d8576b"
             ],
             [
              0.6666666666666666,
              "#ed7953"
             ],
             [
              0.7777777777777778,
              "#fb9f3a"
             ],
             [
              0.8888888888888888,
              "#fdca26"
             ],
             [
              1,
              "#f0f921"
             ]
            ],
            "type": "histogram2dcontour"
           }
          ],
          "mesh3d": [
           {
            "colorbar": {
             "outlinewidth": 0,
             "ticks": ""
            },
            "type": "mesh3d"
           }
          ],
          "parcoords": [
           {
            "line": {
             "colorbar": {
              "outlinewidth": 0,
              "ticks": ""
             }
            },
            "type": "parcoords"
           }
          ],
          "pie": [
           {
            "automargin": true,
            "type": "pie"
           }
          ],
          "scatter": [
           {
            "marker": {
             "line": {
              "color": "#283442"
             }
            },
            "type": "scatter"
           }
          ],
          "scatter3d": [
           {
            "line": {
             "colorbar": {
              "outlinewidth": 0,
              "ticks": ""
             }
            },
            "marker": {
             "colorbar": {
              "outlinewidth": 0,
              "ticks": ""
             }
            },
            "type": "scatter3d"
           }
          ],
          "scattercarpet": [
           {
            "marker": {
             "colorbar": {
              "outlinewidth": 0,
              "ticks": ""
             }
            },
            "type": "scattercarpet"
           }
          ],
          "scattergeo": [
           {
            "marker": {
             "colorbar": {
              "outlinewidth": 0,
              "ticks": ""
             }
            },
            "type": "scattergeo"
           }
          ],
          "scattergl": [
           {
            "marker": {
             "line": {
              "color": "#283442"
             }
            },
            "type": "scattergl"
           }
          ],
          "scattermapbox": [
           {
            "marker": {
             "colorbar": {
              "outlinewidth": 0,
              "ticks": ""
             }
            },
            "type": "scattermapbox"
           }
          ],
          "scatterpolar": [
           {
            "marker": {
             "colorbar": {
              "outlinewidth": 0,
              "ticks": ""
             }
            },
            "type": "scatterpolar"
           }
          ],
          "scatterpolargl": [
           {
            "marker": {
             "colorbar": {
              "outlinewidth": 0,
              "ticks": ""
             }
            },
            "type": "scatterpolargl"
           }
          ],
          "scatterternary": [
           {
            "marker": {
             "colorbar": {
              "outlinewidth": 0,
              "ticks": ""
             }
            },
            "type": "scatterternary"
           }
          ],
          "surface": [
           {
            "colorbar": {
             "outlinewidth": 0,
             "ticks": ""
            },
            "colorscale": [
             [
              0,
              "#0d0887"
             ],
             [
              0.1111111111111111,
              "#46039f"
             ],
             [
              0.2222222222222222,
              "#7201a8"
             ],
             [
              0.3333333333333333,
              "#9c179e"
             ],
             [
              0.4444444444444444,
              "#bd3786"
             ],
             [
              0.5555555555555556,
              "#d8576b"
             ],
             [
              0.6666666666666666,
              "#ed7953"
             ],
             [
              0.7777777777777778,
              "#fb9f3a"
             ],
             [
              0.8888888888888888,
              "#fdca26"
             ],
             [
              1,
              "#f0f921"
             ]
            ],
            "type": "surface"
           }
          ],
          "table": [
           {
            "cells": {
             "fill": {
              "color": "#506784"
             },
             "line": {
              "color": "rgb(17,17,17)"
             }
            },
            "header": {
             "fill": {
              "color": "#2a3f5f"
             },
             "line": {
              "color": "rgb(17,17,17)"
             }
            },
            "type": "table"
           }
          ]
         },
         "layout": {
          "annotationdefaults": {
           "arrowcolor": "#f2f5fa",
           "arrowhead": 0,
           "arrowwidth": 1
          },
          "autotypenumbers": "strict",
          "coloraxis": {
           "colorbar": {
            "outlinewidth": 0,
            "ticks": ""
           }
          },
          "colorscale": {
           "diverging": [
            [
             0,
             "#8e0152"
            ],
            [
             0.1,
             "#c51b7d"
            ],
            [
             0.2,
             "#de77ae"
            ],
            [
             0.3,
             "#f1b6da"
            ],
            [
             0.4,
             "#fde0ef"
            ],
            [
             0.5,
             "#f7f7f7"
            ],
            [
             0.6,
             "#e6f5d0"
            ],
            [
             0.7,
             "#b8e186"
            ],
            [
             0.8,
             "#7fbc41"
            ],
            [
             0.9,
             "#4d9221"
            ],
            [
             1,
             "#276419"
            ]
           ],
           "sequential": [
            [
             0,
             "#0d0887"
            ],
            [
             0.1111111111111111,
             "#46039f"
            ],
            [
             0.2222222222222222,
             "#7201a8"
            ],
            [
             0.3333333333333333,
             "#9c179e"
            ],
            [
             0.4444444444444444,
             "#bd3786"
            ],
            [
             0.5555555555555556,
             "#d8576b"
            ],
            [
             0.6666666666666666,
             "#ed7953"
            ],
            [
             0.7777777777777778,
             "#fb9f3a"
            ],
            [
             0.8888888888888888,
             "#fdca26"
            ],
            [
             1,
             "#f0f921"
            ]
           ],
           "sequentialminus": [
            [
             0,
             "#0d0887"
            ],
            [
             0.1111111111111111,
             "#46039f"
            ],
            [
             0.2222222222222222,
             "#7201a8"
            ],
            [
             0.3333333333333333,
             "#9c179e"
            ],
            [
             0.4444444444444444,
             "#bd3786"
            ],
            [
             0.5555555555555556,
             "#d8576b"
            ],
            [
             0.6666666666666666,
             "#ed7953"
            ],
            [
             0.7777777777777778,
             "#fb9f3a"
            ],
            [
             0.8888888888888888,
             "#fdca26"
            ],
            [
             1,
             "#f0f921"
            ]
           ]
          },
          "colorway": [
           "#636efa",
           "#EF553B",
           "#00cc96",
           "#ab63fa",
           "#FFA15A",
           "#19d3f3",
           "#FF6692",
           "#B6E880",
           "#FF97FF",
           "#FECB52"
          ],
          "font": {
           "color": "#f2f5fa"
          },
          "geo": {
           "bgcolor": "rgb(17,17,17)",
           "lakecolor": "rgb(17,17,17)",
           "landcolor": "rgb(17,17,17)",
           "showlakes": true,
           "showland": true,
           "subunitcolor": "#506784"
          },
          "hoverlabel": {
           "align": "left"
          },
          "hovermode": "closest",
          "mapbox": {
           "style": "dark"
          },
          "paper_bgcolor": "rgb(17,17,17)",
          "plot_bgcolor": "rgb(17,17,17)",
          "polar": {
           "angularaxis": {
            "gridcolor": "#506784",
            "linecolor": "#506784",
            "ticks": ""
           },
           "bgcolor": "rgb(17,17,17)",
           "radialaxis": {
            "gridcolor": "#506784",
            "linecolor": "#506784",
            "ticks": ""
           }
          },
          "scene": {
           "xaxis": {
            "backgroundcolor": "rgb(17,17,17)",
            "gridcolor": "#506784",
            "gridwidth": 2,
            "linecolor": "#506784",
            "showbackground": true,
            "ticks": "",
            "zerolinecolor": "#C8D4E3"
           },
           "yaxis": {
            "backgroundcolor": "rgb(17,17,17)",
            "gridcolor": "#506784",
            "gridwidth": 2,
            "linecolor": "#506784",
            "showbackground": true,
            "ticks": "",
            "zerolinecolor": "#C8D4E3"
           },
           "zaxis": {
            "backgroundcolor": "rgb(17,17,17)",
            "gridcolor": "#506784",
            "gridwidth": 2,
            "linecolor": "#506784",
            "showbackground": true,
            "ticks": "",
            "zerolinecolor": "#C8D4E3"
           }
          },
          "shapedefaults": {
           "line": {
            "color": "#f2f5fa"
           }
          },
          "sliderdefaults": {
           "bgcolor": "#C8D4E3",
           "bordercolor": "rgb(17,17,17)",
           "borderwidth": 1,
           "tickwidth": 0
          },
          "ternary": {
           "aaxis": {
            "gridcolor": "#506784",
            "linecolor": "#506784",
            "ticks": ""
           },
           "baxis": {
            "gridcolor": "#506784",
            "linecolor": "#506784",
            "ticks": ""
           },
           "bgcolor": "rgb(17,17,17)",
           "caxis": {
            "gridcolor": "#506784",
            "linecolor": "#506784",
            "ticks": ""
           }
          },
          "title": {
           "x": 0.05
          },
          "updatemenudefaults": {
           "bgcolor": "#506784",
           "borderwidth": 0
          },
          "xaxis": {
           "automargin": true,
           "gridcolor": "#283442",
           "linecolor": "#506784",
           "ticks": "",
           "title": {
            "standoff": 15
           },
           "zerolinecolor": "#283442",
           "zerolinewidth": 2
          },
          "yaxis": {
           "automargin": true,
           "gridcolor": "#283442",
           "linecolor": "#506784",
           "ticks": "",
           "title": {
            "standoff": 15
           },
           "zerolinecolor": "#283442",
           "zerolinewidth": 2
          }
         }
        },
        "title": {
         "text": "Democracy index ranking vs Conflict index ranking 2023"
        },
        "xaxis": {
         "anchor": "y",
         "domain": [
          0,
          1
         ],
         "title": {
          "text": "Democracy index ranking 2023"
         }
        },
        "yaxis": {
         "anchor": "x",
         "domain": [
          0,
          1
         ],
         "title": {
          "text": "Conflict index ranking 2023"
         }
        }
       }
      },
      "text/html": [
       "<div>                            <div id=\"53d79091-5c39-4574-8f89-e6e7db32c631\" class=\"plotly-graph-div\" style=\"height:525px; width:100%;\"></div>            <script type=\"text/javascript\">                require([\"plotly\"], function(Plotly) {                    window.PLOTLYENV=window.PLOTLYENV || {};                                    if (document.getElementById(\"53d79091-5c39-4574-8f89-e6e7db32c631\")) {                    Plotly.newPlot(                        \"53d79091-5c39-4574-8f89-e6e7db32c631\",                        [{\"customdata\":[[\"Norway\"],[\"New Zealand\"],[\"Iceland\"],[\"Sweden\"],[\"Finland\"],[\"Denmark\"],[\"Ireland\"],[\"Switzerland\"],[\"Netherlands\"],[\"Taiwan\"],[\"Luxembourg\"],[\"Germany\"],[\"Canada\"],[\"Australia\"],[\"Uruguay\"],[\"Japan\"],[\"Costa Rica\"],[\"Austria\"],[\"United Kingdom\"],[\"Greece\"],[\"Mauritius\"],[\"South Korea\"],[\"France\"],[\"Spain\"],[\"Chile\"],[\"Estonia\"],[\"Malta\"],[\"United States\"],[\"Israel\"],[\"Portugal\"],[\"Slovenia\"],[\"Botswana\"],[\"Italy\"],[\"Cape Verde\"],[\"Belgium\"],[\"Cyprus\"],[\"Latvia\"],[\"Lithuania\"],[\"Malaysia\"],[\"India\"],[\"Poland\"],[\"Trinidad and Tobago\"],[\"Slovakia\"],[\"East Timor\"],[\"Jamaica\"],[\"South Africa\"],[\"Panama\"],[\"Suriname\"],[\"Hungary\"],[\"Brazil\"],[\"Montenegro\"],[\"Philippines\"],[\"Argentina\"],[\"Colombia\"],[\"Indonesia\"],[\"Namibia\"],[\"Croatia\"],[\"Mongolia\"],[\"Romania\"],[\"Dominican Republic\"],[\"Bulgaria\"],[\"Thailand\"],[\"Serbia\"],[\"Ghana\"],[\"Albania\"],[\"Guyana\"],[\"Moldova\"],[\"Singapore\"],[\"Sri Lanka\"],[\"Lesotho\"],[\"North Macedonia\"],[\"Papua New Guinea\"],[\"Paraguay\"],[\"Bangladesh\"],[\"Malawi\"],[\"Peru\"],[\"Zambia\"],[\"Liberia\"],[\"Fiji\"],[\"Bhutan\"],[\"Tunisia\"],[\"Senegal\"],[\"Armenia\"],[\"Ecuador\"],[\"Tanzania\"],[\"Madagascar\"],[\"Georgia\"],[\"Mexico\"],[\"Ukraine\"],[\"Kenya\"],[\"Morocco\"],[\"Bosnia and Herzegovina\"],[\"Honduras\"],[\"El Salvador\"],[\"Benin\"],[\"Nepal\"],[\"Uganda\"],[\"Gambia\"],[\"Guatemala\"],[\"Turkey\"],[\"Sierra Leone\"],[\"Nigeria\"],[\"Bolivia\"],[\"Angola\"],[\"Mauritania\"],[\"Kyrgyzstan\"],[\"Algeria\"],[\"Qatar\"],[\"Lebanon\"],[\"Mozambique\"],[\"Kuwait\"],[\"Palestine\"],[\"Ethiopia\"],[\"Rwanda\"],[\"Pakistan\"],[\"Oman\"],[\"Kazakhstan\"],[\"Cambodia\"],[\"Comoros\"],[\"Jordan\"],[\"Zimbabwe\"],[\"United Arab Emirates\"],[\"Togo\"],[\"Egypt\"],[\"Iraq\"],[\"Haiti\"],[\"Azerbaijan\"],[\"Burkina Faso\"],[\"Djibouti\"],[\"Cuba\"],[\"Vietnam\"],[\"Mali\"],[\"Cameroon\"],[\"Bahrain\"],[\"Guinea-Bissau\"],[\"Niger\"],[\"Venezuela\"],[\"Nicaragua\"],[\"Russia\"],[\"Guinea\"],[\"Gabon\"],[\"Burundi\"],[\"China\"]],\"hovertemplate\":\"democracy_ranking=%{x}\\u003cbr\\u003econflict_ranking=%{y}\\u003cbr\\u003ecountry=%{customdata[0]}\\u003cextra\\u003e\\u003c\\u002fextra\\u003e\",\"legendgroup\":\"\",\"marker\":{\"color\":\"#636efa\",\"symbol\":\"circle\"},\"mode\":\"markers\",\"name\":\"\",\"orientation\":\"v\",\"showlegend\":false,\"x\":[1,2,3,4,5,6,7,8,9,10,11,12,13,14,14,15,16,17,17,18,18,19,20,20,21,23,24,25,26,27,27,28,29,30,31,34,34,35,36,37,37,38,39,40,40,41,42,43,44,45,46,47,48,49,50,51,52,53,54,55,56,57,58,59,60,61,62,63,64,66,67,67,68,69,70,71,72,75,76,77,78,79,80,81,82,83,85,86,87,88,89,90,91,93,94,95,96,97,97,99,100,101,103,104,105,106,107,108,109,110,111,112,113,114,115,116,117,118,119,119,119,120,121,122,123,124,125,128,129,130,131,132,133,134,135,136,137,138,139,140,141,142,143],\"xaxis\":\"x\",\"y\":[146,163,146,140,146,163,140,163,125,163,163,79,117,163,135,146,120,132,113,59,115,163,61,117,57,163,143,51,22,163,143,106,96,146,104,86,163,146,146,15,102,30,146,146,21,33,96,122,100,6,135,27,74,7,44,126,163,163,112,84,163,75,120,53,117,108,94,163,76,107,131,50,70,17,62,53,73,78,163,163,101,69,79,40,68,38,103,4,13,19,63,124,20,58,43,56,42,116,24,41,70,5,72,64,83,90,81,163,31,45,163,3,22,95,14,146,84,146,109,122,48,163,77,82,12,8,55,17,127,87,111,15,25,132,88,34,27,89,36,65,105,32,66],\"yaxis\":\"y\",\"type\":\"scatter\"},{\"hovertemplate\":\"\\u003cb\\u003eOLS trendline\\u003c\\u002fb\\u003e\\u003cbr\\u003econflict_ranking = -0.504108 * democracy_ranking + 124.899\\u003cbr\\u003eR\\u003csup\\u003e2\\u003c\\u002fsup\\u003e=0.181969\\u003cbr\\u003e\\u003cbr\\u003edemocracy_ranking=%{x}\\u003cbr\\u003econflict_ranking=%{y} \\u003cb\\u003e(trend)\\u003c\\u002fb\\u003e\\u003cextra\\u003e\\u003c\\u002fextra\\u003e\",\"legendgroup\":\"\",\"marker\":{\"color\":\"#636efa\",\"symbol\":\"circle\"},\"mode\":\"lines\",\"name\":\"\",\"showlegend\":false,\"x\":[1,2,3,4,5,6,7,8,9,10,11,12,13,14,14,15,16,17,17,18,18,19,20,20,21,23,24,25,26,27,27,28,29,30,31,34,34,35,36,37,37,38,39,40,40,41,42,43,44,45,46,47,48,49,50,51,52,53,54,55,56,57,58,59,60,61,62,63,64,66,67,67,68,69,70,71,72,75,76,77,78,79,80,81,82,83,85,86,87,88,89,90,91,93,94,95,96,97,97,99,100,101,103,104,105,106,107,108,109,110,111,112,113,114,115,116,117,118,119,119,119,120,121,122,123,124,125,128,129,130,131,132,133,134,135,136,137,138,139,140,141,142,143],\"xaxis\":\"x\",\"y\":[124.39439540281778,123.8902873549631,123.38617930710842,122.88207125925373,122.37796321139905,121.87385516354438,121.36974711568969,120.865639067835,120.36153101998032,119.85742297212565,119.35331492427096,118.84920687641628,118.34509882856159,117.84099078070692,117.84099078070692,117.33688273285223,116.83277468499755,116.32866663714286,116.32866663714286,115.82455858928819,115.82455858928819,115.3204505414335,114.81634249357882,114.81634249357882,114.31223444572413,113.30401835001477,112.79991030216009,112.29580225430541,111.79169420645073,111.28758615859604,111.28758615859604,110.78347811074136,110.27937006288667,109.775262015032,109.27115396717731,107.75882982361327,107.75882982361327,107.25472177575858,106.7506137279039,106.24650568004921,106.24650568004921,105.74239763219454,105.23828958433985,104.73418153648517,104.73418153648517,104.2300734886305,103.72596544077581,103.22185739292112,102.71774934506644,102.21364129721175,101.70953324935708,101.2054252015024,100.70131715364772,100.19720910579304,99.69310105793835,99.18899301008366,98.68488496222898,98.1807769143743,97.67666886651962,97.17256081866493,96.66845277081026,96.16434472295558,95.66023667510089,95.1561286272462,94.65202057939152,94.14791253153685,93.64380448368216,93.13969643582747,92.6355883879728,91.62737229226343,91.12326424440874,91.12326424440874,90.61915619655406,90.11504814869939,89.6109401008447,89.10683205299003,88.60272400513534,87.09039986157129,86.5862918137166,86.08218376586193,85.57807571800724,85.07396767015257,84.56985962229788,84.0657515744432,83.56164352658851,83.05753547873383,82.04931938302447,81.54521133516978,81.04110328731511,80.53699523946042,80.03288719160574,79.52877914375105,79.02467109589637,78.01645500018701,77.51234695233232,77.00823890447765,76.50413085662296,76.00002280876828,76.00002280876828,74.9918067130589,74.48769866520423,73.98359061734955,72.97537452164019,72.4712664737855,71.96715842593082,71.46305037807613,70.95894233022145,70.45483428236678,69.95072623451209,69.44661818665742,68.94251013880273,68.43840209094805,67.93429404309336,67.43018599523867,66.92607794738399,66.42196989952932,65.91786185167463,65.41375380381996,64.90964575596527,64.90964575596527,64.90964575596527,64.40553770811059,63.9014296602559,63.39732161240122,62.893213564546535,62.389105516691856,61.88499746883717,60.37267332527313,59.86856527741844,59.36445722956377,58.86034918170908,58.3562411338544,57.85213308599971,57.34802503814504,56.84391699029035,56.33980894243567,55.83570089458098,55.33159284672631,54.82748479887162,54.32337675101694,53.81926870316225,53.31516065530758,52.81105260745289],\"yaxis\":\"y\",\"type\":\"scatter\",\"line\":{\"color\":\"black\"}}],                        {\"template\":{\"data\":{\"histogram2dcontour\":[{\"type\":\"histogram2dcontour\",\"colorbar\":{\"outlinewidth\":0,\"ticks\":\"\"},\"colorscale\":[[0.0,\"#0d0887\"],[0.1111111111111111,\"#46039f\"],[0.2222222222222222,\"#7201a8\"],[0.3333333333333333,\"#9c179e\"],[0.4444444444444444,\"#bd3786\"],[0.5555555555555556,\"#d8576b\"],[0.6666666666666666,\"#ed7953\"],[0.7777777777777778,\"#fb9f3a\"],[0.8888888888888888,\"#fdca26\"],[1.0,\"#f0f921\"]]}],\"choropleth\":[{\"type\":\"choropleth\",\"colorbar\":{\"outlinewidth\":0,\"ticks\":\"\"}}],\"histogram2d\":[{\"type\":\"histogram2d\",\"colorbar\":{\"outlinewidth\":0,\"ticks\":\"\"},\"colorscale\":[[0.0,\"#0d0887\"],[0.1111111111111111,\"#46039f\"],[0.2222222222222222,\"#7201a8\"],[0.3333333333333333,\"#9c179e\"],[0.4444444444444444,\"#bd3786\"],[0.5555555555555556,\"#d8576b\"],[0.6666666666666666,\"#ed7953\"],[0.7777777777777778,\"#fb9f3a\"],[0.8888888888888888,\"#fdca26\"],[1.0,\"#f0f921\"]]}],\"heatmap\":[{\"type\":\"heatmap\",\"colorbar\":{\"outlinewidth\":0,\"ticks\":\"\"},\"colorscale\":[[0.0,\"#0d0887\"],[0.1111111111111111,\"#46039f\"],[0.2222222222222222,\"#7201a8\"],[0.3333333333333333,\"#9c179e\"],[0.4444444444444444,\"#bd3786\"],[0.5555555555555556,\"#d8576b\"],[0.6666666666666666,\"#ed7953\"],[0.7777777777777778,\"#fb9f3a\"],[0.8888888888888888,\"#fdca26\"],[1.0,\"#f0f921\"]]}],\"heatmapgl\":[{\"type\":\"heatmapgl\",\"colorbar\":{\"outlinewidth\":0,\"ticks\":\"\"},\"colorscale\":[[0.0,\"#0d0887\"],[0.1111111111111111,\"#46039f\"],[0.2222222222222222,\"#7201a8\"],[0.3333333333333333,\"#9c179e\"],[0.4444444444444444,\"#bd3786\"],[0.5555555555555556,\"#d8576b\"],[0.6666666666666666,\"#ed7953\"],[0.7777777777777778,\"#fb9f3a\"],[0.8888888888888888,\"#fdca26\"],[1.0,\"#f0f921\"]]}],\"contourcarpet\":[{\"type\":\"contourcarpet\",\"colorbar\":{\"outlinewidth\":0,\"ticks\":\"\"}}],\"contour\":[{\"type\":\"contour\",\"colorbar\":{\"outlinewidth\":0,\"ticks\":\"\"},\"colorscale\":[[0.0,\"#0d0887\"],[0.1111111111111111,\"#46039f\"],[0.2222222222222222,\"#7201a8\"],[0.3333333333333333,\"#9c179e\"],[0.4444444444444444,\"#bd3786\"],[0.5555555555555556,\"#d8576b\"],[0.6666666666666666,\"#ed7953\"],[0.7777777777777778,\"#fb9f3a\"],[0.8888888888888888,\"#fdca26\"],[1.0,\"#f0f921\"]]}],\"surface\":[{\"type\":\"surface\",\"colorbar\":{\"outlinewidth\":0,\"ticks\":\"\"},\"colorscale\":[[0.0,\"#0d0887\"],[0.1111111111111111,\"#46039f\"],[0.2222222222222222,\"#7201a8\"],[0.3333333333333333,\"#9c179e\"],[0.4444444444444444,\"#bd3786\"],[0.5555555555555556,\"#d8576b\"],[0.6666666666666666,\"#ed7953\"],[0.7777777777777778,\"#fb9f3a\"],[0.8888888888888888,\"#fdca26\"],[1.0,\"#f0f921\"]]}],\"mesh3d\":[{\"type\":\"mesh3d\",\"colorbar\":{\"outlinewidth\":0,\"ticks\":\"\"}}],\"scatter\":[{\"marker\":{\"line\":{\"color\":\"#283442\"}},\"type\":\"scatter\"}],\"parcoords\":[{\"type\":\"parcoords\",\"line\":{\"colorbar\":{\"outlinewidth\":0,\"ticks\":\"\"}}}],\"scatterpolargl\":[{\"type\":\"scatterpolargl\",\"marker\":{\"colorbar\":{\"outlinewidth\":0,\"ticks\":\"\"}}}],\"bar\":[{\"error_x\":{\"color\":\"#f2f5fa\"},\"error_y\":{\"color\":\"#f2f5fa\"},\"marker\":{\"line\":{\"color\":\"rgb(17,17,17)\",\"width\":0.5},\"pattern\":{\"fillmode\":\"overlay\",\"size\":10,\"solidity\":0.2}},\"type\":\"bar\"}],\"scattergeo\":[{\"type\":\"scattergeo\",\"marker\":{\"colorbar\":{\"outlinewidth\":0,\"ticks\":\"\"}}}],\"scatterpolar\":[{\"type\":\"scatterpolar\",\"marker\":{\"colorbar\":{\"outlinewidth\":0,\"ticks\":\"\"}}}],\"histogram\":[{\"marker\":{\"pattern\":{\"fillmode\":\"overlay\",\"size\":10,\"solidity\":0.2}},\"type\":\"histogram\"}],\"scattergl\":[{\"marker\":{\"line\":{\"color\":\"#283442\"}},\"type\":\"scattergl\"}],\"scatter3d\":[{\"type\":\"scatter3d\",\"line\":{\"colorbar\":{\"outlinewidth\":0,\"ticks\":\"\"}},\"marker\":{\"colorbar\":{\"outlinewidth\":0,\"ticks\":\"\"}}}],\"scattermapbox\":[{\"type\":\"scattermapbox\",\"marker\":{\"colorbar\":{\"outlinewidth\":0,\"ticks\":\"\"}}}],\"scatterternary\":[{\"type\":\"scatterternary\",\"marker\":{\"colorbar\":{\"outlinewidth\":0,\"ticks\":\"\"}}}],\"scattercarpet\":[{\"type\":\"scattercarpet\",\"marker\":{\"colorbar\":{\"outlinewidth\":0,\"ticks\":\"\"}}}],\"carpet\":[{\"aaxis\":{\"endlinecolor\":\"#A2B1C6\",\"gridcolor\":\"#506784\",\"linecolor\":\"#506784\",\"minorgridcolor\":\"#506784\",\"startlinecolor\":\"#A2B1C6\"},\"baxis\":{\"endlinecolor\":\"#A2B1C6\",\"gridcolor\":\"#506784\",\"linecolor\":\"#506784\",\"minorgridcolor\":\"#506784\",\"startlinecolor\":\"#A2B1C6\"},\"type\":\"carpet\"}],\"table\":[{\"cells\":{\"fill\":{\"color\":\"#506784\"},\"line\":{\"color\":\"rgb(17,17,17)\"}},\"header\":{\"fill\":{\"color\":\"#2a3f5f\"},\"line\":{\"color\":\"rgb(17,17,17)\"}},\"type\":\"table\"}],\"barpolar\":[{\"marker\":{\"line\":{\"color\":\"rgb(17,17,17)\",\"width\":0.5},\"pattern\":{\"fillmode\":\"overlay\",\"size\":10,\"solidity\":0.2}},\"type\":\"barpolar\"}],\"pie\":[{\"automargin\":true,\"type\":\"pie\"}]},\"layout\":{\"autotypenumbers\":\"strict\",\"colorway\":[\"#636efa\",\"#EF553B\",\"#00cc96\",\"#ab63fa\",\"#FFA15A\",\"#19d3f3\",\"#FF6692\",\"#B6E880\",\"#FF97FF\",\"#FECB52\"],\"font\":{\"color\":\"#f2f5fa\"},\"hovermode\":\"closest\",\"hoverlabel\":{\"align\":\"left\"},\"paper_bgcolor\":\"rgb(17,17,17)\",\"plot_bgcolor\":\"rgb(17,17,17)\",\"polar\":{\"bgcolor\":\"rgb(17,17,17)\",\"angularaxis\":{\"gridcolor\":\"#506784\",\"linecolor\":\"#506784\",\"ticks\":\"\"},\"radialaxis\":{\"gridcolor\":\"#506784\",\"linecolor\":\"#506784\",\"ticks\":\"\"}},\"ternary\":{\"bgcolor\":\"rgb(17,17,17)\",\"aaxis\":{\"gridcolor\":\"#506784\",\"linecolor\":\"#506784\",\"ticks\":\"\"},\"baxis\":{\"gridcolor\":\"#506784\",\"linecolor\":\"#506784\",\"ticks\":\"\"},\"caxis\":{\"gridcolor\":\"#506784\",\"linecolor\":\"#506784\",\"ticks\":\"\"}},\"coloraxis\":{\"colorbar\":{\"outlinewidth\":0,\"ticks\":\"\"}},\"colorscale\":{\"sequential\":[[0.0,\"#0d0887\"],[0.1111111111111111,\"#46039f\"],[0.2222222222222222,\"#7201a8\"],[0.3333333333333333,\"#9c179e\"],[0.4444444444444444,\"#bd3786\"],[0.5555555555555556,\"#d8576b\"],[0.6666666666666666,\"#ed7953\"],[0.7777777777777778,\"#fb9f3a\"],[0.8888888888888888,\"#fdca26\"],[1.0,\"#f0f921\"]],\"sequentialminus\":[[0.0,\"#0d0887\"],[0.1111111111111111,\"#46039f\"],[0.2222222222222222,\"#7201a8\"],[0.3333333333333333,\"#9c179e\"],[0.4444444444444444,\"#bd3786\"],[0.5555555555555556,\"#d8576b\"],[0.6666666666666666,\"#ed7953\"],[0.7777777777777778,\"#fb9f3a\"],[0.8888888888888888,\"#fdca26\"],[1.0,\"#f0f921\"]],\"diverging\":[[0,\"#8e0152\"],[0.1,\"#c51b7d\"],[0.2,\"#de77ae\"],[0.3,\"#f1b6da\"],[0.4,\"#fde0ef\"],[0.5,\"#f7f7f7\"],[0.6,\"#e6f5d0\"],[0.7,\"#b8e186\"],[0.8,\"#7fbc41\"],[0.9,\"#4d9221\"],[1,\"#276419\"]]},\"xaxis\":{\"gridcolor\":\"#283442\",\"linecolor\":\"#506784\",\"ticks\":\"\",\"title\":{\"standoff\":15},\"zerolinecolor\":\"#283442\",\"automargin\":true,\"zerolinewidth\":2},\"yaxis\":{\"gridcolor\":\"#283442\",\"linecolor\":\"#506784\",\"ticks\":\"\",\"title\":{\"standoff\":15},\"zerolinecolor\":\"#283442\",\"automargin\":true,\"zerolinewidth\":2},\"scene\":{\"xaxis\":{\"backgroundcolor\":\"rgb(17,17,17)\",\"gridcolor\":\"#506784\",\"linecolor\":\"#506784\",\"showbackground\":true,\"ticks\":\"\",\"zerolinecolor\":\"#C8D4E3\",\"gridwidth\":2},\"yaxis\":{\"backgroundcolor\":\"rgb(17,17,17)\",\"gridcolor\":\"#506784\",\"linecolor\":\"#506784\",\"showbackground\":true,\"ticks\":\"\",\"zerolinecolor\":\"#C8D4E3\",\"gridwidth\":2},\"zaxis\":{\"backgroundcolor\":\"rgb(17,17,17)\",\"gridcolor\":\"#506784\",\"linecolor\":\"#506784\",\"showbackground\":true,\"ticks\":\"\",\"zerolinecolor\":\"#C8D4E3\",\"gridwidth\":2}},\"shapedefaults\":{\"line\":{\"color\":\"#f2f5fa\"}},\"annotationdefaults\":{\"arrowcolor\":\"#f2f5fa\",\"arrowhead\":0,\"arrowwidth\":1},\"geo\":{\"bgcolor\":\"rgb(17,17,17)\",\"landcolor\":\"rgb(17,17,17)\",\"subunitcolor\":\"#506784\",\"showland\":true,\"showlakes\":true,\"lakecolor\":\"rgb(17,17,17)\"},\"title\":{\"x\":0.05},\"updatemenudefaults\":{\"bgcolor\":\"#506784\",\"borderwidth\":0},\"sliderdefaults\":{\"bgcolor\":\"#C8D4E3\",\"borderwidth\":1,\"bordercolor\":\"rgb(17,17,17)\",\"tickwidth\":0},\"mapbox\":{\"style\":\"dark\"}}},\"xaxis\":{\"anchor\":\"y\",\"domain\":[0.0,1.0],\"title\":{\"text\":\"Democracy index ranking 2023\"}},\"yaxis\":{\"anchor\":\"x\",\"domain\":[0.0,1.0],\"title\":{\"text\":\"Conflict index ranking 2023\"}},\"legend\":{\"tracegroupgap\":0},\"title\":{\"text\":\"Democracy index ranking vs Conflict index ranking 2023\"}},                        {\"responsive\": true}                    ).then(function(){\n",
       "                            \n",
       "var gd = document.getElementById('53d79091-5c39-4574-8f89-e6e7db32c631');\n",
       "var x = new MutationObserver(function (mutations, observer) {{\n",
       "        var display = window.getComputedStyle(gd).display;\n",
       "        if (!display || display === 'none') {{\n",
       "            console.log([gd, 'removed!']);\n",
       "            Plotly.purge(gd);\n",
       "            observer.disconnect();\n",
       "        }}\n",
       "}});\n",
       "\n",
       "// Listen for the removal of the full notebook cells\n",
       "var notebookContainer = gd.closest('#notebook-container');\n",
       "if (notebookContainer) {{\n",
       "    x.observe(notebookContainer, {childList: true});\n",
       "}}\n",
       "\n",
       "// Listen for the clearing of the current output cell\n",
       "var outputEl = gd.closest('.output');\n",
       "if (outputEl) {{\n",
       "    x.observe(outputEl, {childList: true});\n",
       "}}\n",
       "\n",
       "                        })                };                });            </script>        </div>"
      ]
     },
     "metadata": {},
     "output_type": "display_data"
    }
   ],
   "source": [
    "# creeer een scatterplot om de relatie tussen de democratie en conflict aan te geven per land\n",
    "\n",
    "fig = px.scatter(\n",
    "    dem_conflict_df,\n",
    "    x='democracy_ranking',\n",
    "    y='conflict_ranking',\n",
    "    title = 'Democracy index ranking vs Conflict index ranking 2023',\n",
    "    hover_data=['country'],\n",
    "    trendline=\"ols\",\n",
    ")\n",
    "\n",
    "fig.update_layout(\n",
    "    xaxis_title=\"Democracy index ranking 2023\",\n",
    "    yaxis_title=\"Conflict index ranking 2023\"\n",
    ")\n",
    "\n",
    "for trace in fig.data:\n",
    "    if trace.mode == \"lines\":\n",
    "        trace.line.color = \"black\"\n",
    "\n",
    "\n",
    "fig.show()"
   ]
  },
  {
   "cell_type": "markdown",
   "metadata": {},
   "source": [
    "## Ter verduidelijking:\n",
    "\n",
    "\n",
    "-----\n",
    "- 'Conflict index':\n",
    "\n",
    "Een hogere ranking (bijv. 1) geeft aan dat er in een land veel/grote conflicten zijn\n",
    "Een lagere ranking (bijv. 150) geeft aan dat er in een land weinig/kleine conflicten zijn\n",
    "\n",
    "--------\n",
    "- 'Democratie index':\n",
    "\n",
    "Een hogere ranking (bijv. 1) geeft aan dat er in een land een heersende democratie is\n",
    "Een lagere ranking (bijv. 150) geeft aan dat er in een land geen democratie is\n",
    "\n",
    "---------\n",
    "- 'Persvrijheid  index':\n",
    "\n",
    "Een hogere ranking (bijv. 1) geeft aan dat de pers in een land veel vrijheid heeft\n",
    "Een lagere ranking (bijv. 150) geeft aan dat de pers in een land weinig vrijheid heeft."
   ]
  },
  {
   "cell_type": "markdown",
   "metadata": {},
   "source": [
    "## Reflectie\n",
    "\n",
    "Tekst"
   ]
  },
  {
   "cell_type": "markdown",
   "metadata": {},
   "source": [
    "## Work distribution\n",
    "\n",
    "Tekst"
   ]
  },
  {
   "cell_type": "markdown",
   "metadata": {},
   "source": [
    "## Referenties\n",
    "\n",
    "Tekst"
   ]
  },
  {
   "cell_type": "markdown",
   "metadata": {},
   "source": [
    "## Wereldkaart. Glenn kijk hier naar :)"
   ]
  },
  {
   "cell_type": "code",
   "execution_count": null,
   "metadata": {
    "vscode": {
     "languageId": "plaintext"
    }
   },
   "outputs": [],
   "source": [
    "# laad de dataset\n",
    "eind_df = pd.read_pickle('./data/dataset.pkl')"
   ]
  },
  {
   "cell_type": "code",
   "execution_count": null,
   "metadata": {
    "vscode": {
     "languageId": "plaintext"
    }
   },
   "outputs": [],
   "source": [
    "# Creëer een wereldkaart om de verandering van rang wat betreft persvrijheid te laten zien per land (2019-2023)\n",
    "\n",
    "# Maak een kleurenschaal\n",
    "colorscale = [\n",
    "    [0, '#9b0000'],          # Donker rood\n",
    "    [54/(74+55), '#FF7377'], # Licht rood\n",
    "    [55/(74+55), '#0000ff'], # Blauw\n",
    "    [56/(74+55), '#90ee90'], # Licht groen\n",
    "    [1, '#006400']           # Donker groen\n",
    "]\n",
    " \n",
    "# Maak de choropletenkaart \n",
    "trace = go.Choropleth(\n",
    "    locations=eind_df['land'],\n",
    "    locationmode='country names',\n",
    "    z=eind_df['persvrijheid_verandering'],\n",
    "    colorscale=colorscale,\n",
    "    hovertemplate='<b>%{location}</b><br>Verandering in persvrijheid rang: %{z}<extra></extra>',\n",
    "    colorbar=go.choropleth.ColorBar(\n",
    "        x=0.5,\n",
    "        y=0.92,\n",
    "        xanchor='center',\n",
    "        yanchor='bottom',\n",
    "        orientation='h',\n",
    "        len=0.5,\n",
    "        thickness=10,\n",
    "        tickmode='array',\n",
    "        title='',\n",
    "        tickvals=[eind_df['persvrijheid_verandering'].min(), 0, eind_df['persvrijheid_verandering'].max()],\n",
    "        ticktext=['Verslechterd', 'Geen verandering', 'Verbeterd']\n",
    "    ),\n",
    "    zmin=eind_df['persvrijheid_verandering'].min(),\n",
    "    zmax=eind_df['persvrijheid_verandering'].max(),\n",
    ")\n",
    " \n",
    "# Maak het figuur\n",
    "fig = go.Figure(\n",
    "    data=[trace],\n",
    "    layout=go.Layout(\n",
    "        width=790,\n",
    "        height=640,\n",
    "        title='Verandering in Persvrijheid Rang (2019-2023)',\n",
    "        geo={'showocean': True, 'oceancolor': '#a8d5f2', 'landcolor': '#ffffff'},\n",
    "        margin={'t': 80, 'r': 20, 'b': 80, 'l': 20},\n",
    "    )\n",
    ")\n",
    " \n",
    "\n",
    "fig.update_geos(showcountries=True, showcoastlines=False)\n",
    " \n",
    "fig.show()"
   ]
  },
  {
   "cell_type": "code",
   "execution_count": null,
   "metadata": {
    "vscode": {
     "languageId": "plaintext"
    }
   },
   "outputs": [],
   "source": [
    "# Creëer een wereldkaart om de verandering van rang wat betreft conflict te laten zien per land (2019-2023)\n",
    "\n",
    "\n",
    "# Maak een kleurenschaal\n",
    "colorscale = [\n",
    "    [0, '#9b0000'],            # Donker rood\n",
    "    [112/(48+113), '#FF7377'], # Licht rood\n",
    "    [113/(48+113), '#0000ff'], # Blauw\n",
    "    [114/(48+113), '#90ee90'], # Licht groen\n",
    "    [1, '#006400']             # Donker groen\n",
    "]\n",
    " \n",
    "# Maak de choropletenkaart\n",
    "trace = go.Choropleth(\n",
    "    locations=eind_df['land'],\n",
    "    locationmode='country names',\n",
    "    z=eind_df['conflict_verandering'],\n",
    "    colorscale=colorscale,\n",
    "    hovertemplate='<b>%{location}</b><br>Verandering in conflict rang: %{z}<extra></extra>',\n",
    "    colorbar=go.choropleth.ColorBar(\n",
    "        x=0.5,\n",
    "        y=0.92,\n",
    "        xanchor='center',\n",
    "        yanchor='bottom',\n",
    "        orientation='h',\n",
    "        len=0.5,\n",
    "        thickness=10,\n",
    "        tickmode='array',\n",
    "        title='',\n",
    "        tickvals=[eind_df['conflict_verandering'].min(), 0, eind_df['conflict_verandering'].max()],\n",
    "        ticktext=['Verslechterd', 'Geen verandering', 'Verbeterd']\n",
    "    ),\n",
    "    zmin=eind_df['conflict_verandering'].min(),\n",
    "    zmax=eind_df['conflict_verandering'].max(),\n",
    ")\n",
    " \n",
    "# Maak het figuur\n",
    "fig = go.Figure(\n",
    "    data=[trace],\n",
    "    layout=go.Layout(\n",
    "        width=790,\n",
    "        height=640,\n",
    "        title='Verandering in Conflict Rang (2019-2023)',\n",
    "        geo={'showocean': True, 'oceancolor': '#a8d5f2', 'landcolor': '#ffffff'},\n",
    "        margin={'t': 80, 'r': 20, 'b': 80, 'l': 20},\n",
    "    )\n",
    ")\n",
    " \n",
    "fig.update_geos(showcountries=True, showcoastlines=False)\n",
    " \n",
    "fig.show()"
   ]
  },
  {
   "cell_type": "code",
   "execution_count": null,
   "metadata": {
    "vscode": {
     "languageId": "plaintext"
    }
   },
   "outputs": [],
   "source": [
    "# Creëer een wereldkaart om de verandering van rang wat betreft democratie te laten zien per land (2019-2023)\n",
    "\n",
    "# Maak een kleurenschaal\n",
    "colorscale = [\n",
    "    [0, '#9b0000'],          # Donker rood\n",
    "    [34/(32+35), '#FF7377'], # Licht rood\n",
    "    [35/(32+35), '#0000ff'], # Blauw voor 0\n",
    "    [36/(32+35), '#90ee90'], # Licht groen\n",
    "    [1, '#006400']           # Donker groen\n",
    "]\n",
    " \n",
    "# Maak de choropletenkaart\n",
    "trace = go.Choropleth(\n",
    "    locations=eind_df['land'],\n",
    "    locationmode='country names',\n",
    "    z=eind_df['democratie_verandering'],\n",
    "    colorscale=colorscale,\n",
    "    hovertemplate='<b>%{location}</b><br>Verandering in democratie rang: %{z}<extra></extra>',\n",
    "    colorbar=go.choropleth.ColorBar(\n",
    "        x=0.5,\n",
    "        y=0.92,\n",
    "        xanchor='center',\n",
    "        yanchor='bottom',\n",
    "        orientation='h',\n",
    "        len=0.5,\n",
    "        thickness=10,\n",
    "        tickmode='array',\n",
    "        title='',\n",
    "        tickvals=[eind_df['democratie_verandering'].min(), 0, eind_df['democratie_verandering'].max()],\n",
    "        ticktext=['Verslechterd', 'Geen verandering', 'Verbeterd']\n",
    "    ),\n",
    "    zmin=eind_df['democratie_verandering'].min(),\n",
    "    zmax=eind_df['democratie_verandering'].max(),\n",
    ")\n",
    " \n",
    "# Maak het figuur\n",
    "fig = go.Figure(\n",
    "    data=[trace],\n",
    "    layout=go.Layout(\n",
    "        width=790,\n",
    "        height=640,\n",
    "        title='Verandering in Democratie Rang (2019-2023)',\n",
    "        geo={'showocean': True, 'oceancolor': '#a8d5f2', 'landcolor': '#ffffff'},\n",
    "        margin={'t': 80, 'r': 20, 'b': 80, 'l': 20},\n",
    "    )\n",
    ")\n",
    " \n",
    "fig.update_geos(showcountries=True, showcoastlines=False)\n",
    " \n",
    "fig.show()"
   ]
  },
  {
   "cell_type": "code",
   "execution_count": null,
   "metadata": {
    "vscode": {
     "languageId": "plaintext"
    }
   },
   "outputs": [],
   "source": [
    "# Creëer een wereldkaart om de verschillen tussen de veranderingen van persvrijheid en democratie te laten zien\n",
    "\n",
    "# Definieer kleuren op basis van categorieën\n",
    "def get_color(verandering_pers, verandering_dem):\n",
    "    if verandering_pers == 0 and verandering_dem == 0:\n",
    "        return 0  # Blauw: beide veranderingen zijn 0\n",
    "    elif (verandering_pers >= 0 and verandering_dem > 0) or (verandering_pers > 0 and verandering_dem >= 0):\n",
    "        return 1  # Groen: beide veranderingen zijn positief\n",
    "    elif verandering_pers < 0 and verandering_dem < 0:\n",
    "        return 2  # Rood: beide veranderingen zijn negatief\n",
    "    elif verandering_pers < 0 and verandering_dem >= 0:\n",
    "        return 3  # Geel: persvrijheid is negatief, democratie is positief\n",
    "    elif verandering_pers >= 0 and verandering_dem < 0:\n",
    "        return 4  # Oranje: persvrijheid is positief, democratie is negatief\n",
    "\n",
    "# Voeg kleur toe aan DataFrame\n",
    "eind_df['color'] = eind_df.apply(lambda row: get_color(row['persvrijheid_verandering'], row['democratie_verandering']), axis=1)\n",
    " \n",
    "# Maak een lijst met kleuren op basis van categorie\n",
    "colorscale = [\n",
    "    'blue',    # Blauw: beide veranderingen zijn 0\n",
    "    '#90ee90', # Groen: beide veranderingen zijn positief\n",
    "    'red',     # Rood: beide veranderingen zijn negatief\n",
    "    'yellow',  # Geel: persvrijheid is negatief, democratie is positief\n",
    "    'orange',  # Oranje: persvrijheid is positief, democratie is negatief\n",
    "]\n",
    " \n",
    "# Creëer de choropleth trace\n",
    "data = go.Choropleth(\n",
    "    locations=eind_df['land'],\n",
    "    locationmode='country names',\n",
    "    z=eind_df['color'],  # Gebruik de 'color' kolom als numerieke waarde voor de kleuren\n",
    "    hoverinfo='location+text',  # Toon locatie, kleurwaarde en tekst bij hover    \n",
    "    text=eind_df.apply(lambda row: f'Persvrijheid: {row[\"persvrijheid_verandering\"]}<br>Democratie: {row[\"democratie_verandering\"]}', axis=1),\n",
    "    marker_line_color='gray',  # Voeg een rand toe aan de markeringen\n",
    "    colorscale=colorscale,\n",
    "    showscale=False,  # Zet showscale uit om geen kleurenschaal te tonen\n",
    ")\n",
    " \n",
    "# Creëer de layout\n",
    "layout = go.Layout(\n",
    "    width=900,\n",
    "    height=600,\n",
    "    title='Verandering in Persvrijheid en Democratische Rang (2019-2023)',\n",
    "    geo=dict(\n",
    "        showocean=True,\n",
    "        oceancolor='#a8d5f2',\n",
    "        showcountries=True,\n",
    "        countrycolor='white',\n",
    "        landcolor='white',\n",
    "        showland=True,\n",
    "        projection_type='mercator'\n",
    "    ),\n",
    "    margin={'t': 50, 'r': 90, 'b': 50, 'l': 40},\n",
    ")\n",
    " \n",
    "# Voeg de legenda handmatig toe als annotaties\n",
    "legend_items = {\n",
    "    'Pers en Demo neutraal': 0,\n",
    "    'Pers en Demo positief': 1,\n",
    "    'Pers en Demo negatief': 2,\n",
    "    'Pers negatief Demo positief': 3,\n",
    "    'Pers positief Demo negatief': 4,\n",
    "}\n",
    " \n",
    "annotations = []\n",
    "for label, color_index in legend_items.items():\n",
    "    annotations.append(dict(\n",
    "        x=0.93,\n",
    "        y=0.95 - (len(colorscale) - color_index - 1) * 0.05,\n",
    "        xref='paper',\n",
    "        yref='paper',\n",
    "        text=label,\n",
    "        showarrow=False,\n",
    "        font=dict(size=10),\n",
    "        align='left',\n",
    "        xanchor='left',\n",
    "    ))\n",
    "\n",
    "# Voeg de legenda bolletjes toe\n",
    "for color_index, color_value in enumerate(colorscale):\n",
    "    annotations.append(dict(\n",
    "        x=0.92,\n",
    "        y=0.95 - (len(colorscale) - color_index - 1) * 0.05,\n",
    "        xref='paper',\n",
    "        yref='paper',\n",
    "        text = '',\n",
    "        showarrow=False,\n",
    "        bgcolor=colorscale[color_index],\n",
    "        width=13,\n",
    "        height=13,\n",
    "        borderpad=0,\n",
    "    ))\n",
    "\n",
    "layout['annotations'] = annotations\n",
    " \n",
    "# Maak de figuur\n",
    "fig = go.Figure(data=[data], layout=layout)\n",
    " \n",
    "# Toon de figuur\n",
    "fig.show()"
   ]
  },
  {
   "cell_type": "code",
   "execution_count": null,
   "metadata": {
    "vscode": {
     "languageId": "plaintext"
    }
   },
   "outputs": [],
   "source": [
    "# Creëer een wereldkaart om de verschillen tussen de veranderingen van persvrijheid en conflicten te laten zien\n",
    "\n",
    "# Definieer kleuren op basis van categorieën\n",
    "def get_color(verandering_pers, verandering_conf):\n",
    "    if verandering_pers == 0 and verandering_conf == 0:\n",
    "        return 'Pers en Demo neutraal'  # Blauw: beide veranderingen zijn 0\n",
    "    elif (verandering_pers >= 0 and verandering_conf > 0) or (verandering_pers > 0 and verandering_conf >= 0):\n",
    "        return 'Pers en Demo positief'  # Groen: beide veranderingen zijn positief\n",
    "    elif verandering_pers < 0 and verandering_conf < 0:\n",
    "        return 'Pers en Demo negatief'  # Rood: beide veranderingen zijn negatief\n",
    "    elif verandering_pers < 0 and verandering_conf >= 0:\n",
    "        return 'Pers negatief Demo positief'  # Geel: persvrijheid is negatief, conflict is positief\n",
    "    elif verandering_pers >= 0 and verandering_conf < 0:\n",
    "        return 'Pers positief Demo negatief'  # Oranje: persvrijheid is positief, conflict is negatief\n",
    "\n",
    "# Voeg kleur toe aan DataFrame\n",
    "eind_df['color'] = eind_df.apply(lambda row: get_color(row['persvrijheid_verandering'], row['conflict_verandering']), axis=1)\n",
    "\n",
    "# Maak een lijst met kleuren op basis van categorie\n",
    "color_discrete_map = {\n",
    "    'Pers en Demo neutraal': 'blue',    \n",
    "    'Pers en Demo positief': '#90ee90',\n",
    "    'Pers en Demo negatief': 'red',     \n",
    "    'Pers negatief Demo positief': 'yellow',\n",
    "    'Pers positief Demo negatief': 'orange'\n",
    "}\n",
    "\n",
    "# Maak de choropleth map met Plotly Express\n",
    "fig = px.choropleth(\n",
    "    eind_df,\n",
    "    locations=\"land\",\n",
    "    locationmode=\"country names\",\n",
    "    color=\"color\",\n",
    "    hover_name=\"land\",\n",
    "    hover_data={\n",
    "        \"color\": False,\n",
    "        \"persvrijheid_verandering\": True,\n",
    "        \"conflict_verandering\": True\n",
    "    },\n",
    "    color_discrete_map=color_discrete_map,\n",
    "    title=\"Verandering in Persvrijheid en Conflict Rang (2019-2023)\"\n",
    ")\n",
    "\n",
    "# Aanpassen van de layout van de figuur\n",
    "fig.update_geos(\n",
    "    showocean=True,\n",
    "    oceancolor='#a8d5f2',\n",
    "    showcountries=True,\n",
    "    countrycolor='white',\n",
    "    landcolor='white',\n",
    "    showland=True,\n",
    "    projection_type='mercator'\n",
    ")\n",
    "\n",
    "fig.update_layout(\n",
    "    width=900,\n",
    "    height=600,\n",
    "    margin={'t': 80, 'r': 80, 'b': 50, 'l': 80},\n",
    "    title={\n",
    "        'text': \"Verandering in Persvrijheid en Conflict Rang (2019-2023)\",\n",
    "        'y':0.9,\n",
    "        'x':0.5,\n",
    "        'xanchor': 'center',\n",
    "        'yanchor': 'top'}\n",
    ")\n",
    "\n",
    "# Toon de figuur\n",
    "fig.show()\n"
   ]
  }
 ],
 "metadata": {
  "kernelspec": {
   "display_name": "Python 3 (ipykernel)",
   "language": "python",
   "name": "python3"
  },
  "language_info": {
   "codemirror_mode": {
    "name": "ipython",
    "version": 3
   },
   "file_extension": ".py",
   "mimetype": "text/x-python",
   "name": "python",
   "nbconvert_exporter": "python",
   "pygments_lexer": "ipython3",
   "version": "3.10.11"
  },
  "widgets": {
   "application/vnd.jupyter.widget-state+json": {
    "state": {},
    "version_major": 2,
    "version_minor": 0
   }
  }
 },
 "nbformat": 4,
 "nbformat_minor": 4
}
