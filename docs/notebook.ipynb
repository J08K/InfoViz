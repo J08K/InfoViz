{
 "cells": [
  {
   "cell_type": "markdown",
   "metadata": {},
   "source": [
    "# D1 - Walvisualisatie\n",
    "Noor Koevoet, Glenn de Graaff, Anne Beks, Job Kolhorn\n",
    "\n",
    "D1\n",
    "\n",
    "## Introductie\n",
    "Persvrijheid is een principe dat stelt dat de pers vrij is om te schrijven, zeggen en publiceren wat zij willen. De overheid is in beginsel verboden om censuur toe te passen en mag niet vooraf controleren wat wel of niet gezegd mag worden. In Nederland is persvrijheid, samen met het recht op meningsuiting, vastgelegd in artikel 7 van de Grondwet. Ook in andere landen en binnen Europees verband zijn er wetten die persvrijheid en vrijheid van meningsuiting beschermen.\n",
    "\n",
    "Om te verzekeren dat journalisten hun werk veilig kunnen doen, hebben zij een beschermde status van het Europese Hof voor de Rechten van de Mens (EHRM). Journalisten brengen informatie naar buiten over algemeen belangrijke zaken en zijn daarom van cruciaal belang voor de democratie. Hoewel er vrijheid is om te publiceren wat men wil, betekent dit niet dat dit onbestraft kan gebeuren. Wanneer publicaties discriminerend zijn of aanzetten tot opruiing, kan iemand aangeklaagd en veroordeeld worden. Dit gebeurt echter pas achteraf; vóór publicatie is censuur niet toegestaan.\n",
    "\n",
    "In veel landen is persvrijheid echter niet gegarandeerd. In landen met een autocratisch regime is de vrijheid van meningsuiting vaak beperkt of volledig afwezig. Ook in landen waar conflicten gaande zijn, zijn er mogelijk meerdere machten aan de leiding, of lijkt er niemand aan de macht te zijn. In zulke situaties is het moeilijk om te waarborgen dat de wet wordt nageleefd.\n",
    "\n",
    "Deze data-analyse zal onderzoeken of de mate van persvrijheid wordt beïnvloed door conflicten of de mate van democratie. Door gebruik te maken van data van Verslaggevers Without Borders (RSF), The Armed Conflict Location & Event Data Project (ACLED) en Our World in Data, zullen we scores en ranglijsten analyseren rondom persvrijheid, democratie en conflicten wereldwijd. Het perspectief dat conflicten de persvrijheid verminderen en het perspectief dat autocratische bestuursvormen de persvrijheid verminderen, worden hier onderzocht.\n",
    "\n",
    "## Dataset and Preprocessing\n",
    "\n",
    "tekst\n",
    "\n",
    "## Eerste perspective\n",
    "\n",
    "tekst"
   ]
  },
  {
   "cell_type": "code",
   "metadata": {
    "ExecuteTime": {
     "end_time": "2024-06-18T18:54:12.291532Z",
     "start_time": "2024-06-18T18:54:12.278531Z"
    }
   },
   "source": [
    "import pandas as pd\n",
    "\n",
    "import plotly.graph_objects as go\n",
    "from plotly.subplots import make_subplots\n",
    "from plotly.offline import init_notebook_mode\n",
    "import plotly.express as px\n",
    "\n",
    "import ipywidgets as widgets\n",
    "from ipywidgets import interact\n",
    "\n",
    "import numpy as np\n",
    "\n",
    "from IPython.display import display\n",
    "\n",
    "init_notebook_mode(connected=True)"
   ],
   "outputs": [
    {
     "data": {
      "text/html": [
       "        <script type=\"text/javascript\">\n",
       "        window.PlotlyConfig = {MathJaxConfig: 'local'};\n",
       "        if (window.MathJax && window.MathJax.Hub && window.MathJax.Hub.Config) {window.MathJax.Hub.Config({SVG: {font: \"STIX-Web\"}});}\n",
       "        if (typeof require !== 'undefined') {\n",
       "        require.undef(\"plotly\");\n",
       "        requirejs.config({\n",
       "            paths: {\n",
       "                'plotly': ['https://cdn.plot.ly/plotly-2.32.0.min']\n",
       "            }\n",
       "        });\n",
       "        require(['plotly'], function(Plotly) {\n",
       "            window._Plotly = Plotly;\n",
       "        });\n",
       "        }\n",
       "        </script>\n",
       "        "
      ]
     },
     "metadata": {},
     "output_type": "display_data"
    }
   ],
   "execution_count": 53
  },
  {
   "cell_type": "markdown",
   "metadata": {},
   "source": []
  },
  {
   "cell_type": "markdown",
   "metadata": {},
   "source": [
    "### Eerste argument van eeste perspectief"
   ]
  },
  {
   "cell_type": "markdown",
   "metadata": {},
   "source": [
    "Om meerdere landen te selecteren ctrl indrukken"
   ]
  },
  {
   "cell_type": "code",
   "metadata": {
    "ExecuteTime": {
     "end_time": "2024-06-18T18:54:12.647755Z",
     "start_time": "2024-06-18T18:54:12.432731Z"
    }
   },
   "source": [
    "data_pers_ranking_19 = pd.read_csv('./data/2019.csv', sep=';')\n",
    "data_pers_ranking_23 = pd.read_csv('./data/2023.csv', sep=';')\n",
    "\n",
    "data_conflict = pd.read_excel('./data/01-2024-conflic-index.xlsx')\n",
    "\n",
    "data_pers_ranking_19.rename(columns={'EN_country': 'country', 'Rank N': 'Rank_2019'}, inplace=True)\n",
    "data_pers_ranking_23.rename(columns={'Country_EN': 'country', 'Rank': 'Rank_2023'}, inplace=True)\n",
    "data_conflict.rename(columns={'Country': 'country', 'Index Ranking 2023': 'Conflict_Rank_2023', 'Change in ranking since 2019': 'Change_Conflict'}, inplace=True)\n",
    "\n",
    "data_pers_combined = pd.merge(data_pers_ranking_19[['country', 'Rank_2019']], \n",
    "                              data_pers_ranking_23[['country', 'Rank_2023']], \n",
    "                              on='country', \n",
    "                              how='inner')\n",
    "\n",
    "\n",
    "data_conflict['Conflict_Rank_2019'] = data_conflict['Conflict_Rank_2023'] + data_conflict['Change_Conflict']\n",
    "\n",
    "\n",
    "def filter_countries(text, dataset):\n",
    "    if dataset == 'Conflict':\n",
    "        return [country for country in data_conflict['country'] if text.lower() in country.lower()]\n",
    "    else:\n",
    "        return [country for country in data_pers_combined['country'] if text.lower() in country.lower()]\n",
    "\n",
    "\n",
    "def plot_countries_ranking(countries):\n",
    "    if not countries:\n",
    "        print(\"Selecteer minstens een land\")\n",
    "        return\n",
    "    \n",
    "    fig = make_subplots(rows=2, cols=1, shared_xaxes=True, subplot_titles=('Conflict Index', 'Press Freedom Index'))\n",
    "    \n",
    "    for country in countries:\n",
    "\n",
    "        selected_data_conflict = data_conflict[data_conflict['country'] == country]\n",
    "        \n",
    "        if len(selected_data_conflict) > 0:\n",
    "            ranking_2019 = selected_data_conflict['Conflict_Rank_2019'].values[0]\n",
    "            ranking_2023 = selected_data_conflict['Conflict_Rank_2023'].values[0]\n",
    "            change = ranking_2023 - ranking_2019\n",
    "            \n",
    "            if change == 0:\n",
    "                color = 'blue'\n",
    "            elif change > 0:\n",
    "                color = 'green'\n",
    "            else:\n",
    "                color = 'red' \n",
    "            \n",
    "            fig.add_trace(go.Scatter(\n",
    "                x = ['2019', '2023'],\n",
    "                y = [ranking_2019, ranking_2023],\n",
    "                mode = 'lines+markers',\n",
    "                marker = dict(color=color),\n",
    "                line = dict(color=color),\n",
    "                name = f'{country} Conflict ({ranking_2019} -> {ranking_2023})'\n",
    "            ), row=1, col=1)\n",
    "        \n",
    "        selected_data_pers = data_pers_combined[data_pers_combined['country'] == country]\n",
    "        \n",
    "        if len(selected_data_pers) > 0:\n",
    "            ranking_2019 = selected_data_pers['Rank_2019'].values[0]\n",
    "            ranking_2023 = selected_data_pers['Rank_2023'].values[0]\n",
    "            change = ranking_2023 - ranking_2019\n",
    "            \n",
    "            if change == 0:\n",
    "                color = 'blue'\n",
    "            elif change > 0:\n",
    "                color = 'red'\n",
    "            else:\n",
    "                color = 'green' \n",
    "            \n",
    "            fig.add_trace(go.Scatter(\n",
    "                x = ['2019', '2023'],\n",
    "                y = [ranking_2019, ranking_2023],\n",
    "                mode = 'lines+markers',\n",
    "                marker = dict(color=color),\n",
    "                line = dict(color=color),\n",
    "                name = f'{country} Press Freedom ({ranking_2019} -> {ranking_2023})'\n",
    "            ), row=2, col=1)\n",
    "        \n",
    "    if len(countries) == 1:\n",
    "        title = f'Verandering in Ranking voor {countries[0]}'\n",
    "    elif len(countries) == 2:\n",
    "        title = f'Verandering in Ranking voor {\" en \".join(countries)}'\n",
    "    elif len(countries) > 5:\n",
    "        title = f'Verandering in Ranking voor {len(countries)} landen'\n",
    "    else:\n",
    "        title = f'Verandering in Ranking voor {\", \".join(countries)}'\n",
    "        \n",
    "    fig.update_layout(\n",
    "        height=800,\n",
    "        title_text=title,\n",
    "        showlegend=True,\n",
    "    )\n",
    "    \n",
    "    fig.update_xaxes(title_text='Jaar', row=1, col=1)\n",
    "    fig.update_xaxes(title_text='Jaar', row=2, col=1)\n",
    "    fig.update_yaxes(title_text='Conflict Index Ranking', row=1, col=1)\n",
    "    fig.update_yaxes(title_text='Press Freedom Index Ranking', row=2, col=1)\n",
    "    \n",
    "    fig.show()\n",
    "\n",
    "dataset_dropdown = widgets.Dropdown(\n",
    "    options=['Conflict', 'Press Freedom'],\n",
    "    value='Conflict',\n",
    "    description='Dataset:'\n",
    ")\n",
    "\n",
    "country_dropdown = widgets.SelectMultiple(\n",
    "    options = data_conflict['country'].unique().tolist() if dataset_dropdown.value == 'Conflict' else data_pers_combined['country'].unique().tolist(),\n",
    "    description = 'Landen:',\n",
    "    disabled = False,\n",
    "    layout = widgets.Layout(height='200px', width='400px'),\n",
    ")\n",
    "\n",
    "search_text = widgets.Text(\n",
    "    value = '',\n",
    "    placeholder = 'Zoek landen',\n",
    "    description = 'Zoeken:',\n",
    "    disabled = False\n",
    ")\n",
    "\n",
    "def handle_search(change):\n",
    "    search_results = filter_countries(change.new, dataset_dropdown.value)\n",
    "    \n",
    "    selected_countries = list(country_dropdown.value)\n",
    "    country_dropdown.options = search_results\n",
    "    \n",
    "    country_dropdown.value = [country for country in selected_countries if country in search_results]\n",
    "\n",
    "def update_country_dropdown(change):\n",
    "    search_results = filter_countries(search_text.value, change.new)\n",
    "    country_dropdown.options = search_results\n",
    "    country_dropdown.value = []\n",
    "\n",
    "search_text.observe(handle_search, names='value')\n",
    "dataset_dropdown.observe(update_country_dropdown, names='value')\n",
    "\n",
    "display(dataset_dropdown)\n",
    "display(search_text)\n",
    "\n",
    "interact(plot_countries_ranking, countries=country_dropdown)"
   ],
   "outputs": [
    {
     "data": {
      "text/plain": [
       "Dropdown(description='Dataset:', options=('Conflict', 'Press Freedom'), value='Conflict')"
      ],
      "application/vnd.jupyter.widget-view+json": {
       "version_major": 2,
       "version_minor": 0,
       "model_id": "cca8794a80304c0f97e8a7d81a3b5f6f"
      }
     },
     "metadata": {},
     "output_type": "display_data"
    },
    {
     "data": {
      "text/plain": [
       "Text(value='', description='Zoeken:', placeholder='Zoek landen')"
      ],
      "application/vnd.jupyter.widget-view+json": {
       "version_major": 2,
       "version_minor": 0,
       "model_id": "e02590d8c7e843dea1357ad2c0c90905"
      }
     },
     "metadata": {},
     "output_type": "display_data"
    },
    {
     "data": {
      "text/plain": [
       "interactive(children=(SelectMultiple(description='Landen:', layout=Layout(height='200px', width='400px'), opti…"
      ],
      "application/vnd.jupyter.widget-view+json": {
       "version_major": 2,
       "version_minor": 0,
       "model_id": "5a1b53c7344c454fb66ea96ceceeece9"
      }
     },
     "metadata": {},
     "output_type": "display_data"
    },
    {
     "data": {
      "text/plain": [
       "<function __main__.plot_countries_ranking(countries)>"
      ]
     },
     "execution_count": 54,
     "metadata": {},
     "output_type": "execute_result"
    }
   ],
   "execution_count": 54
  },
  {
   "cell_type": "markdown",
   "metadata": {},
   "source": [
    "tekst"
   ]
  },
  {
   "cell_type": "code",
   "metadata": {
    "ExecuteTime": {
     "end_time": "2024-06-18T18:54:12.663255Z",
     "start_time": "2024-06-18T18:54:12.649754Z"
    }
   },
   "source": [
    "df = pd.DataFrame(data_conflict)\n",
    "\n",
    "data_conflict['Conflict_Rank_2019'] = data_conflict['Conflict_Rank_2023'] + data_conflict['Change_Conflict']\n",
    "\n",
    "conditions = [\n",
    "    (df['Change_Conflict'] > 0),\n",
    "    (df['Change_Conflict'] < 0),\n",
    "    (df['Change_Conflict'] == 0)\n",
    "]\n",
    "choices = ['Verslechterd', 'Verbeterd', 'Gelijk gebleven']\n",
    "df['Status'] = np.select(conditions, choices, default='Niet gedefinieerd')\n",
    "\n",
    "status_counts = df['Status'].value_counts()\n",
    "\n",
    "fig_status = go.Figure(data=[go.Pie(\n",
    "    labels=status_counts.index,\n",
    "    values=status_counts.values,\n",
    "    marker=dict(colors=['green', 'red', 'blue'])\n",
    ")])\n",
    "\n",
    "fig_status.update_layout(\n",
    "    title='Verandering in Conflict Index Rankings sinds 2019 per 2023',\n",
    "    legend_title='Status'\n",
    ")\n",
    "\n",
    "fig_status.show()"
   ],
   "outputs": [
    {
     "data": {
      "application/vnd.plotly.v1+json": {
       "data": [
        {
         "labels": [
          "Verbeterd",
          "Verslechterd",
          "Gelijk gebleven"
         ],
         "marker": {
          "colors": [
           "green",
           "red",
           "blue"
          ]
         },
         "values": [
          171,
          68,
          4
         ],
         "type": "pie"
        }
       ],
       "layout": {
        "template": {
         "data": {
          "histogram2dcontour": [
           {
            "type": "histogram2dcontour",
            "colorbar": {
             "outlinewidth": 0,
             "ticks": ""
            },
            "colorscale": [
             [
              0.0,
              "#0d0887"
             ],
             [
              0.1111111111111111,
              "#46039f"
             ],
             [
              0.2222222222222222,
              "#7201a8"
             ],
             [
              0.3333333333333333,
              "#9c179e"
             ],
             [
              0.4444444444444444,
              "#bd3786"
             ],
             [
              0.5555555555555556,
              "#d8576b"
             ],
             [
              0.6666666666666666,
              "#ed7953"
             ],
             [
              0.7777777777777778,
              "#fb9f3a"
             ],
             [
              0.8888888888888888,
              "#fdca26"
             ],
             [
              1.0,
              "#f0f921"
             ]
            ]
           }
          ],
          "choropleth": [
           {
            "type": "choropleth",
            "colorbar": {
             "outlinewidth": 0,
             "ticks": ""
            }
           }
          ],
          "histogram2d": [
           {
            "type": "histogram2d",
            "colorbar": {
             "outlinewidth": 0,
             "ticks": ""
            },
            "colorscale": [
             [
              0.0,
              "#0d0887"
             ],
             [
              0.1111111111111111,
              "#46039f"
             ],
             [
              0.2222222222222222,
              "#7201a8"
             ],
             [
              0.3333333333333333,
              "#9c179e"
             ],
             [
              0.4444444444444444,
              "#bd3786"
             ],
             [
              0.5555555555555556,
              "#d8576b"
             ],
             [
              0.6666666666666666,
              "#ed7953"
             ],
             [
              0.7777777777777778,
              "#fb9f3a"
             ],
             [
              0.8888888888888888,
              "#fdca26"
             ],
             [
              1.0,
              "#f0f921"
             ]
            ]
           }
          ],
          "heatmap": [
           {
            "type": "heatmap",
            "colorbar": {
             "outlinewidth": 0,
             "ticks": ""
            },
            "colorscale": [
             [
              0.0,
              "#0d0887"
             ],
             [
              0.1111111111111111,
              "#46039f"
             ],
             [
              0.2222222222222222,
              "#7201a8"
             ],
             [
              0.3333333333333333,
              "#9c179e"
             ],
             [
              0.4444444444444444,
              "#bd3786"
             ],
             [
              0.5555555555555556,
              "#d8576b"
             ],
             [
              0.6666666666666666,
              "#ed7953"
             ],
             [
              0.7777777777777778,
              "#fb9f3a"
             ],
             [
              0.8888888888888888,
              "#fdca26"
             ],
             [
              1.0,
              "#f0f921"
             ]
            ]
           }
          ],
          "heatmapgl": [
           {
            "type": "heatmapgl",
            "colorbar": {
             "outlinewidth": 0,
             "ticks": ""
            },
            "colorscale": [
             [
              0.0,
              "#0d0887"
             ],
             [
              0.1111111111111111,
              "#46039f"
             ],
             [
              0.2222222222222222,
              "#7201a8"
             ],
             [
              0.3333333333333333,
              "#9c179e"
             ],
             [
              0.4444444444444444,
              "#bd3786"
             ],
             [
              0.5555555555555556,
              "#d8576b"
             ],
             [
              0.6666666666666666,
              "#ed7953"
             ],
             [
              0.7777777777777778,
              "#fb9f3a"
             ],
             [
              0.8888888888888888,
              "#fdca26"
             ],
             [
              1.0,
              "#f0f921"
             ]
            ]
           }
          ],
          "contourcarpet": [
           {
            "type": "contourcarpet",
            "colorbar": {
             "outlinewidth": 0,
             "ticks": ""
            }
           }
          ],
          "contour": [
           {
            "type": "contour",
            "colorbar": {
             "outlinewidth": 0,
             "ticks": ""
            },
            "colorscale": [
             [
              0.0,
              "#0d0887"
             ],
             [
              0.1111111111111111,
              "#46039f"
             ],
             [
              0.2222222222222222,
              "#7201a8"
             ],
             [
              0.3333333333333333,
              "#9c179e"
             ],
             [
              0.4444444444444444,
              "#bd3786"
             ],
             [
              0.5555555555555556,
              "#d8576b"
             ],
             [
              0.6666666666666666,
              "#ed7953"
             ],
             [
              0.7777777777777778,
              "#fb9f3a"
             ],
             [
              0.8888888888888888,
              "#fdca26"
             ],
             [
              1.0,
              "#f0f921"
             ]
            ]
           }
          ],
          "surface": [
           {
            "type": "surface",
            "colorbar": {
             "outlinewidth": 0,
             "ticks": ""
            },
            "colorscale": [
             [
              0.0,
              "#0d0887"
             ],
             [
              0.1111111111111111,
              "#46039f"
             ],
             [
              0.2222222222222222,
              "#7201a8"
             ],
             [
              0.3333333333333333,
              "#9c179e"
             ],
             [
              0.4444444444444444,
              "#bd3786"
             ],
             [
              0.5555555555555556,
              "#d8576b"
             ],
             [
              0.6666666666666666,
              "#ed7953"
             ],
             [
              0.7777777777777778,
              "#fb9f3a"
             ],
             [
              0.8888888888888888,
              "#fdca26"
             ],
             [
              1.0,
              "#f0f921"
             ]
            ]
           }
          ],
          "mesh3d": [
           {
            "type": "mesh3d",
            "colorbar": {
             "outlinewidth": 0,
             "ticks": ""
            }
           }
          ],
          "scatter": [
           {
            "marker": {
             "line": {
              "color": "#283442"
             }
            },
            "type": "scatter"
           }
          ],
          "parcoords": [
           {
            "type": "parcoords",
            "line": {
             "colorbar": {
              "outlinewidth": 0,
              "ticks": ""
             }
            }
           }
          ],
          "scatterpolargl": [
           {
            "type": "scatterpolargl",
            "marker": {
             "colorbar": {
              "outlinewidth": 0,
              "ticks": ""
             }
            }
           }
          ],
          "bar": [
           {
            "error_x": {
             "color": "#f2f5fa"
            },
            "error_y": {
             "color": "#f2f5fa"
            },
            "marker": {
             "line": {
              "color": "rgb(17,17,17)",
              "width": 0.5
             },
             "pattern": {
              "fillmode": "overlay",
              "size": 10,
              "solidity": 0.2
             }
            },
            "type": "bar"
           }
          ],
          "scattergeo": [
           {
            "type": "scattergeo",
            "marker": {
             "colorbar": {
              "outlinewidth": 0,
              "ticks": ""
             }
            }
           }
          ],
          "scatterpolar": [
           {
            "type": "scatterpolar",
            "marker": {
             "colorbar": {
              "outlinewidth": 0,
              "ticks": ""
             }
            }
           }
          ],
          "histogram": [
           {
            "marker": {
             "pattern": {
              "fillmode": "overlay",
              "size": 10,
              "solidity": 0.2
             }
            },
            "type": "histogram"
           }
          ],
          "scattergl": [
           {
            "marker": {
             "line": {
              "color": "#283442"
             }
            },
            "type": "scattergl"
           }
          ],
          "scatter3d": [
           {
            "type": "scatter3d",
            "line": {
             "colorbar": {
              "outlinewidth": 0,
              "ticks": ""
             }
            },
            "marker": {
             "colorbar": {
              "outlinewidth": 0,
              "ticks": ""
             }
            }
           }
          ],
          "scattermapbox": [
           {
            "type": "scattermapbox",
            "marker": {
             "colorbar": {
              "outlinewidth": 0,
              "ticks": ""
             }
            }
           }
          ],
          "scatterternary": [
           {
            "type": "scatterternary",
            "marker": {
             "colorbar": {
              "outlinewidth": 0,
              "ticks": ""
             }
            }
           }
          ],
          "scattercarpet": [
           {
            "type": "scattercarpet",
            "marker": {
             "colorbar": {
              "outlinewidth": 0,
              "ticks": ""
             }
            }
           }
          ],
          "carpet": [
           {
            "aaxis": {
             "endlinecolor": "#A2B1C6",
             "gridcolor": "#506784",
             "linecolor": "#506784",
             "minorgridcolor": "#506784",
             "startlinecolor": "#A2B1C6"
            },
            "baxis": {
             "endlinecolor": "#A2B1C6",
             "gridcolor": "#506784",
             "linecolor": "#506784",
             "minorgridcolor": "#506784",
             "startlinecolor": "#A2B1C6"
            },
            "type": "carpet"
           }
          ],
          "table": [
           {
            "cells": {
             "fill": {
              "color": "#506784"
             },
             "line": {
              "color": "rgb(17,17,17)"
             }
            },
            "header": {
             "fill": {
              "color": "#2a3f5f"
             },
             "line": {
              "color": "rgb(17,17,17)"
             }
            },
            "type": "table"
           }
          ],
          "barpolar": [
           {
            "marker": {
             "line": {
              "color": "rgb(17,17,17)",
              "width": 0.5
             },
             "pattern": {
              "fillmode": "overlay",
              "size": 10,
              "solidity": 0.2
             }
            },
            "type": "barpolar"
           }
          ],
          "pie": [
           {
            "automargin": true,
            "type": "pie"
           }
          ]
         },
         "layout": {
          "autotypenumbers": "strict",
          "colorway": [
           "#636efa",
           "#EF553B",
           "#00cc96",
           "#ab63fa",
           "#FFA15A",
           "#19d3f3",
           "#FF6692",
           "#B6E880",
           "#FF97FF",
           "#FECB52"
          ],
          "font": {
           "color": "#f2f5fa"
          },
          "hovermode": "closest",
          "hoverlabel": {
           "align": "left"
          },
          "paper_bgcolor": "rgb(17,17,17)",
          "plot_bgcolor": "rgb(17,17,17)",
          "polar": {
           "bgcolor": "rgb(17,17,17)",
           "angularaxis": {
            "gridcolor": "#506784",
            "linecolor": "#506784",
            "ticks": ""
           },
           "radialaxis": {
            "gridcolor": "#506784",
            "linecolor": "#506784",
            "ticks": ""
           }
          },
          "ternary": {
           "bgcolor": "rgb(17,17,17)",
           "aaxis": {
            "gridcolor": "#506784",
            "linecolor": "#506784",
            "ticks": ""
           },
           "baxis": {
            "gridcolor": "#506784",
            "linecolor": "#506784",
            "ticks": ""
           },
           "caxis": {
            "gridcolor": "#506784",
            "linecolor": "#506784",
            "ticks": ""
           }
          },
          "coloraxis": {
           "colorbar": {
            "outlinewidth": 0,
            "ticks": ""
           }
          },
          "colorscale": {
           "sequential": [
            [
             0.0,
             "#0d0887"
            ],
            [
             0.1111111111111111,
             "#46039f"
            ],
            [
             0.2222222222222222,
             "#7201a8"
            ],
            [
             0.3333333333333333,
             "#9c179e"
            ],
            [
             0.4444444444444444,
             "#bd3786"
            ],
            [
             0.5555555555555556,
             "#d8576b"
            ],
            [
             0.6666666666666666,
             "#ed7953"
            ],
            [
             0.7777777777777778,
             "#fb9f3a"
            ],
            [
             0.8888888888888888,
             "#fdca26"
            ],
            [
             1.0,
             "#f0f921"
            ]
           ],
           "sequentialminus": [
            [
             0.0,
             "#0d0887"
            ],
            [
             0.1111111111111111,
             "#46039f"
            ],
            [
             0.2222222222222222,
             "#7201a8"
            ],
            [
             0.3333333333333333,
             "#9c179e"
            ],
            [
             0.4444444444444444,
             "#bd3786"
            ],
            [
             0.5555555555555556,
             "#d8576b"
            ],
            [
             0.6666666666666666,
             "#ed7953"
            ],
            [
             0.7777777777777778,
             "#fb9f3a"
            ],
            [
             0.8888888888888888,
             "#fdca26"
            ],
            [
             1.0,
             "#f0f921"
            ]
           ],
           "diverging": [
            [
             0,
             "#8e0152"
            ],
            [
             0.1,
             "#c51b7d"
            ],
            [
             0.2,
             "#de77ae"
            ],
            [
             0.3,
             "#f1b6da"
            ],
            [
             0.4,
             "#fde0ef"
            ],
            [
             0.5,
             "#f7f7f7"
            ],
            [
             0.6,
             "#e6f5d0"
            ],
            [
             0.7,
             "#b8e186"
            ],
            [
             0.8,
             "#7fbc41"
            ],
            [
             0.9,
             "#4d9221"
            ],
            [
             1,
             "#276419"
            ]
           ]
          },
          "xaxis": {
           "gridcolor": "#283442",
           "linecolor": "#506784",
           "ticks": "",
           "title": {
            "standoff": 15
           },
           "zerolinecolor": "#283442",
           "automargin": true,
           "zerolinewidth": 2
          },
          "yaxis": {
           "gridcolor": "#283442",
           "linecolor": "#506784",
           "ticks": "",
           "title": {
            "standoff": 15
           },
           "zerolinecolor": "#283442",
           "automargin": true,
           "zerolinewidth": 2
          },
          "scene": {
           "xaxis": {
            "backgroundcolor": "rgb(17,17,17)",
            "gridcolor": "#506784",
            "linecolor": "#506784",
            "showbackground": true,
            "ticks": "",
            "zerolinecolor": "#C8D4E3",
            "gridwidth": 2
           },
           "yaxis": {
            "backgroundcolor": "rgb(17,17,17)",
            "gridcolor": "#506784",
            "linecolor": "#506784",
            "showbackground": true,
            "ticks": "",
            "zerolinecolor": "#C8D4E3",
            "gridwidth": 2
           },
           "zaxis": {
            "backgroundcolor": "rgb(17,17,17)",
            "gridcolor": "#506784",
            "linecolor": "#506784",
            "showbackground": true,
            "ticks": "",
            "zerolinecolor": "#C8D4E3",
            "gridwidth": 2
           }
          },
          "shapedefaults": {
           "line": {
            "color": "#f2f5fa"
           }
          },
          "annotationdefaults": {
           "arrowcolor": "#f2f5fa",
           "arrowhead": 0,
           "arrowwidth": 1
          },
          "geo": {
           "bgcolor": "rgb(17,17,17)",
           "landcolor": "rgb(17,17,17)",
           "subunitcolor": "#506784",
           "showland": true,
           "showlakes": true,
           "lakecolor": "rgb(17,17,17)"
          },
          "title": {
           "x": 0.05
          },
          "updatemenudefaults": {
           "bgcolor": "#506784",
           "borderwidth": 0
          },
          "sliderdefaults": {
           "bgcolor": "#C8D4E3",
           "borderwidth": 1,
           "bordercolor": "rgb(17,17,17)",
           "tickwidth": 0
          },
          "mapbox": {
           "style": "dark"
          }
         }
        },
        "title": {
         "text": "Verandering in Conflict Index Rankings sinds 2019 per 2023"
        },
        "legend": {
         "title": {
          "text": "Status"
         }
        }
       },
       "config": {
        "plotlyServerURL": "https://plot.ly"
       }
      },
      "text/html": [
       "<div>                            <div id=\"5e648a7e-c202-4c8b-83b6-7955c81ebac5\" class=\"plotly-graph-div\" style=\"height:525px; width:100%;\"></div>            <script type=\"text/javascript\">                require([\"plotly\"], function(Plotly) {                    window.PLOTLYENV=window.PLOTLYENV || {};                                    if (document.getElementById(\"5e648a7e-c202-4c8b-83b6-7955c81ebac5\")) {                    Plotly.newPlot(                        \"5e648a7e-c202-4c8b-83b6-7955c81ebac5\",                        [{\"labels\":[\"Verbeterd\",\"Verslechterd\",\"Gelijk gebleven\"],\"marker\":{\"colors\":[\"green\",\"red\",\"blue\"]},\"values\":[171,68,4],\"type\":\"pie\"}],                        {\"template\":{\"data\":{\"histogram2dcontour\":[{\"type\":\"histogram2dcontour\",\"colorbar\":{\"outlinewidth\":0,\"ticks\":\"\"},\"colorscale\":[[0.0,\"#0d0887\"],[0.1111111111111111,\"#46039f\"],[0.2222222222222222,\"#7201a8\"],[0.3333333333333333,\"#9c179e\"],[0.4444444444444444,\"#bd3786\"],[0.5555555555555556,\"#d8576b\"],[0.6666666666666666,\"#ed7953\"],[0.7777777777777778,\"#fb9f3a\"],[0.8888888888888888,\"#fdca26\"],[1.0,\"#f0f921\"]]}],\"choropleth\":[{\"type\":\"choropleth\",\"colorbar\":{\"outlinewidth\":0,\"ticks\":\"\"}}],\"histogram2d\":[{\"type\":\"histogram2d\",\"colorbar\":{\"outlinewidth\":0,\"ticks\":\"\"},\"colorscale\":[[0.0,\"#0d0887\"],[0.1111111111111111,\"#46039f\"],[0.2222222222222222,\"#7201a8\"],[0.3333333333333333,\"#9c179e\"],[0.4444444444444444,\"#bd3786\"],[0.5555555555555556,\"#d8576b\"],[0.6666666666666666,\"#ed7953\"],[0.7777777777777778,\"#fb9f3a\"],[0.8888888888888888,\"#fdca26\"],[1.0,\"#f0f921\"]]}],\"heatmap\":[{\"type\":\"heatmap\",\"colorbar\":{\"outlinewidth\":0,\"ticks\":\"\"},\"colorscale\":[[0.0,\"#0d0887\"],[0.1111111111111111,\"#46039f\"],[0.2222222222222222,\"#7201a8\"],[0.3333333333333333,\"#9c179e\"],[0.4444444444444444,\"#bd3786\"],[0.5555555555555556,\"#d8576b\"],[0.6666666666666666,\"#ed7953\"],[0.7777777777777778,\"#fb9f3a\"],[0.8888888888888888,\"#fdca26\"],[1.0,\"#f0f921\"]]}],\"heatmapgl\":[{\"type\":\"heatmapgl\",\"colorbar\":{\"outlinewidth\":0,\"ticks\":\"\"},\"colorscale\":[[0.0,\"#0d0887\"],[0.1111111111111111,\"#46039f\"],[0.2222222222222222,\"#7201a8\"],[0.3333333333333333,\"#9c179e\"],[0.4444444444444444,\"#bd3786\"],[0.5555555555555556,\"#d8576b\"],[0.6666666666666666,\"#ed7953\"],[0.7777777777777778,\"#fb9f3a\"],[0.8888888888888888,\"#fdca26\"],[1.0,\"#f0f921\"]]}],\"contourcarpet\":[{\"type\":\"contourcarpet\",\"colorbar\":{\"outlinewidth\":0,\"ticks\":\"\"}}],\"contour\":[{\"type\":\"contour\",\"colorbar\":{\"outlinewidth\":0,\"ticks\":\"\"},\"colorscale\":[[0.0,\"#0d0887\"],[0.1111111111111111,\"#46039f\"],[0.2222222222222222,\"#7201a8\"],[0.3333333333333333,\"#9c179e\"],[0.4444444444444444,\"#bd3786\"],[0.5555555555555556,\"#d8576b\"],[0.6666666666666666,\"#ed7953\"],[0.7777777777777778,\"#fb9f3a\"],[0.8888888888888888,\"#fdca26\"],[1.0,\"#f0f921\"]]}],\"surface\":[{\"type\":\"surface\",\"colorbar\":{\"outlinewidth\":0,\"ticks\":\"\"},\"colorscale\":[[0.0,\"#0d0887\"],[0.1111111111111111,\"#46039f\"],[0.2222222222222222,\"#7201a8\"],[0.3333333333333333,\"#9c179e\"],[0.4444444444444444,\"#bd3786\"],[0.5555555555555556,\"#d8576b\"],[0.6666666666666666,\"#ed7953\"],[0.7777777777777778,\"#fb9f3a\"],[0.8888888888888888,\"#fdca26\"],[1.0,\"#f0f921\"]]}],\"mesh3d\":[{\"type\":\"mesh3d\",\"colorbar\":{\"outlinewidth\":0,\"ticks\":\"\"}}],\"scatter\":[{\"marker\":{\"line\":{\"color\":\"#283442\"}},\"type\":\"scatter\"}],\"parcoords\":[{\"type\":\"parcoords\",\"line\":{\"colorbar\":{\"outlinewidth\":0,\"ticks\":\"\"}}}],\"scatterpolargl\":[{\"type\":\"scatterpolargl\",\"marker\":{\"colorbar\":{\"outlinewidth\":0,\"ticks\":\"\"}}}],\"bar\":[{\"error_x\":{\"color\":\"#f2f5fa\"},\"error_y\":{\"color\":\"#f2f5fa\"},\"marker\":{\"line\":{\"color\":\"rgb(17,17,17)\",\"width\":0.5},\"pattern\":{\"fillmode\":\"overlay\",\"size\":10,\"solidity\":0.2}},\"type\":\"bar\"}],\"scattergeo\":[{\"type\":\"scattergeo\",\"marker\":{\"colorbar\":{\"outlinewidth\":0,\"ticks\":\"\"}}}],\"scatterpolar\":[{\"type\":\"scatterpolar\",\"marker\":{\"colorbar\":{\"outlinewidth\":0,\"ticks\":\"\"}}}],\"histogram\":[{\"marker\":{\"pattern\":{\"fillmode\":\"overlay\",\"size\":10,\"solidity\":0.2}},\"type\":\"histogram\"}],\"scattergl\":[{\"marker\":{\"line\":{\"color\":\"#283442\"}},\"type\":\"scattergl\"}],\"scatter3d\":[{\"type\":\"scatter3d\",\"line\":{\"colorbar\":{\"outlinewidth\":0,\"ticks\":\"\"}},\"marker\":{\"colorbar\":{\"outlinewidth\":0,\"ticks\":\"\"}}}],\"scattermapbox\":[{\"type\":\"scattermapbox\",\"marker\":{\"colorbar\":{\"outlinewidth\":0,\"ticks\":\"\"}}}],\"scatterternary\":[{\"type\":\"scatterternary\",\"marker\":{\"colorbar\":{\"outlinewidth\":0,\"ticks\":\"\"}}}],\"scattercarpet\":[{\"type\":\"scattercarpet\",\"marker\":{\"colorbar\":{\"outlinewidth\":0,\"ticks\":\"\"}}}],\"carpet\":[{\"aaxis\":{\"endlinecolor\":\"#A2B1C6\",\"gridcolor\":\"#506784\",\"linecolor\":\"#506784\",\"minorgridcolor\":\"#506784\",\"startlinecolor\":\"#A2B1C6\"},\"baxis\":{\"endlinecolor\":\"#A2B1C6\",\"gridcolor\":\"#506784\",\"linecolor\":\"#506784\",\"minorgridcolor\":\"#506784\",\"startlinecolor\":\"#A2B1C6\"},\"type\":\"carpet\"}],\"table\":[{\"cells\":{\"fill\":{\"color\":\"#506784\"},\"line\":{\"color\":\"rgb(17,17,17)\"}},\"header\":{\"fill\":{\"color\":\"#2a3f5f\"},\"line\":{\"color\":\"rgb(17,17,17)\"}},\"type\":\"table\"}],\"barpolar\":[{\"marker\":{\"line\":{\"color\":\"rgb(17,17,17)\",\"width\":0.5},\"pattern\":{\"fillmode\":\"overlay\",\"size\":10,\"solidity\":0.2}},\"type\":\"barpolar\"}],\"pie\":[{\"automargin\":true,\"type\":\"pie\"}]},\"layout\":{\"autotypenumbers\":\"strict\",\"colorway\":[\"#636efa\",\"#EF553B\",\"#00cc96\",\"#ab63fa\",\"#FFA15A\",\"#19d3f3\",\"#FF6692\",\"#B6E880\",\"#FF97FF\",\"#FECB52\"],\"font\":{\"color\":\"#f2f5fa\"},\"hovermode\":\"closest\",\"hoverlabel\":{\"align\":\"left\"},\"paper_bgcolor\":\"rgb(17,17,17)\",\"plot_bgcolor\":\"rgb(17,17,17)\",\"polar\":{\"bgcolor\":\"rgb(17,17,17)\",\"angularaxis\":{\"gridcolor\":\"#506784\",\"linecolor\":\"#506784\",\"ticks\":\"\"},\"radialaxis\":{\"gridcolor\":\"#506784\",\"linecolor\":\"#506784\",\"ticks\":\"\"}},\"ternary\":{\"bgcolor\":\"rgb(17,17,17)\",\"aaxis\":{\"gridcolor\":\"#506784\",\"linecolor\":\"#506784\",\"ticks\":\"\"},\"baxis\":{\"gridcolor\":\"#506784\",\"linecolor\":\"#506784\",\"ticks\":\"\"},\"caxis\":{\"gridcolor\":\"#506784\",\"linecolor\":\"#506784\",\"ticks\":\"\"}},\"coloraxis\":{\"colorbar\":{\"outlinewidth\":0,\"ticks\":\"\"}},\"colorscale\":{\"sequential\":[[0.0,\"#0d0887\"],[0.1111111111111111,\"#46039f\"],[0.2222222222222222,\"#7201a8\"],[0.3333333333333333,\"#9c179e\"],[0.4444444444444444,\"#bd3786\"],[0.5555555555555556,\"#d8576b\"],[0.6666666666666666,\"#ed7953\"],[0.7777777777777778,\"#fb9f3a\"],[0.8888888888888888,\"#fdca26\"],[1.0,\"#f0f921\"]],\"sequentialminus\":[[0.0,\"#0d0887\"],[0.1111111111111111,\"#46039f\"],[0.2222222222222222,\"#7201a8\"],[0.3333333333333333,\"#9c179e\"],[0.4444444444444444,\"#bd3786\"],[0.5555555555555556,\"#d8576b\"],[0.6666666666666666,\"#ed7953\"],[0.7777777777777778,\"#fb9f3a\"],[0.8888888888888888,\"#fdca26\"],[1.0,\"#f0f921\"]],\"diverging\":[[0,\"#8e0152\"],[0.1,\"#c51b7d\"],[0.2,\"#de77ae\"],[0.3,\"#f1b6da\"],[0.4,\"#fde0ef\"],[0.5,\"#f7f7f7\"],[0.6,\"#e6f5d0\"],[0.7,\"#b8e186\"],[0.8,\"#7fbc41\"],[0.9,\"#4d9221\"],[1,\"#276419\"]]},\"xaxis\":{\"gridcolor\":\"#283442\",\"linecolor\":\"#506784\",\"ticks\":\"\",\"title\":{\"standoff\":15},\"zerolinecolor\":\"#283442\",\"automargin\":true,\"zerolinewidth\":2},\"yaxis\":{\"gridcolor\":\"#283442\",\"linecolor\":\"#506784\",\"ticks\":\"\",\"title\":{\"standoff\":15},\"zerolinecolor\":\"#283442\",\"automargin\":true,\"zerolinewidth\":2},\"scene\":{\"xaxis\":{\"backgroundcolor\":\"rgb(17,17,17)\",\"gridcolor\":\"#506784\",\"linecolor\":\"#506784\",\"showbackground\":true,\"ticks\":\"\",\"zerolinecolor\":\"#C8D4E3\",\"gridwidth\":2},\"yaxis\":{\"backgroundcolor\":\"rgb(17,17,17)\",\"gridcolor\":\"#506784\",\"linecolor\":\"#506784\",\"showbackground\":true,\"ticks\":\"\",\"zerolinecolor\":\"#C8D4E3\",\"gridwidth\":2},\"zaxis\":{\"backgroundcolor\":\"rgb(17,17,17)\",\"gridcolor\":\"#506784\",\"linecolor\":\"#506784\",\"showbackground\":true,\"ticks\":\"\",\"zerolinecolor\":\"#C8D4E3\",\"gridwidth\":2}},\"shapedefaults\":{\"line\":{\"color\":\"#f2f5fa\"}},\"annotationdefaults\":{\"arrowcolor\":\"#f2f5fa\",\"arrowhead\":0,\"arrowwidth\":1},\"geo\":{\"bgcolor\":\"rgb(17,17,17)\",\"landcolor\":\"rgb(17,17,17)\",\"subunitcolor\":\"#506784\",\"showland\":true,\"showlakes\":true,\"lakecolor\":\"rgb(17,17,17)\"},\"title\":{\"x\":0.05},\"updatemenudefaults\":{\"bgcolor\":\"#506784\",\"borderwidth\":0},\"sliderdefaults\":{\"bgcolor\":\"#C8D4E3\",\"borderwidth\":1,\"bordercolor\":\"rgb(17,17,17)\",\"tickwidth\":0},\"mapbox\":{\"style\":\"dark\"}}},\"title\":{\"text\":\"Verandering in Conflict Index Rankings sinds 2019 per 2023\"},\"legend\":{\"title\":{\"text\":\"Status\"}}},                        {\"responsive\": true}                    ).then(function(){\n",
       "                            \n",
       "var gd = document.getElementById('5e648a7e-c202-4c8b-83b6-7955c81ebac5');\n",
       "var x = new MutationObserver(function (mutations, observer) {{\n",
       "        var display = window.getComputedStyle(gd).display;\n",
       "        if (!display || display === 'none') {{\n",
       "            console.log([gd, 'removed!']);\n",
       "            Plotly.purge(gd);\n",
       "            observer.disconnect();\n",
       "        }}\n",
       "}});\n",
       "\n",
       "// Listen for the removal of the full notebook cells\n",
       "var notebookContainer = gd.closest('#notebook-container');\n",
       "if (notebookContainer) {{\n",
       "    x.observe(notebookContainer, {childList: true});\n",
       "}}\n",
       "\n",
       "// Listen for the clearing of the current output cell\n",
       "var outputEl = gd.closest('.output');\n",
       "if (outputEl) {{\n",
       "    x.observe(outputEl, {childList: true});\n",
       "}}\n",
       "\n",
       "                        })                };                });            </script>        </div>"
      ]
     },
     "metadata": {},
     "output_type": "display_data"
    }
   ],
   "execution_count": 55
  },
  {
   "cell_type": "markdown",
   "metadata": {},
   "source": [
    "tekst"
   ]
  },
  {
   "cell_type": "code",
   "metadata": {
    "ExecuteTime": {
     "end_time": "2024-06-18T18:54:12.678757Z",
     "start_time": "2024-06-18T18:54:12.664758Z"
    }
   },
   "source": [
    "data_pers_combined['Change'] = data_pers_combined['Rank_2023'] - data_pers_combined['Rank_2019']\n",
    "\n",
    "conditions = [\n",
    "    (data_pers_combined['Change'] > 0),\n",
    "    (data_pers_combined['Change'] < 0),\n",
    "    (data_pers_combined['Change'] == 0)\n",
    "]\n",
    "choices = ['Verbeterd', 'Verslechterd', 'Gelijk gebleven']\n",
    "data_pers_combined['Status'] = np.select(conditions, choices, default='Niet gedefinieerd')\n",
    "\n",
    "status_counts = data_pers_combined['Status'].value_counts()\n",
    "\n",
    "fig_status = go.Figure(data=[go.Pie(\n",
    "    labels=status_counts.index,\n",
    "    values=status_counts.values,\n",
    "    marker=dict(colors=['green', 'red', 'blue'])\n",
    ")])\n",
    "\n",
    "fig_status.update_layout(\n",
    "    title='Verandering in Persvrijheidsindex Rankings sinds 2019 per 2023',\n",
    "    legend_title='Status'\n",
    ")\n",
    "\n",
    "fig_status.show()"
   ],
   "outputs": [
    {
     "data": {
      "application/vnd.plotly.v1+json": {
       "data": [
        {
         "labels": [
          "Verbeterd",
          "Verslechterd",
          "Gelijk gebleven"
         ],
         "marker": {
          "colors": [
           "green",
           "red",
           "blue"
          ]
         },
         "values": [
          85,
          77,
          3
         ],
         "type": "pie"
        }
       ],
       "layout": {
        "template": {
         "data": {
          "histogram2dcontour": [
           {
            "type": "histogram2dcontour",
            "colorbar": {
             "outlinewidth": 0,
             "ticks": ""
            },
            "colorscale": [
             [
              0.0,
              "#0d0887"
             ],
             [
              0.1111111111111111,
              "#46039f"
             ],
             [
              0.2222222222222222,
              "#7201a8"
             ],
             [
              0.3333333333333333,
              "#9c179e"
             ],
             [
              0.4444444444444444,
              "#bd3786"
             ],
             [
              0.5555555555555556,
              "#d8576b"
             ],
             [
              0.6666666666666666,
              "#ed7953"
             ],
             [
              0.7777777777777778,
              "#fb9f3a"
             ],
             [
              0.8888888888888888,
              "#fdca26"
             ],
             [
              1.0,
              "#f0f921"
             ]
            ]
           }
          ],
          "choropleth": [
           {
            "type": "choropleth",
            "colorbar": {
             "outlinewidth": 0,
             "ticks": ""
            }
           }
          ],
          "histogram2d": [
           {
            "type": "histogram2d",
            "colorbar": {
             "outlinewidth": 0,
             "ticks": ""
            },
            "colorscale": [
             [
              0.0,
              "#0d0887"
             ],
             [
              0.1111111111111111,
              "#46039f"
             ],
             [
              0.2222222222222222,
              "#7201a8"
             ],
             [
              0.3333333333333333,
              "#9c179e"
             ],
             [
              0.4444444444444444,
              "#bd3786"
             ],
             [
              0.5555555555555556,
              "#d8576b"
             ],
             [
              0.6666666666666666,
              "#ed7953"
             ],
             [
              0.7777777777777778,
              "#fb9f3a"
             ],
             [
              0.8888888888888888,
              "#fdca26"
             ],
             [
              1.0,
              "#f0f921"
             ]
            ]
           }
          ],
          "heatmap": [
           {
            "type": "heatmap",
            "colorbar": {
             "outlinewidth": 0,
             "ticks": ""
            },
            "colorscale": [
             [
              0.0,
              "#0d0887"
             ],
             [
              0.1111111111111111,
              "#46039f"
             ],
             [
              0.2222222222222222,
              "#7201a8"
             ],
             [
              0.3333333333333333,
              "#9c179e"
             ],
             [
              0.4444444444444444,
              "#bd3786"
             ],
             [
              0.5555555555555556,
              "#d8576b"
             ],
             [
              0.6666666666666666,
              "#ed7953"
             ],
             [
              0.7777777777777778,
              "#fb9f3a"
             ],
             [
              0.8888888888888888,
              "#fdca26"
             ],
             [
              1.0,
              "#f0f921"
             ]
            ]
           }
          ],
          "heatmapgl": [
           {
            "type": "heatmapgl",
            "colorbar": {
             "outlinewidth": 0,
             "ticks": ""
            },
            "colorscale": [
             [
              0.0,
              "#0d0887"
             ],
             [
              0.1111111111111111,
              "#46039f"
             ],
             [
              0.2222222222222222,
              "#7201a8"
             ],
             [
              0.3333333333333333,
              "#9c179e"
             ],
             [
              0.4444444444444444,
              "#bd3786"
             ],
             [
              0.5555555555555556,
              "#d8576b"
             ],
             [
              0.6666666666666666,
              "#ed7953"
             ],
             [
              0.7777777777777778,
              "#fb9f3a"
             ],
             [
              0.8888888888888888,
              "#fdca26"
             ],
             [
              1.0,
              "#f0f921"
             ]
            ]
           }
          ],
          "contourcarpet": [
           {
            "type": "contourcarpet",
            "colorbar": {
             "outlinewidth": 0,
             "ticks": ""
            }
           }
          ],
          "contour": [
           {
            "type": "contour",
            "colorbar": {
             "outlinewidth": 0,
             "ticks": ""
            },
            "colorscale": [
             [
              0.0,
              "#0d0887"
             ],
             [
              0.1111111111111111,
              "#46039f"
             ],
             [
              0.2222222222222222,
              "#7201a8"
             ],
             [
              0.3333333333333333,
              "#9c179e"
             ],
             [
              0.4444444444444444,
              "#bd3786"
             ],
             [
              0.5555555555555556,
              "#d8576b"
             ],
             [
              0.6666666666666666,
              "#ed7953"
             ],
             [
              0.7777777777777778,
              "#fb9f3a"
             ],
             [
              0.8888888888888888,
              "#fdca26"
             ],
             [
              1.0,
              "#f0f921"
             ]
            ]
           }
          ],
          "surface": [
           {
            "type": "surface",
            "colorbar": {
             "outlinewidth": 0,
             "ticks": ""
            },
            "colorscale": [
             [
              0.0,
              "#0d0887"
             ],
             [
              0.1111111111111111,
              "#46039f"
             ],
             [
              0.2222222222222222,
              "#7201a8"
             ],
             [
              0.3333333333333333,
              "#9c179e"
             ],
             [
              0.4444444444444444,
              "#bd3786"
             ],
             [
              0.5555555555555556,
              "#d8576b"
             ],
             [
              0.6666666666666666,
              "#ed7953"
             ],
             [
              0.7777777777777778,
              "#fb9f3a"
             ],
             [
              0.8888888888888888,
              "#fdca26"
             ],
             [
              1.0,
              "#f0f921"
             ]
            ]
           }
          ],
          "mesh3d": [
           {
            "type": "mesh3d",
            "colorbar": {
             "outlinewidth": 0,
             "ticks": ""
            }
           }
          ],
          "scatter": [
           {
            "marker": {
             "line": {
              "color": "#283442"
             }
            },
            "type": "scatter"
           }
          ],
          "parcoords": [
           {
            "type": "parcoords",
            "line": {
             "colorbar": {
              "outlinewidth": 0,
              "ticks": ""
             }
            }
           }
          ],
          "scatterpolargl": [
           {
            "type": "scatterpolargl",
            "marker": {
             "colorbar": {
              "outlinewidth": 0,
              "ticks": ""
             }
            }
           }
          ],
          "bar": [
           {
            "error_x": {
             "color": "#f2f5fa"
            },
            "error_y": {
             "color": "#f2f5fa"
            },
            "marker": {
             "line": {
              "color": "rgb(17,17,17)",
              "width": 0.5
             },
             "pattern": {
              "fillmode": "overlay",
              "size": 10,
              "solidity": 0.2
             }
            },
            "type": "bar"
           }
          ],
          "scattergeo": [
           {
            "type": "scattergeo",
            "marker": {
             "colorbar": {
              "outlinewidth": 0,
              "ticks": ""
             }
            }
           }
          ],
          "scatterpolar": [
           {
            "type": "scatterpolar",
            "marker": {
             "colorbar": {
              "outlinewidth": 0,
              "ticks": ""
             }
            }
           }
          ],
          "histogram": [
           {
            "marker": {
             "pattern": {
              "fillmode": "overlay",
              "size": 10,
              "solidity": 0.2
             }
            },
            "type": "histogram"
           }
          ],
          "scattergl": [
           {
            "marker": {
             "line": {
              "color": "#283442"
             }
            },
            "type": "scattergl"
           }
          ],
          "scatter3d": [
           {
            "type": "scatter3d",
            "line": {
             "colorbar": {
              "outlinewidth": 0,
              "ticks": ""
             }
            },
            "marker": {
             "colorbar": {
              "outlinewidth": 0,
              "ticks": ""
             }
            }
           }
          ],
          "scattermapbox": [
           {
            "type": "scattermapbox",
            "marker": {
             "colorbar": {
              "outlinewidth": 0,
              "ticks": ""
             }
            }
           }
          ],
          "scatterternary": [
           {
            "type": "scatterternary",
            "marker": {
             "colorbar": {
              "outlinewidth": 0,
              "ticks": ""
             }
            }
           }
          ],
          "scattercarpet": [
           {
            "type": "scattercarpet",
            "marker": {
             "colorbar": {
              "outlinewidth": 0,
              "ticks": ""
             }
            }
           }
          ],
          "carpet": [
           {
            "aaxis": {
             "endlinecolor": "#A2B1C6",
             "gridcolor": "#506784",
             "linecolor": "#506784",
             "minorgridcolor": "#506784",
             "startlinecolor": "#A2B1C6"
            },
            "baxis": {
             "endlinecolor": "#A2B1C6",
             "gridcolor": "#506784",
             "linecolor": "#506784",
             "minorgridcolor": "#506784",
             "startlinecolor": "#A2B1C6"
            },
            "type": "carpet"
           }
          ],
          "table": [
           {
            "cells": {
             "fill": {
              "color": "#506784"
             },
             "line": {
              "color": "rgb(17,17,17)"
             }
            },
            "header": {
             "fill": {
              "color": "#2a3f5f"
             },
             "line": {
              "color": "rgb(17,17,17)"
             }
            },
            "type": "table"
           }
          ],
          "barpolar": [
           {
            "marker": {
             "line": {
              "color": "rgb(17,17,17)",
              "width": 0.5
             },
             "pattern": {
              "fillmode": "overlay",
              "size": 10,
              "solidity": 0.2
             }
            },
            "type": "barpolar"
           }
          ],
          "pie": [
           {
            "automargin": true,
            "type": "pie"
           }
          ]
         },
         "layout": {
          "autotypenumbers": "strict",
          "colorway": [
           "#636efa",
           "#EF553B",
           "#00cc96",
           "#ab63fa",
           "#FFA15A",
           "#19d3f3",
           "#FF6692",
           "#B6E880",
           "#FF97FF",
           "#FECB52"
          ],
          "font": {
           "color": "#f2f5fa"
          },
          "hovermode": "closest",
          "hoverlabel": {
           "align": "left"
          },
          "paper_bgcolor": "rgb(17,17,17)",
          "plot_bgcolor": "rgb(17,17,17)",
          "polar": {
           "bgcolor": "rgb(17,17,17)",
           "angularaxis": {
            "gridcolor": "#506784",
            "linecolor": "#506784",
            "ticks": ""
           },
           "radialaxis": {
            "gridcolor": "#506784",
            "linecolor": "#506784",
            "ticks": ""
           }
          },
          "ternary": {
           "bgcolor": "rgb(17,17,17)",
           "aaxis": {
            "gridcolor": "#506784",
            "linecolor": "#506784",
            "ticks": ""
           },
           "baxis": {
            "gridcolor": "#506784",
            "linecolor": "#506784",
            "ticks": ""
           },
           "caxis": {
            "gridcolor": "#506784",
            "linecolor": "#506784",
            "ticks": ""
           }
          },
          "coloraxis": {
           "colorbar": {
            "outlinewidth": 0,
            "ticks": ""
           }
          },
          "colorscale": {
           "sequential": [
            [
             0.0,
             "#0d0887"
            ],
            [
             0.1111111111111111,
             "#46039f"
            ],
            [
             0.2222222222222222,
             "#7201a8"
            ],
            [
             0.3333333333333333,
             "#9c179e"
            ],
            [
             0.4444444444444444,
             "#bd3786"
            ],
            [
             0.5555555555555556,
             "#d8576b"
            ],
            [
             0.6666666666666666,
             "#ed7953"
            ],
            [
             0.7777777777777778,
             "#fb9f3a"
            ],
            [
             0.8888888888888888,
             "#fdca26"
            ],
            [
             1.0,
             "#f0f921"
            ]
           ],
           "sequentialminus": [
            [
             0.0,
             "#0d0887"
            ],
            [
             0.1111111111111111,
             "#46039f"
            ],
            [
             0.2222222222222222,
             "#7201a8"
            ],
            [
             0.3333333333333333,
             "#9c179e"
            ],
            [
             0.4444444444444444,
             "#bd3786"
            ],
            [
             0.5555555555555556,
             "#d8576b"
            ],
            [
             0.6666666666666666,
             "#ed7953"
            ],
            [
             0.7777777777777778,
             "#fb9f3a"
            ],
            [
             0.8888888888888888,
             "#fdca26"
            ],
            [
             1.0,
             "#f0f921"
            ]
           ],
           "diverging": [
            [
             0,
             "#8e0152"
            ],
            [
             0.1,
             "#c51b7d"
            ],
            [
             0.2,
             "#de77ae"
            ],
            [
             0.3,
             "#f1b6da"
            ],
            [
             0.4,
             "#fde0ef"
            ],
            [
             0.5,
             "#f7f7f7"
            ],
            [
             0.6,
             "#e6f5d0"
            ],
            [
             0.7,
             "#b8e186"
            ],
            [
             0.8,
             "#7fbc41"
            ],
            [
             0.9,
             "#4d9221"
            ],
            [
             1,
             "#276419"
            ]
           ]
          },
          "xaxis": {
           "gridcolor": "#283442",
           "linecolor": "#506784",
           "ticks": "",
           "title": {
            "standoff": 15
           },
           "zerolinecolor": "#283442",
           "automargin": true,
           "zerolinewidth": 2
          },
          "yaxis": {
           "gridcolor": "#283442",
           "linecolor": "#506784",
           "ticks": "",
           "title": {
            "standoff": 15
           },
           "zerolinecolor": "#283442",
           "automargin": true,
           "zerolinewidth": 2
          },
          "scene": {
           "xaxis": {
            "backgroundcolor": "rgb(17,17,17)",
            "gridcolor": "#506784",
            "linecolor": "#506784",
            "showbackground": true,
            "ticks": "",
            "zerolinecolor": "#C8D4E3",
            "gridwidth": 2
           },
           "yaxis": {
            "backgroundcolor": "rgb(17,17,17)",
            "gridcolor": "#506784",
            "linecolor": "#506784",
            "showbackground": true,
            "ticks": "",
            "zerolinecolor": "#C8D4E3",
            "gridwidth": 2
           },
           "zaxis": {
            "backgroundcolor": "rgb(17,17,17)",
            "gridcolor": "#506784",
            "linecolor": "#506784",
            "showbackground": true,
            "ticks": "",
            "zerolinecolor": "#C8D4E3",
            "gridwidth": 2
           }
          },
          "shapedefaults": {
           "line": {
            "color": "#f2f5fa"
           }
          },
          "annotationdefaults": {
           "arrowcolor": "#f2f5fa",
           "arrowhead": 0,
           "arrowwidth": 1
          },
          "geo": {
           "bgcolor": "rgb(17,17,17)",
           "landcolor": "rgb(17,17,17)",
           "subunitcolor": "#506784",
           "showland": true,
           "showlakes": true,
           "lakecolor": "rgb(17,17,17)"
          },
          "title": {
           "x": 0.05
          },
          "updatemenudefaults": {
           "bgcolor": "#506784",
           "borderwidth": 0
          },
          "sliderdefaults": {
           "bgcolor": "#C8D4E3",
           "borderwidth": 1,
           "bordercolor": "rgb(17,17,17)",
           "tickwidth": 0
          },
          "mapbox": {
           "style": "dark"
          }
         }
        },
        "title": {
         "text": "Verandering in Persvrijheidsindex Rankings sinds 2019 per 2023"
        },
        "legend": {
         "title": {
          "text": "Status"
         }
        }
       },
       "config": {
        "plotlyServerURL": "https://plot.ly"
       }
      },
      "text/html": [
       "<div>                            <div id=\"4cee12f9-aab2-4df1-b686-e325dcbbfb76\" class=\"plotly-graph-div\" style=\"height:525px; width:100%;\"></div>            <script type=\"text/javascript\">                require([\"plotly\"], function(Plotly) {                    window.PLOTLYENV=window.PLOTLYENV || {};                                    if (document.getElementById(\"4cee12f9-aab2-4df1-b686-e325dcbbfb76\")) {                    Plotly.newPlot(                        \"4cee12f9-aab2-4df1-b686-e325dcbbfb76\",                        [{\"labels\":[\"Verbeterd\",\"Verslechterd\",\"Gelijk gebleven\"],\"marker\":{\"colors\":[\"green\",\"red\",\"blue\"]},\"values\":[85,77,3],\"type\":\"pie\"}],                        {\"template\":{\"data\":{\"histogram2dcontour\":[{\"type\":\"histogram2dcontour\",\"colorbar\":{\"outlinewidth\":0,\"ticks\":\"\"},\"colorscale\":[[0.0,\"#0d0887\"],[0.1111111111111111,\"#46039f\"],[0.2222222222222222,\"#7201a8\"],[0.3333333333333333,\"#9c179e\"],[0.4444444444444444,\"#bd3786\"],[0.5555555555555556,\"#d8576b\"],[0.6666666666666666,\"#ed7953\"],[0.7777777777777778,\"#fb9f3a\"],[0.8888888888888888,\"#fdca26\"],[1.0,\"#f0f921\"]]}],\"choropleth\":[{\"type\":\"choropleth\",\"colorbar\":{\"outlinewidth\":0,\"ticks\":\"\"}}],\"histogram2d\":[{\"type\":\"histogram2d\",\"colorbar\":{\"outlinewidth\":0,\"ticks\":\"\"},\"colorscale\":[[0.0,\"#0d0887\"],[0.1111111111111111,\"#46039f\"],[0.2222222222222222,\"#7201a8\"],[0.3333333333333333,\"#9c179e\"],[0.4444444444444444,\"#bd3786\"],[0.5555555555555556,\"#d8576b\"],[0.6666666666666666,\"#ed7953\"],[0.7777777777777778,\"#fb9f3a\"],[0.8888888888888888,\"#fdca26\"],[1.0,\"#f0f921\"]]}],\"heatmap\":[{\"type\":\"heatmap\",\"colorbar\":{\"outlinewidth\":0,\"ticks\":\"\"},\"colorscale\":[[0.0,\"#0d0887\"],[0.1111111111111111,\"#46039f\"],[0.2222222222222222,\"#7201a8\"],[0.3333333333333333,\"#9c179e\"],[0.4444444444444444,\"#bd3786\"],[0.5555555555555556,\"#d8576b\"],[0.6666666666666666,\"#ed7953\"],[0.7777777777777778,\"#fb9f3a\"],[0.8888888888888888,\"#fdca26\"],[1.0,\"#f0f921\"]]}],\"heatmapgl\":[{\"type\":\"heatmapgl\",\"colorbar\":{\"outlinewidth\":0,\"ticks\":\"\"},\"colorscale\":[[0.0,\"#0d0887\"],[0.1111111111111111,\"#46039f\"],[0.2222222222222222,\"#7201a8\"],[0.3333333333333333,\"#9c179e\"],[0.4444444444444444,\"#bd3786\"],[0.5555555555555556,\"#d8576b\"],[0.6666666666666666,\"#ed7953\"],[0.7777777777777778,\"#fb9f3a\"],[0.8888888888888888,\"#fdca26\"],[1.0,\"#f0f921\"]]}],\"contourcarpet\":[{\"type\":\"contourcarpet\",\"colorbar\":{\"outlinewidth\":0,\"ticks\":\"\"}}],\"contour\":[{\"type\":\"contour\",\"colorbar\":{\"outlinewidth\":0,\"ticks\":\"\"},\"colorscale\":[[0.0,\"#0d0887\"],[0.1111111111111111,\"#46039f\"],[0.2222222222222222,\"#7201a8\"],[0.3333333333333333,\"#9c179e\"],[0.4444444444444444,\"#bd3786\"],[0.5555555555555556,\"#d8576b\"],[0.6666666666666666,\"#ed7953\"],[0.7777777777777778,\"#fb9f3a\"],[0.8888888888888888,\"#fdca26\"],[1.0,\"#f0f921\"]]}],\"surface\":[{\"type\":\"surface\",\"colorbar\":{\"outlinewidth\":0,\"ticks\":\"\"},\"colorscale\":[[0.0,\"#0d0887\"],[0.1111111111111111,\"#46039f\"],[0.2222222222222222,\"#7201a8\"],[0.3333333333333333,\"#9c179e\"],[0.4444444444444444,\"#bd3786\"],[0.5555555555555556,\"#d8576b\"],[0.6666666666666666,\"#ed7953\"],[0.7777777777777778,\"#fb9f3a\"],[0.8888888888888888,\"#fdca26\"],[1.0,\"#f0f921\"]]}],\"mesh3d\":[{\"type\":\"mesh3d\",\"colorbar\":{\"outlinewidth\":0,\"ticks\":\"\"}}],\"scatter\":[{\"marker\":{\"line\":{\"color\":\"#283442\"}},\"type\":\"scatter\"}],\"parcoords\":[{\"type\":\"parcoords\",\"line\":{\"colorbar\":{\"outlinewidth\":0,\"ticks\":\"\"}}}],\"scatterpolargl\":[{\"type\":\"scatterpolargl\",\"marker\":{\"colorbar\":{\"outlinewidth\":0,\"ticks\":\"\"}}}],\"bar\":[{\"error_x\":{\"color\":\"#f2f5fa\"},\"error_y\":{\"color\":\"#f2f5fa\"},\"marker\":{\"line\":{\"color\":\"rgb(17,17,17)\",\"width\":0.5},\"pattern\":{\"fillmode\":\"overlay\",\"size\":10,\"solidity\":0.2}},\"type\":\"bar\"}],\"scattergeo\":[{\"type\":\"scattergeo\",\"marker\":{\"colorbar\":{\"outlinewidth\":0,\"ticks\":\"\"}}}],\"scatterpolar\":[{\"type\":\"scatterpolar\",\"marker\":{\"colorbar\":{\"outlinewidth\":0,\"ticks\":\"\"}}}],\"histogram\":[{\"marker\":{\"pattern\":{\"fillmode\":\"overlay\",\"size\":10,\"solidity\":0.2}},\"type\":\"histogram\"}],\"scattergl\":[{\"marker\":{\"line\":{\"color\":\"#283442\"}},\"type\":\"scattergl\"}],\"scatter3d\":[{\"type\":\"scatter3d\",\"line\":{\"colorbar\":{\"outlinewidth\":0,\"ticks\":\"\"}},\"marker\":{\"colorbar\":{\"outlinewidth\":0,\"ticks\":\"\"}}}],\"scattermapbox\":[{\"type\":\"scattermapbox\",\"marker\":{\"colorbar\":{\"outlinewidth\":0,\"ticks\":\"\"}}}],\"scatterternary\":[{\"type\":\"scatterternary\",\"marker\":{\"colorbar\":{\"outlinewidth\":0,\"ticks\":\"\"}}}],\"scattercarpet\":[{\"type\":\"scattercarpet\",\"marker\":{\"colorbar\":{\"outlinewidth\":0,\"ticks\":\"\"}}}],\"carpet\":[{\"aaxis\":{\"endlinecolor\":\"#A2B1C6\",\"gridcolor\":\"#506784\",\"linecolor\":\"#506784\",\"minorgridcolor\":\"#506784\",\"startlinecolor\":\"#A2B1C6\"},\"baxis\":{\"endlinecolor\":\"#A2B1C6\",\"gridcolor\":\"#506784\",\"linecolor\":\"#506784\",\"minorgridcolor\":\"#506784\",\"startlinecolor\":\"#A2B1C6\"},\"type\":\"carpet\"}],\"table\":[{\"cells\":{\"fill\":{\"color\":\"#506784\"},\"line\":{\"color\":\"rgb(17,17,17)\"}},\"header\":{\"fill\":{\"color\":\"#2a3f5f\"},\"line\":{\"color\":\"rgb(17,17,17)\"}},\"type\":\"table\"}],\"barpolar\":[{\"marker\":{\"line\":{\"color\":\"rgb(17,17,17)\",\"width\":0.5},\"pattern\":{\"fillmode\":\"overlay\",\"size\":10,\"solidity\":0.2}},\"type\":\"barpolar\"}],\"pie\":[{\"automargin\":true,\"type\":\"pie\"}]},\"layout\":{\"autotypenumbers\":\"strict\",\"colorway\":[\"#636efa\",\"#EF553B\",\"#00cc96\",\"#ab63fa\",\"#FFA15A\",\"#19d3f3\",\"#FF6692\",\"#B6E880\",\"#FF97FF\",\"#FECB52\"],\"font\":{\"color\":\"#f2f5fa\"},\"hovermode\":\"closest\",\"hoverlabel\":{\"align\":\"left\"},\"paper_bgcolor\":\"rgb(17,17,17)\",\"plot_bgcolor\":\"rgb(17,17,17)\",\"polar\":{\"bgcolor\":\"rgb(17,17,17)\",\"angularaxis\":{\"gridcolor\":\"#506784\",\"linecolor\":\"#506784\",\"ticks\":\"\"},\"radialaxis\":{\"gridcolor\":\"#506784\",\"linecolor\":\"#506784\",\"ticks\":\"\"}},\"ternary\":{\"bgcolor\":\"rgb(17,17,17)\",\"aaxis\":{\"gridcolor\":\"#506784\",\"linecolor\":\"#506784\",\"ticks\":\"\"},\"baxis\":{\"gridcolor\":\"#506784\",\"linecolor\":\"#506784\",\"ticks\":\"\"},\"caxis\":{\"gridcolor\":\"#506784\",\"linecolor\":\"#506784\",\"ticks\":\"\"}},\"coloraxis\":{\"colorbar\":{\"outlinewidth\":0,\"ticks\":\"\"}},\"colorscale\":{\"sequential\":[[0.0,\"#0d0887\"],[0.1111111111111111,\"#46039f\"],[0.2222222222222222,\"#7201a8\"],[0.3333333333333333,\"#9c179e\"],[0.4444444444444444,\"#bd3786\"],[0.5555555555555556,\"#d8576b\"],[0.6666666666666666,\"#ed7953\"],[0.7777777777777778,\"#fb9f3a\"],[0.8888888888888888,\"#fdca26\"],[1.0,\"#f0f921\"]],\"sequentialminus\":[[0.0,\"#0d0887\"],[0.1111111111111111,\"#46039f\"],[0.2222222222222222,\"#7201a8\"],[0.3333333333333333,\"#9c179e\"],[0.4444444444444444,\"#bd3786\"],[0.5555555555555556,\"#d8576b\"],[0.6666666666666666,\"#ed7953\"],[0.7777777777777778,\"#fb9f3a\"],[0.8888888888888888,\"#fdca26\"],[1.0,\"#f0f921\"]],\"diverging\":[[0,\"#8e0152\"],[0.1,\"#c51b7d\"],[0.2,\"#de77ae\"],[0.3,\"#f1b6da\"],[0.4,\"#fde0ef\"],[0.5,\"#f7f7f7\"],[0.6,\"#e6f5d0\"],[0.7,\"#b8e186\"],[0.8,\"#7fbc41\"],[0.9,\"#4d9221\"],[1,\"#276419\"]]},\"xaxis\":{\"gridcolor\":\"#283442\",\"linecolor\":\"#506784\",\"ticks\":\"\",\"title\":{\"standoff\":15},\"zerolinecolor\":\"#283442\",\"automargin\":true,\"zerolinewidth\":2},\"yaxis\":{\"gridcolor\":\"#283442\",\"linecolor\":\"#506784\",\"ticks\":\"\",\"title\":{\"standoff\":15},\"zerolinecolor\":\"#283442\",\"automargin\":true,\"zerolinewidth\":2},\"scene\":{\"xaxis\":{\"backgroundcolor\":\"rgb(17,17,17)\",\"gridcolor\":\"#506784\",\"linecolor\":\"#506784\",\"showbackground\":true,\"ticks\":\"\",\"zerolinecolor\":\"#C8D4E3\",\"gridwidth\":2},\"yaxis\":{\"backgroundcolor\":\"rgb(17,17,17)\",\"gridcolor\":\"#506784\",\"linecolor\":\"#506784\",\"showbackground\":true,\"ticks\":\"\",\"zerolinecolor\":\"#C8D4E3\",\"gridwidth\":2},\"zaxis\":{\"backgroundcolor\":\"rgb(17,17,17)\",\"gridcolor\":\"#506784\",\"linecolor\":\"#506784\",\"showbackground\":true,\"ticks\":\"\",\"zerolinecolor\":\"#C8D4E3\",\"gridwidth\":2}},\"shapedefaults\":{\"line\":{\"color\":\"#f2f5fa\"}},\"annotationdefaults\":{\"arrowcolor\":\"#f2f5fa\",\"arrowhead\":0,\"arrowwidth\":1},\"geo\":{\"bgcolor\":\"rgb(17,17,17)\",\"landcolor\":\"rgb(17,17,17)\",\"subunitcolor\":\"#506784\",\"showland\":true,\"showlakes\":true,\"lakecolor\":\"rgb(17,17,17)\"},\"title\":{\"x\":0.05},\"updatemenudefaults\":{\"bgcolor\":\"#506784\",\"borderwidth\":0},\"sliderdefaults\":{\"bgcolor\":\"#C8D4E3\",\"borderwidth\":1,\"bordercolor\":\"rgb(17,17,17)\",\"tickwidth\":0},\"mapbox\":{\"style\":\"dark\"}}},\"title\":{\"text\":\"Verandering in Persvrijheidsindex Rankings sinds 2019 per 2023\"},\"legend\":{\"title\":{\"text\":\"Status\"}}},                        {\"responsive\": true}                    ).then(function(){\n",
       "                            \n",
       "var gd = document.getElementById('4cee12f9-aab2-4df1-b686-e325dcbbfb76');\n",
       "var x = new MutationObserver(function (mutations, observer) {{\n",
       "        var display = window.getComputedStyle(gd).display;\n",
       "        if (!display || display === 'none') {{\n",
       "            console.log([gd, 'removed!']);\n",
       "            Plotly.purge(gd);\n",
       "            observer.disconnect();\n",
       "        }}\n",
       "}});\n",
       "\n",
       "// Listen for the removal of the full notebook cells\n",
       "var notebookContainer = gd.closest('#notebook-container');\n",
       "if (notebookContainer) {{\n",
       "    x.observe(notebookContainer, {childList: true});\n",
       "}}\n",
       "\n",
       "// Listen for the clearing of the current output cell\n",
       "var outputEl = gd.closest('.output');\n",
       "if (outputEl) {{\n",
       "    x.observe(outputEl, {childList: true});\n",
       "}}\n",
       "\n",
       "                        })                };                });            </script>        </div>"
      ]
     },
     "metadata": {},
     "output_type": "display_data"
    }
   ],
   "execution_count": 56
  },
  {
   "cell_type": "markdown",
   "metadata": {},
   "source": [
    "### Tweede argument: eerste perspectief\n",
    "\n",
    "tekst"
   ]
  },
  {
   "cell_type": "code",
   "metadata": {
    "ExecuteTime": {
     "end_time": "2024-06-18T18:54:12.771766Z",
     "start_time": "2024-06-18T18:54:12.680757Z"
    }
   },
   "source": [
    "conflict_data = pd.read_excel('./data/01-2024-conflic-index.xlsx')\n",
    "data_conflict_ranking = conflict_data[['country', 'Index Ranking 2023']]\n",
    "\n",
    "data_pers = pd.read_csv('./data/2023.csv', sep=';')\n",
    "data_pers.rename(columns = {'Country_EN':'country'}, inplace=True)\n",
    "\n",
    "data_pers_ranking = data_pers[['country', 'Rank']]\n",
    "\n",
    "data_both = pd.merge(data_pers_ranking, data_conflict_ranking, on='country', how='inner')\n",
    "\n",
    "def determine_color(rank):\n",
    "    if rank <= 10:\n",
    "        return 'red'\n",
    "    elif rank <= 30:\n",
    "        return 'orange'\n",
    "    elif rank <= 50:\n",
    "        return 'yellow'\n",
    "    else:\n",
    "        return 'blue'\n",
    "\n",
    "df = pd.DataFrame(data_both)\n",
    "df['Color'] = df['Index Ranking 2023'].apply(determine_color)\n",
    "\n",
    "fig = go.Figure()\n",
    "\n",
    "fig.add_trace(go.Scatter(\n",
    "    x=df['Index Ranking 2023'],\n",
    "    y=df['Rank'],\n",
    "    mode='markers',\n",
    "    text=df['country'],\n",
    "    marker=dict(\n",
    "        color=df['Color'],\n",
    "        size=10\n",
    "    ),\n",
    "    name = 'Land',\n",
    "    showlegend=False\n",
    "))\n",
    "\n",
    "fig.add_trace(go.Scatter(\n",
    "    x=[None], y=[None],\n",
    "    mode='markers',\n",
    "    marker=dict(color='red', size=10),\n",
    "    legendgroup='group1',\n",
    "    showlegend=True,\n",
    "    name='Extreem (Top 10)'\n",
    "))\n",
    "fig.add_trace(go.Scatter(\n",
    "    x=[None], y=[None],\n",
    "    mode='markers',\n",
    "    marker=dict(color='orange', size=10),\n",
    "    legendgroup='group2',\n",
    "    showlegend=True,\n",
    "    name='Hoog (11-30)'\n",
    "))\n",
    "fig.add_trace(go.Scatter(\n",
    "    x=[None], y=[None],\n",
    "    mode='markers',\n",
    "    marker=dict(color='yellow', size=10),\n",
    "    legendgroup='group3',\n",
    "    showlegend=True,\n",
    "    name='Turbulent (31-50)'\n",
    "))\n",
    "fig.add_trace(go.Scatter(\n",
    "    x=[None], y=[None],\n",
    "    mode='markers',\n",
    "    marker=dict(color='blue', size=10),\n",
    "    legendgroup='group4',\n",
    "    showlegend=True,\n",
    "    name='Laag/inactief (>50)'\n",
    "))\n",
    "\n",
    "fig.add_trace(go.Scatter(\n",
    "    x=[min(df['Index Ranking 2023']), max(df['Index Ranking 2023'])],\n",
    "    y=[max(df['Rank']), min(df['Rank'])],\n",
    "    mode='lines',\n",
    "    line=dict(color='black'),\n",
    "    name='Trend lijn'\n",
    "))\n",
    "\n",
    "fig.update_layout(\n",
    "    title = 'Press Freedom Index Ranking vs Conflict Index Ranking (2023)',\n",
    "    xaxis_title = 'Conflict Index Ranking (Index Ranking 2023)',\n",
    "    yaxis_title = 'Press Freedom Index Ranking (Rank)',\n",
    "    showlegend = True,\n",
    "    height = 700\n",
    ")\n",
    "\n",
    "fig.show()\n",
    "\n",
    "correlation = df['Index Ranking 2023'].corr(df['Rank'])\n",
    "\n",
    "print(f\"Correlatie tussen de conflict index ranking en de persvrijheid index ranking: {correlation}\")"
   ],
   "outputs": [
    {
     "data": {
      "application/vnd.plotly.v1+json": {
       "data": [
        {
         "marker": {
          "color": [
           "blue",
           "blue",
           "blue",
           "blue",
           "blue",
           "blue",
           "blue",
           "blue",
           "blue",
           "blue",
           "blue",
           "blue",
           "blue",
           "blue",
           "blue",
           "blue",
           "blue",
           "blue",
           "blue",
           "blue",
           "blue",
           "blue",
           "blue",
           "yellow",
           "blue",
           "blue",
           "blue",
           "blue",
           "orange",
           "blue",
           "orange",
           "blue",
           "blue",
           "blue",
           "blue",
           "blue",
           "blue",
           "blue",
           "blue",
           "blue",
           "blue",
           "blue",
           "blue",
           "blue",
           "blue",
           "blue",
           "blue",
           "blue",
           "yellow",
           "blue",
           "blue",
           "blue",
           "blue",
           "blue",
           "orange",
           "yellow",
           "blue",
           "yellow",
           "blue",
           "blue",
           "blue",
           "blue",
           "blue",
           "blue",
           "blue",
           "blue",
           "blue",
           "blue",
           "blue",
           "blue",
           "blue",
           "blue",
           "blue",
           "orange",
           "yellow",
           "blue",
           "blue",
           "blue",
           "blue",
           "blue",
           "blue",
           "blue",
           "blue",
           "blue",
           "blue",
           "red",
           "blue",
           "blue",
           "blue",
           "orange",
           "yellow",
           "red",
           "blue",
           "yellow",
           "yellow",
           "blue",
           "blue",
           "blue",
           "blue",
           "blue",
           "yellow",
           "yellow",
           "blue",
           "yellow",
           "orange",
           "yellow",
           "blue",
           "orange",
           "blue",
           "yellow",
           "yellow",
           "blue",
           "blue",
           "blue",
           "red",
           "blue",
           "yellow",
           "orange",
           "red",
           "blue",
           "orange",
           "blue",
           "orange",
           "yellow",
           "blue",
           "blue",
           "blue",
           "blue",
           "orange",
           "red",
           "orange",
           "blue",
           "blue",
           "blue",
           "blue",
           "blue",
           "red",
           "blue",
           "orange",
           "blue",
           "orange",
           "blue",
           "blue",
           "blue",
           "red",
           "blue",
           "blue",
           "orange",
           "blue",
           "orange",
           "blue",
           "orange",
           "yellow",
           "blue",
           "orange",
           "red",
           "orange",
           "blue",
           "blue",
           "blue",
           "red",
           "blue",
           "red",
           "blue",
           "yellow",
           "blue",
           "blue",
           "blue"
          ],
          "size": 10
         },
         "mode": "markers",
         "name": "Land",
         "showlegend": false,
         "text": [
          "Norway",
          "Ireland",
          "Denmark",
          "Sweden",
          "Finland",
          "Netherlands",
          "Lithuania",
          "Estonia",
          "Portugal",
          "East Timor",
          "Liechtenstein",
          "Switzerland",
          "New Zealand",
          "Canada",
          "Latvia",
          "Slovakia",
          "Iceland",
          "Samoa",
          "Luxembourg",
          "Germany",
          "Namibia",
          "Costa Rica",
          "France",
          "South Africa",
          "United Kingdom",
          "Australia",
          "Moldova",
          "Austria",
          "Trinidad and Tobago",
          "Belgium",
          "Jamaica",
          "Seychelles",
          "Taiwan",
          "Spain",
          "Andorra",
          "North Macedonia",
          "Montenegro",
          "Argentina",
          "Italy",
          "Croatia",
          "Dominican Republic",
          "Tonga",
          "United States",
          "Gambia",
          "South Korea",
          "Suriname",
          "Armenia",
          "Slovenia",
          "Belize",
          "Uruguay",
          "Romania",
          "Cyprus",
          "Kosovo",
          "Poland",
          "Burkina Faso",
          "Papua New Guinea",
          "Guyana",
          "Niger",
          "Ghana",
          "Mauritius",
          "Botswana",
          "Liberia",
          "Lesotho",
          "Japan",
          "Panama",
          "Togo",
          "Bulgaria",
          "Hungary",
          "Malaysia",
          "Sierra Leone",
          "Comoros",
          "Georgia",
          "Guinea-Bissau",
          "Ukraine",
          "Ecuador",
          "Malawi",
          "Chile",
          "Malta",
          "Guinea",
          "Mauritania",
          "Zambia",
          "Mongolia",
          "Fiji",
          "Bhutan",
          "Serbia",
          "Brazil",
          "Gabon",
          "Nepal",
          "Albania",
          "Israel",
          "Central African Republic",
          "Haiti",
          "Maldives",
          "Madagascar",
          "Mozambique",
          "Paraguay",
          "Senegal",
          "Qatar",
          "Thailand",
          "Greece",
          "Indonesia",
          "Chad",
          "Peru",
          "Benin",
          "Mali",
          "Burundi",
          "El Salvador",
          "Kenya",
          "Bolivia",
          "South Sudan",
          "Lebanon",
          "Equatorial Guinea",
          "Tunisia",
          "Kyrgyzstan",
          "Nigeria",
          "Angola",
          "Zimbabwe",
          "Guatemala",
          "Mexico",
          "Singapore",
          "Ethiopia",
          "Rwanda",
          "Philippines",
          "Uganda",
          "Kazakhstan",
          "Sri Lanka",
          "Algeria",
          "Uzbekistan",
          "Cameroon",
          "Colombia",
          "Somalia",
          "Brunei",
          "Tanzania",
          "United Arab Emirates",
          "Jordan",
          "Cambodia",
          "Sudan",
          "Libya",
          "Pakistan",
          "Azerbaijan",
          "Afghanistan",
          "Tajikistan",
          "Kuwait",
          "Oman",
          "Palestine",
          "Belarus",
          "Nicaragua",
          "Venezuela",
          "Laos",
          "India",
          "Djibouti",
          "Bangladesh",
          "Russia",
          "Egypt",
          "Iraq",
          "Yemen",
          "Honduras",
          "Saudi Arabia",
          "Bahrain",
          "Cuba",
          "Myanmar",
          "Eritrea",
          "Syria",
          "Turkmenistan",
          "Iran",
          "Vietnam",
          "China",
          "North Korea"
         ],
         "x": [
          146,
          140,
          163,
          140,
          146,
          125,
          146,
          163,
          163,
          146,
          163,
          163,
          163,
          117,
          163,
          146,
          146,
          146,
          163,
          79,
          126,
          120,
          61,
          33,
          113,
          163,
          94,
          132,
          30,
          104,
          21,
          163,
          163,
          117,
          163,
          131,
          135,
          74,
          96,
          163,
          84,
          163,
          51,
          116,
          163,
          122,
          79,
          143,
          47,
          135,
          112,
          86,
          92,
          102,
          17,
          50,
          108,
          34,
          53,
          115,
          106,
          78,
          107,
          146,
          96,
          77,
          163,
          100,
          146,
          70,
          109,
          103,
          88,
          13,
          40,
          62,
          57,
          143,
          65,
          83,
          73,
          163,
          163,
          163,
          120,
          6,
          105,
          56,
          117,
          22,
          34,
          8,
          130,
          38,
          45,
          70,
          69,
          163,
          75,
          59,
          44,
          49,
          53,
          43,
          15,
          32,
          58,
          19,
          72,
          37,
          31,
          163,
          101,
          90,
          5,
          64,
          48,
          24,
          4,
          163,
          22,
          95,
          27,
          42,
          84,
          76,
          81,
          90,
          25,
          7,
          27,
          163,
          68,
          163,
          122,
          146,
          10,
          52,
          14,
          55,
          25,
          113,
          163,
          146,
          3,
          99,
          89,
          27,
          143,
          15,
          127,
          17,
          36,
          82,
          12,
          9,
          20,
          93,
          132,
          87,
          1,
          162,
          2,
          163,
          46,
          111,
          66,
          109
         ],
         "y": [
          1,
          2,
          3,
          4,
          5,
          6,
          7,
          8,
          9,
          10,
          11,
          12,
          13,
          15,
          16,
          17,
          18,
          19,
          20,
          21,
          22,
          23,
          24,
          25,
          26,
          27,
          28,
          29,
          30,
          31,
          32,
          34,
          35,
          36,
          37,
          38,
          39,
          40,
          41,
          42,
          43,
          44,
          45,
          46,
          47,
          48,
          49,
          50,
          51,
          52,
          53,
          55,
          56,
          57,
          58,
          59,
          60,
          61,
          62,
          63,
          65,
          66,
          67,
          68,
          69,
          70,
          71,
          72,
          73,
          74,
          75,
          77,
          78,
          79,
          80,
          82,
          83,
          84,
          85,
          86,
          87,
          88,
          89,
          90,
          91,
          92,
          94,
          95,
          96,
          97,
          98,
          99,
          100,
          101,
          102,
          103,
          104,
          105,
          106,
          107,
          108,
          109,
          110,
          112,
          113,
          114,
          115,
          116,
          117,
          118,
          119,
          120,
          121,
          122,
          123,
          125,
          126,
          127,
          128,
          129,
          130,
          131,
          132,
          133,
          134,
          135,
          136,
          137,
          138,
          139,
          141,
          142,
          143,
          145,
          146,
          147,
          148,
          149,
          150,
          151,
          152,
          153,
          154,
          155,
          156,
          157,
          158,
          159,
          160,
          161,
          162,
          163,
          164,
          166,
          167,
          168,
          169,
          170,
          171,
          172,
          173,
          174,
          175,
          176,
          177,
          178,
          179,
          180
         ],
         "type": "scatter"
        },
        {
         "legendgroup": "group1",
         "marker": {
          "color": "red",
          "size": 10
         },
         "mode": "markers",
         "name": "Extreem (Top 10)",
         "showlegend": true,
         "x": [
          null
         ],
         "y": [
          null
         ],
         "type": "scatter"
        },
        {
         "legendgroup": "group2",
         "marker": {
          "color": "orange",
          "size": 10
         },
         "mode": "markers",
         "name": "Hoog (11-30)",
         "showlegend": true,
         "x": [
          null
         ],
         "y": [
          null
         ],
         "type": "scatter"
        },
        {
         "legendgroup": "group3",
         "marker": {
          "color": "yellow",
          "size": 10
         },
         "mode": "markers",
         "name": "Turbulent (31-50)",
         "showlegend": true,
         "x": [
          null
         ],
         "y": [
          null
         ],
         "type": "scatter"
        },
        {
         "legendgroup": "group4",
         "marker": {
          "color": "blue",
          "size": 10
         },
         "mode": "markers",
         "name": "Laag/inactief (>50)",
         "showlegend": true,
         "x": [
          null
         ],
         "y": [
          null
         ],
         "type": "scatter"
        },
        {
         "line": {
          "color": "black"
         },
         "mode": "lines",
         "name": "Trend lijn",
         "x": [
          1,
          163
         ],
         "y": [
          180,
          1
         ],
         "type": "scatter"
        }
       ],
       "layout": {
        "template": {
         "data": {
          "histogram2dcontour": [
           {
            "type": "histogram2dcontour",
            "colorbar": {
             "outlinewidth": 0,
             "ticks": ""
            },
            "colorscale": [
             [
              0.0,
              "#0d0887"
             ],
             [
              0.1111111111111111,
              "#46039f"
             ],
             [
              0.2222222222222222,
              "#7201a8"
             ],
             [
              0.3333333333333333,
              "#9c179e"
             ],
             [
              0.4444444444444444,
              "#bd3786"
             ],
             [
              0.5555555555555556,
              "#d8576b"
             ],
             [
              0.6666666666666666,
              "#ed7953"
             ],
             [
              0.7777777777777778,
              "#fb9f3a"
             ],
             [
              0.8888888888888888,
              "#fdca26"
             ],
             [
              1.0,
              "#f0f921"
             ]
            ]
           }
          ],
          "choropleth": [
           {
            "type": "choropleth",
            "colorbar": {
             "outlinewidth": 0,
             "ticks": ""
            }
           }
          ],
          "histogram2d": [
           {
            "type": "histogram2d",
            "colorbar": {
             "outlinewidth": 0,
             "ticks": ""
            },
            "colorscale": [
             [
              0.0,
              "#0d0887"
             ],
             [
              0.1111111111111111,
              "#46039f"
             ],
             [
              0.2222222222222222,
              "#7201a8"
             ],
             [
              0.3333333333333333,
              "#9c179e"
             ],
             [
              0.4444444444444444,
              "#bd3786"
             ],
             [
              0.5555555555555556,
              "#d8576b"
             ],
             [
              0.6666666666666666,
              "#ed7953"
             ],
             [
              0.7777777777777778,
              "#fb9f3a"
             ],
             [
              0.8888888888888888,
              "#fdca26"
             ],
             [
              1.0,
              "#f0f921"
             ]
            ]
           }
          ],
          "heatmap": [
           {
            "type": "heatmap",
            "colorbar": {
             "outlinewidth": 0,
             "ticks": ""
            },
            "colorscale": [
             [
              0.0,
              "#0d0887"
             ],
             [
              0.1111111111111111,
              "#46039f"
             ],
             [
              0.2222222222222222,
              "#7201a8"
             ],
             [
              0.3333333333333333,
              "#9c179e"
             ],
             [
              0.4444444444444444,
              "#bd3786"
             ],
             [
              0.5555555555555556,
              "#d8576b"
             ],
             [
              0.6666666666666666,
              "#ed7953"
             ],
             [
              0.7777777777777778,
              "#fb9f3a"
             ],
             [
              0.8888888888888888,
              "#fdca26"
             ],
             [
              1.0,
              "#f0f921"
             ]
            ]
           }
          ],
          "heatmapgl": [
           {
            "type": "heatmapgl",
            "colorbar": {
             "outlinewidth": 0,
             "ticks": ""
            },
            "colorscale": [
             [
              0.0,
              "#0d0887"
             ],
             [
              0.1111111111111111,
              "#46039f"
             ],
             [
              0.2222222222222222,
              "#7201a8"
             ],
             [
              0.3333333333333333,
              "#9c179e"
             ],
             [
              0.4444444444444444,
              "#bd3786"
             ],
             [
              0.5555555555555556,
              "#d8576b"
             ],
             [
              0.6666666666666666,
              "#ed7953"
             ],
             [
              0.7777777777777778,
              "#fb9f3a"
             ],
             [
              0.8888888888888888,
              "#fdca26"
             ],
             [
              1.0,
              "#f0f921"
             ]
            ]
           }
          ],
          "contourcarpet": [
           {
            "type": "contourcarpet",
            "colorbar": {
             "outlinewidth": 0,
             "ticks": ""
            }
           }
          ],
          "contour": [
           {
            "type": "contour",
            "colorbar": {
             "outlinewidth": 0,
             "ticks": ""
            },
            "colorscale": [
             [
              0.0,
              "#0d0887"
             ],
             [
              0.1111111111111111,
              "#46039f"
             ],
             [
              0.2222222222222222,
              "#7201a8"
             ],
             [
              0.3333333333333333,
              "#9c179e"
             ],
             [
              0.4444444444444444,
              "#bd3786"
             ],
             [
              0.5555555555555556,
              "#d8576b"
             ],
             [
              0.6666666666666666,
              "#ed7953"
             ],
             [
              0.7777777777777778,
              "#fb9f3a"
             ],
             [
              0.8888888888888888,
              "#fdca26"
             ],
             [
              1.0,
              "#f0f921"
             ]
            ]
           }
          ],
          "surface": [
           {
            "type": "surface",
            "colorbar": {
             "outlinewidth": 0,
             "ticks": ""
            },
            "colorscale": [
             [
              0.0,
              "#0d0887"
             ],
             [
              0.1111111111111111,
              "#46039f"
             ],
             [
              0.2222222222222222,
              "#7201a8"
             ],
             [
              0.3333333333333333,
              "#9c179e"
             ],
             [
              0.4444444444444444,
              "#bd3786"
             ],
             [
              0.5555555555555556,
              "#d8576b"
             ],
             [
              0.6666666666666666,
              "#ed7953"
             ],
             [
              0.7777777777777778,
              "#fb9f3a"
             ],
             [
              0.8888888888888888,
              "#fdca26"
             ],
             [
              1.0,
              "#f0f921"
             ]
            ]
           }
          ],
          "mesh3d": [
           {
            "type": "mesh3d",
            "colorbar": {
             "outlinewidth": 0,
             "ticks": ""
            }
           }
          ],
          "scatter": [
           {
            "marker": {
             "line": {
              "color": "#283442"
             }
            },
            "type": "scatter"
           }
          ],
          "parcoords": [
           {
            "type": "parcoords",
            "line": {
             "colorbar": {
              "outlinewidth": 0,
              "ticks": ""
             }
            }
           }
          ],
          "scatterpolargl": [
           {
            "type": "scatterpolargl",
            "marker": {
             "colorbar": {
              "outlinewidth": 0,
              "ticks": ""
             }
            }
           }
          ],
          "bar": [
           {
            "error_x": {
             "color": "#f2f5fa"
            },
            "error_y": {
             "color": "#f2f5fa"
            },
            "marker": {
             "line": {
              "color": "rgb(17,17,17)",
              "width": 0.5
             },
             "pattern": {
              "fillmode": "overlay",
              "size": 10,
              "solidity": 0.2
             }
            },
            "type": "bar"
           }
          ],
          "scattergeo": [
           {
            "type": "scattergeo",
            "marker": {
             "colorbar": {
              "outlinewidth": 0,
              "ticks": ""
             }
            }
           }
          ],
          "scatterpolar": [
           {
            "type": "scatterpolar",
            "marker": {
             "colorbar": {
              "outlinewidth": 0,
              "ticks": ""
             }
            }
           }
          ],
          "histogram": [
           {
            "marker": {
             "pattern": {
              "fillmode": "overlay",
              "size": 10,
              "solidity": 0.2
             }
            },
            "type": "histogram"
           }
          ],
          "scattergl": [
           {
            "marker": {
             "line": {
              "color": "#283442"
             }
            },
            "type": "scattergl"
           }
          ],
          "scatter3d": [
           {
            "type": "scatter3d",
            "line": {
             "colorbar": {
              "outlinewidth": 0,
              "ticks": ""
             }
            },
            "marker": {
             "colorbar": {
              "outlinewidth": 0,
              "ticks": ""
             }
            }
           }
          ],
          "scattermapbox": [
           {
            "type": "scattermapbox",
            "marker": {
             "colorbar": {
              "outlinewidth": 0,
              "ticks": ""
             }
            }
           }
          ],
          "scatterternary": [
           {
            "type": "scatterternary",
            "marker": {
             "colorbar": {
              "outlinewidth": 0,
              "ticks": ""
             }
            }
           }
          ],
          "scattercarpet": [
           {
            "type": "scattercarpet",
            "marker": {
             "colorbar": {
              "outlinewidth": 0,
              "ticks": ""
             }
            }
           }
          ],
          "carpet": [
           {
            "aaxis": {
             "endlinecolor": "#A2B1C6",
             "gridcolor": "#506784",
             "linecolor": "#506784",
             "minorgridcolor": "#506784",
             "startlinecolor": "#A2B1C6"
            },
            "baxis": {
             "endlinecolor": "#A2B1C6",
             "gridcolor": "#506784",
             "linecolor": "#506784",
             "minorgridcolor": "#506784",
             "startlinecolor": "#A2B1C6"
            },
            "type": "carpet"
           }
          ],
          "table": [
           {
            "cells": {
             "fill": {
              "color": "#506784"
             },
             "line": {
              "color": "rgb(17,17,17)"
             }
            },
            "header": {
             "fill": {
              "color": "#2a3f5f"
             },
             "line": {
              "color": "rgb(17,17,17)"
             }
            },
            "type": "table"
           }
          ],
          "barpolar": [
           {
            "marker": {
             "line": {
              "color": "rgb(17,17,17)",
              "width": 0.5
             },
             "pattern": {
              "fillmode": "overlay",
              "size": 10,
              "solidity": 0.2
             }
            },
            "type": "barpolar"
           }
          ],
          "pie": [
           {
            "automargin": true,
            "type": "pie"
           }
          ]
         },
         "layout": {
          "autotypenumbers": "strict",
          "colorway": [
           "#636efa",
           "#EF553B",
           "#00cc96",
           "#ab63fa",
           "#FFA15A",
           "#19d3f3",
           "#FF6692",
           "#B6E880",
           "#FF97FF",
           "#FECB52"
          ],
          "font": {
           "color": "#f2f5fa"
          },
          "hovermode": "closest",
          "hoverlabel": {
           "align": "left"
          },
          "paper_bgcolor": "rgb(17,17,17)",
          "plot_bgcolor": "rgb(17,17,17)",
          "polar": {
           "bgcolor": "rgb(17,17,17)",
           "angularaxis": {
            "gridcolor": "#506784",
            "linecolor": "#506784",
            "ticks": ""
           },
           "radialaxis": {
            "gridcolor": "#506784",
            "linecolor": "#506784",
            "ticks": ""
           }
          },
          "ternary": {
           "bgcolor": "rgb(17,17,17)",
           "aaxis": {
            "gridcolor": "#506784",
            "linecolor": "#506784",
            "ticks": ""
           },
           "baxis": {
            "gridcolor": "#506784",
            "linecolor": "#506784",
            "ticks": ""
           },
           "caxis": {
            "gridcolor": "#506784",
            "linecolor": "#506784",
            "ticks": ""
           }
          },
          "coloraxis": {
           "colorbar": {
            "outlinewidth": 0,
            "ticks": ""
           }
          },
          "colorscale": {
           "sequential": [
            [
             0.0,
             "#0d0887"
            ],
            [
             0.1111111111111111,
             "#46039f"
            ],
            [
             0.2222222222222222,
             "#7201a8"
            ],
            [
             0.3333333333333333,
             "#9c179e"
            ],
            [
             0.4444444444444444,
             "#bd3786"
            ],
            [
             0.5555555555555556,
             "#d8576b"
            ],
            [
             0.6666666666666666,
             "#ed7953"
            ],
            [
             0.7777777777777778,
             "#fb9f3a"
            ],
            [
             0.8888888888888888,
             "#fdca26"
            ],
            [
             1.0,
             "#f0f921"
            ]
           ],
           "sequentialminus": [
            [
             0.0,
             "#0d0887"
            ],
            [
             0.1111111111111111,
             "#46039f"
            ],
            [
             0.2222222222222222,
             "#7201a8"
            ],
            [
             0.3333333333333333,
             "#9c179e"
            ],
            [
             0.4444444444444444,
             "#bd3786"
            ],
            [
             0.5555555555555556,
             "#d8576b"
            ],
            [
             0.6666666666666666,
             "#ed7953"
            ],
            [
             0.7777777777777778,
             "#fb9f3a"
            ],
            [
             0.8888888888888888,
             "#fdca26"
            ],
            [
             1.0,
             "#f0f921"
            ]
           ],
           "diverging": [
            [
             0,
             "#8e0152"
            ],
            [
             0.1,
             "#c51b7d"
            ],
            [
             0.2,
             "#de77ae"
            ],
            [
             0.3,
             "#f1b6da"
            ],
            [
             0.4,
             "#fde0ef"
            ],
            [
             0.5,
             "#f7f7f7"
            ],
            [
             0.6,
             "#e6f5d0"
            ],
            [
             0.7,
             "#b8e186"
            ],
            [
             0.8,
             "#7fbc41"
            ],
            [
             0.9,
             "#4d9221"
            ],
            [
             1,
             "#276419"
            ]
           ]
          },
          "xaxis": {
           "gridcolor": "#283442",
           "linecolor": "#506784",
           "ticks": "",
           "title": {
            "standoff": 15
           },
           "zerolinecolor": "#283442",
           "automargin": true,
           "zerolinewidth": 2
          },
          "yaxis": {
           "gridcolor": "#283442",
           "linecolor": "#506784",
           "ticks": "",
           "title": {
            "standoff": 15
           },
           "zerolinecolor": "#283442",
           "automargin": true,
           "zerolinewidth": 2
          },
          "scene": {
           "xaxis": {
            "backgroundcolor": "rgb(17,17,17)",
            "gridcolor": "#506784",
            "linecolor": "#506784",
            "showbackground": true,
            "ticks": "",
            "zerolinecolor": "#C8D4E3",
            "gridwidth": 2
           },
           "yaxis": {
            "backgroundcolor": "rgb(17,17,17)",
            "gridcolor": "#506784",
            "linecolor": "#506784",
            "showbackground": true,
            "ticks": "",
            "zerolinecolor": "#C8D4E3",
            "gridwidth": 2
           },
           "zaxis": {
            "backgroundcolor": "rgb(17,17,17)",
            "gridcolor": "#506784",
            "linecolor": "#506784",
            "showbackground": true,
            "ticks": "",
            "zerolinecolor": "#C8D4E3",
            "gridwidth": 2
           }
          },
          "shapedefaults": {
           "line": {
            "color": "#f2f5fa"
           }
          },
          "annotationdefaults": {
           "arrowcolor": "#f2f5fa",
           "arrowhead": 0,
           "arrowwidth": 1
          },
          "geo": {
           "bgcolor": "rgb(17,17,17)",
           "landcolor": "rgb(17,17,17)",
           "subunitcolor": "#506784",
           "showland": true,
           "showlakes": true,
           "lakecolor": "rgb(17,17,17)"
          },
          "title": {
           "x": 0.05
          },
          "updatemenudefaults": {
           "bgcolor": "#506784",
           "borderwidth": 0
          },
          "sliderdefaults": {
           "bgcolor": "#C8D4E3",
           "borderwidth": 1,
           "bordercolor": "rgb(17,17,17)",
           "tickwidth": 0
          },
          "mapbox": {
           "style": "dark"
          }
         }
        },
        "title": {
         "text": "Press Freedom Index Ranking vs Conflict Index Ranking (2023)"
        },
        "xaxis": {
         "title": {
          "text": "Conflict Index Ranking (Index Ranking 2023)"
         }
        },
        "yaxis": {
         "title": {
          "text": "Press Freedom Index Ranking (Rank)"
         }
        },
        "showlegend": true,
        "height": 700
       },
       "config": {
        "plotlyServerURL": "https://plot.ly"
       }
      },
      "text/html": [
       "<div>                            <div id=\"4525ed01-c49e-4d9d-9b03-a2adaba52b7c\" class=\"plotly-graph-div\" style=\"height:700px; width:100%;\"></div>            <script type=\"text/javascript\">                require([\"plotly\"], function(Plotly) {                    window.PLOTLYENV=window.PLOTLYENV || {};                                    if (document.getElementById(\"4525ed01-c49e-4d9d-9b03-a2adaba52b7c\")) {                    Plotly.newPlot(                        \"4525ed01-c49e-4d9d-9b03-a2adaba52b7c\",                        [{\"marker\":{\"color\":[\"blue\",\"blue\",\"blue\",\"blue\",\"blue\",\"blue\",\"blue\",\"blue\",\"blue\",\"blue\",\"blue\",\"blue\",\"blue\",\"blue\",\"blue\",\"blue\",\"blue\",\"blue\",\"blue\",\"blue\",\"blue\",\"blue\",\"blue\",\"yellow\",\"blue\",\"blue\",\"blue\",\"blue\",\"orange\",\"blue\",\"orange\",\"blue\",\"blue\",\"blue\",\"blue\",\"blue\",\"blue\",\"blue\",\"blue\",\"blue\",\"blue\",\"blue\",\"blue\",\"blue\",\"blue\",\"blue\",\"blue\",\"blue\",\"yellow\",\"blue\",\"blue\",\"blue\",\"blue\",\"blue\",\"orange\",\"yellow\",\"blue\",\"yellow\",\"blue\",\"blue\",\"blue\",\"blue\",\"blue\",\"blue\",\"blue\",\"blue\",\"blue\",\"blue\",\"blue\",\"blue\",\"blue\",\"blue\",\"blue\",\"orange\",\"yellow\",\"blue\",\"blue\",\"blue\",\"blue\",\"blue\",\"blue\",\"blue\",\"blue\",\"blue\",\"blue\",\"red\",\"blue\",\"blue\",\"blue\",\"orange\",\"yellow\",\"red\",\"blue\",\"yellow\",\"yellow\",\"blue\",\"blue\",\"blue\",\"blue\",\"blue\",\"yellow\",\"yellow\",\"blue\",\"yellow\",\"orange\",\"yellow\",\"blue\",\"orange\",\"blue\",\"yellow\",\"yellow\",\"blue\",\"blue\",\"blue\",\"red\",\"blue\",\"yellow\",\"orange\",\"red\",\"blue\",\"orange\",\"blue\",\"orange\",\"yellow\",\"blue\",\"blue\",\"blue\",\"blue\",\"orange\",\"red\",\"orange\",\"blue\",\"blue\",\"blue\",\"blue\",\"blue\",\"red\",\"blue\",\"orange\",\"blue\",\"orange\",\"blue\",\"blue\",\"blue\",\"red\",\"blue\",\"blue\",\"orange\",\"blue\",\"orange\",\"blue\",\"orange\",\"yellow\",\"blue\",\"orange\",\"red\",\"orange\",\"blue\",\"blue\",\"blue\",\"red\",\"blue\",\"red\",\"blue\",\"yellow\",\"blue\",\"blue\",\"blue\"],\"size\":10},\"mode\":\"markers\",\"name\":\"Land\",\"showlegend\":false,\"text\":[\"Norway\",\"Ireland\",\"Denmark\",\"Sweden\",\"Finland\",\"Netherlands\",\"Lithuania\",\"Estonia\",\"Portugal\",\"East Timor\",\"Liechtenstein\",\"Switzerland\",\"New Zealand\",\"Canada\",\"Latvia\",\"Slovakia\",\"Iceland\",\"Samoa\",\"Luxembourg\",\"Germany\",\"Namibia\",\"Costa Rica\",\"France\",\"South Africa\",\"United Kingdom\",\"Australia\",\"Moldova\",\"Austria\",\"Trinidad and Tobago\",\"Belgium\",\"Jamaica\",\"Seychelles\",\"Taiwan\",\"Spain\",\"Andorra\",\"North Macedonia\",\"Montenegro\",\"Argentina\",\"Italy\",\"Croatia\",\"Dominican Republic\",\"Tonga\",\"United States\",\"Gambia\",\"South Korea\",\"Suriname\",\"Armenia\",\"Slovenia\",\"Belize\",\"Uruguay\",\"Romania\",\"Cyprus\",\"Kosovo\",\"Poland\",\"Burkina Faso\",\"Papua New Guinea\",\"Guyana\",\"Niger\",\"Ghana\",\"Mauritius\",\"Botswana\",\"Liberia\",\"Lesotho\",\"Japan\",\"Panama\",\"Togo\",\"Bulgaria\",\"Hungary\",\"Malaysia\",\"Sierra Leone\",\"Comoros\",\"Georgia\",\"Guinea-Bissau\",\"Ukraine\",\"Ecuador\",\"Malawi\",\"Chile\",\"Malta\",\"Guinea\",\"Mauritania\",\"Zambia\",\"Mongolia\",\"Fiji\",\"Bhutan\",\"Serbia\",\"Brazil\",\"Gabon\",\"Nepal\",\"Albania\",\"Israel\",\"Central African Republic\",\"Haiti\",\"Maldives\",\"Madagascar\",\"Mozambique\",\"Paraguay\",\"Senegal\",\"Qatar\",\"Thailand\",\"Greece\",\"Indonesia\",\"Chad\",\"Peru\",\"Benin\",\"Mali\",\"Burundi\",\"El Salvador\",\"Kenya\",\"Bolivia\",\"South Sudan\",\"Lebanon\",\"Equatorial Guinea\",\"Tunisia\",\"Kyrgyzstan\",\"Nigeria\",\"Angola\",\"Zimbabwe\",\"Guatemala\",\"Mexico\",\"Singapore\",\"Ethiopia\",\"Rwanda\",\"Philippines\",\"Uganda\",\"Kazakhstan\",\"Sri Lanka\",\"Algeria\",\"Uzbekistan\",\"Cameroon\",\"Colombia\",\"Somalia\",\"Brunei\",\"Tanzania\",\"United Arab Emirates\",\"Jordan\",\"Cambodia\",\"Sudan\",\"Libya\",\"Pakistan\",\"Azerbaijan\",\"Afghanistan\",\"Tajikistan\",\"Kuwait\",\"Oman\",\"Palestine\",\"Belarus\",\"Nicaragua\",\"Venezuela\",\"Laos\",\"India\",\"Djibouti\",\"Bangladesh\",\"Russia\",\"Egypt\",\"Iraq\",\"Yemen\",\"Honduras\",\"Saudi Arabia\",\"Bahrain\",\"Cuba\",\"Myanmar\",\"Eritrea\",\"Syria\",\"Turkmenistan\",\"Iran\",\"Vietnam\",\"China\",\"North Korea\"],\"x\":[146,140,163,140,146,125,146,163,163,146,163,163,163,117,163,146,146,146,163,79,126,120,61,33,113,163,94,132,30,104,21,163,163,117,163,131,135,74,96,163,84,163,51,116,163,122,79,143,47,135,112,86,92,102,17,50,108,34,53,115,106,78,107,146,96,77,163,100,146,70,109,103,88,13,40,62,57,143,65,83,73,163,163,163,120,6,105,56,117,22,34,8,130,38,45,70,69,163,75,59,44,49,53,43,15,32,58,19,72,37,31,163,101,90,5,64,48,24,4,163,22,95,27,42,84,76,81,90,25,7,27,163,68,163,122,146,10,52,14,55,25,113,163,146,3,99,89,27,143,15,127,17,36,82,12,9,20,93,132,87,1,162,2,163,46,111,66,109],\"y\":[1,2,3,4,5,6,7,8,9,10,11,12,13,15,16,17,18,19,20,21,22,23,24,25,26,27,28,29,30,31,32,34,35,36,37,38,39,40,41,42,43,44,45,46,47,48,49,50,51,52,53,55,56,57,58,59,60,61,62,63,65,66,67,68,69,70,71,72,73,74,75,77,78,79,80,82,83,84,85,86,87,88,89,90,91,92,94,95,96,97,98,99,100,101,102,103,104,105,106,107,108,109,110,112,113,114,115,116,117,118,119,120,121,122,123,125,126,127,128,129,130,131,132,133,134,135,136,137,138,139,141,142,143,145,146,147,148,149,150,151,152,153,154,155,156,157,158,159,160,161,162,163,164,166,167,168,169,170,171,172,173,174,175,176,177,178,179,180],\"type\":\"scatter\"},{\"legendgroup\":\"group1\",\"marker\":{\"color\":\"red\",\"size\":10},\"mode\":\"markers\",\"name\":\"Extreem (Top 10)\",\"showlegend\":true,\"x\":[null],\"y\":[null],\"type\":\"scatter\"},{\"legendgroup\":\"group2\",\"marker\":{\"color\":\"orange\",\"size\":10},\"mode\":\"markers\",\"name\":\"Hoog (11-30)\",\"showlegend\":true,\"x\":[null],\"y\":[null],\"type\":\"scatter\"},{\"legendgroup\":\"group3\",\"marker\":{\"color\":\"yellow\",\"size\":10},\"mode\":\"markers\",\"name\":\"Turbulent (31-50)\",\"showlegend\":true,\"x\":[null],\"y\":[null],\"type\":\"scatter\"},{\"legendgroup\":\"group4\",\"marker\":{\"color\":\"blue\",\"size\":10},\"mode\":\"markers\",\"name\":\"Laag\\u002finactief (\\u003e50)\",\"showlegend\":true,\"x\":[null],\"y\":[null],\"type\":\"scatter\"},{\"line\":{\"color\":\"black\"},\"mode\":\"lines\",\"name\":\"Trend lijn\",\"x\":[1,163],\"y\":[180,1],\"type\":\"scatter\"}],                        {\"template\":{\"data\":{\"histogram2dcontour\":[{\"type\":\"histogram2dcontour\",\"colorbar\":{\"outlinewidth\":0,\"ticks\":\"\"},\"colorscale\":[[0.0,\"#0d0887\"],[0.1111111111111111,\"#46039f\"],[0.2222222222222222,\"#7201a8\"],[0.3333333333333333,\"#9c179e\"],[0.4444444444444444,\"#bd3786\"],[0.5555555555555556,\"#d8576b\"],[0.6666666666666666,\"#ed7953\"],[0.7777777777777778,\"#fb9f3a\"],[0.8888888888888888,\"#fdca26\"],[1.0,\"#f0f921\"]]}],\"choropleth\":[{\"type\":\"choropleth\",\"colorbar\":{\"outlinewidth\":0,\"ticks\":\"\"}}],\"histogram2d\":[{\"type\":\"histogram2d\",\"colorbar\":{\"outlinewidth\":0,\"ticks\":\"\"},\"colorscale\":[[0.0,\"#0d0887\"],[0.1111111111111111,\"#46039f\"],[0.2222222222222222,\"#7201a8\"],[0.3333333333333333,\"#9c179e\"],[0.4444444444444444,\"#bd3786\"],[0.5555555555555556,\"#d8576b\"],[0.6666666666666666,\"#ed7953\"],[0.7777777777777778,\"#fb9f3a\"],[0.8888888888888888,\"#fdca26\"],[1.0,\"#f0f921\"]]}],\"heatmap\":[{\"type\":\"heatmap\",\"colorbar\":{\"outlinewidth\":0,\"ticks\":\"\"},\"colorscale\":[[0.0,\"#0d0887\"],[0.1111111111111111,\"#46039f\"],[0.2222222222222222,\"#7201a8\"],[0.3333333333333333,\"#9c179e\"],[0.4444444444444444,\"#bd3786\"],[0.5555555555555556,\"#d8576b\"],[0.6666666666666666,\"#ed7953\"],[0.7777777777777778,\"#fb9f3a\"],[0.8888888888888888,\"#fdca26\"],[1.0,\"#f0f921\"]]}],\"heatmapgl\":[{\"type\":\"heatmapgl\",\"colorbar\":{\"outlinewidth\":0,\"ticks\":\"\"},\"colorscale\":[[0.0,\"#0d0887\"],[0.1111111111111111,\"#46039f\"],[0.2222222222222222,\"#7201a8\"],[0.3333333333333333,\"#9c179e\"],[0.4444444444444444,\"#bd3786\"],[0.5555555555555556,\"#d8576b\"],[0.6666666666666666,\"#ed7953\"],[0.7777777777777778,\"#fb9f3a\"],[0.8888888888888888,\"#fdca26\"],[1.0,\"#f0f921\"]]}],\"contourcarpet\":[{\"type\":\"contourcarpet\",\"colorbar\":{\"outlinewidth\":0,\"ticks\":\"\"}}],\"contour\":[{\"type\":\"contour\",\"colorbar\":{\"outlinewidth\":0,\"ticks\":\"\"},\"colorscale\":[[0.0,\"#0d0887\"],[0.1111111111111111,\"#46039f\"],[0.2222222222222222,\"#7201a8\"],[0.3333333333333333,\"#9c179e\"],[0.4444444444444444,\"#bd3786\"],[0.5555555555555556,\"#d8576b\"],[0.6666666666666666,\"#ed7953\"],[0.7777777777777778,\"#fb9f3a\"],[0.8888888888888888,\"#fdca26\"],[1.0,\"#f0f921\"]]}],\"surface\":[{\"type\":\"surface\",\"colorbar\":{\"outlinewidth\":0,\"ticks\":\"\"},\"colorscale\":[[0.0,\"#0d0887\"],[0.1111111111111111,\"#46039f\"],[0.2222222222222222,\"#7201a8\"],[0.3333333333333333,\"#9c179e\"],[0.4444444444444444,\"#bd3786\"],[0.5555555555555556,\"#d8576b\"],[0.6666666666666666,\"#ed7953\"],[0.7777777777777778,\"#fb9f3a\"],[0.8888888888888888,\"#fdca26\"],[1.0,\"#f0f921\"]]}],\"mesh3d\":[{\"type\":\"mesh3d\",\"colorbar\":{\"outlinewidth\":0,\"ticks\":\"\"}}],\"scatter\":[{\"marker\":{\"line\":{\"color\":\"#283442\"}},\"type\":\"scatter\"}],\"parcoords\":[{\"type\":\"parcoords\",\"line\":{\"colorbar\":{\"outlinewidth\":0,\"ticks\":\"\"}}}],\"scatterpolargl\":[{\"type\":\"scatterpolargl\",\"marker\":{\"colorbar\":{\"outlinewidth\":0,\"ticks\":\"\"}}}],\"bar\":[{\"error_x\":{\"color\":\"#f2f5fa\"},\"error_y\":{\"color\":\"#f2f5fa\"},\"marker\":{\"line\":{\"color\":\"rgb(17,17,17)\",\"width\":0.5},\"pattern\":{\"fillmode\":\"overlay\",\"size\":10,\"solidity\":0.2}},\"type\":\"bar\"}],\"scattergeo\":[{\"type\":\"scattergeo\",\"marker\":{\"colorbar\":{\"outlinewidth\":0,\"ticks\":\"\"}}}],\"scatterpolar\":[{\"type\":\"scatterpolar\",\"marker\":{\"colorbar\":{\"outlinewidth\":0,\"ticks\":\"\"}}}],\"histogram\":[{\"marker\":{\"pattern\":{\"fillmode\":\"overlay\",\"size\":10,\"solidity\":0.2}},\"type\":\"histogram\"}],\"scattergl\":[{\"marker\":{\"line\":{\"color\":\"#283442\"}},\"type\":\"scattergl\"}],\"scatter3d\":[{\"type\":\"scatter3d\",\"line\":{\"colorbar\":{\"outlinewidth\":0,\"ticks\":\"\"}},\"marker\":{\"colorbar\":{\"outlinewidth\":0,\"ticks\":\"\"}}}],\"scattermapbox\":[{\"type\":\"scattermapbox\",\"marker\":{\"colorbar\":{\"outlinewidth\":0,\"ticks\":\"\"}}}],\"scatterternary\":[{\"type\":\"scatterternary\",\"marker\":{\"colorbar\":{\"outlinewidth\":0,\"ticks\":\"\"}}}],\"scattercarpet\":[{\"type\":\"scattercarpet\",\"marker\":{\"colorbar\":{\"outlinewidth\":0,\"ticks\":\"\"}}}],\"carpet\":[{\"aaxis\":{\"endlinecolor\":\"#A2B1C6\",\"gridcolor\":\"#506784\",\"linecolor\":\"#506784\",\"minorgridcolor\":\"#506784\",\"startlinecolor\":\"#A2B1C6\"},\"baxis\":{\"endlinecolor\":\"#A2B1C6\",\"gridcolor\":\"#506784\",\"linecolor\":\"#506784\",\"minorgridcolor\":\"#506784\",\"startlinecolor\":\"#A2B1C6\"},\"type\":\"carpet\"}],\"table\":[{\"cells\":{\"fill\":{\"color\":\"#506784\"},\"line\":{\"color\":\"rgb(17,17,17)\"}},\"header\":{\"fill\":{\"color\":\"#2a3f5f\"},\"line\":{\"color\":\"rgb(17,17,17)\"}},\"type\":\"table\"}],\"barpolar\":[{\"marker\":{\"line\":{\"color\":\"rgb(17,17,17)\",\"width\":0.5},\"pattern\":{\"fillmode\":\"overlay\",\"size\":10,\"solidity\":0.2}},\"type\":\"barpolar\"}],\"pie\":[{\"automargin\":true,\"type\":\"pie\"}]},\"layout\":{\"autotypenumbers\":\"strict\",\"colorway\":[\"#636efa\",\"#EF553B\",\"#00cc96\",\"#ab63fa\",\"#FFA15A\",\"#19d3f3\",\"#FF6692\",\"#B6E880\",\"#FF97FF\",\"#FECB52\"],\"font\":{\"color\":\"#f2f5fa\"},\"hovermode\":\"closest\",\"hoverlabel\":{\"align\":\"left\"},\"paper_bgcolor\":\"rgb(17,17,17)\",\"plot_bgcolor\":\"rgb(17,17,17)\",\"polar\":{\"bgcolor\":\"rgb(17,17,17)\",\"angularaxis\":{\"gridcolor\":\"#506784\",\"linecolor\":\"#506784\",\"ticks\":\"\"},\"radialaxis\":{\"gridcolor\":\"#506784\",\"linecolor\":\"#506784\",\"ticks\":\"\"}},\"ternary\":{\"bgcolor\":\"rgb(17,17,17)\",\"aaxis\":{\"gridcolor\":\"#506784\",\"linecolor\":\"#506784\",\"ticks\":\"\"},\"baxis\":{\"gridcolor\":\"#506784\",\"linecolor\":\"#506784\",\"ticks\":\"\"},\"caxis\":{\"gridcolor\":\"#506784\",\"linecolor\":\"#506784\",\"ticks\":\"\"}},\"coloraxis\":{\"colorbar\":{\"outlinewidth\":0,\"ticks\":\"\"}},\"colorscale\":{\"sequential\":[[0.0,\"#0d0887\"],[0.1111111111111111,\"#46039f\"],[0.2222222222222222,\"#7201a8\"],[0.3333333333333333,\"#9c179e\"],[0.4444444444444444,\"#bd3786\"],[0.5555555555555556,\"#d8576b\"],[0.6666666666666666,\"#ed7953\"],[0.7777777777777778,\"#fb9f3a\"],[0.8888888888888888,\"#fdca26\"],[1.0,\"#f0f921\"]],\"sequentialminus\":[[0.0,\"#0d0887\"],[0.1111111111111111,\"#46039f\"],[0.2222222222222222,\"#7201a8\"],[0.3333333333333333,\"#9c179e\"],[0.4444444444444444,\"#bd3786\"],[0.5555555555555556,\"#d8576b\"],[0.6666666666666666,\"#ed7953\"],[0.7777777777777778,\"#fb9f3a\"],[0.8888888888888888,\"#fdca26\"],[1.0,\"#f0f921\"]],\"diverging\":[[0,\"#8e0152\"],[0.1,\"#c51b7d\"],[0.2,\"#de77ae\"],[0.3,\"#f1b6da\"],[0.4,\"#fde0ef\"],[0.5,\"#f7f7f7\"],[0.6,\"#e6f5d0\"],[0.7,\"#b8e186\"],[0.8,\"#7fbc41\"],[0.9,\"#4d9221\"],[1,\"#276419\"]]},\"xaxis\":{\"gridcolor\":\"#283442\",\"linecolor\":\"#506784\",\"ticks\":\"\",\"title\":{\"standoff\":15},\"zerolinecolor\":\"#283442\",\"automargin\":true,\"zerolinewidth\":2},\"yaxis\":{\"gridcolor\":\"#283442\",\"linecolor\":\"#506784\",\"ticks\":\"\",\"title\":{\"standoff\":15},\"zerolinecolor\":\"#283442\",\"automargin\":true,\"zerolinewidth\":2},\"scene\":{\"xaxis\":{\"backgroundcolor\":\"rgb(17,17,17)\",\"gridcolor\":\"#506784\",\"linecolor\":\"#506784\",\"showbackground\":true,\"ticks\":\"\",\"zerolinecolor\":\"#C8D4E3\",\"gridwidth\":2},\"yaxis\":{\"backgroundcolor\":\"rgb(17,17,17)\",\"gridcolor\":\"#506784\",\"linecolor\":\"#506784\",\"showbackground\":true,\"ticks\":\"\",\"zerolinecolor\":\"#C8D4E3\",\"gridwidth\":2},\"zaxis\":{\"backgroundcolor\":\"rgb(17,17,17)\",\"gridcolor\":\"#506784\",\"linecolor\":\"#506784\",\"showbackground\":true,\"ticks\":\"\",\"zerolinecolor\":\"#C8D4E3\",\"gridwidth\":2}},\"shapedefaults\":{\"line\":{\"color\":\"#f2f5fa\"}},\"annotationdefaults\":{\"arrowcolor\":\"#f2f5fa\",\"arrowhead\":0,\"arrowwidth\":1},\"geo\":{\"bgcolor\":\"rgb(17,17,17)\",\"landcolor\":\"rgb(17,17,17)\",\"subunitcolor\":\"#506784\",\"showland\":true,\"showlakes\":true,\"lakecolor\":\"rgb(17,17,17)\"},\"title\":{\"x\":0.05},\"updatemenudefaults\":{\"bgcolor\":\"#506784\",\"borderwidth\":0},\"sliderdefaults\":{\"bgcolor\":\"#C8D4E3\",\"borderwidth\":1,\"bordercolor\":\"rgb(17,17,17)\",\"tickwidth\":0},\"mapbox\":{\"style\":\"dark\"}}},\"title\":{\"text\":\"Press Freedom Index Ranking vs Conflict Index Ranking (2023)\"},\"xaxis\":{\"title\":{\"text\":\"Conflict Index Ranking (Index Ranking 2023)\"}},\"yaxis\":{\"title\":{\"text\":\"Press Freedom Index Ranking (Rank)\"}},\"showlegend\":true,\"height\":700},                        {\"responsive\": true}                    ).then(function(){\n",
       "                            \n",
       "var gd = document.getElementById('4525ed01-c49e-4d9d-9b03-a2adaba52b7c');\n",
       "var x = new MutationObserver(function (mutations, observer) {{\n",
       "        var display = window.getComputedStyle(gd).display;\n",
       "        if (!display || display === 'none') {{\n",
       "            console.log([gd, 'removed!']);\n",
       "            Plotly.purge(gd);\n",
       "            observer.disconnect();\n",
       "        }}\n",
       "}});\n",
       "\n",
       "// Listen for the removal of the full notebook cells\n",
       "var notebookContainer = gd.closest('#notebook-container');\n",
       "if (notebookContainer) {{\n",
       "    x.observe(notebookContainer, {childList: true});\n",
       "}}\n",
       "\n",
       "// Listen for the clearing of the current output cell\n",
       "var outputEl = gd.closest('.output');\n",
       "if (outputEl) {{\n",
       "    x.observe(outputEl, {childList: true});\n",
       "}}\n",
       "\n",
       "                        })                };                });            </script>        </div>"
      ]
     },
     "metadata": {},
     "output_type": "display_data"
    },
    {
     "name": "stdout",
     "output_type": "stream",
     "text": [
      "Correlatie tussen de conflict index ranking en de persvrijheid index ranking: -0.42573893484944786\n"
     ]
    }
   ],
   "execution_count": 57
  },
  {
   "cell_type": "markdown",
   "metadata": {},
   "source": [
    "tekst"
   ]
  },
  {
   "cell_type": "code",
   "metadata": {
    "ExecuteTime": {
     "end_time": "2024-06-18T18:54:12.787268Z",
     "start_time": "2024-06-18T18:54:12.773269Z"
    }
   },
   "source": [
    "df['Color'] = df['Rank'].apply(determine_color)\n",
    "\n",
    "color_counts = df['Color'].value_counts()\n",
    "\n",
    "color_labels = {\n",
    "    'red': 'Extreem',\n",
    "    'orange': 'Hoog',\n",
    "    'yellow': 'Turbulent',\n",
    "    'blue': 'laag/inactief'\n",
    "}\n",
    "\n",
    "\n",
    "labels = [color_labels[color] for color in color_counts.index]\n",
    "\n",
    "\n",
    "fig = go.Figure(data=[go.Pie(\n",
    "    labels = labels,\n",
    "    values = color_counts.values,\n",
    "    marker = dict(colors = color_counts.index)\n",
    ")])\n",
    "\n",
    "fig.update_layout(\n",
    "    title = 'Aantal landen met bepaalde conflict status (index level) ',\n",
    "    legend_title = 'Index level'\n",
    ")\n",
    "\n",
    "fig.show()"
   ],
   "outputs": [
    {
     "data": {
      "application/vnd.plotly.v1+json": {
       "data": [
        {
         "labels": [
          "laag/inactief",
          "Hoog",
          "Turbulent",
          "Extreem"
         ],
         "marker": {
          "colors": [
           "blue",
           "orange",
           "yellow",
           "red"
          ]
         },
         "values": [
          120,
          19,
          19,
          10
         ],
         "type": "pie"
        }
       ],
       "layout": {
        "template": {
         "data": {
          "histogram2dcontour": [
           {
            "type": "histogram2dcontour",
            "colorbar": {
             "outlinewidth": 0,
             "ticks": ""
            },
            "colorscale": [
             [
              0.0,
              "#0d0887"
             ],
             [
              0.1111111111111111,
              "#46039f"
             ],
             [
              0.2222222222222222,
              "#7201a8"
             ],
             [
              0.3333333333333333,
              "#9c179e"
             ],
             [
              0.4444444444444444,
              "#bd3786"
             ],
             [
              0.5555555555555556,
              "#d8576b"
             ],
             [
              0.6666666666666666,
              "#ed7953"
             ],
             [
              0.7777777777777778,
              "#fb9f3a"
             ],
             [
              0.8888888888888888,
              "#fdca26"
             ],
             [
              1.0,
              "#f0f921"
             ]
            ]
           }
          ],
          "choropleth": [
           {
            "type": "choropleth",
            "colorbar": {
             "outlinewidth": 0,
             "ticks": ""
            }
           }
          ],
          "histogram2d": [
           {
            "type": "histogram2d",
            "colorbar": {
             "outlinewidth": 0,
             "ticks": ""
            },
            "colorscale": [
             [
              0.0,
              "#0d0887"
             ],
             [
              0.1111111111111111,
              "#46039f"
             ],
             [
              0.2222222222222222,
              "#7201a8"
             ],
             [
              0.3333333333333333,
              "#9c179e"
             ],
             [
              0.4444444444444444,
              "#bd3786"
             ],
             [
              0.5555555555555556,
              "#d8576b"
             ],
             [
              0.6666666666666666,
              "#ed7953"
             ],
             [
              0.7777777777777778,
              "#fb9f3a"
             ],
             [
              0.8888888888888888,
              "#fdca26"
             ],
             [
              1.0,
              "#f0f921"
             ]
            ]
           }
          ],
          "heatmap": [
           {
            "type": "heatmap",
            "colorbar": {
             "outlinewidth": 0,
             "ticks": ""
            },
            "colorscale": [
             [
              0.0,
              "#0d0887"
             ],
             [
              0.1111111111111111,
              "#46039f"
             ],
             [
              0.2222222222222222,
              "#7201a8"
             ],
             [
              0.3333333333333333,
              "#9c179e"
             ],
             [
              0.4444444444444444,
              "#bd3786"
             ],
             [
              0.5555555555555556,
              "#d8576b"
             ],
             [
              0.6666666666666666,
              "#ed7953"
             ],
             [
              0.7777777777777778,
              "#fb9f3a"
             ],
             [
              0.8888888888888888,
              "#fdca26"
             ],
             [
              1.0,
              "#f0f921"
             ]
            ]
           }
          ],
          "heatmapgl": [
           {
            "type": "heatmapgl",
            "colorbar": {
             "outlinewidth": 0,
             "ticks": ""
            },
            "colorscale": [
             [
              0.0,
              "#0d0887"
             ],
             [
              0.1111111111111111,
              "#46039f"
             ],
             [
              0.2222222222222222,
              "#7201a8"
             ],
             [
              0.3333333333333333,
              "#9c179e"
             ],
             [
              0.4444444444444444,
              "#bd3786"
             ],
             [
              0.5555555555555556,
              "#d8576b"
             ],
             [
              0.6666666666666666,
              "#ed7953"
             ],
             [
              0.7777777777777778,
              "#fb9f3a"
             ],
             [
              0.8888888888888888,
              "#fdca26"
             ],
             [
              1.0,
              "#f0f921"
             ]
            ]
           }
          ],
          "contourcarpet": [
           {
            "type": "contourcarpet",
            "colorbar": {
             "outlinewidth": 0,
             "ticks": ""
            }
           }
          ],
          "contour": [
           {
            "type": "contour",
            "colorbar": {
             "outlinewidth": 0,
             "ticks": ""
            },
            "colorscale": [
             [
              0.0,
              "#0d0887"
             ],
             [
              0.1111111111111111,
              "#46039f"
             ],
             [
              0.2222222222222222,
              "#7201a8"
             ],
             [
              0.3333333333333333,
              "#9c179e"
             ],
             [
              0.4444444444444444,
              "#bd3786"
             ],
             [
              0.5555555555555556,
              "#d8576b"
             ],
             [
              0.6666666666666666,
              "#ed7953"
             ],
             [
              0.7777777777777778,
              "#fb9f3a"
             ],
             [
              0.8888888888888888,
              "#fdca26"
             ],
             [
              1.0,
              "#f0f921"
             ]
            ]
           }
          ],
          "surface": [
           {
            "type": "surface",
            "colorbar": {
             "outlinewidth": 0,
             "ticks": ""
            },
            "colorscale": [
             [
              0.0,
              "#0d0887"
             ],
             [
              0.1111111111111111,
              "#46039f"
             ],
             [
              0.2222222222222222,
              "#7201a8"
             ],
             [
              0.3333333333333333,
              "#9c179e"
             ],
             [
              0.4444444444444444,
              "#bd3786"
             ],
             [
              0.5555555555555556,
              "#d8576b"
             ],
             [
              0.6666666666666666,
              "#ed7953"
             ],
             [
              0.7777777777777778,
              "#fb9f3a"
             ],
             [
              0.8888888888888888,
              "#fdca26"
             ],
             [
              1.0,
              "#f0f921"
             ]
            ]
           }
          ],
          "mesh3d": [
           {
            "type": "mesh3d",
            "colorbar": {
             "outlinewidth": 0,
             "ticks": ""
            }
           }
          ],
          "scatter": [
           {
            "marker": {
             "line": {
              "color": "#283442"
             }
            },
            "type": "scatter"
           }
          ],
          "parcoords": [
           {
            "type": "parcoords",
            "line": {
             "colorbar": {
              "outlinewidth": 0,
              "ticks": ""
             }
            }
           }
          ],
          "scatterpolargl": [
           {
            "type": "scatterpolargl",
            "marker": {
             "colorbar": {
              "outlinewidth": 0,
              "ticks": ""
             }
            }
           }
          ],
          "bar": [
           {
            "error_x": {
             "color": "#f2f5fa"
            },
            "error_y": {
             "color": "#f2f5fa"
            },
            "marker": {
             "line": {
              "color": "rgb(17,17,17)",
              "width": 0.5
             },
             "pattern": {
              "fillmode": "overlay",
              "size": 10,
              "solidity": 0.2
             }
            },
            "type": "bar"
           }
          ],
          "scattergeo": [
           {
            "type": "scattergeo",
            "marker": {
             "colorbar": {
              "outlinewidth": 0,
              "ticks": ""
             }
            }
           }
          ],
          "scatterpolar": [
           {
            "type": "scatterpolar",
            "marker": {
             "colorbar": {
              "outlinewidth": 0,
              "ticks": ""
             }
            }
           }
          ],
          "histogram": [
           {
            "marker": {
             "pattern": {
              "fillmode": "overlay",
              "size": 10,
              "solidity": 0.2
             }
            },
            "type": "histogram"
           }
          ],
          "scattergl": [
           {
            "marker": {
             "line": {
              "color": "#283442"
             }
            },
            "type": "scattergl"
           }
          ],
          "scatter3d": [
           {
            "type": "scatter3d",
            "line": {
             "colorbar": {
              "outlinewidth": 0,
              "ticks": ""
             }
            },
            "marker": {
             "colorbar": {
              "outlinewidth": 0,
              "ticks": ""
             }
            }
           }
          ],
          "scattermapbox": [
           {
            "type": "scattermapbox",
            "marker": {
             "colorbar": {
              "outlinewidth": 0,
              "ticks": ""
             }
            }
           }
          ],
          "scatterternary": [
           {
            "type": "scatterternary",
            "marker": {
             "colorbar": {
              "outlinewidth": 0,
              "ticks": ""
             }
            }
           }
          ],
          "scattercarpet": [
           {
            "type": "scattercarpet",
            "marker": {
             "colorbar": {
              "outlinewidth": 0,
              "ticks": ""
             }
            }
           }
          ],
          "carpet": [
           {
            "aaxis": {
             "endlinecolor": "#A2B1C6",
             "gridcolor": "#506784",
             "linecolor": "#506784",
             "minorgridcolor": "#506784",
             "startlinecolor": "#A2B1C6"
            },
            "baxis": {
             "endlinecolor": "#A2B1C6",
             "gridcolor": "#506784",
             "linecolor": "#506784",
             "minorgridcolor": "#506784",
             "startlinecolor": "#A2B1C6"
            },
            "type": "carpet"
           }
          ],
          "table": [
           {
            "cells": {
             "fill": {
              "color": "#506784"
             },
             "line": {
              "color": "rgb(17,17,17)"
             }
            },
            "header": {
             "fill": {
              "color": "#2a3f5f"
             },
             "line": {
              "color": "rgb(17,17,17)"
             }
            },
            "type": "table"
           }
          ],
          "barpolar": [
           {
            "marker": {
             "line": {
              "color": "rgb(17,17,17)",
              "width": 0.5
             },
             "pattern": {
              "fillmode": "overlay",
              "size": 10,
              "solidity": 0.2
             }
            },
            "type": "barpolar"
           }
          ],
          "pie": [
           {
            "automargin": true,
            "type": "pie"
           }
          ]
         },
         "layout": {
          "autotypenumbers": "strict",
          "colorway": [
           "#636efa",
           "#EF553B",
           "#00cc96",
           "#ab63fa",
           "#FFA15A",
           "#19d3f3",
           "#FF6692",
           "#B6E880",
           "#FF97FF",
           "#FECB52"
          ],
          "font": {
           "color": "#f2f5fa"
          },
          "hovermode": "closest",
          "hoverlabel": {
           "align": "left"
          },
          "paper_bgcolor": "rgb(17,17,17)",
          "plot_bgcolor": "rgb(17,17,17)",
          "polar": {
           "bgcolor": "rgb(17,17,17)",
           "angularaxis": {
            "gridcolor": "#506784",
            "linecolor": "#506784",
            "ticks": ""
           },
           "radialaxis": {
            "gridcolor": "#506784",
            "linecolor": "#506784",
            "ticks": ""
           }
          },
          "ternary": {
           "bgcolor": "rgb(17,17,17)",
           "aaxis": {
            "gridcolor": "#506784",
            "linecolor": "#506784",
            "ticks": ""
           },
           "baxis": {
            "gridcolor": "#506784",
            "linecolor": "#506784",
            "ticks": ""
           },
           "caxis": {
            "gridcolor": "#506784",
            "linecolor": "#506784",
            "ticks": ""
           }
          },
          "coloraxis": {
           "colorbar": {
            "outlinewidth": 0,
            "ticks": ""
           }
          },
          "colorscale": {
           "sequential": [
            [
             0.0,
             "#0d0887"
            ],
            [
             0.1111111111111111,
             "#46039f"
            ],
            [
             0.2222222222222222,
             "#7201a8"
            ],
            [
             0.3333333333333333,
             "#9c179e"
            ],
            [
             0.4444444444444444,
             "#bd3786"
            ],
            [
             0.5555555555555556,
             "#d8576b"
            ],
            [
             0.6666666666666666,
             "#ed7953"
            ],
            [
             0.7777777777777778,
             "#fb9f3a"
            ],
            [
             0.8888888888888888,
             "#fdca26"
            ],
            [
             1.0,
             "#f0f921"
            ]
           ],
           "sequentialminus": [
            [
             0.0,
             "#0d0887"
            ],
            [
             0.1111111111111111,
             "#46039f"
            ],
            [
             0.2222222222222222,
             "#7201a8"
            ],
            [
             0.3333333333333333,
             "#9c179e"
            ],
            [
             0.4444444444444444,
             "#bd3786"
            ],
            [
             0.5555555555555556,
             "#d8576b"
            ],
            [
             0.6666666666666666,
             "#ed7953"
            ],
            [
             0.7777777777777778,
             "#fb9f3a"
            ],
            [
             0.8888888888888888,
             "#fdca26"
            ],
            [
             1.0,
             "#f0f921"
            ]
           ],
           "diverging": [
            [
             0,
             "#8e0152"
            ],
            [
             0.1,
             "#c51b7d"
            ],
            [
             0.2,
             "#de77ae"
            ],
            [
             0.3,
             "#f1b6da"
            ],
            [
             0.4,
             "#fde0ef"
            ],
            [
             0.5,
             "#f7f7f7"
            ],
            [
             0.6,
             "#e6f5d0"
            ],
            [
             0.7,
             "#b8e186"
            ],
            [
             0.8,
             "#7fbc41"
            ],
            [
             0.9,
             "#4d9221"
            ],
            [
             1,
             "#276419"
            ]
           ]
          },
          "xaxis": {
           "gridcolor": "#283442",
           "linecolor": "#506784",
           "ticks": "",
           "title": {
            "standoff": 15
           },
           "zerolinecolor": "#283442",
           "automargin": true,
           "zerolinewidth": 2
          },
          "yaxis": {
           "gridcolor": "#283442",
           "linecolor": "#506784",
           "ticks": "",
           "title": {
            "standoff": 15
           },
           "zerolinecolor": "#283442",
           "automargin": true,
           "zerolinewidth": 2
          },
          "scene": {
           "xaxis": {
            "backgroundcolor": "rgb(17,17,17)",
            "gridcolor": "#506784",
            "linecolor": "#506784",
            "showbackground": true,
            "ticks": "",
            "zerolinecolor": "#C8D4E3",
            "gridwidth": 2
           },
           "yaxis": {
            "backgroundcolor": "rgb(17,17,17)",
            "gridcolor": "#506784",
            "linecolor": "#506784",
            "showbackground": true,
            "ticks": "",
            "zerolinecolor": "#C8D4E3",
            "gridwidth": 2
           },
           "zaxis": {
            "backgroundcolor": "rgb(17,17,17)",
            "gridcolor": "#506784",
            "linecolor": "#506784",
            "showbackground": true,
            "ticks": "",
            "zerolinecolor": "#C8D4E3",
            "gridwidth": 2
           }
          },
          "shapedefaults": {
           "line": {
            "color": "#f2f5fa"
           }
          },
          "annotationdefaults": {
           "arrowcolor": "#f2f5fa",
           "arrowhead": 0,
           "arrowwidth": 1
          },
          "geo": {
           "bgcolor": "rgb(17,17,17)",
           "landcolor": "rgb(17,17,17)",
           "subunitcolor": "#506784",
           "showland": true,
           "showlakes": true,
           "lakecolor": "rgb(17,17,17)"
          },
          "title": {
           "x": 0.05
          },
          "updatemenudefaults": {
           "bgcolor": "#506784",
           "borderwidth": 0
          },
          "sliderdefaults": {
           "bgcolor": "#C8D4E3",
           "borderwidth": 1,
           "bordercolor": "rgb(17,17,17)",
           "tickwidth": 0
          },
          "mapbox": {
           "style": "dark"
          }
         }
        },
        "title": {
         "text": "Aantal landen met bepaalde conflict status (index level) "
        },
        "legend": {
         "title": {
          "text": "Index level"
         }
        }
       },
       "config": {
        "plotlyServerURL": "https://plot.ly"
       }
      },
      "text/html": [
       "<div>                            <div id=\"af31fcba-9a43-429d-8da9-fc0c2099227c\" class=\"plotly-graph-div\" style=\"height:525px; width:100%;\"></div>            <script type=\"text/javascript\">                require([\"plotly\"], function(Plotly) {                    window.PLOTLYENV=window.PLOTLYENV || {};                                    if (document.getElementById(\"af31fcba-9a43-429d-8da9-fc0c2099227c\")) {                    Plotly.newPlot(                        \"af31fcba-9a43-429d-8da9-fc0c2099227c\",                        [{\"labels\":[\"laag\\u002finactief\",\"Hoog\",\"Turbulent\",\"Extreem\"],\"marker\":{\"colors\":[\"blue\",\"orange\",\"yellow\",\"red\"]},\"values\":[120,19,19,10],\"type\":\"pie\"}],                        {\"template\":{\"data\":{\"histogram2dcontour\":[{\"type\":\"histogram2dcontour\",\"colorbar\":{\"outlinewidth\":0,\"ticks\":\"\"},\"colorscale\":[[0.0,\"#0d0887\"],[0.1111111111111111,\"#46039f\"],[0.2222222222222222,\"#7201a8\"],[0.3333333333333333,\"#9c179e\"],[0.4444444444444444,\"#bd3786\"],[0.5555555555555556,\"#d8576b\"],[0.6666666666666666,\"#ed7953\"],[0.7777777777777778,\"#fb9f3a\"],[0.8888888888888888,\"#fdca26\"],[1.0,\"#f0f921\"]]}],\"choropleth\":[{\"type\":\"choropleth\",\"colorbar\":{\"outlinewidth\":0,\"ticks\":\"\"}}],\"histogram2d\":[{\"type\":\"histogram2d\",\"colorbar\":{\"outlinewidth\":0,\"ticks\":\"\"},\"colorscale\":[[0.0,\"#0d0887\"],[0.1111111111111111,\"#46039f\"],[0.2222222222222222,\"#7201a8\"],[0.3333333333333333,\"#9c179e\"],[0.4444444444444444,\"#bd3786\"],[0.5555555555555556,\"#d8576b\"],[0.6666666666666666,\"#ed7953\"],[0.7777777777777778,\"#fb9f3a\"],[0.8888888888888888,\"#fdca26\"],[1.0,\"#f0f921\"]]}],\"heatmap\":[{\"type\":\"heatmap\",\"colorbar\":{\"outlinewidth\":0,\"ticks\":\"\"},\"colorscale\":[[0.0,\"#0d0887\"],[0.1111111111111111,\"#46039f\"],[0.2222222222222222,\"#7201a8\"],[0.3333333333333333,\"#9c179e\"],[0.4444444444444444,\"#bd3786\"],[0.5555555555555556,\"#d8576b\"],[0.6666666666666666,\"#ed7953\"],[0.7777777777777778,\"#fb9f3a\"],[0.8888888888888888,\"#fdca26\"],[1.0,\"#f0f921\"]]}],\"heatmapgl\":[{\"type\":\"heatmapgl\",\"colorbar\":{\"outlinewidth\":0,\"ticks\":\"\"},\"colorscale\":[[0.0,\"#0d0887\"],[0.1111111111111111,\"#46039f\"],[0.2222222222222222,\"#7201a8\"],[0.3333333333333333,\"#9c179e\"],[0.4444444444444444,\"#bd3786\"],[0.5555555555555556,\"#d8576b\"],[0.6666666666666666,\"#ed7953\"],[0.7777777777777778,\"#fb9f3a\"],[0.8888888888888888,\"#fdca26\"],[1.0,\"#f0f921\"]]}],\"contourcarpet\":[{\"type\":\"contourcarpet\",\"colorbar\":{\"outlinewidth\":0,\"ticks\":\"\"}}],\"contour\":[{\"type\":\"contour\",\"colorbar\":{\"outlinewidth\":0,\"ticks\":\"\"},\"colorscale\":[[0.0,\"#0d0887\"],[0.1111111111111111,\"#46039f\"],[0.2222222222222222,\"#7201a8\"],[0.3333333333333333,\"#9c179e\"],[0.4444444444444444,\"#bd3786\"],[0.5555555555555556,\"#d8576b\"],[0.6666666666666666,\"#ed7953\"],[0.7777777777777778,\"#fb9f3a\"],[0.8888888888888888,\"#fdca26\"],[1.0,\"#f0f921\"]]}],\"surface\":[{\"type\":\"surface\",\"colorbar\":{\"outlinewidth\":0,\"ticks\":\"\"},\"colorscale\":[[0.0,\"#0d0887\"],[0.1111111111111111,\"#46039f\"],[0.2222222222222222,\"#7201a8\"],[0.3333333333333333,\"#9c179e\"],[0.4444444444444444,\"#bd3786\"],[0.5555555555555556,\"#d8576b\"],[0.6666666666666666,\"#ed7953\"],[0.7777777777777778,\"#fb9f3a\"],[0.8888888888888888,\"#fdca26\"],[1.0,\"#f0f921\"]]}],\"mesh3d\":[{\"type\":\"mesh3d\",\"colorbar\":{\"outlinewidth\":0,\"ticks\":\"\"}}],\"scatter\":[{\"marker\":{\"line\":{\"color\":\"#283442\"}},\"type\":\"scatter\"}],\"parcoords\":[{\"type\":\"parcoords\",\"line\":{\"colorbar\":{\"outlinewidth\":0,\"ticks\":\"\"}}}],\"scatterpolargl\":[{\"type\":\"scatterpolargl\",\"marker\":{\"colorbar\":{\"outlinewidth\":0,\"ticks\":\"\"}}}],\"bar\":[{\"error_x\":{\"color\":\"#f2f5fa\"},\"error_y\":{\"color\":\"#f2f5fa\"},\"marker\":{\"line\":{\"color\":\"rgb(17,17,17)\",\"width\":0.5},\"pattern\":{\"fillmode\":\"overlay\",\"size\":10,\"solidity\":0.2}},\"type\":\"bar\"}],\"scattergeo\":[{\"type\":\"scattergeo\",\"marker\":{\"colorbar\":{\"outlinewidth\":0,\"ticks\":\"\"}}}],\"scatterpolar\":[{\"type\":\"scatterpolar\",\"marker\":{\"colorbar\":{\"outlinewidth\":0,\"ticks\":\"\"}}}],\"histogram\":[{\"marker\":{\"pattern\":{\"fillmode\":\"overlay\",\"size\":10,\"solidity\":0.2}},\"type\":\"histogram\"}],\"scattergl\":[{\"marker\":{\"line\":{\"color\":\"#283442\"}},\"type\":\"scattergl\"}],\"scatter3d\":[{\"type\":\"scatter3d\",\"line\":{\"colorbar\":{\"outlinewidth\":0,\"ticks\":\"\"}},\"marker\":{\"colorbar\":{\"outlinewidth\":0,\"ticks\":\"\"}}}],\"scattermapbox\":[{\"type\":\"scattermapbox\",\"marker\":{\"colorbar\":{\"outlinewidth\":0,\"ticks\":\"\"}}}],\"scatterternary\":[{\"type\":\"scatterternary\",\"marker\":{\"colorbar\":{\"outlinewidth\":0,\"ticks\":\"\"}}}],\"scattercarpet\":[{\"type\":\"scattercarpet\",\"marker\":{\"colorbar\":{\"outlinewidth\":0,\"ticks\":\"\"}}}],\"carpet\":[{\"aaxis\":{\"endlinecolor\":\"#A2B1C6\",\"gridcolor\":\"#506784\",\"linecolor\":\"#506784\",\"minorgridcolor\":\"#506784\",\"startlinecolor\":\"#A2B1C6\"},\"baxis\":{\"endlinecolor\":\"#A2B1C6\",\"gridcolor\":\"#506784\",\"linecolor\":\"#506784\",\"minorgridcolor\":\"#506784\",\"startlinecolor\":\"#A2B1C6\"},\"type\":\"carpet\"}],\"table\":[{\"cells\":{\"fill\":{\"color\":\"#506784\"},\"line\":{\"color\":\"rgb(17,17,17)\"}},\"header\":{\"fill\":{\"color\":\"#2a3f5f\"},\"line\":{\"color\":\"rgb(17,17,17)\"}},\"type\":\"table\"}],\"barpolar\":[{\"marker\":{\"line\":{\"color\":\"rgb(17,17,17)\",\"width\":0.5},\"pattern\":{\"fillmode\":\"overlay\",\"size\":10,\"solidity\":0.2}},\"type\":\"barpolar\"}],\"pie\":[{\"automargin\":true,\"type\":\"pie\"}]},\"layout\":{\"autotypenumbers\":\"strict\",\"colorway\":[\"#636efa\",\"#EF553B\",\"#00cc96\",\"#ab63fa\",\"#FFA15A\",\"#19d3f3\",\"#FF6692\",\"#B6E880\",\"#FF97FF\",\"#FECB52\"],\"font\":{\"color\":\"#f2f5fa\"},\"hovermode\":\"closest\",\"hoverlabel\":{\"align\":\"left\"},\"paper_bgcolor\":\"rgb(17,17,17)\",\"plot_bgcolor\":\"rgb(17,17,17)\",\"polar\":{\"bgcolor\":\"rgb(17,17,17)\",\"angularaxis\":{\"gridcolor\":\"#506784\",\"linecolor\":\"#506784\",\"ticks\":\"\"},\"radialaxis\":{\"gridcolor\":\"#506784\",\"linecolor\":\"#506784\",\"ticks\":\"\"}},\"ternary\":{\"bgcolor\":\"rgb(17,17,17)\",\"aaxis\":{\"gridcolor\":\"#506784\",\"linecolor\":\"#506784\",\"ticks\":\"\"},\"baxis\":{\"gridcolor\":\"#506784\",\"linecolor\":\"#506784\",\"ticks\":\"\"},\"caxis\":{\"gridcolor\":\"#506784\",\"linecolor\":\"#506784\",\"ticks\":\"\"}},\"coloraxis\":{\"colorbar\":{\"outlinewidth\":0,\"ticks\":\"\"}},\"colorscale\":{\"sequential\":[[0.0,\"#0d0887\"],[0.1111111111111111,\"#46039f\"],[0.2222222222222222,\"#7201a8\"],[0.3333333333333333,\"#9c179e\"],[0.4444444444444444,\"#bd3786\"],[0.5555555555555556,\"#d8576b\"],[0.6666666666666666,\"#ed7953\"],[0.7777777777777778,\"#fb9f3a\"],[0.8888888888888888,\"#fdca26\"],[1.0,\"#f0f921\"]],\"sequentialminus\":[[0.0,\"#0d0887\"],[0.1111111111111111,\"#46039f\"],[0.2222222222222222,\"#7201a8\"],[0.3333333333333333,\"#9c179e\"],[0.4444444444444444,\"#bd3786\"],[0.5555555555555556,\"#d8576b\"],[0.6666666666666666,\"#ed7953\"],[0.7777777777777778,\"#fb9f3a\"],[0.8888888888888888,\"#fdca26\"],[1.0,\"#f0f921\"]],\"diverging\":[[0,\"#8e0152\"],[0.1,\"#c51b7d\"],[0.2,\"#de77ae\"],[0.3,\"#f1b6da\"],[0.4,\"#fde0ef\"],[0.5,\"#f7f7f7\"],[0.6,\"#e6f5d0\"],[0.7,\"#b8e186\"],[0.8,\"#7fbc41\"],[0.9,\"#4d9221\"],[1,\"#276419\"]]},\"xaxis\":{\"gridcolor\":\"#283442\",\"linecolor\":\"#506784\",\"ticks\":\"\",\"title\":{\"standoff\":15},\"zerolinecolor\":\"#283442\",\"automargin\":true,\"zerolinewidth\":2},\"yaxis\":{\"gridcolor\":\"#283442\",\"linecolor\":\"#506784\",\"ticks\":\"\",\"title\":{\"standoff\":15},\"zerolinecolor\":\"#283442\",\"automargin\":true,\"zerolinewidth\":2},\"scene\":{\"xaxis\":{\"backgroundcolor\":\"rgb(17,17,17)\",\"gridcolor\":\"#506784\",\"linecolor\":\"#506784\",\"showbackground\":true,\"ticks\":\"\",\"zerolinecolor\":\"#C8D4E3\",\"gridwidth\":2},\"yaxis\":{\"backgroundcolor\":\"rgb(17,17,17)\",\"gridcolor\":\"#506784\",\"linecolor\":\"#506784\",\"showbackground\":true,\"ticks\":\"\",\"zerolinecolor\":\"#C8D4E3\",\"gridwidth\":2},\"zaxis\":{\"backgroundcolor\":\"rgb(17,17,17)\",\"gridcolor\":\"#506784\",\"linecolor\":\"#506784\",\"showbackground\":true,\"ticks\":\"\",\"zerolinecolor\":\"#C8D4E3\",\"gridwidth\":2}},\"shapedefaults\":{\"line\":{\"color\":\"#f2f5fa\"}},\"annotationdefaults\":{\"arrowcolor\":\"#f2f5fa\",\"arrowhead\":0,\"arrowwidth\":1},\"geo\":{\"bgcolor\":\"rgb(17,17,17)\",\"landcolor\":\"rgb(17,17,17)\",\"subunitcolor\":\"#506784\",\"showland\":true,\"showlakes\":true,\"lakecolor\":\"rgb(17,17,17)\"},\"title\":{\"x\":0.05},\"updatemenudefaults\":{\"bgcolor\":\"#506784\",\"borderwidth\":0},\"sliderdefaults\":{\"bgcolor\":\"#C8D4E3\",\"borderwidth\":1,\"bordercolor\":\"rgb(17,17,17)\",\"tickwidth\":0},\"mapbox\":{\"style\":\"dark\"}}},\"title\":{\"text\":\"Aantal landen met bepaalde conflict status (index level) \"},\"legend\":{\"title\":{\"text\":\"Index level\"}}},                        {\"responsive\": true}                    ).then(function(){\n",
       "                            \n",
       "var gd = document.getElementById('af31fcba-9a43-429d-8da9-fc0c2099227c');\n",
       "var x = new MutationObserver(function (mutations, observer) {{\n",
       "        var display = window.getComputedStyle(gd).display;\n",
       "        if (!display || display === 'none') {{\n",
       "            console.log([gd, 'removed!']);\n",
       "            Plotly.purge(gd);\n",
       "            observer.disconnect();\n",
       "        }}\n",
       "}});\n",
       "\n",
       "// Listen for the removal of the full notebook cells\n",
       "var notebookContainer = gd.closest('#notebook-container');\n",
       "if (notebookContainer) {{\n",
       "    x.observe(notebookContainer, {childList: true});\n",
       "}}\n",
       "\n",
       "// Listen for the clearing of the current output cell\n",
       "var outputEl = gd.closest('.output');\n",
       "if (outputEl) {{\n",
       "    x.observe(outputEl, {childList: true});\n",
       "}}\n",
       "\n",
       "                        })                };                });            </script>        </div>"
      ]
     },
     "metadata": {},
     "output_type": "display_data"
    }
   ],
   "execution_count": 58
  },
  {
   "cell_type": "markdown",
   "metadata": {},
   "source": [
    "Tekst"
   ]
  },
  {
   "cell_type": "markdown",
   "metadata": {},
   "source": [
    "## Tweede perspectief\n",
    "\n",
    "### Data voor visualisatie 1 & 2\n",
    "\n",
    "Persvrijheid data voorbereiden"
   ]
  },
  {
   "cell_type": "code",
   "metadata": {
    "ExecuteTime": {
     "end_time": "2024-06-18T18:54:12.818273Z",
     "start_time": "2024-06-18T18:54:12.788769Z"
    }
   },
   "source": [
    "# create a dataframe for the pressfreedom data of every year, renamed a few columns from the latest three datasets so they are the same as the rest\n",
    "df_24 = pd.read_csv('./data/persvrijheid/2024.csv', sep = ';').rename(columns={\"Score\": \"Score N\", \"Rank\": \"Rank N\", \"Country_FR\": \"FR_country\", \"Country_EN\": \"EN_country\", \"Country_ES\": \"ES_country\", \"Country_FA\": \"FA_country\", \"Country_AR\": \"AR_country\"})\n",
    "\n",
    "df_23 = pd.read_csv('./data/persvrijheid/2023.csv', sep = ';').rename(columns={\"Score\": \"Score N\", \"Rank\": \"Rank N\", \"Country_FR\": \"FR_country\", \"Country_EN\": \"EN_country\", \"Country_ES\": \"ES_country\", \"Country_FA\": \"FA_country\", \"Country_AR\": \"AR_country\"})\n",
    "\n",
    "df_22 = pd.read_csv('./data/persvrijheid/2022.csv', sep = ';').rename(columns={\"Score\": \"Score N\", \"Rank\": \"Rank N\", \"Country_FR\": \"FR_country\", \"Country_EN\": \"EN_country\", \"Country_ES\": \"ES_country\", \"Country_FA\": \"FA_country\", \"Country_AR\": \"AR_country\"})\n",
    "\n",
    "df_21 = pd.read_csv('./data/persvrijheid/2021.csv', sep = ';')\n",
    "df_20 = pd.read_csv('./data/persvrijheid/2020.csv', sep = ';')\n",
    "df_19 = pd.read_csv('./data/persvrijheid/2019.csv', sep = ';')"
   ],
   "outputs": [],
   "execution_count": 59
  },
  {
   "cell_type": "code",
   "metadata": {
    "ExecuteTime": {
     "end_time": "2024-06-18T18:54:12.833775Z",
     "start_time": "2024-06-18T18:54:12.820772Z"
    }
   },
   "source": [
    "# combineer de data voor elk land vanaf het jaar 2019\n",
    "\n",
    "df_combined_19 = pd.concat([df_24, df_23, df_22, df_21, df_20, df_19])\n",
    "df_grouped_19 = df_combined_19.groupby(by='ISO')"
   ],
   "outputs": [],
   "execution_count": 60
  },
  {
   "cell_type": "markdown",
   "metadata": {},
   "source": [
    "Democratie data (2023) voorbereiden:"
   ]
  },
  {
   "cell_type": "code",
   "metadata": {
    "ExecuteTime": {
     "end_time": "2024-06-18T18:54:12.849275Z",
     "start_time": "2024-06-18T18:54:12.835776Z"
    }
   },
   "source": [
    "# maak de data klaar voor de persvrijheid en democratie scores van 2023\n",
    "\n",
    "data_23 = pd.read_csv('./data/persvrijheid/2023.csv', sep = ';')\n",
    "data_dem = pd.read_csv('./data/democracy.csv')\n",
    "data_dem_23 = data_dem[data_dem[\"Year\"]==2023].sort_values(by=\"Democracy score\", ascending=False).reset_index().rename(columns={'Entity':'Country_EN'})"
   ],
   "outputs": [],
   "execution_count": 61
  },
  {
   "cell_type": "code",
   "metadata": {
    "ExecuteTime": {
     "end_time": "2024-06-18T18:54:12.880278Z",
     "start_time": "2024-06-18T18:54:12.850277Z"
    }
   },
   "source": [
    "# geef de landen een ranking gebaseerd om de democratie score\n",
    "\n",
    "score = data_dem_23.iloc[0][\"Democracy score\"]\n",
    "rank = 1\n",
    "ranking = []\n",
    "for country in data_dem_23.index:\n",
    "    count = country + 1\n",
    "    if len(ranking)==0:\n",
    "        ranking.append(1)\n",
    "    else: \n",
    "        if data_dem_23.iloc[country][\"Democracy score\"] == data_dem_23.iloc[country-1][\"Democracy score\"]:\n",
    "            ranking.append(ranking[-1])\n",
    "        elif data_dem_23.iloc[country][\"Democracy score\"] < data_dem_23.iloc[country-1][\"Democracy score\"]:\n",
    "            ranking.append(count)\n",
    "            \n",
    "data_dem_23[\"ranking\"] = ranking"
   ],
   "outputs": [],
   "execution_count": 62
  },
  {
   "cell_type": "code",
   "metadata": {
    "ExecuteTime": {
     "end_time": "2024-06-18T18:54:12.895781Z",
     "start_time": "2024-06-18T18:54:12.882780Z"
    }
   },
   "source": [
    "#join de democratie en persvrijheid data tot één dataframe\n",
    "data_joined = pd.merge(data_dem_23, data_23, on='Country_EN', how='inner')"
   ],
   "outputs": [],
   "execution_count": 63
  },
  {
   "cell_type": "markdown",
   "metadata": {},
   "source": [
    "### Data voor visualisatie 3\n",
    "\n",
    "Overige democratie data voorbereiden (vanaf 2019)"
   ]
  },
  {
   "cell_type": "code",
   "metadata": {
    "ExecuteTime": {
     "end_time": "2024-06-18T18:54:13.019793Z",
     "start_time": "2024-06-18T18:54:12.897283Z"
    }
   },
   "source": [
    "# maak ook de democratie data klaar voor de andere jaartallen vanaf 2019 (voor 2024 is er geen data)\n",
    "\n",
    "data_dem_22 = data_dem[data_dem[\"Year\"]==2022].sort_values(by=\"Democracy score\", ascending=False).reset_index().rename(columns={'Entity':'Country_EN'})\n",
    "data_dem_21 = data_dem[data_dem[\"Year\"]==2021].sort_values(by=\"Democracy score\", ascending=False).reset_index().rename(columns={'Entity':'Country_EN'})\n",
    "data_dem_20 = data_dem[data_dem[\"Year\"]==2020].sort_values(by=\"Democracy score\", ascending=False).reset_index().rename(columns={'Entity':'Country_EN'})\n",
    "data_dem_19 = data_dem[data_dem[\"Year\"]==2019].sort_values(by=\"Democracy score\", ascending=False).reset_index().rename(columns={'Entity':'Country_EN'})\n",
    "\n",
    "\n",
    "\n",
    "# 2022\n",
    "score = data_dem_22.iloc[0][\"Democracy score\"]\n",
    "rank = 1\n",
    "ranking = []\n",
    "for country in data_dem_22.index:\n",
    "    count = country + 1\n",
    "    if len(ranking)==0:\n",
    "        ranking.append(1)\n",
    "    else: \n",
    "        if data_dem_22.iloc[country][\"Democracy score\"] == data_dem_22.iloc[country-1][\"Democracy score\"]:\n",
    "            ranking.append(ranking[-1])\n",
    "        elif data_dem_22.iloc[country][\"Democracy score\"] < data_dem_22.iloc[country-1][\"Democracy score\"]:\n",
    "            ranking.append(count)\n",
    "            \n",
    "data_dem_22[\"ranking\"] = ranking\n",
    "\n",
    "\n",
    "#2021\n",
    "score = data_dem_21.iloc[0][\"Democracy score\"]\n",
    "rank = 1\n",
    "ranking = []\n",
    "for country in data_dem_21.index:\n",
    "    count = country + 1\n",
    "    if len(ranking)==0:\n",
    "        ranking.append(1)\n",
    "    else: \n",
    "        if data_dem_21.iloc[country][\"Democracy score\"] == data_dem_21.iloc[country-1][\"Democracy score\"]:\n",
    "            ranking.append(ranking[-1])\n",
    "        elif data_dem_21.iloc[country][\"Democracy score\"] < data_dem_21.iloc[country-1][\"Democracy score\"]:\n",
    "            ranking.append(count)\n",
    "            \n",
    "data_dem_21[\"ranking\"] = ranking\n",
    "\n",
    "\n",
    "#2020\n",
    "score = data_dem_20.iloc[0][\"Democracy score\"]\n",
    "rank = 1\n",
    "ranking = []\n",
    "for country in data_dem_20.index:\n",
    "    count = country + 1\n",
    "    if len(ranking)==0:\n",
    "        ranking.append(1)\n",
    "    else: \n",
    "        if data_dem_20.iloc[country][\"Democracy score\"] == data_dem_20.iloc[country-1][\"Democracy score\"]:\n",
    "            ranking.append(ranking[-1])\n",
    "        elif data_dem_20.iloc[country][\"Democracy score\"] < data_dem_20.iloc[country-1][\"Democracy score\"]:\n",
    "            ranking.append(count)\n",
    "            \n",
    "data_dem_20[\"ranking\"] = ranking\n",
    "\n",
    "\n",
    "#2019\n",
    "score = data_dem_19.iloc[0][\"Democracy score\"]\n",
    "rank = 1\n",
    "ranking = []\n",
    "for country in data_dem_19.index:\n",
    "    count = country + 1\n",
    "    if len(ranking)==0:\n",
    "        ranking.append(1)\n",
    "    else: \n",
    "        if data_dem_19.iloc[country][\"Democracy score\"] == data_dem_19.iloc[country-1][\"Democracy score\"]:\n",
    "            ranking.append(ranking[-1])\n",
    "        elif data_dem_19.iloc[country][\"Democracy score\"] < data_dem_19.iloc[country-1][\"Democracy score\"]:\n",
    "            ranking.append(count)\n",
    "            \n",
    "data_dem_19[\"ranking\"] = ranking\n",
    "\n",
    "\n",
    "\n",
    "\n",
    "# combine them all\n",
    "data_dem_combined = pd.concat([data_dem_23, data_dem_22, data_dem_21, data_dem_20, data_dem_19])"
   ],
   "outputs": [],
   "execution_count": 64
  },
  {
   "cell_type": "markdown",
   "metadata": {},
   "source": [
    "### Data voor visualisatie 4\n",
    "\n",
    "Conflict data voorbereiden"
   ]
  },
  {
   "cell_type": "code",
   "metadata": {
    "ExecuteTime": {
     "end_time": "2024-06-18T18:54:13.050796Z",
     "start_time": "2024-06-18T18:54:13.021294Z"
    }
   },
   "source": [
    "data_conflict = pd.read_csv('./data/conflict.csv').rename(columns={'country': 'Country_EN'})\n",
    "display(data_conflict)"
   ],
   "outputs": [
    {
     "data": {
      "text/plain": [
       "                              Country_EN Index Category 2023  \\\n",
       "0                                Myanmar             Extreme   \n",
       "1                                  Syria             Extreme   \n",
       "2                              Palestine             Extreme   \n",
       "3                                 Mexico             Extreme   \n",
       "4                                Nigeria             Extreme   \n",
       "..                                   ...                 ...   \n",
       "238                             Kiribati        Low/Inactive   \n",
       "239             Northern Mariana Islands        Low/Inactive   \n",
       "240                                Palau        Low/Inactive   \n",
       "241                           Antarctica        Low/Inactive   \n",
       "242  French Southern and Antarctic Lands        Low/Inactive   \n",
       "\n",
       "     Index Ranking 2023 Index Category July 2023  Index Ranking July 2023  \\\n",
       "0                     1                  Extreme                      1.0   \n",
       "1                     2                  Extreme                      2.0   \n",
       "2                     3                     High                     11.0   \n",
       "3                     4                  Extreme                      3.0   \n",
       "4                     5                  Extreme                      5.0   \n",
       "..                  ...                      ...                      ...   \n",
       "238                 163             Low/Inactive                    167.0   \n",
       "239                 163             Low/Inactive                    167.0   \n",
       "240                 163             Low/Inactive                    167.0   \n",
       "241                 163             Low/Inactive                    167.0   \n",
       "242                 163                      NaN                      NaN   \n",
       "\n",
       "    Change category since July 2023  Change in ranking since July 2023  \\\n",
       "0           Consistently concerning                                0.0   \n",
       "1           Consistently concerning                                0.0   \n",
       "2                         Worsening                                8.0   \n",
       "3           Consistently concerning                               -1.0   \n",
       "4           Consistently concerning                                0.0   \n",
       "..                              ...                                ...   \n",
       "238                      Consistent                                4.0   \n",
       "239                      Consistent                                4.0   \n",
       "240                      Consistent                                4.0   \n",
       "241                      Consistent                                4.0   \n",
       "242                             NaN                                NaN   \n",
       "\n",
       "     Deadliness Ranking 2023  Danger Ranking 2023  Diffusion Ranking 2023  \\\n",
       "0                          3                    4                       9   \n",
       "1                         10                    5                       4   \n",
       "2                          2                    3                       1   \n",
       "3                          8                    1                      17   \n",
       "4                          5                    7                      19   \n",
       "..                       ...                  ...                     ...   \n",
       "238                      125                  161                      54   \n",
       "239                      125                  161                      54   \n",
       "240                      125                  161                      54   \n",
       "241                      125                  161                      54   \n",
       "242                      125                  161                      54   \n",
       "\n",
       "     Fragmentation Ranking 2023  Deadliness Ranking July 2023  \\\n",
       "0                             1                           2.0   \n",
       "1                             2                           8.0   \n",
       "2                            16                          34.0   \n",
       "3                             5                           5.0   \n",
       "4                             9                           3.0   \n",
       "..                          ...                           ...   \n",
       "238                         118                         125.0   \n",
       "239                         118                         125.0   \n",
       "240                         118                         125.0   \n",
       "241                         118                         125.0   \n",
       "242                         118                           NaN   \n",
       "\n",
       "     Danger Ranking July 2023  Diffusion Ranking July 2023  \\\n",
       "0                         4.0                          8.0   \n",
       "1                         5.0                          3.0   \n",
       "2                         9.0                          1.0   \n",
       "3                         1.0                         18.0   \n",
       "4                         6.0                         22.0   \n",
       "..                        ...                          ...   \n",
       "238                     163.0                         59.0   \n",
       "239                     163.0                         59.0   \n",
       "240                     163.0                         59.0   \n",
       "241                     163.0                         59.0   \n",
       "242                       NaN                          NaN   \n",
       "\n",
       "     Fragmentation Ranking July 2023  Change in ranking since 2019  \\\n",
       "0                                1.0                            17   \n",
       "1                                2.0                            -1   \n",
       "2                               17.0                            20   \n",
       "3                                6.0                            -1   \n",
       "4                                9.0                             6   \n",
       "..                               ...                           ...   \n",
       "238                            125.0                           -30   \n",
       "239                            125.0                           -30   \n",
       "240                            125.0                           -30   \n",
       "241                            125.0                           -30   \n",
       "242                              NaN                           -30   \n",
       "\n",
       "    Change category since 2019  Total score 2023  \n",
       "0                    Worsening             2.109  \n",
       "1      Consistently concerning             0.987  \n",
       "2                    Worsening             2.456  \n",
       "3      Consistently concerning             1.310  \n",
       "4                    Worsening             0.728  \n",
       "..                         ...               ...  \n",
       "238                 Consistent             0.000  \n",
       "239                 Consistent             0.000  \n",
       "240                 Consistent             0.000  \n",
       "241                 Consistent             0.000  \n",
       "242                 Consistent             0.000  \n",
       "\n",
       "[243 rows x 18 columns]"
      ],
      "text/html": [
       "<div>\n",
       "<style scoped>\n",
       "    .dataframe tbody tr th:only-of-type {\n",
       "        vertical-align: middle;\n",
       "    }\n",
       "\n",
       "    .dataframe tbody tr th {\n",
       "        vertical-align: top;\n",
       "    }\n",
       "\n",
       "    .dataframe thead th {\n",
       "        text-align: right;\n",
       "    }\n",
       "</style>\n",
       "<table border=\"1\" class=\"dataframe\">\n",
       "  <thead>\n",
       "    <tr style=\"text-align: right;\">\n",
       "      <th></th>\n",
       "      <th>Country_EN</th>\n",
       "      <th>Index Category 2023</th>\n",
       "      <th>Index Ranking 2023</th>\n",
       "      <th>Index Category July 2023</th>\n",
       "      <th>Index Ranking July 2023</th>\n",
       "      <th>Change category since July 2023</th>\n",
       "      <th>Change in ranking since July 2023</th>\n",
       "      <th>Deadliness Ranking 2023</th>\n",
       "      <th>Danger Ranking 2023</th>\n",
       "      <th>Diffusion Ranking 2023</th>\n",
       "      <th>Fragmentation Ranking 2023</th>\n",
       "      <th>Deadliness Ranking July 2023</th>\n",
       "      <th>Danger Ranking July 2023</th>\n",
       "      <th>Diffusion Ranking July 2023</th>\n",
       "      <th>Fragmentation Ranking July 2023</th>\n",
       "      <th>Change in ranking since 2019</th>\n",
       "      <th>Change category since 2019</th>\n",
       "      <th>Total score 2023</th>\n",
       "    </tr>\n",
       "  </thead>\n",
       "  <tbody>\n",
       "    <tr>\n",
       "      <th>0</th>\n",
       "      <td>Myanmar</td>\n",
       "      <td>Extreme</td>\n",
       "      <td>1</td>\n",
       "      <td>Extreme</td>\n",
       "      <td>1.0</td>\n",
       "      <td>Consistently concerning</td>\n",
       "      <td>0.0</td>\n",
       "      <td>3</td>\n",
       "      <td>4</td>\n",
       "      <td>9</td>\n",
       "      <td>1</td>\n",
       "      <td>2.0</td>\n",
       "      <td>4.0</td>\n",
       "      <td>8.0</td>\n",
       "      <td>1.0</td>\n",
       "      <td>17</td>\n",
       "      <td>Worsening</td>\n",
       "      <td>2.109</td>\n",
       "    </tr>\n",
       "    <tr>\n",
       "      <th>1</th>\n",
       "      <td>Syria</td>\n",
       "      <td>Extreme</td>\n",
       "      <td>2</td>\n",
       "      <td>Extreme</td>\n",
       "      <td>2.0</td>\n",
       "      <td>Consistently concerning</td>\n",
       "      <td>0.0</td>\n",
       "      <td>10</td>\n",
       "      <td>5</td>\n",
       "      <td>4</td>\n",
       "      <td>2</td>\n",
       "      <td>8.0</td>\n",
       "      <td>5.0</td>\n",
       "      <td>3.0</td>\n",
       "      <td>2.0</td>\n",
       "      <td>-1</td>\n",
       "      <td>Consistently concerning</td>\n",
       "      <td>0.987</td>\n",
       "    </tr>\n",
       "    <tr>\n",
       "      <th>2</th>\n",
       "      <td>Palestine</td>\n",
       "      <td>Extreme</td>\n",
       "      <td>3</td>\n",
       "      <td>High</td>\n",
       "      <td>11.0</td>\n",
       "      <td>Worsening</td>\n",
       "      <td>8.0</td>\n",
       "      <td>2</td>\n",
       "      <td>3</td>\n",
       "      <td>1</td>\n",
       "      <td>16</td>\n",
       "      <td>34.0</td>\n",
       "      <td>9.0</td>\n",
       "      <td>1.0</td>\n",
       "      <td>17.0</td>\n",
       "      <td>20</td>\n",
       "      <td>Worsening</td>\n",
       "      <td>2.456</td>\n",
       "    </tr>\n",
       "    <tr>\n",
       "      <th>3</th>\n",
       "      <td>Mexico</td>\n",
       "      <td>Extreme</td>\n",
       "      <td>4</td>\n",
       "      <td>Extreme</td>\n",
       "      <td>3.0</td>\n",
       "      <td>Consistently concerning</td>\n",
       "      <td>-1.0</td>\n",
       "      <td>8</td>\n",
       "      <td>1</td>\n",
       "      <td>17</td>\n",
       "      <td>5</td>\n",
       "      <td>5.0</td>\n",
       "      <td>1.0</td>\n",
       "      <td>18.0</td>\n",
       "      <td>6.0</td>\n",
       "      <td>-1</td>\n",
       "      <td>Consistently concerning</td>\n",
       "      <td>1.310</td>\n",
       "    </tr>\n",
       "    <tr>\n",
       "      <th>4</th>\n",
       "      <td>Nigeria</td>\n",
       "      <td>Extreme</td>\n",
       "      <td>5</td>\n",
       "      <td>Extreme</td>\n",
       "      <td>5.0</td>\n",
       "      <td>Consistently concerning</td>\n",
       "      <td>0.0</td>\n",
       "      <td>5</td>\n",
       "      <td>7</td>\n",
       "      <td>19</td>\n",
       "      <td>9</td>\n",
       "      <td>3.0</td>\n",
       "      <td>6.0</td>\n",
       "      <td>22.0</td>\n",
       "      <td>9.0</td>\n",
       "      <td>6</td>\n",
       "      <td>Worsening</td>\n",
       "      <td>0.728</td>\n",
       "    </tr>\n",
       "    <tr>\n",
       "      <th>...</th>\n",
       "      <td>...</td>\n",
       "      <td>...</td>\n",
       "      <td>...</td>\n",
       "      <td>...</td>\n",
       "      <td>...</td>\n",
       "      <td>...</td>\n",
       "      <td>...</td>\n",
       "      <td>...</td>\n",
       "      <td>...</td>\n",
       "      <td>...</td>\n",
       "      <td>...</td>\n",
       "      <td>...</td>\n",
       "      <td>...</td>\n",
       "      <td>...</td>\n",
       "      <td>...</td>\n",
       "      <td>...</td>\n",
       "      <td>...</td>\n",
       "      <td>...</td>\n",
       "    </tr>\n",
       "    <tr>\n",
       "      <th>238</th>\n",
       "      <td>Kiribati</td>\n",
       "      <td>Low/Inactive</td>\n",
       "      <td>163</td>\n",
       "      <td>Low/Inactive</td>\n",
       "      <td>167.0</td>\n",
       "      <td>Consistent</td>\n",
       "      <td>4.0</td>\n",
       "      <td>125</td>\n",
       "      <td>161</td>\n",
       "      <td>54</td>\n",
       "      <td>118</td>\n",
       "      <td>125.0</td>\n",
       "      <td>163.0</td>\n",
       "      <td>59.0</td>\n",
       "      <td>125.0</td>\n",
       "      <td>-30</td>\n",
       "      <td>Consistent</td>\n",
       "      <td>0.000</td>\n",
       "    </tr>\n",
       "    <tr>\n",
       "      <th>239</th>\n",
       "      <td>Northern Mariana Islands</td>\n",
       "      <td>Low/Inactive</td>\n",
       "      <td>163</td>\n",
       "      <td>Low/Inactive</td>\n",
       "      <td>167.0</td>\n",
       "      <td>Consistent</td>\n",
       "      <td>4.0</td>\n",
       "      <td>125</td>\n",
       "      <td>161</td>\n",
       "      <td>54</td>\n",
       "      <td>118</td>\n",
       "      <td>125.0</td>\n",
       "      <td>163.0</td>\n",
       "      <td>59.0</td>\n",
       "      <td>125.0</td>\n",
       "      <td>-30</td>\n",
       "      <td>Consistent</td>\n",
       "      <td>0.000</td>\n",
       "    </tr>\n",
       "    <tr>\n",
       "      <th>240</th>\n",
       "      <td>Palau</td>\n",
       "      <td>Low/Inactive</td>\n",
       "      <td>163</td>\n",
       "      <td>Low/Inactive</td>\n",
       "      <td>167.0</td>\n",
       "      <td>Consistent</td>\n",
       "      <td>4.0</td>\n",
       "      <td>125</td>\n",
       "      <td>161</td>\n",
       "      <td>54</td>\n",
       "      <td>118</td>\n",
       "      <td>125.0</td>\n",
       "      <td>163.0</td>\n",
       "      <td>59.0</td>\n",
       "      <td>125.0</td>\n",
       "      <td>-30</td>\n",
       "      <td>Consistent</td>\n",
       "      <td>0.000</td>\n",
       "    </tr>\n",
       "    <tr>\n",
       "      <th>241</th>\n",
       "      <td>Antarctica</td>\n",
       "      <td>Low/Inactive</td>\n",
       "      <td>163</td>\n",
       "      <td>Low/Inactive</td>\n",
       "      <td>167.0</td>\n",
       "      <td>Consistent</td>\n",
       "      <td>4.0</td>\n",
       "      <td>125</td>\n",
       "      <td>161</td>\n",
       "      <td>54</td>\n",
       "      <td>118</td>\n",
       "      <td>125.0</td>\n",
       "      <td>163.0</td>\n",
       "      <td>59.0</td>\n",
       "      <td>125.0</td>\n",
       "      <td>-30</td>\n",
       "      <td>Consistent</td>\n",
       "      <td>0.000</td>\n",
       "    </tr>\n",
       "    <tr>\n",
       "      <th>242</th>\n",
       "      <td>French Southern and Antarctic Lands</td>\n",
       "      <td>Low/Inactive</td>\n",
       "      <td>163</td>\n",
       "      <td>NaN</td>\n",
       "      <td>NaN</td>\n",
       "      <td>NaN</td>\n",
       "      <td>NaN</td>\n",
       "      <td>125</td>\n",
       "      <td>161</td>\n",
       "      <td>54</td>\n",
       "      <td>118</td>\n",
       "      <td>NaN</td>\n",
       "      <td>NaN</td>\n",
       "      <td>NaN</td>\n",
       "      <td>NaN</td>\n",
       "      <td>-30</td>\n",
       "      <td>Consistent</td>\n",
       "      <td>0.000</td>\n",
       "    </tr>\n",
       "  </tbody>\n",
       "</table>\n",
       "<p>243 rows × 18 columns</p>\n",
       "</div>"
      ]
     },
     "metadata": {},
     "output_type": "display_data"
    }
   ],
   "execution_count": 65
  },
  {
   "cell_type": "code",
   "metadata": {
    "ExecuteTime": {
     "end_time": "2024-06-18T18:54:13.081799Z",
     "start_time": "2024-06-18T18:54:13.052297Z"
    }
   },
   "source": [
    "# join de data\n",
    "\n",
    "data_joined_2 = pd.merge(data_dem_23, data_conflict, on='Country_EN', how='inner')\n",
    "display(data_joined_2)"
   ],
   "outputs": [
    {
     "data": {
      "text/plain": [
       "     index   Country_EN Code  Year  Democracy score  ranking  \\\n",
       "0     1907       Norway  NOR  2023             9.81        1   \n",
       "1     1796  New Zealand  NZL  2023             9.61        2   \n",
       "2     1160      Iceland  ISL  2023             9.45        3   \n",
       "3     2385       Sweden  SWE  2023             9.39        4   \n",
       "4      904      Finland  FIN  2023             9.30        5   \n",
       "..     ...          ...  ...   ...              ...      ...   \n",
       "138   2131       Russia  RUS  2023             2.22      151   \n",
       "139   1048       Guinea  GIN  2023             2.21      152   \n",
       "140    936        Gabon  GAB  2023             2.18      153   \n",
       "141    381      Burundi  BDI  2023             2.13      154   \n",
       "142    507        China  CHN  2023             2.12      155   \n",
       "\n",
       "    Index Category 2023  Index Ranking 2023 Index Category July 2023  \\\n",
       "0          Low/Inactive                 146             Low/Inactive   \n",
       "1          Low/Inactive                 163             Low/Inactive   \n",
       "2          Low/Inactive                 146             Low/Inactive   \n",
       "3          Low/Inactive                 140             Low/Inactive   \n",
       "4          Low/Inactive                 146             Low/Inactive   \n",
       "..                  ...                 ...                      ...   \n",
       "138           Turbulent                  36                Turbulent   \n",
       "139        Low/Inactive                  65             Low/Inactive   \n",
       "140        Low/Inactive                 105             Low/Inactive   \n",
       "141           Turbulent                  32                Turbulent   \n",
       "142        Low/Inactive                  66             Low/Inactive   \n",
       "\n",
       "     Index Ranking July 2023  ... Danger Ranking 2023  Diffusion Ranking 2023  \\\n",
       "0                      156.0  ...                 139                      54   \n",
       "1                      167.0  ...                 161                      54   \n",
       "2                      167.0  ...                 139                      54   \n",
       "3                      139.0  ...                 128                      54   \n",
       "4                      156.0  ...                 139                      54   \n",
       "..                       ...  ...                 ...                     ...   \n",
       "138                     39.0  ...                  29                      40   \n",
       "139                     77.0  ...                  64                      54   \n",
       "140                    118.0  ...                 103                      54   \n",
       "141                     35.0  ...                  34                      13   \n",
       "142                     69.0  ...                  46                      54   \n",
       "\n",
       "     Fragmentation Ranking 2023  Deadliness Ranking July 2023  \\\n",
       "0                           118                         125.0   \n",
       "1                           118                         125.0   \n",
       "2                           118                         125.0   \n",
       "3                           118                         125.0   \n",
       "4                           118                         125.0   \n",
       "..                          ...                           ...   \n",
       "138                          33                          45.0   \n",
       "139                          73                          66.0   \n",
       "140                          85                         125.0   \n",
       "141                          37                          46.0   \n",
       "142                          73                          83.0   \n",
       "\n",
       "     Danger Ranking July 2023  Diffusion Ranking July 2023  \\\n",
       "0                       145.0                         59.0   \n",
       "1                       163.0                         59.0   \n",
       "2                       163.0                         59.0   \n",
       "3                       122.0                         59.0   \n",
       "4                       145.0                         59.0   \n",
       "..                        ...                          ...   \n",
       "138                      34.0                         45.0   \n",
       "139                      68.0                         59.0   \n",
       "140                     107.0                         59.0   \n",
       "141                      33.0                         27.0   \n",
       "142                      43.0                         59.0   \n",
       "\n",
       "     Fragmentation Ranking July 2023  Change in ranking since 2019  \\\n",
       "0                              125.0                           -13   \n",
       "1                              125.0                           -30   \n",
       "2                              125.0                           -13   \n",
       "3                              125.0                            -7   \n",
       "4                              125.0                           -13   \n",
       "..                               ...                           ...   \n",
       "138                             38.0                            19   \n",
       "139                             86.0                            -1   \n",
       "140                             96.0                            12   \n",
       "141                             45.0                           -12   \n",
       "142                             86.0                           -20   \n",
       "\n",
       "     Change category since 2019  Total score 2023  \n",
       "0                    Consistent             0.000  \n",
       "1                    Consistent             0.000  \n",
       "2                    Consistent             0.000  \n",
       "3                    Consistent             0.001  \n",
       "4                    Consistent             0.000  \n",
       "..                          ...               ...  \n",
       "138                   Worsening             0.076  \n",
       "139                  Consistent             0.012  \n",
       "140                  Consistent             0.003  \n",
       "141                   Improving             0.085  \n",
       "142                   Improving             0.027  \n",
       "\n",
       "[143 rows x 23 columns]"
      ],
      "text/html": [
       "<div>\n",
       "<style scoped>\n",
       "    .dataframe tbody tr th:only-of-type {\n",
       "        vertical-align: middle;\n",
       "    }\n",
       "\n",
       "    .dataframe tbody tr th {\n",
       "        vertical-align: top;\n",
       "    }\n",
       "\n",
       "    .dataframe thead th {\n",
       "        text-align: right;\n",
       "    }\n",
       "</style>\n",
       "<table border=\"1\" class=\"dataframe\">\n",
       "  <thead>\n",
       "    <tr style=\"text-align: right;\">\n",
       "      <th></th>\n",
       "      <th>index</th>\n",
       "      <th>Country_EN</th>\n",
       "      <th>Code</th>\n",
       "      <th>Year</th>\n",
       "      <th>Democracy score</th>\n",
       "      <th>ranking</th>\n",
       "      <th>Index Category 2023</th>\n",
       "      <th>Index Ranking 2023</th>\n",
       "      <th>Index Category July 2023</th>\n",
       "      <th>Index Ranking July 2023</th>\n",
       "      <th>...</th>\n",
       "      <th>Danger Ranking 2023</th>\n",
       "      <th>Diffusion Ranking 2023</th>\n",
       "      <th>Fragmentation Ranking 2023</th>\n",
       "      <th>Deadliness Ranking July 2023</th>\n",
       "      <th>Danger Ranking July 2023</th>\n",
       "      <th>Diffusion Ranking July 2023</th>\n",
       "      <th>Fragmentation Ranking July 2023</th>\n",
       "      <th>Change in ranking since 2019</th>\n",
       "      <th>Change category since 2019</th>\n",
       "      <th>Total score 2023</th>\n",
       "    </tr>\n",
       "  </thead>\n",
       "  <tbody>\n",
       "    <tr>\n",
       "      <th>0</th>\n",
       "      <td>1907</td>\n",
       "      <td>Norway</td>\n",
       "      <td>NOR</td>\n",
       "      <td>2023</td>\n",
       "      <td>9.81</td>\n",
       "      <td>1</td>\n",
       "      <td>Low/Inactive</td>\n",
       "      <td>146</td>\n",
       "      <td>Low/Inactive</td>\n",
       "      <td>156.0</td>\n",
       "      <td>...</td>\n",
       "      <td>139</td>\n",
       "      <td>54</td>\n",
       "      <td>118</td>\n",
       "      <td>125.0</td>\n",
       "      <td>145.0</td>\n",
       "      <td>59.0</td>\n",
       "      <td>125.0</td>\n",
       "      <td>-13</td>\n",
       "      <td>Consistent</td>\n",
       "      <td>0.000</td>\n",
       "    </tr>\n",
       "    <tr>\n",
       "      <th>1</th>\n",
       "      <td>1796</td>\n",
       "      <td>New Zealand</td>\n",
       "      <td>NZL</td>\n",
       "      <td>2023</td>\n",
       "      <td>9.61</td>\n",
       "      <td>2</td>\n",
       "      <td>Low/Inactive</td>\n",
       "      <td>163</td>\n",
       "      <td>Low/Inactive</td>\n",
       "      <td>167.0</td>\n",
       "      <td>...</td>\n",
       "      <td>161</td>\n",
       "      <td>54</td>\n",
       "      <td>118</td>\n",
       "      <td>125.0</td>\n",
       "      <td>163.0</td>\n",
       "      <td>59.0</td>\n",
       "      <td>125.0</td>\n",
       "      <td>-30</td>\n",
       "      <td>Consistent</td>\n",
       "      <td>0.000</td>\n",
       "    </tr>\n",
       "    <tr>\n",
       "      <th>2</th>\n",
       "      <td>1160</td>\n",
       "      <td>Iceland</td>\n",
       "      <td>ISL</td>\n",
       "      <td>2023</td>\n",
       "      <td>9.45</td>\n",
       "      <td>3</td>\n",
       "      <td>Low/Inactive</td>\n",
       "      <td>146</td>\n",
       "      <td>Low/Inactive</td>\n",
       "      <td>167.0</td>\n",
       "      <td>...</td>\n",
       "      <td>139</td>\n",
       "      <td>54</td>\n",
       "      <td>118</td>\n",
       "      <td>125.0</td>\n",
       "      <td>163.0</td>\n",
       "      <td>59.0</td>\n",
       "      <td>125.0</td>\n",
       "      <td>-13</td>\n",
       "      <td>Consistent</td>\n",
       "      <td>0.000</td>\n",
       "    </tr>\n",
       "    <tr>\n",
       "      <th>3</th>\n",
       "      <td>2385</td>\n",
       "      <td>Sweden</td>\n",
       "      <td>SWE</td>\n",
       "      <td>2023</td>\n",
       "      <td>9.39</td>\n",
       "      <td>4</td>\n",
       "      <td>Low/Inactive</td>\n",
       "      <td>140</td>\n",
       "      <td>Low/Inactive</td>\n",
       "      <td>139.0</td>\n",
       "      <td>...</td>\n",
       "      <td>128</td>\n",
       "      <td>54</td>\n",
       "      <td>118</td>\n",
       "      <td>125.0</td>\n",
       "      <td>122.0</td>\n",
       "      <td>59.0</td>\n",
       "      <td>125.0</td>\n",
       "      <td>-7</td>\n",
       "      <td>Consistent</td>\n",
       "      <td>0.001</td>\n",
       "    </tr>\n",
       "    <tr>\n",
       "      <th>4</th>\n",
       "      <td>904</td>\n",
       "      <td>Finland</td>\n",
       "      <td>FIN</td>\n",
       "      <td>2023</td>\n",
       "      <td>9.30</td>\n",
       "      <td>5</td>\n",
       "      <td>Low/Inactive</td>\n",
       "      <td>146</td>\n",
       "      <td>Low/Inactive</td>\n",
       "      <td>156.0</td>\n",
       "      <td>...</td>\n",
       "      <td>139</td>\n",
       "      <td>54</td>\n",
       "      <td>118</td>\n",
       "      <td>125.0</td>\n",
       "      <td>145.0</td>\n",
       "      <td>59.0</td>\n",
       "      <td>125.0</td>\n",
       "      <td>-13</td>\n",
       "      <td>Consistent</td>\n",
       "      <td>0.000</td>\n",
       "    </tr>\n",
       "    <tr>\n",
       "      <th>...</th>\n",
       "      <td>...</td>\n",
       "      <td>...</td>\n",
       "      <td>...</td>\n",
       "      <td>...</td>\n",
       "      <td>...</td>\n",
       "      <td>...</td>\n",
       "      <td>...</td>\n",
       "      <td>...</td>\n",
       "      <td>...</td>\n",
       "      <td>...</td>\n",
       "      <td>...</td>\n",
       "      <td>...</td>\n",
       "      <td>...</td>\n",
       "      <td>...</td>\n",
       "      <td>...</td>\n",
       "      <td>...</td>\n",
       "      <td>...</td>\n",
       "      <td>...</td>\n",
       "      <td>...</td>\n",
       "      <td>...</td>\n",
       "      <td>...</td>\n",
       "    </tr>\n",
       "    <tr>\n",
       "      <th>138</th>\n",
       "      <td>2131</td>\n",
       "      <td>Russia</td>\n",
       "      <td>RUS</td>\n",
       "      <td>2023</td>\n",
       "      <td>2.22</td>\n",
       "      <td>151</td>\n",
       "      <td>Turbulent</td>\n",
       "      <td>36</td>\n",
       "      <td>Turbulent</td>\n",
       "      <td>39.0</td>\n",
       "      <td>...</td>\n",
       "      <td>29</td>\n",
       "      <td>40</td>\n",
       "      <td>33</td>\n",
       "      <td>45.0</td>\n",
       "      <td>34.0</td>\n",
       "      <td>45.0</td>\n",
       "      <td>38.0</td>\n",
       "      <td>19</td>\n",
       "      <td>Worsening</td>\n",
       "      <td>0.076</td>\n",
       "    </tr>\n",
       "    <tr>\n",
       "      <th>139</th>\n",
       "      <td>1048</td>\n",
       "      <td>Guinea</td>\n",
       "      <td>GIN</td>\n",
       "      <td>2023</td>\n",
       "      <td>2.21</td>\n",
       "      <td>152</td>\n",
       "      <td>Low/Inactive</td>\n",
       "      <td>65</td>\n",
       "      <td>Low/Inactive</td>\n",
       "      <td>77.0</td>\n",
       "      <td>...</td>\n",
       "      <td>64</td>\n",
       "      <td>54</td>\n",
       "      <td>73</td>\n",
       "      <td>66.0</td>\n",
       "      <td>68.0</td>\n",
       "      <td>59.0</td>\n",
       "      <td>86.0</td>\n",
       "      <td>-1</td>\n",
       "      <td>Consistent</td>\n",
       "      <td>0.012</td>\n",
       "    </tr>\n",
       "    <tr>\n",
       "      <th>140</th>\n",
       "      <td>936</td>\n",
       "      <td>Gabon</td>\n",
       "      <td>GAB</td>\n",
       "      <td>2023</td>\n",
       "      <td>2.18</td>\n",
       "      <td>153</td>\n",
       "      <td>Low/Inactive</td>\n",
       "      <td>105</td>\n",
       "      <td>Low/Inactive</td>\n",
       "      <td>118.0</td>\n",
       "      <td>...</td>\n",
       "      <td>103</td>\n",
       "      <td>54</td>\n",
       "      <td>85</td>\n",
       "      <td>125.0</td>\n",
       "      <td>107.0</td>\n",
       "      <td>59.0</td>\n",
       "      <td>96.0</td>\n",
       "      <td>12</td>\n",
       "      <td>Consistent</td>\n",
       "      <td>0.003</td>\n",
       "    </tr>\n",
       "    <tr>\n",
       "      <th>141</th>\n",
       "      <td>381</td>\n",
       "      <td>Burundi</td>\n",
       "      <td>BDI</td>\n",
       "      <td>2023</td>\n",
       "      <td>2.13</td>\n",
       "      <td>154</td>\n",
       "      <td>Turbulent</td>\n",
       "      <td>32</td>\n",
       "      <td>Turbulent</td>\n",
       "      <td>35.0</td>\n",
       "      <td>...</td>\n",
       "      <td>34</td>\n",
       "      <td>13</td>\n",
       "      <td>37</td>\n",
       "      <td>46.0</td>\n",
       "      <td>33.0</td>\n",
       "      <td>27.0</td>\n",
       "      <td>45.0</td>\n",
       "      <td>-12</td>\n",
       "      <td>Improving</td>\n",
       "      <td>0.085</td>\n",
       "    </tr>\n",
       "    <tr>\n",
       "      <th>142</th>\n",
       "      <td>507</td>\n",
       "      <td>China</td>\n",
       "      <td>CHN</td>\n",
       "      <td>2023</td>\n",
       "      <td>2.12</td>\n",
       "      <td>155</td>\n",
       "      <td>Low/Inactive</td>\n",
       "      <td>66</td>\n",
       "      <td>Low/Inactive</td>\n",
       "      <td>69.0</td>\n",
       "      <td>...</td>\n",
       "      <td>46</td>\n",
       "      <td>54</td>\n",
       "      <td>73</td>\n",
       "      <td>83.0</td>\n",
       "      <td>43.0</td>\n",
       "      <td>59.0</td>\n",
       "      <td>86.0</td>\n",
       "      <td>-20</td>\n",
       "      <td>Improving</td>\n",
       "      <td>0.027</td>\n",
       "    </tr>\n",
       "  </tbody>\n",
       "</table>\n",
       "<p>143 rows × 23 columns</p>\n",
       "</div>"
      ]
     },
     "metadata": {},
     "output_type": "display_data"
    }
   ],
   "execution_count": 66
  },
  {
   "cell_type": "markdown",
   "metadata": {},
   "source": [
    "### Visualisatie 1\n",
    "\n",
    "Creeer een scatterplot om de relatie tussen democratie en persvrijheid aan te geven:\n",
    "\n",
    "We set the repository in a way that you can use [Plotly](https://plotly.com/python/) for interactive visualizations.\n",
    "For more information, check [this documentation](https://jupyterbook.org/en/stable/interactive/interactive.html)."
   ]
  },
  {
   "cell_type": "code",
   "metadata": {
    "ExecuteTime": {
     "end_time": "2024-06-18T18:54:13.128303Z",
     "start_time": "2024-06-18T18:54:13.083300Z"
    }
   },
   "source": [
    "# creeer een scatterplot om de relatie tussen de democratie en persvrijheid aan te geven per land\n",
    "\n",
    "fig = px.scatter(data_joined, x='ranking', y='Rank', title = 'Democracy index ranking vs Press freedom index ranking 2023 ', hover_data=['Country_EN'], trendline=\"ols\")\n",
    "\n",
    "fig.update_layout(\n",
    "    xaxis_title=\"Democracy index ranking 2023\",\n",
    "    yaxis_title=\"Press freedom index ranking 2023\"\n",
    ")\n",
    "\n",
    "for trace in fig.data:\n",
    "    if trace.mode == \"lines\":\n",
    "        trace.line.color = \"black\"\n",
    "\n",
    "fig.show()"
   ],
   "outputs": [
    {
     "data": {
      "application/vnd.plotly.v1+json": {
       "data": [
        {
         "customdata": [
          [
           "Norway"
          ],
          [
           "New Zealand"
          ],
          [
           "Iceland"
          ],
          [
           "Sweden"
          ],
          [
           "Finland"
          ],
          [
           "Denmark"
          ],
          [
           "Ireland"
          ],
          [
           "Switzerland"
          ],
          [
           "Netherlands"
          ],
          [
           "Taiwan"
          ],
          [
           "Luxembourg"
          ],
          [
           "Germany"
          ],
          [
           "Canada"
          ],
          [
           "Australia"
          ],
          [
           "Uruguay"
          ],
          [
           "Japan"
          ],
          [
           "Costa Rica"
          ],
          [
           "United Kingdom"
          ],
          [
           "Austria"
          ],
          [
           "Mauritius"
          ],
          [
           "Greece"
          ],
          [
           "South Korea"
          ],
          [
           "France"
          ],
          [
           "Spain"
          ],
          [
           "Chile"
          ],
          [
           "Czechia"
          ],
          [
           "Estonia"
          ],
          [
           "Malta"
          ],
          [
           "United States"
          ],
          [
           "Israel"
          ],
          [
           "Slovenia"
          ],
          [
           "Portugal"
          ],
          [
           "Botswana"
          ],
          [
           "Italy"
          ],
          [
           "Belgium"
          ],
          [
           "Latvia"
          ],
          [
           "Cyprus"
          ],
          [
           "Lithuania"
          ],
          [
           "Malaysia"
          ],
          [
           "Poland"
          ],
          [
           "India"
          ],
          [
           "Trinidad and Tobago"
          ],
          [
           "Slovakia"
          ],
          [
           "Jamaica"
          ],
          [
           "East Timor"
          ],
          [
           "South Africa"
          ],
          [
           "Panama"
          ],
          [
           "Suriname"
          ],
          [
           "Hungary"
          ],
          [
           "Brazil"
          ],
          [
           "Montenegro"
          ],
          [
           "Philippines"
          ],
          [
           "Argentina"
          ],
          [
           "Colombia"
          ],
          [
           "Indonesia"
          ],
          [
           "Namibia"
          ],
          [
           "Croatia"
          ],
          [
           "Mongolia"
          ],
          [
           "Romania"
          ],
          [
           "Dominican Republic"
          ],
          [
           "Bulgaria"
          ],
          [
           "Thailand"
          ],
          [
           "Serbia"
          ],
          [
           "Ghana"
          ],
          [
           "Albania"
          ],
          [
           "Guyana"
          ],
          [
           "Moldova"
          ],
          [
           "Singapore"
          ],
          [
           "Sri Lanka"
          ],
          [
           "Lesotho"
          ],
          [
           "North Macedonia"
          ],
          [
           "Papua New Guinea"
          ],
          [
           "Paraguay"
          ],
          [
           "Bangladesh"
          ],
          [
           "Malawi"
          ],
          [
           "Peru"
          ],
          [
           "Zambia"
          ],
          [
           "Liberia"
          ],
          [
           "Fiji"
          ],
          [
           "Bhutan"
          ],
          [
           "Tunisia"
          ],
          [
           "Senegal"
          ],
          [
           "Armenia"
          ],
          [
           "Ecuador"
          ],
          [
           "Tanzania"
          ],
          [
           "Madagascar"
          ],
          [
           "Hong Kong"
          ],
          [
           "Georgia"
          ],
          [
           "Mexico"
          ],
          [
           "Ukraine"
          ],
          [
           "Kenya"
          ],
          [
           "Honduras"
          ],
          [
           "El Salvador"
          ],
          [
           "Benin"
          ],
          [
           "Nepal"
          ],
          [
           "Uganda"
          ],
          [
           "Guatemala"
          ],
          [
           "Gambia"
          ],
          [
           "Sierra Leone"
          ],
          [
           "Nigeria"
          ],
          [
           "Bolivia"
          ],
          [
           "Angola"
          ],
          [
           "Mauritania"
          ],
          [
           "Kyrgyzstan"
          ],
          [
           "Algeria"
          ],
          [
           "Qatar"
          ],
          [
           "Lebanon"
          ],
          [
           "Mozambique"
          ],
          [
           "Kuwait"
          ],
          [
           "Palestine"
          ],
          [
           "Ethiopia"
          ],
          [
           "Rwanda"
          ],
          [
           "Pakistan"
          ],
          [
           "Oman"
          ],
          [
           "Kazakhstan"
          ],
          [
           "Cambodia"
          ],
          [
           "Jordan"
          ],
          [
           "Zimbabwe"
          ],
          [
           "Comoros"
          ],
          [
           "United Arab Emirates"
          ],
          [
           "Togo"
          ],
          [
           "Egypt"
          ],
          [
           "Iraq"
          ],
          [
           "Haiti"
          ],
          [
           "Azerbaijan"
          ],
          [
           "Eswatini"
          ],
          [
           "Burkina Faso"
          ],
          [
           "Djibouti"
          ],
          [
           "Cuba"
          ],
          [
           "Vietnam"
          ],
          [
           "Mali"
          ],
          [
           "Cameroon"
          ],
          [
           "Bahrain"
          ],
          [
           "Guinea-Bissau"
          ],
          [
           "Niger"
          ],
          [
           "Venezuela"
          ],
          [
           "Nicaragua"
          ],
          [
           "Russia"
          ],
          [
           "Guinea"
          ],
          [
           "Gabon"
          ],
          [
           "Burundi"
          ],
          [
           "China"
          ]
         ],
         "hovertemplate": "ranking=%{x}<br>Rank=%{y}<br>Country_EN=%{customdata[0]}<extra></extra>",
         "legendgroup": "",
         "marker": {
          "color": "#636efa",
          "symbol": "circle"
         },
         "mode": "markers",
         "name": "",
         "orientation": "v",
         "showlegend": false,
         "x": [
          1,
          2,
          3,
          4,
          5,
          6,
          7,
          8,
          9,
          10,
          11,
          12,
          13,
          14,
          14,
          16,
          17,
          18,
          18,
          20,
          20,
          22,
          23,
          23,
          25,
          26,
          27,
          28,
          29,
          30,
          31,
          31,
          33,
          34,
          36,
          39,
          39,
          41,
          42,
          43,
          43,
          45,
          46,
          47,
          47,
          49,
          50,
          51,
          52,
          53,
          54,
          55,
          56,
          57,
          58,
          59,
          60,
          61,
          62,
          63,
          64,
          65,
          66,
          67,
          68,
          69,
          70,
          71,
          72,
          74,
          75,
          75,
          77,
          78,
          79,
          80,
          81,
          84,
          85,
          86,
          87,
          88,
          89,
          90,
          91,
          92,
          93,
          94,
          95,
          96,
          97,
          100,
          102,
          103,
          104,
          105,
          106,
          106,
          110,
          111,
          113,
          114,
          115,
          116,
          117,
          118,
          119,
          120,
          121,
          122,
          123,
          124,
          125,
          126,
          127,
          128,
          129,
          129,
          129,
          132,
          133,
          134,
          135,
          136,
          137,
          139,
          140,
          141,
          142,
          143,
          144,
          145,
          146,
          147,
          148,
          149,
          150,
          151,
          152,
          153,
          154,
          155
         ],
         "xaxis": "x",
         "y": [
          1,
          13,
          18,
          4,
          5,
          3,
          2,
          12,
          6,
          35,
          20,
          21,
          15,
          27,
          52,
          68,
          23,
          26,
          29,
          63,
          107,
          47,
          24,
          36,
          83,
          14,
          8,
          84,
          45,
          97,
          50,
          9,
          65,
          41,
          31,
          16,
          55,
          7,
          73,
          57,
          161,
          30,
          17,
          32,
          10,
          25,
          69,
          48,
          72,
          92,
          39,
          132,
          40,
          139,
          108,
          22,
          42,
          88,
          53,
          43,
          71,
          106,
          91,
          62,
          96,
          60,
          28,
          129,
          135,
          67,
          38,
          59,
          103,
          163,
          82,
          110,
          87,
          66,
          89,
          90,
          121,
          104,
          49,
          80,
          143,
          101,
          140,
          77,
          128,
          79,
          116,
          169,
          115,
          112,
          95,
          133,
          127,
          46,
          74,
          123,
          117,
          125,
          86,
          122,
          136,
          105,
          119,
          102,
          154,
          156,
          130,
          131,
          150,
          155,
          134,
          147,
          146,
          126,
          75,
          145,
          70,
          166,
          167,
          99,
          151,
          111,
          58,
          162,
          172,
          178,
          113,
          138,
          171,
          78,
          61,
          159,
          158,
          164,
          85,
          94,
          114,
          179
         ],
         "yaxis": "y",
         "type": "scatter"
        },
        {
         "hovertemplate": "<b>OLS trendline</b><br>Rank = 0.823956 * ranking + 20.3743<br>R<sup>2</sup>=0.571747<br><br>ranking=%{x}<br>Rank=%{y} <b>(trend)</b><extra></extra>",
         "legendgroup": "",
         "marker": {
          "color": "#636efa",
          "symbol": "circle"
         },
         "mode": "lines",
         "name": "",
         "showlegend": false,
         "x": [
          1,
          2,
          3,
          4,
          5,
          6,
          7,
          8,
          9,
          10,
          11,
          12,
          13,
          14,
          14,
          16,
          17,
          18,
          18,
          20,
          20,
          22,
          23,
          23,
          25,
          26,
          27,
          28,
          29,
          30,
          31,
          31,
          33,
          34,
          36,
          39,
          39,
          41,
          42,
          43,
          43,
          45,
          46,
          47,
          47,
          49,
          50,
          51,
          52,
          53,
          54,
          55,
          56,
          57,
          58,
          59,
          60,
          61,
          62,
          63,
          64,
          65,
          66,
          67,
          68,
          69,
          70,
          71,
          72,
          74,
          75,
          75,
          77,
          78,
          79,
          80,
          81,
          84,
          85,
          86,
          87,
          88,
          89,
          90,
          91,
          92,
          93,
          94,
          95,
          96,
          97,
          100,
          102,
          103,
          104,
          105,
          106,
          106,
          110,
          111,
          113,
          114,
          115,
          116,
          117,
          118,
          119,
          120,
          121,
          122,
          123,
          124,
          125,
          126,
          127,
          128,
          129,
          129,
          129,
          132,
          133,
          134,
          135,
          136,
          137,
          139,
          140,
          141,
          142,
          143,
          144,
          145,
          146,
          147,
          148,
          149,
          150,
          151,
          152,
          153,
          154,
          155
         ],
         "xaxis": "x",
         "y": [
          21.198207725667213,
          22.02216397247513,
          22.846120219283044,
          23.67007646609096,
          24.494032712898875,
          25.31798895970679,
          26.141945206514706,
          26.96590145332262,
          27.789857700130536,
          28.61381394693845,
          29.437770193746367,
          30.26172644055428,
          31.085682687362194,
          31.90963893417011,
          31.90963893417011,
          33.55755142778594,
          34.381507674593855,
          35.20546392140177,
          35.20546392140177,
          36.8533764150176,
          36.8533764150176,
          38.50128890863343,
          39.325245155441344,
          39.325245155441344,
          40.97315764905717,
          41.797113895865095,
          42.621070142673005,
          43.445026389480915,
          44.26898263628884,
          45.09293888309675,
          45.91689512990467,
          45.91689512990467,
          47.564807623520494,
          48.38876387032841,
          50.03667636394424,
          52.50854510436798,
          52.50854510436798,
          54.15645759798382,
          54.980413844791734,
          55.804370091599644,
          55.804370091599644,
          57.45228258521548,
          58.27623883202339,
          59.100195078831305,
          59.100195078831305,
          60.74810757244713,
          61.57206381925505,
          62.39602006606297,
          63.219976312870884,
          64.0439325596788,
          64.86788880648672,
          65.69184505329463,
          66.51580130010254,
          67.33975754691045,
          68.16371379371837,
          68.98767004052628,
          69.8116262873342,
          70.63558253414212,
          71.45953878095003,
          72.28349502775794,
          73.10745127456586,
          73.93140752137379,
          74.7553637681817,
          75.5793200149896,
          76.40327626179752,
          77.22723250860544,
          78.05118875541335,
          78.87514500222127,
          79.69910124902918,
          81.347013742645,
          82.17096998945293,
          82.17096998945293,
          83.81888248306876,
          84.64283872987667,
          85.46679497668458,
          86.29075122349249,
          87.1147074703004,
          89.58657621072416,
          90.41053245753207,
          91.23448870433998,
          92.05844495114792,
          92.88240119795583,
          93.70635744476374,
          94.53031369157165,
          95.35426993837956,
          96.17822618518747,
          97.00218243199541,
          97.82613867880332,
          98.65009492561123,
          99.47405117241914,
          100.29800741922705,
          102.7698761596508,
          104.41778865326663,
          105.24174490007454,
          106.06570114688247,
          106.88965739369038,
          107.7136136404983,
          107.7136136404983,
          111.00943862772996,
          111.83339487453787,
          113.4813073681537,
          114.3052636149616,
          115.12921986176951,
          115.95317610857745,
          116.77713235538536,
          117.60108860219327,
          118.42504484900118,
          119.24900109580909,
          120.07295734261703,
          120.89691358942494,
          121.72086983623285,
          122.54482608304076,
          123.36878232984867,
          124.19273857665658,
          125.01669482346452,
          125.84065107027243,
          126.66460731708034,
          126.66460731708034,
          126.66460731708034,
          129.13647605750407,
          129.960432304312,
          130.78438855111992,
          131.60834479792783,
          132.43230104473574,
          133.25625729154365,
          134.9041697851595,
          135.7281260319674,
          136.55208227877532,
          137.37603852558323,
          138.19999477239114,
          139.02395101919907,
          139.84790726600698,
          140.6718635128149,
          141.4958197596228,
          142.31977600643071,
          143.14373225323862,
          143.96768850004656,
          144.79164474685447,
          145.61560099366238,
          146.4395572404703,
          147.2635134872782,
          148.0874697340861
         ],
         "yaxis": "y",
         "type": "scatter",
         "line": {
          "color": "black"
         }
        }
       ],
       "layout": {
        "template": {
         "data": {
          "histogram2dcontour": [
           {
            "type": "histogram2dcontour",
            "colorbar": {
             "outlinewidth": 0,
             "ticks": ""
            },
            "colorscale": [
             [
              0.0,
              "#0d0887"
             ],
             [
              0.1111111111111111,
              "#46039f"
             ],
             [
              0.2222222222222222,
              "#7201a8"
             ],
             [
              0.3333333333333333,
              "#9c179e"
             ],
             [
              0.4444444444444444,
              "#bd3786"
             ],
             [
              0.5555555555555556,
              "#d8576b"
             ],
             [
              0.6666666666666666,
              "#ed7953"
             ],
             [
              0.7777777777777778,
              "#fb9f3a"
             ],
             [
              0.8888888888888888,
              "#fdca26"
             ],
             [
              1.0,
              "#f0f921"
             ]
            ]
           }
          ],
          "choropleth": [
           {
            "type": "choropleth",
            "colorbar": {
             "outlinewidth": 0,
             "ticks": ""
            }
           }
          ],
          "histogram2d": [
           {
            "type": "histogram2d",
            "colorbar": {
             "outlinewidth": 0,
             "ticks": ""
            },
            "colorscale": [
             [
              0.0,
              "#0d0887"
             ],
             [
              0.1111111111111111,
              "#46039f"
             ],
             [
              0.2222222222222222,
              "#7201a8"
             ],
             [
              0.3333333333333333,
              "#9c179e"
             ],
             [
              0.4444444444444444,
              "#bd3786"
             ],
             [
              0.5555555555555556,
              "#d8576b"
             ],
             [
              0.6666666666666666,
              "#ed7953"
             ],
             [
              0.7777777777777778,
              "#fb9f3a"
             ],
             [
              0.8888888888888888,
              "#fdca26"
             ],
             [
              1.0,
              "#f0f921"
             ]
            ]
           }
          ],
          "heatmap": [
           {
            "type": "heatmap",
            "colorbar": {
             "outlinewidth": 0,
             "ticks": ""
            },
            "colorscale": [
             [
              0.0,
              "#0d0887"
             ],
             [
              0.1111111111111111,
              "#46039f"
             ],
             [
              0.2222222222222222,
              "#7201a8"
             ],
             [
              0.3333333333333333,
              "#9c179e"
             ],
             [
              0.4444444444444444,
              "#bd3786"
             ],
             [
              0.5555555555555556,
              "#d8576b"
             ],
             [
              0.6666666666666666,
              "#ed7953"
             ],
             [
              0.7777777777777778,
              "#fb9f3a"
             ],
             [
              0.8888888888888888,
              "#fdca26"
             ],
             [
              1.0,
              "#f0f921"
             ]
            ]
           }
          ],
          "heatmapgl": [
           {
            "type": "heatmapgl",
            "colorbar": {
             "outlinewidth": 0,
             "ticks": ""
            },
            "colorscale": [
             [
              0.0,
              "#0d0887"
             ],
             [
              0.1111111111111111,
              "#46039f"
             ],
             [
              0.2222222222222222,
              "#7201a8"
             ],
             [
              0.3333333333333333,
              "#9c179e"
             ],
             [
              0.4444444444444444,
              "#bd3786"
             ],
             [
              0.5555555555555556,
              "#d8576b"
             ],
             [
              0.6666666666666666,
              "#ed7953"
             ],
             [
              0.7777777777777778,
              "#fb9f3a"
             ],
             [
              0.8888888888888888,
              "#fdca26"
             ],
             [
              1.0,
              "#f0f921"
             ]
            ]
           }
          ],
          "contourcarpet": [
           {
            "type": "contourcarpet",
            "colorbar": {
             "outlinewidth": 0,
             "ticks": ""
            }
           }
          ],
          "contour": [
           {
            "type": "contour",
            "colorbar": {
             "outlinewidth": 0,
             "ticks": ""
            },
            "colorscale": [
             [
              0.0,
              "#0d0887"
             ],
             [
              0.1111111111111111,
              "#46039f"
             ],
             [
              0.2222222222222222,
              "#7201a8"
             ],
             [
              0.3333333333333333,
              "#9c179e"
             ],
             [
              0.4444444444444444,
              "#bd3786"
             ],
             [
              0.5555555555555556,
              "#d8576b"
             ],
             [
              0.6666666666666666,
              "#ed7953"
             ],
             [
              0.7777777777777778,
              "#fb9f3a"
             ],
             [
              0.8888888888888888,
              "#fdca26"
             ],
             [
              1.0,
              "#f0f921"
             ]
            ]
           }
          ],
          "surface": [
           {
            "type": "surface",
            "colorbar": {
             "outlinewidth": 0,
             "ticks": ""
            },
            "colorscale": [
             [
              0.0,
              "#0d0887"
             ],
             [
              0.1111111111111111,
              "#46039f"
             ],
             [
              0.2222222222222222,
              "#7201a8"
             ],
             [
              0.3333333333333333,
              "#9c179e"
             ],
             [
              0.4444444444444444,
              "#bd3786"
             ],
             [
              0.5555555555555556,
              "#d8576b"
             ],
             [
              0.6666666666666666,
              "#ed7953"
             ],
             [
              0.7777777777777778,
              "#fb9f3a"
             ],
             [
              0.8888888888888888,
              "#fdca26"
             ],
             [
              1.0,
              "#f0f921"
             ]
            ]
           }
          ],
          "mesh3d": [
           {
            "type": "mesh3d",
            "colorbar": {
             "outlinewidth": 0,
             "ticks": ""
            }
           }
          ],
          "scatter": [
           {
            "marker": {
             "line": {
              "color": "#283442"
             }
            },
            "type": "scatter"
           }
          ],
          "parcoords": [
           {
            "type": "parcoords",
            "line": {
             "colorbar": {
              "outlinewidth": 0,
              "ticks": ""
             }
            }
           }
          ],
          "scatterpolargl": [
           {
            "type": "scatterpolargl",
            "marker": {
             "colorbar": {
              "outlinewidth": 0,
              "ticks": ""
             }
            }
           }
          ],
          "bar": [
           {
            "error_x": {
             "color": "#f2f5fa"
            },
            "error_y": {
             "color": "#f2f5fa"
            },
            "marker": {
             "line": {
              "color": "rgb(17,17,17)",
              "width": 0.5
             },
             "pattern": {
              "fillmode": "overlay",
              "size": 10,
              "solidity": 0.2
             }
            },
            "type": "bar"
           }
          ],
          "scattergeo": [
           {
            "type": "scattergeo",
            "marker": {
             "colorbar": {
              "outlinewidth": 0,
              "ticks": ""
             }
            }
           }
          ],
          "scatterpolar": [
           {
            "type": "scatterpolar",
            "marker": {
             "colorbar": {
              "outlinewidth": 0,
              "ticks": ""
             }
            }
           }
          ],
          "histogram": [
           {
            "marker": {
             "pattern": {
              "fillmode": "overlay",
              "size": 10,
              "solidity": 0.2
             }
            },
            "type": "histogram"
           }
          ],
          "scattergl": [
           {
            "marker": {
             "line": {
              "color": "#283442"
             }
            },
            "type": "scattergl"
           }
          ],
          "scatter3d": [
           {
            "type": "scatter3d",
            "line": {
             "colorbar": {
              "outlinewidth": 0,
              "ticks": ""
             }
            },
            "marker": {
             "colorbar": {
              "outlinewidth": 0,
              "ticks": ""
             }
            }
           }
          ],
          "scattermapbox": [
           {
            "type": "scattermapbox",
            "marker": {
             "colorbar": {
              "outlinewidth": 0,
              "ticks": ""
             }
            }
           }
          ],
          "scatterternary": [
           {
            "type": "scatterternary",
            "marker": {
             "colorbar": {
              "outlinewidth": 0,
              "ticks": ""
             }
            }
           }
          ],
          "scattercarpet": [
           {
            "type": "scattercarpet",
            "marker": {
             "colorbar": {
              "outlinewidth": 0,
              "ticks": ""
             }
            }
           }
          ],
          "carpet": [
           {
            "aaxis": {
             "endlinecolor": "#A2B1C6",
             "gridcolor": "#506784",
             "linecolor": "#506784",
             "minorgridcolor": "#506784",
             "startlinecolor": "#A2B1C6"
            },
            "baxis": {
             "endlinecolor": "#A2B1C6",
             "gridcolor": "#506784",
             "linecolor": "#506784",
             "minorgridcolor": "#506784",
             "startlinecolor": "#A2B1C6"
            },
            "type": "carpet"
           }
          ],
          "table": [
           {
            "cells": {
             "fill": {
              "color": "#506784"
             },
             "line": {
              "color": "rgb(17,17,17)"
             }
            },
            "header": {
             "fill": {
              "color": "#2a3f5f"
             },
             "line": {
              "color": "rgb(17,17,17)"
             }
            },
            "type": "table"
           }
          ],
          "barpolar": [
           {
            "marker": {
             "line": {
              "color": "rgb(17,17,17)",
              "width": 0.5
             },
             "pattern": {
              "fillmode": "overlay",
              "size": 10,
              "solidity": 0.2
             }
            },
            "type": "barpolar"
           }
          ],
          "pie": [
           {
            "automargin": true,
            "type": "pie"
           }
          ]
         },
         "layout": {
          "autotypenumbers": "strict",
          "colorway": [
           "#636efa",
           "#EF553B",
           "#00cc96",
           "#ab63fa",
           "#FFA15A",
           "#19d3f3",
           "#FF6692",
           "#B6E880",
           "#FF97FF",
           "#FECB52"
          ],
          "font": {
           "color": "#f2f5fa"
          },
          "hovermode": "closest",
          "hoverlabel": {
           "align": "left"
          },
          "paper_bgcolor": "rgb(17,17,17)",
          "plot_bgcolor": "rgb(17,17,17)",
          "polar": {
           "bgcolor": "rgb(17,17,17)",
           "angularaxis": {
            "gridcolor": "#506784",
            "linecolor": "#506784",
            "ticks": ""
           },
           "radialaxis": {
            "gridcolor": "#506784",
            "linecolor": "#506784",
            "ticks": ""
           }
          },
          "ternary": {
           "bgcolor": "rgb(17,17,17)",
           "aaxis": {
            "gridcolor": "#506784",
            "linecolor": "#506784",
            "ticks": ""
           },
           "baxis": {
            "gridcolor": "#506784",
            "linecolor": "#506784",
            "ticks": ""
           },
           "caxis": {
            "gridcolor": "#506784",
            "linecolor": "#506784",
            "ticks": ""
           }
          },
          "coloraxis": {
           "colorbar": {
            "outlinewidth": 0,
            "ticks": ""
           }
          },
          "colorscale": {
           "sequential": [
            [
             0.0,
             "#0d0887"
            ],
            [
             0.1111111111111111,
             "#46039f"
            ],
            [
             0.2222222222222222,
             "#7201a8"
            ],
            [
             0.3333333333333333,
             "#9c179e"
            ],
            [
             0.4444444444444444,
             "#bd3786"
            ],
            [
             0.5555555555555556,
             "#d8576b"
            ],
            [
             0.6666666666666666,
             "#ed7953"
            ],
            [
             0.7777777777777778,
             "#fb9f3a"
            ],
            [
             0.8888888888888888,
             "#fdca26"
            ],
            [
             1.0,
             "#f0f921"
            ]
           ],
           "sequentialminus": [
            [
             0.0,
             "#0d0887"
            ],
            [
             0.1111111111111111,
             "#46039f"
            ],
            [
             0.2222222222222222,
             "#7201a8"
            ],
            [
             0.3333333333333333,
             "#9c179e"
            ],
            [
             0.4444444444444444,
             "#bd3786"
            ],
            [
             0.5555555555555556,
             "#d8576b"
            ],
            [
             0.6666666666666666,
             "#ed7953"
            ],
            [
             0.7777777777777778,
             "#fb9f3a"
            ],
            [
             0.8888888888888888,
             "#fdca26"
            ],
            [
             1.0,
             "#f0f921"
            ]
           ],
           "diverging": [
            [
             0,
             "#8e0152"
            ],
            [
             0.1,
             "#c51b7d"
            ],
            [
             0.2,
             "#de77ae"
            ],
            [
             0.3,
             "#f1b6da"
            ],
            [
             0.4,
             "#fde0ef"
            ],
            [
             0.5,
             "#f7f7f7"
            ],
            [
             0.6,
             "#e6f5d0"
            ],
            [
             0.7,
             "#b8e186"
            ],
            [
             0.8,
             "#7fbc41"
            ],
            [
             0.9,
             "#4d9221"
            ],
            [
             1,
             "#276419"
            ]
           ]
          },
          "xaxis": {
           "gridcolor": "#283442",
           "linecolor": "#506784",
           "ticks": "",
           "title": {
            "standoff": 15
           },
           "zerolinecolor": "#283442",
           "automargin": true,
           "zerolinewidth": 2
          },
          "yaxis": {
           "gridcolor": "#283442",
           "linecolor": "#506784",
           "ticks": "",
           "title": {
            "standoff": 15
           },
           "zerolinecolor": "#283442",
           "automargin": true,
           "zerolinewidth": 2
          },
          "scene": {
           "xaxis": {
            "backgroundcolor": "rgb(17,17,17)",
            "gridcolor": "#506784",
            "linecolor": "#506784",
            "showbackground": true,
            "ticks": "",
            "zerolinecolor": "#C8D4E3",
            "gridwidth": 2
           },
           "yaxis": {
            "backgroundcolor": "rgb(17,17,17)",
            "gridcolor": "#506784",
            "linecolor": "#506784",
            "showbackground": true,
            "ticks": "",
            "zerolinecolor": "#C8D4E3",
            "gridwidth": 2
           },
           "zaxis": {
            "backgroundcolor": "rgb(17,17,17)",
            "gridcolor": "#506784",
            "linecolor": "#506784",
            "showbackground": true,
            "ticks": "",
            "zerolinecolor": "#C8D4E3",
            "gridwidth": 2
           }
          },
          "shapedefaults": {
           "line": {
            "color": "#f2f5fa"
           }
          },
          "annotationdefaults": {
           "arrowcolor": "#f2f5fa",
           "arrowhead": 0,
           "arrowwidth": 1
          },
          "geo": {
           "bgcolor": "rgb(17,17,17)",
           "landcolor": "rgb(17,17,17)",
           "subunitcolor": "#506784",
           "showland": true,
           "showlakes": true,
           "lakecolor": "rgb(17,17,17)"
          },
          "title": {
           "x": 0.05
          },
          "updatemenudefaults": {
           "bgcolor": "#506784",
           "borderwidth": 0
          },
          "sliderdefaults": {
           "bgcolor": "#C8D4E3",
           "borderwidth": 1,
           "bordercolor": "rgb(17,17,17)",
           "tickwidth": 0
          },
          "mapbox": {
           "style": "dark"
          }
         }
        },
        "xaxis": {
         "anchor": "y",
         "domain": [
          0.0,
          1.0
         ],
         "title": {
          "text": "Democracy index ranking 2023"
         }
        },
        "yaxis": {
         "anchor": "x",
         "domain": [
          0.0,
          1.0
         ],
         "title": {
          "text": "Press freedom index ranking 2023"
         }
        },
        "legend": {
         "tracegroupgap": 0
        },
        "title": {
         "text": "Democracy index ranking vs Press freedom index ranking 2023 "
        }
       },
       "config": {
        "plotlyServerURL": "https://plot.ly"
       }
      },
      "text/html": [
       "<div>                            <div id=\"086710b9-4407-42ef-86a8-13f90fb0dcb7\" class=\"plotly-graph-div\" style=\"height:525px; width:100%;\"></div>            <script type=\"text/javascript\">                require([\"plotly\"], function(Plotly) {                    window.PLOTLYENV=window.PLOTLYENV || {};                                    if (document.getElementById(\"086710b9-4407-42ef-86a8-13f90fb0dcb7\")) {                    Plotly.newPlot(                        \"086710b9-4407-42ef-86a8-13f90fb0dcb7\",                        [{\"customdata\":[[\"Norway\"],[\"New Zealand\"],[\"Iceland\"],[\"Sweden\"],[\"Finland\"],[\"Denmark\"],[\"Ireland\"],[\"Switzerland\"],[\"Netherlands\"],[\"Taiwan\"],[\"Luxembourg\"],[\"Germany\"],[\"Canada\"],[\"Australia\"],[\"Uruguay\"],[\"Japan\"],[\"Costa Rica\"],[\"United Kingdom\"],[\"Austria\"],[\"Mauritius\"],[\"Greece\"],[\"South Korea\"],[\"France\"],[\"Spain\"],[\"Chile\"],[\"Czechia\"],[\"Estonia\"],[\"Malta\"],[\"United States\"],[\"Israel\"],[\"Slovenia\"],[\"Portugal\"],[\"Botswana\"],[\"Italy\"],[\"Belgium\"],[\"Latvia\"],[\"Cyprus\"],[\"Lithuania\"],[\"Malaysia\"],[\"Poland\"],[\"India\"],[\"Trinidad and Tobago\"],[\"Slovakia\"],[\"Jamaica\"],[\"East Timor\"],[\"South Africa\"],[\"Panama\"],[\"Suriname\"],[\"Hungary\"],[\"Brazil\"],[\"Montenegro\"],[\"Philippines\"],[\"Argentina\"],[\"Colombia\"],[\"Indonesia\"],[\"Namibia\"],[\"Croatia\"],[\"Mongolia\"],[\"Romania\"],[\"Dominican Republic\"],[\"Bulgaria\"],[\"Thailand\"],[\"Serbia\"],[\"Ghana\"],[\"Albania\"],[\"Guyana\"],[\"Moldova\"],[\"Singapore\"],[\"Sri Lanka\"],[\"Lesotho\"],[\"North Macedonia\"],[\"Papua New Guinea\"],[\"Paraguay\"],[\"Bangladesh\"],[\"Malawi\"],[\"Peru\"],[\"Zambia\"],[\"Liberia\"],[\"Fiji\"],[\"Bhutan\"],[\"Tunisia\"],[\"Senegal\"],[\"Armenia\"],[\"Ecuador\"],[\"Tanzania\"],[\"Madagascar\"],[\"Hong Kong\"],[\"Georgia\"],[\"Mexico\"],[\"Ukraine\"],[\"Kenya\"],[\"Honduras\"],[\"El Salvador\"],[\"Benin\"],[\"Nepal\"],[\"Uganda\"],[\"Guatemala\"],[\"Gambia\"],[\"Sierra Leone\"],[\"Nigeria\"],[\"Bolivia\"],[\"Angola\"],[\"Mauritania\"],[\"Kyrgyzstan\"],[\"Algeria\"],[\"Qatar\"],[\"Lebanon\"],[\"Mozambique\"],[\"Kuwait\"],[\"Palestine\"],[\"Ethiopia\"],[\"Rwanda\"],[\"Pakistan\"],[\"Oman\"],[\"Kazakhstan\"],[\"Cambodia\"],[\"Jordan\"],[\"Zimbabwe\"],[\"Comoros\"],[\"United Arab Emirates\"],[\"Togo\"],[\"Egypt\"],[\"Iraq\"],[\"Haiti\"],[\"Azerbaijan\"],[\"Eswatini\"],[\"Burkina Faso\"],[\"Djibouti\"],[\"Cuba\"],[\"Vietnam\"],[\"Mali\"],[\"Cameroon\"],[\"Bahrain\"],[\"Guinea-Bissau\"],[\"Niger\"],[\"Venezuela\"],[\"Nicaragua\"],[\"Russia\"],[\"Guinea\"],[\"Gabon\"],[\"Burundi\"],[\"China\"]],\"hovertemplate\":\"ranking=%{x}\\u003cbr\\u003eRank=%{y}\\u003cbr\\u003eCountry_EN=%{customdata[0]}\\u003cextra\\u003e\\u003c\\u002fextra\\u003e\",\"legendgroup\":\"\",\"marker\":{\"color\":\"#636efa\",\"symbol\":\"circle\"},\"mode\":\"markers\",\"name\":\"\",\"orientation\":\"v\",\"showlegend\":false,\"x\":[1,2,3,4,5,6,7,8,9,10,11,12,13,14,14,16,17,18,18,20,20,22,23,23,25,26,27,28,29,30,31,31,33,34,36,39,39,41,42,43,43,45,46,47,47,49,50,51,52,53,54,55,56,57,58,59,60,61,62,63,64,65,66,67,68,69,70,71,72,74,75,75,77,78,79,80,81,84,85,86,87,88,89,90,91,92,93,94,95,96,97,100,102,103,104,105,106,106,110,111,113,114,115,116,117,118,119,120,121,122,123,124,125,126,127,128,129,129,129,132,133,134,135,136,137,139,140,141,142,143,144,145,146,147,148,149,150,151,152,153,154,155],\"xaxis\":\"x\",\"y\":[1,13,18,4,5,3,2,12,6,35,20,21,15,27,52,68,23,26,29,63,107,47,24,36,83,14,8,84,45,97,50,9,65,41,31,16,55,7,73,57,161,30,17,32,10,25,69,48,72,92,39,132,40,139,108,22,42,88,53,43,71,106,91,62,96,60,28,129,135,67,38,59,103,163,82,110,87,66,89,90,121,104,49,80,143,101,140,77,128,79,116,169,115,112,95,133,127,46,74,123,117,125,86,122,136,105,119,102,154,156,130,131,150,155,134,147,146,126,75,145,70,166,167,99,151,111,58,162,172,178,113,138,171,78,61,159,158,164,85,94,114,179],\"yaxis\":\"y\",\"type\":\"scatter\"},{\"hovertemplate\":\"\\u003cb\\u003eOLS trendline\\u003c\\u002fb\\u003e\\u003cbr\\u003eRank = 0.823956 * ranking + 20.3743\\u003cbr\\u003eR\\u003csup\\u003e2\\u003c\\u002fsup\\u003e=0.571747\\u003cbr\\u003e\\u003cbr\\u003eranking=%{x}\\u003cbr\\u003eRank=%{y} \\u003cb\\u003e(trend)\\u003c\\u002fb\\u003e\\u003cextra\\u003e\\u003c\\u002fextra\\u003e\",\"legendgroup\":\"\",\"marker\":{\"color\":\"#636efa\",\"symbol\":\"circle\"},\"mode\":\"lines\",\"name\":\"\",\"showlegend\":false,\"x\":[1,2,3,4,5,6,7,8,9,10,11,12,13,14,14,16,17,18,18,20,20,22,23,23,25,26,27,28,29,30,31,31,33,34,36,39,39,41,42,43,43,45,46,47,47,49,50,51,52,53,54,55,56,57,58,59,60,61,62,63,64,65,66,67,68,69,70,71,72,74,75,75,77,78,79,80,81,84,85,86,87,88,89,90,91,92,93,94,95,96,97,100,102,103,104,105,106,106,110,111,113,114,115,116,117,118,119,120,121,122,123,124,125,126,127,128,129,129,129,132,133,134,135,136,137,139,140,141,142,143,144,145,146,147,148,149,150,151,152,153,154,155],\"xaxis\":\"x\",\"y\":[21.198207725667213,22.02216397247513,22.846120219283044,23.67007646609096,24.494032712898875,25.31798895970679,26.141945206514706,26.96590145332262,27.789857700130536,28.61381394693845,29.437770193746367,30.26172644055428,31.085682687362194,31.90963893417011,31.90963893417011,33.55755142778594,34.381507674593855,35.20546392140177,35.20546392140177,36.8533764150176,36.8533764150176,38.50128890863343,39.325245155441344,39.325245155441344,40.97315764905717,41.797113895865095,42.621070142673005,43.445026389480915,44.26898263628884,45.09293888309675,45.91689512990467,45.91689512990467,47.564807623520494,48.38876387032841,50.03667636394424,52.50854510436798,52.50854510436798,54.15645759798382,54.980413844791734,55.804370091599644,55.804370091599644,57.45228258521548,58.27623883202339,59.100195078831305,59.100195078831305,60.74810757244713,61.57206381925505,62.39602006606297,63.219976312870884,64.0439325596788,64.86788880648672,65.69184505329463,66.51580130010254,67.33975754691045,68.16371379371837,68.98767004052628,69.8116262873342,70.63558253414212,71.45953878095003,72.28349502775794,73.10745127456586,73.93140752137379,74.7553637681817,75.5793200149896,76.40327626179752,77.22723250860544,78.05118875541335,78.87514500222127,79.69910124902918,81.347013742645,82.17096998945293,82.17096998945293,83.81888248306876,84.64283872987667,85.46679497668458,86.29075122349249,87.1147074703004,89.58657621072416,90.41053245753207,91.23448870433998,92.05844495114792,92.88240119795583,93.70635744476374,94.53031369157165,95.35426993837956,96.17822618518747,97.00218243199541,97.82613867880332,98.65009492561123,99.47405117241914,100.29800741922705,102.7698761596508,104.41778865326663,105.24174490007454,106.06570114688247,106.88965739369038,107.7136136404983,107.7136136404983,111.00943862772996,111.83339487453787,113.4813073681537,114.3052636149616,115.12921986176951,115.95317610857745,116.77713235538536,117.60108860219327,118.42504484900118,119.24900109580909,120.07295734261703,120.89691358942494,121.72086983623285,122.54482608304076,123.36878232984867,124.19273857665658,125.01669482346452,125.84065107027243,126.66460731708034,126.66460731708034,126.66460731708034,129.13647605750407,129.960432304312,130.78438855111992,131.60834479792783,132.43230104473574,133.25625729154365,134.9041697851595,135.7281260319674,136.55208227877532,137.37603852558323,138.19999477239114,139.02395101919907,139.84790726600698,140.6718635128149,141.4958197596228,142.31977600643071,143.14373225323862,143.96768850004656,144.79164474685447,145.61560099366238,146.4395572404703,147.2635134872782,148.0874697340861],\"yaxis\":\"y\",\"type\":\"scatter\",\"line\":{\"color\":\"black\"}}],                        {\"template\":{\"data\":{\"histogram2dcontour\":[{\"type\":\"histogram2dcontour\",\"colorbar\":{\"outlinewidth\":0,\"ticks\":\"\"},\"colorscale\":[[0.0,\"#0d0887\"],[0.1111111111111111,\"#46039f\"],[0.2222222222222222,\"#7201a8\"],[0.3333333333333333,\"#9c179e\"],[0.4444444444444444,\"#bd3786\"],[0.5555555555555556,\"#d8576b\"],[0.6666666666666666,\"#ed7953\"],[0.7777777777777778,\"#fb9f3a\"],[0.8888888888888888,\"#fdca26\"],[1.0,\"#f0f921\"]]}],\"choropleth\":[{\"type\":\"choropleth\",\"colorbar\":{\"outlinewidth\":0,\"ticks\":\"\"}}],\"histogram2d\":[{\"type\":\"histogram2d\",\"colorbar\":{\"outlinewidth\":0,\"ticks\":\"\"},\"colorscale\":[[0.0,\"#0d0887\"],[0.1111111111111111,\"#46039f\"],[0.2222222222222222,\"#7201a8\"],[0.3333333333333333,\"#9c179e\"],[0.4444444444444444,\"#bd3786\"],[0.5555555555555556,\"#d8576b\"],[0.6666666666666666,\"#ed7953\"],[0.7777777777777778,\"#fb9f3a\"],[0.8888888888888888,\"#fdca26\"],[1.0,\"#f0f921\"]]}],\"heatmap\":[{\"type\":\"heatmap\",\"colorbar\":{\"outlinewidth\":0,\"ticks\":\"\"},\"colorscale\":[[0.0,\"#0d0887\"],[0.1111111111111111,\"#46039f\"],[0.2222222222222222,\"#7201a8\"],[0.3333333333333333,\"#9c179e\"],[0.4444444444444444,\"#bd3786\"],[0.5555555555555556,\"#d8576b\"],[0.6666666666666666,\"#ed7953\"],[0.7777777777777778,\"#fb9f3a\"],[0.8888888888888888,\"#fdca26\"],[1.0,\"#f0f921\"]]}],\"heatmapgl\":[{\"type\":\"heatmapgl\",\"colorbar\":{\"outlinewidth\":0,\"ticks\":\"\"},\"colorscale\":[[0.0,\"#0d0887\"],[0.1111111111111111,\"#46039f\"],[0.2222222222222222,\"#7201a8\"],[0.3333333333333333,\"#9c179e\"],[0.4444444444444444,\"#bd3786\"],[0.5555555555555556,\"#d8576b\"],[0.6666666666666666,\"#ed7953\"],[0.7777777777777778,\"#fb9f3a\"],[0.8888888888888888,\"#fdca26\"],[1.0,\"#f0f921\"]]}],\"contourcarpet\":[{\"type\":\"contourcarpet\",\"colorbar\":{\"outlinewidth\":0,\"ticks\":\"\"}}],\"contour\":[{\"type\":\"contour\",\"colorbar\":{\"outlinewidth\":0,\"ticks\":\"\"},\"colorscale\":[[0.0,\"#0d0887\"],[0.1111111111111111,\"#46039f\"],[0.2222222222222222,\"#7201a8\"],[0.3333333333333333,\"#9c179e\"],[0.4444444444444444,\"#bd3786\"],[0.5555555555555556,\"#d8576b\"],[0.6666666666666666,\"#ed7953\"],[0.7777777777777778,\"#fb9f3a\"],[0.8888888888888888,\"#fdca26\"],[1.0,\"#f0f921\"]]}],\"surface\":[{\"type\":\"surface\",\"colorbar\":{\"outlinewidth\":0,\"ticks\":\"\"},\"colorscale\":[[0.0,\"#0d0887\"],[0.1111111111111111,\"#46039f\"],[0.2222222222222222,\"#7201a8\"],[0.3333333333333333,\"#9c179e\"],[0.4444444444444444,\"#bd3786\"],[0.5555555555555556,\"#d8576b\"],[0.6666666666666666,\"#ed7953\"],[0.7777777777777778,\"#fb9f3a\"],[0.8888888888888888,\"#fdca26\"],[1.0,\"#f0f921\"]]}],\"mesh3d\":[{\"type\":\"mesh3d\",\"colorbar\":{\"outlinewidth\":0,\"ticks\":\"\"}}],\"scatter\":[{\"marker\":{\"line\":{\"color\":\"#283442\"}},\"type\":\"scatter\"}],\"parcoords\":[{\"type\":\"parcoords\",\"line\":{\"colorbar\":{\"outlinewidth\":0,\"ticks\":\"\"}}}],\"scatterpolargl\":[{\"type\":\"scatterpolargl\",\"marker\":{\"colorbar\":{\"outlinewidth\":0,\"ticks\":\"\"}}}],\"bar\":[{\"error_x\":{\"color\":\"#f2f5fa\"},\"error_y\":{\"color\":\"#f2f5fa\"},\"marker\":{\"line\":{\"color\":\"rgb(17,17,17)\",\"width\":0.5},\"pattern\":{\"fillmode\":\"overlay\",\"size\":10,\"solidity\":0.2}},\"type\":\"bar\"}],\"scattergeo\":[{\"type\":\"scattergeo\",\"marker\":{\"colorbar\":{\"outlinewidth\":0,\"ticks\":\"\"}}}],\"scatterpolar\":[{\"type\":\"scatterpolar\",\"marker\":{\"colorbar\":{\"outlinewidth\":0,\"ticks\":\"\"}}}],\"histogram\":[{\"marker\":{\"pattern\":{\"fillmode\":\"overlay\",\"size\":10,\"solidity\":0.2}},\"type\":\"histogram\"}],\"scattergl\":[{\"marker\":{\"line\":{\"color\":\"#283442\"}},\"type\":\"scattergl\"}],\"scatter3d\":[{\"type\":\"scatter3d\",\"line\":{\"colorbar\":{\"outlinewidth\":0,\"ticks\":\"\"}},\"marker\":{\"colorbar\":{\"outlinewidth\":0,\"ticks\":\"\"}}}],\"scattermapbox\":[{\"type\":\"scattermapbox\",\"marker\":{\"colorbar\":{\"outlinewidth\":0,\"ticks\":\"\"}}}],\"scatterternary\":[{\"type\":\"scatterternary\",\"marker\":{\"colorbar\":{\"outlinewidth\":0,\"ticks\":\"\"}}}],\"scattercarpet\":[{\"type\":\"scattercarpet\",\"marker\":{\"colorbar\":{\"outlinewidth\":0,\"ticks\":\"\"}}}],\"carpet\":[{\"aaxis\":{\"endlinecolor\":\"#A2B1C6\",\"gridcolor\":\"#506784\",\"linecolor\":\"#506784\",\"minorgridcolor\":\"#506784\",\"startlinecolor\":\"#A2B1C6\"},\"baxis\":{\"endlinecolor\":\"#A2B1C6\",\"gridcolor\":\"#506784\",\"linecolor\":\"#506784\",\"minorgridcolor\":\"#506784\",\"startlinecolor\":\"#A2B1C6\"},\"type\":\"carpet\"}],\"table\":[{\"cells\":{\"fill\":{\"color\":\"#506784\"},\"line\":{\"color\":\"rgb(17,17,17)\"}},\"header\":{\"fill\":{\"color\":\"#2a3f5f\"},\"line\":{\"color\":\"rgb(17,17,17)\"}},\"type\":\"table\"}],\"barpolar\":[{\"marker\":{\"line\":{\"color\":\"rgb(17,17,17)\",\"width\":0.5},\"pattern\":{\"fillmode\":\"overlay\",\"size\":10,\"solidity\":0.2}},\"type\":\"barpolar\"}],\"pie\":[{\"automargin\":true,\"type\":\"pie\"}]},\"layout\":{\"autotypenumbers\":\"strict\",\"colorway\":[\"#636efa\",\"#EF553B\",\"#00cc96\",\"#ab63fa\",\"#FFA15A\",\"#19d3f3\",\"#FF6692\",\"#B6E880\",\"#FF97FF\",\"#FECB52\"],\"font\":{\"color\":\"#f2f5fa\"},\"hovermode\":\"closest\",\"hoverlabel\":{\"align\":\"left\"},\"paper_bgcolor\":\"rgb(17,17,17)\",\"plot_bgcolor\":\"rgb(17,17,17)\",\"polar\":{\"bgcolor\":\"rgb(17,17,17)\",\"angularaxis\":{\"gridcolor\":\"#506784\",\"linecolor\":\"#506784\",\"ticks\":\"\"},\"radialaxis\":{\"gridcolor\":\"#506784\",\"linecolor\":\"#506784\",\"ticks\":\"\"}},\"ternary\":{\"bgcolor\":\"rgb(17,17,17)\",\"aaxis\":{\"gridcolor\":\"#506784\",\"linecolor\":\"#506784\",\"ticks\":\"\"},\"baxis\":{\"gridcolor\":\"#506784\",\"linecolor\":\"#506784\",\"ticks\":\"\"},\"caxis\":{\"gridcolor\":\"#506784\",\"linecolor\":\"#506784\",\"ticks\":\"\"}},\"coloraxis\":{\"colorbar\":{\"outlinewidth\":0,\"ticks\":\"\"}},\"colorscale\":{\"sequential\":[[0.0,\"#0d0887\"],[0.1111111111111111,\"#46039f\"],[0.2222222222222222,\"#7201a8\"],[0.3333333333333333,\"#9c179e\"],[0.4444444444444444,\"#bd3786\"],[0.5555555555555556,\"#d8576b\"],[0.6666666666666666,\"#ed7953\"],[0.7777777777777778,\"#fb9f3a\"],[0.8888888888888888,\"#fdca26\"],[1.0,\"#f0f921\"]],\"sequentialminus\":[[0.0,\"#0d0887\"],[0.1111111111111111,\"#46039f\"],[0.2222222222222222,\"#7201a8\"],[0.3333333333333333,\"#9c179e\"],[0.4444444444444444,\"#bd3786\"],[0.5555555555555556,\"#d8576b\"],[0.6666666666666666,\"#ed7953\"],[0.7777777777777778,\"#fb9f3a\"],[0.8888888888888888,\"#fdca26\"],[1.0,\"#f0f921\"]],\"diverging\":[[0,\"#8e0152\"],[0.1,\"#c51b7d\"],[0.2,\"#de77ae\"],[0.3,\"#f1b6da\"],[0.4,\"#fde0ef\"],[0.5,\"#f7f7f7\"],[0.6,\"#e6f5d0\"],[0.7,\"#b8e186\"],[0.8,\"#7fbc41\"],[0.9,\"#4d9221\"],[1,\"#276419\"]]},\"xaxis\":{\"gridcolor\":\"#283442\",\"linecolor\":\"#506784\",\"ticks\":\"\",\"title\":{\"standoff\":15},\"zerolinecolor\":\"#283442\",\"automargin\":true,\"zerolinewidth\":2},\"yaxis\":{\"gridcolor\":\"#283442\",\"linecolor\":\"#506784\",\"ticks\":\"\",\"title\":{\"standoff\":15},\"zerolinecolor\":\"#283442\",\"automargin\":true,\"zerolinewidth\":2},\"scene\":{\"xaxis\":{\"backgroundcolor\":\"rgb(17,17,17)\",\"gridcolor\":\"#506784\",\"linecolor\":\"#506784\",\"showbackground\":true,\"ticks\":\"\",\"zerolinecolor\":\"#C8D4E3\",\"gridwidth\":2},\"yaxis\":{\"backgroundcolor\":\"rgb(17,17,17)\",\"gridcolor\":\"#506784\",\"linecolor\":\"#506784\",\"showbackground\":true,\"ticks\":\"\",\"zerolinecolor\":\"#C8D4E3\",\"gridwidth\":2},\"zaxis\":{\"backgroundcolor\":\"rgb(17,17,17)\",\"gridcolor\":\"#506784\",\"linecolor\":\"#506784\",\"showbackground\":true,\"ticks\":\"\",\"zerolinecolor\":\"#C8D4E3\",\"gridwidth\":2}},\"shapedefaults\":{\"line\":{\"color\":\"#f2f5fa\"}},\"annotationdefaults\":{\"arrowcolor\":\"#f2f5fa\",\"arrowhead\":0,\"arrowwidth\":1},\"geo\":{\"bgcolor\":\"rgb(17,17,17)\",\"landcolor\":\"rgb(17,17,17)\",\"subunitcolor\":\"#506784\",\"showland\":true,\"showlakes\":true,\"lakecolor\":\"rgb(17,17,17)\"},\"title\":{\"x\":0.05},\"updatemenudefaults\":{\"bgcolor\":\"#506784\",\"borderwidth\":0},\"sliderdefaults\":{\"bgcolor\":\"#C8D4E3\",\"borderwidth\":1,\"bordercolor\":\"rgb(17,17,17)\",\"tickwidth\":0},\"mapbox\":{\"style\":\"dark\"}}},\"xaxis\":{\"anchor\":\"y\",\"domain\":[0.0,1.0],\"title\":{\"text\":\"Democracy index ranking 2023\"}},\"yaxis\":{\"anchor\":\"x\",\"domain\":[0.0,1.0],\"title\":{\"text\":\"Press freedom index ranking 2023\"}},\"legend\":{\"tracegroupgap\":0},\"title\":{\"text\":\"Democracy index ranking vs Press freedom index ranking 2023 \"}},                        {\"responsive\": true}                    ).then(function(){\n",
       "                            \n",
       "var gd = document.getElementById('086710b9-4407-42ef-86a8-13f90fb0dcb7');\n",
       "var x = new MutationObserver(function (mutations, observer) {{\n",
       "        var display = window.getComputedStyle(gd).display;\n",
       "        if (!display || display === 'none') {{\n",
       "            console.log([gd, 'removed!']);\n",
       "            Plotly.purge(gd);\n",
       "            observer.disconnect();\n",
       "        }}\n",
       "}});\n",
       "\n",
       "// Listen for the removal of the full notebook cells\n",
       "var notebookContainer = gd.closest('#notebook-container');\n",
       "if (notebookContainer) {{\n",
       "    x.observe(notebookContainer, {childList: true});\n",
       "}}\n",
       "\n",
       "// Listen for the clearing of the current output cell\n",
       "var outputEl = gd.closest('.output');\n",
       "if (outputEl) {{\n",
       "    x.observe(outputEl, {childList: true});\n",
       "}}\n",
       "\n",
       "                        })                };                });            </script>        </div>"
      ]
     },
     "metadata": {},
     "output_type": "display_data"
    }
   ],
   "execution_count": 67
  },
  {
   "cell_type": "markdown",
   "metadata": {},
   "source": [
    "## Visualisatie 2\n",
    "\n",
    "Creeer een line chart van de persvrijheid rankings per jaar. Gebruik ctrl+klik om meerdere landen te selecteren"
   ]
  },
  {
   "cell_type": "markdown",
   "metadata": {},
   "source": [
    "You can also plot the data using static visualizations, such as the [seaborn](https://seaborn.pydata.org/#) library."
   ]
  },
  {
   "cell_type": "code",
   "metadata": {
    "ExecuteTime": {
     "end_time": "2024-06-18T18:54:13.174808Z",
     "start_time": "2024-06-18T18:54:13.129804Z"
    }
   },
   "source": [
    "# Persvrijheid scores -  ctrl + klik om meerdere landen te selecteren\n",
    "\n",
    "# Create a dropdown for country selection\n",
    "country_dropdown = widgets.SelectMultiple(\n",
    "    options= df_combined_19['EN_country'].unique(),\n",
    "    value=[df_combined_19['EN_country'].unique()[0]],\n",
    "    description='Country',\n",
    "    disabled=False\n",
    ")\n",
    "\n",
    "# Function to update the line chart based on selected countries\n",
    "def update_chart(selected_countries):\n",
    "    filtered_df = df_combined_19[df_combined_19['EN_country'].isin(selected_countries)]\n",
    "    fig = px.line(filtered_df, x='Year (N)', y='Rank N', color='EN_country', \n",
    "                  labels={'Democracy_score': 'Democracy Score'}, title='Persvrijheid ranking per land')\n",
    "    fig.update_layout(\n",
    "        xaxis_title=\"Year\",\n",
    "        yaxis_title=\"Persvrijheid rank\"\n",
    "    )\n",
    "    fig.show()\n",
    "\n",
    "# Create an interactive output\n",
    "output = widgets.interactive_output(update_chart, {'selected_countries': country_dropdown})\n",
    "\n",
    "# Display the dropdown and the output\n",
    "display(country_dropdown, output)\n"
   ],
   "outputs": [
    {
     "data": {
      "text/plain": [
       "SelectMultiple(description='Country', index=(0,), options=('Norway', 'Denmark', 'Sweden', 'Netherlands', 'Finl…"
      ],
      "application/vnd.jupyter.widget-view+json": {
       "version_major": 2,
       "version_minor": 0,
       "model_id": "5190f96057dd45df81cfde43faa6cb40"
      }
     },
     "metadata": {},
     "output_type": "display_data"
    },
    {
     "data": {
      "text/plain": [
       "Output()"
      ],
      "application/vnd.jupyter.widget-view+json": {
       "version_major": 2,
       "version_minor": 0,
       "model_id": "cf4d63b7720d4267a43a736593a83178"
      }
     },
     "metadata": {},
     "output_type": "display_data"
    }
   ],
   "execution_count": 68
  },
  {
   "cell_type": "markdown",
   "metadata": {},
   "source": [
    "## Visualisatie 3\n",
    "\n",
    "Creeer een line chart van de democratie rankings per jaar. Gebruik ctrl+klik om meerdere landen te selecteren."
   ]
  },
  {
   "cell_type": "code",
   "metadata": {
    "ExecuteTime": {
     "end_time": "2024-06-18T18:54:13.221313Z",
     "start_time": "2024-06-18T18:54:13.175809Z"
    }
   },
   "source": [
    "# democratie scores - ctrl + klik om meerdere landen te selecteren\n",
    "\n",
    "# Create a dropdown for country selection\n",
    "country_dropdown = widgets.SelectMultiple(\n",
    "    options= data_dem_combined['Country_EN'].unique(),\n",
    "    value=[data_dem_combined['Country_EN'].unique()[0]],\n",
    "    description='Country',\n",
    "    disabled=False\n",
    ")\n",
    "\n",
    "# Function to update the line chart based on selected countries\n",
    "def update_chart(selected_countries):\n",
    "    filtered_df = data_dem_combined[data_dem_combined['Country_EN'].isin(selected_countries)]\n",
    "    fig = px.line(filtered_df, x='Year', y='ranking', color='Country_EN', \n",
    "                  labels={'Democracy_score': 'Democracy Score'}, title='Democratie ranking per land')\n",
    "    fig.update_layout(\n",
    "        xaxis_title=\"Year\",\n",
    "        yaxis_title=\"Democratie rank\"\n",
    "    )\n",
    "    fig.show()\n",
    "\n",
    "# Create an interactive output\n",
    "output = widgets.interactive_output(update_chart, {'selected_countries': country_dropdown})\n",
    "\n",
    "# Display the dropdown and the output\n",
    "display(country_dropdown, output)"
   ],
   "outputs": [
    {
     "data": {
      "text/plain": [
       "SelectMultiple(description='Country', index=(0,), options=('Norway', 'New Zealand', 'Iceland', 'Sweden', 'Finl…"
      ],
      "application/vnd.jupyter.widget-view+json": {
       "version_major": 2,
       "version_minor": 0,
       "model_id": "55be91aee6ce4392a6fc8ea8916129fa"
      }
     },
     "metadata": {},
     "output_type": "display_data"
    },
    {
     "data": {
      "text/plain": [
       "Output()"
      ],
      "application/vnd.jupyter.widget-view+json": {
       "version_major": 2,
       "version_minor": 0,
       "model_id": "371d0e1941114c64b8f6e10abe198f71"
      }
     },
     "metadata": {},
     "output_type": "display_data"
    }
   ],
   "execution_count": 69
  },
  {
   "cell_type": "markdown",
   "metadata": {},
   "source": [
    "## Visualisatie 4"
   ]
  },
  {
   "cell_type": "code",
   "metadata": {
    "ExecuteTime": {
     "end_time": "2024-06-18T18:54:13.267818Z",
     "start_time": "2024-06-18T18:54:13.223313Z"
    }
   },
   "source": [
    "# creeer een scatterplot om de relatie tussen de democratie en conflict aan te geven per land\n",
    "\n",
    "fig = px.scatter(data_joined_2, x='ranking', y='Index Ranking 2023', title = 'Democracy index ranking vs Conflict index ranking 2023', hover_data=['Country_EN'], trendline=\"ols\")\n",
    "\n",
    "fig.update_layout(\n",
    "    xaxis_title=\"Democracy index ranking 2023\",\n",
    "    yaxis_title=\"Conflict index ranking 2023\"\n",
    ")\n",
    "\n",
    "for trace in fig.data:\n",
    "    if trace.mode == \"lines\":\n",
    "        trace.line.color = \"black\"\n",
    "\n",
    "\n",
    "fig.show()"
   ],
   "outputs": [
    {
     "data": {
      "application/vnd.plotly.v1+json": {
       "data": [
        {
         "customdata": [
          [
           "Norway"
          ],
          [
           "New Zealand"
          ],
          [
           "Iceland"
          ],
          [
           "Sweden"
          ],
          [
           "Finland"
          ],
          [
           "Denmark"
          ],
          [
           "Ireland"
          ],
          [
           "Switzerland"
          ],
          [
           "Netherlands"
          ],
          [
           "Taiwan"
          ],
          [
           "Luxembourg"
          ],
          [
           "Germany"
          ],
          [
           "Canada"
          ],
          [
           "Australia"
          ],
          [
           "Uruguay"
          ],
          [
           "Japan"
          ],
          [
           "Costa Rica"
          ],
          [
           "United Kingdom"
          ],
          [
           "Austria"
          ],
          [
           "Mauritius"
          ],
          [
           "Greece"
          ],
          [
           "South Korea"
          ],
          [
           "France"
          ],
          [
           "Spain"
          ],
          [
           "Chile"
          ],
          [
           "Estonia"
          ],
          [
           "Malta"
          ],
          [
           "United States"
          ],
          [
           "Israel"
          ],
          [
           "Slovenia"
          ],
          [
           "Portugal"
          ],
          [
           "Botswana"
          ],
          [
           "Italy"
          ],
          [
           "Cape Verde"
          ],
          [
           "Belgium"
          ],
          [
           "Latvia"
          ],
          [
           "Cyprus"
          ],
          [
           "Lithuania"
          ],
          [
           "Malaysia"
          ],
          [
           "Poland"
          ],
          [
           "India"
          ],
          [
           "Trinidad and Tobago"
          ],
          [
           "Slovakia"
          ],
          [
           "Jamaica"
          ],
          [
           "East Timor"
          ],
          [
           "South Africa"
          ],
          [
           "Panama"
          ],
          [
           "Suriname"
          ],
          [
           "Hungary"
          ],
          [
           "Brazil"
          ],
          [
           "Montenegro"
          ],
          [
           "Philippines"
          ],
          [
           "Argentina"
          ],
          [
           "Colombia"
          ],
          [
           "Indonesia"
          ],
          [
           "Namibia"
          ],
          [
           "Croatia"
          ],
          [
           "Mongolia"
          ],
          [
           "Romania"
          ],
          [
           "Dominican Republic"
          ],
          [
           "Bulgaria"
          ],
          [
           "Thailand"
          ],
          [
           "Serbia"
          ],
          [
           "Ghana"
          ],
          [
           "Albania"
          ],
          [
           "Guyana"
          ],
          [
           "Moldova"
          ],
          [
           "Singapore"
          ],
          [
           "Sri Lanka"
          ],
          [
           "Lesotho"
          ],
          [
           "North Macedonia"
          ],
          [
           "Papua New Guinea"
          ],
          [
           "Paraguay"
          ],
          [
           "Bangladesh"
          ],
          [
           "Malawi"
          ],
          [
           "Peru"
          ],
          [
           "Zambia"
          ],
          [
           "Liberia"
          ],
          [
           "Fiji"
          ],
          [
           "Bhutan"
          ],
          [
           "Tunisia"
          ],
          [
           "Senegal"
          ],
          [
           "Armenia"
          ],
          [
           "Ecuador"
          ],
          [
           "Tanzania"
          ],
          [
           "Madagascar"
          ],
          [
           "Georgia"
          ],
          [
           "Mexico"
          ],
          [
           "Ukraine"
          ],
          [
           "Kenya"
          ],
          [
           "Morocco"
          ],
          [
           "Bosnia and Herzegovina"
          ],
          [
           "Honduras"
          ],
          [
           "El Salvador"
          ],
          [
           "Benin"
          ],
          [
           "Nepal"
          ],
          [
           "Uganda"
          ],
          [
           "Guatemala"
          ],
          [
           "Gambia"
          ],
          [
           "Turkey"
          ],
          [
           "Sierra Leone"
          ],
          [
           "Nigeria"
          ],
          [
           "Bolivia"
          ],
          [
           "Angola"
          ],
          [
           "Mauritania"
          ],
          [
           "Kyrgyzstan"
          ],
          [
           "Algeria"
          ],
          [
           "Qatar"
          ],
          [
           "Lebanon"
          ],
          [
           "Mozambique"
          ],
          [
           "Kuwait"
          ],
          [
           "Palestine"
          ],
          [
           "Ethiopia"
          ],
          [
           "Rwanda"
          ],
          [
           "Pakistan"
          ],
          [
           "Oman"
          ],
          [
           "Kazakhstan"
          ],
          [
           "Cambodia"
          ],
          [
           "Jordan"
          ],
          [
           "Zimbabwe"
          ],
          [
           "Comoros"
          ],
          [
           "United Arab Emirates"
          ],
          [
           "Togo"
          ],
          [
           "Egypt"
          ],
          [
           "Iraq"
          ],
          [
           "Haiti"
          ],
          [
           "Azerbaijan"
          ],
          [
           "Burkina Faso"
          ],
          [
           "Djibouti"
          ],
          [
           "Cuba"
          ],
          [
           "Vietnam"
          ],
          [
           "Mali"
          ],
          [
           "Cameroon"
          ],
          [
           "Bahrain"
          ],
          [
           "Guinea-Bissau"
          ],
          [
           "Niger"
          ],
          [
           "Venezuela"
          ],
          [
           "Nicaragua"
          ],
          [
           "Russia"
          ],
          [
           "Guinea"
          ],
          [
           "Gabon"
          ],
          [
           "Burundi"
          ],
          [
           "China"
          ]
         ],
         "hovertemplate": "ranking=%{x}<br>Index Ranking 2023=%{y}<br>Country_EN=%{customdata[0]}<extra></extra>",
         "legendgroup": "",
         "marker": {
          "color": "#636efa",
          "symbol": "circle"
         },
         "mode": "markers",
         "name": "",
         "orientation": "v",
         "showlegend": false,
         "x": [
          1,
          2,
          3,
          4,
          5,
          6,
          7,
          8,
          9,
          10,
          11,
          12,
          13,
          14,
          14,
          16,
          17,
          18,
          18,
          20,
          20,
          22,
          23,
          23,
          25,
          27,
          28,
          29,
          30,
          31,
          31,
          33,
          34,
          35,
          36,
          39,
          39,
          41,
          42,
          43,
          43,
          45,
          46,
          47,
          47,
          49,
          50,
          51,
          52,
          53,
          54,
          55,
          56,
          57,
          58,
          59,
          60,
          61,
          62,
          63,
          64,
          65,
          66,
          67,
          68,
          69,
          70,
          71,
          72,
          74,
          75,
          75,
          77,
          78,
          79,
          80,
          81,
          84,
          85,
          86,
          87,
          88,
          89,
          90,
          91,
          92,
          94,
          95,
          96,
          97,
          98,
          99,
          100,
          102,
          103,
          104,
          105,
          106,
          106,
          109,
          110,
          111,
          113,
          114,
          115,
          116,
          117,
          118,
          119,
          120,
          121,
          122,
          123,
          124,
          125,
          126,
          127,
          128,
          129,
          129,
          129,
          132,
          133,
          134,
          135,
          136,
          137,
          140,
          141,
          142,
          143,
          144,
          145,
          146,
          147,
          148,
          149,
          150,
          151,
          152,
          153,
          154,
          155
         ],
         "xaxis": "x",
         "y": [
          146,
          163,
          146,
          140,
          146,
          163,
          140,
          163,
          125,
          163,
          163,
          79,
          117,
          163,
          135,
          146,
          120,
          113,
          132,
          115,
          59,
          163,
          61,
          117,
          57,
          163,
          143,
          51,
          22,
          143,
          163,
          106,
          96,
          146,
          104,
          163,
          86,
          146,
          146,
          102,
          15,
          30,
          146,
          21,
          146,
          33,
          96,
          122,
          100,
          6,
          135,
          27,
          74,
          7,
          44,
          126,
          163,
          163,
          112,
          84,
          163,
          75,
          120,
          53,
          117,
          108,
          94,
          163,
          76,
          107,
          131,
          50,
          70,
          17,
          62,
          53,
          73,
          78,
          163,
          163,
          101,
          69,
          79,
          40,
          68,
          38,
          103,
          4,
          13,
          19,
          63,
          124,
          20,
          58,
          43,
          56,
          42,
          24,
          116,
          41,
          70,
          5,
          72,
          64,
          83,
          90,
          81,
          163,
          31,
          45,
          163,
          3,
          22,
          95,
          14,
          146,
          84,
          146,
          122,
          48,
          109,
          163,
          77,
          82,
          12,
          8,
          55,
          17,
          127,
          87,
          111,
          15,
          25,
          132,
          88,
          34,
          27,
          89,
          36,
          65,
          105,
          32,
          66
         ],
         "yaxis": "y",
         "type": "scatter"
        },
        {
         "hovertemplate": "<b>OLS trendline</b><br>Index Ranking 2023 = -0.472786 * ranking + 126.251<br>R<sup>2</sup>=0.187010<br><br>ranking=%{x}<br>Index Ranking 2023=%{y} <b>(trend)</b><extra></extra>",
         "legendgroup": "",
         "marker": {
          "color": "#636efa",
          "symbol": "circle"
         },
         "mode": "lines",
         "name": "",
         "showlegend": false,
         "x": [
          1,
          2,
          3,
          4,
          5,
          6,
          7,
          8,
          9,
          10,
          11,
          12,
          13,
          14,
          14,
          16,
          17,
          18,
          18,
          20,
          20,
          22,
          23,
          23,
          25,
          27,
          28,
          29,
          30,
          31,
          31,
          33,
          34,
          35,
          36,
          39,
          39,
          41,
          42,
          43,
          43,
          45,
          46,
          47,
          47,
          49,
          50,
          51,
          52,
          53,
          54,
          55,
          56,
          57,
          58,
          59,
          60,
          61,
          62,
          63,
          64,
          65,
          66,
          67,
          68,
          69,
          70,
          71,
          72,
          74,
          75,
          75,
          77,
          78,
          79,
          80,
          81,
          84,
          85,
          86,
          87,
          88,
          89,
          90,
          91,
          92,
          94,
          95,
          96,
          97,
          98,
          99,
          100,
          102,
          103,
          104,
          105,
          106,
          106,
          109,
          110,
          111,
          113,
          114,
          115,
          116,
          117,
          118,
          119,
          120,
          121,
          122,
          123,
          124,
          125,
          126,
          127,
          128,
          129,
          129,
          129,
          132,
          133,
          134,
          135,
          136,
          137,
          140,
          141,
          142,
          143,
          144,
          145,
          146,
          147,
          148,
          149,
          150,
          151,
          152,
          153,
          154,
          155
         ],
         "xaxis": "x",
         "y": [
          125.7780343512973,
          125.30524831752662,
          124.83246228375593,
          124.35967624998526,
          123.88689021621457,
          123.4141041824439,
          122.9413181486732,
          122.46853211490253,
          121.99574608113184,
          121.52296004736117,
          121.05017401359048,
          120.5773879798198,
          120.10460194604912,
          119.63181591227844,
          119.63181591227844,
          118.68624384473708,
          118.21345781096639,
          117.7406717771957,
          117.7406717771957,
          116.79509970965435,
          116.79509970965435,
          115.84952764211297,
          115.3767416083423,
          115.3767416083423,
          114.43116954080094,
          113.48559747325957,
          113.01281143948889,
          112.54002540571821,
          112.06723937194752,
          111.59445333817685,
          111.59445333817685,
          110.64888127063548,
          110.1760952368648,
          109.70330920309411,
          109.23052316932343,
          107.81216506801138,
          107.81216506801138,
          106.86659300047003,
          106.39380696669934,
          105.92102093292866,
          105.92102093292866,
          104.97544886538729,
          104.50266283161662,
          104.02987679784593,
          104.02987679784593,
          103.08430473030457,
          102.61151869653389,
          102.1387326627632,
          101.66594662899251,
          101.19316059522184,
          100.72037456145117,
          100.24758852768048,
          99.77480249390979,
          99.30201646013911,
          98.82923042636844,
          98.35644439259775,
          97.88365835882706,
          97.41087232505639,
          96.9380862912857,
          96.46530025751503,
          95.99251422374434,
          95.51972818997366,
          95.04694215620297,
          94.5741561224323,
          94.10137008866161,
          93.62858405489092,
          93.15579802112025,
          92.68301198734957,
          92.21022595357888,
          91.26465388603752,
          90.79186785226685,
          90.79186785226685,
          89.84629578472547,
          89.3735097509548,
          88.90072371718412,
          88.42793768341343,
          87.95515164964274,
          86.5367935483307,
          86.06400751456002,
          85.59122148078933,
          85.11843544701865,
          84.64564941324798,
          84.17286337947729,
          83.7000773457066,
          83.22729131193593,
          82.75450527816525,
          81.80893321062388,
          81.3361471768532,
          80.86336114308253,
          80.39057510931184,
          79.91778907554115,
          79.44500304177048,
          78.9722170079998,
          78.02664494045843,
          77.55385890668774,
          77.08107287291706,
          76.60828683914639,
          76.1355008053757,
          76.1355008053757,
          74.71714270406366,
          74.24435667029297,
          73.77157063652228,
          72.82599856898094,
          72.35321253521025,
          71.88042650143956,
          71.40764046766888,
          70.93485443389821,
          70.46206840012752,
          69.98928236635683,
          69.51649633258614,
          69.04371029881547,
          68.5709242650448,
          68.0981382312741,
          67.62535219750342,
          67.15256616373274,
          66.67978012996207,
          66.20699409619138,
          65.73420806242069,
          65.26142202865002,
          65.26142202865002,
          65.26142202865002,
          63.84306392733797,
          63.37027789356729,
          62.89749185979661,
          62.42470582602593,
          61.95191979225524,
          61.479133758484565,
          60.06077565717251,
          59.58798962340184,
          59.11520358963115,
          58.642417555860476,
          58.16963152208979,
          57.69684548831911,
          57.224059454548424,
          56.751273420777736,
          56.27848738700706,
          55.80570135323637,
          55.3329153194657,
          54.86012928569501,
          54.387343251924335,
          53.91455721815365,
          53.44177118438297,
          52.96898515061228
         ],
         "yaxis": "y",
         "type": "scatter",
         "line": {
          "color": "black"
         }
        }
       ],
       "layout": {
        "template": {
         "data": {
          "histogram2dcontour": [
           {
            "type": "histogram2dcontour",
            "colorbar": {
             "outlinewidth": 0,
             "ticks": ""
            },
            "colorscale": [
             [
              0.0,
              "#0d0887"
             ],
             [
              0.1111111111111111,
              "#46039f"
             ],
             [
              0.2222222222222222,
              "#7201a8"
             ],
             [
              0.3333333333333333,
              "#9c179e"
             ],
             [
              0.4444444444444444,
              "#bd3786"
             ],
             [
              0.5555555555555556,
              "#d8576b"
             ],
             [
              0.6666666666666666,
              "#ed7953"
             ],
             [
              0.7777777777777778,
              "#fb9f3a"
             ],
             [
              0.8888888888888888,
              "#fdca26"
             ],
             [
              1.0,
              "#f0f921"
             ]
            ]
           }
          ],
          "choropleth": [
           {
            "type": "choropleth",
            "colorbar": {
             "outlinewidth": 0,
             "ticks": ""
            }
           }
          ],
          "histogram2d": [
           {
            "type": "histogram2d",
            "colorbar": {
             "outlinewidth": 0,
             "ticks": ""
            },
            "colorscale": [
             [
              0.0,
              "#0d0887"
             ],
             [
              0.1111111111111111,
              "#46039f"
             ],
             [
              0.2222222222222222,
              "#7201a8"
             ],
             [
              0.3333333333333333,
              "#9c179e"
             ],
             [
              0.4444444444444444,
              "#bd3786"
             ],
             [
              0.5555555555555556,
              "#d8576b"
             ],
             [
              0.6666666666666666,
              "#ed7953"
             ],
             [
              0.7777777777777778,
              "#fb9f3a"
             ],
             [
              0.8888888888888888,
              "#fdca26"
             ],
             [
              1.0,
              "#f0f921"
             ]
            ]
           }
          ],
          "heatmap": [
           {
            "type": "heatmap",
            "colorbar": {
             "outlinewidth": 0,
             "ticks": ""
            },
            "colorscale": [
             [
              0.0,
              "#0d0887"
             ],
             [
              0.1111111111111111,
              "#46039f"
             ],
             [
              0.2222222222222222,
              "#7201a8"
             ],
             [
              0.3333333333333333,
              "#9c179e"
             ],
             [
              0.4444444444444444,
              "#bd3786"
             ],
             [
              0.5555555555555556,
              "#d8576b"
             ],
             [
              0.6666666666666666,
              "#ed7953"
             ],
             [
              0.7777777777777778,
              "#fb9f3a"
             ],
             [
              0.8888888888888888,
              "#fdca26"
             ],
             [
              1.0,
              "#f0f921"
             ]
            ]
           }
          ],
          "heatmapgl": [
           {
            "type": "heatmapgl",
            "colorbar": {
             "outlinewidth": 0,
             "ticks": ""
            },
            "colorscale": [
             [
              0.0,
              "#0d0887"
             ],
             [
              0.1111111111111111,
              "#46039f"
             ],
             [
              0.2222222222222222,
              "#7201a8"
             ],
             [
              0.3333333333333333,
              "#9c179e"
             ],
             [
              0.4444444444444444,
              "#bd3786"
             ],
             [
              0.5555555555555556,
              "#d8576b"
             ],
             [
              0.6666666666666666,
              "#ed7953"
             ],
             [
              0.7777777777777778,
              "#fb9f3a"
             ],
             [
              0.8888888888888888,
              "#fdca26"
             ],
             [
              1.0,
              "#f0f921"
             ]
            ]
           }
          ],
          "contourcarpet": [
           {
            "type": "contourcarpet",
            "colorbar": {
             "outlinewidth": 0,
             "ticks": ""
            }
           }
          ],
          "contour": [
           {
            "type": "contour",
            "colorbar": {
             "outlinewidth": 0,
             "ticks": ""
            },
            "colorscale": [
             [
              0.0,
              "#0d0887"
             ],
             [
              0.1111111111111111,
              "#46039f"
             ],
             [
              0.2222222222222222,
              "#7201a8"
             ],
             [
              0.3333333333333333,
              "#9c179e"
             ],
             [
              0.4444444444444444,
              "#bd3786"
             ],
             [
              0.5555555555555556,
              "#d8576b"
             ],
             [
              0.6666666666666666,
              "#ed7953"
             ],
             [
              0.7777777777777778,
              "#fb9f3a"
             ],
             [
              0.8888888888888888,
              "#fdca26"
             ],
             [
              1.0,
              "#f0f921"
             ]
            ]
           }
          ],
          "surface": [
           {
            "type": "surface",
            "colorbar": {
             "outlinewidth": 0,
             "ticks": ""
            },
            "colorscale": [
             [
              0.0,
              "#0d0887"
             ],
             [
              0.1111111111111111,
              "#46039f"
             ],
             [
              0.2222222222222222,
              "#7201a8"
             ],
             [
              0.3333333333333333,
              "#9c179e"
             ],
             [
              0.4444444444444444,
              "#bd3786"
             ],
             [
              0.5555555555555556,
              "#d8576b"
             ],
             [
              0.6666666666666666,
              "#ed7953"
             ],
             [
              0.7777777777777778,
              "#fb9f3a"
             ],
             [
              0.8888888888888888,
              "#fdca26"
             ],
             [
              1.0,
              "#f0f921"
             ]
            ]
           }
          ],
          "mesh3d": [
           {
            "type": "mesh3d",
            "colorbar": {
             "outlinewidth": 0,
             "ticks": ""
            }
           }
          ],
          "scatter": [
           {
            "marker": {
             "line": {
              "color": "#283442"
             }
            },
            "type": "scatter"
           }
          ],
          "parcoords": [
           {
            "type": "parcoords",
            "line": {
             "colorbar": {
              "outlinewidth": 0,
              "ticks": ""
             }
            }
           }
          ],
          "scatterpolargl": [
           {
            "type": "scatterpolargl",
            "marker": {
             "colorbar": {
              "outlinewidth": 0,
              "ticks": ""
             }
            }
           }
          ],
          "bar": [
           {
            "error_x": {
             "color": "#f2f5fa"
            },
            "error_y": {
             "color": "#f2f5fa"
            },
            "marker": {
             "line": {
              "color": "rgb(17,17,17)",
              "width": 0.5
             },
             "pattern": {
              "fillmode": "overlay",
              "size": 10,
              "solidity": 0.2
             }
            },
            "type": "bar"
           }
          ],
          "scattergeo": [
           {
            "type": "scattergeo",
            "marker": {
             "colorbar": {
              "outlinewidth": 0,
              "ticks": ""
             }
            }
           }
          ],
          "scatterpolar": [
           {
            "type": "scatterpolar",
            "marker": {
             "colorbar": {
              "outlinewidth": 0,
              "ticks": ""
             }
            }
           }
          ],
          "histogram": [
           {
            "marker": {
             "pattern": {
              "fillmode": "overlay",
              "size": 10,
              "solidity": 0.2
             }
            },
            "type": "histogram"
           }
          ],
          "scattergl": [
           {
            "marker": {
             "line": {
              "color": "#283442"
             }
            },
            "type": "scattergl"
           }
          ],
          "scatter3d": [
           {
            "type": "scatter3d",
            "line": {
             "colorbar": {
              "outlinewidth": 0,
              "ticks": ""
             }
            },
            "marker": {
             "colorbar": {
              "outlinewidth": 0,
              "ticks": ""
             }
            }
           }
          ],
          "scattermapbox": [
           {
            "type": "scattermapbox",
            "marker": {
             "colorbar": {
              "outlinewidth": 0,
              "ticks": ""
             }
            }
           }
          ],
          "scatterternary": [
           {
            "type": "scatterternary",
            "marker": {
             "colorbar": {
              "outlinewidth": 0,
              "ticks": ""
             }
            }
           }
          ],
          "scattercarpet": [
           {
            "type": "scattercarpet",
            "marker": {
             "colorbar": {
              "outlinewidth": 0,
              "ticks": ""
             }
            }
           }
          ],
          "carpet": [
           {
            "aaxis": {
             "endlinecolor": "#A2B1C6",
             "gridcolor": "#506784",
             "linecolor": "#506784",
             "minorgridcolor": "#506784",
             "startlinecolor": "#A2B1C6"
            },
            "baxis": {
             "endlinecolor": "#A2B1C6",
             "gridcolor": "#506784",
             "linecolor": "#506784",
             "minorgridcolor": "#506784",
             "startlinecolor": "#A2B1C6"
            },
            "type": "carpet"
           }
          ],
          "table": [
           {
            "cells": {
             "fill": {
              "color": "#506784"
             },
             "line": {
              "color": "rgb(17,17,17)"
             }
            },
            "header": {
             "fill": {
              "color": "#2a3f5f"
             },
             "line": {
              "color": "rgb(17,17,17)"
             }
            },
            "type": "table"
           }
          ],
          "barpolar": [
           {
            "marker": {
             "line": {
              "color": "rgb(17,17,17)",
              "width": 0.5
             },
             "pattern": {
              "fillmode": "overlay",
              "size": 10,
              "solidity": 0.2
             }
            },
            "type": "barpolar"
           }
          ],
          "pie": [
           {
            "automargin": true,
            "type": "pie"
           }
          ]
         },
         "layout": {
          "autotypenumbers": "strict",
          "colorway": [
           "#636efa",
           "#EF553B",
           "#00cc96",
           "#ab63fa",
           "#FFA15A",
           "#19d3f3",
           "#FF6692",
           "#B6E880",
           "#FF97FF",
           "#FECB52"
          ],
          "font": {
           "color": "#f2f5fa"
          },
          "hovermode": "closest",
          "hoverlabel": {
           "align": "left"
          },
          "paper_bgcolor": "rgb(17,17,17)",
          "plot_bgcolor": "rgb(17,17,17)",
          "polar": {
           "bgcolor": "rgb(17,17,17)",
           "angularaxis": {
            "gridcolor": "#506784",
            "linecolor": "#506784",
            "ticks": ""
           },
           "radialaxis": {
            "gridcolor": "#506784",
            "linecolor": "#506784",
            "ticks": ""
           }
          },
          "ternary": {
           "bgcolor": "rgb(17,17,17)",
           "aaxis": {
            "gridcolor": "#506784",
            "linecolor": "#506784",
            "ticks": ""
           },
           "baxis": {
            "gridcolor": "#506784",
            "linecolor": "#506784",
            "ticks": ""
           },
           "caxis": {
            "gridcolor": "#506784",
            "linecolor": "#506784",
            "ticks": ""
           }
          },
          "coloraxis": {
           "colorbar": {
            "outlinewidth": 0,
            "ticks": ""
           }
          },
          "colorscale": {
           "sequential": [
            [
             0.0,
             "#0d0887"
            ],
            [
             0.1111111111111111,
             "#46039f"
            ],
            [
             0.2222222222222222,
             "#7201a8"
            ],
            [
             0.3333333333333333,
             "#9c179e"
            ],
            [
             0.4444444444444444,
             "#bd3786"
            ],
            [
             0.5555555555555556,
             "#d8576b"
            ],
            [
             0.6666666666666666,
             "#ed7953"
            ],
            [
             0.7777777777777778,
             "#fb9f3a"
            ],
            [
             0.8888888888888888,
             "#fdca26"
            ],
            [
             1.0,
             "#f0f921"
            ]
           ],
           "sequentialminus": [
            [
             0.0,
             "#0d0887"
            ],
            [
             0.1111111111111111,
             "#46039f"
            ],
            [
             0.2222222222222222,
             "#7201a8"
            ],
            [
             0.3333333333333333,
             "#9c179e"
            ],
            [
             0.4444444444444444,
             "#bd3786"
            ],
            [
             0.5555555555555556,
             "#d8576b"
            ],
            [
             0.6666666666666666,
             "#ed7953"
            ],
            [
             0.7777777777777778,
             "#fb9f3a"
            ],
            [
             0.8888888888888888,
             "#fdca26"
            ],
            [
             1.0,
             "#f0f921"
            ]
           ],
           "diverging": [
            [
             0,
             "#8e0152"
            ],
            [
             0.1,
             "#c51b7d"
            ],
            [
             0.2,
             "#de77ae"
            ],
            [
             0.3,
             "#f1b6da"
            ],
            [
             0.4,
             "#fde0ef"
            ],
            [
             0.5,
             "#f7f7f7"
            ],
            [
             0.6,
             "#e6f5d0"
            ],
            [
             0.7,
             "#b8e186"
            ],
            [
             0.8,
             "#7fbc41"
            ],
            [
             0.9,
             "#4d9221"
            ],
            [
             1,
             "#276419"
            ]
           ]
          },
          "xaxis": {
           "gridcolor": "#283442",
           "linecolor": "#506784",
           "ticks": "",
           "title": {
            "standoff": 15
           },
           "zerolinecolor": "#283442",
           "automargin": true,
           "zerolinewidth": 2
          },
          "yaxis": {
           "gridcolor": "#283442",
           "linecolor": "#506784",
           "ticks": "",
           "title": {
            "standoff": 15
           },
           "zerolinecolor": "#283442",
           "automargin": true,
           "zerolinewidth": 2
          },
          "scene": {
           "xaxis": {
            "backgroundcolor": "rgb(17,17,17)",
            "gridcolor": "#506784",
            "linecolor": "#506784",
            "showbackground": true,
            "ticks": "",
            "zerolinecolor": "#C8D4E3",
            "gridwidth": 2
           },
           "yaxis": {
            "backgroundcolor": "rgb(17,17,17)",
            "gridcolor": "#506784",
            "linecolor": "#506784",
            "showbackground": true,
            "ticks": "",
            "zerolinecolor": "#C8D4E3",
            "gridwidth": 2
           },
           "zaxis": {
            "backgroundcolor": "rgb(17,17,17)",
            "gridcolor": "#506784",
            "linecolor": "#506784",
            "showbackground": true,
            "ticks": "",
            "zerolinecolor": "#C8D4E3",
            "gridwidth": 2
           }
          },
          "shapedefaults": {
           "line": {
            "color": "#f2f5fa"
           }
          },
          "annotationdefaults": {
           "arrowcolor": "#f2f5fa",
           "arrowhead": 0,
           "arrowwidth": 1
          },
          "geo": {
           "bgcolor": "rgb(17,17,17)",
           "landcolor": "rgb(17,17,17)",
           "subunitcolor": "#506784",
           "showland": true,
           "showlakes": true,
           "lakecolor": "rgb(17,17,17)"
          },
          "title": {
           "x": 0.05
          },
          "updatemenudefaults": {
           "bgcolor": "#506784",
           "borderwidth": 0
          },
          "sliderdefaults": {
           "bgcolor": "#C8D4E3",
           "borderwidth": 1,
           "bordercolor": "rgb(17,17,17)",
           "tickwidth": 0
          },
          "mapbox": {
           "style": "dark"
          }
         }
        },
        "xaxis": {
         "anchor": "y",
         "domain": [
          0.0,
          1.0
         ],
         "title": {
          "text": "Democracy index ranking 2023"
         }
        },
        "yaxis": {
         "anchor": "x",
         "domain": [
          0.0,
          1.0
         ],
         "title": {
          "text": "Conflict index ranking 2023"
         }
        },
        "legend": {
         "tracegroupgap": 0
        },
        "title": {
         "text": "Democracy index ranking vs Conflict index ranking 2023"
        }
       },
       "config": {
        "plotlyServerURL": "https://plot.ly"
       }
      },
      "text/html": [
       "<div>                            <div id=\"538865b6-7621-45a2-b907-bf40e22fc430\" class=\"plotly-graph-div\" style=\"height:525px; width:100%;\"></div>            <script type=\"text/javascript\">                require([\"plotly\"], function(Plotly) {                    window.PLOTLYENV=window.PLOTLYENV || {};                                    if (document.getElementById(\"538865b6-7621-45a2-b907-bf40e22fc430\")) {                    Plotly.newPlot(                        \"538865b6-7621-45a2-b907-bf40e22fc430\",                        [{\"customdata\":[[\"Norway\"],[\"New Zealand\"],[\"Iceland\"],[\"Sweden\"],[\"Finland\"],[\"Denmark\"],[\"Ireland\"],[\"Switzerland\"],[\"Netherlands\"],[\"Taiwan\"],[\"Luxembourg\"],[\"Germany\"],[\"Canada\"],[\"Australia\"],[\"Uruguay\"],[\"Japan\"],[\"Costa Rica\"],[\"United Kingdom\"],[\"Austria\"],[\"Mauritius\"],[\"Greece\"],[\"South Korea\"],[\"France\"],[\"Spain\"],[\"Chile\"],[\"Estonia\"],[\"Malta\"],[\"United States\"],[\"Israel\"],[\"Slovenia\"],[\"Portugal\"],[\"Botswana\"],[\"Italy\"],[\"Cape Verde\"],[\"Belgium\"],[\"Latvia\"],[\"Cyprus\"],[\"Lithuania\"],[\"Malaysia\"],[\"Poland\"],[\"India\"],[\"Trinidad and Tobago\"],[\"Slovakia\"],[\"Jamaica\"],[\"East Timor\"],[\"South Africa\"],[\"Panama\"],[\"Suriname\"],[\"Hungary\"],[\"Brazil\"],[\"Montenegro\"],[\"Philippines\"],[\"Argentina\"],[\"Colombia\"],[\"Indonesia\"],[\"Namibia\"],[\"Croatia\"],[\"Mongolia\"],[\"Romania\"],[\"Dominican Republic\"],[\"Bulgaria\"],[\"Thailand\"],[\"Serbia\"],[\"Ghana\"],[\"Albania\"],[\"Guyana\"],[\"Moldova\"],[\"Singapore\"],[\"Sri Lanka\"],[\"Lesotho\"],[\"North Macedonia\"],[\"Papua New Guinea\"],[\"Paraguay\"],[\"Bangladesh\"],[\"Malawi\"],[\"Peru\"],[\"Zambia\"],[\"Liberia\"],[\"Fiji\"],[\"Bhutan\"],[\"Tunisia\"],[\"Senegal\"],[\"Armenia\"],[\"Ecuador\"],[\"Tanzania\"],[\"Madagascar\"],[\"Georgia\"],[\"Mexico\"],[\"Ukraine\"],[\"Kenya\"],[\"Morocco\"],[\"Bosnia and Herzegovina\"],[\"Honduras\"],[\"El Salvador\"],[\"Benin\"],[\"Nepal\"],[\"Uganda\"],[\"Guatemala\"],[\"Gambia\"],[\"Turkey\"],[\"Sierra Leone\"],[\"Nigeria\"],[\"Bolivia\"],[\"Angola\"],[\"Mauritania\"],[\"Kyrgyzstan\"],[\"Algeria\"],[\"Qatar\"],[\"Lebanon\"],[\"Mozambique\"],[\"Kuwait\"],[\"Palestine\"],[\"Ethiopia\"],[\"Rwanda\"],[\"Pakistan\"],[\"Oman\"],[\"Kazakhstan\"],[\"Cambodia\"],[\"Jordan\"],[\"Zimbabwe\"],[\"Comoros\"],[\"United Arab Emirates\"],[\"Togo\"],[\"Egypt\"],[\"Iraq\"],[\"Haiti\"],[\"Azerbaijan\"],[\"Burkina Faso\"],[\"Djibouti\"],[\"Cuba\"],[\"Vietnam\"],[\"Mali\"],[\"Cameroon\"],[\"Bahrain\"],[\"Guinea-Bissau\"],[\"Niger\"],[\"Venezuela\"],[\"Nicaragua\"],[\"Russia\"],[\"Guinea\"],[\"Gabon\"],[\"Burundi\"],[\"China\"]],\"hovertemplate\":\"ranking=%{x}\\u003cbr\\u003eIndex Ranking 2023=%{y}\\u003cbr\\u003eCountry_EN=%{customdata[0]}\\u003cextra\\u003e\\u003c\\u002fextra\\u003e\",\"legendgroup\":\"\",\"marker\":{\"color\":\"#636efa\",\"symbol\":\"circle\"},\"mode\":\"markers\",\"name\":\"\",\"orientation\":\"v\",\"showlegend\":false,\"x\":[1,2,3,4,5,6,7,8,9,10,11,12,13,14,14,16,17,18,18,20,20,22,23,23,25,27,28,29,30,31,31,33,34,35,36,39,39,41,42,43,43,45,46,47,47,49,50,51,52,53,54,55,56,57,58,59,60,61,62,63,64,65,66,67,68,69,70,71,72,74,75,75,77,78,79,80,81,84,85,86,87,88,89,90,91,92,94,95,96,97,98,99,100,102,103,104,105,106,106,109,110,111,113,114,115,116,117,118,119,120,121,122,123,124,125,126,127,128,129,129,129,132,133,134,135,136,137,140,141,142,143,144,145,146,147,148,149,150,151,152,153,154,155],\"xaxis\":\"x\",\"y\":[146,163,146,140,146,163,140,163,125,163,163,79,117,163,135,146,120,113,132,115,59,163,61,117,57,163,143,51,22,143,163,106,96,146,104,163,86,146,146,102,15,30,146,21,146,33,96,122,100,6,135,27,74,7,44,126,163,163,112,84,163,75,120,53,117,108,94,163,76,107,131,50,70,17,62,53,73,78,163,163,101,69,79,40,68,38,103,4,13,19,63,124,20,58,43,56,42,24,116,41,70,5,72,64,83,90,81,163,31,45,163,3,22,95,14,146,84,146,122,48,109,163,77,82,12,8,55,17,127,87,111,15,25,132,88,34,27,89,36,65,105,32,66],\"yaxis\":\"y\",\"type\":\"scatter\"},{\"hovertemplate\":\"\\u003cb\\u003eOLS trendline\\u003c\\u002fb\\u003e\\u003cbr\\u003eIndex Ranking 2023 = -0.472786 * ranking + 126.251\\u003cbr\\u003eR\\u003csup\\u003e2\\u003c\\u002fsup\\u003e=0.187010\\u003cbr\\u003e\\u003cbr\\u003eranking=%{x}\\u003cbr\\u003eIndex Ranking 2023=%{y} \\u003cb\\u003e(trend)\\u003c\\u002fb\\u003e\\u003cextra\\u003e\\u003c\\u002fextra\\u003e\",\"legendgroup\":\"\",\"marker\":{\"color\":\"#636efa\",\"symbol\":\"circle\"},\"mode\":\"lines\",\"name\":\"\",\"showlegend\":false,\"x\":[1,2,3,4,5,6,7,8,9,10,11,12,13,14,14,16,17,18,18,20,20,22,23,23,25,27,28,29,30,31,31,33,34,35,36,39,39,41,42,43,43,45,46,47,47,49,50,51,52,53,54,55,56,57,58,59,60,61,62,63,64,65,66,67,68,69,70,71,72,74,75,75,77,78,79,80,81,84,85,86,87,88,89,90,91,92,94,95,96,97,98,99,100,102,103,104,105,106,106,109,110,111,113,114,115,116,117,118,119,120,121,122,123,124,125,126,127,128,129,129,129,132,133,134,135,136,137,140,141,142,143,144,145,146,147,148,149,150,151,152,153,154,155],\"xaxis\":\"x\",\"y\":[125.7780343512973,125.30524831752662,124.83246228375593,124.35967624998526,123.88689021621457,123.4141041824439,122.9413181486732,122.46853211490253,121.99574608113184,121.52296004736117,121.05017401359048,120.5773879798198,120.10460194604912,119.63181591227844,119.63181591227844,118.68624384473708,118.21345781096639,117.7406717771957,117.7406717771957,116.79509970965435,116.79509970965435,115.84952764211297,115.3767416083423,115.3767416083423,114.43116954080094,113.48559747325957,113.01281143948889,112.54002540571821,112.06723937194752,111.59445333817685,111.59445333817685,110.64888127063548,110.1760952368648,109.70330920309411,109.23052316932343,107.81216506801138,107.81216506801138,106.86659300047003,106.39380696669934,105.92102093292866,105.92102093292866,104.97544886538729,104.50266283161662,104.02987679784593,104.02987679784593,103.08430473030457,102.61151869653389,102.1387326627632,101.66594662899251,101.19316059522184,100.72037456145117,100.24758852768048,99.77480249390979,99.30201646013911,98.82923042636844,98.35644439259775,97.88365835882706,97.41087232505639,96.9380862912857,96.46530025751503,95.99251422374434,95.51972818997366,95.04694215620297,94.5741561224323,94.10137008866161,93.62858405489092,93.15579802112025,92.68301198734957,92.21022595357888,91.26465388603752,90.79186785226685,90.79186785226685,89.84629578472547,89.3735097509548,88.90072371718412,88.42793768341343,87.95515164964274,86.5367935483307,86.06400751456002,85.59122148078933,85.11843544701865,84.64564941324798,84.17286337947729,83.7000773457066,83.22729131193593,82.75450527816525,81.80893321062388,81.3361471768532,80.86336114308253,80.39057510931184,79.91778907554115,79.44500304177048,78.9722170079998,78.02664494045843,77.55385890668774,77.08107287291706,76.60828683914639,76.1355008053757,76.1355008053757,74.71714270406366,74.24435667029297,73.77157063652228,72.82599856898094,72.35321253521025,71.88042650143956,71.40764046766888,70.93485443389821,70.46206840012752,69.98928236635683,69.51649633258614,69.04371029881547,68.5709242650448,68.0981382312741,67.62535219750342,67.15256616373274,66.67978012996207,66.20699409619138,65.73420806242069,65.26142202865002,65.26142202865002,65.26142202865002,63.84306392733797,63.37027789356729,62.89749185979661,62.42470582602593,61.95191979225524,61.479133758484565,60.06077565717251,59.58798962340184,59.11520358963115,58.642417555860476,58.16963152208979,57.69684548831911,57.224059454548424,56.751273420777736,56.27848738700706,55.80570135323637,55.3329153194657,54.86012928569501,54.387343251924335,53.91455721815365,53.44177118438297,52.96898515061228],\"yaxis\":\"y\",\"type\":\"scatter\",\"line\":{\"color\":\"black\"}}],                        {\"template\":{\"data\":{\"histogram2dcontour\":[{\"type\":\"histogram2dcontour\",\"colorbar\":{\"outlinewidth\":0,\"ticks\":\"\"},\"colorscale\":[[0.0,\"#0d0887\"],[0.1111111111111111,\"#46039f\"],[0.2222222222222222,\"#7201a8\"],[0.3333333333333333,\"#9c179e\"],[0.4444444444444444,\"#bd3786\"],[0.5555555555555556,\"#d8576b\"],[0.6666666666666666,\"#ed7953\"],[0.7777777777777778,\"#fb9f3a\"],[0.8888888888888888,\"#fdca26\"],[1.0,\"#f0f921\"]]}],\"choropleth\":[{\"type\":\"choropleth\",\"colorbar\":{\"outlinewidth\":0,\"ticks\":\"\"}}],\"histogram2d\":[{\"type\":\"histogram2d\",\"colorbar\":{\"outlinewidth\":0,\"ticks\":\"\"},\"colorscale\":[[0.0,\"#0d0887\"],[0.1111111111111111,\"#46039f\"],[0.2222222222222222,\"#7201a8\"],[0.3333333333333333,\"#9c179e\"],[0.4444444444444444,\"#bd3786\"],[0.5555555555555556,\"#d8576b\"],[0.6666666666666666,\"#ed7953\"],[0.7777777777777778,\"#fb9f3a\"],[0.8888888888888888,\"#fdca26\"],[1.0,\"#f0f921\"]]}],\"heatmap\":[{\"type\":\"heatmap\",\"colorbar\":{\"outlinewidth\":0,\"ticks\":\"\"},\"colorscale\":[[0.0,\"#0d0887\"],[0.1111111111111111,\"#46039f\"],[0.2222222222222222,\"#7201a8\"],[0.3333333333333333,\"#9c179e\"],[0.4444444444444444,\"#bd3786\"],[0.5555555555555556,\"#d8576b\"],[0.6666666666666666,\"#ed7953\"],[0.7777777777777778,\"#fb9f3a\"],[0.8888888888888888,\"#fdca26\"],[1.0,\"#f0f921\"]]}],\"heatmapgl\":[{\"type\":\"heatmapgl\",\"colorbar\":{\"outlinewidth\":0,\"ticks\":\"\"},\"colorscale\":[[0.0,\"#0d0887\"],[0.1111111111111111,\"#46039f\"],[0.2222222222222222,\"#7201a8\"],[0.3333333333333333,\"#9c179e\"],[0.4444444444444444,\"#bd3786\"],[0.5555555555555556,\"#d8576b\"],[0.6666666666666666,\"#ed7953\"],[0.7777777777777778,\"#fb9f3a\"],[0.8888888888888888,\"#fdca26\"],[1.0,\"#f0f921\"]]}],\"contourcarpet\":[{\"type\":\"contourcarpet\",\"colorbar\":{\"outlinewidth\":0,\"ticks\":\"\"}}],\"contour\":[{\"type\":\"contour\",\"colorbar\":{\"outlinewidth\":0,\"ticks\":\"\"},\"colorscale\":[[0.0,\"#0d0887\"],[0.1111111111111111,\"#46039f\"],[0.2222222222222222,\"#7201a8\"],[0.3333333333333333,\"#9c179e\"],[0.4444444444444444,\"#bd3786\"],[0.5555555555555556,\"#d8576b\"],[0.6666666666666666,\"#ed7953\"],[0.7777777777777778,\"#fb9f3a\"],[0.8888888888888888,\"#fdca26\"],[1.0,\"#f0f921\"]]}],\"surface\":[{\"type\":\"surface\",\"colorbar\":{\"outlinewidth\":0,\"ticks\":\"\"},\"colorscale\":[[0.0,\"#0d0887\"],[0.1111111111111111,\"#46039f\"],[0.2222222222222222,\"#7201a8\"],[0.3333333333333333,\"#9c179e\"],[0.4444444444444444,\"#bd3786\"],[0.5555555555555556,\"#d8576b\"],[0.6666666666666666,\"#ed7953\"],[0.7777777777777778,\"#fb9f3a\"],[0.8888888888888888,\"#fdca26\"],[1.0,\"#f0f921\"]]}],\"mesh3d\":[{\"type\":\"mesh3d\",\"colorbar\":{\"outlinewidth\":0,\"ticks\":\"\"}}],\"scatter\":[{\"marker\":{\"line\":{\"color\":\"#283442\"}},\"type\":\"scatter\"}],\"parcoords\":[{\"type\":\"parcoords\",\"line\":{\"colorbar\":{\"outlinewidth\":0,\"ticks\":\"\"}}}],\"scatterpolargl\":[{\"type\":\"scatterpolargl\",\"marker\":{\"colorbar\":{\"outlinewidth\":0,\"ticks\":\"\"}}}],\"bar\":[{\"error_x\":{\"color\":\"#f2f5fa\"},\"error_y\":{\"color\":\"#f2f5fa\"},\"marker\":{\"line\":{\"color\":\"rgb(17,17,17)\",\"width\":0.5},\"pattern\":{\"fillmode\":\"overlay\",\"size\":10,\"solidity\":0.2}},\"type\":\"bar\"}],\"scattergeo\":[{\"type\":\"scattergeo\",\"marker\":{\"colorbar\":{\"outlinewidth\":0,\"ticks\":\"\"}}}],\"scatterpolar\":[{\"type\":\"scatterpolar\",\"marker\":{\"colorbar\":{\"outlinewidth\":0,\"ticks\":\"\"}}}],\"histogram\":[{\"marker\":{\"pattern\":{\"fillmode\":\"overlay\",\"size\":10,\"solidity\":0.2}},\"type\":\"histogram\"}],\"scattergl\":[{\"marker\":{\"line\":{\"color\":\"#283442\"}},\"type\":\"scattergl\"}],\"scatter3d\":[{\"type\":\"scatter3d\",\"line\":{\"colorbar\":{\"outlinewidth\":0,\"ticks\":\"\"}},\"marker\":{\"colorbar\":{\"outlinewidth\":0,\"ticks\":\"\"}}}],\"scattermapbox\":[{\"type\":\"scattermapbox\",\"marker\":{\"colorbar\":{\"outlinewidth\":0,\"ticks\":\"\"}}}],\"scatterternary\":[{\"type\":\"scatterternary\",\"marker\":{\"colorbar\":{\"outlinewidth\":0,\"ticks\":\"\"}}}],\"scattercarpet\":[{\"type\":\"scattercarpet\",\"marker\":{\"colorbar\":{\"outlinewidth\":0,\"ticks\":\"\"}}}],\"carpet\":[{\"aaxis\":{\"endlinecolor\":\"#A2B1C6\",\"gridcolor\":\"#506784\",\"linecolor\":\"#506784\",\"minorgridcolor\":\"#506784\",\"startlinecolor\":\"#A2B1C6\"},\"baxis\":{\"endlinecolor\":\"#A2B1C6\",\"gridcolor\":\"#506784\",\"linecolor\":\"#506784\",\"minorgridcolor\":\"#506784\",\"startlinecolor\":\"#A2B1C6\"},\"type\":\"carpet\"}],\"table\":[{\"cells\":{\"fill\":{\"color\":\"#506784\"},\"line\":{\"color\":\"rgb(17,17,17)\"}},\"header\":{\"fill\":{\"color\":\"#2a3f5f\"},\"line\":{\"color\":\"rgb(17,17,17)\"}},\"type\":\"table\"}],\"barpolar\":[{\"marker\":{\"line\":{\"color\":\"rgb(17,17,17)\",\"width\":0.5},\"pattern\":{\"fillmode\":\"overlay\",\"size\":10,\"solidity\":0.2}},\"type\":\"barpolar\"}],\"pie\":[{\"automargin\":true,\"type\":\"pie\"}]},\"layout\":{\"autotypenumbers\":\"strict\",\"colorway\":[\"#636efa\",\"#EF553B\",\"#00cc96\",\"#ab63fa\",\"#FFA15A\",\"#19d3f3\",\"#FF6692\",\"#B6E880\",\"#FF97FF\",\"#FECB52\"],\"font\":{\"color\":\"#f2f5fa\"},\"hovermode\":\"closest\",\"hoverlabel\":{\"align\":\"left\"},\"paper_bgcolor\":\"rgb(17,17,17)\",\"plot_bgcolor\":\"rgb(17,17,17)\",\"polar\":{\"bgcolor\":\"rgb(17,17,17)\",\"angularaxis\":{\"gridcolor\":\"#506784\",\"linecolor\":\"#506784\",\"ticks\":\"\"},\"radialaxis\":{\"gridcolor\":\"#506784\",\"linecolor\":\"#506784\",\"ticks\":\"\"}},\"ternary\":{\"bgcolor\":\"rgb(17,17,17)\",\"aaxis\":{\"gridcolor\":\"#506784\",\"linecolor\":\"#506784\",\"ticks\":\"\"},\"baxis\":{\"gridcolor\":\"#506784\",\"linecolor\":\"#506784\",\"ticks\":\"\"},\"caxis\":{\"gridcolor\":\"#506784\",\"linecolor\":\"#506784\",\"ticks\":\"\"}},\"coloraxis\":{\"colorbar\":{\"outlinewidth\":0,\"ticks\":\"\"}},\"colorscale\":{\"sequential\":[[0.0,\"#0d0887\"],[0.1111111111111111,\"#46039f\"],[0.2222222222222222,\"#7201a8\"],[0.3333333333333333,\"#9c179e\"],[0.4444444444444444,\"#bd3786\"],[0.5555555555555556,\"#d8576b\"],[0.6666666666666666,\"#ed7953\"],[0.7777777777777778,\"#fb9f3a\"],[0.8888888888888888,\"#fdca26\"],[1.0,\"#f0f921\"]],\"sequentialminus\":[[0.0,\"#0d0887\"],[0.1111111111111111,\"#46039f\"],[0.2222222222222222,\"#7201a8\"],[0.3333333333333333,\"#9c179e\"],[0.4444444444444444,\"#bd3786\"],[0.5555555555555556,\"#d8576b\"],[0.6666666666666666,\"#ed7953\"],[0.7777777777777778,\"#fb9f3a\"],[0.8888888888888888,\"#fdca26\"],[1.0,\"#f0f921\"]],\"diverging\":[[0,\"#8e0152\"],[0.1,\"#c51b7d\"],[0.2,\"#de77ae\"],[0.3,\"#f1b6da\"],[0.4,\"#fde0ef\"],[0.5,\"#f7f7f7\"],[0.6,\"#e6f5d0\"],[0.7,\"#b8e186\"],[0.8,\"#7fbc41\"],[0.9,\"#4d9221\"],[1,\"#276419\"]]},\"xaxis\":{\"gridcolor\":\"#283442\",\"linecolor\":\"#506784\",\"ticks\":\"\",\"title\":{\"standoff\":15},\"zerolinecolor\":\"#283442\",\"automargin\":true,\"zerolinewidth\":2},\"yaxis\":{\"gridcolor\":\"#283442\",\"linecolor\":\"#506784\",\"ticks\":\"\",\"title\":{\"standoff\":15},\"zerolinecolor\":\"#283442\",\"automargin\":true,\"zerolinewidth\":2},\"scene\":{\"xaxis\":{\"backgroundcolor\":\"rgb(17,17,17)\",\"gridcolor\":\"#506784\",\"linecolor\":\"#506784\",\"showbackground\":true,\"ticks\":\"\",\"zerolinecolor\":\"#C8D4E3\",\"gridwidth\":2},\"yaxis\":{\"backgroundcolor\":\"rgb(17,17,17)\",\"gridcolor\":\"#506784\",\"linecolor\":\"#506784\",\"showbackground\":true,\"ticks\":\"\",\"zerolinecolor\":\"#C8D4E3\",\"gridwidth\":2},\"zaxis\":{\"backgroundcolor\":\"rgb(17,17,17)\",\"gridcolor\":\"#506784\",\"linecolor\":\"#506784\",\"showbackground\":true,\"ticks\":\"\",\"zerolinecolor\":\"#C8D4E3\",\"gridwidth\":2}},\"shapedefaults\":{\"line\":{\"color\":\"#f2f5fa\"}},\"annotationdefaults\":{\"arrowcolor\":\"#f2f5fa\",\"arrowhead\":0,\"arrowwidth\":1},\"geo\":{\"bgcolor\":\"rgb(17,17,17)\",\"landcolor\":\"rgb(17,17,17)\",\"subunitcolor\":\"#506784\",\"showland\":true,\"showlakes\":true,\"lakecolor\":\"rgb(17,17,17)\"},\"title\":{\"x\":0.05},\"updatemenudefaults\":{\"bgcolor\":\"#506784\",\"borderwidth\":0},\"sliderdefaults\":{\"bgcolor\":\"#C8D4E3\",\"borderwidth\":1,\"bordercolor\":\"rgb(17,17,17)\",\"tickwidth\":0},\"mapbox\":{\"style\":\"dark\"}}},\"xaxis\":{\"anchor\":\"y\",\"domain\":[0.0,1.0],\"title\":{\"text\":\"Democracy index ranking 2023\"}},\"yaxis\":{\"anchor\":\"x\",\"domain\":[0.0,1.0],\"title\":{\"text\":\"Conflict index ranking 2023\"}},\"legend\":{\"tracegroupgap\":0},\"title\":{\"text\":\"Democracy index ranking vs Conflict index ranking 2023\"}},                        {\"responsive\": true}                    ).then(function(){\n",
       "                            \n",
       "var gd = document.getElementById('538865b6-7621-45a2-b907-bf40e22fc430');\n",
       "var x = new MutationObserver(function (mutations, observer) {{\n",
       "        var display = window.getComputedStyle(gd).display;\n",
       "        if (!display || display === 'none') {{\n",
       "            console.log([gd, 'removed!']);\n",
       "            Plotly.purge(gd);\n",
       "            observer.disconnect();\n",
       "        }}\n",
       "}});\n",
       "\n",
       "// Listen for the removal of the full notebook cells\n",
       "var notebookContainer = gd.closest('#notebook-container');\n",
       "if (notebookContainer) {{\n",
       "    x.observe(notebookContainer, {childList: true});\n",
       "}}\n",
       "\n",
       "// Listen for the clearing of the current output cell\n",
       "var outputEl = gd.closest('.output');\n",
       "if (outputEl) {{\n",
       "    x.observe(outputEl, {childList: true});\n",
       "}}\n",
       "\n",
       "                        })                };                });            </script>        </div>"
      ]
     },
     "metadata": {},
     "output_type": "display_data"
    }
   ],
   "execution_count": 70
  },
  {
   "cell_type": "markdown",
   "metadata": {},
   "source": [
    "## Ter verduidelijking:\n",
    "\n",
    "\n",
    "-----\n",
    "- 'Conflict index':\n",
    "\n",
    "Een hogere ranking (bijv. 1) geeft aan dat er in een land veel/grote conflicten zijn\n",
    "Een lagere ranking (bijv. 150) geeft aan dat er in een land weinig/kleine conflicten zijn\n",
    "\n",
    "--------\n",
    "- 'Democratie index':\n",
    "\n",
    "Een hogere ranking (bijv. 1) geeft aan dat er in een land een heersende democratie is\n",
    "Een lagere ranking (bijv. 150) geeft aan dat er in een land geen democratie is\n",
    "\n",
    "---------\n",
    "- 'Persvrijheid  index':\n",
    "\n",
    "Een hogere ranking (bijv. 1) geeft aan dat de pers in een land veel vrijheid heeft\n",
    "Een lagere ranking (bijv. 150) geeft aan dat de pers in een land weinig vrijheid heeft."
   ]
  },
  {
   "cell_type": "markdown",
   "metadata": {},
   "source": [
    "## Reflectie\n",
    "\n",
    "Tekst"
   ]
  },
  {
   "cell_type": "markdown",
   "metadata": {},
   "source": [
    "## Work distribution\n",
    "\n",
    "Tekst"
   ]
  },
  {
   "cell_type": "markdown",
   "metadata": {},
   "source": [
    "## Referenties\n",
    "\n",
    "Tekst"
   ]
  }
 ],
 "metadata": {
  "kernelspec": {
   "display_name": "Python 3 (ipykernel)",
   "language": "python",
   "name": "python3"
  },
  "language_info": {
   "codemirror_mode": {
    "name": "ipython",
    "version": 3
   },
   "file_extension": ".py",
   "mimetype": "text/x-python",
   "name": "python",
   "nbconvert_exporter": "python",
   "pygments_lexer": "ipython3",
   "version": "3.10.11"
  },
  "widgets": {
   "application/vnd.jupyter.widget-state+json": {
    "state": {},
    "version_major": 2,
    "version_minor": 0
   }
  }
 },
 "nbformat": 4,
 "nbformat_minor": 4
}
