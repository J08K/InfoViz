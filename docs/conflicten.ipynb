{
 "cells": [
  {
   "metadata": {},
   "cell_type": "markdown",
   "source": "# Conflicten Verminderen de Persvrijheid",
   "id": "407ca704ecf21be0"
  },
  {
   "metadata": {},
   "cell_type": "code",
   "outputs": [
    {
     "data": {
      "text/html": [
       "        <script type=\"text/javascript\">\n",
       "        window.PlotlyConfig = {MathJaxConfig: 'local'};\n",
       "        if (window.MathJax && window.MathJax.Hub && window.MathJax.Hub.Config) {window.MathJax.Hub.Config({SVG: {font: \"STIX-Web\"}});}\n",
       "        if (typeof require !== 'undefined') {\n",
       "        require.undef(\"plotly\");\n",
       "        requirejs.config({\n",
       "            paths: {\n",
       "                'plotly': ['https://cdn.plot.ly/plotly-2.32.0.min']\n",
       "            }\n",
       "        });\n",
       "        require(['plotly'], function(Plotly) {\n",
       "            window._Plotly = Plotly;\n",
       "        });\n",
       "        }\n",
       "        </script>\n",
       "        "
      ]
     },
     "metadata": {},
     "output_type": "display_data"
    }
   ],
   "execution_count": 1,
   "source": [
    "import pandas as pd\n",
    "\n",
    "import plotly.graph_objects as go\n",
    "from plotly.offline import init_notebook_mode\n",
    "import plotly.express as px\n",
    "\n",
    "init_notebook_mode(connected=True)\n",
    "\n",
    "# Laad de dataset\n",
    "eind_df = pd.read_pickle('./data/dataset.pkl')"
   ],
   "id": "a64240dbd3911af0"
  },
  {
   "metadata": {},
   "cell_type": "markdown",
   "source": [
    "# Argument 1\n",
    "\n",
    "**Landen die in conflict zijn hebben op dat moment een lage persvrijheid.**\n",
    "\n",
    "Het is algemeen bekend dat conflicten een negatieve impact hebben op verschillende aspecten van de samenleving, en persvrijheid vormt hierop geen uitzondering. Tijdens conflicten wordt de veiligheid van journalisten vaak in gevaar gebracht, waardoor ze hun werk niet vrij kunnen uitvoeren. De dreiging van geweld en intimidatie zorgt ervoor dat journalisten zichzelf censureren of stoppen met rapporteren over gevoelige onderwerpen. Dit heeft verstrekkende gevolgen voor de informatievoorziening en de kwaliteit van het nieuws dat het publiek bereikt. In conflictgebieden worden vaak strikte controlemaatregelen en censuur opgelegd om de verspreiding van informatie te beheersen, en worden journalisten vaak geconfronteerd met arrestaties, aanvallen en zelfs moord, wat leidt tot een omgeving waarin onafhankelijke berichtgeving vrijwel onmogelijk is.\n",
    "\n",
    "De onderstaande pie chart (figuur 1) biedt een helder inzicht in de verdeling van conflictniveaus wereldwijd. De verdeling is weergegeven in vier kleuren voor de conflictstatus: blauw staat voor laag/inactief, oranje voor hoog, geel voor turbulent en rood voor extreem. Uit het diagram blijkt dat 71,4% van de landen momenteel een lage of inactieve conflictstatus heeft. In tegenstelling hiermee bevindt de overige 28,6% van de landen zich in een hogere conflictstatus. Dit kan betekenen dat bijna een derde van de journalisten in deze landen te maken heeft met aanzienlijke uitdagingen en belemmeringen bij hun werk door de situatie in hun land.\n"
   ],
   "id": "8e3e65e1b1d11fba"
  },
  {
   "metadata": {},
   "cell_type": "code",
   "outputs": [
    {
     "data": {
      "application/vnd.plotly.v1+json": {
       "data": [
        {
         "customdata": [
          [
           "Low/Inactive"
          ],
          [
           "High"
          ],
          [
           "Turbulent"
          ],
          [
           "Extreme"
          ]
         ],
         "domain": {
          "x": [
           0.0,
           1.0
          ],
          "y": [
           0.0,
           1.0
          ]
         },
         "hovertemplate": "<b>%{label}</b><br>Aantal landen: %{value}<extra></extra>",
         "labels": [
          "Low/Inactive",
          "High",
          "Turbulent",
          "Extreme"
         ],
         "legendgroup": "",
         "marker": {
          "colors": [
           "blue",
           "orange",
           "yellow",
           "red"
          ]
         },
         "name": "",
         "showlegend": true,
         "values": [
          103,
          17,
          13,
          6
         ],
         "type": "pie",
         "textinfo": "percent",
         "textposition": "inside"
        }
       ],
       "layout": {
        "template": {
         "data": {
          "histogram2dcontour": [
           {
            "type": "histogram2dcontour",
            "colorbar": {
             "outlinewidth": 0,
             "ticks": ""
            },
            "colorscale": [
             [
              0.0,
              "#0d0887"
             ],
             [
              0.1111111111111111,
              "#46039f"
             ],
             [
              0.2222222222222222,
              "#7201a8"
             ],
             [
              0.3333333333333333,
              "#9c179e"
             ],
             [
              0.4444444444444444,
              "#bd3786"
             ],
             [
              0.5555555555555556,
              "#d8576b"
             ],
             [
              0.6666666666666666,
              "#ed7953"
             ],
             [
              0.7777777777777778,
              "#fb9f3a"
             ],
             [
              0.8888888888888888,
              "#fdca26"
             ],
             [
              1.0,
              "#f0f921"
             ]
            ]
           }
          ],
          "choropleth": [
           {
            "type": "choropleth",
            "colorbar": {
             "outlinewidth": 0,
             "ticks": ""
            }
           }
          ],
          "histogram2d": [
           {
            "type": "histogram2d",
            "colorbar": {
             "outlinewidth": 0,
             "ticks": ""
            },
            "colorscale": [
             [
              0.0,
              "#0d0887"
             ],
             [
              0.1111111111111111,
              "#46039f"
             ],
             [
              0.2222222222222222,
              "#7201a8"
             ],
             [
              0.3333333333333333,
              "#9c179e"
             ],
             [
              0.4444444444444444,
              "#bd3786"
             ],
             [
              0.5555555555555556,
              "#d8576b"
             ],
             [
              0.6666666666666666,
              "#ed7953"
             ],
             [
              0.7777777777777778,
              "#fb9f3a"
             ],
             [
              0.8888888888888888,
              "#fdca26"
             ],
             [
              1.0,
              "#f0f921"
             ]
            ]
           }
          ],
          "heatmap": [
           {
            "type": "heatmap",
            "colorbar": {
             "outlinewidth": 0,
             "ticks": ""
            },
            "colorscale": [
             [
              0.0,
              "#0d0887"
             ],
             [
              0.1111111111111111,
              "#46039f"
             ],
             [
              0.2222222222222222,
              "#7201a8"
             ],
             [
              0.3333333333333333,
              "#9c179e"
             ],
             [
              0.4444444444444444,
              "#bd3786"
             ],
             [
              0.5555555555555556,
              "#d8576b"
             ],
             [
              0.6666666666666666,
              "#ed7953"
             ],
             [
              0.7777777777777778,
              "#fb9f3a"
             ],
             [
              0.8888888888888888,
              "#fdca26"
             ],
             [
              1.0,
              "#f0f921"
             ]
            ]
           }
          ],
          "heatmapgl": [
           {
            "type": "heatmapgl",
            "colorbar": {
             "outlinewidth": 0,
             "ticks": ""
            },
            "colorscale": [
             [
              0.0,
              "#0d0887"
             ],
             [
              0.1111111111111111,
              "#46039f"
             ],
             [
              0.2222222222222222,
              "#7201a8"
             ],
             [
              0.3333333333333333,
              "#9c179e"
             ],
             [
              0.4444444444444444,
              "#bd3786"
             ],
             [
              0.5555555555555556,
              "#d8576b"
             ],
             [
              0.6666666666666666,
              "#ed7953"
             ],
             [
              0.7777777777777778,
              "#fb9f3a"
             ],
             [
              0.8888888888888888,
              "#fdca26"
             ],
             [
              1.0,
              "#f0f921"
             ]
            ]
           }
          ],
          "contourcarpet": [
           {
            "type": "contourcarpet",
            "colorbar": {
             "outlinewidth": 0,
             "ticks": ""
            }
           }
          ],
          "contour": [
           {
            "type": "contour",
            "colorbar": {
             "outlinewidth": 0,
             "ticks": ""
            },
            "colorscale": [
             [
              0.0,
              "#0d0887"
             ],
             [
              0.1111111111111111,
              "#46039f"
             ],
             [
              0.2222222222222222,
              "#7201a8"
             ],
             [
              0.3333333333333333,
              "#9c179e"
             ],
             [
              0.4444444444444444,
              "#bd3786"
             ],
             [
              0.5555555555555556,
              "#d8576b"
             ],
             [
              0.6666666666666666,
              "#ed7953"
             ],
             [
              0.7777777777777778,
              "#fb9f3a"
             ],
             [
              0.8888888888888888,
              "#fdca26"
             ],
             [
              1.0,
              "#f0f921"
             ]
            ]
           }
          ],
          "surface": [
           {
            "type": "surface",
            "colorbar": {
             "outlinewidth": 0,
             "ticks": ""
            },
            "colorscale": [
             [
              0.0,
              "#0d0887"
             ],
             [
              0.1111111111111111,
              "#46039f"
             ],
             [
              0.2222222222222222,
              "#7201a8"
             ],
             [
              0.3333333333333333,
              "#9c179e"
             ],
             [
              0.4444444444444444,
              "#bd3786"
             ],
             [
              0.5555555555555556,
              "#d8576b"
             ],
             [
              0.6666666666666666,
              "#ed7953"
             ],
             [
              0.7777777777777778,
              "#fb9f3a"
             ],
             [
              0.8888888888888888,
              "#fdca26"
             ],
             [
              1.0,
              "#f0f921"
             ]
            ]
           }
          ],
          "mesh3d": [
           {
            "type": "mesh3d",
            "colorbar": {
             "outlinewidth": 0,
             "ticks": ""
            }
           }
          ],
          "scatter": [
           {
            "marker": {
             "line": {
              "color": "#283442"
             }
            },
            "type": "scatter"
           }
          ],
          "parcoords": [
           {
            "type": "parcoords",
            "line": {
             "colorbar": {
              "outlinewidth": 0,
              "ticks": ""
             }
            }
           }
          ],
          "scatterpolargl": [
           {
            "type": "scatterpolargl",
            "marker": {
             "colorbar": {
              "outlinewidth": 0,
              "ticks": ""
             }
            }
           }
          ],
          "bar": [
           {
            "error_x": {
             "color": "#f2f5fa"
            },
            "error_y": {
             "color": "#f2f5fa"
            },
            "marker": {
             "line": {
              "color": "rgb(17,17,17)",
              "width": 0.5
             },
             "pattern": {
              "fillmode": "overlay",
              "size": 10,
              "solidity": 0.2
             }
            },
            "type": "bar"
           }
          ],
          "scattergeo": [
           {
            "type": "scattergeo",
            "marker": {
             "colorbar": {
              "outlinewidth": 0,
              "ticks": ""
             }
            }
           }
          ],
          "scatterpolar": [
           {
            "type": "scatterpolar",
            "marker": {
             "colorbar": {
              "outlinewidth": 0,
              "ticks": ""
             }
            }
           }
          ],
          "histogram": [
           {
            "marker": {
             "pattern": {
              "fillmode": "overlay",
              "size": 10,
              "solidity": 0.2
             }
            },
            "type": "histogram"
           }
          ],
          "scattergl": [
           {
            "marker": {
             "line": {
              "color": "#283442"
             }
            },
            "type": "scattergl"
           }
          ],
          "scatter3d": [
           {
            "type": "scatter3d",
            "line": {
             "colorbar": {
              "outlinewidth": 0,
              "ticks": ""
             }
            },
            "marker": {
             "colorbar": {
              "outlinewidth": 0,
              "ticks": ""
             }
            }
           }
          ],
          "scattermapbox": [
           {
            "type": "scattermapbox",
            "marker": {
             "colorbar": {
              "outlinewidth": 0,
              "ticks": ""
             }
            }
           }
          ],
          "scatterternary": [
           {
            "type": "scatterternary",
            "marker": {
             "colorbar": {
              "outlinewidth": 0,
              "ticks": ""
             }
            }
           }
          ],
          "scattercarpet": [
           {
            "type": "scattercarpet",
            "marker": {
             "colorbar": {
              "outlinewidth": 0,
              "ticks": ""
             }
            }
           }
          ],
          "carpet": [
           {
            "aaxis": {
             "endlinecolor": "#A2B1C6",
             "gridcolor": "#506784",
             "linecolor": "#506784",
             "minorgridcolor": "#506784",
             "startlinecolor": "#A2B1C6"
            },
            "baxis": {
             "endlinecolor": "#A2B1C6",
             "gridcolor": "#506784",
             "linecolor": "#506784",
             "minorgridcolor": "#506784",
             "startlinecolor": "#A2B1C6"
            },
            "type": "carpet"
           }
          ],
          "table": [
           {
            "cells": {
             "fill": {
              "color": "#506784"
             },
             "line": {
              "color": "rgb(17,17,17)"
             }
            },
            "header": {
             "fill": {
              "color": "#2a3f5f"
             },
             "line": {
              "color": "rgb(17,17,17)"
             }
            },
            "type": "table"
           }
          ],
          "barpolar": [
           {
            "marker": {
             "line": {
              "color": "rgb(17,17,17)",
              "width": 0.5
             },
             "pattern": {
              "fillmode": "overlay",
              "size": 10,
              "solidity": 0.2
             }
            },
            "type": "barpolar"
           }
          ],
          "pie": [
           {
            "automargin": true,
            "type": "pie"
           }
          ]
         },
         "layout": {
          "autotypenumbers": "strict",
          "colorway": [
           "#636efa",
           "#EF553B",
           "#00cc96",
           "#ab63fa",
           "#FFA15A",
           "#19d3f3",
           "#FF6692",
           "#B6E880",
           "#FF97FF",
           "#FECB52"
          ],
          "font": {
           "color": "#f2f5fa"
          },
          "hovermode": "closest",
          "hoverlabel": {
           "align": "left"
          },
          "paper_bgcolor": "rgb(17,17,17)",
          "plot_bgcolor": "rgb(17,17,17)",
          "polar": {
           "bgcolor": "rgb(17,17,17)",
           "angularaxis": {
            "gridcolor": "#506784",
            "linecolor": "#506784",
            "ticks": ""
           },
           "radialaxis": {
            "gridcolor": "#506784",
            "linecolor": "#506784",
            "ticks": ""
           }
          },
          "ternary": {
           "bgcolor": "rgb(17,17,17)",
           "aaxis": {
            "gridcolor": "#506784",
            "linecolor": "#506784",
            "ticks": ""
           },
           "baxis": {
            "gridcolor": "#506784",
            "linecolor": "#506784",
            "ticks": ""
           },
           "caxis": {
            "gridcolor": "#506784",
            "linecolor": "#506784",
            "ticks": ""
           }
          },
          "coloraxis": {
           "colorbar": {
            "outlinewidth": 0,
            "ticks": ""
           }
          },
          "colorscale": {
           "sequential": [
            [
             0.0,
             "#0d0887"
            ],
            [
             0.1111111111111111,
             "#46039f"
            ],
            [
             0.2222222222222222,
             "#7201a8"
            ],
            [
             0.3333333333333333,
             "#9c179e"
            ],
            [
             0.4444444444444444,
             "#bd3786"
            ],
            [
             0.5555555555555556,
             "#d8576b"
            ],
            [
             0.6666666666666666,
             "#ed7953"
            ],
            [
             0.7777777777777778,
             "#fb9f3a"
            ],
            [
             0.8888888888888888,
             "#fdca26"
            ],
            [
             1.0,
             "#f0f921"
            ]
           ],
           "sequentialminus": [
            [
             0.0,
             "#0d0887"
            ],
            [
             0.1111111111111111,
             "#46039f"
            ],
            [
             0.2222222222222222,
             "#7201a8"
            ],
            [
             0.3333333333333333,
             "#9c179e"
            ],
            [
             0.4444444444444444,
             "#bd3786"
            ],
            [
             0.5555555555555556,
             "#d8576b"
            ],
            [
             0.6666666666666666,
             "#ed7953"
            ],
            [
             0.7777777777777778,
             "#fb9f3a"
            ],
            [
             0.8888888888888888,
             "#fdca26"
            ],
            [
             1.0,
             "#f0f921"
            ]
           ],
           "diverging": [
            [
             0,
             "#8e0152"
            ],
            [
             0.1,
             "#c51b7d"
            ],
            [
             0.2,
             "#de77ae"
            ],
            [
             0.3,
             "#f1b6da"
            ],
            [
             0.4,
             "#fde0ef"
            ],
            [
             0.5,
             "#f7f7f7"
            ],
            [
             0.6,
             "#e6f5d0"
            ],
            [
             0.7,
             "#b8e186"
            ],
            [
             0.8,
             "#7fbc41"
            ],
            [
             0.9,
             "#4d9221"
            ],
            [
             1,
             "#276419"
            ]
           ]
          },
          "xaxis": {
           "gridcolor": "#283442",
           "linecolor": "#506784",
           "ticks": "",
           "title": {
            "standoff": 15
           },
           "zerolinecolor": "#283442",
           "automargin": true,
           "zerolinewidth": 2
          },
          "yaxis": {
           "gridcolor": "#283442",
           "linecolor": "#506784",
           "ticks": "",
           "title": {
            "standoff": 15
           },
           "zerolinecolor": "#283442",
           "automargin": true,
           "zerolinewidth": 2
          },
          "scene": {
           "xaxis": {
            "backgroundcolor": "rgb(17,17,17)",
            "gridcolor": "#506784",
            "linecolor": "#506784",
            "showbackground": true,
            "ticks": "",
            "zerolinecolor": "#C8D4E3",
            "gridwidth": 2
           },
           "yaxis": {
            "backgroundcolor": "rgb(17,17,17)",
            "gridcolor": "#506784",
            "linecolor": "#506784",
            "showbackground": true,
            "ticks": "",
            "zerolinecolor": "#C8D4E3",
            "gridwidth": 2
           },
           "zaxis": {
            "backgroundcolor": "rgb(17,17,17)",
            "gridcolor": "#506784",
            "linecolor": "#506784",
            "showbackground": true,
            "ticks": "",
            "zerolinecolor": "#C8D4E3",
            "gridwidth": 2
           }
          },
          "shapedefaults": {
           "line": {
            "color": "#f2f5fa"
           }
          },
          "annotationdefaults": {
           "arrowcolor": "#f2f5fa",
           "arrowhead": 0,
           "arrowwidth": 1
          },
          "geo": {
           "bgcolor": "rgb(17,17,17)",
           "landcolor": "rgb(17,17,17)",
           "subunitcolor": "#506784",
           "showland": true,
           "showlakes": true,
           "lakecolor": "rgb(17,17,17)"
          },
          "title": {
           "x": 0.05
          },
          "updatemenudefaults": {
           "bgcolor": "#506784",
           "borderwidth": 0
          },
          "sliderdefaults": {
           "bgcolor": "#C8D4E3",
           "borderwidth": 1,
           "bordercolor": "rgb(17,17,17)",
           "tickwidth": 0
          },
          "mapbox": {
           "style": "dark"
          }
         }
        },
        "legend": {
         "tracegroupgap": 0,
         "title": {
          "text": "Index level"
         }
        },
        "margin": {
         "t": 60
        },
        "title": {
         "text": "Aantal landen met bepaalde conflict status (index level) "
        }
       },
       "config": {
        "plotlyServerURL": "https://plot.ly"
       }
      },
      "text/html": [
       "<div>                            <div id=\"b03d0a31-ca5b-4014-87c5-cf7601e8edef\" class=\"plotly-graph-div\" style=\"height:525px; width:100%;\"></div>            <script type=\"text/javascript\">                require([\"plotly\"], function(Plotly) {                    window.PLOTLYENV=window.PLOTLYENV || {};                                    if (document.getElementById(\"b03d0a31-ca5b-4014-87c5-cf7601e8edef\")) {                    Plotly.newPlot(                        \"b03d0a31-ca5b-4014-87c5-cf7601e8edef\",                        [{\"customdata\":[[\"Low\\u002fInactive\"],[\"High\"],[\"Turbulent\"],[\"Extreme\"]],\"domain\":{\"x\":[0.0,1.0],\"y\":[0.0,1.0]},\"hovertemplate\":\"\\u003cb\\u003e%{label}\\u003c\\u002fb\\u003e\\u003cbr\\u003eAantal landen: %{value}\\u003cextra\\u003e\\u003c\\u002fextra\\u003e\",\"labels\":[\"Low\\u002fInactive\",\"High\",\"Turbulent\",\"Extreme\"],\"legendgroup\":\"\",\"marker\":{\"colors\":[\"blue\",\"orange\",\"yellow\",\"red\"]},\"name\":\"\",\"showlegend\":true,\"values\":[103,17,13,6],\"type\":\"pie\",\"textinfo\":\"percent\",\"textposition\":\"inside\"}],                        {\"template\":{\"data\":{\"histogram2dcontour\":[{\"type\":\"histogram2dcontour\",\"colorbar\":{\"outlinewidth\":0,\"ticks\":\"\"},\"colorscale\":[[0.0,\"#0d0887\"],[0.1111111111111111,\"#46039f\"],[0.2222222222222222,\"#7201a8\"],[0.3333333333333333,\"#9c179e\"],[0.4444444444444444,\"#bd3786\"],[0.5555555555555556,\"#d8576b\"],[0.6666666666666666,\"#ed7953\"],[0.7777777777777778,\"#fb9f3a\"],[0.8888888888888888,\"#fdca26\"],[1.0,\"#f0f921\"]]}],\"choropleth\":[{\"type\":\"choropleth\",\"colorbar\":{\"outlinewidth\":0,\"ticks\":\"\"}}],\"histogram2d\":[{\"type\":\"histogram2d\",\"colorbar\":{\"outlinewidth\":0,\"ticks\":\"\"},\"colorscale\":[[0.0,\"#0d0887\"],[0.1111111111111111,\"#46039f\"],[0.2222222222222222,\"#7201a8\"],[0.3333333333333333,\"#9c179e\"],[0.4444444444444444,\"#bd3786\"],[0.5555555555555556,\"#d8576b\"],[0.6666666666666666,\"#ed7953\"],[0.7777777777777778,\"#fb9f3a\"],[0.8888888888888888,\"#fdca26\"],[1.0,\"#f0f921\"]]}],\"heatmap\":[{\"type\":\"heatmap\",\"colorbar\":{\"outlinewidth\":0,\"ticks\":\"\"},\"colorscale\":[[0.0,\"#0d0887\"],[0.1111111111111111,\"#46039f\"],[0.2222222222222222,\"#7201a8\"],[0.3333333333333333,\"#9c179e\"],[0.4444444444444444,\"#bd3786\"],[0.5555555555555556,\"#d8576b\"],[0.6666666666666666,\"#ed7953\"],[0.7777777777777778,\"#fb9f3a\"],[0.8888888888888888,\"#fdca26\"],[1.0,\"#f0f921\"]]}],\"heatmapgl\":[{\"type\":\"heatmapgl\",\"colorbar\":{\"outlinewidth\":0,\"ticks\":\"\"},\"colorscale\":[[0.0,\"#0d0887\"],[0.1111111111111111,\"#46039f\"],[0.2222222222222222,\"#7201a8\"],[0.3333333333333333,\"#9c179e\"],[0.4444444444444444,\"#bd3786\"],[0.5555555555555556,\"#d8576b\"],[0.6666666666666666,\"#ed7953\"],[0.7777777777777778,\"#fb9f3a\"],[0.8888888888888888,\"#fdca26\"],[1.0,\"#f0f921\"]]}],\"contourcarpet\":[{\"type\":\"contourcarpet\",\"colorbar\":{\"outlinewidth\":0,\"ticks\":\"\"}}],\"contour\":[{\"type\":\"contour\",\"colorbar\":{\"outlinewidth\":0,\"ticks\":\"\"},\"colorscale\":[[0.0,\"#0d0887\"],[0.1111111111111111,\"#46039f\"],[0.2222222222222222,\"#7201a8\"],[0.3333333333333333,\"#9c179e\"],[0.4444444444444444,\"#bd3786\"],[0.5555555555555556,\"#d8576b\"],[0.6666666666666666,\"#ed7953\"],[0.7777777777777778,\"#fb9f3a\"],[0.8888888888888888,\"#fdca26\"],[1.0,\"#f0f921\"]]}],\"surface\":[{\"type\":\"surface\",\"colorbar\":{\"outlinewidth\":0,\"ticks\":\"\"},\"colorscale\":[[0.0,\"#0d0887\"],[0.1111111111111111,\"#46039f\"],[0.2222222222222222,\"#7201a8\"],[0.3333333333333333,\"#9c179e\"],[0.4444444444444444,\"#bd3786\"],[0.5555555555555556,\"#d8576b\"],[0.6666666666666666,\"#ed7953\"],[0.7777777777777778,\"#fb9f3a\"],[0.8888888888888888,\"#fdca26\"],[1.0,\"#f0f921\"]]}],\"mesh3d\":[{\"type\":\"mesh3d\",\"colorbar\":{\"outlinewidth\":0,\"ticks\":\"\"}}],\"scatter\":[{\"marker\":{\"line\":{\"color\":\"#283442\"}},\"type\":\"scatter\"}],\"parcoords\":[{\"type\":\"parcoords\",\"line\":{\"colorbar\":{\"outlinewidth\":0,\"ticks\":\"\"}}}],\"scatterpolargl\":[{\"type\":\"scatterpolargl\",\"marker\":{\"colorbar\":{\"outlinewidth\":0,\"ticks\":\"\"}}}],\"bar\":[{\"error_x\":{\"color\":\"#f2f5fa\"},\"error_y\":{\"color\":\"#f2f5fa\"},\"marker\":{\"line\":{\"color\":\"rgb(17,17,17)\",\"width\":0.5},\"pattern\":{\"fillmode\":\"overlay\",\"size\":10,\"solidity\":0.2}},\"type\":\"bar\"}],\"scattergeo\":[{\"type\":\"scattergeo\",\"marker\":{\"colorbar\":{\"outlinewidth\":0,\"ticks\":\"\"}}}],\"scatterpolar\":[{\"type\":\"scatterpolar\",\"marker\":{\"colorbar\":{\"outlinewidth\":0,\"ticks\":\"\"}}}],\"histogram\":[{\"marker\":{\"pattern\":{\"fillmode\":\"overlay\",\"size\":10,\"solidity\":0.2}},\"type\":\"histogram\"}],\"scattergl\":[{\"marker\":{\"line\":{\"color\":\"#283442\"}},\"type\":\"scattergl\"}],\"scatter3d\":[{\"type\":\"scatter3d\",\"line\":{\"colorbar\":{\"outlinewidth\":0,\"ticks\":\"\"}},\"marker\":{\"colorbar\":{\"outlinewidth\":0,\"ticks\":\"\"}}}],\"scattermapbox\":[{\"type\":\"scattermapbox\",\"marker\":{\"colorbar\":{\"outlinewidth\":0,\"ticks\":\"\"}}}],\"scatterternary\":[{\"type\":\"scatterternary\",\"marker\":{\"colorbar\":{\"outlinewidth\":0,\"ticks\":\"\"}}}],\"scattercarpet\":[{\"type\":\"scattercarpet\",\"marker\":{\"colorbar\":{\"outlinewidth\":0,\"ticks\":\"\"}}}],\"carpet\":[{\"aaxis\":{\"endlinecolor\":\"#A2B1C6\",\"gridcolor\":\"#506784\",\"linecolor\":\"#506784\",\"minorgridcolor\":\"#506784\",\"startlinecolor\":\"#A2B1C6\"},\"baxis\":{\"endlinecolor\":\"#A2B1C6\",\"gridcolor\":\"#506784\",\"linecolor\":\"#506784\",\"minorgridcolor\":\"#506784\",\"startlinecolor\":\"#A2B1C6\"},\"type\":\"carpet\"}],\"table\":[{\"cells\":{\"fill\":{\"color\":\"#506784\"},\"line\":{\"color\":\"rgb(17,17,17)\"}},\"header\":{\"fill\":{\"color\":\"#2a3f5f\"},\"line\":{\"color\":\"rgb(17,17,17)\"}},\"type\":\"table\"}],\"barpolar\":[{\"marker\":{\"line\":{\"color\":\"rgb(17,17,17)\",\"width\":0.5},\"pattern\":{\"fillmode\":\"overlay\",\"size\":10,\"solidity\":0.2}},\"type\":\"barpolar\"}],\"pie\":[{\"automargin\":true,\"type\":\"pie\"}]},\"layout\":{\"autotypenumbers\":\"strict\",\"colorway\":[\"#636efa\",\"#EF553B\",\"#00cc96\",\"#ab63fa\",\"#FFA15A\",\"#19d3f3\",\"#FF6692\",\"#B6E880\",\"#FF97FF\",\"#FECB52\"],\"font\":{\"color\":\"#f2f5fa\"},\"hovermode\":\"closest\",\"hoverlabel\":{\"align\":\"left\"},\"paper_bgcolor\":\"rgb(17,17,17)\",\"plot_bgcolor\":\"rgb(17,17,17)\",\"polar\":{\"bgcolor\":\"rgb(17,17,17)\",\"angularaxis\":{\"gridcolor\":\"#506784\",\"linecolor\":\"#506784\",\"ticks\":\"\"},\"radialaxis\":{\"gridcolor\":\"#506784\",\"linecolor\":\"#506784\",\"ticks\":\"\"}},\"ternary\":{\"bgcolor\":\"rgb(17,17,17)\",\"aaxis\":{\"gridcolor\":\"#506784\",\"linecolor\":\"#506784\",\"ticks\":\"\"},\"baxis\":{\"gridcolor\":\"#506784\",\"linecolor\":\"#506784\",\"ticks\":\"\"},\"caxis\":{\"gridcolor\":\"#506784\",\"linecolor\":\"#506784\",\"ticks\":\"\"}},\"coloraxis\":{\"colorbar\":{\"outlinewidth\":0,\"ticks\":\"\"}},\"colorscale\":{\"sequential\":[[0.0,\"#0d0887\"],[0.1111111111111111,\"#46039f\"],[0.2222222222222222,\"#7201a8\"],[0.3333333333333333,\"#9c179e\"],[0.4444444444444444,\"#bd3786\"],[0.5555555555555556,\"#d8576b\"],[0.6666666666666666,\"#ed7953\"],[0.7777777777777778,\"#fb9f3a\"],[0.8888888888888888,\"#fdca26\"],[1.0,\"#f0f921\"]],\"sequentialminus\":[[0.0,\"#0d0887\"],[0.1111111111111111,\"#46039f\"],[0.2222222222222222,\"#7201a8\"],[0.3333333333333333,\"#9c179e\"],[0.4444444444444444,\"#bd3786\"],[0.5555555555555556,\"#d8576b\"],[0.6666666666666666,\"#ed7953\"],[0.7777777777777778,\"#fb9f3a\"],[0.8888888888888888,\"#fdca26\"],[1.0,\"#f0f921\"]],\"diverging\":[[0,\"#8e0152\"],[0.1,\"#c51b7d\"],[0.2,\"#de77ae\"],[0.3,\"#f1b6da\"],[0.4,\"#fde0ef\"],[0.5,\"#f7f7f7\"],[0.6,\"#e6f5d0\"],[0.7,\"#b8e186\"],[0.8,\"#7fbc41\"],[0.9,\"#4d9221\"],[1,\"#276419\"]]},\"xaxis\":{\"gridcolor\":\"#283442\",\"linecolor\":\"#506784\",\"ticks\":\"\",\"title\":{\"standoff\":15},\"zerolinecolor\":\"#283442\",\"automargin\":true,\"zerolinewidth\":2},\"yaxis\":{\"gridcolor\":\"#283442\",\"linecolor\":\"#506784\",\"ticks\":\"\",\"title\":{\"standoff\":15},\"zerolinecolor\":\"#283442\",\"automargin\":true,\"zerolinewidth\":2},\"scene\":{\"xaxis\":{\"backgroundcolor\":\"rgb(17,17,17)\",\"gridcolor\":\"#506784\",\"linecolor\":\"#506784\",\"showbackground\":true,\"ticks\":\"\",\"zerolinecolor\":\"#C8D4E3\",\"gridwidth\":2},\"yaxis\":{\"backgroundcolor\":\"rgb(17,17,17)\",\"gridcolor\":\"#506784\",\"linecolor\":\"#506784\",\"showbackground\":true,\"ticks\":\"\",\"zerolinecolor\":\"#C8D4E3\",\"gridwidth\":2},\"zaxis\":{\"backgroundcolor\":\"rgb(17,17,17)\",\"gridcolor\":\"#506784\",\"linecolor\":\"#506784\",\"showbackground\":true,\"ticks\":\"\",\"zerolinecolor\":\"#C8D4E3\",\"gridwidth\":2}},\"shapedefaults\":{\"line\":{\"color\":\"#f2f5fa\"}},\"annotationdefaults\":{\"arrowcolor\":\"#f2f5fa\",\"arrowhead\":0,\"arrowwidth\":1},\"geo\":{\"bgcolor\":\"rgb(17,17,17)\",\"landcolor\":\"rgb(17,17,17)\",\"subunitcolor\":\"#506784\",\"showland\":true,\"showlakes\":true,\"lakecolor\":\"rgb(17,17,17)\"},\"title\":{\"x\":0.05},\"updatemenudefaults\":{\"bgcolor\":\"#506784\",\"borderwidth\":0},\"sliderdefaults\":{\"bgcolor\":\"#C8D4E3\",\"borderwidth\":1,\"bordercolor\":\"rgb(17,17,17)\",\"tickwidth\":0},\"mapbox\":{\"style\":\"dark\"}}},\"legend\":{\"tracegroupgap\":0,\"title\":{\"text\":\"Index level\"}},\"margin\":{\"t\":60},\"title\":{\"text\":\"Aantal landen met bepaalde conflict status (index level) \"}},                        {\"responsive\": true}                    ).then(function(){\n",
       "                            \n",
       "var gd = document.getElementById('b03d0a31-ca5b-4014-87c5-cf7601e8edef');\n",
       "var x = new MutationObserver(function (mutations, observer) {{\n",
       "        var display = window.getComputedStyle(gd).display;\n",
       "        if (!display || display === 'none') {{\n",
       "            console.log([gd, 'removed!']);\n",
       "            Plotly.purge(gd);\n",
       "            observer.disconnect();\n",
       "        }}\n",
       "}});\n",
       "\n",
       "// Listen for the removal of the full notebook cells\n",
       "var notebookContainer = gd.closest('#notebook-container');\n",
       "if (notebookContainer) {{\n",
       "    x.observe(notebookContainer, {childList: true});\n",
       "}}\n",
       "\n",
       "// Listen for the clearing of the current output cell\n",
       "var outputEl = gd.closest('.output');\n",
       "if (outputEl) {{\n",
       "    x.observe(outputEl, {childList: true});\n",
       "}}\n",
       "\n",
       "                        })                };                });            </script>        </div>"
      ]
     },
     "metadata": {},
     "output_type": "display_data"
    },
    {
     "name": "stdout",
     "output_type": "stream",
     "text": [
      "Figuur 1\n"
     ]
    }
   ],
   "execution_count": 2,
   "source": [
    "# Creëer een pie chart van de verschillende conflict statussen\n",
    "\n",
    "color_counts = eind_df['conflict_categorie_2023'].value_counts()\n",
    "\n",
    "color_discrete_map = {\n",
    "    \"Low/Inactive\": \"blue\",\n",
    "    \"High\": \"orange\",\n",
    "    \"Turbulent\": \"yellow\",\n",
    "    \"Extreme\": \"red\",\n",
    "}\n",
    "\n",
    "fig = px.pie(eind_df, \n",
    "             values = color_counts.values,\n",
    "             names = [color for color in color_counts.index],\n",
    "             color=[color for color in color_counts.index], \n",
    "             color_discrete_map=color_discrete_map)\n",
    "\n",
    "\n",
    "fig.update_traces(\n",
    "    textposition='inside', \n",
    "    textinfo='percent',\n",
    "    hovertemplate='<b>%{label}</b><br>Aantal landen: %{value}<extra></extra>')\n",
    "\n",
    "fig.update_layout(\n",
    "    title = 'Aantal landen met bepaalde conflict status (index level) ',\n",
    "    legend_title = 'Index level'\n",
    ")\n",
    "\n",
    "fig.show()\n",
    "\n",
    "print('Figuur 1')"
   ],
   "id": "92846a8777cff5e3"
  },
  {
   "metadata": {},
   "cell_type": "markdown",
   "source": "De scatterplot hieronder (figuur 2) toont een significante negatieve correlatie tussen de conflict rangschikking en de persvrijheid rangschikking voor het jaar 2023. De visualisatie laat een correlatie van -0.43 zien tussen deze twee indexen. Dit betekent dat landen met een lage of inactieve conflictstatus (blauw) doorgaans lager scoren op de persvrijheid rangschikking, wat aangeeft dat er veel persvrijheid is. De scatterplot laat ook zien dat de 28,6% van de landen die zich in een turbulente, hoge of extreme conflictstatus bevinden, een hoge score hebben op de persvrijheid rangschikking, wat betekent dat er weinig persvrijheid is in deze landen.",
   "id": "4234dcc7e239ac1d"
  },
  {
   "metadata": {},
   "cell_type": "code",
   "outputs": [
    {
     "data": {
      "application/vnd.plotly.v1+json": {
       "data": [
        {
         "hovertemplate": "<b>%{hovertext}</b><br><br>conflict_categorie_2023=Low/Inactive<br>conflict_rang_2023=%{x}<br>persvrijheid_rang_2023=%{y}<extra></extra>",
         "hovertext": [
          "Norway",
          "Finland",
          "Sweden",
          "Netherlands",
          "Denmark",
          "Switzerland",
          "New Zealand",
          "Belgium",
          "Costa Rica",
          "Estonia",
          "Portugal",
          "Germany",
          "Iceland",
          "Ireland",
          "Austria",
          "Luxembourg",
          "Canada",
          "Uruguay",
          "Suriname",
          "Australia",
          "Namibia",
          "Latvia",
          "Ghana",
          "Cyprus",
          "Spain",
          "Lithuania",
          "France",
          "United Kingdom",
          "Slovenia",
          "Slovakia",
          "South Korea",
          "Taiwan",
          "Italy",
          "Botswana",
          "Chile",
          "Romania",
          "United States",
          "Senegal",
          "Guyana",
          "Fiji",
          "Dominican Republic",
          "Comoros",
          "Argentina",
          "Mauritius",
          "Poland",
          "Georgia",
          "Armenia",
          "Croatia",
          "Greece",
          "Japan",
          "Malawi",
          "Mongolia",
          "Tunisia",
          "Togo",
          "Malta",
          "Lesotho",
          "Panama",
          "Bhutan",
          "El Salvador",
          "Albania",
          "Kyrgyzstan",
          "East Timor",
          "Peru",
          "Sierra Leone",
          "Hungary",
          "Guinea-Bissau",
          "Serbia",
          "Moldova",
          "Gambia",
          "Liberia",
          "Mauritania",
          "North Macedonia",
          "Paraguay",
          "Montenegro",
          "Nepal",
          "Guinea",
          "Kuwait",
          "Angola",
          "Bulgaria",
          "Bolivia",
          "Nicaragua",
          "Gabon",
          "Tanzania",
          "Zambia",
          "Malaysia",
          "Sri Lanka",
          "Qatar",
          "Jordan",
          "Oman",
          "United Arab Emirates",
          "Thailand",
          "Algeria",
          "Cambodia",
          "Singapore",
          "Rwanda",
          "Kazakhstan",
          "Egypt",
          "Azerbaijan",
          "Bahrain",
          "Cuba",
          "Djibouti",
          "Vietnam",
          "China"
         ],
         "legendgroup": "Low/Inactive",
         "marker": {
          "color": "blue",
          "symbol": "circle"
         },
         "mode": "markers",
         "name": "Low/Inactive",
         "orientation": "v",
         "showlegend": true,
         "x": [
          18,
          18,
          24,
          39,
          1,
          1,
          1,
          60,
          44,
          1,
          1,
          85,
          18,
          24,
          32,
          1,
          47,
          29,
          42,
          1,
          38,
          1,
          111,
          78,
          47,
          18,
          103,
          51,
          21,
          18,
          1,
          1,
          68,
          58,
          107,
          52,
          113,
          95,
          56,
          1,
          80,
          55,
          90,
          49,
          62,
          61,
          85,
          1,
          105,
          18,
          102,
          1,
          63,
          87,
          21,
          57,
          68,
          1,
          106,
          47,
          74,
          18,
          111,
          94,
          64,
          76,
          44,
          70,
          48,
          86,
          81,
          33,
          94,
          29,
          108,
          99,
          1,
          100,
          1,
          92,
          75,
          59,
          96,
          91,
          18,
          88,
          1,
          42,
          18,
          1,
          89,
          83,
          18,
          1,
          69,
          80,
          82,
          109,
          32,
          77,
          37,
          53,
          98
         ],
         "xaxis": "x",
         "y": [
          1,
          5,
          4,
          6,
          3,
          12,
          13,
          31,
          23,
          8,
          9,
          21,
          18,
          2,
          29,
          20,
          15,
          52,
          48,
          27,
          22,
          16,
          62,
          55,
          36,
          7,
          24,
          26,
          50,
          17,
          47,
          35,
          41,
          65,
          83,
          53,
          45,
          104,
          60,
          89,
          43,
          75,
          40,
          63,
          57,
          77,
          49,
          42,
          107,
          68,
          82,
          88,
          121,
          70,
          84,
          67,
          69,
          90,
          115,
          96,
          122,
          10,
          110,
          74,
          72,
          78,
          91,
          28,
          46,
          66,
          86,
          38,
          103,
          39,
          95,
          85,
          154,
          125,
          71,
          117,
          158,
          94,
          143,
          87,
          73,
          135,
          105,
          146,
          155,
          145,
          106,
          136,
          147,
          129,
          131,
          134,
          166,
          151,
          171,
          172,
          162,
          178,
          179
         ],
         "yaxis": "y",
         "type": "scatter"
        },
        {
         "hovertemplate": "<b>%{hovertext}</b><br><br>conflict_categorie_2023=High<br>conflict_rang_2023=%{x}<br>persvrijheid_rang_2023=%{y}<extra></extra>",
         "hovertext": [
          "Jamaica",
          "Burkina Faso",
          "Trinidad and Tobago",
          "Israel",
          "Kenya",
          "Ukraine",
          "Ethiopia",
          "Mali",
          "Guatemala",
          "Cameroon",
          "Philippines",
          "India",
          "Pakistan",
          "Honduras",
          "Venezuela",
          "Bangladesh",
          "Iraq"
         ],
         "legendgroup": "High",
         "marker": {
          "color": "orange",
          "symbol": "circle"
         },
         "mode": "markers",
         "name": "High",
         "orientation": "v",
         "showlegend": true,
         "x": [
          143,
          147,
          134,
          142,
          145,
          151,
          142,
          149,
          140,
          139,
          137,
          149,
          150,
          144,
          137,
          147,
          152
         ],
         "xaxis": "x",
         "y": [
          32,
          58,
          30,
          97,
          116,
          79,
          130,
          113,
          127,
          138,
          132,
          161,
          150,
          169,
          159,
          163,
          167
         ],
         "yaxis": "y",
         "type": "scatter"
        },
        {
         "hovertemplate": "<b>%{hovertext}</b><br><br>conflict_categorie_2023=Turbulent<br>conflict_rang_2023=%{x}<br>persvrijheid_rang_2023=%{y}<extra></extra>",
         "hovertext": [
          "South Africa",
          "Papua New Guinea",
          "Madagascar",
          "Niger",
          "Benin",
          "Ecuador",
          "Lebanon",
          "Mozambique",
          "Indonesia",
          "Uganda",
          "Zimbabwe",
          "Russia",
          "Burundi"
         ],
         "legendgroup": "Turbulent",
         "marker": {
          "color": "yellow",
          "symbol": "circle"
         },
         "mode": "markers",
         "name": "Turbulent",
         "orientation": "v",
         "showlegend": true,
         "x": [
          131,
          114,
          126,
          130,
          121,
          124,
          133,
          119,
          120,
          122,
          116,
          128,
          132
         ],
         "xaxis": "x",
         "y": [
          25,
          59,
          101,
          61,
          112,
          80,
          119,
          102,
          108,
          133,
          126,
          164,
          114
         ],
         "yaxis": "y",
         "type": "scatter"
        },
        {
         "hovertemplate": "<b>%{hovertext}</b><br><br>conflict_categorie_2023=Extreme<br>conflict_rang_2023=%{x}<br>persvrijheid_rang_2023=%{y}<extra></extra>",
         "hovertext": [
          "Haiti",
          "Brazil",
          "Nigeria",
          "Colombia",
          "Palestine",
          "Mexico"
         ],
         "legendgroup": "Extreme",
         "marker": {
          "color": "red",
          "symbol": "circle"
         },
         "mode": "markers",
         "name": "Extreme",
         "orientation": "v",
         "showlegend": true,
         "x": [
          156,
          158,
          159,
          157,
          161,
          160
         ],
         "xaxis": "x",
         "y": [
          99,
          92,
          123,
          139,
          156,
          128
         ],
         "yaxis": "y",
         "type": "scatter"
        }
       ],
       "layout": {
        "template": {
         "data": {
          "histogram2dcontour": [
           {
            "type": "histogram2dcontour",
            "colorbar": {
             "outlinewidth": 0,
             "ticks": ""
            },
            "colorscale": [
             [
              0.0,
              "#0d0887"
             ],
             [
              0.1111111111111111,
              "#46039f"
             ],
             [
              0.2222222222222222,
              "#7201a8"
             ],
             [
              0.3333333333333333,
              "#9c179e"
             ],
             [
              0.4444444444444444,
              "#bd3786"
             ],
             [
              0.5555555555555556,
              "#d8576b"
             ],
             [
              0.6666666666666666,
              "#ed7953"
             ],
             [
              0.7777777777777778,
              "#fb9f3a"
             ],
             [
              0.8888888888888888,
              "#fdca26"
             ],
             [
              1.0,
              "#f0f921"
             ]
            ]
           }
          ],
          "choropleth": [
           {
            "type": "choropleth",
            "colorbar": {
             "outlinewidth": 0,
             "ticks": ""
            }
           }
          ],
          "histogram2d": [
           {
            "type": "histogram2d",
            "colorbar": {
             "outlinewidth": 0,
             "ticks": ""
            },
            "colorscale": [
             [
              0.0,
              "#0d0887"
             ],
             [
              0.1111111111111111,
              "#46039f"
             ],
             [
              0.2222222222222222,
              "#7201a8"
             ],
             [
              0.3333333333333333,
              "#9c179e"
             ],
             [
              0.4444444444444444,
              "#bd3786"
             ],
             [
              0.5555555555555556,
              "#d8576b"
             ],
             [
              0.6666666666666666,
              "#ed7953"
             ],
             [
              0.7777777777777778,
              "#fb9f3a"
             ],
             [
              0.8888888888888888,
              "#fdca26"
             ],
             [
              1.0,
              "#f0f921"
             ]
            ]
           }
          ],
          "heatmap": [
           {
            "type": "heatmap",
            "colorbar": {
             "outlinewidth": 0,
             "ticks": ""
            },
            "colorscale": [
             [
              0.0,
              "#0d0887"
             ],
             [
              0.1111111111111111,
              "#46039f"
             ],
             [
              0.2222222222222222,
              "#7201a8"
             ],
             [
              0.3333333333333333,
              "#9c179e"
             ],
             [
              0.4444444444444444,
              "#bd3786"
             ],
             [
              0.5555555555555556,
              "#d8576b"
             ],
             [
              0.6666666666666666,
              "#ed7953"
             ],
             [
              0.7777777777777778,
              "#fb9f3a"
             ],
             [
              0.8888888888888888,
              "#fdca26"
             ],
             [
              1.0,
              "#f0f921"
             ]
            ]
           }
          ],
          "heatmapgl": [
           {
            "type": "heatmapgl",
            "colorbar": {
             "outlinewidth": 0,
             "ticks": ""
            },
            "colorscale": [
             [
              0.0,
              "#0d0887"
             ],
             [
              0.1111111111111111,
              "#46039f"
             ],
             [
              0.2222222222222222,
              "#7201a8"
             ],
             [
              0.3333333333333333,
              "#9c179e"
             ],
             [
              0.4444444444444444,
              "#bd3786"
             ],
             [
              0.5555555555555556,
              "#d8576b"
             ],
             [
              0.6666666666666666,
              "#ed7953"
             ],
             [
              0.7777777777777778,
              "#fb9f3a"
             ],
             [
              0.8888888888888888,
              "#fdca26"
             ],
             [
              1.0,
              "#f0f921"
             ]
            ]
           }
          ],
          "contourcarpet": [
           {
            "type": "contourcarpet",
            "colorbar": {
             "outlinewidth": 0,
             "ticks": ""
            }
           }
          ],
          "contour": [
           {
            "type": "contour",
            "colorbar": {
             "outlinewidth": 0,
             "ticks": ""
            },
            "colorscale": [
             [
              0.0,
              "#0d0887"
             ],
             [
              0.1111111111111111,
              "#46039f"
             ],
             [
              0.2222222222222222,
              "#7201a8"
             ],
             [
              0.3333333333333333,
              "#9c179e"
             ],
             [
              0.4444444444444444,
              "#bd3786"
             ],
             [
              0.5555555555555556,
              "#d8576b"
             ],
             [
              0.6666666666666666,
              "#ed7953"
             ],
             [
              0.7777777777777778,
              "#fb9f3a"
             ],
             [
              0.8888888888888888,
              "#fdca26"
             ],
             [
              1.0,
              "#f0f921"
             ]
            ]
           }
          ],
          "surface": [
           {
            "type": "surface",
            "colorbar": {
             "outlinewidth": 0,
             "ticks": ""
            },
            "colorscale": [
             [
              0.0,
              "#0d0887"
             ],
             [
              0.1111111111111111,
              "#46039f"
             ],
             [
              0.2222222222222222,
              "#7201a8"
             ],
             [
              0.3333333333333333,
              "#9c179e"
             ],
             [
              0.4444444444444444,
              "#bd3786"
             ],
             [
              0.5555555555555556,
              "#d8576b"
             ],
             [
              0.6666666666666666,
              "#ed7953"
             ],
             [
              0.7777777777777778,
              "#fb9f3a"
             ],
             [
              0.8888888888888888,
              "#fdca26"
             ],
             [
              1.0,
              "#f0f921"
             ]
            ]
           }
          ],
          "mesh3d": [
           {
            "type": "mesh3d",
            "colorbar": {
             "outlinewidth": 0,
             "ticks": ""
            }
           }
          ],
          "scatter": [
           {
            "marker": {
             "line": {
              "color": "#283442"
             }
            },
            "type": "scatter"
           }
          ],
          "parcoords": [
           {
            "type": "parcoords",
            "line": {
             "colorbar": {
              "outlinewidth": 0,
              "ticks": ""
             }
            }
           }
          ],
          "scatterpolargl": [
           {
            "type": "scatterpolargl",
            "marker": {
             "colorbar": {
              "outlinewidth": 0,
              "ticks": ""
             }
            }
           }
          ],
          "bar": [
           {
            "error_x": {
             "color": "#f2f5fa"
            },
            "error_y": {
             "color": "#f2f5fa"
            },
            "marker": {
             "line": {
              "color": "rgb(17,17,17)",
              "width": 0.5
             },
             "pattern": {
              "fillmode": "overlay",
              "size": 10,
              "solidity": 0.2
             }
            },
            "type": "bar"
           }
          ],
          "scattergeo": [
           {
            "type": "scattergeo",
            "marker": {
             "colorbar": {
              "outlinewidth": 0,
              "ticks": ""
             }
            }
           }
          ],
          "scatterpolar": [
           {
            "type": "scatterpolar",
            "marker": {
             "colorbar": {
              "outlinewidth": 0,
              "ticks": ""
             }
            }
           }
          ],
          "histogram": [
           {
            "marker": {
             "pattern": {
              "fillmode": "overlay",
              "size": 10,
              "solidity": 0.2
             }
            },
            "type": "histogram"
           }
          ],
          "scattergl": [
           {
            "marker": {
             "line": {
              "color": "#283442"
             }
            },
            "type": "scattergl"
           }
          ],
          "scatter3d": [
           {
            "type": "scatter3d",
            "line": {
             "colorbar": {
              "outlinewidth": 0,
              "ticks": ""
             }
            },
            "marker": {
             "colorbar": {
              "outlinewidth": 0,
              "ticks": ""
             }
            }
           }
          ],
          "scattermapbox": [
           {
            "type": "scattermapbox",
            "marker": {
             "colorbar": {
              "outlinewidth": 0,
              "ticks": ""
             }
            }
           }
          ],
          "scatterternary": [
           {
            "type": "scatterternary",
            "marker": {
             "colorbar": {
              "outlinewidth": 0,
              "ticks": ""
             }
            }
           }
          ],
          "scattercarpet": [
           {
            "type": "scattercarpet",
            "marker": {
             "colorbar": {
              "outlinewidth": 0,
              "ticks": ""
             }
            }
           }
          ],
          "carpet": [
           {
            "aaxis": {
             "endlinecolor": "#A2B1C6",
             "gridcolor": "#506784",
             "linecolor": "#506784",
             "minorgridcolor": "#506784",
             "startlinecolor": "#A2B1C6"
            },
            "baxis": {
             "endlinecolor": "#A2B1C6",
             "gridcolor": "#506784",
             "linecolor": "#506784",
             "minorgridcolor": "#506784",
             "startlinecolor": "#A2B1C6"
            },
            "type": "carpet"
           }
          ],
          "table": [
           {
            "cells": {
             "fill": {
              "color": "#506784"
             },
             "line": {
              "color": "rgb(17,17,17)"
             }
            },
            "header": {
             "fill": {
              "color": "#2a3f5f"
             },
             "line": {
              "color": "rgb(17,17,17)"
             }
            },
            "type": "table"
           }
          ],
          "barpolar": [
           {
            "marker": {
             "line": {
              "color": "rgb(17,17,17)",
              "width": 0.5
             },
             "pattern": {
              "fillmode": "overlay",
              "size": 10,
              "solidity": 0.2
             }
            },
            "type": "barpolar"
           }
          ],
          "pie": [
           {
            "automargin": true,
            "type": "pie"
           }
          ]
         },
         "layout": {
          "autotypenumbers": "strict",
          "colorway": [
           "#636efa",
           "#EF553B",
           "#00cc96",
           "#ab63fa",
           "#FFA15A",
           "#19d3f3",
           "#FF6692",
           "#B6E880",
           "#FF97FF",
           "#FECB52"
          ],
          "font": {
           "color": "#f2f5fa"
          },
          "hovermode": "closest",
          "hoverlabel": {
           "align": "left"
          },
          "paper_bgcolor": "rgb(17,17,17)",
          "plot_bgcolor": "rgb(17,17,17)",
          "polar": {
           "bgcolor": "rgb(17,17,17)",
           "angularaxis": {
            "gridcolor": "#506784",
            "linecolor": "#506784",
            "ticks": ""
           },
           "radialaxis": {
            "gridcolor": "#506784",
            "linecolor": "#506784",
            "ticks": ""
           }
          },
          "ternary": {
           "bgcolor": "rgb(17,17,17)",
           "aaxis": {
            "gridcolor": "#506784",
            "linecolor": "#506784",
            "ticks": ""
           },
           "baxis": {
            "gridcolor": "#506784",
            "linecolor": "#506784",
            "ticks": ""
           },
           "caxis": {
            "gridcolor": "#506784",
            "linecolor": "#506784",
            "ticks": ""
           }
          },
          "coloraxis": {
           "colorbar": {
            "outlinewidth": 0,
            "ticks": ""
           }
          },
          "colorscale": {
           "sequential": [
            [
             0.0,
             "#0d0887"
            ],
            [
             0.1111111111111111,
             "#46039f"
            ],
            [
             0.2222222222222222,
             "#7201a8"
            ],
            [
             0.3333333333333333,
             "#9c179e"
            ],
            [
             0.4444444444444444,
             "#bd3786"
            ],
            [
             0.5555555555555556,
             "#d8576b"
            ],
            [
             0.6666666666666666,
             "#ed7953"
            ],
            [
             0.7777777777777778,
             "#fb9f3a"
            ],
            [
             0.8888888888888888,
             "#fdca26"
            ],
            [
             1.0,
             "#f0f921"
            ]
           ],
           "sequentialminus": [
            [
             0.0,
             "#0d0887"
            ],
            [
             0.1111111111111111,
             "#46039f"
            ],
            [
             0.2222222222222222,
             "#7201a8"
            ],
            [
             0.3333333333333333,
             "#9c179e"
            ],
            [
             0.4444444444444444,
             "#bd3786"
            ],
            [
             0.5555555555555556,
             "#d8576b"
            ],
            [
             0.6666666666666666,
             "#ed7953"
            ],
            [
             0.7777777777777778,
             "#fb9f3a"
            ],
            [
             0.8888888888888888,
             "#fdca26"
            ],
            [
             1.0,
             "#f0f921"
            ]
           ],
           "diverging": [
            [
             0,
             "#8e0152"
            ],
            [
             0.1,
             "#c51b7d"
            ],
            [
             0.2,
             "#de77ae"
            ],
            [
             0.3,
             "#f1b6da"
            ],
            [
             0.4,
             "#fde0ef"
            ],
            [
             0.5,
             "#f7f7f7"
            ],
            [
             0.6,
             "#e6f5d0"
            ],
            [
             0.7,
             "#b8e186"
            ],
            [
             0.8,
             "#7fbc41"
            ],
            [
             0.9,
             "#4d9221"
            ],
            [
             1,
             "#276419"
            ]
           ]
          },
          "xaxis": {
           "gridcolor": "#283442",
           "linecolor": "#506784",
           "ticks": "",
           "title": {
            "standoff": 15
           },
           "zerolinecolor": "#283442",
           "automargin": true,
           "zerolinewidth": 2
          },
          "yaxis": {
           "gridcolor": "#283442",
           "linecolor": "#506784",
           "ticks": "",
           "title": {
            "standoff": 15
           },
           "zerolinecolor": "#283442",
           "automargin": true,
           "zerolinewidth": 2
          },
          "scene": {
           "xaxis": {
            "backgroundcolor": "rgb(17,17,17)",
            "gridcolor": "#506784",
            "linecolor": "#506784",
            "showbackground": true,
            "ticks": "",
            "zerolinecolor": "#C8D4E3",
            "gridwidth": 2
           },
           "yaxis": {
            "backgroundcolor": "rgb(17,17,17)",
            "gridcolor": "#506784",
            "linecolor": "#506784",
            "showbackground": true,
            "ticks": "",
            "zerolinecolor": "#C8D4E3",
            "gridwidth": 2
           },
           "zaxis": {
            "backgroundcolor": "rgb(17,17,17)",
            "gridcolor": "#506784",
            "linecolor": "#506784",
            "showbackground": true,
            "ticks": "",
            "zerolinecolor": "#C8D4E3",
            "gridwidth": 2
           }
          },
          "shapedefaults": {
           "line": {
            "color": "#f2f5fa"
           }
          },
          "annotationdefaults": {
           "arrowcolor": "#f2f5fa",
           "arrowhead": 0,
           "arrowwidth": 1
          },
          "geo": {
           "bgcolor": "rgb(17,17,17)",
           "landcolor": "rgb(17,17,17)",
           "subunitcolor": "#506784",
           "showland": true,
           "showlakes": true,
           "lakecolor": "rgb(17,17,17)"
          },
          "title": {
           "x": 0.05
          },
          "updatemenudefaults": {
           "bgcolor": "#506784",
           "borderwidth": 0
          },
          "sliderdefaults": {
           "bgcolor": "#C8D4E3",
           "borderwidth": 1,
           "bordercolor": "rgb(17,17,17)",
           "tickwidth": 0
          },
          "mapbox": {
           "style": "dark"
          }
         }
        },
        "xaxis": {
         "anchor": "y",
         "domain": [
          0.0,
          1.0
         ],
         "title": {
          "text": "Conflict Score 2023"
         }
        },
        "yaxis": {
         "anchor": "x",
         "domain": [
          0.0,
          1.0
         ],
         "title": {
          "text": "Persvrijheid Score 2023"
         }
        },
        "legend": {
         "title": {
          "text": "Intensiteit van conflicten"
         },
         "tracegroupgap": 0
        },
        "title": {
         "text": "Scatterplot van Conflict Rangschikking vs Persvrijheid Rangschikking"
        }
       },
       "config": {
        "plotlyServerURL": "https://plot.ly"
       }
      },
      "text/html": [
       "<div>                            <div id=\"aa271a71-948f-4e4a-8a0b-b4d39b3ecf0c\" class=\"plotly-graph-div\" style=\"height:525px; width:100%;\"></div>            <script type=\"text/javascript\">                require([\"plotly\"], function(Plotly) {                    window.PLOTLYENV=window.PLOTLYENV || {};                                    if (document.getElementById(\"aa271a71-948f-4e4a-8a0b-b4d39b3ecf0c\")) {                    Plotly.newPlot(                        \"aa271a71-948f-4e4a-8a0b-b4d39b3ecf0c\",                        [{\"hovertemplate\":\"\\u003cb\\u003e%{hovertext}\\u003c\\u002fb\\u003e\\u003cbr\\u003e\\u003cbr\\u003econflict_categorie_2023=Low\\u002fInactive\\u003cbr\\u003econflict_rang_2023=%{x}\\u003cbr\\u003epersvrijheid_rang_2023=%{y}\\u003cextra\\u003e\\u003c\\u002fextra\\u003e\",\"hovertext\":[\"Norway\",\"Finland\",\"Sweden\",\"Netherlands\",\"Denmark\",\"Switzerland\",\"New Zealand\",\"Belgium\",\"Costa Rica\",\"Estonia\",\"Portugal\",\"Germany\",\"Iceland\",\"Ireland\",\"Austria\",\"Luxembourg\",\"Canada\",\"Uruguay\",\"Suriname\",\"Australia\",\"Namibia\",\"Latvia\",\"Ghana\",\"Cyprus\",\"Spain\",\"Lithuania\",\"France\",\"United Kingdom\",\"Slovenia\",\"Slovakia\",\"South Korea\",\"Taiwan\",\"Italy\",\"Botswana\",\"Chile\",\"Romania\",\"United States\",\"Senegal\",\"Guyana\",\"Fiji\",\"Dominican Republic\",\"Comoros\",\"Argentina\",\"Mauritius\",\"Poland\",\"Georgia\",\"Armenia\",\"Croatia\",\"Greece\",\"Japan\",\"Malawi\",\"Mongolia\",\"Tunisia\",\"Togo\",\"Malta\",\"Lesotho\",\"Panama\",\"Bhutan\",\"El Salvador\",\"Albania\",\"Kyrgyzstan\",\"East Timor\",\"Peru\",\"Sierra Leone\",\"Hungary\",\"Guinea-Bissau\",\"Serbia\",\"Moldova\",\"Gambia\",\"Liberia\",\"Mauritania\",\"North Macedonia\",\"Paraguay\",\"Montenegro\",\"Nepal\",\"Guinea\",\"Kuwait\",\"Angola\",\"Bulgaria\",\"Bolivia\",\"Nicaragua\",\"Gabon\",\"Tanzania\",\"Zambia\",\"Malaysia\",\"Sri Lanka\",\"Qatar\",\"Jordan\",\"Oman\",\"United Arab Emirates\",\"Thailand\",\"Algeria\",\"Cambodia\",\"Singapore\",\"Rwanda\",\"Kazakhstan\",\"Egypt\",\"Azerbaijan\",\"Bahrain\",\"Cuba\",\"Djibouti\",\"Vietnam\",\"China\"],\"legendgroup\":\"Low\\u002fInactive\",\"marker\":{\"color\":\"blue\",\"symbol\":\"circle\"},\"mode\":\"markers\",\"name\":\"Low\\u002fInactive\",\"orientation\":\"v\",\"showlegend\":true,\"x\":[18,18,24,39,1,1,1,60,44,1,1,85,18,24,32,1,47,29,42,1,38,1,111,78,47,18,103,51,21,18,1,1,68,58,107,52,113,95,56,1,80,55,90,49,62,61,85,1,105,18,102,1,63,87,21,57,68,1,106,47,74,18,111,94,64,76,44,70,48,86,81,33,94,29,108,99,1,100,1,92,75,59,96,91,18,88,1,42,18,1,89,83,18,1,69,80,82,109,32,77,37,53,98],\"xaxis\":\"x\",\"y\":[1,5,4,6,3,12,13,31,23,8,9,21,18,2,29,20,15,52,48,27,22,16,62,55,36,7,24,26,50,17,47,35,41,65,83,53,45,104,60,89,43,75,40,63,57,77,49,42,107,68,82,88,121,70,84,67,69,90,115,96,122,10,110,74,72,78,91,28,46,66,86,38,103,39,95,85,154,125,71,117,158,94,143,87,73,135,105,146,155,145,106,136,147,129,131,134,166,151,171,172,162,178,179],\"yaxis\":\"y\",\"type\":\"scatter\"},{\"hovertemplate\":\"\\u003cb\\u003e%{hovertext}\\u003c\\u002fb\\u003e\\u003cbr\\u003e\\u003cbr\\u003econflict_categorie_2023=High\\u003cbr\\u003econflict_rang_2023=%{x}\\u003cbr\\u003epersvrijheid_rang_2023=%{y}\\u003cextra\\u003e\\u003c\\u002fextra\\u003e\",\"hovertext\":[\"Jamaica\",\"Burkina Faso\",\"Trinidad and Tobago\",\"Israel\",\"Kenya\",\"Ukraine\",\"Ethiopia\",\"Mali\",\"Guatemala\",\"Cameroon\",\"Philippines\",\"India\",\"Pakistan\",\"Honduras\",\"Venezuela\",\"Bangladesh\",\"Iraq\"],\"legendgroup\":\"High\",\"marker\":{\"color\":\"orange\",\"symbol\":\"circle\"},\"mode\":\"markers\",\"name\":\"High\",\"orientation\":\"v\",\"showlegend\":true,\"x\":[143,147,134,142,145,151,142,149,140,139,137,149,150,144,137,147,152],\"xaxis\":\"x\",\"y\":[32,58,30,97,116,79,130,113,127,138,132,161,150,169,159,163,167],\"yaxis\":\"y\",\"type\":\"scatter\"},{\"hovertemplate\":\"\\u003cb\\u003e%{hovertext}\\u003c\\u002fb\\u003e\\u003cbr\\u003e\\u003cbr\\u003econflict_categorie_2023=Turbulent\\u003cbr\\u003econflict_rang_2023=%{x}\\u003cbr\\u003epersvrijheid_rang_2023=%{y}\\u003cextra\\u003e\\u003c\\u002fextra\\u003e\",\"hovertext\":[\"South Africa\",\"Papua New Guinea\",\"Madagascar\",\"Niger\",\"Benin\",\"Ecuador\",\"Lebanon\",\"Mozambique\",\"Indonesia\",\"Uganda\",\"Zimbabwe\",\"Russia\",\"Burundi\"],\"legendgroup\":\"Turbulent\",\"marker\":{\"color\":\"yellow\",\"symbol\":\"circle\"},\"mode\":\"markers\",\"name\":\"Turbulent\",\"orientation\":\"v\",\"showlegend\":true,\"x\":[131,114,126,130,121,124,133,119,120,122,116,128,132],\"xaxis\":\"x\",\"y\":[25,59,101,61,112,80,119,102,108,133,126,164,114],\"yaxis\":\"y\",\"type\":\"scatter\"},{\"hovertemplate\":\"\\u003cb\\u003e%{hovertext}\\u003c\\u002fb\\u003e\\u003cbr\\u003e\\u003cbr\\u003econflict_categorie_2023=Extreme\\u003cbr\\u003econflict_rang_2023=%{x}\\u003cbr\\u003epersvrijheid_rang_2023=%{y}\\u003cextra\\u003e\\u003c\\u002fextra\\u003e\",\"hovertext\":[\"Haiti\",\"Brazil\",\"Nigeria\",\"Colombia\",\"Palestine\",\"Mexico\"],\"legendgroup\":\"Extreme\",\"marker\":{\"color\":\"red\",\"symbol\":\"circle\"},\"mode\":\"markers\",\"name\":\"Extreme\",\"orientation\":\"v\",\"showlegend\":true,\"x\":[156,158,159,157,161,160],\"xaxis\":\"x\",\"y\":[99,92,123,139,156,128],\"yaxis\":\"y\",\"type\":\"scatter\"}],                        {\"template\":{\"data\":{\"histogram2dcontour\":[{\"type\":\"histogram2dcontour\",\"colorbar\":{\"outlinewidth\":0,\"ticks\":\"\"},\"colorscale\":[[0.0,\"#0d0887\"],[0.1111111111111111,\"#46039f\"],[0.2222222222222222,\"#7201a8\"],[0.3333333333333333,\"#9c179e\"],[0.4444444444444444,\"#bd3786\"],[0.5555555555555556,\"#d8576b\"],[0.6666666666666666,\"#ed7953\"],[0.7777777777777778,\"#fb9f3a\"],[0.8888888888888888,\"#fdca26\"],[1.0,\"#f0f921\"]]}],\"choropleth\":[{\"type\":\"choropleth\",\"colorbar\":{\"outlinewidth\":0,\"ticks\":\"\"}}],\"histogram2d\":[{\"type\":\"histogram2d\",\"colorbar\":{\"outlinewidth\":0,\"ticks\":\"\"},\"colorscale\":[[0.0,\"#0d0887\"],[0.1111111111111111,\"#46039f\"],[0.2222222222222222,\"#7201a8\"],[0.3333333333333333,\"#9c179e\"],[0.4444444444444444,\"#bd3786\"],[0.5555555555555556,\"#d8576b\"],[0.6666666666666666,\"#ed7953\"],[0.7777777777777778,\"#fb9f3a\"],[0.8888888888888888,\"#fdca26\"],[1.0,\"#f0f921\"]]}],\"heatmap\":[{\"type\":\"heatmap\",\"colorbar\":{\"outlinewidth\":0,\"ticks\":\"\"},\"colorscale\":[[0.0,\"#0d0887\"],[0.1111111111111111,\"#46039f\"],[0.2222222222222222,\"#7201a8\"],[0.3333333333333333,\"#9c179e\"],[0.4444444444444444,\"#bd3786\"],[0.5555555555555556,\"#d8576b\"],[0.6666666666666666,\"#ed7953\"],[0.7777777777777778,\"#fb9f3a\"],[0.8888888888888888,\"#fdca26\"],[1.0,\"#f0f921\"]]}],\"heatmapgl\":[{\"type\":\"heatmapgl\",\"colorbar\":{\"outlinewidth\":0,\"ticks\":\"\"},\"colorscale\":[[0.0,\"#0d0887\"],[0.1111111111111111,\"#46039f\"],[0.2222222222222222,\"#7201a8\"],[0.3333333333333333,\"#9c179e\"],[0.4444444444444444,\"#bd3786\"],[0.5555555555555556,\"#d8576b\"],[0.6666666666666666,\"#ed7953\"],[0.7777777777777778,\"#fb9f3a\"],[0.8888888888888888,\"#fdca26\"],[1.0,\"#f0f921\"]]}],\"contourcarpet\":[{\"type\":\"contourcarpet\",\"colorbar\":{\"outlinewidth\":0,\"ticks\":\"\"}}],\"contour\":[{\"type\":\"contour\",\"colorbar\":{\"outlinewidth\":0,\"ticks\":\"\"},\"colorscale\":[[0.0,\"#0d0887\"],[0.1111111111111111,\"#46039f\"],[0.2222222222222222,\"#7201a8\"],[0.3333333333333333,\"#9c179e\"],[0.4444444444444444,\"#bd3786\"],[0.5555555555555556,\"#d8576b\"],[0.6666666666666666,\"#ed7953\"],[0.7777777777777778,\"#fb9f3a\"],[0.8888888888888888,\"#fdca26\"],[1.0,\"#f0f921\"]]}],\"surface\":[{\"type\":\"surface\",\"colorbar\":{\"outlinewidth\":0,\"ticks\":\"\"},\"colorscale\":[[0.0,\"#0d0887\"],[0.1111111111111111,\"#46039f\"],[0.2222222222222222,\"#7201a8\"],[0.3333333333333333,\"#9c179e\"],[0.4444444444444444,\"#bd3786\"],[0.5555555555555556,\"#d8576b\"],[0.6666666666666666,\"#ed7953\"],[0.7777777777777778,\"#fb9f3a\"],[0.8888888888888888,\"#fdca26\"],[1.0,\"#f0f921\"]]}],\"mesh3d\":[{\"type\":\"mesh3d\",\"colorbar\":{\"outlinewidth\":0,\"ticks\":\"\"}}],\"scatter\":[{\"marker\":{\"line\":{\"color\":\"#283442\"}},\"type\":\"scatter\"}],\"parcoords\":[{\"type\":\"parcoords\",\"line\":{\"colorbar\":{\"outlinewidth\":0,\"ticks\":\"\"}}}],\"scatterpolargl\":[{\"type\":\"scatterpolargl\",\"marker\":{\"colorbar\":{\"outlinewidth\":0,\"ticks\":\"\"}}}],\"bar\":[{\"error_x\":{\"color\":\"#f2f5fa\"},\"error_y\":{\"color\":\"#f2f5fa\"},\"marker\":{\"line\":{\"color\":\"rgb(17,17,17)\",\"width\":0.5},\"pattern\":{\"fillmode\":\"overlay\",\"size\":10,\"solidity\":0.2}},\"type\":\"bar\"}],\"scattergeo\":[{\"type\":\"scattergeo\",\"marker\":{\"colorbar\":{\"outlinewidth\":0,\"ticks\":\"\"}}}],\"scatterpolar\":[{\"type\":\"scatterpolar\",\"marker\":{\"colorbar\":{\"outlinewidth\":0,\"ticks\":\"\"}}}],\"histogram\":[{\"marker\":{\"pattern\":{\"fillmode\":\"overlay\",\"size\":10,\"solidity\":0.2}},\"type\":\"histogram\"}],\"scattergl\":[{\"marker\":{\"line\":{\"color\":\"#283442\"}},\"type\":\"scattergl\"}],\"scatter3d\":[{\"type\":\"scatter3d\",\"line\":{\"colorbar\":{\"outlinewidth\":0,\"ticks\":\"\"}},\"marker\":{\"colorbar\":{\"outlinewidth\":0,\"ticks\":\"\"}}}],\"scattermapbox\":[{\"type\":\"scattermapbox\",\"marker\":{\"colorbar\":{\"outlinewidth\":0,\"ticks\":\"\"}}}],\"scatterternary\":[{\"type\":\"scatterternary\",\"marker\":{\"colorbar\":{\"outlinewidth\":0,\"ticks\":\"\"}}}],\"scattercarpet\":[{\"type\":\"scattercarpet\",\"marker\":{\"colorbar\":{\"outlinewidth\":0,\"ticks\":\"\"}}}],\"carpet\":[{\"aaxis\":{\"endlinecolor\":\"#A2B1C6\",\"gridcolor\":\"#506784\",\"linecolor\":\"#506784\",\"minorgridcolor\":\"#506784\",\"startlinecolor\":\"#A2B1C6\"},\"baxis\":{\"endlinecolor\":\"#A2B1C6\",\"gridcolor\":\"#506784\",\"linecolor\":\"#506784\",\"minorgridcolor\":\"#506784\",\"startlinecolor\":\"#A2B1C6\"},\"type\":\"carpet\"}],\"table\":[{\"cells\":{\"fill\":{\"color\":\"#506784\"},\"line\":{\"color\":\"rgb(17,17,17)\"}},\"header\":{\"fill\":{\"color\":\"#2a3f5f\"},\"line\":{\"color\":\"rgb(17,17,17)\"}},\"type\":\"table\"}],\"barpolar\":[{\"marker\":{\"line\":{\"color\":\"rgb(17,17,17)\",\"width\":0.5},\"pattern\":{\"fillmode\":\"overlay\",\"size\":10,\"solidity\":0.2}},\"type\":\"barpolar\"}],\"pie\":[{\"automargin\":true,\"type\":\"pie\"}]},\"layout\":{\"autotypenumbers\":\"strict\",\"colorway\":[\"#636efa\",\"#EF553B\",\"#00cc96\",\"#ab63fa\",\"#FFA15A\",\"#19d3f3\",\"#FF6692\",\"#B6E880\",\"#FF97FF\",\"#FECB52\"],\"font\":{\"color\":\"#f2f5fa\"},\"hovermode\":\"closest\",\"hoverlabel\":{\"align\":\"left\"},\"paper_bgcolor\":\"rgb(17,17,17)\",\"plot_bgcolor\":\"rgb(17,17,17)\",\"polar\":{\"bgcolor\":\"rgb(17,17,17)\",\"angularaxis\":{\"gridcolor\":\"#506784\",\"linecolor\":\"#506784\",\"ticks\":\"\"},\"radialaxis\":{\"gridcolor\":\"#506784\",\"linecolor\":\"#506784\",\"ticks\":\"\"}},\"ternary\":{\"bgcolor\":\"rgb(17,17,17)\",\"aaxis\":{\"gridcolor\":\"#506784\",\"linecolor\":\"#506784\",\"ticks\":\"\"},\"baxis\":{\"gridcolor\":\"#506784\",\"linecolor\":\"#506784\",\"ticks\":\"\"},\"caxis\":{\"gridcolor\":\"#506784\",\"linecolor\":\"#506784\",\"ticks\":\"\"}},\"coloraxis\":{\"colorbar\":{\"outlinewidth\":0,\"ticks\":\"\"}},\"colorscale\":{\"sequential\":[[0.0,\"#0d0887\"],[0.1111111111111111,\"#46039f\"],[0.2222222222222222,\"#7201a8\"],[0.3333333333333333,\"#9c179e\"],[0.4444444444444444,\"#bd3786\"],[0.5555555555555556,\"#d8576b\"],[0.6666666666666666,\"#ed7953\"],[0.7777777777777778,\"#fb9f3a\"],[0.8888888888888888,\"#fdca26\"],[1.0,\"#f0f921\"]],\"sequentialminus\":[[0.0,\"#0d0887\"],[0.1111111111111111,\"#46039f\"],[0.2222222222222222,\"#7201a8\"],[0.3333333333333333,\"#9c179e\"],[0.4444444444444444,\"#bd3786\"],[0.5555555555555556,\"#d8576b\"],[0.6666666666666666,\"#ed7953\"],[0.7777777777777778,\"#fb9f3a\"],[0.8888888888888888,\"#fdca26\"],[1.0,\"#f0f921\"]],\"diverging\":[[0,\"#8e0152\"],[0.1,\"#c51b7d\"],[0.2,\"#de77ae\"],[0.3,\"#f1b6da\"],[0.4,\"#fde0ef\"],[0.5,\"#f7f7f7\"],[0.6,\"#e6f5d0\"],[0.7,\"#b8e186\"],[0.8,\"#7fbc41\"],[0.9,\"#4d9221\"],[1,\"#276419\"]]},\"xaxis\":{\"gridcolor\":\"#283442\",\"linecolor\":\"#506784\",\"ticks\":\"\",\"title\":{\"standoff\":15},\"zerolinecolor\":\"#283442\",\"automargin\":true,\"zerolinewidth\":2},\"yaxis\":{\"gridcolor\":\"#283442\",\"linecolor\":\"#506784\",\"ticks\":\"\",\"title\":{\"standoff\":15},\"zerolinecolor\":\"#283442\",\"automargin\":true,\"zerolinewidth\":2},\"scene\":{\"xaxis\":{\"backgroundcolor\":\"rgb(17,17,17)\",\"gridcolor\":\"#506784\",\"linecolor\":\"#506784\",\"showbackground\":true,\"ticks\":\"\",\"zerolinecolor\":\"#C8D4E3\",\"gridwidth\":2},\"yaxis\":{\"backgroundcolor\":\"rgb(17,17,17)\",\"gridcolor\":\"#506784\",\"linecolor\":\"#506784\",\"showbackground\":true,\"ticks\":\"\",\"zerolinecolor\":\"#C8D4E3\",\"gridwidth\":2},\"zaxis\":{\"backgroundcolor\":\"rgb(17,17,17)\",\"gridcolor\":\"#506784\",\"linecolor\":\"#506784\",\"showbackground\":true,\"ticks\":\"\",\"zerolinecolor\":\"#C8D4E3\",\"gridwidth\":2}},\"shapedefaults\":{\"line\":{\"color\":\"#f2f5fa\"}},\"annotationdefaults\":{\"arrowcolor\":\"#f2f5fa\",\"arrowhead\":0,\"arrowwidth\":1},\"geo\":{\"bgcolor\":\"rgb(17,17,17)\",\"landcolor\":\"rgb(17,17,17)\",\"subunitcolor\":\"#506784\",\"showland\":true,\"showlakes\":true,\"lakecolor\":\"rgb(17,17,17)\"},\"title\":{\"x\":0.05},\"updatemenudefaults\":{\"bgcolor\":\"#506784\",\"borderwidth\":0},\"sliderdefaults\":{\"bgcolor\":\"#C8D4E3\",\"borderwidth\":1,\"bordercolor\":\"rgb(17,17,17)\",\"tickwidth\":0},\"mapbox\":{\"style\":\"dark\"}}},\"xaxis\":{\"anchor\":\"y\",\"domain\":[0.0,1.0],\"title\":{\"text\":\"Conflict Score 2023\"}},\"yaxis\":{\"anchor\":\"x\",\"domain\":[0.0,1.0],\"title\":{\"text\":\"Persvrijheid Score 2023\"}},\"legend\":{\"title\":{\"text\":\"Intensiteit van conflicten\"},\"tracegroupgap\":0},\"title\":{\"text\":\"Scatterplot van Conflict Rangschikking vs Persvrijheid Rangschikking\"}},                        {\"responsive\": true}                    ).then(function(){\n",
       "                            \n",
       "var gd = document.getElementById('aa271a71-948f-4e4a-8a0b-b4d39b3ecf0c');\n",
       "var x = new MutationObserver(function (mutations, observer) {{\n",
       "        var display = window.getComputedStyle(gd).display;\n",
       "        if (!display || display === 'none') {{\n",
       "            console.log([gd, 'removed!']);\n",
       "            Plotly.purge(gd);\n",
       "            observer.disconnect();\n",
       "        }}\n",
       "}});\n",
       "\n",
       "// Listen for the removal of the full notebook cells\n",
       "var notebookContainer = gd.closest('#notebook-container');\n",
       "if (notebookContainer) {{\n",
       "    x.observe(notebookContainer, {childList: true});\n",
       "}}\n",
       "\n",
       "// Listen for the clearing of the current output cell\n",
       "var outputEl = gd.closest('.output');\n",
       "if (outputEl) {{\n",
       "    x.observe(outputEl, {childList: true});\n",
       "}}\n",
       "\n",
       "                        })                };                });            </script>        </div>"
      ]
     },
     "metadata": {},
     "output_type": "display_data"
    },
    {
     "name": "stdout",
     "output_type": "stream",
     "text": [
      "Figuur 2\n",
      "Correlatie tussen de conflict rangschikking en de persvrijheid rangschikking: 0.46028867781931976\n"
     ]
    }
   ],
   "execution_count": 3,
   "source": [
    "# Maak een scatterplot van de conflict en persvrijheid rangen\n",
    "\n",
    "# Definieer de kleuren voor elke categorie\n",
    "color_discrete_map = {\n",
    "    \"Low/Inactive\": \"blue\",\n",
    "    \"High\": \"orange\",\n",
    "    \"Turbulent\": \"yellow\",\n",
    "    \"Extreme\": \"red\"\n",
    "}\n",
    "\n",
    "# Maak de scatterplot\n",
    "fig = px.scatter(\n",
    "    eind_df,\n",
    "    x=\"conflict_rang_2023\",  # Pas dit aan naar de gewenste x-as\n",
    "    y=\"persvrijheid_rang_2023\",  # Pas dit aan naar de gewenste y-as\n",
    "    color=\"conflict_categorie_2023\",\n",
    "#     size=10,\n",
    "    color_discrete_map=color_discrete_map,\n",
    "    hover_name=\"land\",\n",
    "    title=\"Scatterplot van Conflict Rangschikking vs Persvrijheid Rangschikking\"\n",
    ")\n",
    "\n",
    "fig.update_layout(legend_title_text='Intensiteit van conflicten')\n",
    "\n",
    "\n",
    "# Update de opmaak\n",
    "fig.update_layout(\n",
    "    xaxis_title=\"Conflict Score 2023\",\n",
    "    yaxis_title=\"Persvrijheid Score 2023\"\n",
    ")\n",
    "\n",
    "fig.show()\n",
    "\n",
    "print('Figuur 2')\n",
    "\n",
    "correlation = eind_df[\"conflict_rang_2023\"].corr(eind_df[\"persvrijheid_rang_2023\"])\n",
    "print(f\"Correlatie tussen de conflict rangschikking en de persvrijheid rangschikking: {correlation}\")"
   ],
   "id": "3eb0e52ace016f70"
  },
  {
   "metadata": {},
   "cell_type": "markdown",
   "source": "Samenvattend kunnen we stellen dat de aanwezigheid van conflicten een relatief sterk verband heeft met de vermindering van persvrijheid. Conflicten creëren een vijandige en gevaarlijke omgeving voor journalisten, wat leidt tot zelfcensuur, verhoogde censuur door de autoriteiten en uiteindelijk een vermindering van de beschikbaarheid van vrije, onafhankelijke en dus betrouwbare informatie. In een gezonde democratie is het cruciaal dat burgers toegang hebben tot onbevooroordeelde informatie om weloverwogen beslissingen te kunnen nemen en om machthebbers ter verantwoording te roepen. De gegevens en visualisaties ondersteunen het perspectief dat conflicten de persvrijheid verminderen.",
   "id": "85a245fe611b8620"
  },
  {
   "metadata": {},
   "cell_type": "markdown",
   "source": [
    "## Argument 2\n",
    "\n",
    "**Naarmate een conflict escaleert, verslechtert de persvrijheid nog meer.**\n",
    "\n",
    "Naarmate conflicten escaleren, wordt de persvrijheid steeds meer onder druk gezet. Hoe meer het conflict escaleert, hoe groter het risico voor journalisten, wier leven steeds meer wordt bedreigd. Deze toenemende dreiging leidt tot zelfcensuur en het vermijden van gevoelige onderwerpen. Autoriteiten kunnen de escalerende situatie benutten om striktere censuur op te leggen, waardoor vrije en objectieve berichtgeving verder wordt beperkt. Deze escalatie maakt de situatie voor de persvrijheid erger en ondermijnt democratische processen door de toegang tot betrouwbare informatie te beperken.\n",
    "\n",
    "De wereldkaart in figuur 3 illustreert de veranderingen in de rangorde van conflicten tussen 2019 en 2023 en de verandering in de rangorde van persvrijheid rang tussen 2019 en 2023. Groen betekent dat zowel persvrijheid als conflict zijn verbeterd, rood dat beide verslechterd zijn, oranje dat persvrijheid is verbeterd terwijl het conflict is verminderd, en geel dat persvrijheid is verslechterd terwijl het conflict is verbeterd. Deze kaart biedt een samenvattend overzicht van de dynamiek tussen conflict en persvrijheid wereldwijd. Enkele voorbeelden van landen waar de conflictrang is gedaald zijn Palestina, Israël en Papoea-Nieuw-Guinea. Israël is bijvoorbeeld 58 rangen gedaald, Palestina 50 en Papoea-Nieuw-Guinea 113. Ondanks dat Papoea-Nieuw-Guinea meer is gedaald in conflictrang, heeft Israël bijvoorbeeld toch een lagere rang op de conflict index ranking (wat betekent dat Israël dus meer conflict heeft). Als we kijken naar dezelfde drie landen, zien we dat de persvrijheid van Israël met 9 is gedaald, Palestina met 19 en Papoea-Nieuw-Guinea met 21. Ook hier is belangrijk om op te merken dat een grotere daling niet noodzakelijk betekent dat dit land het land is met de minste persvrijheid.\n"
   ],
   "id": "49deb52c0e6046de"
  },
  {
   "metadata": {},
   "cell_type": "code",
   "outputs": [
    {
     "data": {
      "application/vnd.plotly.v1+json": {
       "data": [
        {
         "colorscale": [
          [
           0.0,
           "orange"
          ],
          [
           1.0,
           "orange"
          ]
         ],
         "customdata": [
          [
           "Pers positief Conf negatief",
           0,
           -17
          ],
          [
           "Pers positief Conf negatief",
           13,
           -23
          ],
          [
           "Pers positief Conf negatief",
           3,
           -46
          ],
          [
           "Pers positief Conf negatief",
           1,
           -23
          ],
          [
           "Pers positief Conf negatief",
           23,
           -17
          ],
          [
           "Pers positief Conf negatief",
           6,
           -36
          ],
          [
           "Pers positief Conf negatief",
           8,
           -102
          ],
          [
           "Pers positief Conf negatief",
           7,
           -50
          ],
          [
           "Pers positief Conf negatief",
           18,
           -17
          ],
          [
           "Pers positief Conf negatief",
           9,
           -34
          ],
          [
           "Pers positief Conf negatief",
           2,
           -67
          ],
          [
           "Pers positief Conf negatief",
           3,
           -112
          ],
          [
           "Pers positief Conf negatief",
           12,
           -37
          ],
          [
           "Pers positief Conf negatief",
           17,
           -25
          ],
          [
           "Pers positief Conf negatief",
           2,
           -61
          ],
          [
           "Pers positief Conf negatief",
           12,
           -39
          ],
          [
           "Pers positief Conf negatief",
           5,
           -32
          ],
          [
           "Pers positief Conf negatief",
           6,
           -37
          ],
          [
           "Pers positief Conf negatief",
           11,
           -15
          ],
          [
           "Pers positief Conf negatief",
           10,
           -37
          ],
          [
           "Pers positief Conf negatief",
           74,
           -17
          ],
          [
           "Pers positief Conf negatief",
           12,
           -20
          ],
          [
           "Pers positief Conf negatief",
           15,
           -63
          ],
          [
           "Pers positief Conf negatief",
           11,
           -63
          ],
          [
           "Pers positief Conf negatief",
           63,
           -20
          ],
          [
           "Pers positief Conf negatief",
           46,
           -19
          ],
          [
           "Pers positief Conf negatief",
           27,
           -26
          ],
          [
           "Pers positief Conf negatief",
           8,
           -55
          ],
          [
           "Pers positief Conf negatief",
           57,
           -10
          ],
          [
           "Pers positief Conf negatief",
           17,
           -87
          ],
          [
           "Pers positief Conf negatief",
           23,
           -43
          ],
          [
           "Pers positief Conf negatief",
           1,
           -22
          ],
          [
           "Pers positief Conf negatief",
           13,
           -30
          ],
          [
           "Pers positief Conf negatief",
           11,
           -6
          ],
          [
           "Pers positief Conf negatief",
           22,
           -29
          ],
          [
           "Pers positief Conf negatief",
           21,
           -42
          ],
          [
           "Pers positief Conf negatief",
           32,
           -29
          ],
          [
           "Pers positief Conf negatief",
           16,
           -26
          ],
          [
           "Pers positief Conf negatief",
           1,
           -40
          ],
          [
           "Pers positief Conf negatief",
           2,
           -15
          ],
          [
           "Pers positief Conf negatief",
           30,
           -4
          ],
          [
           "Pers positief Conf negatief",
           5,
           -41
          ],
          [
           "Pers positief Conf negatief",
           16,
           -29
          ],
          [
           "Pers positief Conf negatief",
           24,
           -26
          ],
          [
           "Pers positief Conf negatief",
           45,
           -18
          ],
          [
           "Pers positief Conf negatief",
           15,
           -50
          ],
          [
           "Pers positief Conf negatief",
           11,
           -4
          ]
         ],
         "geo": "geo",
         "hovertemplate": "<b>%{hovertext}</b><br><br>land=%{location}<br>persvrijheid_verandering=%{customdata[1]}<br>conflict_verandering=%{customdata[2]}<extra></extra>",
         "hovertext": [
          "Norway",
          "Ireland",
          "Canada",
          "Namibia",
          "Lithuania",
          "South Africa",
          "France",
          "United Kingdom",
          "Slovakia",
          "Trinidad and Tobago",
          "Italy",
          "United States",
          "Dominican Republic",
          "Argentina",
          "Poland",
          "Armenia",
          "Niger",
          "Togo",
          "Lesotho",
          "Panama",
          "East Timor",
          "Sierra Leone",
          "Hungary",
          "Guinea-Bissau",
          "Moldova",
          "Gambia",
          "Liberia",
          "Mauritania",
          "North Macedonia",
          "Ecuador",
          "Ukraine",
          "Mozambique",
          "Brazil",
          "Nepal",
          "Guinea",
          "Gabon",
          "Zambia",
          "Indonesia",
          "Zimbabwe",
          "Philippines",
          "Thailand",
          "Algeria",
          "Mexico",
          "Kazakhstan",
          "Burundi",
          "Azerbaijan",
          "Djibouti"
         ],
         "locationmode": "country names",
         "locations": [
          "Norway",
          "Ireland",
          "Canada",
          "Namibia",
          "Lithuania",
          "South Africa",
          "France",
          "United Kingdom",
          "Slovakia",
          "Trinidad and Tobago",
          "Italy",
          "United States",
          "Dominican Republic",
          "Argentina",
          "Poland",
          "Armenia",
          "Niger",
          "Togo",
          "Lesotho",
          "Panama",
          "East Timor",
          "Sierra Leone",
          "Hungary",
          "Guinea-Bissau",
          "Moldova",
          "Gambia",
          "Liberia",
          "Mauritania",
          "North Macedonia",
          "Ecuador",
          "Ukraine",
          "Mozambique",
          "Brazil",
          "Nepal",
          "Guinea",
          "Gabon",
          "Zambia",
          "Indonesia",
          "Zimbabwe",
          "Philippines",
          "Thailand",
          "Algeria",
          "Mexico",
          "Kazakhstan",
          "Burundi",
          "Azerbaijan",
          "Djibouti"
         ],
         "name": "Pers positief Conf negatief",
         "showlegend": true,
         "showscale": false,
         "z": [
          1,
          1,
          1,
          1,
          1,
          1,
          1,
          1,
          1,
          1,
          1,
          1,
          1,
          1,
          1,
          1,
          1,
          1,
          1,
          1,
          1,
          1,
          1,
          1,
          1,
          1,
          1,
          1,
          1,
          1,
          1,
          1,
          1,
          1,
          1,
          1,
          1,
          1,
          1,
          1,
          1,
          1,
          1,
          1,
          1,
          1,
          1
         ],
         "type": "choropleth"
        },
        {
         "colorscale": [
          [
           0.0,
           "red"
          ],
          [
           1.0,
           "red"
          ]
         ],
         "customdata": [
          [
           "Pers en Conf negatief",
           -3,
           -17
          ],
          [
           "Pers en Conf negatief",
           -1,
           -23
          ],
          [
           "Pers en Conf negatief",
           -2,
           -38
          ],
          [
           "Pers en Conf negatief",
           -24,
           -38
          ],
          [
           "Pers en Conf negatief",
           -22,
           -59
          ],
          [
           "Pers en Conf negatief",
           -8,
           -84
          ],
          [
           "Pers en Conf negatief",
           -4,
           -17
          ],
          [
           "Pers en Conf negatief",
           -13,
           -31
          ],
          [
           "Pers en Conf negatief",
           -28,
           -7
          ],
          [
           "Pers en Conf negatief",
           -35,
           -34
          ],
          [
           "Pers en Conf negatief",
           -27,
           -43
          ],
          [
           "Pers en Conf negatief",
           -7,
           -46
          ],
          [
           "Pers en Conf negatief",
           -16,
           -20
          ],
          [
           "Pers en Conf negatief",
           -22,
           -37
          ],
          [
           "Pers en Conf negatief",
           -21,
           -113
          ],
          [
           "Pers en Conf negatief",
           -21,
           -52
          ],
          [
           "Pers en Conf negatief",
           -37,
           -27
          ],
          [
           "Pers en Conf negatief",
           -6,
           -34
          ],
          [
           "Pers en Conf negatief",
           -55,
           -57
          ],
          [
           "Pers en Conf negatief",
           -9,
           -41
          ],
          [
           "Pers en Conf negatief",
           -47,
           -43
          ],
          [
           "Pers en Conf negatief",
           -19,
           -54
          ],
          [
           "Pers en Conf negatief",
           -5,
           -48
          ],
          [
           "Pers en Conf negatief",
           -17,
           -3
          ],
          [
           "Pers en Conf negatief",
           -37,
           -49
          ],
          [
           "Pers en Conf negatief",
           -42,
           -24
          ],
          [
           "Pers en Conf negatief",
           -1,
           -12
          ],
          [
           "Pers en Conf negatief",
           -14,
           -29
          ],
          [
           "Pers en Conf negatief",
           -7,
           -20
          ],
          [
           "Pers en Conf negatief",
           -14,
           -18
          ],
          [
           "Pers en Conf negatief",
           -39,
           -18
          ],
          [
           "Pers en Conf negatief",
           -25,
           -47
          ],
          [
           "Pers en Conf negatief",
           -9,
           -58
          ],
          [
           "Pers en Conf negatief",
           -16,
           -60
          ],
          [
           "Pers en Conf negatief",
           -4,
           -25
          ],
          [
           "Pers en Conf negatief",
           -16,
           -55
          ],
          [
           "Pers en Conf negatief",
           -18,
           -41
          ],
          [
           "Pers en Conf negatief",
           -16,
           -43
          ],
          [
           "Pers en Conf negatief",
           -20,
           -56
          ],
          [
           "Pers en Conf negatief",
           -1,
           -39
          ],
          [
           "Pers en Conf negatief",
           -4,
           -41
          ],
          [
           "Pers en Conf negatief",
           -11,
           -20
          ],
          [
           "Pers en Conf negatief",
           -25,
           -27
          ],
          [
           "Pers en Conf negatief",
           -3,
           -36
          ],
          [
           "Pers en Conf negatief",
           -8,
           -33
          ],
          [
           "Pers en Conf negatief",
           -10,
           -30
          ],
          [
           "Pers en Conf negatief",
           -16,
           -5
          ],
          [
           "Pers en Conf negatief",
           -7,
           -27
          ],
          [
           "Pers en Conf negatief",
           -23,
           -17
          ],
          [
           "Pers en Conf negatief",
           -19,
           -50
          ],
          [
           "Pers en Conf negatief",
           -21,
           -22
          ],
          [
           "Pers en Conf negatief",
           -8,
           -33
          ],
          [
           "Pers en Conf negatief",
           -23,
           -26
          ],
          [
           "Pers en Conf negatief",
           -11,
           -7
          ],
          [
           "Pers en Conf negatief",
           -15,
           -49
          ],
          [
           "Pers en Conf negatief",
           -13,
           -34
          ],
          [
           "Pers en Conf negatief",
           -11,
           -27
          ],
          [
           "Pers en Conf negatief",
           -4,
           -9
          ],
          [
           "Pers en Conf negatief",
           -3,
           -54
          ],
          [
           "Pers en Conf negatief",
           -2,
           -26
          ],
          [
           "Pers en Conf negatief",
           -2,
           -10
          ]
         ],
         "geo": "geo",
         "hovertemplate": "<b>%{hovertext}</b><br><br>land=%{location}<br>persvrijheid_verandering=%{customdata[1]}<br>conflict_verandering=%{customdata[2]}<extra></extra>",
         "hovertext": [
          "Finland",
          "Sweden",
          "Netherlands",
          "Jamaica",
          "Belgium",
          "Germany",
          "Iceland",
          "Austria",
          "Suriname",
          "Ghana",
          "Cyprus",
          "Spain",
          "Slovenia",
          "Burkina Faso",
          "Papua New Guinea",
          "Botswana",
          "Chile",
          "Romania",
          "Senegal",
          "Guyana",
          "Madagascar",
          "Comoros",
          "Mauritius",
          "Georgia",
          "Haiti",
          "Greece",
          "Japan",
          "Malawi",
          "Malta",
          "Albania",
          "Kyrgyzstan",
          "Peru",
          "Israel",
          "Benin",
          "Paraguay",
          "Kenya",
          "Lebanon",
          "Angola",
          "Ethiopia",
          "Mali",
          "Bolivia",
          "Guatemala",
          "Tanzania",
          "Nigeria",
          "Uganda",
          "Colombia",
          "Jordan",
          "Cameroon",
          "Oman",
          "Palestine",
          "India",
          "Pakistan",
          "Honduras",
          "Venezuela",
          "Russia",
          "Bangladesh",
          "Iraq",
          "Bahrain",
          "Cuba",
          "Vietnam",
          "China"
         ],
         "locationmode": "country names",
         "locations": [
          "Finland",
          "Sweden",
          "Netherlands",
          "Jamaica",
          "Belgium",
          "Germany",
          "Iceland",
          "Austria",
          "Suriname",
          "Ghana",
          "Cyprus",
          "Spain",
          "Slovenia",
          "Burkina Faso",
          "Papua New Guinea",
          "Botswana",
          "Chile",
          "Romania",
          "Senegal",
          "Guyana",
          "Madagascar",
          "Comoros",
          "Mauritius",
          "Georgia",
          "Haiti",
          "Greece",
          "Japan",
          "Malawi",
          "Malta",
          "Albania",
          "Kyrgyzstan",
          "Peru",
          "Israel",
          "Benin",
          "Paraguay",
          "Kenya",
          "Lebanon",
          "Angola",
          "Ethiopia",
          "Mali",
          "Bolivia",
          "Guatemala",
          "Tanzania",
          "Nigeria",
          "Uganda",
          "Colombia",
          "Jordan",
          "Cameroon",
          "Oman",
          "Palestine",
          "India",
          "Pakistan",
          "Honduras",
          "Venezuela",
          "Russia",
          "Bangladesh",
          "Iraq",
          "Bahrain",
          "Cuba",
          "Vietnam",
          "China"
         ],
         "name": "Pers en Conf negatief",
         "showlegend": true,
         "showscale": false,
         "z": [
          1,
          1,
          1,
          1,
          1,
          1,
          1,
          1,
          1,
          1,
          1,
          1,
          1,
          1,
          1,
          1,
          1,
          1,
          1,
          1,
          1,
          1,
          1,
          1,
          1,
          1,
          1,
          1,
          1,
          1,
          1,
          1,
          1,
          1,
          1,
          1,
          1,
          1,
          1,
          1,
          1,
          1,
          1,
          1,
          1,
          1,
          1,
          1,
          1,
          1,
          1,
          1,
          1,
          1,
          1,
          1,
          1,
          1,
          1,
          1,
          1
         ],
         "type": "choropleth"
        },
        {
         "colorscale": [
          [
           0.0,
           "#90ee90"
          ],
          [
           1.0,
           "#90ee90"
          ]
         ],
         "customdata": [
          [
           "Pers en Conf positief",
           2,
           0
          ],
          [
           "Pers en Conf positief",
           3,
           0
          ],
          [
           "Pers en Conf positief",
           3,
           0
          ],
          [
           "Pers en Conf positief",
           8,
           0
          ],
          [
           "Pers en Conf positief",
           7,
           18
          ],
          [
           "Pers en Conf positief",
           22,
           29
          ],
          [
           "Pers en Conf positief",
           65,
           3
          ],
          [
           "Pers en Conf positief",
           40,
           15
          ],
          [
           "Pers en Conf positief",
           50,
           48
          ],
          [
           "Pers en Conf positief",
           23,
           0
          ],
          [
           "Pers en Conf positief",
           22,
           0
          ],
          [
           "Pers en Conf positief",
           24,
           2
          ]
         ],
         "geo": "geo",
         "hovertemplate": "<b>%{hovertext}</b><br><br>land=%{location}<br>persvrijheid_verandering=%{customdata[1]}<br>conflict_verandering=%{customdata[2]}<extra></extra>",
         "hovertext": [
          "Denmark",
          "Estonia",
          "Portugal",
          "Latvia",
          "Taiwan",
          "Croatia",
          "Montenegro",
          "Bulgaria",
          "Malaysia",
          "Qatar",
          "Singapore",
          "Rwanda"
         ],
         "locationmode": "country names",
         "locations": [
          "Denmark",
          "Estonia",
          "Portugal",
          "Latvia",
          "Taiwan",
          "Croatia",
          "Montenegro",
          "Bulgaria",
          "Malaysia",
          "Qatar",
          "Singapore",
          "Rwanda"
         ],
         "name": "Pers en Conf positief",
         "showlegend": true,
         "showscale": false,
         "z": [
          1,
          1,
          1,
          1,
          1,
          1,
          1,
          1,
          1,
          1,
          1,
          1
         ],
         "type": "choropleth"
        },
        {
         "colorscale": [
          [
           0.0,
           "yellow"
          ],
          [
           1.0,
           "yellow"
          ]
         ],
         "customdata": [
          [
           "Pers negatief Conf positief",
           -6,
           0
          ],
          [
           "Pers negatief Conf positief",
           -6,
           0
          ],
          [
           "Pers negatief Conf positief",
           -13,
           10
          ],
          [
           "Pers negatief Conf positief",
           -3,
           0
          ],
          [
           "Pers negatief Conf positief",
           -33,
           11
          ],
          [
           "Pers negatief Conf positief",
           -6,
           0
          ],
          [
           "Pers negatief Conf positief",
           -6,
           6
          ],
          [
           "Pers negatief Conf positief",
           -37,
           0
          ],
          [
           "Pers negatief Conf positief",
           -18,
           0
          ],
          [
           "Pers negatief Conf positief",
           -49,
           4
          ],
          [
           "Pers negatief Conf positief",
           -10,
           0
          ],
          [
           "Pers negatief Conf positief",
           -34,
           9
          ],
          [
           "Pers negatief Conf positief",
           -1,
           12
          ],
          [
           "Pers negatief Conf positief",
           -46,
           0
          ],
          [
           "Pers negatief Conf positief",
           -44,
           7
          ],
          [
           "Pers negatief Conf positief",
           -9,
           11
          ],
          [
           "Pers negatief Conf positief",
           -12,
           5
          ],
          [
           "Pers negatief Conf positief",
           -4,
           30
          ],
          [
           "Pers negatief Conf positief",
           -3,
           19
          ]
         ],
         "geo": "geo",
         "hovertemplate": "<b>%{hovertext}</b><br><br>land=%{location}<br>persvrijheid_verandering=%{customdata[1]}<br>conflict_verandering=%{customdata[2]}<extra></extra>",
         "hovertext": [
          "Switzerland",
          "New Zealand",
          "Costa Rica",
          "Luxembourg",
          "Uruguay",
          "Australia",
          "South Korea",
          "Fiji",
          "Mongolia",
          "Tunisia",
          "Bhutan",
          "El Salvador",
          "Serbia",
          "Kuwait",
          "Nicaragua",
          "Sri Lanka",
          "United Arab Emirates",
          "Cambodia",
          "Egypt"
         ],
         "locationmode": "country names",
         "locations": [
          "Switzerland",
          "New Zealand",
          "Costa Rica",
          "Luxembourg",
          "Uruguay",
          "Australia",
          "South Korea",
          "Fiji",
          "Mongolia",
          "Tunisia",
          "Bhutan",
          "El Salvador",
          "Serbia",
          "Kuwait",
          "Nicaragua",
          "Sri Lanka",
          "United Arab Emirates",
          "Cambodia",
          "Egypt"
         ],
         "name": "Pers negatief Conf positief",
         "showlegend": true,
         "showscale": false,
         "z": [
          1,
          1,
          1,
          1,
          1,
          1,
          1,
          1,
          1,
          1,
          1,
          1,
          1,
          1,
          1,
          1,
          1,
          1,
          1
         ],
         "type": "choropleth"
        }
       ],
       "layout": {
        "template": {
         "data": {
          "histogram2dcontour": [
           {
            "type": "histogram2dcontour",
            "colorbar": {
             "outlinewidth": 0,
             "ticks": ""
            },
            "colorscale": [
             [
              0.0,
              "#0d0887"
             ],
             [
              0.1111111111111111,
              "#46039f"
             ],
             [
              0.2222222222222222,
              "#7201a8"
             ],
             [
              0.3333333333333333,
              "#9c179e"
             ],
             [
              0.4444444444444444,
              "#bd3786"
             ],
             [
              0.5555555555555556,
              "#d8576b"
             ],
             [
              0.6666666666666666,
              "#ed7953"
             ],
             [
              0.7777777777777778,
              "#fb9f3a"
             ],
             [
              0.8888888888888888,
              "#fdca26"
             ],
             [
              1.0,
              "#f0f921"
             ]
            ]
           }
          ],
          "choropleth": [
           {
            "type": "choropleth",
            "colorbar": {
             "outlinewidth": 0,
             "ticks": ""
            }
           }
          ],
          "histogram2d": [
           {
            "type": "histogram2d",
            "colorbar": {
             "outlinewidth": 0,
             "ticks": ""
            },
            "colorscale": [
             [
              0.0,
              "#0d0887"
             ],
             [
              0.1111111111111111,
              "#46039f"
             ],
             [
              0.2222222222222222,
              "#7201a8"
             ],
             [
              0.3333333333333333,
              "#9c179e"
             ],
             [
              0.4444444444444444,
              "#bd3786"
             ],
             [
              0.5555555555555556,
              "#d8576b"
             ],
             [
              0.6666666666666666,
              "#ed7953"
             ],
             [
              0.7777777777777778,
              "#fb9f3a"
             ],
             [
              0.8888888888888888,
              "#fdca26"
             ],
             [
              1.0,
              "#f0f921"
             ]
            ]
           }
          ],
          "heatmap": [
           {
            "type": "heatmap",
            "colorbar": {
             "outlinewidth": 0,
             "ticks": ""
            },
            "colorscale": [
             [
              0.0,
              "#0d0887"
             ],
             [
              0.1111111111111111,
              "#46039f"
             ],
             [
              0.2222222222222222,
              "#7201a8"
             ],
             [
              0.3333333333333333,
              "#9c179e"
             ],
             [
              0.4444444444444444,
              "#bd3786"
             ],
             [
              0.5555555555555556,
              "#d8576b"
             ],
             [
              0.6666666666666666,
              "#ed7953"
             ],
             [
              0.7777777777777778,
              "#fb9f3a"
             ],
             [
              0.8888888888888888,
              "#fdca26"
             ],
             [
              1.0,
              "#f0f921"
             ]
            ]
           }
          ],
          "heatmapgl": [
           {
            "type": "heatmapgl",
            "colorbar": {
             "outlinewidth": 0,
             "ticks": ""
            },
            "colorscale": [
             [
              0.0,
              "#0d0887"
             ],
             [
              0.1111111111111111,
              "#46039f"
             ],
             [
              0.2222222222222222,
              "#7201a8"
             ],
             [
              0.3333333333333333,
              "#9c179e"
             ],
             [
              0.4444444444444444,
              "#bd3786"
             ],
             [
              0.5555555555555556,
              "#d8576b"
             ],
             [
              0.6666666666666666,
              "#ed7953"
             ],
             [
              0.7777777777777778,
              "#fb9f3a"
             ],
             [
              0.8888888888888888,
              "#fdca26"
             ],
             [
              1.0,
              "#f0f921"
             ]
            ]
           }
          ],
          "contourcarpet": [
           {
            "type": "contourcarpet",
            "colorbar": {
             "outlinewidth": 0,
             "ticks": ""
            }
           }
          ],
          "contour": [
           {
            "type": "contour",
            "colorbar": {
             "outlinewidth": 0,
             "ticks": ""
            },
            "colorscale": [
             [
              0.0,
              "#0d0887"
             ],
             [
              0.1111111111111111,
              "#46039f"
             ],
             [
              0.2222222222222222,
              "#7201a8"
             ],
             [
              0.3333333333333333,
              "#9c179e"
             ],
             [
              0.4444444444444444,
              "#bd3786"
             ],
             [
              0.5555555555555556,
              "#d8576b"
             ],
             [
              0.6666666666666666,
              "#ed7953"
             ],
             [
              0.7777777777777778,
              "#fb9f3a"
             ],
             [
              0.8888888888888888,
              "#fdca26"
             ],
             [
              1.0,
              "#f0f921"
             ]
            ]
           }
          ],
          "surface": [
           {
            "type": "surface",
            "colorbar": {
             "outlinewidth": 0,
             "ticks": ""
            },
            "colorscale": [
             [
              0.0,
              "#0d0887"
             ],
             [
              0.1111111111111111,
              "#46039f"
             ],
             [
              0.2222222222222222,
              "#7201a8"
             ],
             [
              0.3333333333333333,
              "#9c179e"
             ],
             [
              0.4444444444444444,
              "#bd3786"
             ],
             [
              0.5555555555555556,
              "#d8576b"
             ],
             [
              0.6666666666666666,
              "#ed7953"
             ],
             [
              0.7777777777777778,
              "#fb9f3a"
             ],
             [
              0.8888888888888888,
              "#fdca26"
             ],
             [
              1.0,
              "#f0f921"
             ]
            ]
           }
          ],
          "mesh3d": [
           {
            "type": "mesh3d",
            "colorbar": {
             "outlinewidth": 0,
             "ticks": ""
            }
           }
          ],
          "scatter": [
           {
            "marker": {
             "line": {
              "color": "#283442"
             }
            },
            "type": "scatter"
           }
          ],
          "parcoords": [
           {
            "type": "parcoords",
            "line": {
             "colorbar": {
              "outlinewidth": 0,
              "ticks": ""
             }
            }
           }
          ],
          "scatterpolargl": [
           {
            "type": "scatterpolargl",
            "marker": {
             "colorbar": {
              "outlinewidth": 0,
              "ticks": ""
             }
            }
           }
          ],
          "bar": [
           {
            "error_x": {
             "color": "#f2f5fa"
            },
            "error_y": {
             "color": "#f2f5fa"
            },
            "marker": {
             "line": {
              "color": "rgb(17,17,17)",
              "width": 0.5
             },
             "pattern": {
              "fillmode": "overlay",
              "size": 10,
              "solidity": 0.2
             }
            },
            "type": "bar"
           }
          ],
          "scattergeo": [
           {
            "type": "scattergeo",
            "marker": {
             "colorbar": {
              "outlinewidth": 0,
              "ticks": ""
             }
            }
           }
          ],
          "scatterpolar": [
           {
            "type": "scatterpolar",
            "marker": {
             "colorbar": {
              "outlinewidth": 0,
              "ticks": ""
             }
            }
           }
          ],
          "histogram": [
           {
            "marker": {
             "pattern": {
              "fillmode": "overlay",
              "size": 10,
              "solidity": 0.2
             }
            },
            "type": "histogram"
           }
          ],
          "scattergl": [
           {
            "marker": {
             "line": {
              "color": "#283442"
             }
            },
            "type": "scattergl"
           }
          ],
          "scatter3d": [
           {
            "type": "scatter3d",
            "line": {
             "colorbar": {
              "outlinewidth": 0,
              "ticks": ""
             }
            },
            "marker": {
             "colorbar": {
              "outlinewidth": 0,
              "ticks": ""
             }
            }
           }
          ],
          "scattermapbox": [
           {
            "type": "scattermapbox",
            "marker": {
             "colorbar": {
              "outlinewidth": 0,
              "ticks": ""
             }
            }
           }
          ],
          "scatterternary": [
           {
            "type": "scatterternary",
            "marker": {
             "colorbar": {
              "outlinewidth": 0,
              "ticks": ""
             }
            }
           }
          ],
          "scattercarpet": [
           {
            "type": "scattercarpet",
            "marker": {
             "colorbar": {
              "outlinewidth": 0,
              "ticks": ""
             }
            }
           }
          ],
          "carpet": [
           {
            "aaxis": {
             "endlinecolor": "#A2B1C6",
             "gridcolor": "#506784",
             "linecolor": "#506784",
             "minorgridcolor": "#506784",
             "startlinecolor": "#A2B1C6"
            },
            "baxis": {
             "endlinecolor": "#A2B1C6",
             "gridcolor": "#506784",
             "linecolor": "#506784",
             "minorgridcolor": "#506784",
             "startlinecolor": "#A2B1C6"
            },
            "type": "carpet"
           }
          ],
          "table": [
           {
            "cells": {
             "fill": {
              "color": "#506784"
             },
             "line": {
              "color": "rgb(17,17,17)"
             }
            },
            "header": {
             "fill": {
              "color": "#2a3f5f"
             },
             "line": {
              "color": "rgb(17,17,17)"
             }
            },
            "type": "table"
           }
          ],
          "barpolar": [
           {
            "marker": {
             "line": {
              "color": "rgb(17,17,17)",
              "width": 0.5
             },
             "pattern": {
              "fillmode": "overlay",
              "size": 10,
              "solidity": 0.2
             }
            },
            "type": "barpolar"
           }
          ],
          "pie": [
           {
            "automargin": true,
            "type": "pie"
           }
          ]
         },
         "layout": {
          "autotypenumbers": "strict",
          "colorway": [
           "#636efa",
           "#EF553B",
           "#00cc96",
           "#ab63fa",
           "#FFA15A",
           "#19d3f3",
           "#FF6692",
           "#B6E880",
           "#FF97FF",
           "#FECB52"
          ],
          "font": {
           "color": "#f2f5fa"
          },
          "hovermode": "closest",
          "hoverlabel": {
           "align": "left"
          },
          "paper_bgcolor": "rgb(17,17,17)",
          "plot_bgcolor": "rgb(17,17,17)",
          "polar": {
           "bgcolor": "rgb(17,17,17)",
           "angularaxis": {
            "gridcolor": "#506784",
            "linecolor": "#506784",
            "ticks": ""
           },
           "radialaxis": {
            "gridcolor": "#506784",
            "linecolor": "#506784",
            "ticks": ""
           }
          },
          "ternary": {
           "bgcolor": "rgb(17,17,17)",
           "aaxis": {
            "gridcolor": "#506784",
            "linecolor": "#506784",
            "ticks": ""
           },
           "baxis": {
            "gridcolor": "#506784",
            "linecolor": "#506784",
            "ticks": ""
           },
           "caxis": {
            "gridcolor": "#506784",
            "linecolor": "#506784",
            "ticks": ""
           }
          },
          "coloraxis": {
           "colorbar": {
            "outlinewidth": 0,
            "ticks": ""
           }
          },
          "colorscale": {
           "sequential": [
            [
             0.0,
             "#0d0887"
            ],
            [
             0.1111111111111111,
             "#46039f"
            ],
            [
             0.2222222222222222,
             "#7201a8"
            ],
            [
             0.3333333333333333,
             "#9c179e"
            ],
            [
             0.4444444444444444,
             "#bd3786"
            ],
            [
             0.5555555555555556,
             "#d8576b"
            ],
            [
             0.6666666666666666,
             "#ed7953"
            ],
            [
             0.7777777777777778,
             "#fb9f3a"
            ],
            [
             0.8888888888888888,
             "#fdca26"
            ],
            [
             1.0,
             "#f0f921"
            ]
           ],
           "sequentialminus": [
            [
             0.0,
             "#0d0887"
            ],
            [
             0.1111111111111111,
             "#46039f"
            ],
            [
             0.2222222222222222,
             "#7201a8"
            ],
            [
             0.3333333333333333,
             "#9c179e"
            ],
            [
             0.4444444444444444,
             "#bd3786"
            ],
            [
             0.5555555555555556,
             "#d8576b"
            ],
            [
             0.6666666666666666,
             "#ed7953"
            ],
            [
             0.7777777777777778,
             "#fb9f3a"
            ],
            [
             0.8888888888888888,
             "#fdca26"
            ],
            [
             1.0,
             "#f0f921"
            ]
           ],
           "diverging": [
            [
             0,
             "#8e0152"
            ],
            [
             0.1,
             "#c51b7d"
            ],
            [
             0.2,
             "#de77ae"
            ],
            [
             0.3,
             "#f1b6da"
            ],
            [
             0.4,
             "#fde0ef"
            ],
            [
             0.5,
             "#f7f7f7"
            ],
            [
             0.6,
             "#e6f5d0"
            ],
            [
             0.7,
             "#b8e186"
            ],
            [
             0.8,
             "#7fbc41"
            ],
            [
             0.9,
             "#4d9221"
            ],
            [
             1,
             "#276419"
            ]
           ]
          },
          "xaxis": {
           "gridcolor": "#283442",
           "linecolor": "#506784",
           "ticks": "",
           "title": {
            "standoff": 15
           },
           "zerolinecolor": "#283442",
           "automargin": true,
           "zerolinewidth": 2
          },
          "yaxis": {
           "gridcolor": "#283442",
           "linecolor": "#506784",
           "ticks": "",
           "title": {
            "standoff": 15
           },
           "zerolinecolor": "#283442",
           "automargin": true,
           "zerolinewidth": 2
          },
          "scene": {
           "xaxis": {
            "backgroundcolor": "rgb(17,17,17)",
            "gridcolor": "#506784",
            "linecolor": "#506784",
            "showbackground": true,
            "ticks": "",
            "zerolinecolor": "#C8D4E3",
            "gridwidth": 2
           },
           "yaxis": {
            "backgroundcolor": "rgb(17,17,17)",
            "gridcolor": "#506784",
            "linecolor": "#506784",
            "showbackground": true,
            "ticks": "",
            "zerolinecolor": "#C8D4E3",
            "gridwidth": 2
           },
           "zaxis": {
            "backgroundcolor": "rgb(17,17,17)",
            "gridcolor": "#506784",
            "linecolor": "#506784",
            "showbackground": true,
            "ticks": "",
            "zerolinecolor": "#C8D4E3",
            "gridwidth": 2
           }
          },
          "shapedefaults": {
           "line": {
            "color": "#f2f5fa"
           }
          },
          "annotationdefaults": {
           "arrowcolor": "#f2f5fa",
           "arrowhead": 0,
           "arrowwidth": 1
          },
          "geo": {
           "bgcolor": "rgb(17,17,17)",
           "landcolor": "rgb(17,17,17)",
           "subunitcolor": "#506784",
           "showland": true,
           "showlakes": true,
           "lakecolor": "rgb(17,17,17)"
          },
          "title": {
           "x": 0.05
          },
          "updatemenudefaults": {
           "bgcolor": "#506784",
           "borderwidth": 0
          },
          "sliderdefaults": {
           "bgcolor": "#C8D4E3",
           "borderwidth": 1,
           "bordercolor": "rgb(17,17,17)",
           "tickwidth": 0
          },
          "mapbox": {
           "style": "dark"
          }
         }
        },
        "geo": {
         "domain": {
          "x": [
           0.0,
           1.0
          ],
          "y": [
           0.0,
           1.0
          ]
         },
         "center": {},
         "projection": {
          "type": "mercator"
         },
         "showocean": true,
         "oceancolor": "#a8d5f2",
         "showcountries": true,
         "countrycolor": "white",
         "landcolor": "white",
         "showland": true
        },
        "legend": {
         "title": {
          "text": "color"
         },
         "tracegroupgap": 0
        },
        "title": {
         "text": "Verandering in Persvrijheid en Conflict Rang (2019-2023)",
         "y": 0.9,
         "x": 0.5,
         "xanchor": "center",
         "yanchor": "top"
        },
        "margin": {
         "t": 80,
         "r": 80,
         "b": 50,
         "l": 80
        },
        "width": 900,
        "height": 600
       },
       "config": {
        "plotlyServerURL": "https://plot.ly"
       }
      },
      "text/html": [
       "<div>                            <div id=\"6e3deae3-d0b5-4fb1-9db8-cf9f8f6f1a3b\" class=\"plotly-graph-div\" style=\"height:600px; width:900px;\"></div>            <script type=\"text/javascript\">                require([\"plotly\"], function(Plotly) {                    window.PLOTLYENV=window.PLOTLYENV || {};                                    if (document.getElementById(\"6e3deae3-d0b5-4fb1-9db8-cf9f8f6f1a3b\")) {                    Plotly.newPlot(                        \"6e3deae3-d0b5-4fb1-9db8-cf9f8f6f1a3b\",                        [{\"colorscale\":[[0.0,\"orange\"],[1.0,\"orange\"]],\"customdata\":[[\"Pers positief Conf negatief\",0,-17],[\"Pers positief Conf negatief\",13,-23],[\"Pers positief Conf negatief\",3,-46],[\"Pers positief Conf negatief\",1,-23],[\"Pers positief Conf negatief\",23,-17],[\"Pers positief Conf negatief\",6,-36],[\"Pers positief Conf negatief\",8,-102],[\"Pers positief Conf negatief\",7,-50],[\"Pers positief Conf negatief\",18,-17],[\"Pers positief Conf negatief\",9,-34],[\"Pers positief Conf negatief\",2,-67],[\"Pers positief Conf negatief\",3,-112],[\"Pers positief Conf negatief\",12,-37],[\"Pers positief Conf negatief\",17,-25],[\"Pers positief Conf negatief\",2,-61],[\"Pers positief Conf negatief\",12,-39],[\"Pers positief Conf negatief\",5,-32],[\"Pers positief Conf negatief\",6,-37],[\"Pers positief Conf negatief\",11,-15],[\"Pers positief Conf negatief\",10,-37],[\"Pers positief Conf negatief\",74,-17],[\"Pers positief Conf negatief\",12,-20],[\"Pers positief Conf negatief\",15,-63],[\"Pers positief Conf negatief\",11,-63],[\"Pers positief Conf negatief\",63,-20],[\"Pers positief Conf negatief\",46,-19],[\"Pers positief Conf negatief\",27,-26],[\"Pers positief Conf negatief\",8,-55],[\"Pers positief Conf negatief\",57,-10],[\"Pers positief Conf negatief\",17,-87],[\"Pers positief Conf negatief\",23,-43],[\"Pers positief Conf negatief\",1,-22],[\"Pers positief Conf negatief\",13,-30],[\"Pers positief Conf negatief\",11,-6],[\"Pers positief Conf negatief\",22,-29],[\"Pers positief Conf negatief\",21,-42],[\"Pers positief Conf negatief\",32,-29],[\"Pers positief Conf negatief\",16,-26],[\"Pers positief Conf negatief\",1,-40],[\"Pers positief Conf negatief\",2,-15],[\"Pers positief Conf negatief\",30,-4],[\"Pers positief Conf negatief\",5,-41],[\"Pers positief Conf negatief\",16,-29],[\"Pers positief Conf negatief\",24,-26],[\"Pers positief Conf negatief\",45,-18],[\"Pers positief Conf negatief\",15,-50],[\"Pers positief Conf negatief\",11,-4]],\"geo\":\"geo\",\"hovertemplate\":\"\\u003cb\\u003e%{hovertext}\\u003c\\u002fb\\u003e\\u003cbr\\u003e\\u003cbr\\u003eland=%{location}\\u003cbr\\u003epersvrijheid_verandering=%{customdata[1]}\\u003cbr\\u003econflict_verandering=%{customdata[2]}\\u003cextra\\u003e\\u003c\\u002fextra\\u003e\",\"hovertext\":[\"Norway\",\"Ireland\",\"Canada\",\"Namibia\",\"Lithuania\",\"South Africa\",\"France\",\"United Kingdom\",\"Slovakia\",\"Trinidad and Tobago\",\"Italy\",\"United States\",\"Dominican Republic\",\"Argentina\",\"Poland\",\"Armenia\",\"Niger\",\"Togo\",\"Lesotho\",\"Panama\",\"East Timor\",\"Sierra Leone\",\"Hungary\",\"Guinea-Bissau\",\"Moldova\",\"Gambia\",\"Liberia\",\"Mauritania\",\"North Macedonia\",\"Ecuador\",\"Ukraine\",\"Mozambique\",\"Brazil\",\"Nepal\",\"Guinea\",\"Gabon\",\"Zambia\",\"Indonesia\",\"Zimbabwe\",\"Philippines\",\"Thailand\",\"Algeria\",\"Mexico\",\"Kazakhstan\",\"Burundi\",\"Azerbaijan\",\"Djibouti\"],\"locationmode\":\"country names\",\"locations\":[\"Norway\",\"Ireland\",\"Canada\",\"Namibia\",\"Lithuania\",\"South Africa\",\"France\",\"United Kingdom\",\"Slovakia\",\"Trinidad and Tobago\",\"Italy\",\"United States\",\"Dominican Republic\",\"Argentina\",\"Poland\",\"Armenia\",\"Niger\",\"Togo\",\"Lesotho\",\"Panama\",\"East Timor\",\"Sierra Leone\",\"Hungary\",\"Guinea-Bissau\",\"Moldova\",\"Gambia\",\"Liberia\",\"Mauritania\",\"North Macedonia\",\"Ecuador\",\"Ukraine\",\"Mozambique\",\"Brazil\",\"Nepal\",\"Guinea\",\"Gabon\",\"Zambia\",\"Indonesia\",\"Zimbabwe\",\"Philippines\",\"Thailand\",\"Algeria\",\"Mexico\",\"Kazakhstan\",\"Burundi\",\"Azerbaijan\",\"Djibouti\"],\"name\":\"Pers positief Conf negatief\",\"showlegend\":true,\"showscale\":false,\"z\":[1,1,1,1,1,1,1,1,1,1,1,1,1,1,1,1,1,1,1,1,1,1,1,1,1,1,1,1,1,1,1,1,1,1,1,1,1,1,1,1,1,1,1,1,1,1,1],\"type\":\"choropleth\"},{\"colorscale\":[[0.0,\"red\"],[1.0,\"red\"]],\"customdata\":[[\"Pers en Conf negatief\",-3,-17],[\"Pers en Conf negatief\",-1,-23],[\"Pers en Conf negatief\",-2,-38],[\"Pers en Conf negatief\",-24,-38],[\"Pers en Conf negatief\",-22,-59],[\"Pers en Conf negatief\",-8,-84],[\"Pers en Conf negatief\",-4,-17],[\"Pers en Conf negatief\",-13,-31],[\"Pers en Conf negatief\",-28,-7],[\"Pers en Conf negatief\",-35,-34],[\"Pers en Conf negatief\",-27,-43],[\"Pers en Conf negatief\",-7,-46],[\"Pers en Conf negatief\",-16,-20],[\"Pers en Conf negatief\",-22,-37],[\"Pers en Conf negatief\",-21,-113],[\"Pers en Conf negatief\",-21,-52],[\"Pers en Conf negatief\",-37,-27],[\"Pers en Conf negatief\",-6,-34],[\"Pers en Conf negatief\",-55,-57],[\"Pers en Conf negatief\",-9,-41],[\"Pers en Conf negatief\",-47,-43],[\"Pers en Conf negatief\",-19,-54],[\"Pers en Conf negatief\",-5,-48],[\"Pers en Conf negatief\",-17,-3],[\"Pers en Conf negatief\",-37,-49],[\"Pers en Conf negatief\",-42,-24],[\"Pers en Conf negatief\",-1,-12],[\"Pers en Conf negatief\",-14,-29],[\"Pers en Conf negatief\",-7,-20],[\"Pers en Conf negatief\",-14,-18],[\"Pers en Conf negatief\",-39,-18],[\"Pers en Conf negatief\",-25,-47],[\"Pers en Conf negatief\",-9,-58],[\"Pers en Conf negatief\",-16,-60],[\"Pers en Conf negatief\",-4,-25],[\"Pers en Conf negatief\",-16,-55],[\"Pers en Conf negatief\",-18,-41],[\"Pers en Conf negatief\",-16,-43],[\"Pers en Conf negatief\",-20,-56],[\"Pers en Conf negatief\",-1,-39],[\"Pers en Conf negatief\",-4,-41],[\"Pers en Conf negatief\",-11,-20],[\"Pers en Conf negatief\",-25,-27],[\"Pers en Conf negatief\",-3,-36],[\"Pers en Conf negatief\",-8,-33],[\"Pers en Conf negatief\",-10,-30],[\"Pers en Conf negatief\",-16,-5],[\"Pers en Conf negatief\",-7,-27],[\"Pers en Conf negatief\",-23,-17],[\"Pers en Conf negatief\",-19,-50],[\"Pers en Conf negatief\",-21,-22],[\"Pers en Conf negatief\",-8,-33],[\"Pers en Conf negatief\",-23,-26],[\"Pers en Conf negatief\",-11,-7],[\"Pers en Conf negatief\",-15,-49],[\"Pers en Conf negatief\",-13,-34],[\"Pers en Conf negatief\",-11,-27],[\"Pers en Conf negatief\",-4,-9],[\"Pers en Conf negatief\",-3,-54],[\"Pers en Conf negatief\",-2,-26],[\"Pers en Conf negatief\",-2,-10]],\"geo\":\"geo\",\"hovertemplate\":\"\\u003cb\\u003e%{hovertext}\\u003c\\u002fb\\u003e\\u003cbr\\u003e\\u003cbr\\u003eland=%{location}\\u003cbr\\u003epersvrijheid_verandering=%{customdata[1]}\\u003cbr\\u003econflict_verandering=%{customdata[2]}\\u003cextra\\u003e\\u003c\\u002fextra\\u003e\",\"hovertext\":[\"Finland\",\"Sweden\",\"Netherlands\",\"Jamaica\",\"Belgium\",\"Germany\",\"Iceland\",\"Austria\",\"Suriname\",\"Ghana\",\"Cyprus\",\"Spain\",\"Slovenia\",\"Burkina Faso\",\"Papua New Guinea\",\"Botswana\",\"Chile\",\"Romania\",\"Senegal\",\"Guyana\",\"Madagascar\",\"Comoros\",\"Mauritius\",\"Georgia\",\"Haiti\",\"Greece\",\"Japan\",\"Malawi\",\"Malta\",\"Albania\",\"Kyrgyzstan\",\"Peru\",\"Israel\",\"Benin\",\"Paraguay\",\"Kenya\",\"Lebanon\",\"Angola\",\"Ethiopia\",\"Mali\",\"Bolivia\",\"Guatemala\",\"Tanzania\",\"Nigeria\",\"Uganda\",\"Colombia\",\"Jordan\",\"Cameroon\",\"Oman\",\"Palestine\",\"India\",\"Pakistan\",\"Honduras\",\"Venezuela\",\"Russia\",\"Bangladesh\",\"Iraq\",\"Bahrain\",\"Cuba\",\"Vietnam\",\"China\"],\"locationmode\":\"country names\",\"locations\":[\"Finland\",\"Sweden\",\"Netherlands\",\"Jamaica\",\"Belgium\",\"Germany\",\"Iceland\",\"Austria\",\"Suriname\",\"Ghana\",\"Cyprus\",\"Spain\",\"Slovenia\",\"Burkina Faso\",\"Papua New Guinea\",\"Botswana\",\"Chile\",\"Romania\",\"Senegal\",\"Guyana\",\"Madagascar\",\"Comoros\",\"Mauritius\",\"Georgia\",\"Haiti\",\"Greece\",\"Japan\",\"Malawi\",\"Malta\",\"Albania\",\"Kyrgyzstan\",\"Peru\",\"Israel\",\"Benin\",\"Paraguay\",\"Kenya\",\"Lebanon\",\"Angola\",\"Ethiopia\",\"Mali\",\"Bolivia\",\"Guatemala\",\"Tanzania\",\"Nigeria\",\"Uganda\",\"Colombia\",\"Jordan\",\"Cameroon\",\"Oman\",\"Palestine\",\"India\",\"Pakistan\",\"Honduras\",\"Venezuela\",\"Russia\",\"Bangladesh\",\"Iraq\",\"Bahrain\",\"Cuba\",\"Vietnam\",\"China\"],\"name\":\"Pers en Conf negatief\",\"showlegend\":true,\"showscale\":false,\"z\":[1,1,1,1,1,1,1,1,1,1,1,1,1,1,1,1,1,1,1,1,1,1,1,1,1,1,1,1,1,1,1,1,1,1,1,1,1,1,1,1,1,1,1,1,1,1,1,1,1,1,1,1,1,1,1,1,1,1,1,1,1],\"type\":\"choropleth\"},{\"colorscale\":[[0.0,\"#90ee90\"],[1.0,\"#90ee90\"]],\"customdata\":[[\"Pers en Conf positief\",2,0],[\"Pers en Conf positief\",3,0],[\"Pers en Conf positief\",3,0],[\"Pers en Conf positief\",8,0],[\"Pers en Conf positief\",7,18],[\"Pers en Conf positief\",22,29],[\"Pers en Conf positief\",65,3],[\"Pers en Conf positief\",40,15],[\"Pers en Conf positief\",50,48],[\"Pers en Conf positief\",23,0],[\"Pers en Conf positief\",22,0],[\"Pers en Conf positief\",24,2]],\"geo\":\"geo\",\"hovertemplate\":\"\\u003cb\\u003e%{hovertext}\\u003c\\u002fb\\u003e\\u003cbr\\u003e\\u003cbr\\u003eland=%{location}\\u003cbr\\u003epersvrijheid_verandering=%{customdata[1]}\\u003cbr\\u003econflict_verandering=%{customdata[2]}\\u003cextra\\u003e\\u003c\\u002fextra\\u003e\",\"hovertext\":[\"Denmark\",\"Estonia\",\"Portugal\",\"Latvia\",\"Taiwan\",\"Croatia\",\"Montenegro\",\"Bulgaria\",\"Malaysia\",\"Qatar\",\"Singapore\",\"Rwanda\"],\"locationmode\":\"country names\",\"locations\":[\"Denmark\",\"Estonia\",\"Portugal\",\"Latvia\",\"Taiwan\",\"Croatia\",\"Montenegro\",\"Bulgaria\",\"Malaysia\",\"Qatar\",\"Singapore\",\"Rwanda\"],\"name\":\"Pers en Conf positief\",\"showlegend\":true,\"showscale\":false,\"z\":[1,1,1,1,1,1,1,1,1,1,1,1],\"type\":\"choropleth\"},{\"colorscale\":[[0.0,\"yellow\"],[1.0,\"yellow\"]],\"customdata\":[[\"Pers negatief Conf positief\",-6,0],[\"Pers negatief Conf positief\",-6,0],[\"Pers negatief Conf positief\",-13,10],[\"Pers negatief Conf positief\",-3,0],[\"Pers negatief Conf positief\",-33,11],[\"Pers negatief Conf positief\",-6,0],[\"Pers negatief Conf positief\",-6,6],[\"Pers negatief Conf positief\",-37,0],[\"Pers negatief Conf positief\",-18,0],[\"Pers negatief Conf positief\",-49,4],[\"Pers negatief Conf positief\",-10,0],[\"Pers negatief Conf positief\",-34,9],[\"Pers negatief Conf positief\",-1,12],[\"Pers negatief Conf positief\",-46,0],[\"Pers negatief Conf positief\",-44,7],[\"Pers negatief Conf positief\",-9,11],[\"Pers negatief Conf positief\",-12,5],[\"Pers negatief Conf positief\",-4,30],[\"Pers negatief Conf positief\",-3,19]],\"geo\":\"geo\",\"hovertemplate\":\"\\u003cb\\u003e%{hovertext}\\u003c\\u002fb\\u003e\\u003cbr\\u003e\\u003cbr\\u003eland=%{location}\\u003cbr\\u003epersvrijheid_verandering=%{customdata[1]}\\u003cbr\\u003econflict_verandering=%{customdata[2]}\\u003cextra\\u003e\\u003c\\u002fextra\\u003e\",\"hovertext\":[\"Switzerland\",\"New Zealand\",\"Costa Rica\",\"Luxembourg\",\"Uruguay\",\"Australia\",\"South Korea\",\"Fiji\",\"Mongolia\",\"Tunisia\",\"Bhutan\",\"El Salvador\",\"Serbia\",\"Kuwait\",\"Nicaragua\",\"Sri Lanka\",\"United Arab Emirates\",\"Cambodia\",\"Egypt\"],\"locationmode\":\"country names\",\"locations\":[\"Switzerland\",\"New Zealand\",\"Costa Rica\",\"Luxembourg\",\"Uruguay\",\"Australia\",\"South Korea\",\"Fiji\",\"Mongolia\",\"Tunisia\",\"Bhutan\",\"El Salvador\",\"Serbia\",\"Kuwait\",\"Nicaragua\",\"Sri Lanka\",\"United Arab Emirates\",\"Cambodia\",\"Egypt\"],\"name\":\"Pers negatief Conf positief\",\"showlegend\":true,\"showscale\":false,\"z\":[1,1,1,1,1,1,1,1,1,1,1,1,1,1,1,1,1,1,1],\"type\":\"choropleth\"}],                        {\"template\":{\"data\":{\"histogram2dcontour\":[{\"type\":\"histogram2dcontour\",\"colorbar\":{\"outlinewidth\":0,\"ticks\":\"\"},\"colorscale\":[[0.0,\"#0d0887\"],[0.1111111111111111,\"#46039f\"],[0.2222222222222222,\"#7201a8\"],[0.3333333333333333,\"#9c179e\"],[0.4444444444444444,\"#bd3786\"],[0.5555555555555556,\"#d8576b\"],[0.6666666666666666,\"#ed7953\"],[0.7777777777777778,\"#fb9f3a\"],[0.8888888888888888,\"#fdca26\"],[1.0,\"#f0f921\"]]}],\"choropleth\":[{\"type\":\"choropleth\",\"colorbar\":{\"outlinewidth\":0,\"ticks\":\"\"}}],\"histogram2d\":[{\"type\":\"histogram2d\",\"colorbar\":{\"outlinewidth\":0,\"ticks\":\"\"},\"colorscale\":[[0.0,\"#0d0887\"],[0.1111111111111111,\"#46039f\"],[0.2222222222222222,\"#7201a8\"],[0.3333333333333333,\"#9c179e\"],[0.4444444444444444,\"#bd3786\"],[0.5555555555555556,\"#d8576b\"],[0.6666666666666666,\"#ed7953\"],[0.7777777777777778,\"#fb9f3a\"],[0.8888888888888888,\"#fdca26\"],[1.0,\"#f0f921\"]]}],\"heatmap\":[{\"type\":\"heatmap\",\"colorbar\":{\"outlinewidth\":0,\"ticks\":\"\"},\"colorscale\":[[0.0,\"#0d0887\"],[0.1111111111111111,\"#46039f\"],[0.2222222222222222,\"#7201a8\"],[0.3333333333333333,\"#9c179e\"],[0.4444444444444444,\"#bd3786\"],[0.5555555555555556,\"#d8576b\"],[0.6666666666666666,\"#ed7953\"],[0.7777777777777778,\"#fb9f3a\"],[0.8888888888888888,\"#fdca26\"],[1.0,\"#f0f921\"]]}],\"heatmapgl\":[{\"type\":\"heatmapgl\",\"colorbar\":{\"outlinewidth\":0,\"ticks\":\"\"},\"colorscale\":[[0.0,\"#0d0887\"],[0.1111111111111111,\"#46039f\"],[0.2222222222222222,\"#7201a8\"],[0.3333333333333333,\"#9c179e\"],[0.4444444444444444,\"#bd3786\"],[0.5555555555555556,\"#d8576b\"],[0.6666666666666666,\"#ed7953\"],[0.7777777777777778,\"#fb9f3a\"],[0.8888888888888888,\"#fdca26\"],[1.0,\"#f0f921\"]]}],\"contourcarpet\":[{\"type\":\"contourcarpet\",\"colorbar\":{\"outlinewidth\":0,\"ticks\":\"\"}}],\"contour\":[{\"type\":\"contour\",\"colorbar\":{\"outlinewidth\":0,\"ticks\":\"\"},\"colorscale\":[[0.0,\"#0d0887\"],[0.1111111111111111,\"#46039f\"],[0.2222222222222222,\"#7201a8\"],[0.3333333333333333,\"#9c179e\"],[0.4444444444444444,\"#bd3786\"],[0.5555555555555556,\"#d8576b\"],[0.6666666666666666,\"#ed7953\"],[0.7777777777777778,\"#fb9f3a\"],[0.8888888888888888,\"#fdca26\"],[1.0,\"#f0f921\"]]}],\"surface\":[{\"type\":\"surface\",\"colorbar\":{\"outlinewidth\":0,\"ticks\":\"\"},\"colorscale\":[[0.0,\"#0d0887\"],[0.1111111111111111,\"#46039f\"],[0.2222222222222222,\"#7201a8\"],[0.3333333333333333,\"#9c179e\"],[0.4444444444444444,\"#bd3786\"],[0.5555555555555556,\"#d8576b\"],[0.6666666666666666,\"#ed7953\"],[0.7777777777777778,\"#fb9f3a\"],[0.8888888888888888,\"#fdca26\"],[1.0,\"#f0f921\"]]}],\"mesh3d\":[{\"type\":\"mesh3d\",\"colorbar\":{\"outlinewidth\":0,\"ticks\":\"\"}}],\"scatter\":[{\"marker\":{\"line\":{\"color\":\"#283442\"}},\"type\":\"scatter\"}],\"parcoords\":[{\"type\":\"parcoords\",\"line\":{\"colorbar\":{\"outlinewidth\":0,\"ticks\":\"\"}}}],\"scatterpolargl\":[{\"type\":\"scatterpolargl\",\"marker\":{\"colorbar\":{\"outlinewidth\":0,\"ticks\":\"\"}}}],\"bar\":[{\"error_x\":{\"color\":\"#f2f5fa\"},\"error_y\":{\"color\":\"#f2f5fa\"},\"marker\":{\"line\":{\"color\":\"rgb(17,17,17)\",\"width\":0.5},\"pattern\":{\"fillmode\":\"overlay\",\"size\":10,\"solidity\":0.2}},\"type\":\"bar\"}],\"scattergeo\":[{\"type\":\"scattergeo\",\"marker\":{\"colorbar\":{\"outlinewidth\":0,\"ticks\":\"\"}}}],\"scatterpolar\":[{\"type\":\"scatterpolar\",\"marker\":{\"colorbar\":{\"outlinewidth\":0,\"ticks\":\"\"}}}],\"histogram\":[{\"marker\":{\"pattern\":{\"fillmode\":\"overlay\",\"size\":10,\"solidity\":0.2}},\"type\":\"histogram\"}],\"scattergl\":[{\"marker\":{\"line\":{\"color\":\"#283442\"}},\"type\":\"scattergl\"}],\"scatter3d\":[{\"type\":\"scatter3d\",\"line\":{\"colorbar\":{\"outlinewidth\":0,\"ticks\":\"\"}},\"marker\":{\"colorbar\":{\"outlinewidth\":0,\"ticks\":\"\"}}}],\"scattermapbox\":[{\"type\":\"scattermapbox\",\"marker\":{\"colorbar\":{\"outlinewidth\":0,\"ticks\":\"\"}}}],\"scatterternary\":[{\"type\":\"scatterternary\",\"marker\":{\"colorbar\":{\"outlinewidth\":0,\"ticks\":\"\"}}}],\"scattercarpet\":[{\"type\":\"scattercarpet\",\"marker\":{\"colorbar\":{\"outlinewidth\":0,\"ticks\":\"\"}}}],\"carpet\":[{\"aaxis\":{\"endlinecolor\":\"#A2B1C6\",\"gridcolor\":\"#506784\",\"linecolor\":\"#506784\",\"minorgridcolor\":\"#506784\",\"startlinecolor\":\"#A2B1C6\"},\"baxis\":{\"endlinecolor\":\"#A2B1C6\",\"gridcolor\":\"#506784\",\"linecolor\":\"#506784\",\"minorgridcolor\":\"#506784\",\"startlinecolor\":\"#A2B1C6\"},\"type\":\"carpet\"}],\"table\":[{\"cells\":{\"fill\":{\"color\":\"#506784\"},\"line\":{\"color\":\"rgb(17,17,17)\"}},\"header\":{\"fill\":{\"color\":\"#2a3f5f\"},\"line\":{\"color\":\"rgb(17,17,17)\"}},\"type\":\"table\"}],\"barpolar\":[{\"marker\":{\"line\":{\"color\":\"rgb(17,17,17)\",\"width\":0.5},\"pattern\":{\"fillmode\":\"overlay\",\"size\":10,\"solidity\":0.2}},\"type\":\"barpolar\"}],\"pie\":[{\"automargin\":true,\"type\":\"pie\"}]},\"layout\":{\"autotypenumbers\":\"strict\",\"colorway\":[\"#636efa\",\"#EF553B\",\"#00cc96\",\"#ab63fa\",\"#FFA15A\",\"#19d3f3\",\"#FF6692\",\"#B6E880\",\"#FF97FF\",\"#FECB52\"],\"font\":{\"color\":\"#f2f5fa\"},\"hovermode\":\"closest\",\"hoverlabel\":{\"align\":\"left\"},\"paper_bgcolor\":\"rgb(17,17,17)\",\"plot_bgcolor\":\"rgb(17,17,17)\",\"polar\":{\"bgcolor\":\"rgb(17,17,17)\",\"angularaxis\":{\"gridcolor\":\"#506784\",\"linecolor\":\"#506784\",\"ticks\":\"\"},\"radialaxis\":{\"gridcolor\":\"#506784\",\"linecolor\":\"#506784\",\"ticks\":\"\"}},\"ternary\":{\"bgcolor\":\"rgb(17,17,17)\",\"aaxis\":{\"gridcolor\":\"#506784\",\"linecolor\":\"#506784\",\"ticks\":\"\"},\"baxis\":{\"gridcolor\":\"#506784\",\"linecolor\":\"#506784\",\"ticks\":\"\"},\"caxis\":{\"gridcolor\":\"#506784\",\"linecolor\":\"#506784\",\"ticks\":\"\"}},\"coloraxis\":{\"colorbar\":{\"outlinewidth\":0,\"ticks\":\"\"}},\"colorscale\":{\"sequential\":[[0.0,\"#0d0887\"],[0.1111111111111111,\"#46039f\"],[0.2222222222222222,\"#7201a8\"],[0.3333333333333333,\"#9c179e\"],[0.4444444444444444,\"#bd3786\"],[0.5555555555555556,\"#d8576b\"],[0.6666666666666666,\"#ed7953\"],[0.7777777777777778,\"#fb9f3a\"],[0.8888888888888888,\"#fdca26\"],[1.0,\"#f0f921\"]],\"sequentialminus\":[[0.0,\"#0d0887\"],[0.1111111111111111,\"#46039f\"],[0.2222222222222222,\"#7201a8\"],[0.3333333333333333,\"#9c179e\"],[0.4444444444444444,\"#bd3786\"],[0.5555555555555556,\"#d8576b\"],[0.6666666666666666,\"#ed7953\"],[0.7777777777777778,\"#fb9f3a\"],[0.8888888888888888,\"#fdca26\"],[1.0,\"#f0f921\"]],\"diverging\":[[0,\"#8e0152\"],[0.1,\"#c51b7d\"],[0.2,\"#de77ae\"],[0.3,\"#f1b6da\"],[0.4,\"#fde0ef\"],[0.5,\"#f7f7f7\"],[0.6,\"#e6f5d0\"],[0.7,\"#b8e186\"],[0.8,\"#7fbc41\"],[0.9,\"#4d9221\"],[1,\"#276419\"]]},\"xaxis\":{\"gridcolor\":\"#283442\",\"linecolor\":\"#506784\",\"ticks\":\"\",\"title\":{\"standoff\":15},\"zerolinecolor\":\"#283442\",\"automargin\":true,\"zerolinewidth\":2},\"yaxis\":{\"gridcolor\":\"#283442\",\"linecolor\":\"#506784\",\"ticks\":\"\",\"title\":{\"standoff\":15},\"zerolinecolor\":\"#283442\",\"automargin\":true,\"zerolinewidth\":2},\"scene\":{\"xaxis\":{\"backgroundcolor\":\"rgb(17,17,17)\",\"gridcolor\":\"#506784\",\"linecolor\":\"#506784\",\"showbackground\":true,\"ticks\":\"\",\"zerolinecolor\":\"#C8D4E3\",\"gridwidth\":2},\"yaxis\":{\"backgroundcolor\":\"rgb(17,17,17)\",\"gridcolor\":\"#506784\",\"linecolor\":\"#506784\",\"showbackground\":true,\"ticks\":\"\",\"zerolinecolor\":\"#C8D4E3\",\"gridwidth\":2},\"zaxis\":{\"backgroundcolor\":\"rgb(17,17,17)\",\"gridcolor\":\"#506784\",\"linecolor\":\"#506784\",\"showbackground\":true,\"ticks\":\"\",\"zerolinecolor\":\"#C8D4E3\",\"gridwidth\":2}},\"shapedefaults\":{\"line\":{\"color\":\"#f2f5fa\"}},\"annotationdefaults\":{\"arrowcolor\":\"#f2f5fa\",\"arrowhead\":0,\"arrowwidth\":1},\"geo\":{\"bgcolor\":\"rgb(17,17,17)\",\"landcolor\":\"rgb(17,17,17)\",\"subunitcolor\":\"#506784\",\"showland\":true,\"showlakes\":true,\"lakecolor\":\"rgb(17,17,17)\"},\"title\":{\"x\":0.05},\"updatemenudefaults\":{\"bgcolor\":\"#506784\",\"borderwidth\":0},\"sliderdefaults\":{\"bgcolor\":\"#C8D4E3\",\"borderwidth\":1,\"bordercolor\":\"rgb(17,17,17)\",\"tickwidth\":0},\"mapbox\":{\"style\":\"dark\"}}},\"geo\":{\"domain\":{\"x\":[0.0,1.0],\"y\":[0.0,1.0]},\"center\":{},\"projection\":{\"type\":\"mercator\"},\"showocean\":true,\"oceancolor\":\"#a8d5f2\",\"showcountries\":true,\"countrycolor\":\"white\",\"landcolor\":\"white\",\"showland\":true},\"legend\":{\"title\":{\"text\":\"color\"},\"tracegroupgap\":0},\"title\":{\"text\":\"Verandering in Persvrijheid en Conflict Rang (2019-2023)\",\"y\":0.9,\"x\":0.5,\"xanchor\":\"center\",\"yanchor\":\"top\"},\"margin\":{\"t\":80,\"r\":80,\"b\":50,\"l\":80},\"width\":900,\"height\":600},                        {\"responsive\": true}                    ).then(function(){\n",
       "                            \n",
       "var gd = document.getElementById('6e3deae3-d0b5-4fb1-9db8-cf9f8f6f1a3b');\n",
       "var x = new MutationObserver(function (mutations, observer) {{\n",
       "        var display = window.getComputedStyle(gd).display;\n",
       "        if (!display || display === 'none') {{\n",
       "            console.log([gd, 'removed!']);\n",
       "            Plotly.purge(gd);\n",
       "            observer.disconnect();\n",
       "        }}\n",
       "}});\n",
       "\n",
       "// Listen for the removal of the full notebook cells\n",
       "var notebookContainer = gd.closest('#notebook-container');\n",
       "if (notebookContainer) {{\n",
       "    x.observe(notebookContainer, {childList: true});\n",
       "}}\n",
       "\n",
       "// Listen for the clearing of the current output cell\n",
       "var outputEl = gd.closest('.output');\n",
       "if (outputEl) {{\n",
       "    x.observe(outputEl, {childList: true});\n",
       "}}\n",
       "\n",
       "                        })                };                });            </script>        </div>"
      ]
     },
     "metadata": {},
     "output_type": "display_data"
    },
    {
     "name": "stdout",
     "output_type": "stream",
     "text": [
      "Figuur 3\n"
     ]
    }
   ],
   "execution_count": 4,
   "source": [
    "# Creëer een wereldkaart om de verschillen tussen de veranderingen van persvrijheid en conflicten te laten zien\n",
    "\n",
    "# Definieer kleuren op basis van categorieën\n",
    "def get_color(verandering_pers, verandering_conf):\n",
    "    if verandering_pers == 0 and verandering_conf == 0:\n",
    "        return 'Pers en Conf neutraal'  # Blauw: beide veranderingen zijn 0\n",
    "    elif (verandering_pers >= 0 and verandering_conf > 0) or (verandering_pers > 0 and verandering_conf >= 0):\n",
    "        return 'Pers en Conf positief'  # Groen: beide veranderingen zijn positief\n",
    "    elif verandering_pers < 0 and verandering_conf < 0:\n",
    "        return 'Pers en Conf negatief'  # Rood: beide veranderingen zijn negatief\n",
    "    elif verandering_pers < 0 and verandering_conf >= 0:\n",
    "        return 'Pers negatief Conf positief'  # Geel: persvrijheid is negatief, conflict is positief\n",
    "    elif verandering_pers >= 0 and verandering_conf < 0:\n",
    "        return 'Pers positief Conf negatief'  # Oranje: persvrijheid is positief, conflict is negatief\n",
    "\n",
    "# Voeg kleur toe aan DataFrame\n",
    "eind_df['color'] = eind_df.apply(lambda row: get_color(row['persvrijheid_verandering'], row['conflict_verandering']), axis=1)\n",
    "\n",
    "# Maak een lijst met kleuren op basis van categorie\n",
    "color_discrete_map = {\n",
    "    'Pers en Conf neutraal': 'blue',    \n",
    "    'Pers en Conf positief': '#90ee90',\n",
    "    'Pers en Conf negatief': 'red',     \n",
    "    'Pers negatief Conf positief': 'yellow',\n",
    "    'Pers positief Conf negatief': 'orange'\n",
    "}\n",
    "\n",
    "# Maak de choropletenkaart met Plotly Express\n",
    "fig = px.choropleth(\n",
    "    eind_df,\n",
    "    locations=\"land\",\n",
    "    locationmode=\"country names\",\n",
    "    color=\"color\",\n",
    "    hover_name=\"land\",\n",
    "    hover_data={\n",
    "        \"color\": False,\n",
    "        \"persvrijheid_verandering\": True,\n",
    "        \"conflict_verandering\": True\n",
    "    },\n",
    "    color_discrete_map=color_discrete_map,\n",
    "    title=\"Verandering in Persvrijheid en Conflict Rang (2019-2023)\"\n",
    ")\n",
    "\n",
    "# Aanpassen van de opmaak van de figuur\n",
    "fig.update_geos(\n",
    "    showocean=True,\n",
    "    oceancolor='#a8d5f2',\n",
    "    showcountries=True,\n",
    "    countrycolor='white',\n",
    "    landcolor='white',\n",
    "    showland=True,\n",
    "    projection_type='mercator'\n",
    ")\n",
    "\n",
    "fig.update_layout(\n",
    "    width=900,\n",
    "    height=600,\n",
    "    margin={'t': 80, 'r': 80, 'b': 50, 'l': 80},\n",
    "    title={\n",
    "        'text': \"Verandering in Persvrijheid en Conflict Rang (2019-2023)\",\n",
    "        'y':0.9,\n",
    "        'x':0.5,\n",
    "        'xanchor': 'center',\n",
    "        'yanchor': 'top'}\n",
    ")\n",
    "\n",
    "# Toon de figuur\n",
    "fig.show()\n",
    "\n",
    "print('Figuur 3')"
   ],
   "id": "bf43b7bfbc6307c0"
  },
  {
   "metadata": {},
   "cell_type": "markdown",
   "source": [
    "In figuur 3 is duidelijk te zien dat de wereldkaart voornamelijk verdeeld is in rood en oranje. Deze kleuren kunnen echter een vertekend beeld geven, zoals blijkt uit specifieke voorbeelden. Er zijn weinig landen die tussen 2019 en 2023 zowel een verbetering hebben meegemaakt in de conflictrang als in de persvrijheidsrang (groen). Ook zijn er weinig landen te vinden waarbij de conflictrang is gestegen en de persvrijheid is gedaald (geel). Australië en Mongolië zijn beide geel, maar hebben geen verandering in hun conflictstatus meegemaakt, alleen in persvrijheid. \n",
    "\n",
    "Een opvallend voorbeeld is Amerika, waar de conflict rangschikking met 112 punten is gedaald, terwijl de persvrijheid rangschikking slechts met 3 punten is verbeterd. Frankrijk toont een vergelijkbare trend met een afname van 102 punten op de  conflict rangschikking en een verbetering van 8 punten de persvrijheid rangschikking. In contrast hiermee zijn Israël, Palestina en Papoea-Nieuw-Guinea allemaal roodgekleurd, wat duidt op een aanzienlijke verslechtering van zowel de conflicten als de persvrijheid in deze gebieden.\n",
    "\n",
    "Deze gegevens versterken het argument dat naarmate het conflict escaleert, de persvrijheid nog meer verslechtert. Ondanks mogelijke verbeteringen in persvrijheid in sommige landen met een verslechterd conflict (zoals in Amerika en Frankrijk), blijft de algemene trend aangeven dat escalatie van conflicten vaak gepaard gaat met beperkingen op de journalistieke vrijheid.\n"
   ],
   "id": "7eec36adff6f5c38"
  }
 ],
 "metadata": {
  "kernelspec": {
   "display_name": "Python 3",
   "language": "python",
   "name": "python3"
  },
  "language_info": {
   "codemirror_mode": {
    "name": "ipython",
    "version": 2
   },
   "file_extension": ".py",
   "mimetype": "text/x-python",
   "name": "python",
   "nbconvert_exporter": "python",
   "pygments_lexer": "ipython2",
   "version": "2.7.6"
  }
 },
 "nbformat": 4,
 "nbformat_minor": 5
}
