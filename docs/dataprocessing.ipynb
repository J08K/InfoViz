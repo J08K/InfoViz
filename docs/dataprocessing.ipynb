{
 "cells": [
  {
   "metadata": {},
   "cell_type": "markdown",
   "source": [
    "# Dataset en verwerking\n",
    "\n",
    "Voor deze opdracht maken wij gebruik van drie verschillende datasets van verschillende bronnen. Deze worden in dit onderdeel beschreven en verwerkt. Ten slotte worden de datasets samengevoegd tot één dataset.\n",
    "\n",
    "Voor deze opdracht maken wij gebruik van de volgende datasets:\n",
    "- Persvrijheid dataset van Reporters Without Borders (RSF) (https://rsf.org/en/index) waarvan alleen data wordt gebruikt uit 2019 en 2023.\n",
    "- Democratie dataset van Our World In Data (https://ourworldindata.org/grapher/democracy-index-eiu) waarvan alleen data wordt gebruikt uit 2019 en 2023.\n",
    "- Conflict Index dataset van ACLED (https://acleddata.com/conflict-index/) hier is alleen data van 2019 en 2023 beschikbaar."
   ],
   "id": "efdcf943d77739c0"
  },
  {
   "metadata": {
    "ExecuteTime": {
     "end_time": "2024-06-25T13:35:58.537074Z",
     "start_time": "2024-06-25T13:35:57.732544Z"
    }
   },
   "cell_type": "code",
   "source": [
    "import pandas as pd\n",
    "\n",
    "import plotly.graph_objects as go\n",
    "from plotly.subplots import make_subplots\n",
    "from plotly.offline import init_notebook_mode\n",
    "import plotly.express as px\n",
    "\n",
    "import ipywidgets as widgets\n",
    "from ipywidgets import interact\n",
    "\n",
    "import numpy as np\n",
    "\n",
    "from IPython.display import display\n",
    "\n",
    "init_notebook_mode(connected=True)"
   ],
   "id": "2490f1df0247af35",
   "outputs": [
    {
     "data": {
      "text/html": [
       "        <script type=\"text/javascript\">\n",
       "        window.PlotlyConfig = {MathJaxConfig: 'local'};\n",
       "        if (window.MathJax && window.MathJax.Hub && window.MathJax.Hub.Config) {window.MathJax.Hub.Config({SVG: {font: \"STIX-Web\"}});}\n",
       "        if (typeof require !== 'undefined') {\n",
       "        require.undef(\"plotly\");\n",
       "        requirejs.config({\n",
       "            paths: {\n",
       "                'plotly': ['https://cdn.plot.ly/plotly-2.32.0.min']\n",
       "            }\n",
       "        });\n",
       "        require(['plotly'], function(Plotly) {\n",
       "            window._Plotly = Plotly;\n",
       "        });\n",
       "        }\n",
       "        </script>\n",
       "        "
      ]
     },
     "metadata": {},
     "output_type": "display_data"
    }
   ],
   "execution_count": 1
  },
  {
   "metadata": {},
   "cell_type": "markdown",
   "source": [
    "## Persvrijheid dataset\n",
    "\n",
    "Korte beschrijving van de dataset hier...\n",
    "\n",
    "### Persvrijheid Dataset Schoonmaken\n",
    "\n",
    "De persvrijheid dataset van 2019 verschilt met die van 2023, dus worden deze eerst apart ingeladen en schoongemaakt. Daarna worden deze samengevoegd."
   ],
   "id": "3be299d9e67f3b07"
  },
  {
   "metadata": {},
   "cell_type": "markdown",
   "source": [
    "#### 2019 Dataset\n",
    "\n",
    "Beschrijving over variabelen..."
   ],
   "id": "a374e4caa13db2c6"
  },
  {
   "metadata": {
    "ExecuteTime": {
     "end_time": "2024-06-25T13:41:01.184828Z",
     "start_time": "2024-06-25T13:41:01.155828Z"
    }
   },
   "cell_type": "code",
   "source": [
    "pers_vrijheid_oud = pd.read_csv('./data/persvrijheid/2019.csv', sep=';')\n",
    "\n",
    "# Hernoemen van kolommen om deze makkelijker te kunnen gebruiken.\n",
    "pers_vrijheid_oud = pers_vrijheid_oud.rename(\n",
    "    columns={\n",
    "        \"Year (N)\": \"jaar\",\n",
    "        \"ISO\": \"iso\",\n",
    "        \"EN_country\": \"land\",\n",
    "        \"Rank N\": \"rang\",\n",
    "        \"Score N\": \"score\",\n",
    "    })\n",
    "\n",
    "# Verwijderen van onnodige kolommen.\n",
    "pers_vrijheid_oud = pers_vrijheid_oud.drop(columns=[\n",
    "    \"Score N without the exactions\",\n",
    "    \"Score N with the exactions\",\n",
    "    \"Rank N-1\",\n",
    "    \"Rank evolution\",\n",
    "    \"Score exactions\",\n",
    "    \"Score N-1\",\n",
    "    \"Zone\", # De data uit deze kolom is niet door alle jaren heen hetzelfde, dus deze wordt verwijderd.\n",
    "])\n",
    "\n",
    "# Verwijder kolommen met buitenlandse namen van landen.\n",
    "pers_vrijheid_oud = pers_vrijheid_oud.drop(columns=[\n",
    "    col\n",
    "    for col in pers_vrijheid_oud.columns\n",
    "    if \"country\" in col.lower() and col != \"country\"\n",
    "])\n",
    "\n",
    "display(pers_vrijheid_oud.head())"
   ],
   "id": "a19b0066f2546000",
   "outputs": [
    {
     "data": {
      "text/plain": [
       "   jaar  iso  rang  score         land\n",
       "0  2019  NOR     1  92,18       Norway\n",
       "1  2019  FIN     2   92,1      Finland\n",
       "2  2019  SWE     3  91,69       Sweden\n",
       "3  2019  NLD     4  91,37  Netherlands\n",
       "4  2019  DNK     5  90,13      Denmark"
      ],
      "text/html": [
       "<div>\n",
       "<style scoped>\n",
       "    .dataframe tbody tr th:only-of-type {\n",
       "        vertical-align: middle;\n",
       "    }\n",
       "\n",
       "    .dataframe tbody tr th {\n",
       "        vertical-align: top;\n",
       "    }\n",
       "\n",
       "    .dataframe thead th {\n",
       "        text-align: right;\n",
       "    }\n",
       "</style>\n",
       "<table border=\"1\" class=\"dataframe\">\n",
       "  <thead>\n",
       "    <tr style=\"text-align: right;\">\n",
       "      <th></th>\n",
       "      <th>jaar</th>\n",
       "      <th>iso</th>\n",
       "      <th>rang</th>\n",
       "      <th>score</th>\n",
       "      <th>land</th>\n",
       "    </tr>\n",
       "  </thead>\n",
       "  <tbody>\n",
       "    <tr>\n",
       "      <th>0</th>\n",
       "      <td>2019</td>\n",
       "      <td>NOR</td>\n",
       "      <td>1</td>\n",
       "      <td>92,18</td>\n",
       "      <td>Norway</td>\n",
       "    </tr>\n",
       "    <tr>\n",
       "      <th>1</th>\n",
       "      <td>2019</td>\n",
       "      <td>FIN</td>\n",
       "      <td>2</td>\n",
       "      <td>92,1</td>\n",
       "      <td>Finland</td>\n",
       "    </tr>\n",
       "    <tr>\n",
       "      <th>2</th>\n",
       "      <td>2019</td>\n",
       "      <td>SWE</td>\n",
       "      <td>3</td>\n",
       "      <td>91,69</td>\n",
       "      <td>Sweden</td>\n",
       "    </tr>\n",
       "    <tr>\n",
       "      <th>3</th>\n",
       "      <td>2019</td>\n",
       "      <td>NLD</td>\n",
       "      <td>4</td>\n",
       "      <td>91,37</td>\n",
       "      <td>Netherlands</td>\n",
       "    </tr>\n",
       "    <tr>\n",
       "      <th>4</th>\n",
       "      <td>2019</td>\n",
       "      <td>DNK</td>\n",
       "      <td>5</td>\n",
       "      <td>90,13</td>\n",
       "      <td>Denmark</td>\n",
       "    </tr>\n",
       "  </tbody>\n",
       "</table>\n",
       "</div>"
      ]
     },
     "metadata": {},
     "output_type": "display_data"
    }
   ],
   "execution_count": 2
  }
 ],
 "metadata": {
  "kernelspec": {
   "display_name": "Python 3",
   "language": "python",
   "name": "python3"
  },
  "language_info": {
   "codemirror_mode": {
    "name": "ipython",
    "version": 2
   },
   "file_extension": ".py",
   "mimetype": "text/x-python",
   "name": "python",
   "nbconvert_exporter": "python",
   "pygments_lexer": "ipython2",
   "version": "2.7.6"
  }
 },
 "nbformat": 4,
 "nbformat_minor": 5
}
